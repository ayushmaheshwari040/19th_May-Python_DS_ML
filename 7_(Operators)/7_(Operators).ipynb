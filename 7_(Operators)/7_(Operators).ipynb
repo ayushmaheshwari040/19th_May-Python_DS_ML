{
 "cells": [
  {
   "cell_type": "markdown",
   "id": "cbee21ea-d64f-4b52-9b1a-8d4cc6d085be",
   "metadata": {},
   "source": [
    "# Operators\n",
    "\n",
    "            operators are special symbol\n",
    "            we can perform mathematical and logical opeations on data values with the help of operators"
   ]
  },
  {
   "cell_type": "code",
   "execution_count": null,
   "id": "e941097f-d45c-4c68-8632-76007b3402cc",
   "metadata": {},
   "outputs": [],
   "source": []
  },
  {
   "cell_type": "markdown",
   "id": "c2b3eaa4-6dc5-468b-a12b-b65bbeeddcdd",
   "metadata": {},
   "source": [
    "### Types of operators\n",
    "- Arthmetical Operators\n",
    "- Comparison Operators\n",
    "- Assignment Operators\n",
    "- Logical Operators\n",
    "- Membership Operators\n",
    "- Identity Operators\n",
    "- Bitwise Operators"
   ]
  },
  {
   "cell_type": "code",
   "execution_count": null,
   "id": "ad0e4233-4bb8-4946-b711-d6533b2a22b2",
   "metadata": {},
   "outputs": [],
   "source": []
  },
  {
   "cell_type": "markdown",
   "id": "d971e668-5dc1-4957-8508-543e482c40c3",
   "metadata": {},
   "source": [
    "### 1. Arithmetical Operator\n",
    "\n",
    "                +  -  *  /  // ** %"
   ]
  },
  {
   "cell_type": "code",
   "execution_count": 1,
   "id": "456e61c7-0390-44ce-a0a6-9a75c35bf899",
   "metadata": {},
   "outputs": [],
   "source": [
    "a = 10\n",
    "b = 20"
   ]
  },
  {
   "cell_type": "code",
   "execution_count": 2,
   "id": "d4851e48-6ab2-42a5-a099-791335c1e6af",
   "metadata": {},
   "outputs": [
    {
     "name": "stdout",
     "output_type": "stream",
     "text": [
      "Addition of 10 + 20 = 30\n",
      "Subtraction of 10 - 20 = -10\n",
      "Multiplication of 10 * 20 = 200\n"
     ]
    }
   ],
   "source": [
    "print(f\"Addition of {a} + {b} = {a+b}\")\n",
    "print(f\"Subtraction of {a} - {b} = {a-b}\")\n",
    "print(f\"Multiplication of {a} * {b} = {a*b}\")"
   ]
  },
  {
   "cell_type": "code",
   "execution_count": null,
   "id": "0222418e-c959-4efe-89e4-015e6aa3ef81",
   "metadata": {},
   "outputs": [],
   "source": []
  },
  {
   "cell_type": "code",
   "execution_count": 3,
   "id": "0248afc6-f538-413d-9eee-908956a06740",
   "metadata": {},
   "outputs": [
    {
     "data": {
      "text/plain": [
       "0.5"
      ]
     },
     "execution_count": 3,
     "metadata": {},
     "output_type": "execute_result"
    }
   ],
   "source": [
    "a / b"
   ]
  },
  {
   "cell_type": "code",
   "execution_count": 4,
   "id": "931d5463-59ff-4ed3-aeda-5704276018aa",
   "metadata": {},
   "outputs": [
    {
     "data": {
      "text/plain": [
       "2.0"
      ]
     },
     "execution_count": 4,
     "metadata": {},
     "output_type": "execute_result"
    }
   ],
   "source": [
    "b / a"
   ]
  },
  {
   "cell_type": "code",
   "execution_count": 5,
   "id": "1381064c-4609-44fc-a17f-3eda80581903",
   "metadata": {},
   "outputs": [
    {
     "data": {
      "text/plain": [
       "2.0"
      ]
     },
     "execution_count": 5,
     "metadata": {},
     "output_type": "execute_result"
    }
   ],
   "source": [
    "20 / 10"
   ]
  },
  {
   "cell_type": "code",
   "execution_count": null,
   "id": "48f5c005-661e-4143-b707-36e34838bd79",
   "metadata": {},
   "outputs": [],
   "source": []
  },
  {
   "cell_type": "code",
   "execution_count": 6,
   "id": "8a05c900-7b68-44fd-b6f3-6078901519a8",
   "metadata": {},
   "outputs": [
    {
     "data": {
      "text/plain": [
       "6.666666666666667"
      ]
     },
     "execution_count": 6,
     "metadata": {},
     "output_type": "execute_result"
    }
   ],
   "source": [
    "20 / 3"
   ]
  },
  {
   "cell_type": "code",
   "execution_count": 7,
   "id": "0ebf8a4b-3e69-4fe7-8da4-6d1a9fdb0d79",
   "metadata": {},
   "outputs": [
    {
     "data": {
      "text/plain": [
       "6"
      ]
     },
     "execution_count": 7,
     "metadata": {},
     "output_type": "execute_result"
    }
   ],
   "source": [
    "20 // 3"
   ]
  },
  {
   "cell_type": "code",
   "execution_count": null,
   "id": "ed127421-1934-4ae9-bd1b-426c54350323",
   "metadata": {},
   "outputs": [],
   "source": []
  },
  {
   "cell_type": "code",
   "execution_count": 8,
   "id": "285391fa-c82a-40e5-8758-89c0d6e170c9",
   "metadata": {},
   "outputs": [
    {
     "data": {
      "text/plain": [
       "2"
      ]
     },
     "execution_count": 8,
     "metadata": {},
     "output_type": "execute_result"
    }
   ],
   "source": [
    "20 % 3"
   ]
  },
  {
   "cell_type": "code",
   "execution_count": 9,
   "id": "e15e9bc3-4622-4077-a26a-531b2836398c",
   "metadata": {},
   "outputs": [
    {
     "data": {
      "text/plain": [
       "1"
      ]
     },
     "execution_count": 9,
     "metadata": {},
     "output_type": "execute_result"
    }
   ],
   "source": [
    "1 % 5"
   ]
  },
  {
   "cell_type": "code",
   "execution_count": null,
   "id": "3b9ff982-c067-4800-81a8-9a173af7c372",
   "metadata": {},
   "outputs": [],
   "source": []
  },
  {
   "cell_type": "code",
   "execution_count": 10,
   "id": "78cdac90-df9c-4651-bf0a-6ea605610388",
   "metadata": {},
   "outputs": [
    {
     "data": {
      "text/plain": [
       "0"
      ]
     },
     "execution_count": 10,
     "metadata": {},
     "output_type": "execute_result"
    }
   ],
   "source": [
    "20 % 2"
   ]
  },
  {
   "cell_type": "code",
   "execution_count": 11,
   "id": "542d8605-5065-45c4-a820-67e511d5063d",
   "metadata": {},
   "outputs": [],
   "source": [
    "a = 2\n",
    "b = 5"
   ]
  },
  {
   "cell_type": "code",
   "execution_count": 12,
   "id": "30c14461-21e3-4d3e-b19a-6d94bbe23e31",
   "metadata": {},
   "outputs": [
    {
     "data": {
      "text/plain": [
       "32"
      ]
     },
     "execution_count": 12,
     "metadata": {},
     "output_type": "execute_result"
    }
   ],
   "source": [
    "a ** b"
   ]
  },
  {
   "cell_type": "code",
   "execution_count": 13,
   "id": "53f99673-d060-4f83-8f40-9b7850c68039",
   "metadata": {},
   "outputs": [
    {
     "data": {
      "text/plain": [
       "4"
      ]
     },
     "execution_count": 13,
     "metadata": {},
     "output_type": "execute_result"
    }
   ],
   "source": [
    "2 ** 2"
   ]
  },
  {
   "cell_type": "code",
   "execution_count": 14,
   "id": "4cb4e35a-46e9-4cbc-b312-7e5f9b812ccd",
   "metadata": {},
   "outputs": [
    {
     "data": {
      "text/plain": [
       "8"
      ]
     },
     "execution_count": 14,
     "metadata": {},
     "output_type": "execute_result"
    }
   ],
   "source": [
    "a ** 3"
   ]
  },
  {
   "cell_type": "code",
   "execution_count": 15,
   "id": "ce6d851f-7d43-4389-8603-24ccc6686537",
   "metadata": {},
   "outputs": [
    {
     "data": {
      "text/plain": [
       "27"
      ]
     },
     "execution_count": 15,
     "metadata": {},
     "output_type": "execute_result"
    }
   ],
   "source": [
    "3 ** 3"
   ]
  },
  {
   "cell_type": "code",
   "execution_count": null,
   "id": "0235f8a4-18d4-4984-bb6d-51c1240909cd",
   "metadata": {},
   "outputs": [],
   "source": []
  },
  {
   "cell_type": "markdown",
   "id": "e2c86a7f-c4cc-4079-89db-dff881051727",
   "metadata": {},
   "source": [
    "    from math import sqrt"
   ]
  },
  {
   "cell_type": "code",
   "execution_count": null,
   "id": "5dbd73d3-038b-4dfc-b3c6-ce8743f2168f",
   "metadata": {},
   "outputs": [],
   "source": []
  },
  {
   "cell_type": "code",
   "execution_count": 16,
   "id": "f9740c80-1a90-4cd7-91da-44bf562197d6",
   "metadata": {},
   "outputs": [
    {
     "data": {
      "text/plain": [
       "19.0"
      ]
     },
     "execution_count": 16,
     "metadata": {},
     "output_type": "execute_result"
    }
   ],
   "source": [
    "10-3/3+5*2"
   ]
  },
  {
   "cell_type": "code",
   "execution_count": 17,
   "id": "23ea92ce-be0a-4188-9003-d73ec17bb7c2",
   "metadata": {},
   "outputs": [
    {
     "data": {
      "text/plain": [
       "1.0"
      ]
     },
     "execution_count": 17,
     "metadata": {},
     "output_type": "execute_result"
    }
   ],
   "source": [
    "3/3"
   ]
  },
  {
   "cell_type": "code",
   "execution_count": 19,
   "id": "91456bce-9a84-46de-91a4-f6bc792db20f",
   "metadata": {},
   "outputs": [
    {
     "data": {
      "text/plain": [
       "7.5"
      ]
     },
     "execution_count": 19,
     "metadata": {},
     "output_type": "execute_result"
    }
   ],
   "source": [
    "20-5*(3+4/2*3)/2+10"
   ]
  },
  {
   "cell_type": "code",
   "execution_count": null,
   "id": "44d6e468-beda-497e-88ff-af4f2e959ff0",
   "metadata": {},
   "outputs": [],
   "source": [
    "20-5*9.0/2+10"
   ]
  },
  {
   "cell_type": "code",
   "execution_count": null,
   "id": "633b291c-897c-469b-a4d5-9b07bd41f2e5",
   "metadata": {},
   "outputs": [],
   "source": [
    "20-45.0/2+10"
   ]
  },
  {
   "cell_type": "code",
   "execution_count": 18,
   "id": "e008012b-3ab0-4a1a-9d0e-eb66e0d811f6",
   "metadata": {},
   "outputs": [
    {
     "data": {
      "text/plain": [
       "7.5"
      ]
     },
     "execution_count": 18,
     "metadata": {},
     "output_type": "execute_result"
    }
   ],
   "source": [
    "20-22.5+10"
   ]
  },
  {
   "cell_type": "code",
   "execution_count": null,
   "id": "831dab7b-0818-4c85-bc47-b33e48a5680d",
   "metadata": {},
   "outputs": [],
   "source": []
  },
  {
   "cell_type": "code",
   "execution_count": 20,
   "id": "23a04fc9-7c65-419b-90d1-0d99b7b7644d",
   "metadata": {},
   "outputs": [
    {
     "data": {
      "text/plain": [
       "4"
      ]
     },
     "execution_count": 20,
     "metadata": {},
     "output_type": "execute_result"
    }
   ],
   "source": [
    "2**2"
   ]
  },
  {
   "cell_type": "code",
   "execution_count": 1,
   "id": "07020376-52f4-49f2-85b1-8048c35f8502",
   "metadata": {},
   "outputs": [
    {
     "data": {
      "text/plain": [
       "256"
      ]
     },
     "execution_count": 1,
     "metadata": {},
     "output_type": "execute_result"
    }
   ],
   "source": [
    "2**2**3             # it evaluates from right to left --->  2**3=8 then 2**8=256"
   ]
  },
  {
   "cell_type": "code",
   "execution_count": 21,
   "id": "64076ebc-843b-474f-bdff-047f5da9e9b9",
   "metadata": {},
   "outputs": [
    {
     "data": {
      "text/plain": [
       "256"
      ]
     },
     "execution_count": 21,
     "metadata": {},
     "output_type": "execute_result"
    }
   ],
   "source": [
    "2**8"
   ]
  },
  {
   "cell_type": "code",
   "execution_count": null,
   "id": "f1fd397b-2adf-47a6-ae91-b49b1b6ee3b8",
   "metadata": {},
   "outputs": [],
   "source": []
  },
  {
   "cell_type": "markdown",
   "id": "78767988-ce98-498d-af22-b7bc2d650d9f",
   "metadata": {},
   "source": [
    "### 2. Comparison Operator\n",
    "\n",
    "            <  >  <=  >=  ==  !="
   ]
  },
  {
   "cell_type": "code",
   "execution_count": 23,
   "id": "10f6a116-30d2-4fc8-a028-e9f74ac7b0b8",
   "metadata": {},
   "outputs": [],
   "source": [
    "a =  3\n",
    "b = 4"
   ]
  },
  {
   "cell_type": "code",
   "execution_count": 24,
   "id": "3283ae96-c4e1-4aff-bfa9-caea5988d8d0",
   "metadata": {},
   "outputs": [
    {
     "data": {
      "text/plain": [
       "True"
      ]
     },
     "execution_count": 24,
     "metadata": {},
     "output_type": "execute_result"
    }
   ],
   "source": [
    "a < b"
   ]
  },
  {
   "cell_type": "code",
   "execution_count": 25,
   "id": "8c72703e-8777-42aa-a5c5-773924f10bbd",
   "metadata": {},
   "outputs": [
    {
     "data": {
      "text/plain": [
       "False"
      ]
     },
     "execution_count": 25,
     "metadata": {},
     "output_type": "execute_result"
    }
   ],
   "source": [
    "a > b"
   ]
  },
  {
   "cell_type": "code",
   "execution_count": 26,
   "id": "6b679fb0-4411-496b-bed1-89c297df0b87",
   "metadata": {},
   "outputs": [
    {
     "data": {
      "text/plain": [
       "False"
      ]
     },
     "execution_count": 26,
     "metadata": {},
     "output_type": "execute_result"
    }
   ],
   "source": [
    "a == b"
   ]
  },
  {
   "cell_type": "code",
   "execution_count": 27,
   "id": "eff8fb14-3994-415e-a039-848d8b93a95d",
   "metadata": {},
   "outputs": [
    {
     "data": {
      "text/plain": [
       "True"
      ]
     },
     "execution_count": 27,
     "metadata": {},
     "output_type": "execute_result"
    }
   ],
   "source": [
    "a != b"
   ]
  },
  {
   "cell_type": "code",
   "execution_count": 28,
   "id": "c740f5ea-893e-4782-a90c-34d2c85a7acf",
   "metadata": {},
   "outputs": [
    {
     "data": {
      "text/plain": [
       "3"
      ]
     },
     "execution_count": 28,
     "metadata": {},
     "output_type": "execute_result"
    }
   ],
   "source": [
    "a"
   ]
  },
  {
   "cell_type": "code",
   "execution_count": 29,
   "id": "933b3694-6117-4a94-9609-ed0c609471a1",
   "metadata": {},
   "outputs": [
    {
     "data": {
      "text/plain": [
       "4"
      ]
     },
     "execution_count": 29,
     "metadata": {},
     "output_type": "execute_result"
    }
   ],
   "source": [
    "b"
   ]
  },
  {
   "cell_type": "code",
   "execution_count": 30,
   "id": "cf52e2f4-bb17-4f0f-9e5d-60ddc6fbdf97",
   "metadata": {},
   "outputs": [
    {
     "data": {
      "text/plain": [
       "True"
      ]
     },
     "execution_count": 30,
     "metadata": {},
     "output_type": "execute_result"
    }
   ],
   "source": [
    "a <= b"
   ]
  },
  {
   "cell_type": "code",
   "execution_count": 31,
   "id": "30ea8cc5-ea28-4524-9cf4-ce1d16222aa4",
   "metadata": {},
   "outputs": [
    {
     "data": {
      "text/plain": [
       "False"
      ]
     },
     "execution_count": 31,
     "metadata": {},
     "output_type": "execute_result"
    }
   ],
   "source": [
    "a >= b"
   ]
  },
  {
   "cell_type": "code",
   "execution_count": null,
   "id": "d3ef3b90-6273-4f58-b644-144dcda90d73",
   "metadata": {},
   "outputs": [],
   "source": []
  },
  {
   "cell_type": "markdown",
   "id": "39d2d546-e1b9-437a-9663-65a9decf3eab",
   "metadata": {},
   "source": [
    "### 3. Assignment Operators\n",
    "\n",
    "                        =   +=   -=   *=   /="
   ]
  },
  {
   "cell_type": "code",
   "execution_count": null,
   "id": "ab356c2a-0fb7-4457-bee5-01f04b1410ca",
   "metadata": {},
   "outputs": [],
   "source": []
  },
  {
   "cell_type": "code",
   "execution_count": 32,
   "id": "d8a38681-2a05-4c82-8f58-8de27b89cf45",
   "metadata": {},
   "outputs": [
    {
     "data": {
      "text/plain": [
       "100"
      ]
     },
     "execution_count": 32,
     "metadata": {},
     "output_type": "execute_result"
    }
   ],
   "source": [
    "100"
   ]
  },
  {
   "cell_type": "code",
   "execution_count": 33,
   "id": "b4b5e896-2ac9-436f-8f20-66d4c5b125a3",
   "metadata": {},
   "outputs": [],
   "source": [
    "v = 100"
   ]
  },
  {
   "cell_type": "code",
   "execution_count": 34,
   "id": "61ddc2da-441a-41c5-83dd-6a5704ec509f",
   "metadata": {},
   "outputs": [
    {
     "data": {
      "text/plain": [
       "100"
      ]
     },
     "execution_count": 34,
     "metadata": {},
     "output_type": "execute_result"
    }
   ],
   "source": [
    "v"
   ]
  },
  {
   "cell_type": "code",
   "execution_count": null,
   "id": "a068125d-2f5e-46dd-9d95-1dc63c35d18b",
   "metadata": {},
   "outputs": [],
   "source": []
  },
  {
   "cell_type": "code",
   "execution_count": 35,
   "id": "f70b50a1-c050-4166-b6f7-9290cd4f053b",
   "metadata": {},
   "outputs": [
    {
     "data": {
      "text/plain": [
       "3"
      ]
     },
     "execution_count": 35,
     "metadata": {},
     "output_type": "execute_result"
    }
   ],
   "source": [
    "a"
   ]
  },
  {
   "cell_type": "code",
   "execution_count": 36,
   "id": "cdf47e8e-c62a-46bc-97c7-09d58427c026",
   "metadata": {},
   "outputs": [
    {
     "data": {
      "text/plain": [
       "4"
      ]
     },
     "execution_count": 36,
     "metadata": {},
     "output_type": "execute_result"
    }
   ],
   "source": [
    "b"
   ]
  },
  {
   "cell_type": "code",
   "execution_count": 37,
   "id": "c90000c8-b095-4acd-aeae-1dd8b6e50388",
   "metadata": {},
   "outputs": [],
   "source": [
    "a += b"
   ]
  },
  {
   "cell_type": "code",
   "execution_count": 38,
   "id": "a64e5d07-e70d-4e3e-80b7-a1a7b8dc0a5d",
   "metadata": {},
   "outputs": [
    {
     "data": {
      "text/plain": [
       "7"
      ]
     },
     "execution_count": 38,
     "metadata": {},
     "output_type": "execute_result"
    }
   ],
   "source": [
    "a"
   ]
  },
  {
   "cell_type": "code",
   "execution_count": 39,
   "id": "8af8ec23-cbb3-4623-9094-4987d3550e69",
   "metadata": {},
   "outputs": [
    {
     "data": {
      "text/plain": [
       "4"
      ]
     },
     "execution_count": 39,
     "metadata": {},
     "output_type": "execute_result"
    }
   ],
   "source": [
    "b"
   ]
  },
  {
   "cell_type": "code",
   "execution_count": null,
   "id": "1e9c5e3f-7961-432e-8422-63cab9610835",
   "metadata": {},
   "outputs": [],
   "source": []
  },
  {
   "cell_type": "code",
   "execution_count": 40,
   "id": "5b478dd7-8521-4dfa-9d4a-415f41330f96",
   "metadata": {},
   "outputs": [],
   "source": [
    "a = a + b"
   ]
  },
  {
   "cell_type": "code",
   "execution_count": 41,
   "id": "9c440238-d198-4945-a4e1-216ba3cc2fa9",
   "metadata": {},
   "outputs": [
    {
     "data": {
      "text/plain": [
       "11"
      ]
     },
     "execution_count": 41,
     "metadata": {},
     "output_type": "execute_result"
    }
   ],
   "source": [
    "a"
   ]
  },
  {
   "cell_type": "code",
   "execution_count": 42,
   "id": "559db22f-a750-44b9-9746-cf62e877889c",
   "metadata": {},
   "outputs": [
    {
     "data": {
      "text/plain": [
       "4"
      ]
     },
     "execution_count": 42,
     "metadata": {},
     "output_type": "execute_result"
    }
   ],
   "source": [
    "b"
   ]
  },
  {
   "cell_type": "code",
   "execution_count": 43,
   "id": "2fafabb5-3b20-4ea5-a297-3212f893e3a2",
   "metadata": {},
   "outputs": [],
   "source": [
    "a -= b"
   ]
  },
  {
   "cell_type": "code",
   "execution_count": 44,
   "id": "8804eb6c-d2d3-475f-9020-5aabb19f8f44",
   "metadata": {},
   "outputs": [
    {
     "data": {
      "text/plain": [
       "7"
      ]
     },
     "execution_count": 44,
     "metadata": {},
     "output_type": "execute_result"
    }
   ],
   "source": [
    "a"
   ]
  },
  {
   "cell_type": "code",
   "execution_count": 45,
   "id": "2353112f-51ae-42e5-bfb9-3c8081521410",
   "metadata": {},
   "outputs": [
    {
     "data": {
      "text/plain": [
       "4"
      ]
     },
     "execution_count": 45,
     "metadata": {},
     "output_type": "execute_result"
    }
   ],
   "source": [
    "b"
   ]
  },
  {
   "cell_type": "code",
   "execution_count": 46,
   "id": "616676a3-c165-46f3-a98c-632a601dba98",
   "metadata": {},
   "outputs": [],
   "source": [
    "b += 20"
   ]
  },
  {
   "cell_type": "code",
   "execution_count": 47,
   "id": "22b004d3-4009-448f-adc7-e20a89cbc311",
   "metadata": {},
   "outputs": [
    {
     "data": {
      "text/plain": [
       "24"
      ]
     },
     "execution_count": 47,
     "metadata": {},
     "output_type": "execute_result"
    }
   ],
   "source": [
    "b"
   ]
  },
  {
   "cell_type": "code",
   "execution_count": 48,
   "id": "4f18103b-19c6-4887-9535-29b1940da7ed",
   "metadata": {},
   "outputs": [
    {
     "data": {
      "text/plain": [
       "7"
      ]
     },
     "execution_count": 48,
     "metadata": {},
     "output_type": "execute_result"
    }
   ],
   "source": [
    "a"
   ]
  },
  {
   "cell_type": "code",
   "execution_count": 49,
   "id": "2f9e28ff-fcd9-442b-95f4-5694ab0eb6b1",
   "metadata": {},
   "outputs": [],
   "source": [
    "a *= 2"
   ]
  },
  {
   "cell_type": "code",
   "execution_count": 50,
   "id": "2ce8b3bc-74ae-4933-9a92-8cfbfae22f06",
   "metadata": {},
   "outputs": [
    {
     "data": {
      "text/plain": [
       "14"
      ]
     },
     "execution_count": 50,
     "metadata": {},
     "output_type": "execute_result"
    }
   ],
   "source": [
    "a"
   ]
  },
  {
   "cell_type": "code",
   "execution_count": 51,
   "id": "327a7d78-4521-4e7e-82ca-31f93f4b8d41",
   "metadata": {},
   "outputs": [
    {
     "data": {
      "text/plain": [
       "14"
      ]
     },
     "execution_count": 51,
     "metadata": {},
     "output_type": "execute_result"
    }
   ],
   "source": [
    "a"
   ]
  },
  {
   "cell_type": "code",
   "execution_count": 52,
   "id": "a021d95b-b7c6-400e-b300-1c27d65c2c85",
   "metadata": {},
   "outputs": [
    {
     "data": {
      "text/plain": [
       "24"
      ]
     },
     "execution_count": 52,
     "metadata": {},
     "output_type": "execute_result"
    }
   ],
   "source": [
    "b"
   ]
  },
  {
   "cell_type": "code",
   "execution_count": null,
   "id": "8eda7f73-58e5-42f3-bf30-833ffc7d9286",
   "metadata": {},
   "outputs": [],
   "source": []
  },
  {
   "cell_type": "markdown",
   "id": "4e52f4f2-fd65-4211-a9a9-c84381181c74",
   "metadata": {},
   "source": [
    "### 4. Logical Operators\n",
    "\n",
    "                    1. Logical and\n",
    "                    2. Logical or\n",
    "                    3. Logical not"
   ]
  },
  {
   "cell_type": "code",
   "execution_count": null,
   "id": "6e691ec9-3477-4bca-9bba-555351b61a19",
   "metadata": {},
   "outputs": [],
   "source": []
  },
  {
   "cell_type": "code",
   "execution_count": null,
   "id": "6ef80416-4a34-472f-ad2b-1608410f1c8f",
   "metadata": {},
   "outputs": [],
   "source": []
  },
  {
   "cell_type": "code",
   "execution_count": null,
   "id": "186292a1-996d-416c-b912-ea4a6b875f0d",
   "metadata": {},
   "outputs": [],
   "source": []
  },
  {
   "cell_type": "code",
   "execution_count": null,
   "id": "d9483ebe-7a8c-4949-95c5-b56a1202ce62",
   "metadata": {},
   "outputs": [],
   "source": [
    "'-'.join('There can be only one.'.split()) "
   ]
  },
  {
   "cell_type": "code",
   "execution_count": 56,
   "id": "7f4c9ae3-b5e3-41f4-9a80-89f77debd199",
   "metadata": {},
   "outputs": [
    {
     "data": {
      "text/plain": [
       "'There can be only one.'"
      ]
     },
     "execution_count": 56,
     "metadata": {},
     "output_type": "execute_result"
    }
   ],
   "source": [
    "' '.join('There can be only one.'.split())"
   ]
  },
  {
   "cell_type": "code",
   "execution_count": null,
   "id": "0a6fae3d-f208-424b-a2c9-02bdcdba692b",
   "metadata": {},
   "outputs": [],
   "source": []
  },
  {
   "cell_type": "code",
   "execution_count": 57,
   "id": "3ad7471f-794e-4854-b600-2a68137728bb",
   "metadata": {},
   "outputs": [
    {
     "data": {
      "text/plain": [
       "True"
      ]
     },
     "execution_count": 57,
     "metadata": {},
     "output_type": "execute_result"
    }
   ],
   "source": [
    "\"Aman\" == 'Aman'"
   ]
  },
  {
   "cell_type": "code",
   "execution_count": null,
   "id": "dcea9fb7-f34e-4e2a-81fd-c4d20afa441b",
   "metadata": {},
   "outputs": [],
   "source": []
  },
  {
   "cell_type": "code",
   "execution_count": 1,
   "id": "a5ac6a08-fac5-4165-8049-fc4c27f93193",
   "metadata": {},
   "outputs": [],
   "source": [
    "a = 10\n",
    "b = 23\n",
    "c = 10"
   ]
  },
  {
   "cell_type": "code",
   "execution_count": 2,
   "id": "c37c5365-d64e-4488-a2eb-98793e50e2f0",
   "metadata": {},
   "outputs": [
    {
     "data": {
      "text/plain": [
       "10"
      ]
     },
     "execution_count": 2,
     "metadata": {},
     "output_type": "execute_result"
    }
   ],
   "source": [
    "a"
   ]
  },
  {
   "cell_type": "code",
   "execution_count": 3,
   "id": "8c0061e9-6725-46ce-ba59-dab5d3a555ab",
   "metadata": {},
   "outputs": [
    {
     "data": {
      "text/plain": [
       "23"
      ]
     },
     "execution_count": 3,
     "metadata": {},
     "output_type": "execute_result"
    }
   ],
   "source": [
    "b"
   ]
  },
  {
   "cell_type": "code",
   "execution_count": 4,
   "id": "8f21d822-ef8b-4465-b5d8-5eca0813e8ff",
   "metadata": {},
   "outputs": [
    {
     "data": {
      "text/plain": [
       "10"
      ]
     },
     "execution_count": 4,
     "metadata": {},
     "output_type": "execute_result"
    }
   ],
   "source": [
    "c"
   ]
  },
  {
   "cell_type": "code",
   "execution_count": null,
   "id": "21a2d120-54ba-4b14-861b-9df1aa6f70b1",
   "metadata": {},
   "outputs": [],
   "source": []
  },
  {
   "cell_type": "code",
   "execution_count": 6,
   "id": "502e60ac-1f01-42eb-a39a-12263227fa26",
   "metadata": {},
   "outputs": [
    {
     "data": {
      "text/plain": [
       "False"
      ]
     },
     "execution_count": 6,
     "metadata": {},
     "output_type": "execute_result"
    }
   ],
   "source": [
    "a < b and a > c"
   ]
  },
  {
   "cell_type": "code",
   "execution_count": 7,
   "id": "6be26233-c664-45af-a4a6-555313dea480",
   "metadata": {},
   "outputs": [
    {
     "data": {
      "text/plain": [
       "True"
      ]
     },
     "execution_count": 7,
     "metadata": {},
     "output_type": "execute_result"
    }
   ],
   "source": [
    "a == c or a > b"
   ]
  },
  {
   "cell_type": "code",
   "execution_count": 10,
   "id": "42340231-c9d3-476a-a58f-1b35fbe5d10b",
   "metadata": {},
   "outputs": [
    {
     "data": {
      "text/plain": [
       "False"
      ]
     },
     "execution_count": 10,
     "metadata": {},
     "output_type": "execute_result"
    }
   ],
   "source": [
    "not(a == c) or a > b"
   ]
  },
  {
   "cell_type": "code",
   "execution_count": 14,
   "id": "4e63e68e-85ec-4366-a2d5-5356e2f9b552",
   "metadata": {},
   "outputs": [
    {
     "data": {
      "text/plain": [
       "False"
      ]
     },
     "execution_count": 14,
     "metadata": {},
     "output_type": "execute_result"
    }
   ],
   "source": [
    "not(a == c or a > b)"
   ]
  },
  {
   "cell_type": "code",
   "execution_count": 11,
   "id": "b0cd827c-c919-46a7-a5eb-58c6e79b730c",
   "metadata": {},
   "outputs": [
    {
     "data": {
      "text/plain": [
       "10"
      ]
     },
     "execution_count": 11,
     "metadata": {},
     "output_type": "execute_result"
    }
   ],
   "source": [
    "a"
   ]
  },
  {
   "cell_type": "code",
   "execution_count": 12,
   "id": "a5b8c47d-2aed-4bb3-bc67-c27ce1113e08",
   "metadata": {},
   "outputs": [
    {
     "data": {
      "text/plain": [
       "23"
      ]
     },
     "execution_count": 12,
     "metadata": {},
     "output_type": "execute_result"
    }
   ],
   "source": [
    "b"
   ]
  },
  {
   "cell_type": "code",
   "execution_count": 13,
   "id": "065e15a9-5c78-410d-987f-d148bcc3363b",
   "metadata": {},
   "outputs": [
    {
     "data": {
      "text/plain": [
       "10"
      ]
     },
     "execution_count": 13,
     "metadata": {},
     "output_type": "execute_result"
    }
   ],
   "source": [
    "c"
   ]
  },
  {
   "cell_type": "code",
   "execution_count": 16,
   "id": "118bcf23-439c-41b6-9f6d-4c1222ab2713",
   "metadata": {},
   "outputs": [
    {
     "data": {
      "text/plain": [
       "False"
      ]
     },
     "execution_count": 16,
     "metadata": {},
     "output_type": "execute_result"
    }
   ],
   "source": [
    "a < b and a > c"
   ]
  },
  {
   "cell_type": "code",
   "execution_count": 15,
   "id": "aa054e3a-a365-4a51-9bd5-d2db7dc6e5d6",
   "metadata": {},
   "outputs": [
    {
     "data": {
      "text/plain": [
       "True"
      ]
     },
     "execution_count": 15,
     "metadata": {},
     "output_type": "execute_result"
    }
   ],
   "source": [
    "not(a < b and a > c)"
   ]
  },
  {
   "cell_type": "code",
   "execution_count": null,
   "id": "7af324ae-ac84-4ac0-b54a-44880a09b808",
   "metadata": {},
   "outputs": [],
   "source": []
  },
  {
   "cell_type": "markdown",
   "id": "ae1716d7-162a-402c-897d-4e96a19ab868",
   "metadata": {},
   "source": [
    "### 5. Membership Operator\n",
    "\n",
    "                        there are two types of membership operator\n",
    "\n",
    "                            1. in\n",
    "                            2. not in"
   ]
  },
  {
   "cell_type": "code",
   "execution_count": null,
   "id": "0853bbc2-0695-4bbe-9127-7485812e166d",
   "metadata": {},
   "outputs": [],
   "source": []
  },
  {
   "cell_type": "code",
   "execution_count": 17,
   "id": "07b8ac84-31ce-461e-a4ab-2c23b108a748",
   "metadata": {},
   "outputs": [],
   "source": [
    "ls = [23,56,78,90,4,78,90]"
   ]
  },
  {
   "cell_type": "code",
   "execution_count": 18,
   "id": "d1037820-d8d5-428e-8dc7-2043dfa12a12",
   "metadata": {},
   "outputs": [
    {
     "data": {
      "text/plain": [
       "False"
      ]
     },
     "execution_count": 18,
     "metadata": {},
     "output_type": "execute_result"
    }
   ],
   "source": [
    "5 in ls"
   ]
  },
  {
   "cell_type": "code",
   "execution_count": 19,
   "id": "db1af070-40e9-439c-b1cd-a99fb8d0f6fc",
   "metadata": {},
   "outputs": [
    {
     "data": {
      "text/plain": [
       "True"
      ]
     },
     "execution_count": 19,
     "metadata": {},
     "output_type": "execute_result"
    }
   ],
   "source": [
    "90 in ls"
   ]
  },
  {
   "cell_type": "code",
   "execution_count": 20,
   "id": "bd8045bd-da4c-42b2-9b6a-a228befe852e",
   "metadata": {},
   "outputs": [
    {
     "data": {
      "text/plain": [
       "False"
      ]
     },
     "execution_count": 20,
     "metadata": {},
     "output_type": "execute_result"
    }
   ],
   "source": [
    "100 in ls"
   ]
  },
  {
   "cell_type": "code",
   "execution_count": 21,
   "id": "2aad9725-7b6d-4cdf-a27a-21151076d20f",
   "metadata": {},
   "outputs": [
    {
     "data": {
      "text/plain": [
       "True"
      ]
     },
     "execution_count": 21,
     "metadata": {},
     "output_type": "execute_result"
    }
   ],
   "source": [
    "100 not in ls"
   ]
  },
  {
   "cell_type": "code",
   "execution_count": 22,
   "id": "040bbb31-ad1d-4f1f-9cdb-eb6a4c690783",
   "metadata": {},
   "outputs": [],
   "source": [
    "s = 'hello world'"
   ]
  },
  {
   "cell_type": "code",
   "execution_count": 23,
   "id": "3607b629-29b6-4f20-bf42-8cdb1e0f08cb",
   "metadata": {},
   "outputs": [
    {
     "data": {
      "text/plain": [
       "True"
      ]
     },
     "execution_count": 23,
     "metadata": {},
     "output_type": "execute_result"
    }
   ],
   "source": [
    "'h' in s"
   ]
  },
  {
   "cell_type": "code",
   "execution_count": 24,
   "id": "b9d253eb-4ee0-4605-987d-f90425407be3",
   "metadata": {},
   "outputs": [
    {
     "data": {
      "text/plain": [
       "True"
      ]
     },
     "execution_count": 24,
     "metadata": {},
     "output_type": "execute_result"
    }
   ],
   "source": [
    "'hel' in s"
   ]
  },
  {
   "cell_type": "code",
   "execution_count": 25,
   "id": "c0306c85-4589-4cda-815a-290b2d15ab74",
   "metadata": {},
   "outputs": [],
   "source": [
    "dict1 = {'name':'deep', 'age':26, 'address':'jaipur'}"
   ]
  },
  {
   "cell_type": "code",
   "execution_count": 26,
   "id": "728df951-3616-47ac-9f6d-206d899e6dba",
   "metadata": {},
   "outputs": [
    {
     "data": {
      "text/plain": [
       "{'name': 'deep', 'age': 26, 'address': 'jaipur'}"
      ]
     },
     "execution_count": 26,
     "metadata": {},
     "output_type": "execute_result"
    }
   ],
   "source": [
    "dict1"
   ]
  },
  {
   "cell_type": "code",
   "execution_count": 27,
   "id": "f98d3849-86a1-4ed7-8111-001a519ebd8a",
   "metadata": {},
   "outputs": [
    {
     "data": {
      "text/plain": [
       "True"
      ]
     },
     "execution_count": 27,
     "metadata": {},
     "output_type": "execute_result"
    }
   ],
   "source": [
    "'name' in dict1"
   ]
  },
  {
   "cell_type": "code",
   "execution_count": 28,
   "id": "610ebc3c-4251-44e0-acf4-c85e15c3dfb7",
   "metadata": {},
   "outputs": [
    {
     "data": {
      "text/plain": [
       "False"
      ]
     },
     "execution_count": 28,
     "metadata": {},
     "output_type": "execute_result"
    }
   ],
   "source": [
    "'course' in dict1"
   ]
  },
  {
   "cell_type": "code",
   "execution_count": null,
   "id": "d55b45fd-b7f5-42f7-8700-58128db2a9e0",
   "metadata": {},
   "outputs": [],
   "source": []
  },
  {
   "cell_type": "markdown",
   "id": "42f2bab1-0faf-471c-a0bc-8762d2f6cd2e",
   "metadata": {},
   "source": [
    "### 6. Identity Operator\n",
    "\n",
    "                    1. is\n",
    "                    2. is not"
   ]
  },
  {
   "cell_type": "code",
   "execution_count": null,
   "id": "b6a59366-6028-4f22-a3c1-c299baf0928a",
   "metadata": {},
   "outputs": [],
   "source": []
  },
  {
   "cell_type": "code",
   "execution_count": 29,
   "id": "f2409238-b578-40b0-8377-9aa5539a4c97",
   "metadata": {},
   "outputs": [],
   "source": [
    "a = 10\n",
    "b = 10"
   ]
  },
  {
   "cell_type": "code",
   "execution_count": 30,
   "id": "82e8d98b-6bb8-43d9-b012-c61f902b6769",
   "metadata": {},
   "outputs": [
    {
     "data": {
      "text/plain": [
       "True"
      ]
     },
     "execution_count": 30,
     "metadata": {},
     "output_type": "execute_result"
    }
   ],
   "source": [
    "a == b"
   ]
  },
  {
   "cell_type": "code",
   "execution_count": 31,
   "id": "091ec553-dd96-4faa-b30b-735ee0732f4c",
   "metadata": {},
   "outputs": [
    {
     "data": {
      "text/plain": [
       "True"
      ]
     },
     "execution_count": 31,
     "metadata": {},
     "output_type": "execute_result"
    }
   ],
   "source": [
    "a is b"
   ]
  },
  {
   "cell_type": "code",
   "execution_count": 32,
   "id": "65958922-4134-439e-a692-3ef2a5f0bcdf",
   "metadata": {},
   "outputs": [
    {
     "data": {
      "text/plain": [
       "140727229727816"
      ]
     },
     "execution_count": 32,
     "metadata": {},
     "output_type": "execute_result"
    }
   ],
   "source": [
    "id(a)"
   ]
  },
  {
   "cell_type": "code",
   "execution_count": 33,
   "id": "68b48f4a-6d69-48ac-8a66-f90c8915bc8c",
   "metadata": {},
   "outputs": [
    {
     "data": {
      "text/plain": [
       "140727229727816"
      ]
     },
     "execution_count": 33,
     "metadata": {},
     "output_type": "execute_result"
    }
   ],
   "source": [
    "id(b)"
   ]
  },
  {
   "cell_type": "code",
   "execution_count": 34,
   "id": "3b657578-fa8f-43bf-9398-fcba73db18bd",
   "metadata": {},
   "outputs": [],
   "source": [
    "a = 540\n",
    "b = 540"
   ]
  },
  {
   "cell_type": "code",
   "execution_count": 35,
   "id": "d3fb5670-57f4-4b0a-95da-5477f71643fc",
   "metadata": {},
   "outputs": [
    {
     "data": {
      "text/plain": [
       "True"
      ]
     },
     "execution_count": 35,
     "metadata": {},
     "output_type": "execute_result"
    }
   ],
   "source": [
    "a == b"
   ]
  },
  {
   "cell_type": "code",
   "execution_count": 36,
   "id": "f04e5a05-caa8-4d7c-aeb5-5e770c73c5a9",
   "metadata": {},
   "outputs": [
    {
     "data": {
      "text/plain": [
       "False"
      ]
     },
     "execution_count": 36,
     "metadata": {},
     "output_type": "execute_result"
    }
   ],
   "source": [
    "a is b"
   ]
  },
  {
   "cell_type": "code",
   "execution_count": 37,
   "id": "b648215f-fd8b-4f50-bc5a-5d6a36cfe9dd",
   "metadata": {},
   "outputs": [
    {
     "data": {
      "text/plain": [
       "2557862046832"
      ]
     },
     "execution_count": 37,
     "metadata": {},
     "output_type": "execute_result"
    }
   ],
   "source": [
    "id(a)"
   ]
  },
  {
   "cell_type": "code",
   "execution_count": 38,
   "id": "8d17d4b6-9ebf-4653-b93f-696186aa0a27",
   "metadata": {},
   "outputs": [
    {
     "data": {
      "text/plain": [
       "2557862045392"
      ]
     },
     "execution_count": 38,
     "metadata": {},
     "output_type": "execute_result"
    }
   ],
   "source": [
    "id(b)"
   ]
  },
  {
   "cell_type": "code",
   "execution_count": null,
   "id": "f477334c-12eb-4e06-bd69-a5849e70ef36",
   "metadata": {},
   "outputs": [],
   "source": []
  },
  {
   "cell_type": "code",
   "execution_count": 39,
   "id": "c7ad1dad-ca9a-4589-9ff9-a4f5397af693",
   "metadata": {},
   "outputs": [],
   "source": [
    "a = 150\n",
    "b = 150"
   ]
  },
  {
   "cell_type": "code",
   "execution_count": 40,
   "id": "08714dab-0342-478f-8f0f-a914714100a0",
   "metadata": {},
   "outputs": [
    {
     "data": {
      "text/plain": [
       "True"
      ]
     },
     "execution_count": 40,
     "metadata": {},
     "output_type": "execute_result"
    }
   ],
   "source": [
    "a is b"
   ]
  },
  {
   "cell_type": "code",
   "execution_count": 41,
   "id": "25cc4b5c-66b5-4da1-a3e8-f4ed83e9c634",
   "metadata": {},
   "outputs": [],
   "source": [
    "a = 256\n",
    "b = 256"
   ]
  },
  {
   "cell_type": "code",
   "execution_count": 42,
   "id": "133df3bb-3335-49f2-a280-60866b041828",
   "metadata": {},
   "outputs": [
    {
     "data": {
      "text/plain": [
       "True"
      ]
     },
     "execution_count": 42,
     "metadata": {},
     "output_type": "execute_result"
    }
   ],
   "source": [
    "a is b"
   ]
  },
  {
   "cell_type": "code",
   "execution_count": 43,
   "id": "331da8db-f017-4dfb-9a78-4961b6c2971c",
   "metadata": {},
   "outputs": [],
   "source": [
    "a = 257\n",
    "b = 257"
   ]
  },
  {
   "cell_type": "code",
   "execution_count": 44,
   "id": "75274df9-6861-4d2b-bfc8-032699e0794b",
   "metadata": {},
   "outputs": [
    {
     "data": {
      "text/plain": [
       "False"
      ]
     },
     "execution_count": 44,
     "metadata": {},
     "output_type": "execute_result"
    }
   ],
   "source": [
    "a is b"
   ]
  },
  {
   "cell_type": "code",
   "execution_count": 45,
   "id": "9708c084-16d8-4538-aa77-5b1cc787176c",
   "metadata": {},
   "outputs": [
    {
     "data": {
      "text/plain": [
       "True"
      ]
     },
     "execution_count": 45,
     "metadata": {},
     "output_type": "execute_result"
    }
   ],
   "source": [
    "a is not b"
   ]
  },
  {
   "cell_type": "code",
   "execution_count": null,
   "id": "3977ec9d-17d7-44fa-940e-e1cb179ed7c6",
   "metadata": {},
   "outputs": [],
   "source": []
  },
  {
   "cell_type": "markdown",
   "id": "b157cf9e-d354-48e3-9374-29a14136f100",
   "metadata": {},
   "source": [
    "### 7. Bitwise operator\n",
    "\n",
    "                    bitwise and (&)\n",
    "                    bitwise or (|)\n",
    "                    bitwise not (~)\n",
    "                    bitwise XOR (^)\n",
    "                    left shift  (<<)\n",
    "                    right shift (>>)"
   ]
  },
  {
   "cell_type": "code",
   "execution_count": null,
   "id": "c7ec3e64-04ed-4ce0-aaf2-b01625fa260a",
   "metadata": {},
   "outputs": [],
   "source": []
  },
  {
   "cell_type": "code",
   "execution_count": 46,
   "id": "83c2d25a-1287-4e58-a97f-b751968b13e9",
   "metadata": {},
   "outputs": [],
   "source": [
    "a = 10\n",
    "b = 20"
   ]
  },
  {
   "cell_type": "code",
   "execution_count": 47,
   "id": "20b6fec9-e6e3-44f3-bcde-6805654f4085",
   "metadata": {},
   "outputs": [
    {
     "data": {
      "text/plain": [
       "0"
      ]
     },
     "execution_count": 47,
     "metadata": {},
     "output_type": "execute_result"
    }
   ],
   "source": [
    "a & b"
   ]
  },
  {
   "cell_type": "code",
   "execution_count": 48,
   "id": "6110b92a-07d3-4297-842a-4c47c637996e",
   "metadata": {},
   "outputs": [
    {
     "data": {
      "text/plain": [
       "0"
      ]
     },
     "execution_count": 48,
     "metadata": {},
     "output_type": "execute_result"
    }
   ],
   "source": [
    "b & a"
   ]
  },
  {
   "cell_type": "code",
   "execution_count": 49,
   "id": "a2e23db1-5470-4cfa-be56-e99930627792",
   "metadata": {},
   "outputs": [],
   "source": [
    "a = 20\n",
    "b = 5"
   ]
  },
  {
   "cell_type": "code",
   "execution_count": 50,
   "id": "da2aaed5-faf8-44cc-8572-1688d56308ee",
   "metadata": {},
   "outputs": [
    {
     "data": {
      "text/plain": [
       "4"
      ]
     },
     "execution_count": 50,
     "metadata": {},
     "output_type": "execute_result"
    }
   ],
   "source": [
    "a & b"
   ]
  },
  {
   "cell_type": "code",
   "execution_count": null,
   "id": "36249d64-c58f-4883-bd0a-f5cedac205fc",
   "metadata": {},
   "outputs": [],
   "source": []
  },
  {
   "cell_type": "code",
   "execution_count": 51,
   "id": "796de1fd-5e2b-4508-9215-481d96960534",
   "metadata": {},
   "outputs": [],
   "source": [
    "a = 55\n",
    "b = 30"
   ]
  },
  {
   "cell_type": "code",
   "execution_count": 52,
   "id": "70f7e947-3ad9-4e0f-9740-95e986299edd",
   "metadata": {},
   "outputs": [
    {
     "data": {
      "text/plain": [
       "22"
      ]
     },
     "execution_count": 52,
     "metadata": {},
     "output_type": "execute_result"
    }
   ],
   "source": [
    "a & b"
   ]
  },
  {
   "cell_type": "code",
   "execution_count": null,
   "id": "010b78d0-b3e5-4b32-bfd1-3bc17800c3e2",
   "metadata": {},
   "outputs": [],
   "source": []
  },
  {
   "cell_type": "code",
   "execution_count": 53,
   "id": "80336799-ff10-4c69-b148-340761a574d7",
   "metadata": {},
   "outputs": [
    {
     "data": {
      "text/plain": [
       "63"
      ]
     },
     "execution_count": 53,
     "metadata": {},
     "output_type": "execute_result"
    }
   ],
   "source": [
    "a | b"
   ]
  },
  {
   "cell_type": "code",
   "execution_count": null,
   "id": "0790b0d1-a766-45ea-978d-41bd97488b02",
   "metadata": {},
   "outputs": [],
   "source": []
  },
  {
   "cell_type": "code",
   "execution_count": 54,
   "id": "ceec4325-4161-4429-a216-49c3b1c89bcd",
   "metadata": {},
   "outputs": [],
   "source": [
    "a = 10\n",
    "b = 5"
   ]
  },
  {
   "cell_type": "code",
   "execution_count": 55,
   "id": "2f6fcd3a-c90d-4ad0-b7ed-4b94464bff28",
   "metadata": {},
   "outputs": [
    {
     "data": {
      "text/plain": [
       "15"
      ]
     },
     "execution_count": 55,
     "metadata": {},
     "output_type": "execute_result"
    }
   ],
   "source": [
    "a ^ b"
   ]
  },
  {
   "cell_type": "code",
   "execution_count": null,
   "id": "d968c813-c46d-4760-8f77-83b9b458f53f",
   "metadata": {},
   "outputs": [],
   "source": []
  },
  {
   "cell_type": "code",
   "execution_count": 56,
   "id": "4c964426-1880-45aa-aeeb-56259bc406f6",
   "metadata": {},
   "outputs": [
    {
     "data": {
      "text/plain": [
       "-11"
      ]
     },
     "execution_count": 56,
     "metadata": {},
     "output_type": "execute_result"
    }
   ],
   "source": [
    "~ 10"
   ]
  },
  {
   "cell_type": "code",
   "execution_count": null,
   "id": "30d73fc6-07bb-438c-85ff-60d33eab621e",
   "metadata": {},
   "outputs": [],
   "source": []
  },
  {
   "cell_type": "code",
   "execution_count": 57,
   "id": "dc27f2b4-44bd-4c15-8984-73d42146d78c",
   "metadata": {},
   "outputs": [
    {
     "data": {
      "text/plain": [
       "640"
      ]
     },
     "execution_count": 57,
     "metadata": {},
     "output_type": "execute_result"
    }
   ],
   "source": [
    "20 << 5"
   ]
  },
  {
   "cell_type": "code",
   "execution_count": 59,
   "id": "be6f4af8-c08f-4a14-b723-ff0f9e242d67",
   "metadata": {},
   "outputs": [
    {
     "data": {
      "text/plain": [
       "40"
      ]
     },
     "execution_count": 59,
     "metadata": {},
     "output_type": "execute_result"
    }
   ],
   "source": [
    "10 << 2"
   ]
  },
  {
   "cell_type": "code",
   "execution_count": 60,
   "id": "abe70d6c-8839-481b-ac3e-adfda3350e41",
   "metadata": {},
   "outputs": [
    {
     "data": {
      "text/plain": [
       "16"
      ]
     },
     "execution_count": 60,
     "metadata": {},
     "output_type": "execute_result"
    }
   ],
   "source": [
    "1 << 4"
   ]
  },
  {
   "cell_type": "code",
   "execution_count": null,
   "id": "1f4bb6d8-7046-4b3d-9210-64f5730baf8f",
   "metadata": {},
   "outputs": [],
   "source": []
  },
  {
   "cell_type": "code",
   "execution_count": 61,
   "id": "df5b596b-a5b4-4fdc-bce4-2e608e09d095",
   "metadata": {},
   "outputs": [
    {
     "data": {
      "text/plain": [
       "2"
      ]
     },
     "execution_count": 61,
     "metadata": {},
     "output_type": "execute_result"
    }
   ],
   "source": [
    "10 >> 2"
   ]
  },
  {
   "cell_type": "code",
   "execution_count": 63,
   "id": "a967c7f9-c35b-4801-9938-220d5f703b84",
   "metadata": {},
   "outputs": [
    {
     "data": {
      "text/plain": [
       "3"
      ]
     },
     "execution_count": 63,
     "metadata": {},
     "output_type": "execute_result"
    }
   ],
   "source": [
    "100 >> 5"
   ]
  },
  {
   "cell_type": "code",
   "execution_count": 64,
   "id": "50a6ee93-8403-4a1f-84d7-3e9bac69a76b",
   "metadata": {},
   "outputs": [
    {
     "data": {
      "text/plain": [
       "0"
      ]
     },
     "execution_count": 64,
     "metadata": {},
     "output_type": "execute_result"
    }
   ],
   "source": [
    "10 >> 5"
   ]
  },
  {
   "cell_type": "code",
   "execution_count": 65,
   "id": "c0781006-3ef0-43bb-b74a-8aa5a0fea7f3",
   "metadata": {},
   "outputs": [
    {
     "data": {
      "text/plain": [
       "0"
      ]
     },
     "execution_count": 65,
     "metadata": {},
     "output_type": "execute_result"
    }
   ],
   "source": [
    "10 >> 4"
   ]
  },
  {
   "cell_type": "code",
   "execution_count": 66,
   "id": "8c04d0ee-9c4b-4aaa-b223-06797d42b05e",
   "metadata": {},
   "outputs": [
    {
     "data": {
      "text/plain": [
       "1"
      ]
     },
     "execution_count": 66,
     "metadata": {},
     "output_type": "execute_result"
    }
   ],
   "source": [
    "10 >> 3"
   ]
  },
  {
   "cell_type": "code",
   "execution_count": null,
   "id": "90ecd626-9c5e-4ae8-8444-5f9fbc7ffdd4",
   "metadata": {},
   "outputs": [],
   "source": []
  },
  {
   "cell_type": "code",
   "execution_count": null,
   "id": "fa250b75-6b49-4341-a2e3-bb75dc17e136",
   "metadata": {},
   "outputs": [],
   "source": []
  },
  {
   "cell_type": "code",
   "execution_count": null,
   "id": "4e802389-142d-4ee2-b31b-6687ca2cda50",
   "metadata": {},
   "outputs": [],
   "source": []
  },
  {
   "cell_type": "code",
   "execution_count": null,
   "id": "40815a2f-6dfa-44d0-a540-4845db7e0beb",
   "metadata": {},
   "outputs": [],
   "source": []
  },
  {
   "cell_type": "code",
   "execution_count": null,
   "id": "a4fe7ac2-a37b-4c52-8b56-b2482661d63f",
   "metadata": {},
   "outputs": [],
   "source": []
  }
 ],
 "metadata": {
  "kernelspec": {
   "display_name": "Python 3 (ipykernel)",
   "language": "python",
   "name": "python3"
  },
  "language_info": {
   "codemirror_mode": {
    "name": "ipython",
    "version": 3
   },
   "file_extension": ".py",
   "mimetype": "text/x-python",
   "name": "python",
   "nbconvert_exporter": "python",
   "pygments_lexer": "ipython3",
   "version": "3.11.3"
  }
 },
 "nbformat": 4,
 "nbformat_minor": 5
}
