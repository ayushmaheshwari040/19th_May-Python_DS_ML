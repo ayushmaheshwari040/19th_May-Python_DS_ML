{
 "cells": [
  {
   "cell_type": "markdown",
   "id": "dc28cebd-5916-44e1-8a61-e3e12ed1def5",
   "metadata": {},
   "source": [
    "# Database Connectivity"
   ]
  },
  {
   "cell_type": "code",
   "execution_count": 1,
   "id": "9b3ec10c-081f-40d8-8345-9e3c3d99dd54",
   "metadata": {},
   "outputs": [
    {
     "name": "stdout",
     "output_type": "stream",
     "text": [
      "Collecting pymysql\n",
      "  Downloading PyMySQL-1.1.1-py3-none-any.whl.metadata (4.4 kB)\n",
      "Downloading PyMySQL-1.1.1-py3-none-any.whl (44 kB)\n",
      "Installing collected packages: pymysql\n",
      "Successfully installed pymysql-1.1.1\n",
      "Note: you may need to restart the kernel to use updated packages.\n"
     ]
    }
   ],
   "source": [
    "pip install pymysql"
   ]
  },
  {
   "cell_type": "code",
   "execution_count": 2,
   "id": "8b955a78-f544-4f38-8d03-660ee3057044",
   "metadata": {},
   "outputs": [],
   "source": [
    "import pymysql as sql"
   ]
  },
  {
   "cell_type": "code",
   "execution_count": 3,
   "id": "4f882983-6b20-4855-bc5d-05c1a0a4c437",
   "metadata": {},
   "outputs": [
    {
     "data": {
      "text/plain": [
       "<pymysql.connections.Connection at 0x233ecd0e840>"
      ]
     },
     "execution_count": 3,
     "metadata": {},
     "output_type": "execute_result"
    }
   ],
   "source": [
    "conn=sql.connect(user='root', password='', host='localhost', port=3306)\n",
    "conn"
   ]
  },
  {
   "cell_type": "code",
   "execution_count": 4,
   "id": "f65b5af0-a280-4900-95fb-d32d95832c82",
   "metadata": {},
   "outputs": [
    {
     "ename": "SyntaxError",
     "evalue": "invalid syntax (2998549786.py, line 1)",
     "output_type": "error",
     "traceback": [
      "\u001b[1;36m  Cell \u001b[1;32mIn[4], line 1\u001b[1;36m\u001b[0m\n\u001b[1;33m    show databases;\u001b[0m\n\u001b[1;37m         ^\u001b[0m\n\u001b[1;31mSyntaxError\u001b[0m\u001b[1;31m:\u001b[0m invalid syntax\n"
     ]
    }
   ],
   "source": [
    "show databases;"
   ]
  },
  {
   "cell_type": "code",
   "execution_count": 5,
   "id": "24e28e26-3702-4aea-b432-39cbce1e5b34",
   "metadata": {},
   "outputs": [
    {
     "data": {
      "text/plain": [
       "<pymysql.cursors.Cursor at 0x233ece0d280>"
      ]
     },
     "execution_count": 5,
     "metadata": {},
     "output_type": "execute_result"
    }
   ],
   "source": [
    "cur=conn.cursor()\n",
    "cur"
   ]
  },
  {
   "cell_type": "code",
   "execution_count": 7,
   "id": "59a103da-637d-497d-bd2f-878ab2f74452",
   "metadata": {},
   "outputs": [
    {
     "data": {
      "text/plain": [
       "14"
      ]
     },
     "execution_count": 7,
     "metadata": {},
     "output_type": "execute_result"
    }
   ],
   "source": [
    "cur.execute('show databases')"
   ]
  },
  {
   "cell_type": "code",
   "execution_count": 8,
   "id": "05a722f7-bd8d-4166-bdff-0639ceef1b9e",
   "metadata": {},
   "outputs": [
    {
     "data": {
      "text/plain": [
       "(('contacts',),\n",
       " ('dbperson',),\n",
       " ('dbperson1',),\n",
       " ('dsml12pm',),\n",
       " ('information_schema',),\n",
       " ('mysql',),\n",
       " ('p_hotel',),\n",
       " ('p_login',),\n",
       " ('p_transport',),\n",
       " ('performance_schema',),\n",
       " ('person',),\n",
       " ('phpmyadmin',),\n",
       " ('piet',),\n",
       " ('test',))"
      ]
     },
     "execution_count": 8,
     "metadata": {},
     "output_type": "execute_result"
    }
   ],
   "source": [
    "cur.fetchall()"
   ]
  },
  {
   "cell_type": "code",
   "execution_count": 9,
   "id": "aeaad339-a6e0-4b4a-81f4-c741f36fe395",
   "metadata": {},
   "outputs": [
    {
     "data": {
      "text/plain": [
       "0"
      ]
     },
     "execution_count": 9,
     "metadata": {},
     "output_type": "execute_result"
    }
   ],
   "source": [
    "cur.execute('use dsml12pm')"
   ]
  },
  {
   "cell_type": "code",
   "execution_count": 10,
   "id": "09035174-b1f6-42f4-9401-fbfb5355dac9",
   "metadata": {},
   "outputs": [
    {
     "data": {
      "text/plain": [
       "(('address',), ('fees',), ('new',), ('student',))"
      ]
     },
     "execution_count": 10,
     "metadata": {},
     "output_type": "execute_result"
    }
   ],
   "source": [
    "cur.execute('show tables')\n",
    "cur.fetchall()"
   ]
  },
  {
   "cell_type": "code",
   "execution_count": 11,
   "id": "cd7386c8-13fb-4dae-bf27-4614af15689d",
   "metadata": {},
   "outputs": [
    {
     "data": {
      "text/plain": [
       "((101, 'aman', 20),\n",
       " (102, 'rohan', 23),\n",
       " (103, 'ram', 24),\n",
       " (104, 'rajat', 21),\n",
       " (105, 'simran', 18),\n",
       " (106, 'sachin', 20),\n",
       " (107, 'naman', 23),\n",
       " (108, 'himanshu', 18))"
      ]
     },
     "execution_count": 11,
     "metadata": {},
     "output_type": "execute_result"
    }
   ],
   "source": [
    "cur.execute('select * from student')\n",
    "cur.fetchall()"
   ]
  },
  {
   "cell_type": "code",
   "execution_count": 12,
   "id": "7c90d876-8748-405e-b6b8-a1f416a92056",
   "metadata": {},
   "outputs": [],
   "source": [
    "conn.close()"
   ]
  },
  {
   "cell_type": "code",
   "execution_count": null,
   "id": "2847abd9-5b6d-4c1d-9cb5-0c95161768d6",
   "metadata": {},
   "outputs": [],
   "source": []
  }
 ],
 "metadata": {
  "kernelspec": {
   "display_name": "Python 3 (ipykernel)",
   "language": "python",
   "name": "python3"
  },
  "language_info": {
   "codemirror_mode": {
    "name": "ipython",
    "version": 3
   },
   "file_extension": ".py",
   "mimetype": "text/x-python",
   "name": "python",
   "nbconvert_exporter": "python",
   "pygments_lexer": "ipython3",
   "version": "3.12.7"
  }
 },
 "nbformat": 4,
 "nbformat_minor": 5
}
