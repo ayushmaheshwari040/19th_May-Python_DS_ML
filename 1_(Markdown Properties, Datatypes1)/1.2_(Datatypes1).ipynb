{
 "cells": [
  {
   "cell_type": "markdown",
   "id": "cc99a2c5-0a39-4bf3-9b9a-8b87cdcc186b",
   "metadata": {},
   "source": [
    "# Data Types in Python\n",
    "- Number\n",
    "  - Int\n",
    "  - Float\n",
    "  - Complex\n",
    "- String\n",
    "- List\n",
    "- Tuple\n",
    "- Dict\n",
    "- Set\n",
    "- Bool\n",
    "- None type\n"
   ]
  },
  {
   "cell_type": "code",
   "execution_count": null,
   "id": "a412bc11-a66c-448e-ad6c-5014238e541a",
   "metadata": {},
   "outputs": [],
   "source": []
  },
  {
   "cell_type": "code",
   "execution_count": null,
   "id": "be5ff641-5879-4b50-93e4-108f64ac2d3b",
   "metadata": {},
   "outputs": [],
   "source": []
  },
  {
   "cell_type": "markdown",
   "id": "4765c015-956b-44f0-a8b4-74197ba0fbed",
   "metadata": {},
   "source": [
    "### Variables"
   ]
  },
  {
   "cell_type": "markdown",
   "id": "6d070ff7-1525-461a-ae54-6be5991570fa",
   "metadata": {},
   "source": [
    "1. Variable name should contain alphabets A-Z, a-z and _(underscore)\n",
    "2. Variable name can not start with number.But they can end with a number.\n",
    "3. Variable name can not contain special characters.\n",
    "4. Variable name can not cantain whitespace between them.\n",
    "5. Variable name can not be same as keywords & built-in functions."
   ]
  },
  {
   "cell_type": "code",
   "execution_count": null,
   "id": "a3ff328f-4f8a-4fe1-9789-305fe4cfd24a",
   "metadata": {},
   "outputs": [],
   "source": []
  },
  {
   "cell_type": "code",
   "execution_count": null,
   "id": "e5119feb-ccb6-4e11-905d-207b95ecdb5b",
   "metadata": {},
   "outputs": [],
   "source": []
  },
  {
   "cell_type": "markdown",
   "id": "d82511c3-f9d0-4efd-9291-766849254067",
   "metadata": {},
   "source": [
    "## 1. Numbers\n",
    "\n",
    "            There are three types of number\n",
    "            1. Int     : complete numbers   2,3,4,5, -67\n",
    "            2. Float   : incomplete numbers  23.5, 56.6, -23.5\n",
    "            3. Complex : real + imag.\n",
    "                         2 + 9j\n",
    "                         -10 + 3j"
   ]
  },
  {
   "cell_type": "code",
   "execution_count": null,
   "id": "f82255a8-8ce0-4600-9652-6a47c0cda46f",
   "metadata": {},
   "outputs": [],
   "source": []
  },
  {
   "cell_type": "code",
   "execution_count": 2,
   "id": "50eab3e6-6a69-4e13-b769-11348b716d92",
   "metadata": {},
   "outputs": [
    {
     "data": {
      "text/plain": [
       "100"
      ]
     },
     "execution_count": 2,
     "metadata": {},
     "output_type": "execute_result"
    }
   ],
   "source": [
    "100"
   ]
  },
  {
   "cell_type": "code",
   "execution_count": 3,
   "id": "0477741e-5ea9-4042-9c79-2320057c06e7",
   "metadata": {},
   "outputs": [],
   "source": [
    "a = 100"
   ]
  },
  {
   "cell_type": "code",
   "execution_count": 7,
   "id": "6e6a9fe7-1e34-47fb-a3ca-121d981f1fc2",
   "metadata": {},
   "outputs": [
    {
     "data": {
      "text/plain": [
       "100"
      ]
     },
     "execution_count": 7,
     "metadata": {},
     "output_type": "execute_result"
    }
   ],
   "source": [
    "a        # shell output"
   ]
  },
  {
   "cell_type": "code",
   "execution_count": 8,
   "id": "4fb4cc9c-c2cc-4e7a-a6ba-223db7a8c174",
   "metadata": {},
   "outputs": [
    {
     "name": "stdout",
     "output_type": "stream",
     "text": [
      "100\n"
     ]
    }
   ],
   "source": [
    "print(a)           # standard output"
   ]
  },
  {
   "cell_type": "code",
   "execution_count": 9,
   "id": "abecc209-4816-4e08-bd78-a31e7c6bc00f",
   "metadata": {},
   "outputs": [],
   "source": [
    "a = 100\n",
    "b = 23.5\n",
    "c = 23+5j"
   ]
  },
  {
   "cell_type": "code",
   "execution_count": 10,
   "id": "25e58559-1a9a-48d7-93e2-334a9d06476d",
   "metadata": {},
   "outputs": [
    {
     "name": "stdout",
     "output_type": "stream",
     "text": [
      "100 23.5 (23+5j)\n"
     ]
    }
   ],
   "source": [
    "print(a,b,c)"
   ]
  },
  {
   "cell_type": "code",
   "execution_count": 12,
   "id": "0ac8381c-5fe4-4de3-a00e-fbf5d355069b",
   "metadata": {},
   "outputs": [
    {
     "name": "stdout",
     "output_type": "stream",
     "text": [
      "100\n",
      "23.5\n",
      "(23+5j)\n"
     ]
    }
   ],
   "source": [
    "print(a)\n",
    "print(b)\n",
    "print(c)"
   ]
  },
  {
   "cell_type": "code",
   "execution_count": 14,
   "id": "3047568a-cb81-4ca8-80f1-c581f33c5c49",
   "metadata": {},
   "outputs": [
    {
     "data": {
      "text/plain": [
       "23.5"
      ]
     },
     "execution_count": 14,
     "metadata": {},
     "output_type": "execute_result"
    }
   ],
   "source": [
    "a\n",
    "b\n"
   ]
  },
  {
   "cell_type": "code",
   "execution_count": 16,
   "id": "69744175-a411-4fbb-b53d-839c74933116",
   "metadata": {},
   "outputs": [
    {
     "data": {
      "text/plain": [
       "(23+5j)"
      ]
     },
     "execution_count": 16,
     "metadata": {},
     "output_type": "execute_result"
    }
   ],
   "source": [
    "a,b,c\n",
    "c"
   ]
  },
  {
   "cell_type": "code",
   "execution_count": null,
   "id": "d9d7b1fe-ac80-4552-a716-f1ba8aa3b9de",
   "metadata": {},
   "outputs": [],
   "source": []
  },
  {
   "cell_type": "code",
   "execution_count": 17,
   "id": "dc4f77f1-e8d6-487f-93be-93a5fd463883",
   "metadata": {},
   "outputs": [],
   "source": [
    "name = 'rohan'"
   ]
  },
  {
   "cell_type": "code",
   "execution_count": 19,
   "id": "37ee8a75-1bbc-42e6-b232-72dd98e894b4",
   "metadata": {},
   "outputs": [
    {
     "data": {
      "text/plain": [
       "'rohan'"
      ]
     },
     "execution_count": 19,
     "metadata": {},
     "output_type": "execute_result"
    }
   ],
   "source": [
    "name"
   ]
  },
  {
   "cell_type": "code",
   "execution_count": 20,
   "id": "5ab904ea-afca-4adb-b24e-0e37cf94daff",
   "metadata": {},
   "outputs": [
    {
     "data": {
      "text/plain": [
       "100"
      ]
     },
     "execution_count": 20,
     "metadata": {},
     "output_type": "execute_result"
    }
   ],
   "source": [
    "a"
   ]
  },
  {
   "cell_type": "code",
   "execution_count": 21,
   "id": "717f71fe-2389-46ad-b5e4-61d809f637a5",
   "metadata": {},
   "outputs": [
    {
     "data": {
      "text/plain": [
       "23.5"
      ]
     },
     "execution_count": 21,
     "metadata": {},
     "output_type": "execute_result"
    }
   ],
   "source": [
    "b"
   ]
  },
  {
   "cell_type": "code",
   "execution_count": 22,
   "id": "b07cd2c4-2a5a-410a-8559-1d273522dd69",
   "metadata": {},
   "outputs": [
    {
     "data": {
      "text/plain": [
       "(23+5j)"
      ]
     },
     "execution_count": 22,
     "metadata": {},
     "output_type": "execute_result"
    }
   ],
   "source": [
    "c"
   ]
  },
  {
   "cell_type": "code",
   "execution_count": 23,
   "id": "67da183e-5d21-4188-aae8-ad2e939e3cc4",
   "metadata": {},
   "outputs": [
    {
     "name": "stdout",
     "output_type": "stream",
     "text": [
      "<class 'int'>\n"
     ]
    }
   ],
   "source": [
    "print(type(a))"
   ]
  },
  {
   "cell_type": "code",
   "execution_count": 24,
   "id": "c9a2b9b3-30a6-4cfd-9976-37b42a9d1016",
   "metadata": {},
   "outputs": [
    {
     "name": "stdout",
     "output_type": "stream",
     "text": [
      "<class 'float'>\n"
     ]
    }
   ],
   "source": [
    "print(type(b))"
   ]
  },
  {
   "cell_type": "code",
   "execution_count": 25,
   "id": "335c588d-28c3-4fae-a0ed-220635b0c36d",
   "metadata": {},
   "outputs": [
    {
     "name": "stdout",
     "output_type": "stream",
     "text": [
      "<class 'complex'>\n"
     ]
    }
   ],
   "source": [
    "print(type(c))"
   ]
  },
  {
   "cell_type": "code",
   "execution_count": null,
   "id": "5b14f328-bdcf-437a-aa6a-4653128608b2",
   "metadata": {},
   "outputs": [],
   "source": []
  },
  {
   "cell_type": "code",
   "execution_count": 26,
   "id": "dce7d92c-8e95-4fe3-9341-499edce27b44",
   "metadata": {},
   "outputs": [
    {
     "ename": "SyntaxError",
     "evalue": "invalid decimal literal (504744041.py, line 1)",
     "output_type": "error",
     "traceback": [
      "\u001b[1;36m  Cell \u001b[1;32mIn[26], line 1\u001b[1;36m\u001b[0m\n\u001b[1;33m    2a = 100\u001b[0m\n\u001b[1;37m    ^\u001b[0m\n\u001b[1;31mSyntaxError\u001b[0m\u001b[1;31m:\u001b[0m invalid decimal literal\n"
     ]
    }
   ],
   "source": [
    "2a = 100"
   ]
  },
  {
   "cell_type": "code",
   "execution_count": 27,
   "id": "49c2d599-d9f5-4d19-801e-c35eae0ac454",
   "metadata": {},
   "outputs": [],
   "source": [
    "a2 = 100\n"
   ]
  },
  {
   "cell_type": "code",
   "execution_count": 28,
   "id": "700bf864-4fa9-448a-b7cd-c65003e41272",
   "metadata": {},
   "outputs": [
    {
     "data": {
      "text/plain": [
       "100"
      ]
     },
     "execution_count": 28,
     "metadata": {},
     "output_type": "execute_result"
    }
   ],
   "source": [
    "a2"
   ]
  },
  {
   "cell_type": "code",
   "execution_count": 30,
   "id": "1540b2b1-d42b-4910-b124-d0abef2f4e10",
   "metadata": {},
   "outputs": [
    {
     "ename": "SyntaxError",
     "evalue": "invalid syntax (4176983514.py, line 1)",
     "output_type": "error",
     "traceback": [
      "\u001b[1;36m  Cell \u001b[1;32mIn[30], line 1\u001b[1;36m\u001b[0m\n\u001b[1;33m    &name = 'harsh'\u001b[0m\n\u001b[1;37m    ^\u001b[0m\n\u001b[1;31mSyntaxError\u001b[0m\u001b[1;31m:\u001b[0m invalid syntax\n"
     ]
    }
   ],
   "source": [
    "&name = 'harsh'"
   ]
  },
  {
   "cell_type": "code",
   "execution_count": 31,
   "id": "6e7975be-2487-40a3-a6b7-e7449a73459b",
   "metadata": {},
   "outputs": [
    {
     "ename": "SyntaxError",
     "evalue": "invalid syntax (3875185790.py, line 1)",
     "output_type": "error",
     "traceback": [
      "\u001b[1;36m  Cell \u001b[1;32mIn[31], line 1\u001b[1;36m\u001b[0m\n\u001b[1;33m    your name = 'simran'\u001b[0m\n\u001b[1;37m         ^\u001b[0m\n\u001b[1;31mSyntaxError\u001b[0m\u001b[1;31m:\u001b[0m invalid syntax\n"
     ]
    }
   ],
   "source": [
    "your name = 'simran'"
   ]
  },
  {
   "cell_type": "code",
   "execution_count": 1,
   "id": "e90b515f-218f-490d-9cc7-d809f3dca24b",
   "metadata": {},
   "outputs": [
    {
     "name": "stdout",
     "output_type": "stream",
     "text": [
      "simran\n"
     ]
    }
   ],
   "source": [
    "your_name = 'simran'\n",
    "print(your_name)"
   ]
  },
  {
   "cell_type": "code",
   "execution_count": null,
   "id": "f088354d-f502-45e8-b834-705c04ed3a19",
   "metadata": {},
   "outputs": [],
   "source": []
  }
 ],
 "metadata": {
  "kernelspec": {
   "display_name": "Python 3 (ipykernel)",
   "language": "python",
   "name": "python3"
  },
  "language_info": {
   "codemirror_mode": {
    "name": "ipython",
    "version": 3
   },
   "file_extension": ".py",
   "mimetype": "text/x-python",
   "name": "python",
   "nbconvert_exporter": "python",
   "pygments_lexer": "ipython3",
   "version": "3.12.7"
  }
 },
 "nbformat": 4,
 "nbformat_minor": 5
}
