{
 "cells": [
  {
   "cell_type": "markdown",
   "id": "7caa413f-2e4a-485c-9b15-7df348e5960e",
   "metadata": {},
   "source": [
    "# **OOP's**"
   ]
  },
  {
   "cell_type": "markdown",
   "id": "4214b3d1-422b-4296-b22b-2c2695309593",
   "metadata": {},
   "source": [
    "## **1. class,  2. object**\n",
    "                Syntax:-  class class_name: \n",
    "                              # attributes\n",
    "                              # methods\n",
    "\n",
    "                          obj=class_name()    "
   ]
  },
  {
   "cell_type": "markdown",
   "id": "26eabb9a-6de6-489e-9024-73cfea6d8d4d",
   "metadata": {},
   "source": [
    "1. methods-> methods are object specific. Ex:- list()->pop(), remove  & dict()-> popitem()\n",
    "2. functions-> functions are not object specific they are used for anything. Ex:- len(), sum()"
   ]
  },
  {
   "cell_type": "code",
   "execution_count": null,
   "id": "59096a0a-fab7-4352-b1ae-bbe64375d138",
   "metadata": {},
   "outputs": [],
   "source": []
  },
  {
   "cell_type": "code",
   "execution_count": 2,
   "id": "b4873ef2-4185-4dd6-b100-1fea902c2af7",
   "metadata": {},
   "outputs": [],
   "source": [
    "ls=[12,24,55,64,62]"
   ]
  },
  {
   "cell_type": "code",
   "execution_count": 4,
   "id": "c355bf1a-8bf8-492b-a3e2-a5c93ac25efc",
   "metadata": {},
   "outputs": [
    {
     "ename": "AttributeError",
     "evalue": "'list' object has no attribute 'popitem'",
     "output_type": "error",
     "traceback": [
      "\u001b[1;31m---------------------------------------------------------------------------\u001b[0m",
      "\u001b[1;31mAttributeError\u001b[0m                            Traceback (most recent call last)",
      "Cell \u001b[1;32mIn[4], line 1\u001b[0m\n\u001b[1;32m----> 1\u001b[0m \u001b[43mls\u001b[49m\u001b[38;5;241;43m.\u001b[39;49m\u001b[43mpopitem\u001b[49m()\n",
      "\u001b[1;31mAttributeError\u001b[0m: 'list' object has no attribute 'popitem'"
     ]
    }
   ],
   "source": [
    "ls.popitem()"
   ]
  },
  {
   "cell_type": "code",
   "execution_count": 5,
   "id": "43680f45-f129-4bb1-a555-242a00cd09b5",
   "metadata": {},
   "outputs": [
    {
     "data": {
      "text/plain": [
       "5"
      ]
     },
     "execution_count": 5,
     "metadata": {},
     "output_type": "execute_result"
    }
   ],
   "source": [
    "len(ls)"
   ]
  },
  {
   "cell_type": "code",
   "execution_count": null,
   "id": "0b04cd3c-18c6-49bf-878e-7115fed40552",
   "metadata": {},
   "outputs": [],
   "source": []
  },
  {
   "cell_type": "code",
   "execution_count": 6,
   "id": "ed796d24-43cd-4a82-96cf-4e53842fd968",
   "metadata": {},
   "outputs": [
    {
     "ename": "AttributeError",
     "evalue": "'dict' object has no attribute 'append'",
     "output_type": "error",
     "traceback": [
      "\u001b[1;31m---------------------------------------------------------------------------\u001b[0m",
      "\u001b[1;31mAttributeError\u001b[0m                            Traceback (most recent call last)",
      "Cell \u001b[1;32mIn[6], line 2\u001b[0m\n\u001b[0;32m      1\u001b[0m d\u001b[38;5;241m=\u001b[39m{\u001b[38;5;241m1\u001b[39m:\u001b[38;5;241m100\u001b[39m, \u001b[38;5;241m2\u001b[39m:\u001b[38;5;241m200\u001b[39m, \u001b[38;5;241m3\u001b[39m:\u001b[38;5;241m300\u001b[39m}\n\u001b[1;32m----> 2\u001b[0m \u001b[43md\u001b[49m\u001b[38;5;241;43m.\u001b[39;49m\u001b[43mappend\u001b[49m()\n",
      "\u001b[1;31mAttributeError\u001b[0m: 'dict' object has no attribute 'append'"
     ]
    }
   ],
   "source": [
    "d={1:100, 2:200, 3:300}\n",
    "d.append()"
   ]
  },
  {
   "cell_type": "code",
   "execution_count": 8,
   "id": "86c3effe-5b9c-419f-8908-4a7ea811aca5",
   "metadata": {},
   "outputs": [
    {
     "data": {
      "text/plain": [
       "3"
      ]
     },
     "execution_count": 8,
     "metadata": {},
     "output_type": "execute_result"
    }
   ],
   "source": [
    "len(d)"
   ]
  },
  {
   "cell_type": "code",
   "execution_count": 9,
   "id": "1ae4f292-3fc1-4904-b9e6-3657f5fa1cfc",
   "metadata": {},
   "outputs": [
    {
     "data": {
      "text/plain": [
       "(3, 300)"
      ]
     },
     "execution_count": 9,
     "metadata": {},
     "output_type": "execute_result"
    }
   ],
   "source": [
    "d.popitem()"
   ]
  },
  {
   "cell_type": "code",
   "execution_count": null,
   "id": "a15efedc-3a91-440d-b6d8-b53f6790de3a",
   "metadata": {},
   "outputs": [],
   "source": []
  },
  {
   "cell_type": "code",
   "execution_count": 28,
   "id": "e0928e00-0e3c-434f-9891-cc217bc52912",
   "metadata": {},
   "outputs": [],
   "source": [
    "class Human: \n",
    "    def laugh(): \n",
    "        print(\"You are laughing\")\n",
    "\n",
    "    def cry(): \n",
    "        print(\"You are crying\")\n",
    "\n",
    "    def fight():\n",
    "        print(\"You are fighting\")\n"
   ]
  },
  {
   "cell_type": "code",
   "execution_count": 29,
   "id": "65c7b2d3-40b9-47e2-8a61-e90b8625612f",
   "metadata": {},
   "outputs": [
    {
     "data": {
      "text/plain": [
       "<__main__.Human at 0x1e0a79546d0>"
      ]
     },
     "execution_count": 29,
     "metadata": {},
     "output_type": "execute_result"
    }
   ],
   "source": [
    "obj=Human()\n",
    "obj"
   ]
  },
  {
   "cell_type": "code",
   "execution_count": null,
   "id": "49a473a3-272f-42f2-bb94-35105c3b6817",
   "metadata": {},
   "outputs": [],
   "source": []
  },
  {
   "cell_type": "code",
   "execution_count": 30,
   "id": "e119b5cc-ad4a-4746-8759-98204cca27d3",
   "metadata": {},
   "outputs": [
    {
     "data": {
      "text/plain": [
       "[12, 24, 55, 64, 62, 2]"
      ]
     },
     "execution_count": 30,
     "metadata": {},
     "output_type": "execute_result"
    }
   ],
   "source": [
    "ls"
   ]
  },
  {
   "cell_type": "code",
   "execution_count": 31,
   "id": "2e5e30b0-903a-4e12-a9f6-62d0d94127c4",
   "metadata": {},
   "outputs": [],
   "source": [
    "ls.append(2)"
   ]
  },
  {
   "cell_type": "code",
   "execution_count": 32,
   "id": "cc03ddca-a7e2-4070-b606-012984c84223",
   "metadata": {},
   "outputs": [
    {
     "data": {
      "text/plain": [
       "[12, 24, 55, 64, 62, 2, 2]"
      ]
     },
     "execution_count": 32,
     "metadata": {},
     "output_type": "execute_result"
    }
   ],
   "source": [
    "ls"
   ]
  },
  {
   "cell_type": "code",
   "execution_count": 33,
   "id": "9234983f-fd76-490d-b7b5-a45504211d8e",
   "metadata": {},
   "outputs": [
    {
     "ename": "TypeError",
     "evalue": "Human.laugh() takes 0 positional arguments but 1 was given",
     "output_type": "error",
     "traceback": [
      "\u001b[1;31m---------------------------------------------------------------------------\u001b[0m",
      "\u001b[1;31mTypeError\u001b[0m                                 Traceback (most recent call last)",
      "Cell \u001b[1;32mIn[33], line 1\u001b[0m\n\u001b[1;32m----> 1\u001b[0m \u001b[43mobj\u001b[49m\u001b[38;5;241;43m.\u001b[39;49m\u001b[43mlaugh\u001b[49m\u001b[43m(\u001b[49m\u001b[43m)\u001b[49m           \u001b[38;5;66;03m# when we call the method then the object name i.e. obj is by default pass as a argument\u001b[39;00m\n",
      "\u001b[1;31mTypeError\u001b[0m: Human.laugh() takes 0 positional arguments but 1 was given"
     ]
    }
   ],
   "source": [
    "obj.laugh()           # when we call the method then the object name i.e. obj is by default pass as a argument"
   ]
  },
  {
   "cell_type": "code",
   "execution_count": null,
   "id": "2fc0a9e3-ff6b-49d8-9f97-82f43f70e7cf",
   "metadata": {},
   "outputs": [],
   "source": []
  },
  {
   "cell_type": "code",
   "execution_count": 36,
   "id": "a50fd9c8-d8ef-4e04-b182-e68c1be485ce",
   "metadata": {},
   "outputs": [
    {
     "data": {
      "text/plain": [
       "<__main__.Human at 0x1e0a7acd8d0>"
      ]
     },
     "execution_count": 36,
     "metadata": {},
     "output_type": "execute_result"
    }
   ],
   "source": [
    "class Human: \n",
    "    def laugh(self):             # we can take any name instead of 'self' but by default for uderstanding we use self\n",
    "        print(\"You are laughing\")\n",
    "\n",
    "    def cry(self): \n",
    "        print(\"You are crying\")\n",
    "\n",
    "    def fight(self):\n",
    "        print(\"You are fighting\")\n",
    "\n",
    "obj=Human()\n",
    "obj"
   ]
  },
  {
   "cell_type": "code",
   "execution_count": 37,
   "id": "932f2d1a-5df2-43cb-9e7f-f5afd035b71d",
   "metadata": {},
   "outputs": [
    {
     "name": "stdout",
     "output_type": "stream",
     "text": [
      "You are laughing\n"
     ]
    }
   ],
   "source": [
    "obj.laugh()"
   ]
  },
  {
   "cell_type": "code",
   "execution_count": 38,
   "id": "157b2a88-e0cf-473e-901e-81a43349126c",
   "metadata": {},
   "outputs": [
    {
     "name": "stdout",
     "output_type": "stream",
     "text": [
      "You are crying\n"
     ]
    }
   ],
   "source": [
    "obj.cry()"
   ]
  },
  {
   "cell_type": "code",
   "execution_count": 39,
   "id": "20607de9-ac9c-41c4-b1a6-343dd3924471",
   "metadata": {},
   "outputs": [
    {
     "name": "stdout",
     "output_type": "stream",
     "text": [
      "You are fighting\n"
     ]
    }
   ],
   "source": [
    "obj.fight()"
   ]
  },
  {
   "cell_type": "code",
   "execution_count": null,
   "id": "ae6c7d02-8f1f-46e0-959e-c7f860e3cb80",
   "metadata": {},
   "outputs": [],
   "source": []
  },
  {
   "cell_type": "code",
   "execution_count": null,
   "id": "c18069e7-543a-413b-b9c6-aad7176e25e9",
   "metadata": {},
   "outputs": [],
   "source": []
  },
  {
   "cell_type": "markdown",
   "id": "5a2bf4e2-42b0-463c-8112-2668a762b426",
   "metadata": {},
   "source": [
    "## **Defining Attributes**"
   ]
  },
  {
   "cell_type": "code",
   "execution_count": 43,
   "id": "6e9daada-8297-41ab-b9c9-6d36e7c47b05",
   "metadata": {},
   "outputs": [
    {
     "name": "stdout",
     "output_type": "stream",
     "text": [
      "init constructor of Human class\n"
     ]
    }
   ],
   "source": [
    "class Human: \n",
    "    def __init__(self):             # constructor(a magic method) \n",
    "        print(\"init constructor of Human class\")\n",
    "     \n",
    "    def laugh(self):             \n",
    "        print(\"You are laughing\")\n",
    "\n",
    "    def cry(self): \n",
    "        print(\"You are crying\")\n",
    "\n",
    "    def fight(self):\n",
    "        print(\"You are fighting\")\n",
    "\n",
    "obj=Human()"
   ]
  },
  {
   "cell_type": "code",
   "execution_count": 50,
   "id": "301913b9-555c-4036-9995-acf7ecd42333",
   "metadata": {},
   "outputs": [
    {
     "data": {
      "text/plain": [
       "{}"
      ]
     },
     "execution_count": 50,
     "metadata": {},
     "output_type": "execute_result"
    }
   ],
   "source": [
    "obj.__dict__"
   ]
  },
  {
   "cell_type": "code",
   "execution_count": null,
   "id": "e9c87f11-e6e3-4d02-b7d6-79f83700b7b4",
   "metadata": {},
   "outputs": [],
   "source": []
  },
  {
   "cell_type": "code",
   "execution_count": 44,
   "id": "70f887bb-b247-4049-8c83-be2b1d13d63c",
   "metadata": {},
   "outputs": [
    {
     "ename": "TypeError",
     "evalue": "Human.__init__() missing 2 required positional arguments: 'name' and 'age'",
     "output_type": "error",
     "traceback": [
      "\u001b[1;31m---------------------------------------------------------------------------\u001b[0m",
      "\u001b[1;31mTypeError\u001b[0m                                 Traceback (most recent call last)",
      "Cell \u001b[1;32mIn[44], line 14\u001b[0m\n\u001b[0;32m     11\u001b[0m     \u001b[38;5;28;01mdef\u001b[39;00m \u001b[38;5;21mfight\u001b[39m(\u001b[38;5;28mself\u001b[39m):\n\u001b[0;32m     12\u001b[0m         \u001b[38;5;28mprint\u001b[39m(\u001b[38;5;124m\"\u001b[39m\u001b[38;5;124mYou are fighting\u001b[39m\u001b[38;5;124m\"\u001b[39m)\n\u001b[1;32m---> 14\u001b[0m obj1\u001b[38;5;241m=\u001b[39m\u001b[43mHuman\u001b[49m\u001b[43m(\u001b[49m\u001b[43m)\u001b[49m\n\u001b[0;32m     15\u001b[0m obj2\u001b[38;5;241m=\u001b[39mHuman()\n",
      "\u001b[1;31mTypeError\u001b[0m: Human.__init__() missing 2 required positional arguments: 'name' and 'age'"
     ]
    }
   ],
   "source": [
    "class Human: \n",
    "    def __init__(self,name,age):             # constructor(a magic method) \n",
    "        print(\"init constructor of Human class\")\n",
    "     \n",
    "    def laugh(self):             \n",
    "        print(\"You are laughing\")\n",
    "\n",
    "    def cry(self): \n",
    "        print(\"You are crying\")\n",
    "\n",
    "    def fight(self):\n",
    "        print(\"You are fighting\")\n",
    "\n",
    "obj1=Human()\n",
    "obj2=Human()"
   ]
  },
  {
   "cell_type": "code",
   "execution_count": 45,
   "id": "b1c6444a-3d93-425d-9f1d-27a0956d8b78",
   "metadata": {},
   "outputs": [
    {
     "name": "stdout",
     "output_type": "stream",
     "text": [
      "init constructor of Human class\n",
      "init constructor of Human class\n"
     ]
    }
   ],
   "source": [
    "class Human: \n",
    "    def __init__(self,name,age):             # constructor(a magic method) \n",
    "        print(\"init constructor of Human class\")\n",
    "     \n",
    "    def laugh(self):             \n",
    "        print(\"You are laughing\")\n",
    "\n",
    "    def cry(self): \n",
    "        print(\"You are crying\")\n",
    "\n",
    "    def fight(self):\n",
    "        print(\"You are fighting\")\n",
    "\n",
    "obj1=Human('rohan',23)\n",
    "obj2=Human('aman',22)"
   ]
  },
  {
   "cell_type": "code",
   "execution_count": 47,
   "id": "83a92f1e-227d-45da-8f66-dd03fd44d896",
   "metadata": {},
   "outputs": [
    {
     "data": {
      "text/plain": [
       "{'Name': 'rohan', 'Age': 23}"
      ]
     },
     "execution_count": 47,
     "metadata": {},
     "output_type": "execute_result"
    }
   ],
   "source": [
    "obj1.__dict__"
   ]
  },
  {
   "cell_type": "code",
   "execution_count": null,
   "id": "ca022f8f-b532-41ae-9a9f-6f159a72fee0",
   "metadata": {},
   "outputs": [],
   "source": []
  },
  {
   "cell_type": "code",
   "execution_count": 46,
   "id": "c0e42535-48fe-453a-91c2-e864ec97505f",
   "metadata": {},
   "outputs": [],
   "source": [
    "class Human: \n",
    "    def __init__(self,name,age):             \n",
    "        self.Name=name              # dynamic binding(late binding or runtime binding) of variables\n",
    "        self.Age=age    \n",
    "     \n",
    "    def laugh(self):             \n",
    "        print(\"You are laughing\")\n",
    "\n",
    "    def cry(self): \n",
    "        print(\"You are crying\")\n",
    "\n",
    "    def fight(self):\n",
    "        print(\"You are fighting\")\n",
    "\n",
    "obj1=Human('rohan',23)\n",
    "obj2=Human('aman',22)"
   ]
  },
  {
   "cell_type": "code",
   "execution_count": 48,
   "id": "85157c4f-522e-4982-a146-c2425a11b777",
   "metadata": {},
   "outputs": [
    {
     "data": {
      "text/plain": [
       "{'Name': 'rohan', 'Age': 23}"
      ]
     },
     "execution_count": 48,
     "metadata": {},
     "output_type": "execute_result"
    }
   ],
   "source": [
    "obj1.__dict__"
   ]
  },
  {
   "cell_type": "code",
   "execution_count": 49,
   "id": "d6505631-b650-4719-94bd-6811579ddddd",
   "metadata": {},
   "outputs": [
    {
     "data": {
      "text/plain": [
       "{'Name': 'aman', 'Age': 22}"
      ]
     },
     "execution_count": 49,
     "metadata": {},
     "output_type": "execute_result"
    }
   ],
   "source": [
    "obj2.__dict__"
   ]
  },
  {
   "cell_type": "code",
   "execution_count": null,
   "id": "4a03b50f-c38f-4161-9550-fa807ef9719d",
   "metadata": {},
   "outputs": [],
   "source": []
  },
  {
   "cell_type": "code",
   "execution_count": 51,
   "id": "4577219c-e550-4f1c-932d-41cd52a368cc",
   "metadata": {},
   "outputs": [],
   "source": [
    "class Human: \n",
    "    def __init__(self,name,age):             \n",
    "        self.Name=name              # dynamic binding(late binding or runtime binding) of variables\n",
    "        self.Age=age    \n",
    "     \n",
    "    def laugh(self):             \n",
    "        print(f\"{self.Name} is laughing\")\n",
    "\n",
    "    def cry(self): \n",
    "        print(f\"{self.Name} is crying\")\n",
    "\n",
    "    def fight(self):\n",
    "        print(f\"{self.Name} is fighting\")\n",
    "\n",
    "obj1=Human('rohan',23)\n",
    "obj2=Human('aman',22)"
   ]
  },
  {
   "cell_type": "code",
   "execution_count": 57,
   "id": "848e2a86-b663-4e25-a88b-081890f0adc8",
   "metadata": {},
   "outputs": [
    {
     "data": {
      "text/plain": [
       "'rohan'"
      ]
     },
     "execution_count": 57,
     "metadata": {},
     "output_type": "execute_result"
    }
   ],
   "source": [
    "obj1.Name      # fetching attribute"
   ]
  },
  {
   "cell_type": "code",
   "execution_count": 54,
   "id": "39ea23cb-d06c-432b-87dc-2a8b72cc8a2f",
   "metadata": {},
   "outputs": [
    {
     "data": {
      "text/plain": [
       "23"
      ]
     },
     "execution_count": 54,
     "metadata": {},
     "output_type": "execute_result"
    }
   ],
   "source": [
    "obj1.Age"
   ]
  },
  {
   "cell_type": "code",
   "execution_count": 55,
   "id": "5b7c307c-7c85-4bdd-8d17-6534c9105ff6",
   "metadata": {},
   "outputs": [
    {
     "name": "stdout",
     "output_type": "stream",
     "text": [
      "rohan is laughing\n"
     ]
    }
   ],
   "source": [
    "obj1.laugh()      # fetching method"
   ]
  },
  {
   "cell_type": "code",
   "execution_count": 58,
   "id": "f6b234a1-aeff-437a-82d7-4d40386f5d65",
   "metadata": {},
   "outputs": [
    {
     "data": {
      "text/plain": [
       "'simran'"
      ]
     },
     "execution_count": 58,
     "metadata": {},
     "output_type": "execute_result"
    }
   ],
   "source": [
    "obj1.Name=\"simran\"\n",
    "obj1.Name"
   ]
  },
  {
   "cell_type": "code",
   "execution_count": null,
   "id": "bb559d91-0952-4ccb-82f4-4d65c02b7c5d",
   "metadata": {},
   "outputs": [],
   "source": []
  },
  {
   "cell_type": "code",
   "execution_count": null,
   "id": "afa67c71-2c6e-474f-a572-62873bf6c09a",
   "metadata": {},
   "outputs": [],
   "source": []
  },
  {
   "cell_type": "code",
   "execution_count": 59,
   "id": "554f6f61-824b-42ea-bff1-d0edc5976714",
   "metadata": {},
   "outputs": [],
   "source": [
    "class Student: \n",
    "    def __init__(self, m1, m2, m3): \n",
    "        self.m1=m1\n",
    "        self.m2=m2\n",
    "        self.m3=m3\n",
    "\n",
    "    def avg(self):  \n",
    "        return round((self.m1+self.m2+self.m3)/3, 2)\n",
    "\n",
    "s1=Student(22,34,33)\n",
    "s2=Student(34,33,50)"
   ]
  },
  {
   "cell_type": "code",
   "execution_count": 60,
   "id": "81e1b596-9106-475f-8976-3aeaa755d51f",
   "metadata": {},
   "outputs": [
    {
     "data": {
      "text/plain": [
       "29.67"
      ]
     },
     "execution_count": 60,
     "metadata": {},
     "output_type": "execute_result"
    }
   ],
   "source": [
    "s1.avg()"
   ]
  },
  {
   "cell_type": "code",
   "execution_count": 61,
   "id": "6f8d5134-df9a-457b-8cbf-8dc013807737",
   "metadata": {},
   "outputs": [
    {
     "data": {
      "text/plain": [
       "39.0"
      ]
     },
     "execution_count": 61,
     "metadata": {},
     "output_type": "execute_result"
    }
   ],
   "source": [
    "s2.avg()"
   ]
  },
  {
   "cell_type": "code",
   "execution_count": null,
   "id": "36534179-6575-4791-8886-ae661c83a018",
   "metadata": {},
   "outputs": [],
   "source": []
  },
  {
   "cell_type": "code",
   "execution_count": 66,
   "id": "2c470f26-b352-4de5-a3f6-f3a167f4b55d",
   "metadata": {},
   "outputs": [],
   "source": [
    "# for passing any subject of marks we use variable length argument\n",
    "\n",
    "class Student: \n",
    "    def __init__(self, *marks): \n",
    "        self.marks=marks\n",
    "\n",
    "    def avg(self):  \n",
    "        return sum(self.marks)/len(self.marks)\n",
    "\n",
    "s1=Student(22,34,33,45,60)\n",
    "s2=Student(34,33,50)"
   ]
  },
  {
   "cell_type": "code",
   "execution_count": 67,
   "id": "54801197-df0a-4f45-8a90-49878339ca8a",
   "metadata": {},
   "outputs": [
    {
     "data": {
      "text/plain": [
       "38.8"
      ]
     },
     "execution_count": 67,
     "metadata": {},
     "output_type": "execute_result"
    }
   ],
   "source": [
    "s1.avg()"
   ]
  },
  {
   "cell_type": "code",
   "execution_count": 68,
   "id": "9173e102-2a60-46b0-b517-e05ab32ca272",
   "metadata": {},
   "outputs": [
    {
     "data": {
      "text/plain": [
       "39.0"
      ]
     },
     "execution_count": 68,
     "metadata": {},
     "output_type": "execute_result"
    }
   ],
   "source": [
    "s2.avg()"
   ]
  },
  {
   "cell_type": "code",
   "execution_count": null,
   "id": "dd65bedd-aec6-4107-b07b-830c19a07cf7",
   "metadata": {},
   "outputs": [],
   "source": []
  },
  {
   "cell_type": "code",
   "execution_count": null,
   "id": "7bd03db3-4e47-438a-8f1a-b548f870dcd3",
   "metadata": {},
   "outputs": [],
   "source": []
  },
  {
   "cell_type": "code",
   "execution_count": 69,
   "id": "bc4109d3-2620-49a5-bf5a-571e28b1273e",
   "metadata": {},
   "outputs": [],
   "source": [
    "class Person: \n",
    "    def __init__(self, name, age): \n",
    "        self.name=name\n",
    "        self.age=age\n",
    "\n",
    "p1=Person('sachin',23)\n",
    "p2=Person('aman',22)"
   ]
  },
  {
   "cell_type": "code",
   "execution_count": 70,
   "id": "63c0c653-50d8-402f-b579-ca8e3e0d80a2",
   "metadata": {},
   "outputs": [
    {
     "ename": "AttributeError",
     "evalue": "'Person' object has no attribute 'compare'",
     "output_type": "error",
     "traceback": [
      "\u001b[1;31m---------------------------------------------------------------------------\u001b[0m",
      "\u001b[1;31mAttributeError\u001b[0m                            Traceback (most recent call last)",
      "Cell \u001b[1;32mIn[70], line 1\u001b[0m\n\u001b[1;32m----> 1\u001b[0m \u001b[43mp1\u001b[49m\u001b[38;5;241;43m.\u001b[39;49m\u001b[43mcompare\u001b[49m(p2)\n",
      "\u001b[1;31mAttributeError\u001b[0m: 'Person' object has no attribute 'compare'"
     ]
    }
   ],
   "source": [
    "p1.compare(p2)"
   ]
  },
  {
   "cell_type": "code",
   "execution_count": 81,
   "id": "8f1e85d8-55e6-42e0-81fb-6cf0257525d1",
   "metadata": {},
   "outputs": [
    {
     "ename": "AttributeError",
     "evalue": "type object 'Person' has no attribute 'compare'",
     "output_type": "error",
     "traceback": [
      "\u001b[1;31m---------------------------------------------------------------------------\u001b[0m",
      "\u001b[1;31mAttributeError\u001b[0m                            Traceback (most recent call last)",
      "Cell \u001b[1;32mIn[81], line 1\u001b[0m\n\u001b[1;32m----> 1\u001b[0m \u001b[43mPerson\u001b[49m\u001b[38;5;241;43m.\u001b[39;49m\u001b[43mcompare\u001b[49m(p1,p2)\n",
      "\u001b[1;31mAttributeError\u001b[0m: type object 'Person' has no attribute 'compare'"
     ]
    }
   ],
   "source": [
    "Person.compare(p1,p2)"
   ]
  },
  {
   "cell_type": "code",
   "execution_count": 72,
   "id": "7dc98fe2-f0c1-4351-b2a9-5e521f4a9355",
   "metadata": {},
   "outputs": [
    {
     "data": {
      "text/plain": [
       "38.8"
      ]
     },
     "execution_count": 72,
     "metadata": {},
     "output_type": "execute_result"
    }
   ],
   "source": [
    "# method calling by object or class \n",
    "\n",
    "Student.avg(s1)"
   ]
  },
  {
   "cell_type": "code",
   "execution_count": 73,
   "id": "668f9d15-a150-4195-8b18-733e9d49db37",
   "metadata": {},
   "outputs": [
    {
     "data": {
      "text/plain": [
       "39.0"
      ]
     },
     "execution_count": 73,
     "metadata": {},
     "output_type": "execute_result"
    }
   ],
   "source": [
    "Student.avg(s2)"
   ]
  },
  {
   "cell_type": "code",
   "execution_count": null,
   "id": "1bad3141-3fbf-44fe-8607-66c17c92af95",
   "metadata": {},
   "outputs": [],
   "source": []
  },
  {
   "cell_type": "code",
   "execution_count": null,
   "id": "2b8708b5-0c04-4034-ac06-bee7e74de326",
   "metadata": {},
   "outputs": [],
   "source": []
  },
  {
   "cell_type": "code",
   "execution_count": 77,
   "id": "05ff0659-e594-49d0-b924-3b1eb750829c",
   "metadata": {},
   "outputs": [],
   "source": [
    "ls=[1,2,3,4,5]"
   ]
  },
  {
   "cell_type": "code",
   "execution_count": 78,
   "id": "860d8896-8e66-4671-972a-6ec83ce11b74",
   "metadata": {},
   "outputs": [],
   "source": [
    "ls.append(6)          # call by object"
   ]
  },
  {
   "cell_type": "code",
   "execution_count": 79,
   "id": "a6c8db42-70e9-4b44-ac89-0026132ca1c6",
   "metadata": {},
   "outputs": [],
   "source": [
    "list.append(ls,7)      # call by class"
   ]
  },
  {
   "cell_type": "code",
   "execution_count": 80,
   "id": "892fa390-4275-4942-88c0-f18d7d820776",
   "metadata": {},
   "outputs": [
    {
     "data": {
      "text/plain": [
       "[1, 2, 3, 4, 5, 6, 7]"
      ]
     },
     "execution_count": 80,
     "metadata": {},
     "output_type": "execute_result"
    }
   ],
   "source": [
    "ls"
   ]
  },
  {
   "cell_type": "code",
   "execution_count": null,
   "id": "433d8a0c-bf93-466a-88f0-e0086d6aeaba",
   "metadata": {},
   "outputs": [],
   "source": []
  },
  {
   "cell_type": "code",
   "execution_count": null,
   "id": "ace8e3fa-9d4d-4ed6-8fdf-bf12d090741d",
   "metadata": {},
   "outputs": [],
   "source": []
  },
  {
   "cell_type": "code",
   "execution_count": 82,
   "id": "ddaac448-9cfc-4f91-a4af-81cdb1ba7092",
   "metadata": {},
   "outputs": [],
   "source": [
    "# comparing object\n",
    "\n",
    "class Person: \n",
    "    def __init__(self, name, age): \n",
    "        self.name=name\n",
    "        self.age=age\n",
    "\n",
    "    def compare(self,other):\n",
    "        if self.age> other.age: \n",
    "            return f\"{self.name} is older than {other.name}\"\n",
    "        else: \n",
    "            return f\"{self.name} is younger than {other.name}\"\n",
    "        \n",
    "p1=Person('sachin',23)\n",
    "p2=Person('aman',22)"
   ]
  },
  {
   "cell_type": "code",
   "execution_count": 83,
   "id": "8790b611-5595-4a6f-88f7-c0fe5f796b34",
   "metadata": {},
   "outputs": [
    {
     "data": {
      "text/plain": [
       "'sachin is older than aman'"
      ]
     },
     "execution_count": 83,
     "metadata": {},
     "output_type": "execute_result"
    }
   ],
   "source": [
    "p1.compare(p2)"
   ]
  },
  {
   "cell_type": "code",
   "execution_count": null,
   "id": "97eba339-7b4c-4d9c-874d-8e20c32b5cb4",
   "metadata": {},
   "outputs": [],
   "source": []
  },
  {
   "cell_type": "code",
   "execution_count": null,
   "id": "57f08166-339f-42e7-b99a-9938e9c4b45f",
   "metadata": {},
   "outputs": [],
   "source": []
  },
  {
   "cell_type": "markdown",
   "id": "08747307-c39f-4660-9a48-627a93bdeda6",
   "metadata": {},
   "source": [
    "## .**Types of variables in OOP's**\n",
    "- Instance Variable:\n",
    "  - variable declared inside contructor(__init__) are called instance variable.\n",
    "  - as the object changes the value of instance variable will change.\n",
    "- Class Variable:\n",
    "  - variable declared inside and outside the constructor(__init__) are called class variable.\n",
    "  - common for all objects."
   ]
  },
  {
   "cell_type": "code",
   "execution_count": null,
   "id": "d89d549b-6787-44f0-8d2b-8760e75b8dae",
   "metadata": {},
   "outputs": [],
   "source": []
  }
 ],
 "metadata": {
  "kernelspec": {
   "display_name": "Python 3 (ipykernel)",
   "language": "python",
   "name": "python3"
  },
  "language_info": {
   "codemirror_mode": {
    "name": "ipython",
    "version": 3
   },
   "file_extension": ".py",
   "mimetype": "text/x-python",
   "name": "python",
   "nbconvert_exporter": "python",
   "pygments_lexer": "ipython3",
   "version": "3.11.3"
  }
 },
 "nbformat": 4,
 "nbformat_minor": 5
}
