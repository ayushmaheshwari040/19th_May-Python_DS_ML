{
 "cells": [
  {
   "cell_type": "markdown",
   "id": "cb8e723a-7ff8-43d8-ba7f-bdd98b88a361",
   "metadata": {},
   "source": [
    "# Data Serialization\n",
    "- - Serialization: Converting a Python object into a byte stream or string representation.\n",
    "  - Deserialization: Reconstructing the object from its serialized form.\n",
    "- This topic is connected with File Handling.\n",
    "- We store any type of data using data serialization.\n",
    "- Better than file handling because the data stored and retrieved in file handling is of string type but, using data serialization we stora retrive data as it is type."
   ]
  },
  {
   "cell_type": "code",
   "execution_count": 1,
   "id": "e648e8db-d2b9-4119-8cb8-fe26631f08cd",
   "metadata": {},
   "outputs": [],
   "source": [
    "with open('new.txt','w') as f: \n",
    "    f.write('hello world !')"
   ]
  },
  {
   "cell_type": "code",
   "execution_count": 2,
   "id": "50556ed4-72fa-46d8-9203-0d989add8c29",
   "metadata": {},
   "outputs": [],
   "source": [
    "ls=[10,20,30,40,50,60]"
   ]
  },
  {
   "cell_type": "code",
   "execution_count": 8,
   "id": "d8deeb01-159f-4202-bc43-61e99e1db4e5",
   "metadata": {},
   "outputs": [
    {
     "ename": "TypeError",
     "evalue": "write() argument must be str, not list",
     "output_type": "error",
     "traceback": [
      "\u001b[1;31m---------------------------------------------------------------------------\u001b[0m",
      "\u001b[1;31mTypeError\u001b[0m                                 Traceback (most recent call last)",
      "Cell \u001b[1;32mIn[8], line 2\u001b[0m\n\u001b[0;32m      1\u001b[0m \u001b[38;5;28;01mwith\u001b[39;00m \u001b[38;5;28mopen\u001b[39m(\u001b[38;5;124m'\u001b[39m\u001b[38;5;124mnew1.txt\u001b[39m\u001b[38;5;124m'\u001b[39m,\u001b[38;5;124m'\u001b[39m\u001b[38;5;124mw\u001b[39m\u001b[38;5;124m'\u001b[39m) \u001b[38;5;28;01mas\u001b[39;00m f: \n\u001b[1;32m----> 2\u001b[0m     \u001b[43mf\u001b[49m\u001b[38;5;241;43m.\u001b[39;49m\u001b[43mwrite\u001b[49m\u001b[43m(\u001b[49m\u001b[43mls\u001b[49m\u001b[43m)\u001b[49m\n",
      "\u001b[1;31mTypeError\u001b[0m: write() argument must be str, not list"
     ]
    }
   ],
   "source": [
    "with open('new1.txt','w') as f: \n",
    "    f.write(ls)"
   ]
  },
  {
   "cell_type": "code",
   "execution_count": 9,
   "id": "19d1b9c2-96b8-41f2-ae48-fec471307e17",
   "metadata": {},
   "outputs": [
    {
     "data": {
      "text/plain": [
       "'[10, 20, 30, 40, 50, 60]'"
      ]
     },
     "execution_count": 9,
     "metadata": {},
     "output_type": "execute_result"
    }
   ],
   "source": [
    "str(ls)"
   ]
  },
  {
   "cell_type": "code",
   "execution_count": 11,
   "id": "ef364ae1-9042-42c3-95b4-d0b1bfa005cb",
   "metadata": {},
   "outputs": [],
   "source": [
    "with open('new1.txt','w') as f: \n",
    "    f.write(str(ls))"
   ]
  },
  {
   "cell_type": "code",
   "execution_count": 12,
   "id": "6de09da9-eca5-4304-9bfa-e4aac6641aa0",
   "metadata": {},
   "outputs": [
    {
     "name": "stdout",
     "output_type": "stream",
     "text": [
      "[10, 20, 30, 40, 50, 60]\n"
     ]
    }
   ],
   "source": [
    "with open('new1.txt','r') as f: \n",
    "    d=f.read()\n",
    "\n",
    "print(d)"
   ]
  },
  {
   "cell_type": "code",
   "execution_count": 13,
   "id": "1951c5bf-29a3-49b1-a673-84b57179a311",
   "metadata": {},
   "outputs": [
    {
     "data": {
      "text/plain": [
       "'['"
      ]
     },
     "execution_count": 13,
     "metadata": {},
     "output_type": "execute_result"
    }
   ],
   "source": [
    "d[0]"
   ]
  },
  {
   "cell_type": "code",
   "execution_count": 14,
   "id": "1f6a8707-fb85-4e98-8567-067ca39bb634",
   "metadata": {},
   "outputs": [
    {
     "data": {
      "text/plain": [
       "'[10, 20, 30, 40, 50, 60]'"
      ]
     },
     "execution_count": 14,
     "metadata": {},
     "output_type": "execute_result"
    }
   ],
   "source": [
    "d"
   ]
  },
  {
   "cell_type": "code",
   "execution_count": 15,
   "id": "02357c2a-a42b-42e7-987f-6bc7012c5b9b",
   "metadata": {},
   "outputs": [
    {
     "data": {
      "text/plain": [
       "str"
      ]
     },
     "execution_count": 15,
     "metadata": {},
     "output_type": "execute_result"
    }
   ],
   "source": [
    "type(d)"
   ]
  },
  {
   "cell_type": "code",
   "execution_count": 16,
   "id": "eece5a6e-844e-4a91-a183-c93088fc41af",
   "metadata": {},
   "outputs": [
    {
     "data": {
      "text/plain": [
       "['[',\n",
       " '1',\n",
       " '0',\n",
       " ',',\n",
       " ' ',\n",
       " '2',\n",
       " '0',\n",
       " ',',\n",
       " ' ',\n",
       " '3',\n",
       " '0',\n",
       " ',',\n",
       " ' ',\n",
       " '4',\n",
       " '0',\n",
       " ',',\n",
       " ' ',\n",
       " '5',\n",
       " '0',\n",
       " ',',\n",
       " ' ',\n",
       " '6',\n",
       " '0',\n",
       " ']']"
      ]
     },
     "execution_count": 16,
     "metadata": {},
     "output_type": "execute_result"
    }
   ],
   "source": [
    "list(d)"
   ]
  },
  {
   "cell_type": "code",
   "execution_count": 21,
   "id": "55f69e40-07a0-4180-b5af-3fb6a26c4c1b",
   "metadata": {},
   "outputs": [
    {
     "data": {
      "text/plain": [
       "'[10, 20, 30, 40, 50, 60]'"
      ]
     },
     "execution_count": 21,
     "metadata": {},
     "output_type": "execute_result"
    }
   ],
   "source": [
    "d"
   ]
  },
  {
   "cell_type": "code",
   "execution_count": 24,
   "id": "e5606331-d47e-463c-a4e6-a88f426ed010",
   "metadata": {},
   "outputs": [
    {
     "data": {
      "text/plain": [
       "'10, 20, 30, 40, 50, 60'"
      ]
     },
     "execution_count": 24,
     "metadata": {},
     "output_type": "execute_result"
    }
   ],
   "source": [
    "d.strip('[]')"
   ]
  },
  {
   "cell_type": "code",
   "execution_count": 25,
   "id": "2cd34533-3bbb-477a-9b52-d15749b2affa",
   "metadata": {},
   "outputs": [
    {
     "data": {
      "text/plain": [
       "['10', '20', '30', '40', '50', '60']"
      ]
     },
     "execution_count": 25,
     "metadata": {},
     "output_type": "execute_result"
    }
   ],
   "source": [
    "d.strip('[]').split(', ')"
   ]
  },
  {
   "cell_type": "code",
   "execution_count": 26,
   "id": "78ef086c-cd2c-4a6f-bde5-085cd2bb69be",
   "metadata": {},
   "outputs": [
    {
     "data": {
      "text/plain": [
       "[10, 20, 30, 40, 50, 60]"
      ]
     },
     "execution_count": 26,
     "metadata": {},
     "output_type": "execute_result"
    }
   ],
   "source": [
    "list(map(int,d.strip('[]').split(', ')))"
   ]
  },
  {
   "cell_type": "code",
   "execution_count": null,
   "id": "278a9d3f-5bb1-4b46-9277-df30207a9e89",
   "metadata": {},
   "outputs": [],
   "source": []
  },
  {
   "cell_type": "code",
   "execution_count": 27,
   "id": "f7f0d271-45dc-459f-933f-005fc3d62dea",
   "metadata": {},
   "outputs": [
    {
     "data": {
      "text/plain": [
       "{'name': 'rohan', 'age': 23, 'address': 'jaipur'}"
      ]
     },
     "execution_count": 27,
     "metadata": {},
     "output_type": "execute_result"
    }
   ],
   "source": [
    "d={'name':'rohan','age':23, 'address':'jaipur'}\n",
    "d"
   ]
  },
  {
   "cell_type": "code",
   "execution_count": 28,
   "id": "d77d6cfc-7bf8-41d9-ad59-8cc167de33c1",
   "metadata": {},
   "outputs": [
    {
     "data": {
      "text/plain": [
       "\"{'name': 'rohan', 'age': 23, 'address': 'jaipur'}\""
      ]
     },
     "execution_count": 28,
     "metadata": {},
     "output_type": "execute_result"
    }
   ],
   "source": [
    "str(d)"
   ]
  },
  {
   "cell_type": "code",
   "execution_count": null,
   "id": "44606d80-c52a-4d79-9390-417866f1d5fe",
   "metadata": {},
   "outputs": [],
   "source": []
  },
  {
   "cell_type": "code",
   "execution_count": null,
   "id": "4ff2064e-8026-4aeb-9487-79279ec48125",
   "metadata": {},
   "outputs": [],
   "source": []
  },
  {
   "cell_type": "markdown",
   "id": "228ac650-fc9b-4d9c-8db2-e568da6c31f4",
   "metadata": {},
   "source": [
    "# Data Serialization\n",
    "- Two techniques:-\n",
    "  - JSON\n",
    "    - java script object  notation\n",
    "    - universal serializer\n",
    "  - Pickle\n",
    "    - it is python specific serializer"
   ]
  },
  {
   "cell_type": "code",
   "execution_count": null,
   "id": "1ccac39a-b4d0-4311-8e6b-22fda4177ece",
   "metadata": {},
   "outputs": [],
   "source": []
  },
  {
   "cell_type": "markdown",
   "id": "ec05a11a-f6b4-4ecb-86b6-928a326339d9",
   "metadata": {},
   "source": [
    "### **JSON**\n",
    "- Stores data in string form or it is human readable file\n",
    "- Functions:-\n",
    "  - load()-> data serialize using file\n",
    "  - dump()-> data deserialize using file\n",
    "  - loads()-> openly serialize without using file\n",
    "  - dumps()-> openly deserialize without using file\n",
    "- Drawbacks:-\n",
    "  - In dictionary datatype when we deseralize, than the key changes to string\n",
    "  - Tuple and Set doesn't properly serialize and deserialize, the datatype changes to list\n",
    "  - It can't serialize and deserialize the zip object  "
   ]
  },
  {
   "cell_type": "code",
   "execution_count": null,
   "id": "3b490e1e-77eb-47f8-9042-a47311a6e48d",
   "metadata": {},
   "outputs": [],
   "source": []
  },
  {
   "cell_type": "code",
   "execution_count": 35,
   "id": "0448c259-cdb1-4644-8289-2bfc8edb8d0f",
   "metadata": {},
   "outputs": [],
   "source": [
    "import json"
   ]
  },
  {
   "cell_type": "code",
   "execution_count": 36,
   "id": "313c37e7-aa65-4060-b20c-35e9c13079cc",
   "metadata": {},
   "outputs": [
    {
     "data": {
      "text/plain": [
       "[10, 20, 30, 40, 50, 60]"
      ]
     },
     "execution_count": 36,
     "metadata": {},
     "output_type": "execute_result"
    }
   ],
   "source": [
    "ls"
   ]
  },
  {
   "cell_type": "code",
   "execution_count": 37,
   "id": "af11dec7-a82f-446b-a469-ecf1951f9d0b",
   "metadata": {},
   "outputs": [],
   "source": [
    "with open('data.json','w') as f:  \n",
    "    json.dump(ls,f)                     # by this we retrive as it is data with its existing datatype--> data serialization"
   ]
  },
  {
   "cell_type": "code",
   "execution_count": 44,
   "id": "7ab9909a-0d85-4c72-bf60-1f1d3963b563",
   "metadata": {},
   "outputs": [],
   "source": [
    "with open('data.json','r') as f:\n",
    "    v=json.load(f)                       # data deserialization"
   ]
  },
  {
   "cell_type": "code",
   "execution_count": 45,
   "id": "6556d6a6-6cd0-4399-8108-9a219bc22c11",
   "metadata": {},
   "outputs": [
    {
     "data": {
      "text/plain": [
       "[10, 20, 30, 40, 50, 60]"
      ]
     },
     "execution_count": 45,
     "metadata": {},
     "output_type": "execute_result"
    }
   ],
   "source": [
    "v"
   ]
  },
  {
   "cell_type": "code",
   "execution_count": 46,
   "id": "d39a2d10-2ba1-4da6-8033-d52da7a7965c",
   "metadata": {},
   "outputs": [
    {
     "data": {
      "text/plain": [
       "(10, int)"
      ]
     },
     "execution_count": 46,
     "metadata": {},
     "output_type": "execute_result"
    }
   ],
   "source": [
    "v[0], type(v[0])"
   ]
  },
  {
   "cell_type": "code",
   "execution_count": null,
   "id": "afa4e698-b32e-4b68-bde1-2e3ab0bc855c",
   "metadata": {},
   "outputs": [],
   "source": []
  },
  {
   "cell_type": "code",
   "execution_count": 47,
   "id": "a6d66f4d-29ef-4da1-be8b-fb2cc5498843",
   "metadata": {},
   "outputs": [
    {
     "data": {
      "text/plain": [
       "{'name': 'rohan', 'age': 23, 'address': 'jaipur'}"
      ]
     },
     "execution_count": 47,
     "metadata": {},
     "output_type": "execute_result"
    }
   ],
   "source": [
    "d"
   ]
  },
  {
   "cell_type": "code",
   "execution_count": 50,
   "id": "b0d201cd-66c0-436b-935c-cd1fef439a68",
   "metadata": {},
   "outputs": [],
   "source": [
    "with open('data.json','w') as f: \n",
    "    json.dump(d,f)                # data seraialization"
   ]
  },
  {
   "cell_type": "code",
   "execution_count": 54,
   "id": "20c463bc-bb99-4270-b750-02119a33ec40",
   "metadata": {},
   "outputs": [],
   "source": [
    "with open('data.json','r') as f: \n",
    "   v=json.load(f)                # data deserialization"
   ]
  },
  {
   "cell_type": "code",
   "execution_count": 55,
   "id": "3f241f00-25b6-4215-b0be-2df4a7e960d7",
   "metadata": {},
   "outputs": [
    {
     "data": {
      "text/plain": [
       "{'name': 'rohan', 'age': 23, 'address': 'jaipur'}"
      ]
     },
     "execution_count": 55,
     "metadata": {},
     "output_type": "execute_result"
    }
   ],
   "source": [
    "v"
   ]
  },
  {
   "cell_type": "code",
   "execution_count": null,
   "id": "534e8868-4013-4720-873f-f5b162db0dd8",
   "metadata": {},
   "outputs": [],
   "source": []
  },
  {
   "cell_type": "code",
   "execution_count": 56,
   "id": "1d78aa7c-9086-4d9c-9f11-4132989640df",
   "metadata": {},
   "outputs": [
    {
     "data": {
      "text/plain": [
       "[10, 20, 30, 40, 50, 60]"
      ]
     },
     "execution_count": 56,
     "metadata": {},
     "output_type": "execute_result"
    }
   ],
   "source": [
    "ls"
   ]
  },
  {
   "cell_type": "code",
   "execution_count": 60,
   "id": "35da30c3-b203-4b6d-9438-de6da2e9f1aa",
   "metadata": {},
   "outputs": [
    {
     "data": {
      "text/plain": [
       "'[10, 20, 30, 40, 50, 60]'"
      ]
     },
     "execution_count": 60,
     "metadata": {},
     "output_type": "execute_result"
    }
   ],
   "source": [
    "sr_obj=json.dumps(ls)\n",
    "sr_obj"
   ]
  },
  {
   "cell_type": "code",
   "execution_count": 61,
   "id": "3aaa58a0-0a41-4587-b0ea-6c93f1d18a41",
   "metadata": {},
   "outputs": [
    {
     "data": {
      "text/plain": [
       "[10, 20, 30, 40, 50, 60]"
      ]
     },
     "execution_count": 61,
     "metadata": {},
     "output_type": "execute_result"
    }
   ],
   "source": [
    "json.loads(sr_obj)"
   ]
  },
  {
   "cell_type": "code",
   "execution_count": null,
   "id": "cead4b29-4a9d-45b9-80f3-d0aecca52a0f",
   "metadata": {},
   "outputs": [],
   "source": []
  },
  {
   "cell_type": "code",
   "execution_count": 65,
   "id": "b3d3a1aa-83b9-442c-8d9e-50d119e78318",
   "metadata": {},
   "outputs": [
    {
     "name": "stdout",
     "output_type": "stream",
     "text": [
      "['JSONDecodeError', 'JSONDecoder', 'JSONEncoder', '__all__', '__author__', '__builtins__', '__cached__', '__doc__', '__file__', '__loader__', '__name__', '__package__', '__path__', '__spec__', '__version__', '_default_decoder', '_default_encoder', 'codecs', 'decoder', 'detect_encoding', 'dump', 'dumps', 'encoder', 'load', 'loads', 'scanner']\n"
     ]
    }
   ],
   "source": [
    "print(dir(json))"
   ]
  },
  {
   "cell_type": "code",
   "execution_count": 66,
   "id": "e56813ab-04fe-44b3-a93f-b0590de7eb23",
   "metadata": {},
   "outputs": [
    {
     "data": {
      "text/plain": [
       "{'name': 'rohan', 'age': 23, 'address': 'jaipur'}"
      ]
     },
     "execution_count": 66,
     "metadata": {},
     "output_type": "execute_result"
    }
   ],
   "source": [
    "d"
   ]
  },
  {
   "cell_type": "code",
   "execution_count": null,
   "id": "b8d1ec44-ab8b-4abb-a5bd-8edf5b53fa26",
   "metadata": {},
   "outputs": [],
   "source": []
  },
  {
   "cell_type": "code",
   "execution_count": 67,
   "id": "b3cf3073-056d-47bd-81d0-13c7ab4ff12b",
   "metadata": {},
   "outputs": [
    {
     "data": {
      "text/plain": [
       "{1001: ['rohan', 'rohan@1234', 20000], 1002: ['rahul', 'rahl@1234', 30000]}"
      ]
     },
     "execution_count": 67,
     "metadata": {},
     "output_type": "execute_result"
    }
   ],
   "source": [
    "d1={1001:['rohan','rohan@1234',20000],1002:['rahul','rahl@1234',30000], }\n",
    "d1"
   ]
  },
  {
   "cell_type": "code",
   "execution_count": 68,
   "id": "5d9a8829-cee8-40a7-9b09-a1c23f9e3108",
   "metadata": {},
   "outputs": [
    {
     "data": {
      "text/plain": [
       "'{\"1001\": [\"rohan\", \"rohan@1234\", 20000], \"1002\": [\"rahul\", \"rahl@1234\", 30000]}'"
      ]
     },
     "execution_count": 68,
     "metadata": {},
     "output_type": "execute_result"
    }
   ],
   "source": [
    "a=json.dumps(d1)\n",
    "a"
   ]
  },
  {
   "cell_type": "code",
   "execution_count": 70,
   "id": "552d02ea-e6ff-47e3-8b25-dcccc6fb3dcb",
   "metadata": {},
   "outputs": [
    {
     "data": {
      "text/plain": [
       "{'1001': ['rohan', 'rohan@1234', 20000], '1002': ['rahul', 'rahl@1234', 30000]}"
      ]
     },
     "execution_count": 70,
     "metadata": {},
     "output_type": "execute_result"
    }
   ],
   "source": [
    "# Drawback1-> the key changes from integer to string\n",
    "\n",
    "json.loads(a)                    "
   ]
  },
  {
   "cell_type": "code",
   "execution_count": null,
   "id": "02dec41d-158c-4348-baff-c0b8aa01c501",
   "metadata": {},
   "outputs": [],
   "source": []
  },
  {
   "cell_type": "code",
   "execution_count": 102,
   "id": "11c3014a-60ae-421f-baa0-0ff40f13baf0",
   "metadata": {},
   "outputs": [
    {
     "data": {
      "text/plain": [
       "'[1, 2, 3, 4, 5, 6]'"
      ]
     },
     "execution_count": 102,
     "metadata": {},
     "output_type": "execute_result"
    }
   ],
   "source": [
    "# Drawback2-> Tuple and Set doesn't serailize and deserialize properly \n",
    "\n",
    "tp=(1,2,3,4,5,6)\n",
    "t=json.dumps(tp) \n",
    "t"
   ]
  },
  {
   "cell_type": "code",
   "execution_count": 103,
   "id": "39ab4499-57db-4087-a405-086291903209",
   "metadata": {},
   "outputs": [
    {
     "data": {
      "text/plain": [
       "[1, 2, 3, 4, 5, 6]"
      ]
     },
     "execution_count": 103,
     "metadata": {},
     "output_type": "execute_result"
    }
   ],
   "source": [
    "json.loads(t)         # it changes tuple to list"
   ]
  },
  {
   "cell_type": "code",
   "execution_count": 115,
   "id": "e1a4b25f-d088-4f98-9233-8825844bd623",
   "metadata": {},
   "outputs": [],
   "source": []
  },
  {
   "cell_type": "code",
   "execution_count": 116,
   "id": "a75b222a-9bfe-4974-adb4-446c4cdbb682",
   "metadata": {},
   "outputs": [
    {
     "name": "stdout",
     "output_type": "stream",
     "text": [
      "<zip object at 0x00000175FC195180>\n",
      "[(1, 'a'), (2, 'b'), (3, 'c')]\n"
     ]
    }
   ],
   "source": [
    "# Drawback3-> It can't serialize the zipped object\n",
    "\n",
    "list1 = [1, 2, 3]\n",
    "list2 = ['a', 'b', 'c']\n",
    "\n",
    "zipped = zip(list1, list2)\n",
    "\n",
    "print(zipped)\n",
    "\n",
    "print(list(zipped))  # Output: [(1, 'a'), (2, 'b'), (3, 'c')]"
   ]
  },
  {
   "cell_type": "code",
   "execution_count": 117,
   "id": "734a2d29-2f0c-4bc7-a9d2-8a3a7da2cdc1",
   "metadata": {},
   "outputs": [
    {
     "ename": "TypeError",
     "evalue": "Object of type zip is not JSON serializable",
     "output_type": "error",
     "traceback": [
      "\u001b[1;31m---------------------------------------------------------------------------\u001b[0m",
      "\u001b[1;31mTypeError\u001b[0m                                 Traceback (most recent call last)",
      "Cell \u001b[1;32mIn[117], line 1\u001b[0m\n\u001b[1;32m----> 1\u001b[0m z\u001b[38;5;241m=\u001b[39m\u001b[43mjson\u001b[49m\u001b[38;5;241;43m.\u001b[39;49m\u001b[43mdumps\u001b[49m\u001b[43m(\u001b[49m\u001b[43mzipped\u001b[49m\u001b[43m)\u001b[49m\n\u001b[0;32m      2\u001b[0m z\n",
      "File \u001b[1;32m~\\AppData\\Local\\Programs\\Python\\Python311\\Lib\\json\\__init__.py:231\u001b[0m, in \u001b[0;36mdumps\u001b[1;34m(obj, skipkeys, ensure_ascii, check_circular, allow_nan, cls, indent, separators, default, sort_keys, **kw)\u001b[0m\n\u001b[0;32m    226\u001b[0m \u001b[38;5;66;03m# cached encoder\u001b[39;00m\n\u001b[0;32m    227\u001b[0m \u001b[38;5;28;01mif\u001b[39;00m (\u001b[38;5;129;01mnot\u001b[39;00m skipkeys \u001b[38;5;129;01mand\u001b[39;00m ensure_ascii \u001b[38;5;129;01mand\u001b[39;00m\n\u001b[0;32m    228\u001b[0m     check_circular \u001b[38;5;129;01mand\u001b[39;00m allow_nan \u001b[38;5;129;01mand\u001b[39;00m\n\u001b[0;32m    229\u001b[0m     \u001b[38;5;28mcls\u001b[39m \u001b[38;5;129;01mis\u001b[39;00m \u001b[38;5;28;01mNone\u001b[39;00m \u001b[38;5;129;01mand\u001b[39;00m indent \u001b[38;5;129;01mis\u001b[39;00m \u001b[38;5;28;01mNone\u001b[39;00m \u001b[38;5;129;01mand\u001b[39;00m separators \u001b[38;5;129;01mis\u001b[39;00m \u001b[38;5;28;01mNone\u001b[39;00m \u001b[38;5;129;01mand\u001b[39;00m\n\u001b[0;32m    230\u001b[0m     default \u001b[38;5;129;01mis\u001b[39;00m \u001b[38;5;28;01mNone\u001b[39;00m \u001b[38;5;129;01mand\u001b[39;00m \u001b[38;5;129;01mnot\u001b[39;00m sort_keys \u001b[38;5;129;01mand\u001b[39;00m \u001b[38;5;129;01mnot\u001b[39;00m kw):\n\u001b[1;32m--> 231\u001b[0m     \u001b[38;5;28;01mreturn\u001b[39;00m \u001b[43m_default_encoder\u001b[49m\u001b[38;5;241;43m.\u001b[39;49m\u001b[43mencode\u001b[49m\u001b[43m(\u001b[49m\u001b[43mobj\u001b[49m\u001b[43m)\u001b[49m\n\u001b[0;32m    232\u001b[0m \u001b[38;5;28;01mif\u001b[39;00m \u001b[38;5;28mcls\u001b[39m \u001b[38;5;129;01mis\u001b[39;00m \u001b[38;5;28;01mNone\u001b[39;00m:\n\u001b[0;32m    233\u001b[0m     \u001b[38;5;28mcls\u001b[39m \u001b[38;5;241m=\u001b[39m JSONEncoder\n",
      "File \u001b[1;32m~\\AppData\\Local\\Programs\\Python\\Python311\\Lib\\json\\encoder.py:200\u001b[0m, in \u001b[0;36mJSONEncoder.encode\u001b[1;34m(self, o)\u001b[0m\n\u001b[0;32m    196\u001b[0m         \u001b[38;5;28;01mreturn\u001b[39;00m encode_basestring(o)\n\u001b[0;32m    197\u001b[0m \u001b[38;5;66;03m# This doesn't pass the iterator directly to ''.join() because the\u001b[39;00m\n\u001b[0;32m    198\u001b[0m \u001b[38;5;66;03m# exceptions aren't as detailed.  The list call should be roughly\u001b[39;00m\n\u001b[0;32m    199\u001b[0m \u001b[38;5;66;03m# equivalent to the PySequence_Fast that ''.join() would do.\u001b[39;00m\n\u001b[1;32m--> 200\u001b[0m chunks \u001b[38;5;241m=\u001b[39m \u001b[38;5;28;43mself\u001b[39;49m\u001b[38;5;241;43m.\u001b[39;49m\u001b[43miterencode\u001b[49m\u001b[43m(\u001b[49m\u001b[43mo\u001b[49m\u001b[43m,\u001b[49m\u001b[43m \u001b[49m\u001b[43m_one_shot\u001b[49m\u001b[38;5;241;43m=\u001b[39;49m\u001b[38;5;28;43;01mTrue\u001b[39;49;00m\u001b[43m)\u001b[49m\n\u001b[0;32m    201\u001b[0m \u001b[38;5;28;01mif\u001b[39;00m \u001b[38;5;129;01mnot\u001b[39;00m \u001b[38;5;28misinstance\u001b[39m(chunks, (\u001b[38;5;28mlist\u001b[39m, \u001b[38;5;28mtuple\u001b[39m)):\n\u001b[0;32m    202\u001b[0m     chunks \u001b[38;5;241m=\u001b[39m \u001b[38;5;28mlist\u001b[39m(chunks)\n",
      "File \u001b[1;32m~\\AppData\\Local\\Programs\\Python\\Python311\\Lib\\json\\encoder.py:258\u001b[0m, in \u001b[0;36mJSONEncoder.iterencode\u001b[1;34m(self, o, _one_shot)\u001b[0m\n\u001b[0;32m    253\u001b[0m \u001b[38;5;28;01melse\u001b[39;00m:\n\u001b[0;32m    254\u001b[0m     _iterencode \u001b[38;5;241m=\u001b[39m _make_iterencode(\n\u001b[0;32m    255\u001b[0m         markers, \u001b[38;5;28mself\u001b[39m\u001b[38;5;241m.\u001b[39mdefault, _encoder, \u001b[38;5;28mself\u001b[39m\u001b[38;5;241m.\u001b[39mindent, floatstr,\n\u001b[0;32m    256\u001b[0m         \u001b[38;5;28mself\u001b[39m\u001b[38;5;241m.\u001b[39mkey_separator, \u001b[38;5;28mself\u001b[39m\u001b[38;5;241m.\u001b[39mitem_separator, \u001b[38;5;28mself\u001b[39m\u001b[38;5;241m.\u001b[39msort_keys,\n\u001b[0;32m    257\u001b[0m         \u001b[38;5;28mself\u001b[39m\u001b[38;5;241m.\u001b[39mskipkeys, _one_shot)\n\u001b[1;32m--> 258\u001b[0m \u001b[38;5;28;01mreturn\u001b[39;00m \u001b[43m_iterencode\u001b[49m\u001b[43m(\u001b[49m\u001b[43mo\u001b[49m\u001b[43m,\u001b[49m\u001b[43m \u001b[49m\u001b[38;5;241;43m0\u001b[39;49m\u001b[43m)\u001b[49m\n",
      "File \u001b[1;32m~\\AppData\\Local\\Programs\\Python\\Python311\\Lib\\json\\encoder.py:180\u001b[0m, in \u001b[0;36mJSONEncoder.default\u001b[1;34m(self, o)\u001b[0m\n\u001b[0;32m    161\u001b[0m \u001b[38;5;28;01mdef\u001b[39;00m \u001b[38;5;21mdefault\u001b[39m(\u001b[38;5;28mself\u001b[39m, o):\n\u001b[0;32m    162\u001b[0m \u001b[38;5;250m    \u001b[39m\u001b[38;5;124;03m\"\"\"Implement this method in a subclass such that it returns\u001b[39;00m\n\u001b[0;32m    163\u001b[0m \u001b[38;5;124;03m    a serializable object for ``o``, or calls the base implementation\u001b[39;00m\n\u001b[0;32m    164\u001b[0m \u001b[38;5;124;03m    (to raise a ``TypeError``).\u001b[39;00m\n\u001b[1;32m   (...)\u001b[0m\n\u001b[0;32m    178\u001b[0m \n\u001b[0;32m    179\u001b[0m \u001b[38;5;124;03m    \"\"\"\u001b[39;00m\n\u001b[1;32m--> 180\u001b[0m     \u001b[38;5;28;01mraise\u001b[39;00m \u001b[38;5;167;01mTypeError\u001b[39;00m(\u001b[38;5;124mf\u001b[39m\u001b[38;5;124m'\u001b[39m\u001b[38;5;124mObject of type \u001b[39m\u001b[38;5;132;01m{\u001b[39;00mo\u001b[38;5;241m.\u001b[39m\u001b[38;5;18m__class__\u001b[39m\u001b[38;5;241m.\u001b[39m\u001b[38;5;18m__name__\u001b[39m\u001b[38;5;132;01m}\u001b[39;00m\u001b[38;5;124m \u001b[39m\u001b[38;5;124m'\u001b[39m\n\u001b[0;32m    181\u001b[0m                     \u001b[38;5;124mf\u001b[39m\u001b[38;5;124m'\u001b[39m\u001b[38;5;124mis not JSON serializable\u001b[39m\u001b[38;5;124m'\u001b[39m)\n",
      "\u001b[1;31mTypeError\u001b[0m: Object of type zip is not JSON serializable"
     ]
    }
   ],
   "source": [
    "z=json.dumps(zipped)\n",
    "z"
   ]
  },
  {
   "cell_type": "code",
   "execution_count": 118,
   "id": "a7890c60-d0a6-4f9d-8ee7-7c929ce1ddaf",
   "metadata": {},
   "outputs": [
    {
     "ename": "NameError",
     "evalue": "name 'z' is not defined",
     "output_type": "error",
     "traceback": [
      "\u001b[1;31m---------------------------------------------------------------------------\u001b[0m",
      "\u001b[1;31mNameError\u001b[0m                                 Traceback (most recent call last)",
      "Cell \u001b[1;32mIn[118], line 1\u001b[0m\n\u001b[1;32m----> 1\u001b[0m json\u001b[38;5;241m.\u001b[39mloads(\u001b[43mz\u001b[49m)\n",
      "\u001b[1;31mNameError\u001b[0m: name 'z' is not defined"
     ]
    }
   ],
   "source": [
    "json.loads(z)"
   ]
  },
  {
   "cell_type": "code",
   "execution_count": null,
   "id": "e172fc69-a88c-4b34-81b3-2a8bf38ded6b",
   "metadata": {},
   "outputs": [],
   "source": []
  },
  {
   "cell_type": "code",
   "execution_count": null,
   "id": "9d13ad7d-1b52-48bd-83c1-cda017072cbf",
   "metadata": {},
   "outputs": [],
   "source": []
  },
  {
   "cell_type": "markdown",
   "id": "4b9ea21f-9990-4a00-8ddd-b79b9c37305c",
   "metadata": {},
   "source": [
    "### **Pickle** \n",
    "- It stores data in bytes or it is machine readable file\n",
    "- Functions:- \n",
    "  - load()\n",
    "  - dump()\n",
    "  - loads()\n",
    "  - dumps()\n",
    "- Pickle performs better than json because it has not include all drawbacks of json"
   ]
  },
  {
   "cell_type": "code",
   "execution_count": 82,
   "id": "41b0ef4c-f9aa-4b7e-9980-1284d6fe17e3",
   "metadata": {},
   "outputs": [],
   "source": [
    "import pickle"
   ]
  },
  {
   "cell_type": "code",
   "execution_count": 83,
   "id": "6420e82e-1ad9-45e0-a6b8-9e1e50e58896",
   "metadata": {},
   "outputs": [
    {
     "data": {
      "text/plain": [
       "{'name': 'rohan', 'age': 23, 'address': 'jaipur'}"
      ]
     },
     "execution_count": 83,
     "metadata": {},
     "output_type": "execute_result"
    }
   ],
   "source": [
    "d"
   ]
  },
  {
   "cell_type": "code",
   "execution_count": 84,
   "id": "efee9002-a6fa-4da9-8cc7-d13615b676ae",
   "metadata": {},
   "outputs": [
    {
     "data": {
      "text/plain": [
       "{1001: ['rohan', 'rohan@1234', 20000], 1002: ['rahul', 'rahl@1234', 30000]}"
      ]
     },
     "execution_count": 84,
     "metadata": {},
     "output_type": "execute_result"
    }
   ],
   "source": [
    "d1"
   ]
  },
  {
   "cell_type": "code",
   "execution_count": 88,
   "id": "e0dbc75e-df43-4c81-b01a-44a3bebaab30",
   "metadata": {},
   "outputs": [],
   "source": [
    "with open('data.pkl','wb') as f: \n",
    "    pickle.dump(d1,f)"
   ]
  },
  {
   "cell_type": "code",
   "execution_count": 90,
   "id": "447161a2-8eeb-4bca-af42-7fd7a087f8a7",
   "metadata": {},
   "outputs": [
    {
     "data": {
      "text/plain": [
       "{1001: ['rohan', 'rohan@1234', 20000], 1002: ['rahul', 'rahl@1234', 30000]}"
      ]
     },
     "execution_count": 90,
     "metadata": {},
     "output_type": "execute_result"
    }
   ],
   "source": [
    "with open('data.pkl','rb') as f: \n",
    "    d=pickle.load(f)\n",
    "\n",
    "d"
   ]
  },
  {
   "cell_type": "code",
   "execution_count": null,
   "id": "981e4962-6876-437d-9e73-bc68d729ae56",
   "metadata": {},
   "outputs": [],
   "source": []
  },
  {
   "cell_type": "code",
   "execution_count": 91,
   "id": "95dfaab4-426d-47bf-a033-850fdb4a32ea",
   "metadata": {},
   "outputs": [
    {
     "data": {
      "text/plain": [
       "[10, 20, 30, 40, 50, 60]"
      ]
     },
     "execution_count": 91,
     "metadata": {},
     "output_type": "execute_result"
    }
   ],
   "source": [
    "ls"
   ]
  },
  {
   "cell_type": "code",
   "execution_count": 92,
   "id": "2a1b4a54-37ff-4c72-9af3-679fceaca6d8",
   "metadata": {},
   "outputs": [
    {
     "data": {
      "text/plain": [
       "b'\\x80\\x04\\x95\\x11\\x00\\x00\\x00\\x00\\x00\\x00\\x00]\\x94(K\\nK\\x14K\\x1eK(K2K<e.'"
      ]
     },
     "execution_count": 92,
     "metadata": {},
     "output_type": "execute_result"
    }
   ],
   "source": [
    "a=pickle.dumps(ls)\n",
    "a"
   ]
  },
  {
   "cell_type": "code",
   "execution_count": 93,
   "id": "01d8ea9b-66ad-466b-977e-5d7376bab454",
   "metadata": {},
   "outputs": [
    {
     "data": {
      "text/plain": [
       "[10, 20, 30, 40, 50, 60]"
      ]
     },
     "execution_count": 93,
     "metadata": {},
     "output_type": "execute_result"
    }
   ],
   "source": [
    "pickle.loads(a)"
   ]
  },
  {
   "cell_type": "code",
   "execution_count": 94,
   "id": "1e1aa6b3-29de-4c61-b25a-e8d7131ab885",
   "metadata": {},
   "outputs": [
    {
     "data": {
      "text/plain": [
       "{1001: ['rohan', 'rohan@1234', 20000], 1002: ['rahul', 'rahl@1234', 30000]}"
      ]
     },
     "execution_count": 94,
     "metadata": {},
     "output_type": "execute_result"
    }
   ],
   "source": [
    "d1"
   ]
  },
  {
   "cell_type": "code",
   "execution_count": 95,
   "id": "d17eecc7-2d7e-46ed-8800-88043c3e2e55",
   "metadata": {},
   "outputs": [
    {
     "data": {
      "text/plain": [
       "b'\\x80\\x04\\x95B\\x00\\x00\\x00\\x00\\x00\\x00\\x00}\\x94(M\\xe9\\x03]\\x94(\\x8c\\x05rohan\\x94\\x8c\\nrohan@1234\\x94M NeM\\xea\\x03]\\x94(\\x8c\\x05rahul\\x94\\x8c\\trahl@1234\\x94M0ueu.'"
      ]
     },
     "execution_count": 95,
     "metadata": {},
     "output_type": "execute_result"
    }
   ],
   "source": [
    "b=pickle.dumps(d1) \n",
    "b"
   ]
  },
  {
   "cell_type": "code",
   "execution_count": 96,
   "id": "d7bee650-b09e-467d-89e7-d63bebc4361a",
   "metadata": {},
   "outputs": [
    {
     "data": {
      "text/plain": [
       "{1001: ['rohan', 'rohan@1234', 20000], 1002: ['rahul', 'rahl@1234', 30000]}"
      ]
     },
     "execution_count": 96,
     "metadata": {},
     "output_type": "execute_result"
    }
   ],
   "source": [
    "pickle.loads(b)"
   ]
  },
  {
   "cell_type": "code",
   "execution_count": null,
   "id": "6105045a-fb90-424d-8dc2-ba9d50235386",
   "metadata": {},
   "outputs": [],
   "source": []
  },
  {
   "cell_type": "code",
   "execution_count": 119,
   "id": "64b0a23c-b21d-4a2a-b172-85ec2ca32a0e",
   "metadata": {},
   "outputs": [
    {
     "data": {
      "text/plain": [
       "(1, 2, 3, 4, 5, 6)"
      ]
     },
     "execution_count": 119,
     "metadata": {},
     "output_type": "execute_result"
    }
   ],
   "source": [
    "tp"
   ]
  },
  {
   "cell_type": "code",
   "execution_count": 98,
   "id": "e0f8e063-8828-4758-92b0-6c85c01ca29a",
   "metadata": {},
   "outputs": [
    {
     "data": {
      "text/plain": [
       "b'\\x80\\x04\\x95\\x10\\x00\\x00\\x00\\x00\\x00\\x00\\x00(K\\x01K\\x02K\\x03K\\x04K\\x05K\\x06t\\x94.'"
      ]
     },
     "execution_count": 98,
     "metadata": {},
     "output_type": "execute_result"
    }
   ],
   "source": [
    "t=pickle.dumps(tp) \n",
    "t"
   ]
  },
  {
   "cell_type": "code",
   "execution_count": 100,
   "id": "78be9b5a-4f8d-44a4-aa9c-84c39d1b361a",
   "metadata": {},
   "outputs": [
    {
     "data": {
      "text/plain": [
       "(1, 2, 3, 4, 5, 6)"
      ]
     },
     "execution_count": 100,
     "metadata": {},
     "output_type": "execute_result"
    }
   ],
   "source": [
    "pickle.loads(t)"
   ]
  },
  {
   "cell_type": "code",
   "execution_count": null,
   "id": "fba1f9de-146d-4317-b34e-5112f45adb4a",
   "metadata": {},
   "outputs": [],
   "source": []
  },
  {
   "cell_type": "code",
   "execution_count": 121,
   "id": "b34557ed-1e37-4222-8904-f77f9caf13a8",
   "metadata": {},
   "outputs": [
    {
     "data": {
      "text/plain": [
       "<zip at 0x175fc195180>"
      ]
     },
     "execution_count": 121,
     "metadata": {},
     "output_type": "execute_result"
    }
   ],
   "source": [
    "zipped"
   ]
  },
  {
   "cell_type": "code",
   "execution_count": 122,
   "id": "04ff5ad4-588e-406d-a546-2ed0b7dfcb88",
   "metadata": {},
   "outputs": [
    {
     "data": {
      "text/plain": [
       "b'\\x80\\x04\\x95K\\x00\\x00\\x00\\x00\\x00\\x00\\x00\\x8c\\x08builtins\\x94\\x8c\\x03zip\\x94\\x93\\x94\\x8c\\x08builtins\\x94\\x8c\\x04iter\\x94\\x93\\x94]\\x94\\x85\\x94R\\x94h\\x05]\\x94(\\x8c\\x01a\\x94\\x8c\\x01b\\x94\\x8c\\x01c\\x94e\\x85\\x94R\\x94K\\x03b\\x86\\x94R\\x94.'"
      ]
     },
     "execution_count": 122,
     "metadata": {},
     "output_type": "execute_result"
    }
   ],
   "source": [
    "z=pickle.dumps(zipped)\n",
    "z"
   ]
  },
  {
   "cell_type": "code",
   "execution_count": 125,
   "id": "5dcb6eea-ec3d-43bb-9e91-0d0ea9923001",
   "metadata": {},
   "outputs": [
    {
     "data": {
      "text/plain": [
       "<zip at 0x175fb95ea80>"
      ]
     },
     "execution_count": 125,
     "metadata": {},
     "output_type": "execute_result"
    }
   ],
   "source": [
    "pickle.loads(z)"
   ]
  },
  {
   "cell_type": "code",
   "execution_count": null,
   "id": "a791f6a4-f51a-4e7b-a5b2-f21f6214e52f",
   "metadata": {},
   "outputs": [],
   "source": []
  }
 ],
 "metadata": {
  "kernelspec": {
   "display_name": "Python 3 (ipykernel)",
   "language": "python",
   "name": "python3"
  },
  "language_info": {
   "codemirror_mode": {
    "name": "ipython",
    "version": 3
   },
   "file_extension": ".py",
   "mimetype": "text/x-python",
   "name": "python",
   "nbconvert_exporter": "python",
   "pygments_lexer": "ipython3",
   "version": "3.11.3"
  }
 },
 "nbformat": 4,
 "nbformat_minor": 5
}
