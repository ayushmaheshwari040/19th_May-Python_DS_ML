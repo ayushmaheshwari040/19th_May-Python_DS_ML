{
 "cells": [
  {
   "cell_type": "markdown",
   "id": "64512424-78b1-4922-8ed7-ee83d473df16",
   "metadata": {},
   "source": [
    "## Pattern Printing"
   ]
  },
  {
   "cell_type": "raw",
   "id": "dc5bed38-ccf9-4457-b710-e33326498115",
   "metadata": {},
   "source": [
    "# Ques:\n",
    "    Write a Python program to print the given number pattern using for while loop.Given 'n', print the symbol 'Z'\n",
    "    spanning n rows using '*' symbol. The value of n>2 and n<=20.\n",
    "\n",
    "# Input Format:\n",
    "    The input will contain a single integer .\n",
    "\n",
    "# Output Format: \n",
    "    The pattern is print.    \n",
    "\n",
    "# Example:\n",
    "    1) Input : n=3\n",
    "    Output:\n",
    "        ***\n",
    "         *\n",
    "        ***\n",
    "\n",
    "    2) Input n=4\n",
    "    Output:\n",
    "        ****\n",
    "          *\n",
    "         *\n",
    "        ****\n",
    "\n",
    "    3)Inout n= 5\n",
    "    Output:\n",
    "        *****\n",
    "           *\n",
    "          *\n",
    "         *\n",
    "        *****\n",
    "\n",
    "# Explanation:\n",
    "    The 'Z' is printed across 5 lines as shown above."
   ]
  },
  {
   "cell_type": "code",
   "execution_count": 8,
   "id": "28431bbb-f92f-499e-9f8a-fd7c7666d440",
   "metadata": {},
   "outputs": [
    {
     "name": "stdin",
     "output_type": "stream",
     "text": [
      "Enter n:  4\n"
     ]
    },
    {
     "name": "stdout",
     "output_type": "stream",
     "text": [
      "****\n",
      "  * \n",
      " *  \n",
      "****\n"
     ]
    }
   ],
   "source": [
    "n=int(input(\"Enter n: \"))\n",
    "for i in range(0,n):\n",
    "    for j in range(0,n):\n",
    "        if i==0 or i==n-1: \n",
    "            print(\"*\",end=\"\")\n",
    "        else:\n",
    "            if i+j==n-1:\n",
    "                print(\"*\",end=\"\")\n",
    "            else: \n",
    "                print(\" \",end=\"\")\n",
    "    print()   "
   ]
  },
  {
   "cell_type": "code",
   "execution_count": null,
   "id": "fb9e8d44-3d09-40d6-b8ab-9b350c8917bd",
   "metadata": {},
   "outputs": [],
   "source": []
  },
  {
   "cell_type": "markdown",
   "id": "5b6d33bd-5086-4654-b40a-5ccb4e6914cd",
   "metadata": {},
   "source": [
    "## OTP Resend System\n",
    "- Simulate an OTP system where:\n",
    "\n",
    "- OTP is valid for 30 seconds.\n",
    "\n",
    "- After that, user can request a new OTP.\n",
    "\n",
    "- Show countdown and regenerate after expiry."
   ]
  },
  {
   "cell_type": "code",
   "execution_count": 9,
   "id": "013cf112-8884-44e1-908e-42d7f0a493e6",
   "metadata": {},
   "outputs": [],
   "source": [
    "import random\n",
    "import time"
   ]
  },
  {
   "cell_type": "code",
   "execution_count": 10,
   "id": "144c02ec-1edb-4b58-b5aa-0b457f240cf8",
   "metadata": {},
   "outputs": [],
   "source": [
    "def generate_otp():\n",
    "    otp = random.randint(10000,50000)\n",
    "    print(f\"Your otp is {otp} valid for 30 second\")\n",
    "    time.sleep(30)\n",
    "    print(f\"Otp expired\")"
   ]
  },
  {
   "cell_type": "code",
   "execution_count": 11,
   "id": "2ab8ebb4-a326-44f0-a126-44f8183cce30",
   "metadata": {},
   "outputs": [
    {
     "name": "stdout",
     "output_type": "stream",
     "text": [
      "Your otp is 30519 valid for 30 second\n",
      "Otp expired\n"
     ]
    }
   ],
   "source": [
    "generate_otp()"
   ]
  },
  {
   "cell_type": "code",
   "execution_count": null,
   "id": "0aa9e1db-714f-40fd-8f02-b0409567cbc5",
   "metadata": {},
   "outputs": [],
   "source": []
  },
  {
   "cell_type": "markdown",
   "id": "792abff0-aed9-482a-a68f-fdecf6b0ee25",
   "metadata": {},
   "source": [
    "##  Password Validator System\n",
    "- Write a program that checks if a given password is valid:\n",
    "\n",
    "<i>At least 1 uppercase, 1 lowercase, 1 digit, and 1 special character.<i/>\n",
    "\n",
    "- Length should be between 8 and 16 characters.\n",
    "\n"
   ]
  },
  {
   "cell_type": "code",
   "execution_count": 14,
   "id": "ce5dd29a-170a-47b4-b535-f30c9c0c52be",
   "metadata": {},
   "outputs": [
    {
     "name": "stdin",
     "output_type": "stream",
     "text": [
      "Enter password of length 8:  Grras@9012\n"
     ]
    },
    {
     "name": "stdout",
     "output_type": "stream",
     "text": [
      " Your Password is valid: \n"
     ]
    }
   ],
   "source": [
    "import string\n",
    "\n",
    "password=input(\"Enter password of length 8: \")\n",
    "\n",
    "upcase=False\n",
    "lwcase=False\n",
    "digit=False\n",
    "specialcharacter=False\n",
    "\n",
    "for i in password: \n",
    "    if i.isupper(): \n",
    "        upcase=True\n",
    "    elif i.islower(): \n",
    "        lwcase=True\n",
    "    elif i.isdigit(): \n",
    "        digit=True\n",
    "    elif i in string.punctuation: \n",
    "        specialcharacter=True \n",
    "\n",
    "if upcase and lwcase and digit and specialcharacter:\n",
    "    print(\" Your Password is valid: \")\n",
    "else: \n",
    "    print(\"The entered password is not correct. Please reenter the password\")"
   ]
  },
  {
   "cell_type": "code",
   "execution_count": null,
   "id": "ef6b91c1-706f-44be-9156-da582a57d39f",
   "metadata": {},
   "outputs": [],
   "source": []
  },
  {
   "cell_type": "markdown",
   "id": "6e0cb58c-145f-4303-ba3d-b59c71745c77",
   "metadata": {},
   "source": [
    "## Bank Locker Access\n",
    "- Build a class BankLocker with private PIN and contents. Allow 3 attempts for the user to unlock with correct PIN. After that, block access."
   ]
  },
  {
   "cell_type": "code",
   "execution_count": 15,
   "id": "74800493-a6b1-400a-8b0a-9ffb299d7dfa",
   "metadata": {},
   "outputs": [
    {
     "name": "stdin",
     "output_type": "stream",
     "text": [
      "Enter your 4-digit PIN:  2234\n"
     ]
    },
    {
     "name": "stdout",
     "output_type": "stream",
     "text": [
      "Incorrect PIN. Attempts left: 2\n"
     ]
    },
    {
     "name": "stdin",
     "output_type": "stream",
     "text": [
      "Enter your 4-digit PIN:  8973\n"
     ]
    },
    {
     "name": "stdout",
     "output_type": "stream",
     "text": [
      "Incorrect PIN. Attempts left: 1\n"
     ]
    },
    {
     "name": "stdin",
     "output_type": "stream",
     "text": [
      "Enter your 4-digit PIN:  3355\n"
     ]
    },
    {
     "name": "stdout",
     "output_type": "stream",
     "text": [
      "Incorrect PIN. Attempts left: 0\n",
      "Too many failed attempts. Access to locker has been blocked.\n"
     ]
    },
    {
     "name": "stdin",
     "output_type": "stream",
     "text": [
      "Enter your 4-digit PIN:  1245\n"
     ]
    },
    {
     "name": "stdout",
     "output_type": "stream",
     "text": [
      "Access blocked. Too many incorrect attempts.\n"
     ]
    }
   ],
   "source": [
    "class BankLocker:\n",
    "    def __init__(self, pin, contents):\n",
    "        self.pin = pin\n",
    "        self.contents = contents\n",
    "        self.attempts = 0\n",
    "        self.locked = False\n",
    "\n",
    "    def access_locker(self, input_pin):\n",
    "        if self.locked:\n",
    "            print(\"Access blocked. Too many incorrect attempts.\")\n",
    "            return\n",
    "\n",
    "        if input_pin == self.pin:\n",
    "            print(\"Access granted!\")\n",
    "            print(\"Locker Contents:\", self.contents)\n",
    "            self.attempts = 0  # Reset attempts after success\n",
    "        else:\n",
    "            self.attempts += 1\n",
    "            print(f\"Incorrect PIN. Attempts left: {3 - self.attempts}\")\n",
    "            if self.attempts >= 3:\n",
    "                self.locked = True\n",
    "                print(\"Too many failed attempts. Access to locker has been blocked.\")\n",
    "\n",
    "locker = BankLocker(\"1234\", \"Gold, Documents, Cash\")\n",
    "\n",
    "for i in range(4):\n",
    "    pin_input = input(\"Enter your 4-digit PIN: \")\n",
    "    locker.access_locker(pin_input)\n"
   ]
  },
  {
   "cell_type": "code",
   "execution_count": null,
   "id": "c29ab4e6-584d-4ec5-8801-d57d1260c5b6",
   "metadata": {},
   "outputs": [],
   "source": []
  },
  {
   "cell_type": "markdown",
   "id": "0bac5fe2-7caf-48ad-891b-735456511c8c",
   "metadata": {},
   "source": [
    "## For every new user, generate a username as:\n",
    "- first 3 letters of first name + last 2 digits of year + first letter of city\n",
    "- Example: (\"Aman\", 2001, \"Delhi\") → Ama01D"
   ]
  },
  {
   "cell_type": "code",
   "execution_count": 18,
   "id": "a68f7648-b747-4bb6-8b3c-67f3f96df3b1",
   "metadata": {},
   "outputs": [
    {
     "name": "stdin",
     "output_type": "stream",
     "text": [
      "Enter name:  Aman\n",
      "Enter dob:  2001\n",
      "Enter city Delhi\n"
     ]
    },
    {
     "name": "stdout",
     "output_type": "stream",
     "text": [
      "\n",
      "Your username is: Ama10D\n"
     ]
    }
   ],
   "source": [
    "name=input(\"Enter name: \")\n",
    "dob=int(input(\"Enter dob: \"))\n",
    "city=input(\"Enter city\")\n",
    "print()\n",
    "\n",
    "name=name[0:3]\n",
    "dob=(str(dob))[-1:-3:-1]\n",
    "city=city[0]\n",
    "print(f\"Your username is: {name+dob+city}\")"
   ]
  },
  {
   "cell_type": "code",
   "execution_count": null,
   "id": "b3e7dd19-a350-47cd-b165-26d576fb8999",
   "metadata": {},
   "outputs": [],
   "source": []
  },
  {
   "cell_type": "markdown",
   "id": "eb3cc9d1-5d62-44dd-b8d6-71a4f6bc1a20",
   "metadata": {},
   "source": [
    "## Temperature Converter Class\n",
    "- Create a class that accepts Celsius and returns temperature in Fahrenheit and Kelvin using property decorators."
   ]
  },
  {
   "cell_type": "code",
   "execution_count": 21,
   "id": "1010e4db-b176-4437-95c4-35eb6319d970",
   "metadata": {},
   "outputs": [
    {
     "name": "stdout",
     "output_type": "stream",
     "text": [
      "Celsius: 35\n",
      "Fahrenheit: 95.0\n",
      "Kelvin: 308.15\n"
     ]
    }
   ],
   "source": [
    "class TemperatureConverter:\n",
    "    def __init__(self, celsius):\n",
    "        self._celsius = celsius\n",
    "\n",
    "    @property\n",
    "    def celsius(self):\n",
    "        return self._celsius\n",
    "\n",
    "    @property\n",
    "    def fahrenheit(self):\n",
    "        return (self._celsius * 9/5) + 32\n",
    "\n",
    "    @property\n",
    "    def kelvin(self):\n",
    "        return self._celsius + 273.15\n",
    "\n",
    "temp = TemperatureConverter(35)  \n",
    "\n",
    "print(\"Celsius:\", temp.celsius)\n",
    "print(\"Fahrenheit:\", temp.fahrenheit)\n",
    "print(\"Kelvin:\", temp.kelvin)\n"
   ]
  },
  {
   "cell_type": "code",
   "execution_count": null,
   "id": "26a49101-b903-4738-b7b7-fd85d0e15653",
   "metadata": {},
   "outputs": [],
   "source": []
  },
  {
   "cell_type": "markdown",
   "id": "81ca4adf-2f07-479c-9de7-fc4fec2a2b26",
   "metadata": {},
   "source": [
    "## Online Order Tracker\n",
    "- Simulate a restaurant order tracker:\n",
    "\n",
    "- Each order has status: Received → Preparing → Ready → Delivered\n",
    "\n",
    "- Use time.sleep() to show progress.\n",
    "\n"
   ]
  },
  {
   "cell_type": "code",
   "execution_count": 23,
   "id": "14fc2a0e-d093-430a-bb23-bab04d8cbf52",
   "metadata": {},
   "outputs": [
    {
     "name": "stdout",
     "output_type": "stream",
     "text": [
      "Recevied...\n",
      "\n",
      "Preparing...\n",
      "\n",
      "Ready...\n",
      "\n",
      "Delivered...\n"
     ]
    }
   ],
   "source": [
    "import time\n",
    "\n",
    "def order_tracker(): \n",
    "    print(\"Recevied...\\n\")\n",
    "    time.sleep(2)\n",
    "    print(\"Preparing...\\n\")\n",
    "    time.sleep(20)\n",
    "    print(\"Ready...\\n\")\n",
    "    time.sleep(5)\n",
    "    print(\"Delivered...\")\n",
    "\n",
    "order_tracker()"
   ]
  },
  {
   "cell_type": "code",
   "execution_count": null,
   "id": "2ff70e78-749d-4078-86bc-c6b26e10db71",
   "metadata": {},
   "outputs": [],
   "source": []
  },
  {
   "cell_type": "markdown",
   "id": "4ae18d15-3e12-47eb-ba4f-bd1c2ed5ae0a",
   "metadata": {},
   "source": [
    "## Todo list\n",
    "- using oops\n",
    "- add task\n",
    "- show tasks"
   ]
  },
  {
   "cell_type": "code",
   "execution_count": 28,
   "id": "e21b3c1b-f960-4e42-8bf6-7db0019d879e",
   "metadata": {},
   "outputs": [
    {
     "name": "stdout",
     "output_type": "stream",
     "text": [
      "Task added: Complete Python task\n",
      "Task added: Submit It \n",
      "Task added: Go and Play\n",
      "\n",
      "Todo List:\n",
      "1. Complete Python task\n",
      "2. Submit It \n",
      "3. Go and Play\n"
     ]
    }
   ],
   "source": [
    "class TodoList:\n",
    "    def __init__(self):\n",
    "        self.tasks = []\n",
    "\n",
    "    def add_task(self, task):\n",
    "        self.tasks.append(task)\n",
    "        print(f\"Task added: {task}\")\n",
    "\n",
    "    def show_tasks(self):\n",
    "        if not self.tasks:\n",
    "            print(\" No tasks in the list.\")\n",
    "        else:\n",
    "            print(\"\\nTodo List:\")\n",
    "            for idx, task in enumerate(self.tasks, start=1):\n",
    "                print(f\"{idx}. {task}\")\n",
    "\n",
    "\n",
    "todo = TodoList()\n",
    "\n",
    "todo.add_task(\"Complete Python task\")\n",
    "todo.add_task(\"Submit It \")\n",
    "todo.add_task(\"Go and Play\")\n",
    "\n",
    "todo.show_tasks()"
   ]
  },
  {
   "cell_type": "code",
   "execution_count": null,
   "id": "13632431-e521-4b84-8597-447c28c997ae",
   "metadata": {},
   "outputs": [],
   "source": []
  },
  {
   "cell_type": "markdown",
   "id": "4a323b1c-75ec-4980-89ae-357737782dd9",
   "metadata": {},
   "source": [
    "## Digits to word\n"
   ]
  },
  {
   "cell_type": "code",
   "execution_count": 29,
   "id": "7d38e55e-29a1-4c57-8bba-10a6c416791d",
   "metadata": {},
   "outputs": [
    {
     "name": "stdout",
     "output_type": "stream",
     "text": [
      "Five Zero Four Two\n"
     ]
    }
   ],
   "source": [
    "class DigitToWord:\n",
    "    def __init__(self, number):\n",
    "        self.number = str(number)\n",
    "        self.digit_map = {\n",
    "            '0': 'Zero', '1': 'One', '2': 'Two', '3': 'Three',\n",
    "            '4': 'Four', '5': 'Five', '6': 'Six',\n",
    "            '7': 'Seven', '8': 'Eight', '9': 'Nine'\n",
    "        }\n",
    "\n",
    "    def convert(self):\n",
    "        words = []\n",
    "        for digit in self.number:\n",
    "            if digit in self.digit_map:\n",
    "                words.append(self.digit_map[digit])\n",
    "            else:\n",
    "                words.append(\"Invalid\")\n",
    "        return ' '.join(words)\n",
    "\n",
    "num = DigitToWord(5042)\n",
    "print(num.convert())  # Output: Five Zero Four Two\n"
   ]
  },
  {
   "cell_type": "code",
   "execution_count": null,
   "id": "c18785a7-3d3f-4781-84b3-7d09bf46bcce",
   "metadata": {},
   "outputs": [],
   "source": []
  },
  {
   "cell_type": "code",
   "execution_count": null,
   "id": "701c4790-03fe-49dc-a5d8-196f9e892017",
   "metadata": {},
   "outputs": [],
   "source": []
  }
 ],
 "metadata": {
  "kernelspec": {
   "display_name": "Python 3 (ipykernel)",
   "language": "python",
   "name": "python3"
  },
  "language_info": {
   "codemirror_mode": {
    "name": "ipython",
    "version": 3
   },
   "file_extension": ".py",
   "mimetype": "text/x-python",
   "name": "python",
   "nbconvert_exporter": "python",
   "pygments_lexer": "ipython3",
   "version": "3.12.7"
  }
 },
 "nbformat": 4,
 "nbformat_minor": 5
}
