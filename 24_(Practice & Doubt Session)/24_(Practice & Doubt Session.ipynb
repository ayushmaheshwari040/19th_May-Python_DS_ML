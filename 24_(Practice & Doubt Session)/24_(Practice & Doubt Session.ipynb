{
 "cells": [
  {
   "cell_type": "markdown",
   "id": "d3017621-4d6f-41cf-8de7-90a7211b4c1b",
   "metadata": {},
   "source": [
    "# Fabonacci Sequence"
   ]
  },
  {
   "cell_type": "code",
   "execution_count": 2,
   "id": "f58f7b7b-09ad-4e36-9705-5541afa1e1a8",
   "metadata": {},
   "outputs": [
    {
     "name": "stdin",
     "output_type": "stream",
     "text": [
      "Enter the nth value:  6\n"
     ]
    },
    {
     "name": "stdout",
     "output_type": "stream",
     "text": [
      "0\n",
      "1\n",
      "1\n",
      "2\n",
      "3\n",
      "5\n",
      "8\n"
     ]
    }
   ],
   "source": [
    "n=int(input(\"Enter the nth value: \"))\n",
    "i=0\n",
    "f=0\n",
    "s=1\n",
    "\n",
    "while(i<=n): \n",
    "    print(f)\n",
    "    f,s=s,f+s\n",
    "    i+=1\n",
    "    "
   ]
  },
  {
   "cell_type": "code",
   "execution_count": null,
   "id": "d6f24e36-ffc1-45f6-83bd-f89033951681",
   "metadata": {},
   "outputs": [],
   "source": []
  },
  {
   "cell_type": "markdown",
   "id": "302c7e6a-7b85-4660-9b5a-84591d8d482f",
   "metadata": {},
   "source": [
    "# Counting Vowels in a given word"
   ]
  },
  {
   "cell_type": "code",
   "execution_count": 11,
   "id": "d094067f-6063-4674-9ae0-0b3cba236dc2",
   "metadata": {},
   "outputs": [
    {
     "name": "stdin",
     "output_type": "stream",
     "text": [
      "Enter the word:  HELLO pyhton \n"
     ]
    },
    {
     "name": "stdout",
     "output_type": "stream",
     "text": [
      "E\n",
      "O\n",
      "o\n",
      "There are 3 vowels.\n"
     ]
    }
   ],
   "source": [
    "word=input(\"Enter the word: \")\n",
    "count=0\n",
    "\n",
    "for i in range(len(word)): \n",
    "    if word[i] in ['a','e','i','o','u','A','E','I','O','U']: \n",
    "        count+=1 \n",
    "        print(word[i])\n",
    "\n",
    "print(f\"There are {count} vowels.\")"
   ]
  },
  {
   "cell_type": "code",
   "execution_count": null,
   "id": "d6f33f4c-1600-4900-ba6d-e648b185e195",
   "metadata": {},
   "outputs": [],
   "source": []
  },
  {
   "cell_type": "markdown",
   "id": "128fb3ff-50e6-4747-8ecc-f7714f391322",
   "metadata": {},
   "source": [
    "# Maximum no. in the list without using predefined functions"
   ]
  },
  {
   "cell_type": "code",
   "execution_count": 13,
   "id": "7ab5ef64-739c-41d5-b6d2-1e56420b40a3",
   "metadata": {},
   "outputs": [
    {
     "name": "stdout",
     "output_type": "stream",
     "text": [
      "The maximum no. in the list is: 15\n"
     ]
    }
   ],
   "source": [
    "def ismax(lst): \n",
    "    maximum=lst[0]\n",
    "    for j in range(1, len(lst)): \n",
    "        if lst[j]>maximum: \n",
    "            maximum=lst[j]\n",
    "    return maximum\n",
    "\n",
    "lst=[4,5,9,1,3,2,12,15]\n",
    "m=ismax(lst)\n",
    "print(f\"The maximum no. in the list is: {m}\")"
   ]
  },
  {
   "cell_type": "code",
   "execution_count": null,
   "id": "51b51f1d-a71d-4ad9-9bdb-7833bc7672bf",
   "metadata": {},
   "outputs": [],
   "source": []
  },
  {
   "cell_type": "markdown",
   "id": "ac898446-aad8-42df-b756-e6884775717e",
   "metadata": {},
   "source": [
    "# Mini Project- Random Password Generator\n",
    "- length:- user decide\n",
    "- constraint's:-\n",
    "  - min 8 character\n",
    "  - atleast on uppercase\n",
    "  - atleast on lowercase\n",
    "  - atleast on special character\n",
    "  - atleast one digit"
   ]
  },
  {
   "cell_type": "code",
   "execution_count": 49,
   "id": "9a55dc61-34aa-419a-8812-f561753241db",
   "metadata": {},
   "outputs": [],
   "source": [
    "import string\n",
    "import random"
   ]
  },
  {
   "cell_type": "code",
   "execution_count": 83,
   "id": "a808fbd4-13fc-4d76-a26f-9b858fa331c2",
   "metadata": {},
   "outputs": [
    {
     "name": "stdout",
     "output_type": "stream",
     "text": [
      "['BPF', 'LOG4', 'NV_MAGICCONST', 'RECIP_BPF', 'Random', 'SG_MAGICCONST', 'SystemRandom', 'TWOPI', '_ONE', '_Sequence', '__all__', '__builtins__', '__cached__', '__doc__', '__file__', '__loader__', '__name__', '__package__', '__spec__', '_accumulate', '_acos', '_bisect', '_ceil', '_cos', '_e', '_exp', '_fabs', '_floor', '_index', '_inst', '_isfinite', '_lgamma', '_log', '_log2', '_os', '_pi', '_random', '_repeat', '_sha512', '_sin', '_sqrt', '_test', '_test_generator', '_urandom', '_warn', 'betavariate', 'binomialvariate', 'choice', 'choices', 'expovariate', 'gammavariate', 'gauss', 'getrandbits', 'getstate', 'lognormvariate', 'normalvariate', 'paretovariate', 'randbytes', 'randint', 'random', 'randrange', 'sample', 'seed', 'setstate', 'shuffle', 'triangular', 'uniform', 'vonmisesvariate', 'weibullvariate']\n"
     ]
    }
   ],
   "source": [
    "print(dir(random))"
   ]
  },
  {
   "cell_type": "code",
   "execution_count": 50,
   "id": "e244d447-e6c8-402b-996c-4e57e92d9ae0",
   "metadata": {},
   "outputs": [
    {
     "name": "stdout",
     "output_type": "stream",
     "text": [
      "['Formatter', 'Template', '_ChainMap', '__all__', '__builtins__', '__cached__', '__doc__', '__file__', '__loader__', '__name__', '__package__', '__spec__', '_re', '_sentinel_dict', '_string', 'ascii_letters', 'ascii_lowercase', 'ascii_uppercase', 'capwords', 'digits', 'hexdigits', 'octdigits', 'printable', 'punctuation', 'whitespace']\n"
     ]
    }
   ],
   "source": [
    "print(dir(string))"
   ]
  },
  {
   "cell_type": "code",
   "execution_count": 51,
   "id": "5d9f1e3c-464e-41c8-9655-078a12043e71",
   "metadata": {},
   "outputs": [
    {
     "data": {
      "text/plain": [
       "'abcdefghijklmnopqrstuvwxyzABCDEFGHIJKLMNOPQRSTUVWXYZ'"
      ]
     },
     "execution_count": 51,
     "metadata": {},
     "output_type": "execute_result"
    }
   ],
   "source": [
    "string.ascii_letters"
   ]
  },
  {
   "cell_type": "code",
   "execution_count": 57,
   "id": "75f32d00-d4b5-4ef5-9abe-f4445d78c465",
   "metadata": {},
   "outputs": [
    {
     "data": {
      "text/plain": [
       "'abcdefghijklmnopqrstuvwxyz'"
      ]
     },
     "execution_count": 57,
     "metadata": {},
     "output_type": "execute_result"
    }
   ],
   "source": [
    "string.ascii_lowercase"
   ]
  },
  {
   "cell_type": "code",
   "execution_count": 58,
   "id": "fa1e5170-6ea8-4c97-b9cb-83c6fdc9f54a",
   "metadata": {},
   "outputs": [
    {
     "data": {
      "text/plain": [
       "'ABCDEFGHIJKLMNOPQRSTUVWXYZ'"
      ]
     },
     "execution_count": 58,
     "metadata": {},
     "output_type": "execute_result"
    }
   ],
   "source": [
    "string.ascii_uppercase"
   ]
  },
  {
   "cell_type": "code",
   "execution_count": 52,
   "id": "a2978748-98bd-4fd9-8fa7-21badbcfda3b",
   "metadata": {},
   "outputs": [
    {
     "data": {
      "text/plain": [
       "'0123456789'"
      ]
     },
     "execution_count": 52,
     "metadata": {},
     "output_type": "execute_result"
    }
   ],
   "source": [
    "string.digits"
   ]
  },
  {
   "cell_type": "code",
   "execution_count": 53,
   "id": "9e02eb21-ff8e-484e-827c-a05b995148e6",
   "metadata": {},
   "outputs": [
    {
     "data": {
      "text/plain": [
       "'!\"#$%&\\'()*+,-./:;<=>?@[\\\\]^_`{|}~'"
      ]
     },
     "execution_count": 53,
     "metadata": {},
     "output_type": "execute_result"
    }
   ],
   "source": [
    "string.punctuation"
   ]
  },
  {
   "cell_type": "code",
   "execution_count": 76,
   "id": "b6d6e63a-0251-4862-b207-ba85e13576bf",
   "metadata": {},
   "outputs": [
    {
     "data": {
      "text/plain": [
       "'0123456789abcdefghijklmnopqrstuvwxyzABCDEFGHIJKLMNOPQRSTUVWXYZ!\"#$%&\\'()*+,-./:;<=>?@[\\\\]^_`{|}~ \\t\\n\\r\\x0b\\x0c'"
      ]
     },
     "execution_count": 76,
     "metadata": {},
     "output_type": "execute_result"
    }
   ],
   "source": [
    "string.printable"
   ]
  },
  {
   "cell_type": "code",
   "execution_count": 77,
   "id": "07022ebd-36a5-4a16-abcf-d0878555775b",
   "metadata": {},
   "outputs": [],
   "source": [
    "c=[1,3,4,5]"
   ]
  },
  {
   "cell_type": "code",
   "execution_count": 80,
   "id": "37af4b81-6e84-4cd7-be9c-04a5da0a2b38",
   "metadata": {},
   "outputs": [
    {
     "data": {
      "text/plain": [
       "5"
      ]
     },
     "execution_count": 80,
     "metadata": {},
     "output_type": "execute_result"
    }
   ],
   "source": [
    "random.choice(c)"
   ]
  },
  {
   "cell_type": "code",
   "execution_count": 82,
   "id": "c0596e67-60b4-4aaf-9428-69d5dc0987aa",
   "metadata": {},
   "outputs": [
    {
     "data": {
      "text/plain": [
       "[1, 1]"
      ]
     },
     "execution_count": 82,
     "metadata": {},
     "output_type": "execute_result"
    }
   ],
   "source": [
    "random.choices(c,k=2)"
   ]
  },
  {
   "cell_type": "code",
   "execution_count": 84,
   "id": "2f218b47-e1af-4f19-981f-398e22ce9bdf",
   "metadata": {},
   "outputs": [
    {
     "data": {
      "text/plain": [
       "'*'"
      ]
     },
     "execution_count": 84,
     "metadata": {},
     "output_type": "execute_result"
    }
   ],
   "source": [
    "random.choice(string.punctuation)"
   ]
  },
  {
   "cell_type": "code",
   "execution_count": null,
   "id": "c111eeed-50e1-458f-b864-03d9873f85fb",
   "metadata": {},
   "outputs": [],
   "source": []
  },
  {
   "cell_type": "code",
   "execution_count": null,
   "id": "83765bc0-11ee-4b22-b645-91f1ef8957bd",
   "metadata": {},
   "outputs": [],
   "source": []
  },
  {
   "cell_type": "code",
   "execution_count": 97,
   "id": "30b01e34-ad8b-4db1-962e-73ed946fdbf7",
   "metadata": {},
   "outputs": [
    {
     "data": {
      "text/plain": [
       "'Lv(0nEWR'"
      ]
     },
     "execution_count": 97,
     "metadata": {},
     "output_type": "execute_result"
    }
   ],
   "source": [
    "password=\"\"\n",
    "password=random.choice(string.ascii_uppercase) + random.choice(string.ascii_lowercase) + random.choice(string.punctuation) + random.choice(string.digits)\n",
    "i=1 \n",
    "while i<=4:\n",
    "    password+=random.choice(string.ascii_letters)\n",
    "    i+=1\n",
    "\n",
    "password"
   ]
  },
  {
   "cell_type": "code",
   "execution_count": 98,
   "id": "9bfeb481-3e44-41dc-8f1e-48f1f4a75343",
   "metadata": {},
   "outputs": [
    {
     "name": "stdin",
     "output_type": "stream",
     "text": [
      "Enter the length of the password you want 12\n"
     ]
    },
    {
     "data": {
      "text/plain": [
       "'Eo^1AjzRkfap'"
      ]
     },
     "execution_count": 98,
     "metadata": {},
     "output_type": "execute_result"
    }
   ],
   "source": [
    "password=\"\"\n",
    "password=random.choice(string.ascii_uppercase) + random.choice(string.ascii_lowercase) + random.choice(string.punctuation) + random.choice(string.digits)\n",
    "l=int(input(\"Enter the length of the password you want\"))\n",
    "i=1 \n",
    "while i<=l-4:\n",
    "    password+=random.choice(string.ascii_letters)\n",
    "    i+=1\n",
    "\n",
    "password"
   ]
  },
  {
   "cell_type": "code",
   "execution_count": null,
   "id": "b0112243-9cb7-45dc-b2f9-546c9b91013b",
   "metadata": {},
   "outputs": [],
   "source": []
  },
  {
   "cell_type": "markdown",
   "id": "a5a8c625-adc8-467f-a916-fae8bf3f10b4",
   "metadata": {},
   "source": [
    "# Email Id Validation"
   ]
  },
  {
   "cell_type": "code",
   "execution_count": 109,
   "id": "cac595cf-4b44-4624-a529-384e61b90c2a",
   "metadata": {},
   "outputs": [
    {
     "name": "stdout",
     "output_type": "stream",
     "text": [
      "@gmail.com\n"
     ]
    }
   ],
   "source": [
    "f=\"@gmail.com\"\n",
    "print(f[-11::1])"
   ]
  },
  {
   "cell_type": "code",
   "execution_count": 110,
   "id": "3998b5e0-b00b-4c06-bf70-f72818358fec",
   "metadata": {},
   "outputs": [
    {
     "name": "stdin",
     "output_type": "stream",
     "text": [
      "Enter your gmail id:  ayan121@gmail.com\n"
     ]
    },
    {
     "name": "stdout",
     "output_type": "stream",
     "text": [
      "Valid id\n"
     ]
    }
   ],
   "source": [
    "a=input(\"Enter your gmail id: \")\n",
    "if a.endswith(\"@gmail.com\") and a.replace(\"@gmail.com\",\"\").isalnum() and not a[0].isdigit(): \n",
    "    print('Valid id')\n",
    "else: \n",
    "    print('Invalid id')"
   ]
  },
  {
   "cell_type": "code",
   "execution_count": null,
   "id": "32ed818a-6bf0-4762-9369-384c20fec6b1",
   "metadata": {},
   "outputs": [],
   "source": []
  },
  {
   "cell_type": "markdown",
   "id": "b6633753-0e33-4650-a3a3-7848a9925b40",
   "metadata": {},
   "source": [
    "# File Handling based Question"
   ]
  },
  {
   "cell_type": "code",
   "execution_count": 119,
   "id": "24a1ecbe-434d-45b3-9ab8-42edd94d9d96",
   "metadata": {},
   "outputs": [
    {
     "name": "stdout",
     "output_type": "stream",
     "text": [
      "yadsendeW si yadoT\n"
     ]
    }
   ],
   "source": [
    "with open(\"today18.txt\",\"w\") as f: \n",
    "    f.write(\"Today is Wednesday\")\n",
    "\n",
    "with open(\"today18.txt\",\"r\") as f: \n",
    "    d=f.read()\n",
    "    print(d[-1::-1])"
   ]
  },
  {
   "cell_type": "code",
   "execution_count": null,
   "id": "97d8aecb-87a5-4302-b904-fbaf7197f7df",
   "metadata": {},
   "outputs": [],
   "source": []
  },
  {
   "cell_type": "markdown",
   "id": "04ee2dd4-26d7-46fe-b075-f08e78c99ce3",
   "metadata": {},
   "source": [
    "# List Based Question"
   ]
  },
  {
   "cell_type": "code",
   "execution_count": 126,
   "id": "7bb46e38-e4c5-4006-a565-eb61855835f1",
   "metadata": {},
   "outputs": [],
   "source": [
    "ls=[[1,2,3],[4,5],[],[6,7],[]]\n",
    "ls1=[9,8]\n",
    "\n",
    "ls[2].extend(ls1) \n",
    "ls[4].extend(ls1)"
   ]
  },
  {
   "cell_type": "code",
   "execution_count": 127,
   "id": "c2535b1d-681a-4972-bbfd-f403185a074e",
   "metadata": {},
   "outputs": [
    {
     "data": {
      "text/plain": [
       "[[1, 2, 3], [4, 5], [9, 8], [6, 7], [9, 8]]"
      ]
     },
     "execution_count": 127,
     "metadata": {},
     "output_type": "execute_result"
    }
   ],
   "source": [
    "ls"
   ]
  },
  {
   "cell_type": "code",
   "execution_count": null,
   "id": "7e51208f-04f2-49dd-9d5c-7a6820cf72b9",
   "metadata": {},
   "outputs": [],
   "source": []
  }
 ],
 "metadata": {
  "kernelspec": {
   "display_name": "Python 3 (ipykernel)",
   "language": "python",
   "name": "python3"
  },
  "language_info": {
   "codemirror_mode": {
    "name": "ipython",
    "version": 3
   },
   "file_extension": ".py",
   "mimetype": "text/x-python",
   "name": "python",
   "nbconvert_exporter": "python",
   "pygments_lexer": "ipython3",
   "version": "3.11.3"
  }
 },
 "nbformat": 4,
 "nbformat_minor": 5
}
