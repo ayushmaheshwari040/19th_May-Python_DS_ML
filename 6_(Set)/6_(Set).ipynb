{
 "cells": [
  {
   "cell_type": "markdown",
   "id": "0a0fd9e3-2ee2-48fb-af4d-ae173f63cd50",
   "metadata": {},
   "source": [
    "# Set"
   ]
  },
  {
   "cell_type": "code",
   "execution_count": null,
   "id": "bbceb3fc-43fb-460b-adeb-2344903d9eee",
   "metadata": {},
   "outputs": [],
   "source": []
  },
  {
   "cell_type": "code",
   "execution_count": 2,
   "id": "29e89704-8a6b-488e-b450-832b305cb0e3",
   "metadata": {},
   "outputs": [
    {
     "name": "stdout",
     "output_type": "stream",
     "text": [
      "['add', 'clear', 'copy', 'difference', 'difference_update', 'discard', 'intersection', 'intersection_update', 'isdisjoint', 'issubset', 'issuperset', 'pop', 'remove', 'symmetric_difference', 'symmetric_difference_update', 'union', 'update']\n"
     ]
    }
   ],
   "source": [
    "print([i for i in dir(set) if not i.startswith('__')])"
   ]
  },
  {
   "cell_type": "code",
   "execution_count": null,
   "id": "cf7ebafa-6973-44a4-9e20-5c77f166cfc0",
   "metadata": {},
   "outputs": [],
   "source": []
  },
  {
   "cell_type": "code",
   "execution_count": 3,
   "id": "a26aa7bb-56c6-40df-803c-3a8abc64ea8d",
   "metadata": {},
   "outputs": [],
   "source": [
    "s1 = {23,56,23,67,23,68,89,564,578,34,789,34,78990,34,78,23,67}"
   ]
  },
  {
   "cell_type": "code",
   "execution_count": 4,
   "id": "e97a0e45-298a-40f4-bf39-519a1977e844",
   "metadata": {},
   "outputs": [
    {
     "name": "stdout",
     "output_type": "stream",
     "text": [
      "{578, 67, 68, 34, 78990, 78, 564, 789, 23, 56, 89}\n"
     ]
    }
   ],
   "source": [
    "print(s1)"
   ]
  },
  {
   "cell_type": "code",
   "execution_count": null,
   "id": "15b24558-a107-46e1-8ead-726a08071ee3",
   "metadata": {},
   "outputs": [],
   "source": []
  },
  {
   "cell_type": "code",
   "execution_count": 5,
   "id": "38255afa-2658-41ba-8ba8-455cf4148611",
   "metadata": {},
   "outputs": [
    {
     "ename": "TypeError",
     "evalue": "'set' object is not subscriptable",
     "output_type": "error",
     "traceback": [
      "\u001b[1;31m---------------------------------------------------------------------------\u001b[0m",
      "\u001b[1;31mTypeError\u001b[0m                                 Traceback (most recent call last)",
      "Cell \u001b[1;32mIn[5], line 1\u001b[0m\n\u001b[1;32m----> 1\u001b[0m s1[\u001b[38;5;241m0\u001b[39m]\n",
      "\u001b[1;31mTypeError\u001b[0m: 'set' object is not subscriptable"
     ]
    }
   ],
   "source": [
    "s1[0]"
   ]
  },
  {
   "cell_type": "code",
   "execution_count": null,
   "id": "45469fd7-141d-48dd-ad64-4542c9237902",
   "metadata": {},
   "outputs": [],
   "source": []
  },
  {
   "cell_type": "code",
   "execution_count": null,
   "id": "89f03092-6c55-4e8c-9e91-6711dbd6525a",
   "metadata": {},
   "outputs": [],
   "source": []
  },
  {
   "cell_type": "code",
   "execution_count": 6,
   "id": "906d98fd-46fa-4c15-87cc-16902bec6faa",
   "metadata": {},
   "outputs": [
    {
     "data": {
      "text/plain": [
       "{23, 34, 56, 67, 68, 78, 89, 564, 578, 789, 78990}"
      ]
     },
     "execution_count": 6,
     "metadata": {},
     "output_type": "execute_result"
    }
   ],
   "source": [
    "s1"
   ]
  },
  {
   "cell_type": "code",
   "execution_count": 7,
   "id": "181930f4-3627-474c-970f-8a1f7fac25c4",
   "metadata": {},
   "outputs": [
    {
     "name": "stdout",
     "output_type": "stream",
     "text": [
      "578\n",
      "67\n",
      "68\n",
      "34\n",
      "78990\n",
      "78\n",
      "564\n",
      "789\n",
      "23\n",
      "56\n",
      "89\n"
     ]
    }
   ],
   "source": [
    "for i in s1:\n",
    "    print(i)"
   ]
  },
  {
   "cell_type": "code",
   "execution_count": 8,
   "id": "af14ab15-0ef7-4c72-b0c4-5250c9c6000a",
   "metadata": {},
   "outputs": [
    {
     "data": {
      "text/plain": [
       "{23, 34, 56, 67, 68, 78, 89, 564, 578, 789, 78990}"
      ]
     },
     "execution_count": 8,
     "metadata": {},
     "output_type": "execute_result"
    }
   ],
   "source": [
    "s1"
   ]
  },
  {
   "cell_type": "code",
   "execution_count": null,
   "id": "2608a43b-b465-47eb-a46e-3710e62795da",
   "metadata": {},
   "outputs": [],
   "source": []
  },
  {
   "cell_type": "code",
   "execution_count": 9,
   "id": "5812340d-5e1b-4a5d-965f-d3712a6fe3c4",
   "metadata": {},
   "outputs": [],
   "source": [
    "s1.add(100)"
   ]
  },
  {
   "cell_type": "code",
   "execution_count": 10,
   "id": "ec1af493-7b1e-4539-a026-5f610ec8edc5",
   "metadata": {},
   "outputs": [
    {
     "data": {
      "text/plain": [
       "{23, 34, 56, 67, 68, 78, 89, 100, 564, 578, 789, 78990}"
      ]
     },
     "execution_count": 10,
     "metadata": {},
     "output_type": "execute_result"
    }
   ],
   "source": [
    "s1"
   ]
  },
  {
   "cell_type": "code",
   "execution_count": 11,
   "id": "802f02ce-292d-4ce6-996a-da26486f14bc",
   "metadata": {},
   "outputs": [],
   "source": [
    "s1.add(3454564)"
   ]
  },
  {
   "cell_type": "code",
   "execution_count": 12,
   "id": "64dacdb6-0a80-47b7-a9c0-467957d2ce9a",
   "metadata": {},
   "outputs": [
    {
     "data": {
      "text/plain": [
       "{23, 34, 56, 67, 68, 78, 89, 100, 564, 578, 789, 78990, 3454564}"
      ]
     },
     "execution_count": 12,
     "metadata": {},
     "output_type": "execute_result"
    }
   ],
   "source": [
    "s1"
   ]
  },
  {
   "cell_type": "code",
   "execution_count": null,
   "id": "90ff2d5b-b4f6-4165-8b98-5d7a06657e94",
   "metadata": {},
   "outputs": [],
   "source": []
  },
  {
   "cell_type": "code",
   "execution_count": 13,
   "id": "b71461f6-3f45-45fb-b845-506f95ffc905",
   "metadata": {},
   "outputs": [],
   "source": [
    "s1.update([23,456,67,34,8,34,678,8999])"
   ]
  },
  {
   "cell_type": "code",
   "execution_count": 14,
   "id": "a4c1b3a3-392f-404e-9f75-1f329eae0a0d",
   "metadata": {},
   "outputs": [
    {
     "name": "stdout",
     "output_type": "stream",
     "text": [
      "{578, 67, 68, 34, 100, 3454564, 456, 8, 678, 8999, 78990, 78, 564, 789, 23, 56, 89}\n"
     ]
    }
   ],
   "source": [
    "print(s1)"
   ]
  },
  {
   "cell_type": "code",
   "execution_count": null,
   "id": "26099500-3e78-423b-bb20-ef14217e4d8c",
   "metadata": {},
   "outputs": [],
   "source": []
  },
  {
   "cell_type": "code",
   "execution_count": 16,
   "id": "5b94cbb7-52e1-4fea-8061-7cb7ae77b1d4",
   "metadata": {},
   "outputs": [
    {
     "name": "stdout",
     "output_type": "stream",
     "text": [
      "{578, 67, 68, 34, 100, 3454564, 456, 8, 678, 8999, 78990, 78, 564, 789, 23, 56, 89}\n"
     ]
    }
   ],
   "source": [
    "print(s1)"
   ]
  },
  {
   "cell_type": "code",
   "execution_count": 17,
   "id": "b77d47f4-b0fc-451b-8c48-6cbc22cd0441",
   "metadata": {},
   "outputs": [],
   "source": [
    "s1.remove(100)"
   ]
  },
  {
   "cell_type": "code",
   "execution_count": 18,
   "id": "d77aec15-5b76-4c12-8b0b-edba7ee48d17",
   "metadata": {},
   "outputs": [
    {
     "name": "stdout",
     "output_type": "stream",
     "text": [
      "{578, 67, 68, 34, 3454564, 456, 8, 678, 8999, 78990, 78, 564, 789, 23, 56, 89}\n"
     ]
    }
   ],
   "source": [
    "print(s1)"
   ]
  },
  {
   "cell_type": "code",
   "execution_count": 19,
   "id": "c6e3b5a0-0893-4968-a5c1-8f043f6ecc77",
   "metadata": {},
   "outputs": [
    {
     "ename": "KeyError",
     "evalue": "100",
     "output_type": "error",
     "traceback": [
      "\u001b[1;31m---------------------------------------------------------------------------\u001b[0m",
      "\u001b[1;31mKeyError\u001b[0m                                  Traceback (most recent call last)",
      "Cell \u001b[1;32mIn[19], line 1\u001b[0m\n\u001b[1;32m----> 1\u001b[0m s1\u001b[38;5;241m.\u001b[39mremove(\u001b[38;5;241m100\u001b[39m)\n",
      "\u001b[1;31mKeyError\u001b[0m: 100"
     ]
    }
   ],
   "source": [
    "s1.remove(100)"
   ]
  },
  {
   "cell_type": "code",
   "execution_count": null,
   "id": "d3798259-3b26-4f8c-a703-6dc52784f39b",
   "metadata": {},
   "outputs": [],
   "source": []
  },
  {
   "cell_type": "code",
   "execution_count": 20,
   "id": "7ee11b96-8ff5-41dd-86c1-cc1de2ad0ca8",
   "metadata": {},
   "outputs": [
    {
     "name": "stdout",
     "output_type": "stream",
     "text": [
      "{578, 67, 68, 34, 3454564, 456, 8, 678, 8999, 78990, 78, 564, 789, 23, 56, 89}\n"
     ]
    }
   ],
   "source": [
    "print(s1)"
   ]
  },
  {
   "cell_type": "code",
   "execution_count": null,
   "id": "7ba91237-8562-4cac-adfc-b41dcb5220e5",
   "metadata": {},
   "outputs": [],
   "source": []
  },
  {
   "cell_type": "code",
   "execution_count": 21,
   "id": "8141dde1-2b4c-40e2-b20f-d518552b880d",
   "metadata": {},
   "outputs": [
    {
     "data": {
      "text/plain": [
       "578"
      ]
     },
     "execution_count": 21,
     "metadata": {},
     "output_type": "execute_result"
    }
   ],
   "source": [
    "s1.pop()"
   ]
  },
  {
   "cell_type": "code",
   "execution_count": 22,
   "id": "53e21da4-09d5-45f4-a914-70e84c770d0f",
   "metadata": {},
   "outputs": [
    {
     "name": "stdout",
     "output_type": "stream",
     "text": [
      "{67, 68, 34, 3454564, 456, 8, 678, 8999, 78990, 78, 564, 789, 23, 56, 89}\n"
     ]
    }
   ],
   "source": [
    "print(s1)"
   ]
  },
  {
   "cell_type": "code",
   "execution_count": 23,
   "id": "e7f99f36-75a0-4f2b-a3ca-67083f20af8a",
   "metadata": {},
   "outputs": [
    {
     "data": {
      "text/plain": [
       "67"
      ]
     },
     "execution_count": 23,
     "metadata": {},
     "output_type": "execute_result"
    }
   ],
   "source": [
    "s1.pop()"
   ]
  },
  {
   "cell_type": "code",
   "execution_count": 24,
   "id": "3b5801b6-5a8a-41cd-bf61-7d4482287751",
   "metadata": {},
   "outputs": [
    {
     "data": {
      "text/plain": [
       "68"
      ]
     },
     "execution_count": 24,
     "metadata": {},
     "output_type": "execute_result"
    }
   ],
   "source": [
    "s1.pop()"
   ]
  },
  {
   "cell_type": "code",
   "execution_count": 25,
   "id": "53385a28-cfb6-4f71-b641-7ace8610b537",
   "metadata": {},
   "outputs": [
    {
     "data": {
      "text/plain": [
       "34"
      ]
     },
     "execution_count": 25,
     "metadata": {},
     "output_type": "execute_result"
    }
   ],
   "source": [
    "s1.pop()"
   ]
  },
  {
   "cell_type": "code",
   "execution_count": 26,
   "id": "3f778f48-ca91-4d2b-9a33-0606a84f216f",
   "metadata": {},
   "outputs": [
    {
     "data": {
      "text/plain": [
       "3454564"
      ]
     },
     "execution_count": 26,
     "metadata": {},
     "output_type": "execute_result"
    }
   ],
   "source": [
    "s1.pop()"
   ]
  },
  {
   "cell_type": "code",
   "execution_count": 27,
   "id": "10396c16-0726-43ec-a870-0263ef7a6811",
   "metadata": {},
   "outputs": [
    {
     "data": {
      "text/plain": [
       "{8, 23, 56, 78, 89, 456, 564, 678, 789, 8999, 78990}"
      ]
     },
     "execution_count": 27,
     "metadata": {},
     "output_type": "execute_result"
    }
   ],
   "source": [
    "s1"
   ]
  },
  {
   "cell_type": "code",
   "execution_count": null,
   "id": "7faaafa7-d197-4d90-aefd-7202604ac82a",
   "metadata": {},
   "outputs": [],
   "source": []
  },
  {
   "cell_type": "code",
   "execution_count": 28,
   "id": "bad977d5-4cd7-4980-a2af-59ce5bb95a5f",
   "metadata": {},
   "outputs": [
    {
     "ename": "KeyError",
     "evalue": "100",
     "output_type": "error",
     "traceback": [
      "\u001b[1;31m---------------------------------------------------------------------------\u001b[0m",
      "\u001b[1;31mKeyError\u001b[0m                                  Traceback (most recent call last)",
      "Cell \u001b[1;32mIn[28], line 1\u001b[0m\n\u001b[1;32m----> 1\u001b[0m s1\u001b[38;5;241m.\u001b[39mremove(\u001b[38;5;241m100\u001b[39m)\n",
      "\u001b[1;31mKeyError\u001b[0m: 100"
     ]
    }
   ],
   "source": [
    "s1.remove(100)"
   ]
  },
  {
   "cell_type": "code",
   "execution_count": null,
   "id": "31161783-a13a-499d-81b2-2b5bf294234a",
   "metadata": {},
   "outputs": [],
   "source": []
  },
  {
   "cell_type": "code",
   "execution_count": 29,
   "id": "e982deff-c2cc-4d86-9082-438fdcbb2558",
   "metadata": {},
   "outputs": [],
   "source": [
    "s1.discard(8)"
   ]
  },
  {
   "cell_type": "code",
   "execution_count": 30,
   "id": "9ba03ca7-4e8e-4fed-a2a5-a94b3867882b",
   "metadata": {},
   "outputs": [
    {
     "data": {
      "text/plain": [
       "{23, 56, 78, 89, 456, 564, 678, 789, 8999, 78990}"
      ]
     },
     "execution_count": 30,
     "metadata": {},
     "output_type": "execute_result"
    }
   ],
   "source": [
    "s1"
   ]
  },
  {
   "cell_type": "code",
   "execution_count": 31,
   "id": "3c252b6c-08ae-4186-a178-105b61144a33",
   "metadata": {},
   "outputs": [],
   "source": [
    "s1.discard(1000)"
   ]
  },
  {
   "cell_type": "code",
   "execution_count": null,
   "id": "ff546112-4452-47bb-808d-30ddb06cec95",
   "metadata": {},
   "outputs": [],
   "source": []
  },
  {
   "cell_type": "markdown",
   "id": "78810c48-cac3-4037-ba0b-223dba079404",
   "metadata": {},
   "source": [
    "#### issubset()\n",
    "#### issuperset()"
   ]
  },
  {
   "cell_type": "code",
   "execution_count": null,
   "id": "66f21116-21c3-4300-83b9-120d9a579226",
   "metadata": {},
   "outputs": [],
   "source": []
  },
  {
   "cell_type": "code",
   "execution_count": 33,
   "id": "aa19659e-bafe-4260-ac9d-3fa1520481e2",
   "metadata": {},
   "outputs": [],
   "source": [
    "s2 = {2,3,4,5,6,6}\n",
    "s3 = {1,2,3,4,5,6,7,8,9}"
   ]
  },
  {
   "cell_type": "code",
   "execution_count": 34,
   "id": "c26f4642-81c8-4aa9-9324-06596b5c4931",
   "metadata": {},
   "outputs": [
    {
     "data": {
      "text/plain": [
       "{2, 3, 4, 5, 6}"
      ]
     },
     "execution_count": 34,
     "metadata": {},
     "output_type": "execute_result"
    }
   ],
   "source": [
    "s2"
   ]
  },
  {
   "cell_type": "code",
   "execution_count": 35,
   "id": "81f90942-492a-4e69-b27c-e8cdae8e748d",
   "metadata": {},
   "outputs": [
    {
     "data": {
      "text/plain": [
       "{1, 2, 3, 4, 5, 6, 7, 8, 9}"
      ]
     },
     "execution_count": 35,
     "metadata": {},
     "output_type": "execute_result"
    }
   ],
   "source": [
    "s3"
   ]
  },
  {
   "cell_type": "code",
   "execution_count": null,
   "id": "e8edc43a-866f-45f6-8e8f-db81bb8fe26a",
   "metadata": {},
   "outputs": [],
   "source": []
  },
  {
   "cell_type": "code",
   "execution_count": 36,
   "id": "f1dafb2f-a577-4ecf-9e3e-3a1ea0e4fb6d",
   "metadata": {},
   "outputs": [
    {
     "data": {
      "text/plain": [
       "True"
      ]
     },
     "execution_count": 36,
     "metadata": {},
     "output_type": "execute_result"
    }
   ],
   "source": [
    "s2.issubset(s3)"
   ]
  },
  {
   "cell_type": "code",
   "execution_count": 37,
   "id": "b19a2fa9-0534-4ba2-9ad6-733835e5579a",
   "metadata": {},
   "outputs": [
    {
     "data": {
      "text/plain": [
       "False"
      ]
     },
     "execution_count": 37,
     "metadata": {},
     "output_type": "execute_result"
    }
   ],
   "source": [
    "s2.issuperset(s3)\n"
   ]
  },
  {
   "cell_type": "code",
   "execution_count": 38,
   "id": "9b14b917-8291-4676-9919-9ff87f74d73a",
   "metadata": {},
   "outputs": [
    {
     "data": {
      "text/plain": [
       "True"
      ]
     },
     "execution_count": 38,
     "metadata": {},
     "output_type": "execute_result"
    }
   ],
   "source": [
    "s3.issuperset(s2)"
   ]
  },
  {
   "cell_type": "code",
   "execution_count": 39,
   "id": "2ce2c756-63fa-449d-a0c0-bcc7b995e522",
   "metadata": {},
   "outputs": [
    {
     "data": {
      "text/plain": [
       "{2, 3, 4, 5, 6}"
      ]
     },
     "execution_count": 39,
     "metadata": {},
     "output_type": "execute_result"
    }
   ],
   "source": [
    "s2"
   ]
  },
  {
   "cell_type": "code",
   "execution_count": 40,
   "id": "e1370a35-6399-4954-a4c0-817b8947d536",
   "metadata": {},
   "outputs": [
    {
     "data": {
      "text/plain": [
       "{1, 2, 3, 4, 5, 6, 7, 8, 9}"
      ]
     },
     "execution_count": 40,
     "metadata": {},
     "output_type": "execute_result"
    }
   ],
   "source": [
    "s3"
   ]
  },
  {
   "cell_type": "code",
   "execution_count": 41,
   "id": "e4fcaa14-dbae-426f-88de-3ec6b988c758",
   "metadata": {},
   "outputs": [],
   "source": [
    "s3.remove(6)"
   ]
  },
  {
   "cell_type": "code",
   "execution_count": 42,
   "id": "e3182f8c-553a-4d81-b16f-caded2f08067",
   "metadata": {},
   "outputs": [
    {
     "data": {
      "text/plain": [
       "{2, 3, 4, 5, 6}"
      ]
     },
     "execution_count": 42,
     "metadata": {},
     "output_type": "execute_result"
    }
   ],
   "source": [
    "s2"
   ]
  },
  {
   "cell_type": "code",
   "execution_count": 44,
   "id": "81510ac9-fb44-4977-8149-0eb16d9ac3b0",
   "metadata": {},
   "outputs": [
    {
     "data": {
      "text/plain": [
       "{1, 2, 3, 4, 5, 7, 8, 9}"
      ]
     },
     "execution_count": 44,
     "metadata": {},
     "output_type": "execute_result"
    }
   ],
   "source": [
    "s3"
   ]
  },
  {
   "cell_type": "code",
   "execution_count": 45,
   "id": "2cc167fe-2ed0-48a7-9bce-983588495a61",
   "metadata": {},
   "outputs": [
    {
     "data": {
      "text/plain": [
       "False"
      ]
     },
     "execution_count": 45,
     "metadata": {},
     "output_type": "execute_result"
    }
   ],
   "source": [
    "s3.issuperset(s2)"
   ]
  },
  {
   "cell_type": "code",
   "execution_count": null,
   "id": "877093e4-5665-4413-9289-acc329df2d04",
   "metadata": {},
   "outputs": [],
   "source": []
  },
  {
   "cell_type": "markdown",
   "id": "920b48ca-7b69-4846-af0d-02db98badc63",
   "metadata": {},
   "source": [
    "#### union()\n",
    "#### intersection()"
   ]
  },
  {
   "cell_type": "code",
   "execution_count": null,
   "id": "679d7baf-b53d-49dd-bdb7-0325982dc3f4",
   "metadata": {},
   "outputs": [],
   "source": []
  },
  {
   "cell_type": "code",
   "execution_count": 46,
   "id": "8c999aaf-08b7-4a33-87c7-b8ec973d60a7",
   "metadata": {},
   "outputs": [
    {
     "data": {
      "text/plain": [
       "{23, 56, 78, 89, 456, 564, 678, 789, 8999, 78990}"
      ]
     },
     "execution_count": 46,
     "metadata": {},
     "output_type": "execute_result"
    }
   ],
   "source": [
    "s1"
   ]
  },
  {
   "cell_type": "code",
   "execution_count": 47,
   "id": "1ad5d548-5873-4a67-8ba5-464ea0303cde",
   "metadata": {},
   "outputs": [
    {
     "data": {
      "text/plain": [
       "{2, 3, 4, 5, 6}"
      ]
     },
     "execution_count": 47,
     "metadata": {},
     "output_type": "execute_result"
    }
   ],
   "source": [
    "s2"
   ]
  },
  {
   "cell_type": "code",
   "execution_count": 48,
   "id": "72621f6e-4dd8-4a1e-a91c-eec06e6f5efc",
   "metadata": {},
   "outputs": [
    {
     "data": {
      "text/plain": [
       "{1, 2, 3, 4, 5, 7, 8, 9}"
      ]
     },
     "execution_count": 48,
     "metadata": {},
     "output_type": "execute_result"
    }
   ],
   "source": [
    "s3"
   ]
  },
  {
   "cell_type": "code",
   "execution_count": null,
   "id": "5d7b41b0-583c-4583-b9b6-583120442d63",
   "metadata": {},
   "outputs": [],
   "source": []
  },
  {
   "cell_type": "code",
   "execution_count": 49,
   "id": "f685eb6d-ef20-4996-aafb-03ac59a5ffa9",
   "metadata": {},
   "outputs": [
    {
     "data": {
      "text/plain": [
       "{2, 3, 4, 5, 6, 23, 56, 78, 89, 456, 564, 678, 789, 8999, 78990}"
      ]
     },
     "execution_count": 49,
     "metadata": {},
     "output_type": "execute_result"
    }
   ],
   "source": [
    "s1.union(s2)"
   ]
  },
  {
   "cell_type": "code",
   "execution_count": 50,
   "id": "36bdbcc9-72e3-4be4-8554-67b76bcbacbe",
   "metadata": {},
   "outputs": [
    {
     "data": {
      "text/plain": [
       "{1, 2, 3, 4, 5, 6, 7, 8, 9, 23, 56, 78, 89, 456, 564, 678, 789, 8999, 78990}"
      ]
     },
     "execution_count": 50,
     "metadata": {},
     "output_type": "execute_result"
    }
   ],
   "source": [
    "s1.union(s2,s3)\n"
   ]
  },
  {
   "cell_type": "code",
   "execution_count": null,
   "id": "2a6b106c-3ece-4f36-9226-29c1e6c3bcc1",
   "metadata": {},
   "outputs": [],
   "source": []
  },
  {
   "cell_type": "code",
   "execution_count": 51,
   "id": "84c5b739-47a9-4e78-923d-f7d08ed528cc",
   "metadata": {},
   "outputs": [
    {
     "data": {
      "text/plain": [
       "{2, 3, 4, 5, 6}"
      ]
     },
     "execution_count": 51,
     "metadata": {},
     "output_type": "execute_result"
    }
   ],
   "source": [
    "s2"
   ]
  },
  {
   "cell_type": "code",
   "execution_count": 52,
   "id": "87d6acfc-e251-4f90-992e-2a735055c0f6",
   "metadata": {},
   "outputs": [
    {
     "data": {
      "text/plain": [
       "{1, 2, 3, 4, 5, 7, 8, 9}"
      ]
     },
     "execution_count": 52,
     "metadata": {},
     "output_type": "execute_result"
    }
   ],
   "source": [
    "s3"
   ]
  },
  {
   "cell_type": "code",
   "execution_count": 53,
   "id": "52e9ec54-f6bf-414c-a690-095e33974f71",
   "metadata": {},
   "outputs": [
    {
     "data": {
      "text/plain": [
       "{2, 3, 4, 5}"
      ]
     },
     "execution_count": 53,
     "metadata": {},
     "output_type": "execute_result"
    }
   ],
   "source": [
    "s2.intersection(s3)"
   ]
  },
  {
   "cell_type": "code",
   "execution_count": 54,
   "id": "a64f3d3d-1c24-4565-8c2f-1e88f0d0bb78",
   "metadata": {},
   "outputs": [
    {
     "data": {
      "text/plain": [
       "{23, 56, 78, 89, 456, 564, 678, 789, 8999, 78990}"
      ]
     },
     "execution_count": 54,
     "metadata": {},
     "output_type": "execute_result"
    }
   ],
   "source": [
    "s1"
   ]
  },
  {
   "cell_type": "code",
   "execution_count": 55,
   "id": "5201d4e8-63fe-48ad-8421-dd3da61f59ae",
   "metadata": {},
   "outputs": [
    {
     "data": {
      "text/plain": [
       "{2, 3, 4, 5, 6}"
      ]
     },
     "execution_count": 55,
     "metadata": {},
     "output_type": "execute_result"
    }
   ],
   "source": [
    "s2"
   ]
  },
  {
   "cell_type": "code",
   "execution_count": 56,
   "id": "7499fb16-1829-4579-b7b2-bd8f0df60fb2",
   "metadata": {},
   "outputs": [
    {
     "data": {
      "text/plain": [
       "{1, 2, 3, 4, 5, 7, 8, 9}"
      ]
     },
     "execution_count": 56,
     "metadata": {},
     "output_type": "execute_result"
    }
   ],
   "source": [
    "s3"
   ]
  },
  {
   "cell_type": "code",
   "execution_count": 57,
   "id": "df148c4a-e34b-468d-b744-fb9253ce12b1",
   "metadata": {},
   "outputs": [
    {
     "data": {
      "text/plain": [
       "set()"
      ]
     },
     "execution_count": 57,
     "metadata": {},
     "output_type": "execute_result"
    }
   ],
   "source": [
    "s1.intersection(s2,s3)"
   ]
  },
  {
   "cell_type": "code",
   "execution_count": null,
   "id": "44bd6a66-3512-4edb-92dc-29cb88916dfe",
   "metadata": {},
   "outputs": [],
   "source": []
  },
  {
   "cell_type": "code",
   "execution_count": 58,
   "id": "6c99f890-e5c7-42fc-924a-d080975e5ba1",
   "metadata": {},
   "outputs": [
    {
     "data": {
      "text/plain": [
       "{2, 3, 4, 5, 6}"
      ]
     },
     "execution_count": 58,
     "metadata": {},
     "output_type": "execute_result"
    }
   ],
   "source": [
    "s2"
   ]
  },
  {
   "cell_type": "code",
   "execution_count": 59,
   "id": "21246877-393d-45df-9b42-dcf3df200435",
   "metadata": {},
   "outputs": [
    {
     "data": {
      "text/plain": [
       "{1, 2, 3, 4, 5, 7, 8, 9}"
      ]
     },
     "execution_count": 59,
     "metadata": {},
     "output_type": "execute_result"
    }
   ],
   "source": [
    "s3"
   ]
  },
  {
   "cell_type": "code",
   "execution_count": 60,
   "id": "55002a51-5be9-4173-8329-c359291c090b",
   "metadata": {},
   "outputs": [
    {
     "data": {
      "text/plain": [
       "{2, 3, 4, 5}"
      ]
     },
     "execution_count": 60,
     "metadata": {},
     "output_type": "execute_result"
    }
   ],
   "source": [
    "s3.intersection(s2)"
   ]
  },
  {
   "cell_type": "code",
   "execution_count": 61,
   "id": "c31206f9-c03c-4251-bb1a-5da8c9315665",
   "metadata": {},
   "outputs": [],
   "source": [
    "s3.intersection_update(s2)"
   ]
  },
  {
   "cell_type": "code",
   "execution_count": 62,
   "id": "ca60bf2c-f5cc-4323-9c4f-4a53051e67e8",
   "metadata": {},
   "outputs": [
    {
     "data": {
      "text/plain": [
       "{2, 3, 4, 5}"
      ]
     },
     "execution_count": 62,
     "metadata": {},
     "output_type": "execute_result"
    }
   ],
   "source": [
    "s3"
   ]
  },
  {
   "cell_type": "code",
   "execution_count": null,
   "id": "296086fc-6f7a-46b0-9503-d7f5d514dc41",
   "metadata": {},
   "outputs": [],
   "source": []
  },
  {
   "cell_type": "code",
   "execution_count": 63,
   "id": "03d8307a-bba1-4d13-a36f-e8d815ae00e9",
   "metadata": {},
   "outputs": [
    {
     "data": {
      "text/plain": [
       "{23, 56, 78, 89, 456, 564, 678, 789, 8999, 78990}"
      ]
     },
     "execution_count": 63,
     "metadata": {},
     "output_type": "execute_result"
    }
   ],
   "source": [
    "s1"
   ]
  },
  {
   "cell_type": "code",
   "execution_count": 64,
   "id": "2d0cafd7-3f73-40ad-8b5f-97308ef8abaa",
   "metadata": {},
   "outputs": [
    {
     "data": {
      "text/plain": [
       "{2, 3, 4, 5, 6}"
      ]
     },
     "execution_count": 64,
     "metadata": {},
     "output_type": "execute_result"
    }
   ],
   "source": [
    "s2"
   ]
  },
  {
   "cell_type": "code",
   "execution_count": 65,
   "id": "5685a081-5f03-4956-94f9-5b56fe535fd2",
   "metadata": {},
   "outputs": [
    {
     "data": {
      "text/plain": [
       "{2, 3, 4, 5}"
      ]
     },
     "execution_count": 65,
     "metadata": {},
     "output_type": "execute_result"
    }
   ],
   "source": [
    "s3"
   ]
  },
  {
   "cell_type": "code",
   "execution_count": 66,
   "id": "bf042b2b-518e-4ce9-894f-d296690ca5f1",
   "metadata": {},
   "outputs": [
    {
     "data": {
      "text/plain": [
       "{6}"
      ]
     },
     "execution_count": 66,
     "metadata": {},
     "output_type": "execute_result"
    }
   ],
   "source": [
    "s2.difference(s3)"
   ]
  },
  {
   "cell_type": "code",
   "execution_count": 67,
   "id": "f82a137e-2594-4933-8422-42252d913042",
   "metadata": {},
   "outputs": [
    {
     "data": {
      "text/plain": [
       "{6}"
      ]
     },
     "execution_count": 67,
     "metadata": {},
     "output_type": "execute_result"
    }
   ],
   "source": [
    "s2 - s3"
   ]
  },
  {
   "cell_type": "code",
   "execution_count": null,
   "id": "ee5e81b5-f1eb-45db-87c8-4536692f8f52",
   "metadata": {},
   "outputs": [],
   "source": []
  },
  {
   "cell_type": "code",
   "execution_count": 68,
   "id": "54f93630-4a96-46d7-8223-c3c3d6d37cde",
   "metadata": {},
   "outputs": [
    {
     "data": {
      "text/plain": [
       "{2, 3, 4, 5, 6}"
      ]
     },
     "execution_count": 68,
     "metadata": {},
     "output_type": "execute_result"
    }
   ],
   "source": [
    "s2"
   ]
  },
  {
   "cell_type": "code",
   "execution_count": 69,
   "id": "a3ae8ac0-0cab-4ede-916b-b7cbf37b5554",
   "metadata": {},
   "outputs": [
    {
     "data": {
      "text/plain": [
       "{2, 3, 4, 5}"
      ]
     },
     "execution_count": 69,
     "metadata": {},
     "output_type": "execute_result"
    }
   ],
   "source": [
    "s3"
   ]
  },
  {
   "cell_type": "code",
   "execution_count": 70,
   "id": "f047e6a4-9167-49ef-be8a-9fa92f1e9d8c",
   "metadata": {},
   "outputs": [],
   "source": [
    "s2.difference_update(s3)"
   ]
  },
  {
   "cell_type": "code",
   "execution_count": 71,
   "id": "3cb188a5-3827-41f2-b1c8-8bb1a327fa5d",
   "metadata": {},
   "outputs": [
    {
     "data": {
      "text/plain": [
       "{6}"
      ]
     },
     "execution_count": 71,
     "metadata": {},
     "output_type": "execute_result"
    }
   ],
   "source": [
    "s2"
   ]
  },
  {
   "cell_type": "code",
   "execution_count": 72,
   "id": "4e788e18-e2e9-4311-9898-368284f5221d",
   "metadata": {},
   "outputs": [
    {
     "data": {
      "text/plain": [
       "{2, 3, 4, 5}"
      ]
     },
     "execution_count": 72,
     "metadata": {},
     "output_type": "execute_result"
    }
   ],
   "source": [
    "s3"
   ]
  },
  {
   "cell_type": "code",
   "execution_count": 73,
   "id": "4cfd49c1-15e8-4096-890d-4ec8e790455f",
   "metadata": {},
   "outputs": [],
   "source": [
    "s4 = {2,3,4,5}"
   ]
  },
  {
   "cell_type": "code",
   "execution_count": 74,
   "id": "4d6629a1-4a7f-428b-baf6-c277ccb25ec8",
   "metadata": {},
   "outputs": [
    {
     "data": {
      "text/plain": [
       "{2, 3, 4, 5}"
      ]
     },
     "execution_count": 74,
     "metadata": {},
     "output_type": "execute_result"
    }
   ],
   "source": [
    "s3"
   ]
  },
  {
   "cell_type": "code",
   "execution_count": 75,
   "id": "88605e8f-081b-49fb-93bf-1d3958946108",
   "metadata": {},
   "outputs": [
    {
     "data": {
      "text/plain": [
       "{2, 3, 4, 5}"
      ]
     },
     "execution_count": 75,
     "metadata": {},
     "output_type": "execute_result"
    }
   ],
   "source": [
    "s4"
   ]
  },
  {
   "cell_type": "code",
   "execution_count": 76,
   "id": "aaefc5f2-35ed-41df-a222-dd718772d155",
   "metadata": {},
   "outputs": [
    {
     "data": {
      "text/plain": [
       "set()"
      ]
     },
     "execution_count": 76,
     "metadata": {},
     "output_type": "execute_result"
    }
   ],
   "source": [
    "s3.difference(s4)"
   ]
  },
  {
   "cell_type": "code",
   "execution_count": null,
   "id": "d5cb423a-2e3d-44e6-b1ab-78013eab2492",
   "metadata": {},
   "outputs": [],
   "source": []
  },
  {
   "cell_type": "code",
   "execution_count": 77,
   "id": "61a9bb8c-ad1b-48cc-be5a-76b110b9a6d2",
   "metadata": {},
   "outputs": [
    {
     "data": {
      "text/plain": [
       "set()"
      ]
     },
     "execution_count": 77,
     "metadata": {},
     "output_type": "execute_result"
    }
   ],
   "source": [
    "set()"
   ]
  },
  {
   "cell_type": "code",
   "execution_count": 79,
   "id": "a5491533-c200-400e-b3fa-d1ef1615b78c",
   "metadata": {},
   "outputs": [],
   "source": [
    "ls = [23,56,678,3234,76787,2334,37,79,873,5789,980,354,879,233,56723,45,78,890,23,56,78,34,78,90,56,78]"
   ]
  },
  {
   "cell_type": "code",
   "execution_count": 80,
   "id": "4f4b2b1a-d06b-4bd7-9dde-381514abdc1d",
   "metadata": {},
   "outputs": [
    {
     "data": {
      "text/plain": [
       "{23,\n",
       " 34,\n",
       " 37,\n",
       " 45,\n",
       " 56,\n",
       " 78,\n",
       " 79,\n",
       " 90,\n",
       " 233,\n",
       " 354,\n",
       " 678,\n",
       " 873,\n",
       " 879,\n",
       " 890,\n",
       " 980,\n",
       " 2334,\n",
       " 3234,\n",
       " 5789,\n",
       " 56723,\n",
       " 76787}"
      ]
     },
     "execution_count": 80,
     "metadata": {},
     "output_type": "execute_result"
    }
   ],
   "source": [
    "set(ls)"
   ]
  },
  {
   "cell_type": "code",
   "execution_count": 81,
   "id": "782c43fe-c4e4-419f-b52c-d9c3fe84f014",
   "metadata": {},
   "outputs": [
    {
     "data": {
      "text/plain": [
       "[56723,\n",
       " 23,\n",
       " 5789,\n",
       " 2334,\n",
       " 3234,\n",
       " 34,\n",
       " 37,\n",
       " 678,\n",
       " 45,\n",
       " 56,\n",
       " 78,\n",
       " 79,\n",
       " 980,\n",
       " 90,\n",
       " 354,\n",
       " 873,\n",
       " 233,\n",
       " 879,\n",
       " 76787,\n",
       " 890]"
      ]
     },
     "execution_count": 81,
     "metadata": {},
     "output_type": "execute_result"
    }
   ],
   "source": [
    "list(set(ls))\n"
   ]
  },
  {
   "cell_type": "code",
   "execution_count": null,
   "id": "e201df1e-6319-4016-9bd8-fab67f94e2cc",
   "metadata": {},
   "outputs": [],
   "source": []
  },
  {
   "cell_type": "markdown",
   "id": "fb912b4c-ee18-4c42-ac13-05fe1cefc1a8",
   "metadata": {},
   "source": [
    "## Slicing\n",
    "\n",
    "                syntax:\n",
    "                            obj[start:end:step]\n",
    "\n",
    "                              start  by default:  0\n",
    "                              end by default: len(obj) - 1\n",
    "                              step by default: + 1"
   ]
  },
  {
   "cell_type": "code",
   "execution_count": null,
   "id": "0bdd8059-60ab-4590-9147-e116235a2a3b",
   "metadata": {},
   "outputs": [],
   "source": []
  },
  {
   "cell_type": "code",
   "execution_count": 1,
   "id": "8e587ad7-2252-4ee2-9d07-266ed5194668",
   "metadata": {},
   "outputs": [],
   "source": [
    "ls = [10,20,30,40,50,60]"
   ]
  },
  {
   "cell_type": "code",
   "execution_count": 2,
   "id": "d924606c-e4a7-46b8-9474-a439ca421a4a",
   "metadata": {},
   "outputs": [
    {
     "data": {
      "text/plain": [
       "10"
      ]
     },
     "execution_count": 2,
     "metadata": {},
     "output_type": "execute_result"
    }
   ],
   "source": [
    "ls[0]"
   ]
  },
  {
   "cell_type": "code",
   "execution_count": 3,
   "id": "666b207f-7808-4162-acfe-d3aab71dc19b",
   "metadata": {},
   "outputs": [
    {
     "ename": "IndexError",
     "evalue": "list index out of range",
     "output_type": "error",
     "traceback": [
      "\u001b[1;31m---------------------------------------------------------------------------\u001b[0m",
      "\u001b[1;31mIndexError\u001b[0m                                Traceback (most recent call last)",
      "Cell \u001b[1;32mIn[3], line 1\u001b[0m\n\u001b[1;32m----> 1\u001b[0m ls[\u001b[38;5;241m10\u001b[39m]\n",
      "\u001b[1;31mIndexError\u001b[0m: list index out of range"
     ]
    }
   ],
   "source": [
    "ls[10]"
   ]
  },
  {
   "cell_type": "code",
   "execution_count": null,
   "id": "7f4e53fe-bb58-46dd-97f9-541ceea3614d",
   "metadata": {},
   "outputs": [],
   "source": []
  },
  {
   "cell_type": "code",
   "execution_count": 4,
   "id": "6faa3900-0c58-4d43-b66a-40ec21d87446",
   "metadata": {},
   "outputs": [
    {
     "data": {
      "text/plain": [
       "[10, 20, 30, 40, 50, 60]"
      ]
     },
     "execution_count": 4,
     "metadata": {},
     "output_type": "execute_result"
    }
   ],
   "source": [
    "ls"
   ]
  },
  {
   "cell_type": "code",
   "execution_count": 5,
   "id": "cae25f96-171b-4268-9c5c-cf665ed011fb",
   "metadata": {},
   "outputs": [
    {
     "data": {
      "text/plain": [
       "[20, 30, 40]"
      ]
     },
     "execution_count": 5,
     "metadata": {},
     "output_type": "execute_result"
    }
   ],
   "source": [
    "ls[1:4]   # ls[1],ls[2],ls[3]"
   ]
  },
  {
   "cell_type": "code",
   "execution_count": 6,
   "id": "b579bde9-5175-41d0-96b1-d05e71cead16",
   "metadata": {},
   "outputs": [
    {
     "data": {
      "text/plain": [
       "[10, 20, 30, 40, 50, 60]"
      ]
     },
     "execution_count": 6,
     "metadata": {},
     "output_type": "execute_result"
    }
   ],
   "source": [
    "ls"
   ]
  },
  {
   "cell_type": "code",
   "execution_count": 7,
   "id": "aec7fd35-00bf-433a-a41a-02f734ec32dd",
   "metadata": {},
   "outputs": [
    {
     "data": {
      "text/plain": [
       "[20, 30, 40, 50, 60]"
      ]
     },
     "execution_count": 7,
     "metadata": {},
     "output_type": "execute_result"
    }
   ],
   "source": [
    "ls[1:6]"
   ]
  },
  {
   "cell_type": "code",
   "execution_count": 8,
   "id": "dd21ede4-b87e-4771-8198-47dd8fe3364d",
   "metadata": {},
   "outputs": [
    {
     "data": {
      "text/plain": [
       "[20, 30, 40, 50, 60]"
      ]
     },
     "execution_count": 8,
     "metadata": {},
     "output_type": "execute_result"
    }
   ],
   "source": [
    "ls[1:20]"
   ]
  },
  {
   "cell_type": "code",
   "execution_count": 9,
   "id": "4c152ca2-83a5-446e-8e29-b8a087798c42",
   "metadata": {},
   "outputs": [
    {
     "data": {
      "text/plain": [
       "[10, 20, 30, 40, 50, 60]"
      ]
     },
     "execution_count": 9,
     "metadata": {},
     "output_type": "execute_result"
    }
   ],
   "source": [
    "ls"
   ]
  },
  {
   "cell_type": "code",
   "execution_count": null,
   "id": "bb1484ad-2129-4e6f-9a4c-fe3c1a84f8bd",
   "metadata": {},
   "outputs": [],
   "source": []
  },
  {
   "cell_type": "code",
   "execution_count": 10,
   "id": "fcd6f695-6d92-42a8-a167-66fb6f276394",
   "metadata": {},
   "outputs": [
    {
     "data": {
      "text/plain": [
       "[10, 20, 30, 40, 50, 60]"
      ]
     },
     "execution_count": 10,
     "metadata": {},
     "output_type": "execute_result"
    }
   ],
   "source": [
    "ls"
   ]
  },
  {
   "cell_type": "code",
   "execution_count": 11,
   "id": "8471655d-ef4a-4aa5-9774-ccb4c3d72bc0",
   "metadata": {},
   "outputs": [
    {
     "data": {
      "text/plain": [
       "[20, 30, 40, 50]"
      ]
     },
     "execution_count": 11,
     "metadata": {},
     "output_type": "execute_result"
    }
   ],
   "source": [
    "ls[1:5:1]"
   ]
  },
  {
   "cell_type": "code",
   "execution_count": 12,
   "id": "9d60b591-f6f6-4197-bf5d-c69307753bab",
   "metadata": {},
   "outputs": [
    {
     "data": {
      "text/plain": [
       "[20, 40]"
      ]
     },
     "execution_count": 12,
     "metadata": {},
     "output_type": "execute_result"
    }
   ],
   "source": [
    "ls[1:5:2]\n"
   ]
  },
  {
   "cell_type": "code",
   "execution_count": null,
   "id": "d981ef38-e769-4956-8d3e-cdfa6aeb37c5",
   "metadata": {},
   "outputs": [],
   "source": []
  },
  {
   "cell_type": "code",
   "execution_count": 13,
   "id": "24307de3-f2f5-46cc-a151-b3783692ff6a",
   "metadata": {},
   "outputs": [
    {
     "data": {
      "text/plain": [
       "[10, 20, 30, 40, 50, 60]"
      ]
     },
     "execution_count": 13,
     "metadata": {},
     "output_type": "execute_result"
    }
   ],
   "source": [
    "ls"
   ]
  },
  {
   "cell_type": "code",
   "execution_count": 14,
   "id": "2e58fb97-da54-4015-bb62-1c46c7cb9586",
   "metadata": {},
   "outputs": [
    {
     "data": {
      "text/plain": [
       "[20, 30, 40, 50]"
      ]
     },
     "execution_count": 14,
     "metadata": {},
     "output_type": "execute_result"
    }
   ],
   "source": [
    "ls[-5:5]"
   ]
  },
  {
   "cell_type": "code",
   "execution_count": 15,
   "id": "7bc5e2f1-7a70-4a08-9ea3-69d172d45045",
   "metadata": {},
   "outputs": [
    {
     "data": {
      "text/plain": [
       "[10, 20, 30, 40, 50, 60]"
      ]
     },
     "execution_count": 15,
     "metadata": {},
     "output_type": "execute_result"
    }
   ],
   "source": [
    "ls"
   ]
  },
  {
   "cell_type": "code",
   "execution_count": 17,
   "id": "a5d48776-8bb2-4019-ae20-e768607af623",
   "metadata": {},
   "outputs": [
    {
     "data": {
      "text/plain": [
       "[]"
      ]
     },
     "execution_count": 17,
     "metadata": {},
     "output_type": "execute_result"
    }
   ],
   "source": [
    "ls[-1:-5]"
   ]
  },
  {
   "cell_type": "code",
   "execution_count": null,
   "id": "73535573-774f-4357-92bc-7873d2ea189d",
   "metadata": {},
   "outputs": [],
   "source": [
    "60"
   ]
  },
  {
   "cell_type": "code",
   "execution_count": 16,
   "id": "18358f5e-3746-4713-85f3-69edfaacb817",
   "metadata": {},
   "outputs": [
    {
     "data": {
      "text/plain": [
       "0"
      ]
     },
     "execution_count": 16,
     "metadata": {},
     "output_type": "execute_result"
    }
   ],
   "source": [
    "-1 + 1"
   ]
  },
  {
   "cell_type": "code",
   "execution_count": 18,
   "id": "a28c9be3-1d3a-4ba1-98f7-47ea3e540454",
   "metadata": {},
   "outputs": [
    {
     "data": {
      "text/plain": [
       "[10, 20, 30, 40, 50, 60]"
      ]
     },
     "execution_count": 18,
     "metadata": {},
     "output_type": "execute_result"
    }
   ],
   "source": [
    "ls"
   ]
  },
  {
   "cell_type": "code",
   "execution_count": 19,
   "id": "29906e37-e13c-4036-bfc6-fe3406b3b362",
   "metadata": {},
   "outputs": [
    {
     "data": {
      "text/plain": [
       "[60, 50, 40, 30]"
      ]
     },
     "execution_count": 19,
     "metadata": {},
     "output_type": "execute_result"
    }
   ],
   "source": [
    "ls[-1:-5:-1]\n"
   ]
  },
  {
   "cell_type": "code",
   "execution_count": null,
   "id": "ebe38eb9-f5dc-42f0-b06f-571220d7858e",
   "metadata": {},
   "outputs": [],
   "source": []
  },
  {
   "cell_type": "code",
   "execution_count": 20,
   "id": "76bcfc9f-a5b2-4ea6-9356-cf2069491783",
   "metadata": {},
   "outputs": [
    {
     "data": {
      "text/plain": [
       "[10, 20, 30, 40, 50, 60]"
      ]
     },
     "execution_count": 20,
     "metadata": {},
     "output_type": "execute_result"
    }
   ],
   "source": [
    "ls"
   ]
  },
  {
   "cell_type": "code",
   "execution_count": 21,
   "id": "29d24ea2-e5d8-4a3e-bbe2-157e6e276190",
   "metadata": {},
   "outputs": [
    {
     "data": {
      "text/plain": [
       "[10, 20, 30, 40, 50]"
      ]
     },
     "execution_count": 21,
     "metadata": {},
     "output_type": "execute_result"
    }
   ],
   "source": [
    "ls[:5]"
   ]
  },
  {
   "cell_type": "code",
   "execution_count": 22,
   "id": "ed026537-041f-4a23-ade7-c876f4ed2ded",
   "metadata": {},
   "outputs": [
    {
     "data": {
      "text/plain": [
       "[20, 30, 40, 50, 60]"
      ]
     },
     "execution_count": 22,
     "metadata": {},
     "output_type": "execute_result"
    }
   ],
   "source": [
    "ls[1:]"
   ]
  },
  {
   "cell_type": "code",
   "execution_count": 23,
   "id": "3a2b57f6-cd02-459b-824c-a5d4af6131d9",
   "metadata": {},
   "outputs": [
    {
     "data": {
      "text/plain": [
       "[10, 20, 30, 40, 50, 60]"
      ]
     },
     "execution_count": 23,
     "metadata": {},
     "output_type": "execute_result"
    }
   ],
   "source": [
    "ls[:]"
   ]
  },
  {
   "cell_type": "code",
   "execution_count": 24,
   "id": "fa4c4da5-e3bc-43f9-8b4c-bec52c316409",
   "metadata": {},
   "outputs": [
    {
     "data": {
      "text/plain": [
       "[10, 20, 30, 40, 50, 60]"
      ]
     },
     "execution_count": 24,
     "metadata": {},
     "output_type": "execute_result"
    }
   ],
   "source": [
    "ls"
   ]
  },
  {
   "cell_type": "code",
   "execution_count": 25,
   "id": "6f13be41-b87f-4c4e-b47a-c82e0591a4ec",
   "metadata": {},
   "outputs": [
    {
     "data": {
      "text/plain": [
       "[10, 30, 50]"
      ]
     },
     "execution_count": 25,
     "metadata": {},
     "output_type": "execute_result"
    }
   ],
   "source": [
    "ls[::2]"
   ]
  },
  {
   "cell_type": "code",
   "execution_count": null,
   "id": "f5cd15d0-4079-4f16-a492-4129fe4a69a4",
   "metadata": {},
   "outputs": [],
   "source": []
  },
  {
   "cell_type": "code",
   "execution_count": 26,
   "id": "846473dc-1239-4f12-a17e-0c8c82ac7d83",
   "metadata": {},
   "outputs": [
    {
     "data": {
      "text/plain": [
       "[10, 20, 30, 40, 50, 60]"
      ]
     },
     "execution_count": 26,
     "metadata": {},
     "output_type": "execute_result"
    }
   ],
   "source": [
    "ls"
   ]
  },
  {
   "cell_type": "code",
   "execution_count": 27,
   "id": "84a26d02-cf9b-430f-9ac4-dc998dda82c9",
   "metadata": {},
   "outputs": [
    {
     "data": {
      "text/plain": [
       "[]"
      ]
     },
     "execution_count": 27,
     "metadata": {},
     "output_type": "execute_result"
    }
   ],
   "source": [
    "ls[-2:1:2]"
   ]
  },
  {
   "cell_type": "code",
   "execution_count": 28,
   "id": "b8fa0f8f-90af-4823-a289-7465fb91f7fd",
   "metadata": {},
   "outputs": [
    {
     "data": {
      "text/plain": [
       "[50, 30]"
      ]
     },
     "execution_count": 28,
     "metadata": {},
     "output_type": "execute_result"
    }
   ],
   "source": [
    "ls[-2:1:-2]\n"
   ]
  },
  {
   "cell_type": "code",
   "execution_count": 29,
   "id": "f122607c-1245-4175-99d4-2ed8ec80145c",
   "metadata": {},
   "outputs": [
    {
     "data": {
      "text/plain": [
       "[10, 20, 30, 40, 50, 60]"
      ]
     },
     "execution_count": 29,
     "metadata": {},
     "output_type": "execute_result"
    }
   ],
   "source": [
    "ls"
   ]
  },
  {
   "cell_type": "code",
   "execution_count": 30,
   "id": "9bb14b17-a354-4a36-bb40-cf3abf41d3b4",
   "metadata": {},
   "outputs": [
    {
     "data": {
      "text/plain": [
       "[10, 20, 30, 40, 50, 60]"
      ]
     },
     "execution_count": 30,
     "metadata": {},
     "output_type": "execute_result"
    }
   ],
   "source": [
    "ls[::1]"
   ]
  },
  {
   "cell_type": "code",
   "execution_count": 31,
   "id": "91efcaae-a8aa-41e7-9962-5d365e2e287b",
   "metadata": {},
   "outputs": [
    {
     "data": {
      "text/plain": [
       "[60, 50, 40, 30, 20, 10]"
      ]
     },
     "execution_count": 31,
     "metadata": {},
     "output_type": "execute_result"
    }
   ],
   "source": [
    "ls[::-1]"
   ]
  },
  {
   "cell_type": "code",
   "execution_count": 32,
   "id": "45cfbc86-b7c7-4911-a0c8-109454d180f4",
   "metadata": {},
   "outputs": [
    {
     "data": {
      "text/plain": [
       "[60, 40, 20]"
      ]
     },
     "execution_count": 32,
     "metadata": {},
     "output_type": "execute_result"
    }
   ],
   "source": [
    "ls[::-2]"
   ]
  },
  {
   "cell_type": "code",
   "execution_count": null,
   "id": "c50e5fa4-28d0-492a-8e3c-c33e5d12051a",
   "metadata": {},
   "outputs": [],
   "source": []
  }
 ],
 "metadata": {
  "kernelspec": {
   "display_name": "Python 3 (ipykernel)",
   "language": "python",
   "name": "python3"
  },
  "language_info": {
   "codemirror_mode": {
    "name": "ipython",
    "version": 3
   },
   "file_extension": ".py",
   "mimetype": "text/x-python",
   "name": "python",
   "nbconvert_exporter": "python",
   "pygments_lexer": "ipython3",
   "version": "3.11.3"
  }
 },
 "nbformat": 4,
 "nbformat_minor": 5
}
