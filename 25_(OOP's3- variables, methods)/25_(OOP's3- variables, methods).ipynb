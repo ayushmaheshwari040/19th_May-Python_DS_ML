{
 "cells": [
  {
   "cell_type": "markdown",
   "id": "a1cced7c-0b1f-4ef0-b35d-e32e619babec",
   "metadata": {},
   "source": [
    "# **OOP's**"
   ]
  },
  {
   "cell_type": "markdown",
   "id": "2167a6e7-c97c-491d-b1be-aa78d6871ff1",
   "metadata": {},
   "source": [
    "## **Types of Variables**\n",
    "1. Instance Variable\n",
    "2. Class Variable"
   ]
  },
  {
   "cell_type": "code",
   "execution_count": 6,
   "id": "c1d1d3e6-dc29-4f86-bb6e-1ba3c4c134da",
   "metadata": {},
   "outputs": [],
   "source": [
    "class Student: \n",
    "    def __init__(self, name, age):         # instance variable \n",
    "        self.name=name \n",
    "        self.age=age \n",
    "    def show_details(self):\n",
    "        print(f\"Student Name: {self.name}\")\n",
    "        print(f\"Student Age: {self.age}\")\n",
    "\n",
    "s1=Student('rohan',23)\n",
    "s2=Student('aman',21)"
   ]
  },
  {
   "cell_type": "code",
   "execution_count": 8,
   "id": "138dfe57-c9f6-4b37-9dc2-f1748f75485f",
   "metadata": {},
   "outputs": [
    {
     "name": "stdout",
     "output_type": "stream",
     "text": [
      "Student Name: rohan\n",
      "Student Age: 23\n"
     ]
    }
   ],
   "source": [
    "s1.show_details()"
   ]
  },
  {
   "cell_type": "code",
   "execution_count": null,
   "id": "0b913519-2f97-4a91-8596-a8c483f5b110",
   "metadata": {},
   "outputs": [],
   "source": []
  },
  {
   "cell_type": "code",
   "execution_count": 34,
   "id": "6958e900-a7fa-490b-a834-531874323974",
   "metadata": {},
   "outputs": [],
   "source": [
    "class Student: \n",
    "    school='Grras Solutions Pvt Ltd. '     # class variable\n",
    "    \n",
    "    def __init__(self, name, age):         # instance variable \n",
    "        self.name=name \n",
    "        self.age=age \n",
    "    def show_details(self):\n",
    "        print(f\"Student Name: {self.name}\")\n",
    "        print(f\"Student Age: {self.age}\")\n",
    "        print(f\"Student School: {self.school}\")\n",
    "\n",
    "s1=Student('rohan',23)\n",
    "s2=Student('aman',21)"
   ]
  },
  {
   "cell_type": "code",
   "execution_count": 35,
   "id": "df846a46-e032-4ee7-be7b-fe876374e217",
   "metadata": {},
   "outputs": [
    {
     "data": {
      "text/plain": [
       "'rohan'"
      ]
     },
     "execution_count": 35,
     "metadata": {},
     "output_type": "execute_result"
    }
   ],
   "source": [
    "s1.name"
   ]
  },
  {
   "cell_type": "code",
   "execution_count": 36,
   "id": "b1829035-f7d7-4a32-be25-27611cf4ce1f",
   "metadata": {},
   "outputs": [
    {
     "data": {
      "text/plain": [
       "'aman'"
      ]
     },
     "execution_count": 36,
     "metadata": {},
     "output_type": "execute_result"
    }
   ],
   "source": [
    "s2.name"
   ]
  },
  {
   "cell_type": "code",
   "execution_count": 37,
   "id": "e4740727-32b9-4dfa-9f97-2b715b90df99",
   "metadata": {},
   "outputs": [
    {
     "data": {
      "text/plain": [
       "'Grras Solutions Pvt Ltd. '"
      ]
     },
     "execution_count": 37,
     "metadata": {},
     "output_type": "execute_result"
    }
   ],
   "source": [
    "s1.school"
   ]
  },
  {
   "cell_type": "code",
   "execution_count": 38,
   "id": "4d3bbef6-7db5-4b1e-8aab-815f0742b854",
   "metadata": {},
   "outputs": [
    {
     "data": {
      "text/plain": [
       "'Grras Solutions Pvt Ltd. '"
      ]
     },
     "execution_count": 38,
     "metadata": {},
     "output_type": "execute_result"
    }
   ],
   "source": [
    "s2.school"
   ]
  },
  {
   "cell_type": "code",
   "execution_count": 39,
   "id": "b251eef9-2afa-4dd7-b57d-e88e1e4178f1",
   "metadata": {},
   "outputs": [
    {
     "name": "stdout",
     "output_type": "stream",
     "text": [
      "Student Name: rohan\n",
      "Student Age: 23\n",
      "Student School: Grras Solutions Pvt Ltd. \n"
     ]
    }
   ],
   "source": [
    "s1.show_details()"
   ]
  },
  {
   "cell_type": "code",
   "execution_count": 40,
   "id": "4bfdc156-4b03-4918-b6fe-acba50c4a307",
   "metadata": {},
   "outputs": [
    {
     "name": "stdout",
     "output_type": "stream",
     "text": [
      "Student Name: ram\n",
      "Student Age: 23\n",
      "Student School: Grras Solutions Pvt Ltd. \n"
     ]
    }
   ],
   "source": [
    "s1.name='ram'\n",
    "s1.show_details()"
   ]
  },
  {
   "cell_type": "code",
   "execution_count": null,
   "id": "4258838d-4a65-4c1c-801e-af1398e2dcba",
   "metadata": {},
   "outputs": [],
   "source": []
  },
  {
   "cell_type": "code",
   "execution_count": 41,
   "id": "1b914767-0f25-4b95-b71e-915791d50106",
   "metadata": {},
   "outputs": [
    {
     "data": {
      "text/plain": [
       "'Grras Solutions Pvt Ltd. '"
      ]
     },
     "execution_count": 41,
     "metadata": {},
     "output_type": "execute_result"
    }
   ],
   "source": [
    "s1.school"
   ]
  },
  {
   "cell_type": "code",
   "execution_count": 42,
   "id": "712c70f9-2c7e-4ab7-a8aa-4afd1cf087f3",
   "metadata": {},
   "outputs": [
    {
     "data": {
      "text/plain": [
       "'Grras Solutions Pvt Ltd. '"
      ]
     },
     "execution_count": 42,
     "metadata": {},
     "output_type": "execute_result"
    }
   ],
   "source": [
    "Student.school"
   ]
  },
  {
   "cell_type": "code",
   "execution_count": 43,
   "id": "da39177e-6dc2-4954-899c-69036c6b3b4a",
   "metadata": {},
   "outputs": [
    {
     "data": {
      "text/plain": [
       "{'name': 'ram', 'age': 23}"
      ]
     },
     "execution_count": 43,
     "metadata": {},
     "output_type": "execute_result"
    }
   ],
   "source": [
    "s1.__dict__"
   ]
  },
  {
   "cell_type": "code",
   "execution_count": 44,
   "id": "7feb3b97-ad3a-44f9-9078-6c482a3c6e52",
   "metadata": {},
   "outputs": [
    {
     "data": {
      "text/plain": [
       "{'name': 'aman', 'age': 21}"
      ]
     },
     "execution_count": 44,
     "metadata": {},
     "output_type": "execute_result"
    }
   ],
   "source": [
    "s2.__dict__"
   ]
  },
  {
   "cell_type": "code",
   "execution_count": 45,
   "id": "ad433cf2-a111-4270-a9ef-2e291cf184dc",
   "metadata": {},
   "outputs": [
    {
     "data": {
      "text/plain": [
       "mappingproxy({'__module__': '__main__',\n",
       "              'school': 'Grras Solutions Pvt Ltd. ',\n",
       "              '__init__': <function __main__.Student.__init__(self, name, age)>,\n",
       "              'show_details': <function __main__.Student.show_details(self)>,\n",
       "              '__dict__': <attribute '__dict__' of 'Student' objects>,\n",
       "              '__weakref__': <attribute '__weakref__' of 'Student' objects>,\n",
       "              '__doc__': None,\n",
       "              '__annotations__': {}})"
      ]
     },
     "execution_count": 45,
     "metadata": {},
     "output_type": "execute_result"
    }
   ],
   "source": [
    "Student.__dict__"
   ]
  },
  {
   "cell_type": "code",
   "execution_count": null,
   "id": "531ff388-afe4-4b4b-a722-491ab15a97c1",
   "metadata": {},
   "outputs": [],
   "source": []
  },
  {
   "cell_type": "code",
   "execution_count": 47,
   "id": "7599ca7c-33e3-4cf2-a381-6aa8592037ac",
   "metadata": {},
   "outputs": [
    {
     "name": "stdout",
     "output_type": "stream",
     "text": [
      "Student Name: ram\n",
      "Student Age: 23\n",
      "Student School: GIP technology\n"
     ]
    }
   ],
   "source": [
    "s1.school='GIP technology'\n",
    "s1.show_details()"
   ]
  },
  {
   "cell_type": "code",
   "execution_count": 48,
   "id": "8999ef68-f2e8-4056-91da-67cc6dd1bd69",
   "metadata": {},
   "outputs": [
    {
     "data": {
      "text/plain": [
       "{'name': 'ram', 'age': 23, 'school': 'GIP technology'}"
      ]
     },
     "execution_count": 48,
     "metadata": {},
     "output_type": "execute_result"
    }
   ],
   "source": [
    "s1.__dict__"
   ]
  },
  {
   "cell_type": "code",
   "execution_count": 54,
   "id": "43456bf2-1529-4063-b032-6945b4e25c6f",
   "metadata": {},
   "outputs": [
    {
     "data": {
      "text/plain": [
       "{'name': 'aman', 'age': 21}"
      ]
     },
     "execution_count": 54,
     "metadata": {},
     "output_type": "execute_result"
    }
   ],
   "source": [
    "s2.__dict__"
   ]
  },
  {
   "cell_type": "code",
   "execution_count": 57,
   "id": "ab709af5-51e7-4809-916b-af796df2e7dc",
   "metadata": {},
   "outputs": [],
   "source": [
    "Student.school='PIET'"
   ]
  },
  {
   "cell_type": "code",
   "execution_count": 60,
   "id": "5ae47934-0c01-47b3-867e-413915f7deca",
   "metadata": {},
   "outputs": [
    {
     "data": {
      "text/plain": [
       "'GIP technology'"
      ]
     },
     "execution_count": 60,
     "metadata": {},
     "output_type": "execute_result"
    }
   ],
   "source": [
    "s1.school"
   ]
  },
  {
   "cell_type": "code",
   "execution_count": 61,
   "id": "33c0c3bb-faf3-4af9-84bc-96b91ae3ab22",
   "metadata": {},
   "outputs": [
    {
     "data": {
      "text/plain": [
       "'PIET'"
      ]
     },
     "execution_count": 61,
     "metadata": {},
     "output_type": "execute_result"
    }
   ],
   "source": [
    "s2.school"
   ]
  },
  {
   "cell_type": "code",
   "execution_count": 62,
   "id": "c6092618-589f-4608-9c55-5519e95e84fb",
   "metadata": {},
   "outputs": [
    {
     "data": {
      "text/plain": [
       "'PIET'"
      ]
     },
     "execution_count": 62,
     "metadata": {},
     "output_type": "execute_result"
    }
   ],
   "source": [
    "Student.school"
   ]
  },
  {
   "cell_type": "code",
   "execution_count": null,
   "id": "a449175c-8740-47d9-a05c-94d93803b899",
   "metadata": {},
   "outputs": [],
   "source": []
  },
  {
   "cell_type": "code",
   "execution_count": null,
   "id": "61d61ceb-25b4-4516-a79c-d2b7991a84b1",
   "metadata": {},
   "outputs": [],
   "source": []
  },
  {
   "cell_type": "markdown",
   "id": "35d2edcc-6d91-4c8b-8bda-20442c90af7d",
   "metadata": {},
   "source": [
    "## **Types of Methods**\n",
    "1. Instance Method-> Depending upon instance or object\n",
    "2. Class Method-> Depending totally upon the class\n",
    "3. Static Method"
   ]
  },
  {
   "cell_type": "code",
   "execution_count": null,
   "id": "d66517f5-20a5-47f3-b2a0-1abdd8f5d332",
   "metadata": {},
   "outputs": [],
   "source": []
  },
  {
   "cell_type": "markdown",
   "id": "0a52def2-ac3f-498a-a258-f83fadfbd7d1",
   "metadata": {},
   "source": [
    "### 1. Instance Method\n",
    "Two Types or Nature:-\n",
    "1. Accesser/Getters-> Used for get the values\n",
    "2. Mutator/Setters-> User for set the values"
   ]
  },
  {
   "cell_type": "code",
   "execution_count": 3,
   "id": "7b0e64c4-8626-4a37-9edb-420f947d5e7a",
   "metadata": {},
   "outputs": [],
   "source": [
    "class Student: \n",
    "    school='Grras Solutions Pvt Ltd. '     \n",
    "    \n",
    "    def __init__(self, name, age):         \n",
    "        self.name=name \n",
    "        self.age=age \n",
    "        \n",
    "    def show_details(self):               # instance method\n",
    "        print(f\"Student Name: {self.name}\")\n",
    "        print(f\"Student Age: {self.age}\")\n",
    "        print(f\"Student School: {self.school}\")\n",
    "\n",
    "    def get_name(self):                  # accesser/getters\n",
    "        return self.name     \n",
    "\n",
    "    def set_name(self, value):           # mutator/setters\n",
    "        self.name=value\n",
    "\n",
    "s1=Student('rohan',23)\n",
    "s2=Student('aman',21)"
   ]
  },
  {
   "cell_type": "code",
   "execution_count": 7,
   "id": "ac19afef-636c-432b-94fc-60cc8c3d41f2",
   "metadata": {},
   "outputs": [
    {
     "data": {
      "text/plain": [
       "'rohan'"
      ]
     },
     "execution_count": 7,
     "metadata": {},
     "output_type": "execute_result"
    }
   ],
   "source": [
    "s1.get_name()"
   ]
  },
  {
   "cell_type": "code",
   "execution_count": 9,
   "id": "06dbac39-d260-4b9f-bd9e-93ecc55dca1c",
   "metadata": {},
   "outputs": [],
   "source": [
    "s1.set_name('rajesh')"
   ]
  },
  {
   "cell_type": "code",
   "execution_count": 10,
   "id": "2b4dd50a-1f4a-4f8c-b95d-7702baa4bfa9",
   "metadata": {},
   "outputs": [
    {
     "data": {
      "text/plain": [
       "'rajesh'"
      ]
     },
     "execution_count": 10,
     "metadata": {},
     "output_type": "execute_result"
    }
   ],
   "source": [
    "s1.get_name()"
   ]
  },
  {
   "cell_type": "code",
   "execution_count": 11,
   "id": "e0b3b6ff-a80e-4d8f-a83a-81251a3f23cb",
   "metadata": {},
   "outputs": [
    {
     "name": "stdout",
     "output_type": "stream",
     "text": [
      "Student Name: rajesh\n",
      "Student Age: 23\n",
      "Student School: Grras Solutions Pvt Ltd. \n"
     ]
    }
   ],
   "source": [
    "s1.show_details()"
   ]
  },
  {
   "cell_type": "code",
   "execution_count": null,
   "id": "200b3588-5420-4c50-b6ce-06f1f023c1e4",
   "metadata": {},
   "outputs": [],
   "source": []
  },
  {
   "cell_type": "markdown",
   "id": "c4f0f738-9b80-4688-ae23-43c0f848f292",
   "metadata": {},
   "source": [
    "### 2. Class Method"
   ]
  },
  {
   "cell_type": "code",
   "execution_count": 12,
   "id": "ca463037-0872-4711-bfb2-8f1e0e40e053",
   "metadata": {},
   "outputs": [],
   "source": [
    "class Student: \n",
    "    school='Grras Solutions Pvt Ltd. '     \n",
    "    \n",
    "    def __init__(self, name, age):         \n",
    "        self.name=name \n",
    "        self.age=age \n",
    "        \n",
    "    def show_details(self):               # instance method\n",
    "        print(f\"Student Name: {self.name}\")\n",
    "        print(f\"Student Age: {self.age}\")\n",
    "        print(f\"Student School: {self.school}\")\n",
    "\n",
    "    def get_name(self):                  # accesser/getters\n",
    "        return self.name     \n",
    "\n",
    "    def set_name(self, value):           # mutator/setters\n",
    "        self.name=value\n",
    "\n",
    "    def change_school(self):             # setter\n",
    "        self.school=input(\"Enter the school name: \")\n",
    "\n",
    "s1=Student('rohan',23)\n",
    "s2=Student('aman',21)"
   ]
  },
  {
   "cell_type": "code",
   "execution_count": 13,
   "id": "279c8e50-4e3c-444b-907b-4befb42bfc15",
   "metadata": {},
   "outputs": [
    {
     "name": "stdout",
     "output_type": "stream",
     "text": [
      "Student Name: rohan\n",
      "Student Age: 23\n",
      "Student School: Grras Solutions Pvt Ltd. \n"
     ]
    }
   ],
   "source": [
    "s1.show_details()"
   ]
  },
  {
   "cell_type": "code",
   "execution_count": 14,
   "id": "8478b5ba-ca39-409c-9570-bf840744160e",
   "metadata": {},
   "outputs": [
    {
     "name": "stdin",
     "output_type": "stream",
     "text": [
      "Enter the school name:  PIET\n"
     ]
    }
   ],
   "source": [
    "s1.change_school()"
   ]
  },
  {
   "cell_type": "code",
   "execution_count": 15,
   "id": "9287fbc1-40a8-4bf0-a7d1-3e6c5fc4d3f4",
   "metadata": {},
   "outputs": [
    {
     "name": "stdout",
     "output_type": "stream",
     "text": [
      "Student Name: rohan\n",
      "Student Age: 23\n",
      "Student School: PIET\n"
     ]
    }
   ],
   "source": [
    "s1.show_details()"
   ]
  },
  {
   "cell_type": "code",
   "execution_count": 16,
   "id": "ce293fc8-f0b0-4261-aabf-2eb015b456aa",
   "metadata": {},
   "outputs": [
    {
     "name": "stdout",
     "output_type": "stream",
     "text": [
      "Student Name: aman\n",
      "Student Age: 21\n",
      "Student School: Grras Solutions Pvt Ltd. \n"
     ]
    }
   ],
   "source": [
    "s2.show_details()"
   ]
  },
  {
   "cell_type": "code",
   "execution_count": 17,
   "id": "49f18be3-30e9-4a05-8b7c-8cafd0e4ca14",
   "metadata": {},
   "outputs": [
    {
     "data": {
      "text/plain": [
       "'Grras Solutions Pvt Ltd. '"
      ]
     },
     "execution_count": 17,
     "metadata": {},
     "output_type": "execute_result"
    }
   ],
   "source": [
    "Student.school"
   ]
  },
  {
   "cell_type": "code",
   "execution_count": null,
   "id": "6437d5a1-59b1-404d-a110-9a02eef4b753",
   "metadata": {},
   "outputs": [],
   "source": []
  },
  {
   "cell_type": "code",
   "execution_count": 19,
   "id": "de756848-a16e-4a9c-a615-61cce8515db5",
   "metadata": {},
   "outputs": [],
   "source": [
    "class Student: \n",
    "    school='Grras Solutions Pvt Ltd. '     \n",
    "    \n",
    "    def __init__(self, name, age):         \n",
    "        self.name=name \n",
    "        self.age=age \n",
    "        \n",
    "    def show_details(self):              \n",
    "        print(f\"Student Name: {self.name}\")\n",
    "        print(f\"Student Age: {self.age}\")\n",
    "        print(f\"Student School: {self.school}\")\n",
    "\n",
    "    def get_name(self):                  \n",
    "        return self.name     \n",
    "\n",
    "    def set_name(self, value):           \n",
    "        self.name=value\n",
    "\n",
    "    @classmethod                         # decorator\n",
    "    def change_school(cls):             # class method  here class passes. If we use self than object passes \n",
    "        cls.school=input(\"Enter the school name: \")\n",
    "\n",
    "s1=Student('rohan',23)\n",
    "s2=Student('aman',21)"
   ]
  },
  {
   "cell_type": "code",
   "execution_count": 20,
   "id": "be01e134-3934-4535-9a5b-1464e4052dd7",
   "metadata": {},
   "outputs": [
    {
     "name": "stdout",
     "output_type": "stream",
     "text": [
      "Student Name: rohan\n",
      "Student Age: 23\n",
      "Student School: Grras Solutions Pvt Ltd. \n"
     ]
    }
   ],
   "source": [
    "s1.show_details()"
   ]
  },
  {
   "cell_type": "code",
   "execution_count": 21,
   "id": "5ecae77f-f785-452e-9e22-0f4453011831",
   "metadata": {},
   "outputs": [
    {
     "name": "stdout",
     "output_type": "stream",
     "text": [
      "Student Name: aman\n",
      "Student Age: 21\n",
      "Student School: Grras Solutions Pvt Ltd. \n"
     ]
    }
   ],
   "source": [
    "s2.show_details()"
   ]
  },
  {
   "cell_type": "code",
   "execution_count": 23,
   "id": "fed1ca53-ca96-4de8-9565-e6d5316b9f04",
   "metadata": {},
   "outputs": [
    {
     "name": "stdin",
     "output_type": "stream",
     "text": [
      "Enter the school name:  PIET\n"
     ]
    }
   ],
   "source": [
    "Student.change_school()"
   ]
  },
  {
   "cell_type": "code",
   "execution_count": 24,
   "id": "9942db10-ea6e-4d24-aec2-774b27f1979b",
   "metadata": {},
   "outputs": [
    {
     "name": "stdout",
     "output_type": "stream",
     "text": [
      "Student Name: rohan\n",
      "Student Age: 23\n",
      "Student School: PIET\n"
     ]
    }
   ],
   "source": [
    "s1.show_details()"
   ]
  },
  {
   "cell_type": "code",
   "execution_count": 25,
   "id": "e52a6ee2-b753-4100-bb06-eda0f68ad3bc",
   "metadata": {},
   "outputs": [
    {
     "name": "stdout",
     "output_type": "stream",
     "text": [
      "Student Name: aman\n",
      "Student Age: 21\n",
      "Student School: PIET\n"
     ]
    }
   ],
   "source": [
    "s2.show_details()"
   ]
  },
  {
   "cell_type": "code",
   "execution_count": null,
   "id": "d22a8051-89a2-4914-a118-20b58378808f",
   "metadata": {},
   "outputs": [],
   "source": []
  },
  {
   "cell_type": "markdown",
   "id": "401a631f-b007-4f68-9d1c-beac7f1d8d53",
   "metadata": {},
   "source": [
    "### 3. Static Method"
   ]
  },
  {
   "cell_type": "code",
   "execution_count": 30,
   "id": "8fe1a16c-5b05-412a-abb1-71d2e365ce71",
   "metadata": {},
   "outputs": [],
   "source": [
    "class Student: \n",
    "    school='Grras Solutions Pvt Ltd. '     \n",
    "    \n",
    "    def __init__(self, name, age):         \n",
    "        self.name=name \n",
    "        self.age=age \n",
    "        \n",
    "    def show_details(self):              \n",
    "        print(f\"Student Name: {self.name}\")\n",
    "        print(f\"Student Age: {self.age}\")\n",
    "        print(f\"Student School: {self.school}\")\n",
    "\n",
    "    def get_name(self):                  \n",
    "        return self.name     \n",
    "\n",
    "    def set_name(self, value):           \n",
    "        self.name=value\n",
    "\n",
    "    @classmethod                         \n",
    "    def change_school(cls):             \n",
    "        cls.school=input(\"Enter the school name: \")\n",
    "\n",
    "    @staticmethod                       \n",
    "    def show():                         # static method\n",
    "        print(\"This is show method in Class Student...\")\n",
    "s1=Student('rohan',23)\n",
    "s2=Student('aman',21)"
   ]
  },
  {
   "cell_type": "code",
   "execution_count": 31,
   "id": "06b072c0-bb78-4f70-a783-7ef22451e2d6",
   "metadata": {},
   "outputs": [
    {
     "name": "stdout",
     "output_type": "stream",
     "text": [
      "This is show method in Class Student...\n"
     ]
    }
   ],
   "source": [
    "s1.show()"
   ]
  },
  {
   "cell_type": "code",
   "execution_count": null,
   "id": "deb8508d-434b-432c-9894-4cac2ad7f051",
   "metadata": {},
   "outputs": [],
   "source": []
  },
  {
   "cell_type": "markdown",
   "id": "fd6161a6-f845-4bf4-8f2d-f675ef6fd842",
   "metadata": {},
   "source": [
    "### Task- 25.OOP's"
   ]
  },
  {
   "cell_type": "markdown",
   "id": "00ee9d63-c6d1-4c88-842f-0db5235e258d",
   "metadata": {},
   "source": [
    "#### 1."
   ]
  },
  {
   "cell_type": "code",
   "execution_count": 33,
   "id": "71995190-686a-499b-8e4b-c4f05e394bd4",
   "metadata": {},
   "outputs": [],
   "source": [
    "class Circle: \n",
    "    def getArea(self, r): \n",
    "        return (3.14*r*r)\n",
    "\n",
    "    def getCircumference(self, r):\n",
    "        return (2*3.14*r)\n",
    "\n",
    "c=Circle()"
   ]
  },
  {
   "cell_type": "code",
   "execution_count": 34,
   "id": "15ac7205-504e-484f-b616-42be4a48c568",
   "metadata": {},
   "outputs": [
    {
     "data": {
      "text/plain": [
       "78.5"
      ]
     },
     "execution_count": 34,
     "metadata": {},
     "output_type": "execute_result"
    }
   ],
   "source": [
    "c.getArea(5)"
   ]
  },
  {
   "cell_type": "code",
   "execution_count": 39,
   "id": "78443eaa-72a7-43ef-8eb5-e7c2350446a2",
   "metadata": {},
   "outputs": [
    {
     "data": {
      "text/plain": [
       "31.428571428571427"
      ]
     },
     "execution_count": 39,
     "metadata": {},
     "output_type": "execute_result"
    }
   ],
   "source": [
    "c.getCircumference(5)"
   ]
  },
  {
   "cell_type": "markdown",
   "id": "e9ef0383-a07c-4642-81a4-a49625f8a235",
   "metadata": {},
   "source": [
    "#### 2. "
   ]
  },
  {
   "cell_type": "code",
   "execution_count": 44,
   "id": "6e01898c-ec4b-4c52-af49-f9bf8cf489ca",
   "metadata": {},
   "outputs": [
    {
     "name": "stdin",
     "output_type": "stream",
     "text": [
      "Enter the Temperature in Faherenheit -5\n",
      "Enter the Temperatuer in Celcius 112\n"
     ]
    },
    {
     "name": "stdout",
     "output_type": "stream",
     "text": [
      "The converted temperature from celcius to fahrenheit is: 233.6\n",
      "The converted temperature from fahrenheit to celcius is: -20.555555555555554\n"
     ]
    }
   ],
   "source": [
    "class Temperature: \n",
    "    def convertFahrenheit(self,f): \n",
    "        self.f=f\n",
    "        return (self.f-32)/1.8\n",
    "\n",
    "    def convertCelcius(self,c): \n",
    "        self.c=c\n",
    "        return (self.c*1.8)+32\n",
    "\n",
    "t1=Temperature()\n",
    "f=int(input(\"Enter the Temperature in Faherenheit\"))\n",
    "c=int(input(\"Enter the Temperatuer in Celcius\"))\n",
    "print(f\"The converted temperature from celcius to fahrenheit is: {t1.convertCelcius(c)}\")\n",
    "print(f\"The converted temperature from fahrenheit to celcius is: {t1.convertFahrenheit(f)}\")"
   ]
  },
  {
   "cell_type": "markdown",
   "id": "44372f9c-e1da-4161-974e-061a49be7823",
   "metadata": {},
   "source": [
    "#### 3."
   ]
  },
  {
   "cell_type": "code",
   "execution_count": 53,
   "id": "c5b03765-18b9-497c-b909-d1133ed9b662",
   "metadata": {},
   "outputs": [
    {
     "name": "stdin",
     "output_type": "stream",
     "text": [
      "Enter the age:  18\n",
      "Enter the marks out of 500:  455\n"
     ]
    },
    {
     "name": "stdout",
     "output_type": "stream",
     "text": [
      "\n",
      "The Student name is: Jony\n",
      "The Student rollno is: 12\n",
      "The Student age is: 18\n",
      "The Student marks is: 455\n"
     ]
    }
   ],
   "source": [
    "class Student: \n",
    "    def __init__(self, name, roll_no): \n",
    "        self.name=name \n",
    "        self.roll_no=roll_no\n",
    "\n",
    "    def setAge(self, age): \n",
    "        self.age=age \n",
    "\n",
    "    def setMarks(self, marks): \n",
    "        self.marks=marks \n",
    "\n",
    "    def Display(self): \n",
    "        print(f\"The Student name is: {self.name}\")\n",
    "        print(f\"The Student rollno is: {self.roll_no}\")\n",
    "        print(f\"The Student age is: {self.age}\")\n",
    "        print(f\"The Student marks is: {self.marks}\")\n",
    "        \n",
    "s1=Student(\"Jony\",12)\n",
    "age=int(input(\"Enter the age: \"))\n",
    "marks=int(input(\"Enter the marks out of 500: \"))\n",
    "print()\n",
    "s1.setAge(age)\n",
    "s1.setMarks(marks)\n",
    "s1.Display()"
   ]
  },
  {
   "cell_type": "markdown",
   "id": "431426b1-5fdb-4958-9a37-166cdc50bed9",
   "metadata": {},
   "source": [
    "#### 4."
   ]
  },
  {
   "cell_type": "code",
   "execution_count": null,
   "id": "ca8951b9-dc47-41fb-817d-183cb0ead788",
   "metadata": {},
   "outputs": [],
   "source": []
  }
 ],
 "metadata": {
  "kernelspec": {
   "display_name": "Python 3 (ipykernel)",
   "language": "python",
   "name": "python3"
  },
  "language_info": {
   "codemirror_mode": {
    "name": "ipython",
    "version": 3
   },
   "file_extension": ".py",
   "mimetype": "text/x-python",
   "name": "python",
   "nbconvert_exporter": "python",
   "pygments_lexer": "ipython3",
   "version": "3.11.3"
  }
 },
 "nbformat": 4,
 "nbformat_minor": 5
}
