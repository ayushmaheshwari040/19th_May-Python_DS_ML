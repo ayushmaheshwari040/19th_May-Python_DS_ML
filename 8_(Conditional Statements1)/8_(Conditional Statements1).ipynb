{
 "cells": [
  {
   "cell_type": "markdown",
   "id": "ed23bdcd-5d21-496a-9f7c-5c540b22aa58",
   "metadata": {},
   "source": [
    "# Conditional Statements"
   ]
  },
  {
   "cell_type": "markdown",
   "id": "e8ecd88c-e11e-480c-a158-10ea30968e25",
   "metadata": {},
   "source": [
    "#### if statement\n",
    "#### if-else statement\n",
    "#### if-elif-else statement"
   ]
  },
  {
   "cell_type": "code",
   "execution_count": null,
   "id": "a15e0b3d-336d-4965-b9c6-a47963148f6a",
   "metadata": {},
   "outputs": [],
   "source": []
  },
  {
   "cell_type": "markdown",
   "id": "7021c9f9-4be0-49bf-92a7-6e2266e39170",
   "metadata": {},
   "source": [
    "### if statement\n",
    "\n",
    "                syntax:\n",
    "                        if condition:\n",
    "                            st"
   ]
  },
  {
   "cell_type": "code",
   "execution_count": null,
   "id": "010f7d88-1628-4e4b-9573-fa40ec87c886",
   "metadata": {},
   "outputs": [],
   "source": []
  },
  {
   "cell_type": "code",
   "execution_count": 1,
   "id": "0ead7306-d14b-4a71-9935-daac73f59536",
   "metadata": {},
   "outputs": [
    {
     "name": "stdin",
     "output_type": "stream",
     "text": [
      "Enter your age:  20\n"
     ]
    },
    {
     "name": "stdout",
     "output_type": "stream",
     "text": [
      "you can vote\n"
     ]
    }
   ],
   "source": [
    "age = int(input('Enter your age: '))\n",
    "if age >= 18:    \n",
    "    print(\"you can vote\")"
   ]
  },
  {
   "cell_type": "code",
   "execution_count": 2,
   "id": "26826a59-d9cf-4ed1-872e-555244a5e315",
   "metadata": {},
   "outputs": [
    {
     "name": "stdin",
     "output_type": "stream",
     "text": [
      "Enter your age:  17\n"
     ]
    }
   ],
   "source": [
    "age = int(input('Enter your age: '))\n",
    "if age >= 18:    \n",
    "    print(\"you can vote\")"
   ]
  },
  {
   "cell_type": "code",
   "execution_count": null,
   "id": "d78d0bec-1457-4f28-8552-6808ef08c32e",
   "metadata": {},
   "outputs": [],
   "source": []
  },
  {
   "cell_type": "code",
   "execution_count": 3,
   "id": "14499fb8-df6b-478a-b070-09df48f828b9",
   "metadata": {},
   "outputs": [
    {
     "name": "stdin",
     "output_type": "stream",
     "text": [
      "Enter your age:  20\n"
     ]
    },
    {
     "name": "stdout",
     "output_type": "stream",
     "text": [
      "you can vote\n",
      "bye\n"
     ]
    }
   ],
   "source": [
    "age = int(input('Enter your age: '))\n",
    "if age >= 18:    \n",
    "    print(\"you can vote\")\n",
    "    print('bye')"
   ]
  },
  {
   "cell_type": "code",
   "execution_count": 4,
   "id": "6c8d67c3-4548-4c74-97b2-5c348565574e",
   "metadata": {},
   "outputs": [
    {
     "name": "stdin",
     "output_type": "stream",
     "text": [
      "Enter your age:  20\n"
     ]
    },
    {
     "name": "stdout",
     "output_type": "stream",
     "text": [
      "you can vote\n",
      "bye\n"
     ]
    }
   ],
   "source": [
    "age = int(input('Enter your age: '))\n",
    "if age >= 18:    \n",
    "    print(\"you can vote\")\n",
    "print('bye')"
   ]
  },
  {
   "cell_type": "code",
   "execution_count": 5,
   "id": "7c6b3be1-43ee-41a7-8c68-b46e22141d73",
   "metadata": {},
   "outputs": [
    {
     "name": "stdin",
     "output_type": "stream",
     "text": [
      "Enter your age:  15\n"
     ]
    },
    {
     "name": "stdout",
     "output_type": "stream",
     "text": [
      "bye\n"
     ]
    }
   ],
   "source": [
    "age = int(input('Enter your age: '))\n",
    "if age >= 18:    \n",
    "    print(\"you can vote\")\n",
    "print('bye')"
   ]
  },
  {
   "cell_type": "code",
   "execution_count": 6,
   "id": "74ba8d42-1a55-483e-8bc4-a73c4732abed",
   "metadata": {},
   "outputs": [
    {
     "name": "stdin",
     "output_type": "stream",
     "text": [
      "Enter your age:  15\n"
     ]
    }
   ],
   "source": [
    "age = int(input('Enter your age: '))\n",
    "if age >= 18:    \n",
    "    print(\"you can vote\")\n",
    "    print('bye')"
   ]
  },
  {
   "cell_type": "code",
   "execution_count": null,
   "id": "13b1fe66-1651-4ed2-ba3b-f3cdd7ceba66",
   "metadata": {},
   "outputs": [],
   "source": []
  },
  {
   "cell_type": "markdown",
   "id": "9137fd14-872b-4f5f-a310-0b0da2ffb7c3",
   "metadata": {},
   "source": [
    "### Nested if statement\n",
    "\n",
    "                        syntax:\n",
    "\n",
    "                                if condition:\n",
    "                                    st\n",
    "                                    if condition:\n",
    "                                        st\n",
    "                                        ..."
   ]
  },
  {
   "cell_type": "code",
   "execution_count": null,
   "id": "5b40b46a-c47c-4471-8ac9-fc0856109f4a",
   "metadata": {},
   "outputs": [],
   "source": []
  },
  {
   "cell_type": "code",
   "execution_count": 8,
   "id": "51a2fa8e-15fa-42ab-b824-842e4a7edcfc",
   "metadata": {},
   "outputs": [],
   "source": [
    "a = 10\n",
    "b = 20\n",
    "c = 10"
   ]
  },
  {
   "cell_type": "code",
   "execution_count": 9,
   "id": "d0d47db7-a9a8-4551-91ea-78335f06105b",
   "metadata": {},
   "outputs": [
    {
     "name": "stdout",
     "output_type": "stream",
     "text": [
      "10 is less than 20\n",
      "10 is equal to 10\n"
     ]
    }
   ],
   "source": [
    "if a < b:\n",
    "    print(f\"{a} is less than {b}\")\n",
    "    if a == c:\n",
    "        print(f\"{a} is equal to {c}\")"
   ]
  },
  {
   "cell_type": "code",
   "execution_count": 10,
   "id": "e1a71353-2b01-49b7-97ca-530cd496c4b4",
   "metadata": {},
   "outputs": [],
   "source": [
    "c += 1"
   ]
  },
  {
   "cell_type": "code",
   "execution_count": 11,
   "id": "b2ced270-35cc-4d8a-b95f-bab117aa3d4d",
   "metadata": {},
   "outputs": [
    {
     "data": {
      "text/plain": [
       "10"
      ]
     },
     "execution_count": 11,
     "metadata": {},
     "output_type": "execute_result"
    }
   ],
   "source": [
    "a"
   ]
  },
  {
   "cell_type": "code",
   "execution_count": 12,
   "id": "1aa62ae9-9868-4151-9463-b5e6a977fd20",
   "metadata": {},
   "outputs": [
    {
     "data": {
      "text/plain": [
       "20"
      ]
     },
     "execution_count": 12,
     "metadata": {},
     "output_type": "execute_result"
    }
   ],
   "source": [
    "b"
   ]
  },
  {
   "cell_type": "code",
   "execution_count": 13,
   "id": "2e7a421f-fd64-409c-9c5c-0d6dbf1e53e9",
   "metadata": {},
   "outputs": [
    {
     "data": {
      "text/plain": [
       "11"
      ]
     },
     "execution_count": 13,
     "metadata": {},
     "output_type": "execute_result"
    }
   ],
   "source": [
    "c"
   ]
  },
  {
   "cell_type": "code",
   "execution_count": 14,
   "id": "5ed418c5-b0bc-469c-a307-6021f3335ed6",
   "metadata": {},
   "outputs": [
    {
     "name": "stdout",
     "output_type": "stream",
     "text": [
      "10 is less than 20\n"
     ]
    }
   ],
   "source": [
    "if a < b:\n",
    "    print(f\"{a} is less than {b}\")\n",
    "    if a == c:\n",
    "        print(f\"{a} is equal to {c}\")"
   ]
  },
  {
   "cell_type": "code",
   "execution_count": 15,
   "id": "cec90f3b-2022-4571-b77b-a16abad40a6c",
   "metadata": {},
   "outputs": [],
   "source": [
    "c -= 1\n",
    "a += 5"
   ]
  },
  {
   "cell_type": "code",
   "execution_count": 19,
   "id": "7f461f04-c105-4dfb-8ac1-5f0469d6e18d",
   "metadata": {},
   "outputs": [],
   "source": [
    "a += 10"
   ]
  },
  {
   "cell_type": "code",
   "execution_count": 20,
   "id": "40e421c3-3891-4fd8-8637-82cd4ae1b40d",
   "metadata": {},
   "outputs": [
    {
     "data": {
      "text/plain": [
       "25"
      ]
     },
     "execution_count": 20,
     "metadata": {},
     "output_type": "execute_result"
    }
   ],
   "source": [
    "a"
   ]
  },
  {
   "cell_type": "code",
   "execution_count": 21,
   "id": "8714dace-47e8-4cd2-bcd7-7fbdef24879f",
   "metadata": {},
   "outputs": [
    {
     "data": {
      "text/plain": [
       "20"
      ]
     },
     "execution_count": 21,
     "metadata": {},
     "output_type": "execute_result"
    }
   ],
   "source": [
    "b"
   ]
  },
  {
   "cell_type": "code",
   "execution_count": 22,
   "id": "eed1b872-f71b-4a68-84c3-769b597bb9a6",
   "metadata": {},
   "outputs": [
    {
     "data": {
      "text/plain": [
       "10"
      ]
     },
     "execution_count": 22,
     "metadata": {},
     "output_type": "execute_result"
    }
   ],
   "source": [
    "c"
   ]
  },
  {
   "cell_type": "code",
   "execution_count": 23,
   "id": "13b8e274-c466-4979-811a-94d5b62a927a",
   "metadata": {},
   "outputs": [],
   "source": [
    "if a < b:\n",
    "    print(f\"{a} is less than {b}\")\n",
    "    if a == c:\n",
    "        print(f\"{a} is equal to {c}\")"
   ]
  },
  {
   "cell_type": "code",
   "execution_count": null,
   "id": "c2383c67-fa4c-4efd-93a8-bf5013c0131d",
   "metadata": {},
   "outputs": [],
   "source": []
  },
  {
   "cell_type": "markdown",
   "id": "8f45d545-2f8e-4d32-8bb2-8d94e104f32c",
   "metadata": {},
   "source": [
    "### if-else statement\n",
    "\n",
    "                        syntax:\n",
    "                                if condition:\n",
    "                                    st\n",
    "                                else:\n",
    "                                    st"
   ]
  },
  {
   "cell_type": "code",
   "execution_count": 24,
   "id": "a1b91d3b-b633-4e9d-89e4-e29e84ff4544",
   "metadata": {},
   "outputs": [
    {
     "name": "stdin",
     "output_type": "stream",
     "text": [
      "Enter your age:  20\n"
     ]
    },
    {
     "name": "stdout",
     "output_type": "stream",
     "text": [
      "you can vote\n"
     ]
    }
   ],
   "source": [
    "age = int(input('Enter your age: '))\n",
    "if age >= 18:    \n",
    "    print(\"you can vote\")\n",
    "else:\n",
    "    print(\"you can't vote\")"
   ]
  },
  {
   "cell_type": "code",
   "execution_count": null,
   "id": "90fcbc2c-5be3-478c-b8fc-163b4bb30180",
   "metadata": {},
   "outputs": [],
   "source": []
  },
  {
   "cell_type": "code",
   "execution_count": 25,
   "id": "648935cf-6330-4300-b569-92afe2df82b7",
   "metadata": {},
   "outputs": [
    {
     "name": "stdin",
     "output_type": "stream",
     "text": [
      "Enter your age:  15\n"
     ]
    },
    {
     "name": "stdout",
     "output_type": "stream",
     "text": [
      "you can't vote\n"
     ]
    }
   ],
   "source": [
    "age = int(input('Enter your age: '))\n",
    "if age >= 18:    \n",
    "    print(\"you can vote\")\n",
    "else:\n",
    "    print(\"you can't vote\")"
   ]
  },
  {
   "cell_type": "code",
   "execution_count": null,
   "id": "4f02f4e6-07ca-4e69-8203-40f582d1f105",
   "metadata": {},
   "outputs": [],
   "source": []
  },
  {
   "cell_type": "code",
   "execution_count": 27,
   "id": "1f943fbd-9ffb-4062-8eba-3780d8bb7396",
   "metadata": {},
   "outputs": [
    {
     "name": "stdin",
     "output_type": "stream",
     "text": [
      "Enter a number:  -5\n"
     ]
    },
    {
     "name": "stdout",
     "output_type": "stream",
     "text": [
      "-5 is -ve\n"
     ]
    }
   ],
   "source": [
    "num = int(input('Enter a number: '))\n",
    "if num > 0:\n",
    "    print(f\"{num} is +ve\")\n",
    "else:\n",
    "    print(f\"{num} is -ve\")"
   ]
  },
  {
   "cell_type": "code",
   "execution_count": 30,
   "id": "f315cf7a-c20e-4cf8-b0c6-7713a5cf5d0a",
   "metadata": {},
   "outputs": [
    {
     "data": {
      "text/plain": [
       "True"
      ]
     },
     "execution_count": 30,
     "metadata": {},
     "output_type": "execute_result"
    }
   ],
   "source": [
    "4 % 2 == 0"
   ]
  },
  {
   "cell_type": "code",
   "execution_count": 33,
   "id": "68935df9-e7c2-4b38-8cdd-bf8722b3545a",
   "metadata": {},
   "outputs": [
    {
     "name": "stdin",
     "output_type": "stream",
     "text": [
      "Enter a number:  10\n"
     ]
    },
    {
     "name": "stdout",
     "output_type": "stream",
     "text": [
      "10 is even\n"
     ]
    }
   ],
   "source": [
    "num = int(input('Enter a number: '))\n",
    "if num % 2 == 0:\n",
    "    print(f\"{num} is even\")\n",
    "else:\n",
    "    print(f\"{num} is odd\")"
   ]
  },
  {
   "cell_type": "code",
   "execution_count": null,
   "id": "f90b5fc2-114c-4f07-b1c3-8b9128ba9d83",
   "metadata": {},
   "outputs": [],
   "source": []
  },
  {
   "cell_type": "markdown",
   "id": "b2af7918-bcd1-4df2-a81f-f3b7663b61b9",
   "metadata": {},
   "source": [
    "### nested if else\n",
    "\n",
    "                    syntax:\n",
    "\n",
    "                            if condition:\n",
    "                                st\n",
    "                                if condition:\n",
    "                                    st\n",
    "                                else:\n",
    "                                    st\n",
    "                            else:\n",
    "                                st"
   ]
  },
  {
   "cell_type": "code",
   "execution_count": null,
   "id": "7e92c515-6c6f-439f-a017-e0406b3675ec",
   "metadata": {},
   "outputs": [],
   "source": []
  },
  {
   "cell_type": "code",
   "execution_count": 34,
   "id": "5dcb2b29-9cdf-4240-aa4f-4811dcfaf890",
   "metadata": {},
   "outputs": [
    {
     "name": "stdin",
     "output_type": "stream",
     "text": [
      "Enter amount of money:  25000\n"
     ]
    },
    {
     "name": "stdout",
     "output_type": "stream",
     "text": [
      "you can go for shopping...\n",
      "You can also go for a movie date...\n"
     ]
    }
   ],
   "source": [
    "money = int(input('Enter amount of money: '))\n",
    "if money >= 15000:\n",
    "    print(\"you can go for shopping...\")\n",
    "    if money >= 20000:\n",
    "        print(\"You can also go for a movie date...\")\n",
    "    else:\n",
    "        print(\"Just go for shopping right now...\")\n",
    "else:\n",
    "    print(\"Earn some money...\")"
   ]
  },
  {
   "cell_type": "code",
   "execution_count": null,
   "id": "227f13ec-828d-481b-94c0-8effe098cea7",
   "metadata": {},
   "outputs": [],
   "source": []
  },
  {
   "cell_type": "code",
   "execution_count": 35,
   "id": "38cd87fc-d761-41a8-9e63-147a6f6c4406",
   "metadata": {},
   "outputs": [
    {
     "name": "stdin",
     "output_type": "stream",
     "text": [
      "Enter amount of money:  16000\n"
     ]
    },
    {
     "name": "stdout",
     "output_type": "stream",
     "text": [
      "you can go for shopping...\n",
      "Just go for shopping right now...\n"
     ]
    }
   ],
   "source": [
    "money = int(input('Enter amount of money: '))\n",
    "if money >= 15000:\n",
    "    print(\"you can go for shopping...\")\n",
    "    if money >= 20000:\n",
    "        print(\"You can also go for a movie date...\")\n",
    "    else:\n",
    "        print(\"Just go for shopping right now...\")\n",
    "else:\n",
    "    print(\"Earn some money...\")"
   ]
  },
  {
   "cell_type": "code",
   "execution_count": null,
   "id": "67df9df3-203e-466a-bf3c-10b435731185",
   "metadata": {},
   "outputs": [],
   "source": []
  },
  {
   "cell_type": "code",
   "execution_count": 36,
   "id": "f14b4f2e-da48-49d7-bd8b-d95a16f3d26c",
   "metadata": {},
   "outputs": [
    {
     "name": "stdin",
     "output_type": "stream",
     "text": [
      "Enter amount of money:  9000\n"
     ]
    },
    {
     "name": "stdout",
     "output_type": "stream",
     "text": [
      "Earn some money...\n"
     ]
    }
   ],
   "source": [
    "money = int(input('Enter amount of money: '))\n",
    "if money >= 15000:\n",
    "    print(\"you can go for shopping...\")\n",
    "    if money >= 20000:\n",
    "        print(\"You can also go for a movie date...\")\n",
    "    else:\n",
    "        print(\"Just go for shopping right now...\")\n",
    "else:\n",
    "    print(\"Earn some money...\")"
   ]
  },
  {
   "cell_type": "code",
   "execution_count": null,
   "id": "7279e899-f8d9-41fe-857f-8062b1dc8847",
   "metadata": {},
   "outputs": [],
   "source": []
  },
  {
   "cell_type": "markdown",
   "id": "d292256d-1fd9-4c4f-81e7-b90548d47b93",
   "metadata": {},
   "source": [
    "### if-elif-else statement\n",
    "\n",
    "                            syntax:\n",
    "                                        if condition:\n",
    "                                            st\n",
    "                                        elif conditon:\n",
    "                                            st\n",
    "                                        elif condition:\n",
    "                                            st\n",
    "                                        ...\n",
    "                                        else:\n",
    "                                            st"
   ]
  },
  {
   "cell_type": "code",
   "execution_count": null,
   "id": "b3fd3d8a-40a1-44e2-ae6a-453f4d07b4e6",
   "metadata": {},
   "outputs": [],
   "source": []
  }
 ],
 "metadata": {
  "kernelspec": {
   "display_name": "Python 3 (ipykernel)",
   "language": "python",
   "name": "python3"
  },
  "language_info": {
   "codemirror_mode": {
    "name": "ipython",
    "version": 3
   },
   "file_extension": ".py",
   "mimetype": "text/x-python",
   "name": "python",
   "nbconvert_exporter": "python",
   "pygments_lexer": "ipython3",
   "version": "3.11.3"
  }
 },
 "nbformat": 4,
 "nbformat_minor": 5
}
