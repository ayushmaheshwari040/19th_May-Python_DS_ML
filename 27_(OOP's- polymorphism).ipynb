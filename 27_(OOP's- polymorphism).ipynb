{
 "cells": [
  {
   "cell_type": "markdown",
   "id": "2ad486ab-de19-4679-b4f1-b02b4ae93d81",
   "metadata": {},
   "source": [
    "# **OOP's**\n",
    "            Magic/Dender Methods- __init__, __str__ (automatically call)"
   ]
  },
  {
   "cell_type": "markdown",
   "id": "826aa1a4-8554-41b7-a04f-53f4ce5e6841",
   "metadata": {},
   "source": [
    "### Task- 24 OOP's"
   ]
  },
  {
   "cell_type": "code",
   "execution_count": 35,
   "id": "3ee6228e-9d8a-47d8-ba17-8ef68689e6d6",
   "metadata": {},
   "outputs": [],
   "source": [
    "class Person:\n",
    "    def __init__(self, lname, fname, phone, email):  \n",
    "        self.lname=lname \n",
    "        self.fname=fname\n",
    "        self.phone=phone\n",
    "        self.email=email\n",
    "\n",
    "    def __str__(self): \n",
    "        if type(self.email)==list:  \n",
    "            v=','.join(self.email)\n",
    "            return f\"{self.lname}, {self.fname} -- Phone Number: {self.phone} -- Email Address(es): {v}\"\n",
    "        else: \n",
    "            return f\"{self.lname}, {self.fname} -- Phone Number: {self.phone} -- Email Address(es): {self.email}\"\n",
    "\n",
    "\n",
    "Emily=Person(\"Zhang\",\"Emily\",\"5559358150\",\"emzhang@mit.edu\")\n",
    "Wesley=Person(\"Graybill\",\"Wesley\",\"5554885265\",[\"wgray497@mit.edu\",\"wdgraybill@gmail.com\"])"
   ]
  },
  {
   "cell_type": "code",
   "execution_count": 36,
   "id": "ce34490c-70b3-47e5-b4b5-328c9be2d607",
   "metadata": {},
   "outputs": [
    {
     "name": "stdout",
     "output_type": "stream",
     "text": [
      "Zhang, Emily -- Phone Number: 5559358150 -- Email Address(es): emzhang@mit.edu\n",
      "Graybill, Wesley -- Phone Number: 5554885265 -- Email Address(es): wgray497@mit.edu,wdgraybill@gmail.com\n"
     ]
    }
   ],
   "source": [
    "print(Emily)\n",
    "print(Wesley)"
   ]
  },
  {
   "cell_type": "code",
   "execution_count": 37,
   "id": "228d866d-edc8-439e-94d7-78b17b412681",
   "metadata": {},
   "outputs": [
    {
     "data": {
      "text/plain": [
       "'5559358150'"
      ]
     },
     "execution_count": 37,
     "metadata": {},
     "output_type": "execute_result"
    }
   ],
   "source": [
    "Emily.phone"
   ]
  },
  {
   "cell_type": "code",
   "execution_count": 38,
   "id": "8b45656a-a90f-4c1e-9d32-eef41731e417",
   "metadata": {},
   "outputs": [],
   "source": [
    "ali=Person('kamil','ali','2357384957849','kamil@gmail.com')\n",
    "sama=Person('kamil','sama','343858499494','sama@gmail.com')"
   ]
  },
  {
   "cell_type": "code",
   "execution_count": 39,
   "id": "a744da4d-f3bd-491d-ae8e-99a28371361c",
   "metadata": {},
   "outputs": [
    {
     "data": {
      "text/plain": [
       "'ali'"
      ]
     },
     "execution_count": 39,
     "metadata": {},
     "output_type": "execute_result"
    }
   ],
   "source": [
    "ali.fname"
   ]
  },
  {
   "cell_type": "code",
   "execution_count": null,
   "id": "2d20955c-117d-4e80-95e7-c52aec1484cf",
   "metadata": {},
   "outputs": [],
   "source": []
  },
  {
   "cell_type": "code",
   "execution_count": 40,
   "id": "a4cae38a-cac0-4213-9854-3325941922ce",
   "metadata": {},
   "outputs": [],
   "source": [
    "class AddressBook: \n",
    "    def __init__(self): \n",
    "        self.data=dict()\n",
    "\n",
    "    def add_person(self, obj): \n",
    "        self.data[obj.phone]=obj\n",
    "\n",
    "    def lookup_contact(self,lname, fname=None): \n",
    "        if fname: \n",
    "            for key, value in self.data.items(): \n",
    "                if value.fname==fname and value.lname==lname: \n",
    "                    print(value)\n",
    "        else: \n",
    "            for key, value in self.data.items(): \n",
    "                if value.lname==lname: \n",
    "                    print(value)\n",
    "                \n",
    "a=AddressBook()"
   ]
  },
  {
   "cell_type": "code",
   "execution_count": 41,
   "id": "f6cd7045-9fa0-415c-a7f4-744d3daa7641",
   "metadata": {},
   "outputs": [],
   "source": [
    "a.add_person(Emily)\n",
    "a.add_person(Wesley)"
   ]
  },
  {
   "cell_type": "code",
   "execution_count": 42,
   "id": "91edd15d-7af0-4f5f-9ecc-c72aac7504e4",
   "metadata": {},
   "outputs": [
    {
     "data": {
      "text/plain": [
       "{'5559358150': <__main__.Person at 0x20d81163e90>,\n",
       " '5554885265': <__main__.Person at 0x20d81163310>}"
      ]
     },
     "execution_count": 42,
     "metadata": {},
     "output_type": "execute_result"
    }
   ],
   "source": [
    "a.data"
   ]
  },
  {
   "cell_type": "code",
   "execution_count": 43,
   "id": "b32ec7c3-cec7-4a18-aa8f-3b78c1215507",
   "metadata": {},
   "outputs": [],
   "source": [
    "a.add_person(ali)\n",
    "a.add_person(sama)"
   ]
  },
  {
   "cell_type": "code",
   "execution_count": 44,
   "id": "feb45435-4fe6-40a3-9c40-8221dfff775e",
   "metadata": {},
   "outputs": [
    {
     "data": {
      "text/plain": [
       "{'5559358150': <__main__.Person at 0x20d81163e90>,\n",
       " '5554885265': <__main__.Person at 0x20d81163310>,\n",
       " '2357384957849': <__main__.Person at 0x20dffaa5490>,\n",
       " '343858499494': <__main__.Person at 0x20dffc66fd0>}"
      ]
     },
     "execution_count": 44,
     "metadata": {},
     "output_type": "execute_result"
    }
   ],
   "source": [
    "a.data"
   ]
  },
  {
   "cell_type": "code",
   "execution_count": 45,
   "id": "42a51675-2d9a-40d7-a780-f3fc49b337f8",
   "metadata": {},
   "outputs": [
    {
     "name": "stdout",
     "output_type": "stream",
     "text": [
      "kamil, ali -- Phone Number: 2357384957849 -- Email Address(es): kamil@gmail.com\n",
      "kamil, sama -- Phone Number: 343858499494 -- Email Address(es): sama@gmail.com\n"
     ]
    }
   ],
   "source": [
    "a.lookup_contact('kamil')"
   ]
  },
  {
   "cell_type": "code",
   "execution_count": 46,
   "id": "f2a4c436-16af-41ac-871f-1407434cfa01",
   "metadata": {},
   "outputs": [
    {
     "name": "stdout",
     "output_type": "stream",
     "text": [
      "kamil, ali -- Phone Number: 2357384957849 -- Email Address(es): kamil@gmail.com\n"
     ]
    }
   ],
   "source": [
    "a.lookup_contact('kamil','ali')"
   ]
  },
  {
   "cell_type": "code",
   "execution_count": null,
   "id": "50e494fd-6475-4a33-97be-344116feb70a",
   "metadata": {},
   "outputs": [],
   "source": []
  },
  {
   "cell_type": "code",
   "execution_count": null,
   "id": "cd84d3d3-2d5f-479e-9113-1e5628f2657e",
   "metadata": {},
   "outputs": [],
   "source": []
  },
  {
   "cell_type": "markdown",
   "id": "a695680b-fb84-4c35-8d8e-f439db9879a2",
   "metadata": {},
   "source": [
    "# **Polymorphism**\n",
    "                    poly-> many\n",
    "                    morph-> forms\n",
    "                    one thing can have many forms"
   ]
  },
  {
   "cell_type": "code",
   "execution_count": null,
   "id": "88af9f33-1e3a-422a-8f50-d34a3d5a363b",
   "metadata": {},
   "outputs": [],
   "source": []
  },
  {
   "cell_type": "code",
   "execution_count": 47,
   "id": "633c44e4-3948-4c47-b439-ebf74389cebc",
   "metadata": {},
   "outputs": [
    {
     "data": {
      "text/plain": [
       "30"
      ]
     },
     "execution_count": 47,
     "metadata": {},
     "output_type": "execute_result"
    }
   ],
   "source": [
    "a=10\n",
    "b=20\n",
    "\n",
    "a+b"
   ]
  },
  {
   "cell_type": "code",
   "execution_count": 52,
   "id": "fb78ff04-69ba-4d4c-aa8e-ff39b9a3d0c5",
   "metadata": {},
   "outputs": [
    {
     "data": {
      "text/plain": [
       "'hello world'"
      ]
     },
     "execution_count": 52,
     "metadata": {},
     "output_type": "execute_result"
    }
   ],
   "source": [
    "i='hello'\n",
    "j=' world'\n",
    "i+j"
   ]
  },
  {
   "cell_type": "code",
   "execution_count": null,
   "id": "4d445aab-ef99-4f28-a26f-0441add58809",
   "metadata": {},
   "outputs": [],
   "source": []
  },
  {
   "cell_type": "code",
   "execution_count": 54,
   "id": "8f64b70a-798f-4ed1-9c35-7ac5651bd616",
   "metadata": {},
   "outputs": [
    {
     "name": "stdout",
     "output_type": "stream",
     "text": [
      "['__abs__', '__add__', '__and__', '__bool__', '__ceil__', '__class__', '__delattr__', '__dir__', '__divmod__', '__doc__', '__eq__', '__float__', '__floor__', '__floordiv__', '__format__', '__ge__', '__getattribute__', '__getnewargs__', '__getstate__', '__gt__', '__hash__', '__index__', '__init__', '__init_subclass__', '__int__', '__invert__', '__le__', '__lshift__', '__lt__', '__mod__', '__mul__', '__ne__', '__neg__', '__new__', '__or__', '__pos__', '__pow__', '__radd__', '__rand__', '__rdivmod__', '__reduce__', '__reduce_ex__', '__repr__', '__rfloordiv__', '__rlshift__', '__rmod__', '__rmul__', '__ror__', '__round__', '__rpow__', '__rrshift__', '__rshift__', '__rsub__', '__rtruediv__', '__rxor__', '__setattr__', '__sizeof__', '__str__', '__sub__', '__subclasshook__', '__truediv__', '__trunc__', '__xor__', 'as_integer_ratio', 'bit_count', 'bit_length', 'conjugate', 'denominator', 'from_bytes', 'imag', 'numerator', 'real', 'to_bytes']\n"
     ]
    }
   ],
   "source": [
    "print(dir(int))"
   ]
  },
  {
   "cell_type": "code",
   "execution_count": 55,
   "id": "51d36ff2-2522-415b-8ea0-e910f60d3ea0",
   "metadata": {},
   "outputs": [
    {
     "data": {
      "text/plain": [
       "10"
      ]
     },
     "execution_count": 55,
     "metadata": {},
     "output_type": "execute_result"
    }
   ],
   "source": [
    "a"
   ]
  },
  {
   "cell_type": "code",
   "execution_count": 56,
   "id": "219215e5-15b2-48ab-b216-5fb556195574",
   "metadata": {},
   "outputs": [
    {
     "data": {
      "text/plain": [
       "20"
      ]
     },
     "execution_count": 56,
     "metadata": {},
     "output_type": "execute_result"
    }
   ],
   "source": [
    "b"
   ]
  },
  {
   "cell_type": "code",
   "execution_count": 57,
   "id": "f9f986c3-b5fc-41f6-838c-460d16e6eb7d",
   "metadata": {},
   "outputs": [
    {
     "data": {
      "text/plain": [
       "30"
      ]
     },
     "execution_count": 57,
     "metadata": {},
     "output_type": "execute_result"
    }
   ],
   "source": [
    "a+b"
   ]
  },
  {
   "cell_type": "code",
   "execution_count": 58,
   "id": "50c17508-1535-40aa-8a25-817ac2765d09",
   "metadata": {},
   "outputs": [
    {
     "data": {
      "text/plain": [
       "30"
      ]
     },
     "execution_count": 58,
     "metadata": {},
     "output_type": "execute_result"
    }
   ],
   "source": [
    "int.__add__(a,b)"
   ]
  },
  {
   "cell_type": "code",
   "execution_count": null,
   "id": "8ad252bf-9b24-4136-8775-18d43e162794",
   "metadata": {},
   "outputs": [],
   "source": []
  },
  {
   "cell_type": "code",
   "execution_count": 64,
   "id": "98aae24f-507c-401e-b917-ec53a244a80d",
   "metadata": {},
   "outputs": [
    {
     "name": "stdout",
     "output_type": "stream",
     "text": [
      "['__add__', '__class__', '__contains__', '__delattr__', '__dir__', '__doc__', '__eq__', '__format__', '__ge__', '__getattribute__', '__getitem__', '__getnewargs__', '__getstate__', '__gt__', '__hash__', '__init__', '__init_subclass__', '__iter__', '__le__', '__len__', '__lt__', '__mod__', '__mul__', '__ne__', '__new__', '__reduce__', '__reduce_ex__', '__repr__', '__rmod__', '__rmul__', '__setattr__', '__sizeof__', '__str__', '__subclasshook__', 'capitalize', 'casefold', 'center', 'count', 'encode', 'endswith', 'expandtabs', 'find', 'format', 'format_map', 'index', 'isalnum', 'isalpha', 'isascii', 'isdecimal', 'isdigit', 'isidentifier', 'islower', 'isnumeric', 'isprintable', 'isspace', 'istitle', 'isupper', 'join', 'ljust', 'lower', 'lstrip', 'maketrans', 'partition', 'removeprefix', 'removesuffix', 'replace', 'rfind', 'rindex', 'rjust', 'rpartition', 'rsplit', 'rstrip', 'split', 'splitlines', 'startswith', 'strip', 'swapcase', 'title', 'translate', 'upper', 'zfill']\n"
     ]
    }
   ],
   "source": [
    "print(dir(str))"
   ]
  },
  {
   "cell_type": "code",
   "execution_count": 59,
   "id": "d10d3e12-e7ae-468b-a45f-891394aa527b",
   "metadata": {},
   "outputs": [
    {
     "data": {
      "text/plain": [
       "'hello'"
      ]
     },
     "execution_count": 59,
     "metadata": {},
     "output_type": "execute_result"
    }
   ],
   "source": [
    "i"
   ]
  },
  {
   "cell_type": "code",
   "execution_count": 61,
   "id": "a9722776-e8f1-4860-8bcf-1b705d81af07",
   "metadata": {},
   "outputs": [
    {
     "data": {
      "text/plain": [
       "' world'"
      ]
     },
     "execution_count": 61,
     "metadata": {},
     "output_type": "execute_result"
    }
   ],
   "source": [
    "j"
   ]
  },
  {
   "cell_type": "code",
   "execution_count": 62,
   "id": "c0042451-8a01-4993-899f-a476132d27d3",
   "metadata": {},
   "outputs": [
    {
     "data": {
      "text/plain": [
       "'hello world'"
      ]
     },
     "execution_count": 62,
     "metadata": {},
     "output_type": "execute_result"
    }
   ],
   "source": [
    "i+j"
   ]
  },
  {
   "cell_type": "code",
   "execution_count": 63,
   "id": "9d7600a8-875a-4fc6-897a-6c66a9a1ab10",
   "metadata": {},
   "outputs": [
    {
     "data": {
      "text/plain": [
       "'hello world'"
      ]
     },
     "execution_count": 63,
     "metadata": {},
     "output_type": "execute_result"
    }
   ],
   "source": [
    "str.__add__(i,j)"
   ]
  },
  {
   "cell_type": "code",
   "execution_count": 65,
   "id": "ad2cefd0-d5cd-4d27-b1f3-cc0cc25b1507",
   "metadata": {},
   "outputs": [
    {
     "ename": "TypeError",
     "evalue": "descriptor '__add__' requires a 'str' object but received a 'int'",
     "output_type": "error",
     "traceback": [
      "\u001b[1;31m---------------------------------------------------------------------------\u001b[0m",
      "\u001b[1;31mTypeError\u001b[0m                                 Traceback (most recent call last)",
      "Cell \u001b[1;32mIn[65], line 1\u001b[0m\n\u001b[1;32m----> 1\u001b[0m \u001b[38;5;28;43mstr\u001b[39;49m\u001b[38;5;241;43m.\u001b[39;49m\u001b[38;5;21;43m__add__\u001b[39;49m\u001b[43m(\u001b[49m\u001b[43ma\u001b[49m\u001b[43m,\u001b[49m\u001b[43mb\u001b[49m\u001b[43m)\u001b[49m\n",
      "\u001b[1;31mTypeError\u001b[0m: descriptor '__add__' requires a 'str' object but received a 'int'"
     ]
    }
   ],
   "source": [
    "str.__add__(a,b)"
   ]
  },
  {
   "cell_type": "code",
   "execution_count": null,
   "id": "23725ef9-95b4-4894-a092-9feb365b4415",
   "metadata": {},
   "outputs": [],
   "source": []
  },
  {
   "cell_type": "code",
   "execution_count": 66,
   "id": "4325683f-a86a-492b-8ed9-7950f5fe6e46",
   "metadata": {},
   "outputs": [
    {
     "data": {
      "text/plain": [
       "10"
      ]
     },
     "execution_count": 66,
     "metadata": {},
     "output_type": "execute_result"
    }
   ],
   "source": [
    "a"
   ]
  },
  {
   "cell_type": "code",
   "execution_count": 67,
   "id": "fafd5e1d-ea90-40ec-9027-16116aa3f53d",
   "metadata": {},
   "outputs": [
    {
     "data": {
      "text/plain": [
       "20"
      ]
     },
     "execution_count": 67,
     "metadata": {},
     "output_type": "execute_result"
    }
   ],
   "source": [
    "b"
   ]
  },
  {
   "cell_type": "code",
   "execution_count": 68,
   "id": "61058db4-572d-4d6f-9713-d4702438db2c",
   "metadata": {},
   "outputs": [
    {
     "data": {
      "text/plain": [
       "True"
      ]
     },
     "execution_count": 68,
     "metadata": {},
     "output_type": "execute_result"
    }
   ],
   "source": [
    "a<b"
   ]
  },
  {
   "cell_type": "code",
   "execution_count": 69,
   "id": "2e5b0ca0-4a30-4d04-9611-8180733e7635",
   "metadata": {},
   "outputs": [
    {
     "data": {
      "text/plain": [
       "True"
      ]
     },
     "execution_count": 69,
     "metadata": {},
     "output_type": "execute_result"
    }
   ],
   "source": [
    "int.__lt__(a,b)"
   ]
  },
  {
   "cell_type": "code",
   "execution_count": 71,
   "id": "b50215cf-f814-4fc8-a312-e8c02ca09742",
   "metadata": {},
   "outputs": [
    {
     "data": {
      "text/plain": [
       "True"
      ]
     },
     "execution_count": 71,
     "metadata": {},
     "output_type": "execute_result"
    }
   ],
   "source": [
    "a.__lt__(b)"
   ]
  },
  {
   "cell_type": "code",
   "execution_count": null,
   "id": "a968b6b5-0938-4c30-936d-8715d62dc791",
   "metadata": {},
   "outputs": [],
   "source": []
  },
  {
   "cell_type": "code",
   "execution_count": 72,
   "id": "fcfcf59c-7892-4b33-aad4-4450a628f6cd",
   "metadata": {},
   "outputs": [],
   "source": [
    "class Person: \n",
    "    def __init__(self, name, age): \n",
    "        self.name=name\n",
    "        self.age=age\n",
    "\n",
    "p1=Person('harsh',23)\n",
    "p2=Person('rohan',22)"
   ]
  },
  {
   "cell_type": "code",
   "execution_count": 73,
   "id": "b130a4e8-179e-46f1-8b96-4c05b49d0761",
   "metadata": {},
   "outputs": [
    {
     "data": {
      "text/plain": [
       "10"
      ]
     },
     "execution_count": 73,
     "metadata": {},
     "output_type": "execute_result"
    }
   ],
   "source": [
    "a"
   ]
  },
  {
   "cell_type": "code",
   "execution_count": 74,
   "id": "18bcf7a4-3777-4298-b734-4537b5f91695",
   "metadata": {},
   "outputs": [
    {
     "data": {
      "text/plain": [
       "20"
      ]
     },
     "execution_count": 74,
     "metadata": {},
     "output_type": "execute_result"
    }
   ],
   "source": [
    "b"
   ]
  },
  {
   "cell_type": "code",
   "execution_count": 75,
   "id": "c537ed3a-53d2-499f-92fe-af98005c42e6",
   "metadata": {},
   "outputs": [
    {
     "name": "stdout",
     "output_type": "stream",
     "text": [
      "<class 'int'>\n"
     ]
    }
   ],
   "source": [
    "print(type(a))"
   ]
  },
  {
   "cell_type": "code",
   "execution_count": 77,
   "id": "42e3762a-54eb-46fc-adb3-34d6a88bef2e",
   "metadata": {},
   "outputs": [
    {
     "name": "stdout",
     "output_type": "stream",
     "text": [
      "<class '__main__.Person'>\n"
     ]
    }
   ],
   "source": [
    "print(type(p1))"
   ]
  },
  {
   "cell_type": "code",
   "execution_count": 79,
   "id": "bb7f2ef8-6349-4dcd-8826-3f4657b5980d",
   "metadata": {},
   "outputs": [
    {
     "data": {
      "text/plain": [
       "True"
      ]
     },
     "execution_count": 79,
     "metadata": {},
     "output_type": "execute_result"
    }
   ],
   "source": [
    "a<b"
   ]
  },
  {
   "cell_type": "code",
   "execution_count": 82,
   "id": "06ba190b-1869-4dfd-9d42-db8632c09d74",
   "metadata": {},
   "outputs": [
    {
     "ename": "TypeError",
     "evalue": "'<' not supported between instances of 'Person' and 'Person'",
     "output_type": "error",
     "traceback": [
      "\u001b[1;31m---------------------------------------------------------------------------\u001b[0m",
      "\u001b[1;31mTypeError\u001b[0m                                 Traceback (most recent call last)",
      "Cell \u001b[1;32mIn[82], line 1\u001b[0m\n\u001b[1;32m----> 1\u001b[0m \u001b[43mp1\u001b[49m\u001b[38;5;241;43m<\u001b[39;49m\u001b[43mp2\u001b[49m\n",
      "\u001b[1;31mTypeError\u001b[0m: '<' not supported between instances of 'Person' and 'Person'"
     ]
    }
   ],
   "source": [
    "p1<p2"
   ]
  },
  {
   "cell_type": "code",
   "execution_count": 83,
   "id": "ba46872c-a48d-43df-ad98-a674c6d0382c",
   "metadata": {},
   "outputs": [
    {
     "data": {
      "text/plain": [
       "NotImplemented"
      ]
     },
     "execution_count": 83,
     "metadata": {},
     "output_type": "execute_result"
    }
   ],
   "source": [
    "Person.__lt__(p1,p2)"
   ]
  },
  {
   "cell_type": "code",
   "execution_count": null,
   "id": "bbaab191-3300-48dc-a7b4-8aa4e6fa1b5a",
   "metadata": {},
   "outputs": [],
   "source": []
  },
  {
   "cell_type": "markdown",
   "id": "dbbfb316-bc5f-444e-b518-d708d0630d2b",
   "metadata": {},
   "source": [
    "## **Operator Overloading**"
   ]
  },
  {
   "cell_type": "code",
   "execution_count": 84,
   "id": "5ee4e7de-4ac9-485c-9f5f-ecbecc26ff9a",
   "metadata": {},
   "outputs": [],
   "source": [
    "class Person: \n",
    "    def __init__(self, name, age): \n",
    "        self.name=name\n",
    "        self.age=age\n",
    "\n",
    "    def __lt__(self,obj): \n",
    "        if self.age<obj.age: \n",
    "            return True\n",
    "        else: \n",
    "            return False\n",
    "\n",
    "p1=Person('harsh',23)\n",
    "p2=Person('rohan',22)"
   ]
  },
  {
   "cell_type": "code",
   "execution_count": 85,
   "id": "2f2ac17d-2d2d-40cb-955c-ba79ebcb948d",
   "metadata": {},
   "outputs": [
    {
     "data": {
      "text/plain": [
       "False"
      ]
     },
     "execution_count": 85,
     "metadata": {},
     "output_type": "execute_result"
    }
   ],
   "source": [
    "p1<p2"
   ]
  },
  {
   "cell_type": "code",
   "execution_count": null,
   "id": "ef7b20f3-e585-41fb-8bda-a143c672ab85",
   "metadata": {},
   "outputs": [],
   "source": []
  },
  {
   "cell_type": "markdown",
   "id": "31e57cf8-996b-42db-a75e-6b6ef898a0c2",
   "metadata": {},
   "source": [
    "## **Method Overloading is not supported in python**"
   ]
  },
  {
   "cell_type": "code",
   "execution_count": null,
   "id": "c7cdb2c8-0026-4194-a88d-35a88f51f11b",
   "metadata": {},
   "outputs": [],
   "source": []
  },
  {
   "cell_type": "markdown",
   "id": "9f18657f-9baf-466a-b38e-75c9c89b0037",
   "metadata": {},
   "source": [
    "## **Method Overriding**"
   ]
  },
  {
   "cell_type": "code",
   "execution_count": 87,
   "id": "36f0305f-7862-4967-9091-01d81499fa04",
   "metadata": {},
   "outputs": [],
   "source": [
    "class A: \n",
    "    def show(self): \n",
    "        print(\"This show method in class A\")\n",
    "\n",
    "class B(A): \n",
    "    pass\n",
    "\n",
    "b=B()"
   ]
  },
  {
   "cell_type": "code",
   "execution_count": 88,
   "id": "a107a333-da8d-4494-a39e-8311b2f11757",
   "metadata": {},
   "outputs": [
    {
     "name": "stdout",
     "output_type": "stream",
     "text": [
      "This show method in class A\n"
     ]
    }
   ],
   "source": [
    "b.show()"
   ]
  },
  {
   "cell_type": "code",
   "execution_count": null,
   "id": "6fbb3f0e-0702-4327-8789-7fb785ab8f29",
   "metadata": {},
   "outputs": [],
   "source": []
  },
  {
   "cell_type": "code",
   "execution_count": 89,
   "id": "4b55bc1c-bd52-412d-bd07-8ca450f099ad",
   "metadata": {},
   "outputs": [],
   "source": [
    "class A: \n",
    "    def show(self): \n",
    "        print(\"This show method in class A\")\n",
    "\n",
    "class B(A): \n",
    "    def show(self): \n",
    "        print(\"This show method in class B\")\n",
    "\n",
    "b=B()"
   ]
  },
  {
   "cell_type": "code",
   "execution_count": 90,
   "id": "c84f9962-cf79-401d-98f4-d5f45c4a9688",
   "metadata": {},
   "outputs": [
    {
     "name": "stdout",
     "output_type": "stream",
     "text": [
      "This show method in class B\n"
     ]
    }
   ],
   "source": [
    "b.show()"
   ]
  },
  {
   "cell_type": "code",
   "execution_count": null,
   "id": "6338a2e1-e92a-47c0-8862-310b840278fe",
   "metadata": {},
   "outputs": [],
   "source": []
  }
 ],
 "metadata": {
  "kernelspec": {
   "display_name": "Python 3 (ipykernel)",
   "language": "python",
   "name": "python3"
  },
  "language_info": {
   "codemirror_mode": {
    "name": "ipython",
    "version": 3
   },
   "file_extension": ".py",
   "mimetype": "text/x-python",
   "name": "python",
   "nbconvert_exporter": "python",
   "pygments_lexer": "ipython3",
   "version": "3.12.7"
  }
 },
 "nbformat": 4,
 "nbformat_minor": 5
}
