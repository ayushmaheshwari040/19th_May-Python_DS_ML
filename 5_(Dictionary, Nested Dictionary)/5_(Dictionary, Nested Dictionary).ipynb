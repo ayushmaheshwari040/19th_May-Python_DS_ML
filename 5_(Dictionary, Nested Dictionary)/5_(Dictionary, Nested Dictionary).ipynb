{
 "cells": [
  {
   "cell_type": "markdown",
   "id": "2922c088-361a-4ab4-908f-0912309468ec",
   "metadata": {},
   "source": [
    "# Dictionary"
   ]
  },
  {
   "cell_type": "code",
   "execution_count": null,
   "id": "454daff9-2def-4c5a-ba6f-eb2be6a8bd32",
   "metadata": {},
   "outputs": [],
   "source": []
  },
  {
   "cell_type": "code",
   "execution_count": 1,
   "id": "5deb832c-f081-4e7e-bf82-d494b36d8202",
   "metadata": {},
   "outputs": [
    {
     "name": "stdout",
     "output_type": "stream",
     "text": [
      "['clear', 'copy', 'fromkeys', 'get', 'items', 'keys', 'pop', 'popitem', 'setdefault', 'update', 'values']\n"
     ]
    }
   ],
   "source": [
    "print([i for i in dir(dict) if not i.startswith('__')])"
   ]
  },
  {
   "cell_type": "code",
   "execution_count": null,
   "id": "589e0d8a-b505-431d-834b-1631facbeff8",
   "metadata": {},
   "outputs": [],
   "source": []
  },
  {
   "cell_type": "code",
   "execution_count": 2,
   "id": "00c258fc-98ca-49fa-ab28-74c8e7e5fc2a",
   "metadata": {},
   "outputs": [],
   "source": [
    "data = {'name':'ayush', 'age':23, 'address':'jaipur'}"
   ]
  },
  {
   "cell_type": "code",
   "execution_count": 3,
   "id": "c91a72e1-ae14-432f-b06b-984231992405",
   "metadata": {},
   "outputs": [
    {
     "data": {
      "text/plain": [
       "{'name': 'ayush', 'age': 23, 'address': 'jaipur'}"
      ]
     },
     "execution_count": 3,
     "metadata": {},
     "output_type": "execute_result"
    }
   ],
   "source": [
    "data"
   ]
  },
  {
   "cell_type": "code",
   "execution_count": 4,
   "id": "159c815a-c5a0-4b28-b7a6-efd3a606c96c",
   "metadata": {},
   "outputs": [
    {
     "name": "stdout",
     "output_type": "stream",
     "text": [
      "<class 'dict'>\n"
     ]
    }
   ],
   "source": [
    "print(type(data))"
   ]
  },
  {
   "cell_type": "code",
   "execution_count": 5,
   "id": "da13f7fa-f3db-4c27-b280-e688dc6179d0",
   "metadata": {},
   "outputs": [
    {
     "data": {
      "text/plain": [
       "{'name': 'ayush', 'age': 23, 'address': 'jaipur'}"
      ]
     },
     "execution_count": 5,
     "metadata": {},
     "output_type": "execute_result"
    }
   ],
   "source": [
    "data"
   ]
  },
  {
   "cell_type": "code",
   "execution_count": 6,
   "id": "056b5a04-0cb0-4102-9d97-07e140aa7274",
   "metadata": {},
   "outputs": [],
   "source": [
    "ls = [34,56,678,34,67,89]"
   ]
  },
  {
   "cell_type": "code",
   "execution_count": 7,
   "id": "57781f52-3bdd-4c0b-9095-182f07541407",
   "metadata": {},
   "outputs": [
    {
     "data": {
      "text/plain": [
       "[34, 56, 678, 34, 67, 89]"
      ]
     },
     "execution_count": 7,
     "metadata": {},
     "output_type": "execute_result"
    }
   ],
   "source": [
    "ls"
   ]
  },
  {
   "cell_type": "code",
   "execution_count": 8,
   "id": "c79407b2-30d1-41d4-95c8-ce58600474cd",
   "metadata": {},
   "outputs": [
    {
     "data": {
      "text/plain": [
       "34"
      ]
     },
     "execution_count": 8,
     "metadata": {},
     "output_type": "execute_result"
    }
   ],
   "source": [
    "ls[0]"
   ]
  },
  {
   "cell_type": "code",
   "execution_count": 9,
   "id": "168f2c32-5a5e-413c-896d-9cfe396e5c4c",
   "metadata": {},
   "outputs": [
    {
     "data": {
      "text/plain": [
       "{'name': 'ayush', 'age': 23, 'address': 'jaipur'}"
      ]
     },
     "execution_count": 9,
     "metadata": {},
     "output_type": "execute_result"
    }
   ],
   "source": [
    "data"
   ]
  },
  {
   "cell_type": "code",
   "execution_count": 10,
   "id": "e4e95a68-9b69-487a-8155-d1a8bd4d25f4",
   "metadata": {},
   "outputs": [
    {
     "data": {
      "text/plain": [
       "'ayush'"
      ]
     },
     "execution_count": 10,
     "metadata": {},
     "output_type": "execute_result"
    }
   ],
   "source": [
    "data['name']"
   ]
  },
  {
   "cell_type": "code",
   "execution_count": 11,
   "id": "a5eac85f-27ea-4ab7-8aa8-430deed48aff",
   "metadata": {},
   "outputs": [
    {
     "data": {
      "text/plain": [
       "{'name': 'ayush', 'age': 23, 'address': 'jaipur'}"
      ]
     },
     "execution_count": 11,
     "metadata": {},
     "output_type": "execute_result"
    }
   ],
   "source": [
    "data"
   ]
  },
  {
   "cell_type": "code",
   "execution_count": 12,
   "id": "e7557fb6-7555-46d7-9408-f8d24b0a1c3f",
   "metadata": {},
   "outputs": [
    {
     "data": {
      "text/plain": [
       "[34, 56, 678, 34, 67, 89]"
      ]
     },
     "execution_count": 12,
     "metadata": {},
     "output_type": "execute_result"
    }
   ],
   "source": [
    "ls"
   ]
  },
  {
   "cell_type": "code",
   "execution_count": 13,
   "id": "4f77707e-eb79-4b3b-89f9-8bfc3794d997",
   "metadata": {},
   "outputs": [
    {
     "ename": "IndexError",
     "evalue": "list index out of range",
     "output_type": "error",
     "traceback": [
      "\u001b[1;31m---------------------------------------------------------------------------\u001b[0m",
      "\u001b[1;31mIndexError\u001b[0m                                Traceback (most recent call last)",
      "Cell \u001b[1;32mIn[13], line 1\u001b[0m\n\u001b[1;32m----> 1\u001b[0m ls[\u001b[38;5;241m10\u001b[39m]\n",
      "\u001b[1;31mIndexError\u001b[0m: list index out of range"
     ]
    }
   ],
   "source": [
    "ls[10]"
   ]
  },
  {
   "cell_type": "code",
   "execution_count": 14,
   "id": "fcdea5da-a89d-4b5f-a43b-2c2db8bdd661",
   "metadata": {},
   "outputs": [
    {
     "data": {
      "text/plain": [
       "{'name': 'ayush', 'age': 23, 'address': 'jaipur'}"
      ]
     },
     "execution_count": 14,
     "metadata": {},
     "output_type": "execute_result"
    }
   ],
   "source": [
    "data"
   ]
  },
  {
   "cell_type": "code",
   "execution_count": 15,
   "id": "b48feedd-ab14-4b48-b96c-cadfcf6bf8a3",
   "metadata": {},
   "outputs": [
    {
     "ename": "KeyError",
     "evalue": "'course'",
     "output_type": "error",
     "traceback": [
      "\u001b[1;31m---------------------------------------------------------------------------\u001b[0m",
      "\u001b[1;31mKeyError\u001b[0m                                  Traceback (most recent call last)",
      "Cell \u001b[1;32mIn[15], line 1\u001b[0m\n\u001b[1;32m----> 1\u001b[0m data[\u001b[38;5;124m'\u001b[39m\u001b[38;5;124mcourse\u001b[39m\u001b[38;5;124m'\u001b[39m]\n",
      "\u001b[1;31mKeyError\u001b[0m: 'course'"
     ]
    }
   ],
   "source": [
    "data['course']"
   ]
  },
  {
   "cell_type": "code",
   "execution_count": 16,
   "id": "9253ef64-cfc4-482a-b8ee-5ade245d4219",
   "metadata": {},
   "outputs": [
    {
     "data": {
      "text/plain": [
       "{'name': 'ayush', 'age': 23, 'address': 'jaipur'}"
      ]
     },
     "execution_count": 16,
     "metadata": {},
     "output_type": "execute_result"
    }
   ],
   "source": [
    "data"
   ]
  },
  {
   "cell_type": "code",
   "execution_count": 17,
   "id": "f479ec04-86e5-4fa7-8171-6e522cbee8a6",
   "metadata": {},
   "outputs": [
    {
     "ename": "KeyError",
     "evalue": "'course'",
     "output_type": "error",
     "traceback": [
      "\u001b[1;31m---------------------------------------------------------------------------\u001b[0m",
      "\u001b[1;31mKeyError\u001b[0m                                  Traceback (most recent call last)",
      "Cell \u001b[1;32mIn[17], line 1\u001b[0m\n\u001b[1;32m----> 1\u001b[0m data[\u001b[38;5;124m'\u001b[39m\u001b[38;5;124mcourse\u001b[39m\u001b[38;5;124m'\u001b[39m]\n",
      "\u001b[1;31mKeyError\u001b[0m: 'course'"
     ]
    }
   ],
   "source": [
    "data['course']"
   ]
  },
  {
   "cell_type": "code",
   "execution_count": 18,
   "id": "b5d8005e-5e4f-45e3-824a-7ae85bfd984c",
   "metadata": {},
   "outputs": [],
   "source": [
    "data['course'] = 'python'"
   ]
  },
  {
   "cell_type": "code",
   "execution_count": 19,
   "id": "e5a3c88e-d6f0-4093-acbd-41d3f50cd334",
   "metadata": {},
   "outputs": [
    {
     "data": {
      "text/plain": [
       "{'name': 'ayush', 'age': 23, 'address': 'jaipur', 'course': 'python'}"
      ]
     },
     "execution_count": 19,
     "metadata": {},
     "output_type": "execute_result"
    }
   ],
   "source": [
    "data"
   ]
  },
  {
   "cell_type": "code",
   "execution_count": null,
   "id": "184451b5-c987-4a5c-9688-8f715c6c35ed",
   "metadata": {},
   "outputs": [],
   "source": []
  },
  {
   "cell_type": "code",
   "execution_count": 20,
   "id": "c2476903-9cf7-478c-b895-17efc4e10e9a",
   "metadata": {},
   "outputs": [
    {
     "data": {
      "text/plain": [
       "'ayush'"
      ]
     },
     "execution_count": 20,
     "metadata": {},
     "output_type": "execute_result"
    }
   ],
   "source": [
    "data['name']"
   ]
  },
  {
   "cell_type": "code",
   "execution_count": 21,
   "id": "0407aaba-dc1d-4b90-a2af-ac92b621652d",
   "metadata": {},
   "outputs": [],
   "source": [
    "data['name'] = 'rohan'"
   ]
  },
  {
   "cell_type": "code",
   "execution_count": 22,
   "id": "38bf1087-e374-4d10-8c37-786925b8e292",
   "metadata": {},
   "outputs": [
    {
     "data": {
      "text/plain": [
       "{'name': 'rohan', 'age': 23, 'address': 'jaipur', 'course': 'python'}"
      ]
     },
     "execution_count": 22,
     "metadata": {},
     "output_type": "execute_result"
    }
   ],
   "source": [
    "data"
   ]
  },
  {
   "cell_type": "code",
   "execution_count": null,
   "id": "9940fc4c-d9b7-4100-907b-621f7db547c6",
   "metadata": {},
   "outputs": [],
   "source": []
  },
  {
   "cell_type": "code",
   "execution_count": 23,
   "id": "bc0ad103-5a69-46d8-ac55-ab3f744a3f13",
   "metadata": {},
   "outputs": [],
   "source": [
    "data.update({'state':'raj', 'pin':302018})"
   ]
  },
  {
   "cell_type": "code",
   "execution_count": 24,
   "id": "7fe1e72b-9197-4950-aa1a-ca784b787a30",
   "metadata": {},
   "outputs": [
    {
     "data": {
      "text/plain": [
       "{'name': 'rohan',\n",
       " 'age': 23,\n",
       " 'address': 'jaipur',\n",
       " 'course': 'python',\n",
       " 'state': 'raj',\n",
       " 'pin': 302018}"
      ]
     },
     "execution_count": 24,
     "metadata": {},
     "output_type": "execute_result"
    }
   ],
   "source": [
    "data"
   ]
  },
  {
   "cell_type": "code",
   "execution_count": 25,
   "id": "17236a5e-39a8-4cd9-89e5-677fa0824184",
   "metadata": {},
   "outputs": [],
   "source": [
    "ls = [('height', 157), ('weight', 56)]"
   ]
  },
  {
   "cell_type": "code",
   "execution_count": 26,
   "id": "d0cf82b9-0571-436e-b0f0-12d441a5ec64",
   "metadata": {},
   "outputs": [
    {
     "data": {
      "text/plain": [
       "[('height', 157), ('weight', 56)]"
      ]
     },
     "execution_count": 26,
     "metadata": {},
     "output_type": "execute_result"
    }
   ],
   "source": [
    "ls"
   ]
  },
  {
   "cell_type": "code",
   "execution_count": 27,
   "id": "e7b416d5-1985-49bf-9b48-0635e5bb379e",
   "metadata": {},
   "outputs": [],
   "source": [
    "data.update(ls)"
   ]
  },
  {
   "cell_type": "code",
   "execution_count": 28,
   "id": "b4332fad-ce6c-40c0-93b1-c9c7dd682fca",
   "metadata": {},
   "outputs": [
    {
     "data": {
      "text/plain": [
       "{'name': 'rohan',\n",
       " 'age': 23,\n",
       " 'address': 'jaipur',\n",
       " 'course': 'python',\n",
       " 'state': 'raj',\n",
       " 'pin': 302018,\n",
       " 'height': 157,\n",
       " 'weight': 56}"
      ]
     },
     "execution_count": 28,
     "metadata": {},
     "output_type": "execute_result"
    }
   ],
   "source": [
    "data"
   ]
  },
  {
   "cell_type": "code",
   "execution_count": 29,
   "id": "78bf9104-1341-4268-80a2-febb70839366",
   "metadata": {},
   "outputs": [
    {
     "data": {
      "text/plain": [
       "[('height', 157), ('weight', 56)]"
      ]
     },
     "execution_count": 29,
     "metadata": {},
     "output_type": "execute_result"
    }
   ],
   "source": [
    "ls"
   ]
  },
  {
   "cell_type": "code",
   "execution_count": 31,
   "id": "1b64d606-96ef-464f-b717-893e52e36604",
   "metadata": {},
   "outputs": [
    {
     "data": {
      "text/plain": [
       "[('height', 157), ('weight', 56)]"
      ]
     },
     "execution_count": 31,
     "metadata": {},
     "output_type": "execute_result"
    }
   ],
   "source": [
    "ls"
   ]
  },
  {
   "cell_type": "code",
   "execution_count": 33,
   "id": "395f20b7-3a67-453a-8c82-c1f3406c5881",
   "metadata": {},
   "outputs": [
    {
     "data": {
      "text/plain": [
       "('height', 157)"
      ]
     },
     "execution_count": 33,
     "metadata": {},
     "output_type": "execute_result"
    }
   ],
   "source": [
    "ls[0]"
   ]
  },
  {
   "cell_type": "code",
   "execution_count": 34,
   "id": "45f6191b-527a-4674-80e5-da178decda8b",
   "metadata": {},
   "outputs": [
    {
     "data": {
      "text/plain": [
       "\"[('height', 157), ('weight', 56)]\""
      ]
     },
     "execution_count": 34,
     "metadata": {},
     "output_type": "execute_result"
    }
   ],
   "source": [
    "v = str(ls)\n",
    "v"
   ]
  },
  {
   "cell_type": "code",
   "execution_count": 35,
   "id": "4179e10b-1cea-4630-8fa5-1482c3f0521c",
   "metadata": {},
   "outputs": [
    {
     "data": {
      "text/plain": [
       "str"
      ]
     },
     "execution_count": 35,
     "metadata": {},
     "output_type": "execute_result"
    }
   ],
   "source": [
    "type(v)"
   ]
  },
  {
   "cell_type": "code",
   "execution_count": 36,
   "id": "d12b3da9-3c31-41dd-b152-5bb8d8d9b0bb",
   "metadata": {},
   "outputs": [
    {
     "data": {
      "text/plain": [
       "'('"
      ]
     },
     "execution_count": 36,
     "metadata": {},
     "output_type": "execute_result"
    }
   ],
   "source": [
    "v[1]"
   ]
  },
  {
   "cell_type": "code",
   "execution_count": 37,
   "id": "3464242b-2b17-4b8f-84c5-aaf54b606ae9",
   "metadata": {},
   "outputs": [
    {
     "data": {
      "text/plain": [
       "'['"
      ]
     },
     "execution_count": 37,
     "metadata": {},
     "output_type": "execute_result"
    }
   ],
   "source": [
    "v[0]"
   ]
  },
  {
   "cell_type": "code",
   "execution_count": null,
   "id": "708bc812-392b-4fc0-a58e-79618bf081ae",
   "metadata": {},
   "outputs": [],
   "source": []
  },
  {
   "cell_type": "code",
   "execution_count": 38,
   "id": "655186f2-148d-42d1-a397-00ef2696c717",
   "metadata": {},
   "outputs": [
    {
     "data": {
      "text/plain": [
       "''"
      ]
     },
     "execution_count": 38,
     "metadata": {},
     "output_type": "execute_result"
    }
   ],
   "source": [
    "str()"
   ]
  },
  {
   "cell_type": "code",
   "execution_count": 39,
   "id": "4bf88dfd-90da-49cc-837c-3c8f24da7250",
   "metadata": {},
   "outputs": [
    {
     "data": {
      "text/plain": [
       "[('height', 157), ('weight', 56)]"
      ]
     },
     "execution_count": 39,
     "metadata": {},
     "output_type": "execute_result"
    }
   ],
   "source": [
    "ls"
   ]
  },
  {
   "cell_type": "code",
   "execution_count": 41,
   "id": "bd1f4cec-dcb8-4745-bd2f-7b271090269f",
   "metadata": {},
   "outputs": [
    {
     "data": {
      "text/plain": [
       "[]"
      ]
     },
     "execution_count": 41,
     "metadata": {},
     "output_type": "execute_result"
    }
   ],
   "source": [
    "a = list()\n",
    "a"
   ]
  },
  {
   "cell_type": "code",
   "execution_count": 42,
   "id": "97498b36-42fe-4554-95d3-ded1d72c5123",
   "metadata": {},
   "outputs": [],
   "source": [
    "a.extend([34,67,89,34,78])"
   ]
  },
  {
   "cell_type": "code",
   "execution_count": 43,
   "id": "f1b5d9c7-e73e-4004-a6e8-ccb2d574eab2",
   "metadata": {},
   "outputs": [
    {
     "data": {
      "text/plain": [
       "[34, 67, 89, 34, 78]"
      ]
     },
     "execution_count": 43,
     "metadata": {},
     "output_type": "execute_result"
    }
   ],
   "source": [
    "a"
   ]
  },
  {
   "cell_type": "code",
   "execution_count": 44,
   "id": "7c936a1d-1234-450c-9a31-d9ad7fc135ee",
   "metadata": {},
   "outputs": [],
   "source": [
    "tp = (23,56,78,34,67,89)"
   ]
  },
  {
   "cell_type": "code",
   "execution_count": 45,
   "id": "29ae561a-bb32-4d1d-b780-cfe6c6291d12",
   "metadata": {},
   "outputs": [
    {
     "data": {
      "text/plain": [
       "[23, 56, 78, 34, 67, 89]"
      ]
     },
     "execution_count": 45,
     "metadata": {},
     "output_type": "execute_result"
    }
   ],
   "source": [
    "list(tp)"
   ]
  },
  {
   "cell_type": "code",
   "execution_count": 46,
   "id": "39cd94d2-a5bb-4a01-978c-59b6c11f2ceb",
   "metadata": {},
   "outputs": [
    {
     "data": {
      "text/plain": [
       "[('height', 157), ('weight', 56)]"
      ]
     },
     "execution_count": 46,
     "metadata": {},
     "output_type": "execute_result"
    }
   ],
   "source": [
    "ls"
   ]
  },
  {
   "cell_type": "code",
   "execution_count": 47,
   "id": "a2e6aa8d-b45f-4156-b743-210fa12bb1c3",
   "metadata": {},
   "outputs": [
    {
     "data": {
      "text/plain": [
       "(('height', 157), ('weight', 56))"
      ]
     },
     "execution_count": 47,
     "metadata": {},
     "output_type": "execute_result"
    }
   ],
   "source": [
    "tuple(ls)"
   ]
  },
  {
   "cell_type": "code",
   "execution_count": 48,
   "id": "3fa044ff-a0c8-440f-9cd6-6db15fed488a",
   "metadata": {},
   "outputs": [
    {
     "data": {
      "text/plain": [
       "{'name': 'rohan',\n",
       " 'age': 23,\n",
       " 'address': 'jaipur',\n",
       " 'course': 'python',\n",
       " 'state': 'raj',\n",
       " 'pin': 302018,\n",
       " 'height': 157,\n",
       " 'weight': 56}"
      ]
     },
     "execution_count": 48,
     "metadata": {},
     "output_type": "execute_result"
    }
   ],
   "source": [
    "data"
   ]
  },
  {
   "cell_type": "code",
   "execution_count": 49,
   "id": "0f46ed6a-c7db-4b8c-8c3a-46191e677980",
   "metadata": {},
   "outputs": [
    {
     "data": {
      "text/plain": [
       "[('height', 157), ('weight', 56)]"
      ]
     },
     "execution_count": 49,
     "metadata": {},
     "output_type": "execute_result"
    }
   ],
   "source": [
    "ls"
   ]
  },
  {
   "cell_type": "code",
   "execution_count": 50,
   "id": "ac9aefda-e171-4a2f-9d36-1aa66561ddb3",
   "metadata": {},
   "outputs": [
    {
     "data": {
      "text/plain": [
       "{}"
      ]
     },
     "execution_count": 50,
     "metadata": {},
     "output_type": "execute_result"
    }
   ],
   "source": [
    "dict()"
   ]
  },
  {
   "cell_type": "code",
   "execution_count": 51,
   "id": "45cb530f-b2c1-4075-80e2-b48cec7b9018",
   "metadata": {},
   "outputs": [
    {
     "data": {
      "text/plain": [
       "{'height': 157, 'weight': 56}"
      ]
     },
     "execution_count": 51,
     "metadata": {},
     "output_type": "execute_result"
    }
   ],
   "source": [
    "dict(ls)"
   ]
  },
  {
   "cell_type": "code",
   "execution_count": null,
   "id": "6225034f-0656-456d-9747-3e56891fd86e",
   "metadata": {},
   "outputs": [],
   "source": []
  },
  {
   "cell_type": "code",
   "execution_count": 52,
   "id": "dc052747-07c5-478e-89bf-fa5dd5c07416",
   "metadata": {},
   "outputs": [],
   "source": [
    "s = 'python'"
   ]
  },
  {
   "cell_type": "code",
   "execution_count": 53,
   "id": "97bac15d-20f9-44d1-8903-16f6b599c27b",
   "metadata": {},
   "outputs": [
    {
     "ename": "ValueError",
     "evalue": "dictionary update sequence element #0 has length 1; 2 is required",
     "output_type": "error",
     "traceback": [
      "\u001b[1;31m---------------------------------------------------------------------------\u001b[0m",
      "\u001b[1;31mValueError\u001b[0m                                Traceback (most recent call last)",
      "Cell \u001b[1;32mIn[53], line 1\u001b[0m\n\u001b[1;32m----> 1\u001b[0m \u001b[38;5;28mdict\u001b[39m(s)\n",
      "\u001b[1;31mValueError\u001b[0m: dictionary update sequence element #0 has length 1; 2 is required"
     ]
    }
   ],
   "source": [
    "dict(s)"
   ]
  },
  {
   "cell_type": "code",
   "execution_count": null,
   "id": "18f094d0-db84-4cb9-ae76-d40389afc349",
   "metadata": {},
   "outputs": [],
   "source": []
  },
  {
   "cell_type": "code",
   "execution_count": 54,
   "id": "c4f3e48e-5e3a-49c4-b8bd-4a000de57cdd",
   "metadata": {},
   "outputs": [
    {
     "data": {
      "text/plain": [
       "{'name': 'rohan',\n",
       " 'age': 23,\n",
       " 'address': 'jaipur',\n",
       " 'course': 'python',\n",
       " 'state': 'raj',\n",
       " 'pin': 302018,\n",
       " 'height': 157,\n",
       " 'weight': 56}"
      ]
     },
     "execution_count": 54,
     "metadata": {},
     "output_type": "execute_result"
    }
   ],
   "source": [
    "data"
   ]
  },
  {
   "cell_type": "code",
   "execution_count": 55,
   "id": "d74e55d5-e897-48aa-b79c-ab5418ef316c",
   "metadata": {},
   "outputs": [
    {
     "data": {
      "text/plain": [
       "dict_keys(['name', 'age', 'address', 'course', 'state', 'pin', 'height', 'weight'])"
      ]
     },
     "execution_count": 55,
     "metadata": {},
     "output_type": "execute_result"
    }
   ],
   "source": [
    "data.keys()"
   ]
  },
  {
   "cell_type": "code",
   "execution_count": 56,
   "id": "5992b7b7-ee00-41d5-b0c8-68dd4c91ddc5",
   "metadata": {},
   "outputs": [
    {
     "data": {
      "text/plain": [
       "dict_values(['rohan', 23, 'jaipur', 'python', 'raj', 302018, 157, 56])"
      ]
     },
     "execution_count": 56,
     "metadata": {},
     "output_type": "execute_result"
    }
   ],
   "source": [
    "data.values()"
   ]
  },
  {
   "cell_type": "code",
   "execution_count": 57,
   "id": "aa9687d5-2184-4501-87c0-9e612c574bf3",
   "metadata": {},
   "outputs": [
    {
     "data": {
      "text/plain": [
       "{'name': 'rohan',\n",
       " 'age': 23,\n",
       " 'address': 'jaipur',\n",
       " 'course': 'python',\n",
       " 'state': 'raj',\n",
       " 'pin': 302018,\n",
       " 'height': 157,\n",
       " 'weight': 56}"
      ]
     },
     "execution_count": 57,
     "metadata": {},
     "output_type": "execute_result"
    }
   ],
   "source": [
    "data"
   ]
  },
  {
   "cell_type": "code",
   "execution_count": 58,
   "id": "a3ea432e-feba-4d28-bae4-28b433b50b13",
   "metadata": {},
   "outputs": [
    {
     "data": {
      "text/plain": [
       "'rohan'"
      ]
     },
     "execution_count": 58,
     "metadata": {},
     "output_type": "execute_result"
    }
   ],
   "source": [
    "data['name']"
   ]
  },
  {
   "cell_type": "code",
   "execution_count": 59,
   "id": "40938fc4-a4d2-4bba-ac9a-69da011a9ab3",
   "metadata": {},
   "outputs": [
    {
     "ename": "KeyError",
     "evalue": "'hello'",
     "output_type": "error",
     "traceback": [
      "\u001b[1;31m---------------------------------------------------------------------------\u001b[0m",
      "\u001b[1;31mKeyError\u001b[0m                                  Traceback (most recent call last)",
      "Cell \u001b[1;32mIn[59], line 1\u001b[0m\n\u001b[1;32m----> 1\u001b[0m data[\u001b[38;5;124m'\u001b[39m\u001b[38;5;124mhello\u001b[39m\u001b[38;5;124m'\u001b[39m]\n",
      "\u001b[1;31mKeyError\u001b[0m: 'hello'"
     ]
    }
   ],
   "source": [
    "data['hello']"
   ]
  },
  {
   "cell_type": "code",
   "execution_count": null,
   "id": "f252ecc2-7096-4107-ae83-a60360afc83a",
   "metadata": {},
   "outputs": [],
   "source": []
  },
  {
   "cell_type": "code",
   "execution_count": 60,
   "id": "af23db4c-7555-4a38-b36b-8e8607a0a5a9",
   "metadata": {},
   "outputs": [
    {
     "data": {
      "text/plain": [
       "'rohan'"
      ]
     },
     "execution_count": 60,
     "metadata": {},
     "output_type": "execute_result"
    }
   ],
   "source": [
    "data.get('name')"
   ]
  },
  {
   "cell_type": "code",
   "execution_count": 62,
   "id": "49297b64-f63d-49bc-aa48-8a7b8131c2ba",
   "metadata": {},
   "outputs": [],
   "source": [
    "data.get('hello')"
   ]
  },
  {
   "cell_type": "code",
   "execution_count": 63,
   "id": "7938127a-4afa-46ab-8d5b-d5828d943f6e",
   "metadata": {},
   "outputs": [
    {
     "name": "stdout",
     "output_type": "stream",
     "text": [
      "None\n"
     ]
    }
   ],
   "source": [
    "print(data.get('hello'))\n"
   ]
  },
  {
   "cell_type": "code",
   "execution_count": null,
   "id": "3835f1a9-c1c8-4910-8da7-8c0ef98d15b9",
   "metadata": {},
   "outputs": [],
   "source": []
  },
  {
   "cell_type": "code",
   "execution_count": 64,
   "id": "325057f2-6857-48e4-b9cc-0eb2a177144e",
   "metadata": {},
   "outputs": [
    {
     "data": {
      "text/plain": [
       "'key not found'"
      ]
     },
     "execution_count": 64,
     "metadata": {},
     "output_type": "execute_result"
    }
   ],
   "source": [
    "data.get('hello', 'key not found')"
   ]
  },
  {
   "cell_type": "code",
   "execution_count": null,
   "id": "db55c26e-ae79-4b24-94c1-ec2cc97b1653",
   "metadata": {},
   "outputs": [],
   "source": []
  },
  {
   "cell_type": "code",
   "execution_count": 65,
   "id": "8ff19da7-4646-4808-9875-e71db2395a1f",
   "metadata": {},
   "outputs": [
    {
     "data": {
      "text/plain": [
       "{'name': 'rohan',\n",
       " 'age': 23,\n",
       " 'address': 'jaipur',\n",
       " 'course': 'python',\n",
       " 'state': 'raj',\n",
       " 'pin': 302018,\n",
       " 'height': 157,\n",
       " 'weight': 56}"
      ]
     },
     "execution_count": 65,
     "metadata": {},
     "output_type": "execute_result"
    }
   ],
   "source": [
    "data"
   ]
  },
  {
   "cell_type": "code",
   "execution_count": 66,
   "id": "20aab8b7-090d-48e1-9bed-d1a960dfde3b",
   "metadata": {},
   "outputs": [
    {
     "data": {
      "text/plain": [
       "56"
      ]
     },
     "execution_count": 66,
     "metadata": {},
     "output_type": "execute_result"
    }
   ],
   "source": [
    "data.pop('weight')"
   ]
  },
  {
   "cell_type": "code",
   "execution_count": 67,
   "id": "4ac16a47-724e-4844-a26e-253245e51638",
   "metadata": {},
   "outputs": [
    {
     "data": {
      "text/plain": [
       "{'name': 'rohan',\n",
       " 'age': 23,\n",
       " 'address': 'jaipur',\n",
       " 'course': 'python',\n",
       " 'state': 'raj',\n",
       " 'pin': 302018,\n",
       " 'height': 157}"
      ]
     },
     "execution_count": 67,
     "metadata": {},
     "output_type": "execute_result"
    }
   ],
   "source": [
    "data"
   ]
  },
  {
   "cell_type": "code",
   "execution_count": 68,
   "id": "24e22f9f-79b0-4e0a-8ea7-1669675938e9",
   "metadata": {},
   "outputs": [
    {
     "ename": "KeyError",
     "evalue": "'weight'",
     "output_type": "error",
     "traceback": [
      "\u001b[1;31m---------------------------------------------------------------------------\u001b[0m",
      "\u001b[1;31mKeyError\u001b[0m                                  Traceback (most recent call last)",
      "Cell \u001b[1;32mIn[68], line 1\u001b[0m\n\u001b[1;32m----> 1\u001b[0m data\u001b[38;5;241m.\u001b[39mpop(\u001b[38;5;124m'\u001b[39m\u001b[38;5;124mweight\u001b[39m\u001b[38;5;124m'\u001b[39m)\n",
      "\u001b[1;31mKeyError\u001b[0m: 'weight'"
     ]
    }
   ],
   "source": [
    "data.pop('weight')"
   ]
  },
  {
   "cell_type": "code",
   "execution_count": 69,
   "id": "7e8ce860-e874-4ba5-98b8-ac85b6547954",
   "metadata": {},
   "outputs": [
    {
     "data": {
      "text/plain": [
       "'value not found'"
      ]
     },
     "execution_count": 69,
     "metadata": {},
     "output_type": "execute_result"
    }
   ],
   "source": [
    "data.pop('weight', 'value not found')\n"
   ]
  },
  {
   "cell_type": "code",
   "execution_count": null,
   "id": "a1c6f7eb-86c6-4b41-b07b-8676e8ab2f07",
   "metadata": {},
   "outputs": [],
   "source": []
  },
  {
   "cell_type": "code",
   "execution_count": 70,
   "id": "45b3f202-9a20-4828-ab48-df72e6364546",
   "metadata": {},
   "outputs": [
    {
     "data": {
      "text/plain": [
       "{'name': 'rohan',\n",
       " 'age': 23,\n",
       " 'address': 'jaipur',\n",
       " 'course': 'python',\n",
       " 'state': 'raj',\n",
       " 'pin': 302018,\n",
       " 'height': 157}"
      ]
     },
     "execution_count": 70,
     "metadata": {},
     "output_type": "execute_result"
    }
   ],
   "source": [
    "data"
   ]
  },
  {
   "cell_type": "code",
   "execution_count": 71,
   "id": "fa3c9935-5809-46c6-bd8f-ac4a15b0d0a8",
   "metadata": {},
   "outputs": [
    {
     "data": {
      "text/plain": [
       "('height', 157)"
      ]
     },
     "execution_count": 71,
     "metadata": {},
     "output_type": "execute_result"
    }
   ],
   "source": [
    "data.popitem()"
   ]
  },
  {
   "cell_type": "code",
   "execution_count": 72,
   "id": "fdca3bc5-5efa-4462-a5dd-f4a31510bfbe",
   "metadata": {},
   "outputs": [
    {
     "data": {
      "text/plain": [
       "{'name': 'rohan',\n",
       " 'age': 23,\n",
       " 'address': 'jaipur',\n",
       " 'course': 'python',\n",
       " 'state': 'raj',\n",
       " 'pin': 302018}"
      ]
     },
     "execution_count": 72,
     "metadata": {},
     "output_type": "execute_result"
    }
   ],
   "source": [
    "data"
   ]
  },
  {
   "cell_type": "code",
   "execution_count": 73,
   "id": "588adf4d-c1bc-432b-8df1-a34da8c11bcd",
   "metadata": {},
   "outputs": [
    {
     "data": {
      "text/plain": [
       "('pin', 302018)"
      ]
     },
     "execution_count": 73,
     "metadata": {},
     "output_type": "execute_result"
    }
   ],
   "source": [
    "data.popitem()"
   ]
  },
  {
   "cell_type": "code",
   "execution_count": 74,
   "id": "3cbbb4cc-903a-4138-a186-9d5f47e36c10",
   "metadata": {},
   "outputs": [
    {
     "data": {
      "text/plain": [
       "{'name': 'rohan',\n",
       " 'age': 23,\n",
       " 'address': 'jaipur',\n",
       " 'course': 'python',\n",
       " 'state': 'raj'}"
      ]
     },
     "execution_count": 74,
     "metadata": {},
     "output_type": "execute_result"
    }
   ],
   "source": [
    "data"
   ]
  },
  {
   "cell_type": "code",
   "execution_count": 75,
   "id": "0579d01b-1520-43bc-9226-642f64edd88c",
   "metadata": {},
   "outputs": [
    {
     "data": {
      "text/plain": [
       "('state', 'raj')"
      ]
     },
     "execution_count": 75,
     "metadata": {},
     "output_type": "execute_result"
    }
   ],
   "source": [
    "v = data.popitem()\n",
    "v"
   ]
  },
  {
   "cell_type": "code",
   "execution_count": 76,
   "id": "c05d9e95-5fba-4d72-acec-70ce55f4cf97",
   "metadata": {},
   "outputs": [
    {
     "data": {
      "text/plain": [
       "{'name': 'rohan', 'age': 23, 'address': 'jaipur', 'course': 'python'}"
      ]
     },
     "execution_count": 76,
     "metadata": {},
     "output_type": "execute_result"
    }
   ],
   "source": [
    "data"
   ]
  },
  {
   "cell_type": "code",
   "execution_count": 77,
   "id": "7de3932d-884d-4994-8bde-d991d29bb9df",
   "metadata": {},
   "outputs": [],
   "source": [
    "v = data.popitem()\n",
    "data[v[0]] = v[1]"
   ]
  },
  {
   "cell_type": "code",
   "execution_count": 78,
   "id": "f71d2c64-75ae-4ff8-81f2-69fd4671908a",
   "metadata": {},
   "outputs": [
    {
     "data": {
      "text/plain": [
       "{'name': 'rohan', 'age': 23, 'address': 'jaipur', 'course': 'python'}"
      ]
     },
     "execution_count": 78,
     "metadata": {},
     "output_type": "execute_result"
    }
   ],
   "source": [
    "data"
   ]
  },
  {
   "cell_type": "code",
   "execution_count": 79,
   "id": "68762c2f-c2bb-4b1e-88c9-d21fd8e0728d",
   "metadata": {},
   "outputs": [
    {
     "data": {
      "text/plain": [
       "('course', 'python')"
      ]
     },
     "execution_count": 79,
     "metadata": {},
     "output_type": "execute_result"
    }
   ],
   "source": [
    "v"
   ]
  },
  {
   "cell_type": "code",
   "execution_count": 80,
   "id": "ec895820-5d23-437d-b0e7-e1c4290c9429",
   "metadata": {},
   "outputs": [
    {
     "data": {
      "text/plain": [
       "'course'"
      ]
     },
     "execution_count": 80,
     "metadata": {},
     "output_type": "execute_result"
    }
   ],
   "source": [
    "v[0]"
   ]
  },
  {
   "cell_type": "code",
   "execution_count": 81,
   "id": "eeddeb96-0069-40e5-8ed2-825880744ef2",
   "metadata": {},
   "outputs": [
    {
     "data": {
      "text/plain": [
       "'HARSH'"
      ]
     },
     "execution_count": 81,
     "metadata": {},
     "output_type": "execute_result"
    }
   ],
   "source": [
    "'harsh'.upper()"
   ]
  },
  {
   "cell_type": "code",
   "execution_count": 83,
   "id": "766338aa-6897-49bb-974c-49d4d48cc14a",
   "metadata": {},
   "outputs": [],
   "source": [
    "names = ['harsh', 'aman', 'rohan']"
   ]
  },
  {
   "cell_type": "code",
   "execution_count": 84,
   "id": "150e379d-6d8d-404a-b5bf-b988b2a29331",
   "metadata": {},
   "outputs": [
    {
     "data": {
      "text/plain": [
       "['harsh', 'aman', 'rohan']"
      ]
     },
     "execution_count": 84,
     "metadata": {},
     "output_type": "execute_result"
    }
   ],
   "source": [
    "names"
   ]
  },
  {
   "cell_type": "code",
   "execution_count": 85,
   "id": "58491dc0-6463-40cb-9c3e-173f5cb0d1a3",
   "metadata": {},
   "outputs": [
    {
     "data": {
      "text/plain": [
       "'HARSH'"
      ]
     },
     "execution_count": 85,
     "metadata": {},
     "output_type": "execute_result"
    }
   ],
   "source": [
    "names[0].upper()"
   ]
  },
  {
   "cell_type": "code",
   "execution_count": null,
   "id": "14d227ed-1298-418f-a505-6a1b993835db",
   "metadata": {},
   "outputs": [],
   "source": []
  },
  {
   "cell_type": "code",
   "execution_count": 86,
   "id": "2edeba1d-4b78-474a-a22e-8409746b86df",
   "metadata": {},
   "outputs": [
    {
     "data": {
      "text/plain": [
       "{'name': 'rohan', 'age': 23, 'address': 'jaipur', 'course': 'python'}"
      ]
     },
     "execution_count": 86,
     "metadata": {},
     "output_type": "execute_result"
    }
   ],
   "source": [
    "data"
   ]
  },
  {
   "cell_type": "code",
   "execution_count": 87,
   "id": "d6b793a2-ed7a-449e-b0a4-7386f5ae6b80",
   "metadata": {},
   "outputs": [
    {
     "data": {
      "text/plain": [
       "dict_items([('name', 'rohan'), ('age', 23), ('address', 'jaipur'), ('course', 'python')])"
      ]
     },
     "execution_count": 87,
     "metadata": {},
     "output_type": "execute_result"
    }
   ],
   "source": [
    "data.items()"
   ]
  },
  {
   "cell_type": "code",
   "execution_count": null,
   "id": "f91ceeb9-9cb9-40d0-a329-03ba29d41395",
   "metadata": {},
   "outputs": [],
   "source": []
  },
  {
   "cell_type": "code",
   "execution_count": 88,
   "id": "59303978-c047-4df5-94c2-3c16a59ec794",
   "metadata": {},
   "outputs": [
    {
     "data": {
      "text/plain": [
       "{1: None, 2: None, 3: None, 4: None, 5: None}"
      ]
     },
     "execution_count": 88,
     "metadata": {},
     "output_type": "execute_result"
    }
   ],
   "source": [
    "dict.fromkeys([1,2,3,4,5])"
   ]
  },
  {
   "cell_type": "code",
   "execution_count": null,
   "id": "563caf06-dae0-4cba-a5e9-f49d6fc8e81b",
   "metadata": {},
   "outputs": [],
   "source": []
  },
  {
   "cell_type": "code",
   "execution_count": 89,
   "id": "4199a249-8211-4596-a412-54413a8553a7",
   "metadata": {},
   "outputs": [
    {
     "data": {
      "text/plain": [
       "{1: 'hello', 2: 'hello', 3: 'hello', 4: 'hello', 5: 'hello'}"
      ]
     },
     "execution_count": 89,
     "metadata": {},
     "output_type": "execute_result"
    }
   ],
   "source": [
    "dict.fromkeys([1,2,3,4,5], 'hello')\n"
   ]
  },
  {
   "cell_type": "code",
   "execution_count": null,
   "id": "6cac2c75-2059-42d0-8c58-778be955e097",
   "metadata": {},
   "outputs": [],
   "source": []
  },
  {
   "cell_type": "code",
   "execution_count": 90,
   "id": "58efd5c8-29d1-4a03-b70e-214eb314e09e",
   "metadata": {},
   "outputs": [
    {
     "data": {
      "text/plain": [
       "{1: [1, 1, 1], 2: [1, 1, 1], 3: [1, 1, 1], 4: [1, 1, 1], 5: [1, 1, 1]}"
      ]
     },
     "execution_count": 90,
     "metadata": {},
     "output_type": "execute_result"
    }
   ],
   "source": [
    "dict.fromkeys([1,2,3,4,5], [1,1,1])\n"
   ]
  },
  {
   "cell_type": "code",
   "execution_count": null,
   "id": "e0516bc8-44fd-4eb1-9586-33707396d509",
   "metadata": {},
   "outputs": [],
   "source": []
  },
  {
   "cell_type": "code",
   "execution_count": 91,
   "id": "62521748-e452-4a0b-9dbd-0332a7e5d89c",
   "metadata": {},
   "outputs": [
    {
     "data": {
      "text/plain": [
       "{'name': 'rohan', 'age': 23, 'address': 'jaipur', 'course': 'python'}"
      ]
     },
     "execution_count": 91,
     "metadata": {},
     "output_type": "execute_result"
    }
   ],
   "source": [
    "data"
   ]
  },
  {
   "cell_type": "code",
   "execution_count": 92,
   "id": "59b5f557-9236-4def-b8e5-3156a211013b",
   "metadata": {},
   "outputs": [
    {
     "data": {
      "text/plain": [
       "'rohan'"
      ]
     },
     "execution_count": 92,
     "metadata": {},
     "output_type": "execute_result"
    }
   ],
   "source": [
    "data.setdefault('name')"
   ]
  },
  {
   "cell_type": "code",
   "execution_count": 93,
   "id": "8cb106fd-3c59-4bd6-b4bd-365a76b05539",
   "metadata": {},
   "outputs": [],
   "source": [
    "data.setdefault('state')"
   ]
  },
  {
   "cell_type": "code",
   "execution_count": 94,
   "id": "61c0414b-e6ab-475f-9895-10ba2ec3b1a1",
   "metadata": {},
   "outputs": [
    {
     "data": {
      "text/plain": [
       "{'name': 'rohan',\n",
       " 'age': 23,\n",
       " 'address': 'jaipur',\n",
       " 'course': 'python',\n",
       " 'state': None}"
      ]
     },
     "execution_count": 94,
     "metadata": {},
     "output_type": "execute_result"
    }
   ],
   "source": [
    "data"
   ]
  },
  {
   "cell_type": "code",
   "execution_count": 95,
   "id": "50bfb847-183e-4bf7-b5f2-2c5f79b58a2e",
   "metadata": {},
   "outputs": [
    {
     "data": {
      "text/plain": [
       "('state', None)"
      ]
     },
     "execution_count": 95,
     "metadata": {},
     "output_type": "execute_result"
    }
   ],
   "source": [
    "data.popitem()"
   ]
  },
  {
   "cell_type": "code",
   "execution_count": 96,
   "id": "1887151c-a54b-4159-8d80-35afd8ee6d67",
   "metadata": {},
   "outputs": [
    {
     "data": {
      "text/plain": [
       "{'name': 'rohan', 'age': 23, 'address': 'jaipur', 'course': 'python'}"
      ]
     },
     "execution_count": 96,
     "metadata": {},
     "output_type": "execute_result"
    }
   ],
   "source": [
    "data"
   ]
  },
  {
   "cell_type": "code",
   "execution_count": 97,
   "id": "cba4bf6f-d4fd-494c-b1ed-6ef1b680098e",
   "metadata": {},
   "outputs": [
    {
     "data": {
      "text/plain": [
       "'raj'"
      ]
     },
     "execution_count": 97,
     "metadata": {},
     "output_type": "execute_result"
    }
   ],
   "source": [
    "data.setdefault('state', 'raj')"
   ]
  },
  {
   "cell_type": "code",
   "execution_count": 98,
   "id": "e01d6682-507f-4701-8712-974b0a3aa2d7",
   "metadata": {},
   "outputs": [
    {
     "data": {
      "text/plain": [
       "{'name': 'rohan',\n",
       " 'age': 23,\n",
       " 'address': 'jaipur',\n",
       " 'course': 'python',\n",
       " 'state': 'raj'}"
      ]
     },
     "execution_count": 98,
     "metadata": {},
     "output_type": "execute_result"
    }
   ],
   "source": [
    "data"
   ]
  },
  {
   "cell_type": "code",
   "execution_count": 99,
   "id": "84c90084-673e-4041-982a-884dcbffa837",
   "metadata": {},
   "outputs": [
    {
     "data": {
      "text/plain": [
       "[('height', 157), ('weight', 56)]"
      ]
     },
     "execution_count": 99,
     "metadata": {},
     "output_type": "execute_result"
    }
   ],
   "source": [
    "ls"
   ]
  },
  {
   "cell_type": "code",
   "execution_count": 100,
   "id": "aedea87e-20ed-4d00-9144-005703f67b68",
   "metadata": {},
   "outputs": [],
   "source": [
    "ls.clear()"
   ]
  },
  {
   "cell_type": "code",
   "execution_count": 101,
   "id": "757b2e5d-f7be-41f2-8f6c-81648dcd1c2c",
   "metadata": {},
   "outputs": [
    {
     "data": {
      "text/plain": [
       "[]"
      ]
     },
     "execution_count": 101,
     "metadata": {},
     "output_type": "execute_result"
    }
   ],
   "source": [
    "ls"
   ]
  },
  {
   "cell_type": "code",
   "execution_count": 102,
   "id": "6d283a9e-3645-4c03-b45b-e3d9e1f37b6a",
   "metadata": {},
   "outputs": [],
   "source": [
    "data.clear()"
   ]
  },
  {
   "cell_type": "code",
   "execution_count": 103,
   "id": "399cbdd1-9b2e-4f3c-bc5d-c067605d73a6",
   "metadata": {},
   "outputs": [
    {
     "data": {
      "text/plain": [
       "{}"
      ]
     },
     "execution_count": 103,
     "metadata": {},
     "output_type": "execute_result"
    }
   ],
   "source": [
    "data"
   ]
  },
  {
   "cell_type": "code",
   "execution_count": null,
   "id": "b372c672-bee5-4604-8e81-82c460117d70",
   "metadata": {},
   "outputs": [],
   "source": []
  },
  {
   "cell_type": "markdown",
   "id": "bd192d25-9364-448e-96ec-659f45518a0c",
   "metadata": {},
   "source": [
    "### Nested Dictionary"
   ]
  },
  {
   "cell_type": "code",
   "execution_count": null,
   "id": "11556173-fc0b-4ab1-ab63-18334b4a5863",
   "metadata": {},
   "outputs": [],
   "source": []
  },
  {
   "cell_type": "code",
   "execution_count": 104,
   "id": "7ba90ebb-e58f-4399-ba27-46f88bca21df",
   "metadata": {},
   "outputs": [],
   "source": [
    "nested_dict = {\n",
    "    1:{'name':'deep', 'age':23, 'address':'jaipur'},\n",
    "    2:{'name':'aman', 'age':24, 'address':'jaipur'},\n",
    "    3:{'name':'ram', 'age':25, 'address':'jaipur'},\n",
    "    4:{'name':'harsh', 'age':21, 'address':'jaipur'}\n",
    "}"
   ]
  },
  {
   "cell_type": "code",
   "execution_count": 105,
   "id": "1a07fed7-0376-41e0-b32d-17f5a25b1170",
   "metadata": {},
   "outputs": [
    {
     "data": {
      "text/plain": [
       "{1: {'name': 'deep', 'age': 23, 'address': 'jaipur'},\n",
       " 2: {'name': 'aman', 'age': 24, 'address': 'jaipur'},\n",
       " 3: {'name': 'ram', 'age': 25, 'address': 'jaipur'},\n",
       " 4: {'name': 'harsh', 'age': 21, 'address': 'jaipur'}}"
      ]
     },
     "execution_count": 105,
     "metadata": {},
     "output_type": "execute_result"
    }
   ],
   "source": [
    "nested_dict"
   ]
  },
  {
   "cell_type": "code",
   "execution_count": 106,
   "id": "59b16df6-7d4b-4dcd-b9b5-949b874214b3",
   "metadata": {},
   "outputs": [
    {
     "data": {
      "text/plain": [
       "dict_keys([1, 2, 3, 4])"
      ]
     },
     "execution_count": 106,
     "metadata": {},
     "output_type": "execute_result"
    }
   ],
   "source": [
    "nested_dict.keys()"
   ]
  },
  {
   "cell_type": "code",
   "execution_count": 107,
   "id": "1cc3bf26-5855-4481-b648-9d7956c40a7e",
   "metadata": {},
   "outputs": [
    {
     "data": {
      "text/plain": [
       "dict_values([{'name': 'deep', 'age': 23, 'address': 'jaipur'}, {'name': 'aman', 'age': 24, 'address': 'jaipur'}, {'name': 'ram', 'age': 25, 'address': 'jaipur'}, {'name': 'harsh', 'age': 21, 'address': 'jaipur'}])"
      ]
     },
     "execution_count": 107,
     "metadata": {},
     "output_type": "execute_result"
    }
   ],
   "source": [
    "nested_dict.values()"
   ]
  },
  {
   "cell_type": "code",
   "execution_count": null,
   "id": "cce10533-5c4b-4e72-b031-6fcfffda7bac",
   "metadata": {},
   "outputs": [],
   "source": []
  },
  {
   "cell_type": "code",
   "execution_count": 108,
   "id": "a79fc76e-4dba-428e-a85c-ed04585dc987",
   "metadata": {},
   "outputs": [
    {
     "data": {
      "text/plain": [
       "{1: {'name': 'deep', 'age': 23, 'address': 'jaipur'},\n",
       " 2: {'name': 'aman', 'age': 24, 'address': 'jaipur'},\n",
       " 3: {'name': 'ram', 'age': 25, 'address': 'jaipur'},\n",
       " 4: {'name': 'harsh', 'age': 21, 'address': 'jaipur'}}"
      ]
     },
     "execution_count": 108,
     "metadata": {},
     "output_type": "execute_result"
    }
   ],
   "source": [
    "nested_dict"
   ]
  },
  {
   "cell_type": "code",
   "execution_count": null,
   "id": "8076e99b-7767-49f0-8a44-8cc622aa0b46",
   "metadata": {},
   "outputs": [],
   "source": []
  },
  {
   "cell_type": "code",
   "execution_count": 109,
   "id": "999c3ad1-f76a-4aa8-9bd2-2ef417bd0de7",
   "metadata": {},
   "outputs": [
    {
     "data": {
      "text/plain": [
       "{'name': 'deep', 'age': 23, 'address': 'jaipur'}"
      ]
     },
     "execution_count": 109,
     "metadata": {},
     "output_type": "execute_result"
    }
   ],
   "source": [
    "nested_dict[1]"
   ]
  },
  {
   "cell_type": "code",
   "execution_count": 111,
   "id": "bb38f215-6922-4f0c-96d2-1d188a7a6d4c",
   "metadata": {},
   "outputs": [
    {
     "data": {
      "text/plain": [
       "{'name': 'aman', 'age': 24, 'address': 'jaipur'}"
      ]
     },
     "execution_count": 111,
     "metadata": {},
     "output_type": "execute_result"
    }
   ],
   "source": [
    "nested_dict[2]"
   ]
  },
  {
   "cell_type": "code",
   "execution_count": null,
   "id": "98bfbd54-3853-48c3-8642-e16c29793b89",
   "metadata": {},
   "outputs": [],
   "source": []
  },
  {
   "cell_type": "code",
   "execution_count": 112,
   "id": "b672fb23-0abf-4e71-beee-ef41f411ac8d",
   "metadata": {},
   "outputs": [
    {
     "data": {
      "text/plain": [
       "24"
      ]
     },
     "execution_count": 112,
     "metadata": {},
     "output_type": "execute_result"
    }
   ],
   "source": [
    "nested_dict[2]['age']"
   ]
  },
  {
   "cell_type": "code",
   "execution_count": null,
   "id": "8ad05d2c-9359-4737-be3b-af7b43dc67ec",
   "metadata": {},
   "outputs": [],
   "source": []
  },
  {
   "cell_type": "code",
   "execution_count": 113,
   "id": "b9537ea3-cb08-4a37-9ee8-45e2e84a7daa",
   "metadata": {},
   "outputs": [
    {
     "data": {
      "text/plain": [
       "'jaipur'"
      ]
     },
     "execution_count": 113,
     "metadata": {},
     "output_type": "execute_result"
    }
   ],
   "source": [
    "nested_dict[4]['address']"
   ]
  },
  {
   "cell_type": "code",
   "execution_count": null,
   "id": "79bd10e6-06bc-4aeb-ac0d-a76da51decbb",
   "metadata": {},
   "outputs": [],
   "source": []
  },
  {
   "cell_type": "code",
   "execution_count": 114,
   "id": "e33d506f-20b8-4807-b038-beb3459ff37e",
   "metadata": {},
   "outputs": [
    {
     "data": {
      "text/plain": [
       "{1: {'name': 'deep', 'age': 23, 'address': 'jaipur'},\n",
       " 2: {'name': 'aman', 'age': 24, 'address': 'jaipur'},\n",
       " 3: {'name': 'ram', 'age': 25, 'address': 'jaipur'},\n",
       " 4: {'name': 'harsh', 'age': 21, 'address': 'jaipur'}}"
      ]
     },
     "execution_count": 114,
     "metadata": {},
     "output_type": "execute_result"
    }
   ],
   "source": [
    "nested_dict"
   ]
  },
  {
   "cell_type": "code",
   "execution_count": 115,
   "id": "b83e44c2-16bb-4da3-8fd4-4b044e617a76",
   "metadata": {},
   "outputs": [
    {
     "data": {
      "text/plain": [
       "{'name': 'ram', 'age': 25, 'address': 'jaipur'}"
      ]
     },
     "execution_count": 115,
     "metadata": {},
     "output_type": "execute_result"
    }
   ],
   "source": [
    "nested_dict[3]"
   ]
  },
  {
   "cell_type": "markdown",
   "id": "2703be55-397e-4edf-b6d6-380e960b18f5",
   "metadata": {},
   "source": [
    "    nested_dict[3]['state'] = 'raj'\n",
    "    nested_dict[3].update({'state':'raj'})\n",
    "    nested_dict.setdefault('state', 'raj')"
   ]
  },
  {
   "cell_type": "code",
   "execution_count": 116,
   "id": "46313d48-ddbc-4f50-b7bc-e0178e2b1967",
   "metadata": {},
   "outputs": [],
   "source": [
    "nested_dict[3]['state'] = 'raj'"
   ]
  },
  {
   "cell_type": "code",
   "execution_count": 117,
   "id": "70f20fe1-a7ed-4ce8-b3f0-530aeb2e35eb",
   "metadata": {},
   "outputs": [
    {
     "data": {
      "text/plain": [
       "{1: {'name': 'deep', 'age': 23, 'address': 'jaipur'},\n",
       " 2: {'name': 'aman', 'age': 24, 'address': 'jaipur'},\n",
       " 3: {'name': 'ram', 'age': 25, 'address': 'jaipur', 'state': 'raj'},\n",
       " 4: {'name': 'harsh', 'age': 21, 'address': 'jaipur'}}"
      ]
     },
     "execution_count": 117,
     "metadata": {},
     "output_type": "execute_result"
    }
   ],
   "source": [
    "nested_dict"
   ]
  },
  {
   "cell_type": "code",
   "execution_count": null,
   "id": "ef3f2e20-3328-4e60-9d7f-6ed25da415b3",
   "metadata": {},
   "outputs": [],
   "source": []
  },
  {
   "cell_type": "code",
   "execution_count": 118,
   "id": "f6aab8e1-45ba-474b-a57f-24b39dc0edd2",
   "metadata": {},
   "outputs": [],
   "source": [
    "nested_dict[4]['marks'] = [23,32,34]"
   ]
  },
  {
   "cell_type": "code",
   "execution_count": 119,
   "id": "aab68ee8-a0cf-4716-bef3-f25282b55cad",
   "metadata": {},
   "outputs": [
    {
     "data": {
      "text/plain": [
       "{1: {'name': 'deep', 'age': 23, 'address': 'jaipur'},\n",
       " 2: {'name': 'aman', 'age': 24, 'address': 'jaipur'},\n",
       " 3: {'name': 'ram', 'age': 25, 'address': 'jaipur', 'state': 'raj'},\n",
       " 4: {'name': 'harsh', 'age': 21, 'address': 'jaipur', 'marks': [23, 32, 34]}}"
      ]
     },
     "execution_count": 119,
     "metadata": {},
     "output_type": "execute_result"
    }
   ],
   "source": [
    "nested_dict"
   ]
  },
  {
   "cell_type": "code",
   "execution_count": null,
   "id": "e45585ff-f822-45bf-95b8-d9b85956c241",
   "metadata": {},
   "outputs": [],
   "source": []
  },
  {
   "cell_type": "code",
   "execution_count": 122,
   "id": "b00474be-6839-41af-a3f2-9a7fe42416df",
   "metadata": {},
   "outputs": [],
   "source": [
    "nested_dict[4]['marks'].append(53)"
   ]
  },
  {
   "cell_type": "code",
   "execution_count": 123,
   "id": "2227220e-da68-426f-9315-9d3933a59266",
   "metadata": {},
   "outputs": [
    {
     "data": {
      "text/plain": [
       "{1: {'name': 'deep', 'age': 23, 'address': 'jaipur'},\n",
       " 2: {'name': 'aman', 'age': 24, 'address': 'jaipur'},\n",
       " 3: {'name': 'ram', 'age': 25, 'address': 'jaipur', 'state': 'raj'},\n",
       " 4: {'name': 'harsh',\n",
       "  'age': 21,\n",
       "  'address': 'jaipur',\n",
       "  'marks': [23, 32, 34, 53]}}"
      ]
     },
     "execution_count": 123,
     "metadata": {},
     "output_type": "execute_result"
    }
   ],
   "source": [
    "nested_dict"
   ]
  },
  {
   "cell_type": "code",
   "execution_count": 124,
   "id": "46c65824-99e1-4acb-988c-f5bb6cbd5c77",
   "metadata": {},
   "outputs": [
    {
     "data": {
      "text/plain": [
       "[23, 32, 34, 53]"
      ]
     },
     "execution_count": 124,
     "metadata": {},
     "output_type": "execute_result"
    }
   ],
   "source": [
    "nested_dict[4]['marks']"
   ]
  },
  {
   "cell_type": "code",
   "execution_count": null,
   "id": "ed5aa962-1e1f-465f-b583-225a16bc9779",
   "metadata": {},
   "outputs": [],
   "source": []
  },
  {
   "cell_type": "code",
   "execution_count": 125,
   "id": "fd36296e-7de9-4f30-bc09-6f17c14eb5d4",
   "metadata": {},
   "outputs": [
    {
     "data": {
      "text/plain": [
       "{1: {'name': 'deep', 'age': 23, 'address': 'jaipur'},\n",
       " 2: {'name': 'aman', 'age': 24, 'address': 'jaipur'},\n",
       " 3: {'name': 'ram', 'age': 25, 'address': 'jaipur', 'state': 'raj'},\n",
       " 4: {'name': 'harsh',\n",
       "  'age': 21,\n",
       "  'address': 'jaipur',\n",
       "  'marks': [23, 32, 34, 53]}}"
      ]
     },
     "execution_count": 125,
     "metadata": {},
     "output_type": "execute_result"
    }
   ],
   "source": [
    "nested_dict"
   ]
  },
  {
   "cell_type": "code",
   "execution_count": null,
   "id": "5f999b2f-2d3f-4093-ad8f-236eaf0e4e4e",
   "metadata": {},
   "outputs": [],
   "source": []
  },
  {
   "cell_type": "code",
   "execution_count": 127,
   "id": "613be6c7-ab8c-4581-8688-9dc07fea1b02",
   "metadata": {},
   "outputs": [
    {
     "ename": "AttributeError",
     "evalue": "'list' object has no attribute 'popitem'",
     "output_type": "error",
     "traceback": [
      "\u001b[1;31m---------------------------------------------------------------------------\u001b[0m",
      "\u001b[1;31mAttributeError\u001b[0m                            Traceback (most recent call last)",
      "Cell \u001b[1;32mIn[127], line 1\u001b[0m\n\u001b[1;32m----> 1\u001b[0m nested_dict[\u001b[38;5;241m4\u001b[39m][\u001b[38;5;124m'\u001b[39m\u001b[38;5;124mmarks\u001b[39m\u001b[38;5;124m'\u001b[39m]\u001b[38;5;241m.\u001b[39mpopitem()\n",
      "\u001b[1;31mAttributeError\u001b[0m: 'list' object has no attribute 'popitem'"
     ]
    }
   ],
   "source": [
    "nested_dict[4]['marks'].popitem()"
   ]
  },
  {
   "cell_type": "code",
   "execution_count": 128,
   "id": "76759143-3613-4574-b028-416f53e8ac15",
   "metadata": {},
   "outputs": [
    {
     "data": {
      "text/plain": [
       "32"
      ]
     },
     "execution_count": 128,
     "metadata": {},
     "output_type": "execute_result"
    }
   ],
   "source": [
    "nested_dict[4]['marks'].pop(1)\n"
   ]
  },
  {
   "cell_type": "code",
   "execution_count": 129,
   "id": "a41fe9bd-8736-48c7-90bc-93f5c50490c2",
   "metadata": {},
   "outputs": [
    {
     "data": {
      "text/plain": [
       "{1: {'name': 'deep', 'age': 23, 'address': 'jaipur'},\n",
       " 2: {'name': 'aman', 'age': 24, 'address': 'jaipur'},\n",
       " 3: {'name': 'ram', 'age': 25, 'address': 'jaipur', 'state': 'raj'},\n",
       " 4: {'name': 'harsh', 'age': 21, 'address': 'jaipur', 'marks': [23, 34, 53]}}"
      ]
     },
     "execution_count": 129,
     "metadata": {},
     "output_type": "execute_result"
    }
   ],
   "source": [
    "nested_dict"
   ]
  },
  {
   "cell_type": "code",
   "execution_count": null,
   "id": "746cca20-2509-4da6-8d0f-4a1b66af7824",
   "metadata": {},
   "outputs": [],
   "source": []
  },
  {
   "cell_type": "code",
   "execution_count": 2,
   "id": "f6ff0e7f-c804-4585-9230-6909b26e7edd",
   "metadata": {},
   "outputs": [],
   "source": [
    "data = {'fsq_id': '4d311d2ec75a6ea8e95c01ae',\n",
    " 'categories': [{'id': 13199,\n",
    "   'name': 'Indian Restaurant',\n",
    "   'short_name': 'Indian',\n",
    "   'plural_name': 'Indian Restaurants',\n",
    "   'icon': {'prefix': 'https://ss3.4sqi.net/img/categories_v2/food/indian_',\n",
    "    'suffix': '.png'}}],\n",
    " 'chains': [],\n",
    " 'closed_bucket': 'LikelyOpen',\n",
    " 'distance': 18,\n",
    " 'geocodes': {'main': {'latitude': 26.916513, 'longitude': 75.795568},\n",
    "  'roof': {'latitude': 26.916513, 'longitude': 75.795568}},\n",
    " 'link': '/v3/places/4d311d2ec75a6ea8e95c01ae',\n",
    " 'location': {'address': 'Hotel Pearl Palace, 51, Hari Kishan Somani Marg, Hathroi Fort',\n",
    "  'address_extended': 'Near Ajmer Road, Gopalbari',\n",
    "  'country': 'IN',\n",
    "  'cross_street': 'Ajmer Rd',\n",
    "  'formatted_address': 'Hotel Pearl Palace, 51, Hari Kishan Somani Marg, Hathroi Fort (Ajmer Rd), Jaipur 302001, Rājasthān',\n",
    "  'locality': 'Jaipur',\n",
    "  'postcode': '302001',\n",
    "  'region': 'Rājasthān'},\n",
    " 'name': 'Peacock Roof Top Restaurant',\n",
    " 'related_places': {'parent': {'fsq_id': '4bde82a1ffdec928e5e3e8a1',\n",
    "   'categories': [{'id': 19014,\n",
    "     'name': 'Hotel',\n",
    "     'short_name': 'Hotel',\n",
    "     'plural_name': 'Hotels',\n",
    "     'icon': {'prefix': 'https://ss3.4sqi.net/img/categories_v2/travel/hotel_',\n",
    "      'suffix': '.png'}}],\n",
    "   'name': 'Hotel Pearl Palace'}},\n",
    " 'timezone': 'Asia/Kolkata'}"
   ]
  },
  {
   "cell_type": "code",
   "execution_count": 3,
   "id": "ca815bcf-1a27-483c-b4d7-c1ad8d4b2479",
   "metadata": {},
   "outputs": [
    {
     "data": {
      "text/plain": [
       "{'fsq_id': '4d311d2ec75a6ea8e95c01ae',\n",
       " 'categories': [{'id': 13199,\n",
       "   'name': 'Indian Restaurant',\n",
       "   'short_name': 'Indian',\n",
       "   'plural_name': 'Indian Restaurants',\n",
       "   'icon': {'prefix': 'https://ss3.4sqi.net/img/categories_v2/food/indian_',\n",
       "    'suffix': '.png'}}],\n",
       " 'chains': [],\n",
       " 'closed_bucket': 'LikelyOpen',\n",
       " 'distance': 18,\n",
       " 'geocodes': {'main': {'latitude': 26.916513, 'longitude': 75.795568},\n",
       "  'roof': {'latitude': 26.916513, 'longitude': 75.795568}},\n",
       " 'link': '/v3/places/4d311d2ec75a6ea8e95c01ae',\n",
       " 'location': {'address': 'Hotel Pearl Palace, 51, Hari Kishan Somani Marg, Hathroi Fort',\n",
       "  'address_extended': 'Near Ajmer Road, Gopalbari',\n",
       "  'country': 'IN',\n",
       "  'cross_street': 'Ajmer Rd',\n",
       "  'formatted_address': 'Hotel Pearl Palace, 51, Hari Kishan Somani Marg, Hathroi Fort (Ajmer Rd), Jaipur 302001, Rājasthān',\n",
       "  'locality': 'Jaipur',\n",
       "  'postcode': '302001',\n",
       "  'region': 'Rājasthān'},\n",
       " 'name': 'Peacock Roof Top Restaurant',\n",
       " 'related_places': {'parent': {'fsq_id': '4bde82a1ffdec928e5e3e8a1',\n",
       "   'categories': [{'id': 19014,\n",
       "     'name': 'Hotel',\n",
       "     'short_name': 'Hotel',\n",
       "     'plural_name': 'Hotels',\n",
       "     'icon': {'prefix': 'https://ss3.4sqi.net/img/categories_v2/travel/hotel_',\n",
       "      'suffix': '.png'}}],\n",
       "   'name': 'Hotel Pearl Palace'}},\n",
       " 'timezone': 'Asia/Kolkata'}"
      ]
     },
     "execution_count": 3,
     "metadata": {},
     "output_type": "execute_result"
    }
   ],
   "source": [
    "data"
   ]
  },
  {
   "cell_type": "code",
   "execution_count": null,
   "id": "59fc5686-0eb6-469b-ab8b-e3de4d492f97",
   "metadata": {},
   "outputs": [],
   "source": []
  },
  {
   "cell_type": "code",
   "execution_count": 4,
   "id": "e72dedd2-bbb0-4855-b397-fc79ab30128f",
   "metadata": {},
   "outputs": [
    {
     "data": {
      "text/plain": [
       "dict_keys(['fsq_id', 'categories', 'chains', 'closed_bucket', 'distance', 'geocodes', 'link', 'location', 'name', 'related_places', 'timezone'])"
      ]
     },
     "execution_count": 4,
     "metadata": {},
     "output_type": "execute_result"
    }
   ],
   "source": [
    "data.keys()"
   ]
  },
  {
   "cell_type": "code",
   "execution_count": 5,
   "id": "3f0c51cc-ec99-4a09-b049-fe033ea2c3a4",
   "metadata": {},
   "outputs": [
    {
     "data": {
      "text/plain": [
       "{'address': 'Hotel Pearl Palace, 51, Hari Kishan Somani Marg, Hathroi Fort',\n",
       " 'address_extended': 'Near Ajmer Road, Gopalbari',\n",
       " 'country': 'IN',\n",
       " 'cross_street': 'Ajmer Rd',\n",
       " 'formatted_address': 'Hotel Pearl Palace, 51, Hari Kishan Somani Marg, Hathroi Fort (Ajmer Rd), Jaipur 302001, Rājasthān',\n",
       " 'locality': 'Jaipur',\n",
       " 'postcode': '302001',\n",
       " 'region': 'Rājasthān'}"
      ]
     },
     "execution_count": 5,
     "metadata": {},
     "output_type": "execute_result"
    }
   ],
   "source": [
    "data['location']"
   ]
  },
  {
   "cell_type": "code",
   "execution_count": 6,
   "id": "8d9a0a94-1ea9-42c8-8dd3-fa0c8d410c95",
   "metadata": {},
   "outputs": [
    {
     "data": {
      "text/plain": [
       "'Hotel Pearl Palace, 51, Hari Kishan Somani Marg, Hathroi Fort (Ajmer Rd), Jaipur 302001, Rājasthān'"
      ]
     },
     "execution_count": 6,
     "metadata": {},
     "output_type": "execute_result"
    }
   ],
   "source": [
    "data['location']['formatted_address']\n"
   ]
  },
  {
   "cell_type": "code",
   "execution_count": 7,
   "id": "f54a43e5-f59c-4e1d-b199-b4ebc5dc1a88",
   "metadata": {},
   "outputs": [
    {
     "name": "stdout",
     "output_type": "stream",
     "text": [
      "['Hotel', 'Pearl', 'Palace,', '51,', 'Hari', 'Kishan', 'Somani', 'Marg,', 'Hathroi', 'Fort', '(Ajmer', 'Rd),', 'Jaipur', '302001,', 'Rājasthān']\n"
     ]
    }
   ],
   "source": [
    "print(data['location']['formatted_address'].split())\n"
   ]
  },
  {
   "cell_type": "code",
   "execution_count": 8,
   "id": "78331f34-8d41-4c43-b28d-b50a189587d1",
   "metadata": {},
   "outputs": [],
   "source": [
    "a = data['location']['formatted_address'].split(', ')\n"
   ]
  },
  {
   "cell_type": "code",
   "execution_count": 9,
   "id": "454770c2-54af-4ec0-ac3f-13e246a5b1cb",
   "metadata": {},
   "outputs": [
    {
     "data": {
      "text/plain": [
       "['Hotel Pearl Palace',\n",
       " '51',\n",
       " 'Hari Kishan Somani Marg',\n",
       " 'Hathroi Fort (Ajmer Rd)',\n",
       " 'Jaipur 302001',\n",
       " 'Rājasthān']"
      ]
     },
     "execution_count": 9,
     "metadata": {},
     "output_type": "execute_result"
    }
   ],
   "source": [
    "a"
   ]
  },
  {
   "cell_type": "code",
   "execution_count": 10,
   "id": "9c6a0ffe-e711-4601-a53a-8d336843f1e7",
   "metadata": {},
   "outputs": [
    {
     "data": {
      "text/plain": [
       "'Jaipur 302001'"
      ]
     },
     "execution_count": 10,
     "metadata": {},
     "output_type": "execute_result"
    }
   ],
   "source": [
    "a[-2]"
   ]
  },
  {
   "cell_type": "code",
   "execution_count": 12,
   "id": "4ebc2084-4271-439f-9740-676ebda69095",
   "metadata": {},
   "outputs": [
    {
     "data": {
      "text/plain": [
       "{'fsq_id': '4d311d2ec75a6ea8e95c01ae',\n",
       " 'categories': [{'id': 13199,\n",
       "   'name': 'Indian Restaurant',\n",
       "   'short_name': 'Indian',\n",
       "   'plural_name': 'Indian Restaurants',\n",
       "   'icon': {'prefix': 'https://ss3.4sqi.net/img/categories_v2/food/indian_',\n",
       "    'suffix': '.png'}}],\n",
       " 'chains': [],\n",
       " 'closed_bucket': 'LikelyOpen',\n",
       " 'distance': 18,\n",
       " 'geocodes': {'main': {'latitude': 26.916513, 'longitude': 75.795568},\n",
       "  'roof': {'latitude': 26.916513, 'longitude': 75.795568}},\n",
       " 'link': '/v3/places/4d311d2ec75a6ea8e95c01ae',\n",
       " 'location': {'address': 'Hotel Pearl Palace, 51, Hari Kishan Somani Marg, Hathroi Fort',\n",
       "  'address_extended': 'Near Ajmer Road, Gopalbari',\n",
       "  'country': 'IN',\n",
       "  'cross_street': 'Ajmer Rd',\n",
       "  'formatted_address': 'Hotel Pearl Palace, 51, Hari Kishan Somani Marg, Hathroi Fort (Ajmer Rd), Jaipur 302001, Rājasthān',\n",
       "  'locality': 'Jaipur',\n",
       "  'postcode': '302001',\n",
       "  'region': 'Rājasthān'},\n",
       " 'name': 'Peacock Roof Top Restaurant',\n",
       " 'related_places': {'parent': {'fsq_id': '4bde82a1ffdec928e5e3e8a1',\n",
       "   'categories': [{'id': 19014,\n",
       "     'name': 'Hotel',\n",
       "     'short_name': 'Hotel',\n",
       "     'plural_name': 'Hotels',\n",
       "     'icon': {'prefix': 'https://ss3.4sqi.net/img/categories_v2/travel/hotel_',\n",
       "      'suffix': '.png'}}],\n",
       "   'name': 'Hotel Pearl Palace'}},\n",
       " 'timezone': 'Asia/Kolkata'}"
      ]
     },
     "execution_count": 12,
     "metadata": {},
     "output_type": "execute_result"
    }
   ],
   "source": [
    "data"
   ]
  },
  {
   "cell_type": "code",
   "execution_count": null,
   "id": "e9227538-0f96-4176-9c55-286b33ebaea9",
   "metadata": {},
   "outputs": [],
   "source": []
  },
  {
   "cell_type": "code",
   "execution_count": 15,
   "id": "f765a286-694a-4022-81b2-8c2b534098cd",
   "metadata": {},
   "outputs": [
    {
     "data": {
      "text/plain": [
       "('longitude', 75.795568)"
      ]
     },
     "execution_count": 15,
     "metadata": {},
     "output_type": "execute_result"
    }
   ],
   "source": [
    "data['geocodes']['main'].popitem()"
   ]
  },
  {
   "cell_type": "code",
   "execution_count": 16,
   "id": "b984d6be-eada-4087-b5a6-6502e22d83fc",
   "metadata": {},
   "outputs": [
    {
     "data": {
      "text/plain": [
       "{'fsq_id': '4d311d2ec75a6ea8e95c01ae',\n",
       " 'categories': [{'id': 13199,\n",
       "   'name': 'Indian Restaurant',\n",
       "   'short_name': 'Indian',\n",
       "   'plural_name': 'Indian Restaurants',\n",
       "   'icon': {'prefix': 'https://ss3.4sqi.net/img/categories_v2/food/indian_',\n",
       "    'suffix': '.png'}}],\n",
       " 'chains': [],\n",
       " 'closed_bucket': 'LikelyOpen',\n",
       " 'distance': 18,\n",
       " 'geocodes': {'main': {'latitude': 26.916513},\n",
       "  'roof': {'latitude': 26.916513, 'longitude': 75.795568}},\n",
       " 'link': '/v3/places/4d311d2ec75a6ea8e95c01ae',\n",
       " 'location': {'address': 'Hotel Pearl Palace, 51, Hari Kishan Somani Marg, Hathroi Fort',\n",
       "  'address_extended': 'Near Ajmer Road, Gopalbari',\n",
       "  'country': 'IN',\n",
       "  'cross_street': 'Ajmer Rd',\n",
       "  'formatted_address': 'Hotel Pearl Palace, 51, Hari Kishan Somani Marg, Hathroi Fort (Ajmer Rd), Jaipur 302001, Rājasthān',\n",
       "  'locality': 'Jaipur',\n",
       "  'postcode': '302001',\n",
       "  'region': 'Rājasthān'},\n",
       " 'name': 'Peacock Roof Top Restaurant',\n",
       " 'related_places': {'parent': {'fsq_id': '4bde82a1ffdec928e5e3e8a1',\n",
       "   'categories': [{'id': 19014,\n",
       "     'name': 'Hotel',\n",
       "     'short_name': 'Hotel',\n",
       "     'plural_name': 'Hotels',\n",
       "     'icon': {'prefix': 'https://ss3.4sqi.net/img/categories_v2/travel/hotel_',\n",
       "      'suffix': '.png'}}],\n",
       "   'name': 'Hotel Pearl Palace'}},\n",
       " 'timezone': 'Asia/Kolkata'}"
      ]
     },
     "execution_count": 16,
     "metadata": {},
     "output_type": "execute_result"
    }
   ],
   "source": [
    "data"
   ]
  },
  {
   "cell_type": "code",
   "execution_count": null,
   "id": "fe848c90-13aa-4596-8518-788407f56c9d",
   "metadata": {},
   "outputs": [],
   "source": []
  },
  {
   "cell_type": "code",
   "execution_count": null,
   "id": "7f7fc09b-0743-42ae-ba70-06a7451881f0",
   "metadata": {},
   "outputs": [],
   "source": []
  },
  {
   "cell_type": "code",
   "execution_count": null,
   "id": "9e541924-994b-4bf5-84e8-7d69697de157",
   "metadata": {},
   "outputs": [],
   "source": []
  },
  {
   "cell_type": "code",
   "execution_count": null,
   "id": "b7b144eb-f4ae-4b7c-8a7f-cddf814554ce",
   "metadata": {},
   "outputs": [],
   "source": []
  },
  {
   "cell_type": "code",
   "execution_count": null,
   "id": "899efb7d-1ac1-4055-a86c-d609567a7f03",
   "metadata": {},
   "outputs": [],
   "source": []
  }
 ],
 "metadata": {
  "kernelspec": {
   "display_name": "Python 3 (ipykernel)",
   "language": "python",
   "name": "python3"
  },
  "language_info": {
   "codemirror_mode": {
    "name": "ipython",
    "version": 3
   },
   "file_extension": ".py",
   "mimetype": "text/x-python",
   "name": "python",
   "nbconvert_exporter": "python",
   "pygments_lexer": "ipython3",
   "version": "3.11.3"
  }
 },
 "nbformat": 4,
 "nbformat_minor": 5
}
