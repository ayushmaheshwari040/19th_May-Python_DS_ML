{
 "cells": [
  {
   "cell_type": "code",
   "execution_count": 1,
   "id": "3e458f2f-17bc-4754-86cd-4e5f283a73dc",
   "metadata": {},
   "outputs": [
    {
     "ename": "NameError",
     "evalue": "name 'addition' is not defined",
     "output_type": "error",
     "traceback": [
      "\u001b[1;31m---------------------------------------------------------------------------\u001b[0m",
      "\u001b[1;31mNameError\u001b[0m                                 Traceback (most recent call last)",
      "Cell \u001b[1;32mIn[1], line 1\u001b[0m\n\u001b[1;32m----> 1\u001b[0m addition()\n",
      "\u001b[1;31mNameError\u001b[0m: name 'addition' is not defined"
     ]
    }
   ],
   "source": [
    "addition()"
   ]
  },
  {
   "cell_type": "code",
   "execution_count": null,
   "id": "4cc69367-375e-4b2e-a544-92c968b291ee",
   "metadata": {},
   "outputs": [],
   "source": []
  },
  {
   "cell_type": "code",
   "execution_count": 2,
   "id": "73c90988-43e7-459a-9027-1d419750c8b3",
   "metadata": {},
   "outputs": [
    {
     "name": "stdin",
     "output_type": "stream",
     "text": [
      "Enter a: 5\n",
      "Enter b:  3\n"
     ]
    },
    {
     "name": "stdout",
     "output_type": "stream",
     "text": [
      "8\n",
      "2\n"
     ]
    }
   ],
   "source": [
    "import calculator"
   ]
  },
  {
   "cell_type": "code",
   "execution_count": 3,
   "id": "3b2a1e96-fb86-4a7a-8582-4711c9691fa1",
   "metadata": {},
   "outputs": [
    {
     "name": "stdout",
     "output_type": "stream",
     "text": [
      "['__builtins__', '__cached__', '__doc__', '__file__', '__loader__', '__name__', '__package__', '__spec__', 'a', 'addition', 'b', 'division', 'multiplication', 'subtraction']\n"
     ]
    }
   ],
   "source": [
    "print(dir(calculator))"
   ]
  },
  {
   "cell_type": "code",
   "execution_count": null,
   "id": "98dff68a-2b91-4704-a578-0994af23aa4f",
   "metadata": {},
   "outputs": [],
   "source": []
  },
  {
   "cell_type": "code",
   "execution_count": 4,
   "id": "428e67bd-5363-490c-a4a4-31e79d55b985",
   "metadata": {},
   "outputs": [],
   "source": [
    "import calculator1"
   ]
  },
  {
   "cell_type": "code",
   "execution_count": 5,
   "id": "3be0c811-35a3-43c7-bf77-91d0c1004f07",
   "metadata": {},
   "outputs": [
    {
     "data": {
      "text/plain": [
       "'calculator1'"
      ]
     },
     "execution_count": 5,
     "metadata": {},
     "output_type": "execute_result"
    }
   ],
   "source": [
    "calculator1.__name__"
   ]
  },
  {
   "cell_type": "code",
   "execution_count": 6,
   "id": "bb21a556-e756-4181-9ad6-196aa7528c66",
   "metadata": {},
   "outputs": [
    {
     "data": {
      "text/plain": [
       "5"
      ]
     },
     "execution_count": 6,
     "metadata": {},
     "output_type": "execute_result"
    }
   ],
   "source": [
    "calculator1.addition(2,3)"
   ]
  },
  {
   "cell_type": "code",
   "execution_count": 8,
   "id": "02b9def8-b907-4333-bd8a-992bd3b69017",
   "metadata": {},
   "outputs": [
    {
     "name": "stdout",
     "output_type": "stream",
     "text": [
      "['__builtins__', '__cached__', '__doc__', '__file__', '__loader__', '__name__', '__package__', '__spec__', 'addition', 'division', 'multiplication', 'subtraction']\n"
     ]
    }
   ],
   "source": [
    "print(dir(calculator1))"
   ]
  },
  {
   "cell_type": "code",
   "execution_count": null,
   "id": "7be98689-2c29-4e50-a81c-d8a2c279ec24",
   "metadata": {},
   "outputs": [],
   "source": []
  },
  {
   "cell_type": "code",
   "execution_count": 9,
   "id": "bba1ae84-8a4d-46b0-9fee-4780fafca246",
   "metadata": {},
   "outputs": [],
   "source": [
    "import new"
   ]
  },
  {
   "cell_type": "code",
   "execution_count": 10,
   "id": "34767029-5fe9-4ad4-b7fb-f7f4fb2ff381",
   "metadata": {},
   "outputs": [],
   "source": [
    "from new import func"
   ]
  },
  {
   "cell_type": "code",
   "execution_count": 11,
   "id": "ef297f30-28af-4096-a8fd-ae79dbd4151d",
   "metadata": {},
   "outputs": [
    {
     "data": {
      "text/plain": [
       "True"
      ]
     },
     "execution_count": 11,
     "metadata": {},
     "output_type": "execute_result"
    }
   ],
   "source": [
    "func(4)"
   ]
  },
  {
   "cell_type": "code",
   "execution_count": null,
   "id": "5d8cd9f5-ab8f-4449-9945-5ebd6c1553af",
   "metadata": {},
   "outputs": [],
   "source": []
  }
 ],
 "metadata": {
  "kernelspec": {
   "display_name": "Python 3 (ipykernel)",
   "language": "python",
   "name": "python3"
  },
  "language_info": {
   "codemirror_mode": {
    "name": "ipython",
    "version": 3
   },
   "file_extension": ".py",
   "mimetype": "text/x-python",
   "name": "python",
   "nbconvert_exporter": "python",
   "pygments_lexer": "ipython3",
   "version": "3.12.7"
  }
 },
 "nbformat": 4,
 "nbformat_minor": 5
}
