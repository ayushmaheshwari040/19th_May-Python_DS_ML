{
 "cells": [
  {
   "cell_type": "markdown",
   "id": "d5027b39-43ef-40a2-be35-453559b3bc16",
   "metadata": {},
   "source": [
    "# **Modules**\n",
    "                Modules are the python files"
   ]
  },
  {
   "cell_type": "code",
   "execution_count": 35,
   "id": "989d2e10-5303-41d2-aacd-b4d6481d71e5",
   "metadata": {},
   "outputs": [],
   "source": [
    "import random                  # here random is module which is also a python file\n",
    "import datetime                # here datetime is module which is also a python file"
   ]
  },
  {
   "cell_type": "code",
   "execution_count": null,
   "id": "b4eb4723-18ff-4728-9612-c57a8bf5b54f",
   "metadata": {},
   "outputs": [],
   "source": []
  },
  {
   "cell_type": "markdown",
   "id": "5e0c47ba-5ca3-403b-b0ad-90a718fe804f",
   "metadata": {},
   "source": [
    "## **Creating our own module**"
   ]
  },
  {
   "cell_type": "code",
   "execution_count": 36,
   "id": "2d9b77c5-c5d8-464f-9a59-a35f9d7f45f2",
   "metadata": {},
   "outputs": [
    {
     "name": "stdout",
     "output_type": "stream",
     "text": [
      "Writing new.py\n"
     ]
    }
   ],
   "source": [
    "%%writefile new.py             # this is magic command which only works on jupyter notebook and new.py becomes module now\n",
    "def func(x): \n",
    "    if x%2==0: \n",
    "        return True\n",
    "    else: \n",
    "        return False"
   ]
  },
  {
   "cell_type": "code",
   "execution_count": null,
   "id": "ed66bb61-910e-4752-be76-2403e619e831",
   "metadata": {},
   "outputs": [],
   "source": []
  },
  {
   "cell_type": "code",
   "execution_count": 39,
   "id": "b2d2cb06-bf8b-44b9-84a3-2cf6eb4dfdd1",
   "metadata": {},
   "outputs": [
    {
     "name": "stdin",
     "output_type": "stream",
     "text": [
      "Enter a: 5\n",
      "Enter b:  2\n"
     ]
    },
    {
     "name": "stdout",
     "output_type": "stream",
     "text": [
      "7\n",
      "3\n"
     ]
    }
   ],
   "source": [
    "def addition(x,y):\n",
    "    return x+y\n",
    "\n",
    "def subtraction(x,y):\n",
    "    return x-y\n",
    "\n",
    "def multiplication(x,y):\n",
    "    return x*y\n",
    "\n",
    "def division(x,y):\n",
    "    return x/y\n",
    "\n",
    "a=int(input(\"Enter a:\"))\n",
    "b=int(input(\"Enter b: \"))\n",
    "print(addition(a,b))\n",
    "print(subtraction(a,b))"
   ]
  },
  {
   "cell_type": "code",
   "execution_count": null,
   "id": "93fffdfa-3ebb-41c8-9f48-e04c7b00f5d7",
   "metadata": {},
   "outputs": [],
   "source": []
  },
  {
   "cell_type": "code",
   "execution_count": 51,
   "id": "c31d4a9f-0946-4cb5-8816-be8b3aa1fc65",
   "metadata": {},
   "outputs": [
    {
     "name": "stdout",
     "output_type": "stream",
     "text": [
      "Overwriting calculator.py\n"
     ]
    }
   ],
   "source": [
    "%%writefile calculator.py                             \n",
    "                                                                    # here calculator.py becomes module now\n",
    "def addition(x,y):\n",
    "    return x+y\n",
    "\n",
    "def subtraction(x,y):\n",
    "    return x-y\n",
    "\n",
    "def multiplication(x,y):\n",
    "    return x*y\n",
    "\n",
    "def division(x,y):\n",
    "    return x/y\n",
    "\n",
    "a=int(input(\"Enter a:\"))\n",
    "b=int(input(\"Enter b: \"))\n",
    "print(addition(a,b))\n",
    "print(subtraction(a,b))"
   ]
  },
  {
   "cell_type": "code",
   "execution_count": null,
   "id": "2462eef2-9d82-412e-940b-52faedfa2b23",
   "metadata": {},
   "outputs": [],
   "source": []
  },
  {
   "cell_type": "code",
   "execution_count": 56,
   "id": "a387b0c8-8477-4ea9-8fcd-b8505e8851b9",
   "metadata": {},
   "outputs": [
    {
     "name": "stdout",
     "output_type": "stream",
     "text": [
      "Overwriting calculator1.py\n"
     ]
    }
   ],
   "source": [
    "%%writefile calculator1.py                              \n",
    "                                                        # here calculator1.py becomes module now\n",
    "def addition(x,y):\n",
    "    return x+y\n",
    "\n",
    "def subtraction(x,y):\n",
    "    return x-y\n",
    "\n",
    "def multiplication(x,y):\n",
    "    return x*y\n",
    "\n",
    "def division(x,y):\n",
    "    return x/y\n",
    "\n",
    "if __name__=='__main__':                # if we write this staement than then complete code executed in this file but in another file we use this code than only the upper code of this statement will be executed \n",
    "    a=int(input(\"Enter a:\"))                       \n",
    "    b=int(input(\"Enter b: \"))\n",
    "    print(addition(a,b))\n",
    "    print(subtraction(a,b))"
   ]
  },
  {
   "cell_type": "code",
   "execution_count": null,
   "id": "8636f76f-f727-4e42-9251-022723c089f5",
   "metadata": {},
   "outputs": [],
   "source": []
  },
  {
   "cell_type": "markdown",
   "id": "c5aa938b-947a-4bb5-855c-8765a32541f4",
   "metadata": {},
   "source": [
    "### Shortcut Key- to select all content and shift left and right\n",
    "- ctrl+[ :- for leftshift\n",
    "- ctrl+] :- for rightshift"
   ]
  },
  {
   "cell_type": "code",
   "execution_count": null,
   "id": "a0d1110e-d448-42fd-b6c3-62dabaa5403d",
   "metadata": {},
   "outputs": [],
   "source": []
  },
  {
   "cell_type": "code",
   "execution_count": 55,
   "id": "b4fbf6d3-fbe0-4aa9-a403-8d103b6b84a2",
   "metadata": {},
   "outputs": [
    {
     "data": {
      "text/plain": [
       "'__main__'"
      ]
     },
     "execution_count": 55,
     "metadata": {},
     "output_type": "execute_result"
    }
   ],
   "source": [
    "__name__"
   ]
  },
  {
   "cell_type": "code",
   "execution_count": null,
   "id": "0c4f7931-4a41-4593-b3f5-6cf0fdaa24a2",
   "metadata": {},
   "outputs": [],
   "source": []
  },
  {
   "cell_type": "code",
   "execution_count": null,
   "id": "cca20592-cbf3-44d0-a692-9b175b98f55e",
   "metadata": {},
   "outputs": [],
   "source": []
  },
  {
   "cell_type": "code",
   "execution_count": null,
   "id": "33df1609-fea0-456e-987d-0e52293c2497",
   "metadata": {},
   "outputs": [],
   "source": []
  },
  {
   "cell_type": "markdown",
   "id": "182b56ee-96ad-42ce-a958-7d020566c2e2",
   "metadata": {},
   "source": [
    "# **Databases**\n"
   ]
  },
  {
   "cell_type": "markdown",
   "id": "a3452ab8-b972-41b0-836f-8e3eafddbbc9",
   "metadata": {},
   "source": [
    "- Collection of large amount of data.\n",
    "- A database is an organized collection of data stored electronically, typically in a computer system.\n",
    "  <br><br>\n",
    "- Characteristics of Database:-\n",
    "  1. large amount of data.\n",
    "  2. data security\n",
    "  3. data access\n",
    "  4. data sharing\n",
    "  <br><br>\n",
    "- Types of Database:-\n",
    "  1. SQL(structured query language)-> MySQL, SQLite, Postgresql, mariadb\n",
    "  2. No SQL(non structured query language)-> Mongodb, Cassendra"
   ]
  },
  {
   "cell_type": "code",
   "execution_count": null,
   "id": "d40ef40a-797c-420a-861f-bf7d537d02f5",
   "metadata": {},
   "outputs": [],
   "source": []
  }
 ],
 "metadata": {
  "kernelspec": {
   "display_name": "Python 3 (ipykernel)",
   "language": "python",
   "name": "python3"
  },
  "language_info": {
   "codemirror_mode": {
    "name": "ipython",
    "version": 3
   },
   "file_extension": ".py",
   "mimetype": "text/x-python",
   "name": "python",
   "nbconvert_exporter": "python",
   "pygments_lexer": "ipython3",
   "version": "3.12.7"
  }
 },
 "nbformat": 4,
 "nbformat_minor": 5
}
