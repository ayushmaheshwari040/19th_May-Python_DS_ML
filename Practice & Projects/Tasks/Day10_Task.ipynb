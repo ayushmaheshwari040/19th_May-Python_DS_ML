{
 "cells": [
  {
   "attachments": {
    "9ec3458b-13ea-4f2d-8afd-86c9968a743f.png": {
     "image/png": "[encoded data removed]"
    }
   },
   "cell_type": "markdown",
   "id": "41c13a80-f438-460d-b36d-40f2ba7a2a12",
   "metadata": {},
   "source": [
    "![_Task10.png](attachment:9ec3458b-13ea-4f2d-8afd-86c9968a743f.png)"
   ]
  },
  {
   "cell_type": "code",
   "execution_count": null,
   "id": "d188b0e9-6f37-4400-ac8e-037a01b1bb42",
   "metadata": {},
   "outputs": [],
   "source": []
  },
  {
   "cell_type": "markdown",
   "id": "b36d8aa7-6e85-4dbe-ad5a-c8e10e451afd",
   "metadata": {},
   "source": [
    "# Q1."
   ]
  },
  {
   "cell_type": "code",
   "execution_count": 3,
   "id": "c46cc395-95d2-4f7e-9007-7d7cf87b17eb",
   "metadata": {},
   "outputs": [
    {
     "name": "stdin",
     "output_type": "stream",
     "text": [
      "Enter the number:  121\n"
     ]
    },
    {
     "name": "stdout",
     "output_type": "stream",
     "text": [
      "The given number 121 is palindrome\n"
     ]
    }
   ],
   "source": [
    "num=int(input(\"Enter the number: \"))\n",
    "t=num\n",
    "s=0\n",
    "\n",
    "while num>0:\n",
    "    r=num%10\n",
    "    s=s*10+r\n",
    "    num=num//10\n",
    "\n",
    "if t==s:\n",
    "    print(f\"The given number {t} is palindrome\")\n",
    "else:\n",
    "    print(f\"{t} is not palindrome number\")"
   ]
  },
  {
   "cell_type": "code",
   "execution_count": null,
   "id": "3c65189d-bf17-434b-a9a7-281624084e48",
   "metadata": {},
   "outputs": [],
   "source": []
  },
  {
   "cell_type": "markdown",
   "id": "3708182c-0e66-41f7-a07d-c97a8d3b146a",
   "metadata": {},
   "source": [
    "# Q2. "
   ]
  },
  {
   "cell_type": "code",
   "execution_count": 4,
   "id": "87d86551-0a7b-4ef5-8b00-97af40421295",
   "metadata": {},
   "outputs": [
    {
     "name": "stdin",
     "output_type": "stream",
     "text": [
      "Enter the start of the interval:  10\n",
      "Enter the end of the interval:  90\n"
     ]
    },
    {
     "name": "stdout",
     "output_type": "stream",
     "text": [
      "\n",
      "Multiples of 3 and 5 between 10 and 90 are:\n",
      "15 30 45 60 75 90 "
     ]
    }
   ],
   "source": [
    "start = int(input(\"Enter the start of the interval: \"))\n",
    "end = int(input(\"Enter the end of the interval: \"))\n",
    "\n",
    "print(f\"\\nMultiples of 3 and 5 between {start} and {end} are:\")\n",
    "\n",
    "for num in range(start, end + 1):\n",
    "    if num % 3 == 0 and num % 5 == 0:\n",
    "        print(num, end=' ')"
   ]
  },
  {
   "cell_type": "code",
   "execution_count": null,
   "id": "9626193e-51be-44b1-a769-50e09b0adcfe",
   "metadata": {},
   "outputs": [],
   "source": []
  },
  {
   "cell_type": "markdown",
   "id": "8aa1eab2-5560-4b05-aa0b-31cf1f33c3c7",
   "metadata": {},
   "source": [
    "# Q3. "
   ]
  },
  {
   "cell_type": "code",
   "execution_count": 8,
   "id": "6bace7c4-17a9-4b7b-9a1c-97a1867ab9d6",
   "metadata": {},
   "outputs": [
    {
     "name": "stdin",
     "output_type": "stream",
     "text": [
      "Enter a number to find its factorial:  6\n"
     ]
    },
    {
     "name": "stdout",
     "output_type": "stream",
     "text": [
      "The factorial of 6 is 720.\n"
     ]
    }
   ],
   "source": [
    "num = int(input(\"Enter a number to find its factorial: \"))\n",
    "\n",
    "factorial = 1\n",
    "i = 1\n",
    "\n",
    "if num < 0:\n",
    "    print(\"Factorial does not exist for negative numbers.\")\n",
    "elif num == 0:\n",
    "    print(\"The factorial of 0 is 1.\")\n",
    "else:\n",
    "    while i <= num:\n",
    "        factorial *= i\n",
    "        i += 1\n",
    "    print(f\"The factorial of {num} is {factorial}.\")"
   ]
  },
  {
   "cell_type": "code",
   "execution_count": null,
   "id": "19021a0e-8069-4008-855e-49e07b1f1fd9",
   "metadata": {},
   "outputs": [],
   "source": []
  },
  {
   "cell_type": "markdown",
   "id": "aa5f71ab-08c2-4baf-8d9d-c646b9dd544a",
   "metadata": {},
   "source": [
    "# Q4."
   ]
  },
  {
   "cell_type": "code",
   "execution_count": 18,
   "id": "2d4ca43a-a3a6-496a-aefd-79c045bdd95c",
   "metadata": {},
   "outputs": [
    {
     "name": "stdin",
     "output_type": "stream",
     "text": [
      "Enter the no. of elements you want:  8\n"
     ]
    },
    {
     "name": "stdout",
     "output_type": "stream",
     "text": [
      "0 1 1 2 3 5 8 13 "
     ]
    }
   ],
   "source": [
    "n=int(input(\"Enter the no. of elements you want: \"))\n",
    "f=0\n",
    "s=1\n",
    "i=0\n",
    "while i<n:\n",
    "    if i==0:\n",
    "        print(i, end=\" \")\n",
    "    elif i==1:\n",
    "        print(i, end=\" \")\n",
    "    else:\n",
    "        t=f+s\n",
    "        f=s\n",
    "        s=t\n",
    "        print(t,end=\" \")\n",
    "    i+=1    \n",
    "       "
   ]
  },
  {
   "cell_type": "code",
   "execution_count": null,
   "id": "be92c91c-c3f9-4ce1-b2b1-013c6ffe5ae3",
   "metadata": {},
   "outputs": [],
   "source": []
  },
  {
   "cell_type": "markdown",
   "id": "79e19007-4799-4ea9-8619-e2160672444f",
   "metadata": {},
   "source": [
    "# Q5."
   ]
  },
  {
   "cell_type": "code",
   "execution_count": 20,
   "id": "96a78c2b-c1fa-427a-8007-d3f8e68d4133",
   "metadata": {},
   "outputs": [
    {
     "name": "stdin",
     "output_type": "stream",
     "text": [
      "Enter the number:  153\n"
     ]
    },
    {
     "name": "stdout",
     "output_type": "stream",
     "text": [
      "The given number 153 is armstrong\n"
     ]
    }
   ],
   "source": [
    "num=int(input(\"Enter the number: \"))\n",
    "t=num\n",
    "s=0\n",
    "\n",
    "while num>0:\n",
    "    r=num%10\n",
    "    s=s+r**3\n",
    "    num=num//10\n",
    "\n",
    "if t==s:\n",
    "    print(f\"The given number {t} is armstrong\")\n",
    "else:\n",
    "    print(f\"{t} is not armstrong number\")"
   ]
  },
  {
   "cell_type": "code",
   "execution_count": null,
   "id": "2b7b32d1-3967-4c39-9f94-e6ddccc14443",
   "metadata": {},
   "outputs": [],
   "source": []
  }
 ],
 "metadata": {
  "kernelspec": {
   "display_name": "Python 3 (ipykernel)",
   "language": "python",
   "name": "python3"
  },
  "language_info": {
   "codemirror_mode": {
    "name": "ipython",
    "version": 3
   },
   "file_extension": ".py",
   "mimetype": "text/x-python",
   "name": "python",
   "nbconvert_exporter": "python",
   "pygments_lexer": "ipython3",
   "version": "3.12.7"
  }
 },
 "nbformat": 4,
 "nbformat_minor": 5
}
