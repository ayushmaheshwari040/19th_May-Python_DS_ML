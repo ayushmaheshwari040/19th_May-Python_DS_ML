{
 "cells": [
  {
   "attachments": {
    "f440f2b5-870b-40a9-8a69-29bceb22cfce.png": {
     "image/png": "[encoded data removed]"
    }
   },
   "cell_type": "markdown",
   "id": "f3c85334-e938-447e-aaec-311778e563ad",
   "metadata": {},
   "source": [
    "![_Task6.png](attachment:f440f2b5-870b-40a9-8a69-29bceb22cfce.png)"
   ]
  },
  {
   "cell_type": "code",
   "execution_count": null,
   "id": "b4d991d2-5b4c-4745-98ec-91d79dd5ffd4",
   "metadata": {},
   "outputs": [],
   "source": []
  },
  {
   "cell_type": "markdown",
   "id": "00947448-9591-48cd-aec8-6920f2f1a95d",
   "metadata": {},
   "source": [
    "# Q1."
   ]
  },
  {
   "cell_type": "markdown",
   "id": "c0eca4b7-c46f-4604-b716-2963aff4d6c1",
   "metadata": {},
   "source": [
    "1. AI Chatbot with Emotion Detection\n",
    "2. Smart Library Management System\n",
    "3. Resume Ranker using NLP & ML\n",
    "4. Voice-Controlled Desktop Assistant\n",
    "5. Fake News Detector\n",
    "6. Python-Powered Home Automation System\n",
    "7. Automated Invoice Generator\n",
    "8. Real-Time Weather Dashboard\n",
    "9. Personal Expense Tracker\n",
    "10. AI-powered Code Analyzer"
   ]
  },
  {
   "cell_type": "code",
   "execution_count": null,
   "id": "e1521430-1e90-47ce-b699-fe39023a611b",
   "metadata": {},
   "outputs": [],
   "source": []
  },
  {
   "cell_type": "markdown",
   "id": "8385e792-5712-43ba-9d43-0a485a0d2c1a",
   "metadata": {},
   "source": [
    "# Q2."
   ]
  },
  {
   "cell_type": "code",
   "execution_count": 3,
   "id": "91ab56bf-4fb1-488c-863f-05f52c50bd22",
   "metadata": {},
   "outputs": [
    {
     "name": "stdout",
     "output_type": "stream",
     "text": [
      "{'name': 'Ayush Maheshwari', 'age': 20, 'roll_no': 'BCA2025-045', 'courses': ['Python', 'Data Structures', 'Web Development'], 'is_active': True}\n",
      "\n",
      "[{'book_id': 101, 'title': 'Python Crash Course', 'author': 'Eric Matthes', 'available': True}, {'book_id': 102, 'title': 'Automate the Boring Stuff', 'author': 'Al Sweigart', 'available': False}, {'book_id': 103, 'title': 'Fluent Python', 'author': 'Luciano Ramalho', 'available': True}]\n",
      "\n",
      "[{'item': 'Laptop', 'price': 55000, 'quantity': 1}, {'item': 'Mouse', 'price': 700, 'quantity': 2}, {'item': 'USB Cable', 'price': 250, 'quantity': 3}]\n",
      "\n",
      "{'emp_id': 'EMP1024', 'name': 'Riya Sharma', 'department': 'IT', 'skills': ['Python', 'SQL', 'Cloud'], 'salary': 72000}\n",
      "\n",
      "[{'day': 'Monday', 'temperature': 32, 'condition': 'Sunny'}, {'day': 'Tuesday', 'temperature': 28, 'condition': 'Cloudy'}, {'day': 'Wednesday', 'temperature': 30, 'condition': 'Rainy'}]\n"
     ]
    }
   ],
   "source": [
    "student = {\n",
    "    \"name\": \"Ayush Maheshwari\",\n",
    "    \"age\": 20,\n",
    "    \"roll_no\": \"BCA2025-045\",\n",
    "    \"courses\": [\"Python\", \"Data Structures\", \"Web Development\"],\n",
    "    \"is_active\": True\n",
    "}\n",
    "books = [\n",
    "    {\"book_id\": 101, \"title\": \"Python Crash Course\", \"author\": \"Eric Matthes\", \"available\": True},\n",
    "    {\"book_id\": 102, \"title\": \"Automate the Boring Stuff\", \"author\": \"Al Sweigart\", \"available\": False},\n",
    "    {\"book_id\": 103, \"title\": \"Fluent Python\", \"author\": \"Luciano Ramalho\", \"available\": True}\n",
    "]\n",
    "cart = [\n",
    "    {\"item\": \"Laptop\", \"price\": 55000, \"quantity\": 1},\n",
    "    {\"item\": \"Mouse\", \"price\": 700, \"quantity\": 2},\n",
    "    {\"item\": \"USB Cable\", \"price\": 250, \"quantity\": 3}\n",
    "]\n",
    "employee = {\n",
    "    \"emp_id\": \"EMP1024\",\n",
    "    \"name\": \"Riya Sharma\",\n",
    "    \"department\": \"IT\",\n",
    "    \"skills\": [\"Python\", \"SQL\", \"Cloud\"],\n",
    "    \"salary\": 72000\n",
    "}\n",
    "weather = [\n",
    "    {\"day\": \"Monday\", \"temperature\": 32, \"condition\": \"Sunny\"},\n",
    "    {\"day\": \"Tuesday\", \"temperature\": 28, \"condition\": \"Cloudy\"},\n",
    "    {\"day\": \"Wednesday\", \"temperature\": 30, \"condition\": \"Rainy\"}\n",
    "]\n",
    "print(student)\n",
    "print()\n",
    "print(books)\n",
    "print()\n",
    "print(cart)\n",
    "print()\n",
    "print(employee)\n",
    "print()\n",
    "print(weather)\n"
   ]
  },
  {
   "cell_type": "code",
   "execution_count": null,
   "id": "cfe9c8ba-e10b-4092-98b1-cfe0516e7c4c",
   "metadata": {},
   "outputs": [],
   "source": []
  },
  {
   "cell_type": "markdown",
   "id": "03998853-9ca5-4606-a182-c02461adebf0",
   "metadata": {},
   "source": [
    "# Q3."
   ]
  },
  {
   "cell_type": "markdown",
   "id": "59d167aa-8597-4ca2-a217-e63398bf1242",
   "metadata": {},
   "source": [
    "### Duck Typing\n",
    "- Duck Typing is a concept in Python where the type or class of an object is less important than the methods or behaviors it defines.\n",
    "- You don’t need to check the type of an object.Instead, you just use it — as long as it behaves the way you expect."
   ]
  },
  {
   "cell_type": "code",
   "execution_count": 4,
   "id": "7d94ddb9-7f02-4f62-85b6-f79a77dee734",
   "metadata": {},
   "outputs": [
    {
     "name": "stdout",
     "output_type": "stream",
     "text": [
      "Quack!\n",
      "I'm pretending to be a duck!\n"
     ]
    }
   ],
   "source": [
    "class Duck:\n",
    "    def quack(self):\n",
    "        print(\"Quack!\")\n",
    "\n",
    "class Person:\n",
    "    def quack(self):\n",
    "        print(\"I'm pretending to be a duck!\")\n",
    "\n",
    "def make_it_quack(duck_like_thing):\n",
    "    duck_like_thing.quack()\n",
    "\n",
    "make_it_quack(Duck())     # Output: Quack!\n",
    "make_it_quack(Person())   # Output: I'm pretending to be a duck!\n"
   ]
  },
  {
   "cell_type": "markdown",
   "id": "33bb3e12-68a9-4db4-887d-850d4e1d509d",
   "metadata": {},
   "source": [
    "### Dunder Methods (Special Methods)\n",
    "- Dunder methods (short for \"Double UNDerscore\") are special predefined methods in Python that start and end with double underscores, like __init__, __str__, __len__, etc.\n",
    "- They’re also called: Magic methods or Special methods\n",
    "### \n",
    "    | **Method**   | **Purpose**                                   |\n",
    "    | ------------ | --------------------------------------------- |    \n",
    "    | `__init__()` | Constructor method, called on object creation |\n",
    "    | `__str__()`  | String representation when `print()` is used  |\n",
    "    | `__len__()`  | Used by `len()`                               |\n",
    "    | `__add__()`  | Defines behavior for the `+` operator         |\n",
    "    | `__eq__()`   | Defines equality (`==`)                       |\n"
   ]
  },
  {
   "cell_type": "code",
   "execution_count": 5,
   "id": "3832118e-3536-4e26-be51-cc6bb040bd0b",
   "metadata": {},
   "outputs": [
    {
     "name": "stdout",
     "output_type": "stream",
     "text": [
      "Book: Python Basics\n"
     ]
    }
   ],
   "source": [
    "class Book:\n",
    "    def __init__(self, title):\n",
    "        self.title = title\n",
    "\n",
    "    def __str__(self):\n",
    "        return f\"Book: {self.title}\"\n",
    "\n",
    "book = Book(\"Python Basics\")\n",
    "print(book)   # Output: Book: Python Basics"
   ]
  },
  {
   "cell_type": "code",
   "execution_count": null,
   "id": "26bbd048-56ba-41ed-905e-7ba82582be2a",
   "metadata": {},
   "outputs": [],
   "source": []
  },
  {
   "cell_type": "markdown",
   "id": "b60a2bcb-8a0e-4712-b598-3fe259558c66",
   "metadata": {},
   "source": [
    "# Q4."
   ]
  },
  {
   "cell_type": "markdown",
   "id": "8065ca72-4cf9-4a7d-af59-64124f108f2d",
   "metadata": {},
   "source": [
    "- Operators are symbols or keywords used to perform operations on variables and values in Python.They act on operands (values or variables)     and return a result.\n",
    "- Types of operators:-\n",
    "  1. Arithmetic-> +, -, *, /, **, //, % \n",
    "  2. Comparison-> ==, >=, <=, >, <, !=\n",
    "  3. Assignment-> =, +=, -=, *=, /=, //=, **=, %=, :=\n",
    "  4. Logical-> and, or, not\n",
    "  5. Membership-> in, not in\n",
    "  6. Identity-> is, is not\n",
    "  7. Bitwise-> &, |, ^, ~, <<, >>"
   ]
  },
  {
   "cell_type": "code",
   "execution_count": null,
   "id": "3dc7227c-8618-435b-ae67-85c7cb6e1491",
   "metadata": {},
   "outputs": [],
   "source": []
  }
 ],
 "metadata": {
  "kernelspec": {
   "display_name": "Python 3 (ipykernel)",
   "language": "python",
   "name": "python3"
  },
  "language_info": {
   "codemirror_mode": {
    "name": "ipython",
    "version": 3
   },
   "file_extension": ".py",
   "mimetype": "text/x-python",
   "name": "python",
   "nbconvert_exporter": "python",
   "pygments_lexer": "ipython3",
   "version": "3.12.7"
  }
 },
 "nbformat": 4,
 "nbformat_minor": 5
}
