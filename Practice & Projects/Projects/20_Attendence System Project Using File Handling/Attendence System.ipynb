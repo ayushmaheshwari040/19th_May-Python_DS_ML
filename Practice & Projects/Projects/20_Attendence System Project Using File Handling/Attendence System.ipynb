{
 "cells": [
  {
   "cell_type": "markdown",
   "id": "d4a60e7a-18ff-464f-90ff-5700f4149db7",
   "metadata": {},
   "source": [
    "# Attendence System Project Using File Handling"
   ]
  },
  {
   "cell_type": "code",
   "execution_count": 11,
   "id": "6ad4b261-4274-4ae5-927d-98ecf4461b09",
   "metadata": {},
   "outputs": [
    {
     "name": "stdin",
     "output_type": "stream",
     "text": [
      "Enter no. of names:  2\n",
      "Enter Name-1: Aryan\n",
      "Enter Name-2: Ansh\n"
     ]
    }
   ],
   "source": [
    "header=\"Date,Topic\"\n",
    "\n",
    "for i in range(int(input(\"Enter no. of names: \"))):\n",
    "    name=input(f\"Enter Name-{i+1}:\")\n",
    "    header+=f\",{name}\"    \n",
    "\n",
    "else:\n",
    "    header+=\"\\n\"\n",
    "    with open(\"attendencesheet.csv\",'w') as f:\n",
    "        f.write(f\"{header}\")"
   ]
  },
  {
   "cell_type": "code",
   "execution_count": 12,
   "id": "e03bca19-b3ae-4d43-bffe-8f20d96e3a1f",
   "metadata": {},
   "outputs": [
    {
     "data": {
      "text/plain": [
       "'Date,Topic,Aryan,Ansh\\n'"
      ]
     },
     "execution_count": 12,
     "metadata": {},
     "output_type": "execute_result"
    }
   ],
   "source": [
    "header"
   ]
  },
  {
   "cell_type": "markdown",
   "id": "ee290f5c-7483-4984-b494-1f9df00bedee",
   "metadata": {},
   "source": [
    "### datetime library"
   ]
  },
  {
   "cell_type": "code",
   "execution_count": 13,
   "id": "588561b2-ca6f-4e23-ae34-ee61ab1773ed",
   "metadata": {},
   "outputs": [],
   "source": [
    "import datetime"
   ]
  },
  {
   "cell_type": "code",
   "execution_count": 14,
   "id": "02769d3a-0dc0-4a7c-a839-4e161a5e257d",
   "metadata": {},
   "outputs": [
    {
     "name": "stdin",
     "output_type": "stream",
     "text": [
      "Enter 'Name Of Lecture1' or if all the lectures are completed for today than write 'exit' :  C++\n",
      "Aryan -> (P/A):  p\n",
      "Ansh -> (P/A):  p\n",
      "Enter 'Name Of Lecture2' or if all the lectures are completed for today than write 'exit' :  Java\n",
      "Aryan -> (P/A):  a\n",
      "Ansh -> (P/A):  p\n",
      "Enter 'Name Of Lecture3' or if all the lectures are completed for today than write 'exit' :  exit\n"
     ]
    }
   ],
   "source": [
    "i=1\n",
    "while True:\n",
    "    date=datetime.date.today()\n",
    "    lec_name=input(f\"Enter 'Name Of Lecture{i}' or if all the lectures are completed for today than write 'exit' : \")\n",
    "    \n",
    "    if lec_name=='exit':\n",
    "        break\n",
    "        \n",
    "    with open('attendencesheet.csv','r') as f:\n",
    "        h= f.readline()\n",
    "\n",
    "    names=h.strip().split(\",\")[2:]\n",
    "\n",
    "    row=f\"{date},{lec_name}\"\n",
    "    for name in names:\n",
    "        att=input(f\"{name} -> (P/A): \").lower()\n",
    "        row+=f\",{att}\"\n",
    "    else:\n",
    "        row+=\"\\n\" \n",
    "        with open('attendencesheet.csv', 'a') as f: \n",
    "            f.write(f\"{row}\")\n",
    "\n",
    "    i+=1"
   ]
  },
  {
   "cell_type": "code",
   "execution_count": null,
   "id": "8143e9a2-da98-4537-a661-f506ab2d5e22",
   "metadata": {},
   "outputs": [],
   "source": []
  }
 ],
 "metadata": {
  "kernelspec": {
   "display_name": "Python 3 (ipykernel)",
   "language": "python",
   "name": "python3"
  },
  "language_info": {
   "codemirror_mode": {
    "name": "ipython",
    "version": 3
   },
   "file_extension": ".py",
   "mimetype": "text/x-python",
   "name": "python",
   "nbconvert_exporter": "python",
   "pygments_lexer": "ipython3",
   "version": "3.11.3"
  }
 },
 "nbformat": 4,
 "nbformat_minor": 5
}
