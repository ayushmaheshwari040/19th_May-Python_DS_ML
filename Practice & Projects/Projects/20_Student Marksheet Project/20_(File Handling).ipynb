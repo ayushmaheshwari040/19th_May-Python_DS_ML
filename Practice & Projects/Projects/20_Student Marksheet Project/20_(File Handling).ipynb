{
 "cells": [
  {
   "cell_type": "markdown",
   "id": "3d0d59ee-17e1-4304-8046-7a7e1ab44101",
   "metadata": {},
   "source": [
    "# Student Marksheet Project using File Handling"
   ]
  },
  {
   "cell_type": "markdown",
   "id": "64465284-be73-4a86-9234-b423901d6a46",
   "metadata": {},
   "source": [
    "### Task1"
   ]
  },
  {
   "cell_type": "code",
   "execution_count": 84,
   "id": "b1746220-6a32-4668-80f3-cb063379e149",
   "metadata": {},
   "outputs": [
    {
     "name": "stdin",
     "output_type": "stream",
     "text": [
      "Enter no. of students:  5\n",
      "Enter name of Student1:  Rahul\n",
      "Enter marks in Physics out of 100:  92\n",
      "Enter marks in Chemistry out of 100:  78\n",
      "Enter marks in Maths out of 100:  99\n",
      "Enter name of Student2:  Jaydeep\n",
      "Enter marks in Physics out of 100:  77\n",
      "Enter marks in Chemistry out of 100:  86\n",
      "Enter marks in Maths out of 100:  85\n",
      "Enter name of Student3:  Jaydeep\n",
      "Enter marks in Physics out of 100:  100\n",
      "Enter marks in Chemistry out of 100:  94\n",
      "Enter marks in Maths out of 100:  100\n",
      "Enter name of Student4:  Mohit\n",
      "Enter marks in Physics out of 100:  77\n",
      "Enter marks in Chemistry out of 100:  93\n",
      "Enter marks in Maths out of 100:  91\n",
      "Enter name of Student5:  Koshal\n",
      "Enter marks in Physics out of 100:  100\n",
      "Enter marks in Chemistry out of 100:  89\n",
      "Enter marks in Maths out of 100:  98\n"
     ]
    }
   ],
   "source": [
    "header=\"Name,Physics,Chemistry,Maths\"\n",
    "\n",
    "with open('marksheet.csv','w') as f: \n",
    "    f.write(f\"{header}\\n\")\n",
    "\n",
    "lines=\"\"\n",
    "for i in range(int(input(\"Enter no. of students: \"))): \n",
    "             name=input(f\"Enter name of Student{i+1}: \")\n",
    "             physics=input(\"Enter marks in Physics out of 100: \")\n",
    "             chemistry=input(\"Enter marks in Chemistry out of 100: \")\n",
    "             maths=input(\"Enter marks in Maths out of 100: \")\n",
    "\n",
    "             row=f\"{name},{physics},{chemistry},{maths}\"\n",
    "             lines+=f\"{row}\\n\"\n",
    "\n",
    "else:\n",
    "    with open('marksheet.csv','a') as f:\n",
    "        f.write(lines)"
   ]
  },
  {
   "cell_type": "code",
   "execution_count": null,
   "id": "1c5fa70d-5285-44b2-88ad-66ccd602fffe",
   "metadata": {},
   "outputs": [],
   "source": []
  },
  {
   "cell_type": "markdown",
   "id": "0d7418e7-ba7b-462e-bc66-5c19db5d025b",
   "metadata": {},
   "source": [
    "### Task2"
   ]
  },
  {
   "cell_type": "code",
   "execution_count": 85,
   "id": "28ddb16d-923d-4abb-b368-caf1624b7e77",
   "metadata": {},
   "outputs": [],
   "source": [
    "with open(\"marksheet.csv\",\"r\") as f:  \n",
    "    data=f.readlines()"
   ]
  },
  {
   "cell_type": "code",
   "execution_count": 86,
   "id": "16c0c366-b18e-4ca1-8e22-a9148fd1c37f",
   "metadata": {},
   "outputs": [
    {
     "data": {
      "text/plain": [
       "['Name,Physics,Chemistry,Maths\\n',\n",
       " 'Rahul,92,78,99\\n',\n",
       " 'Jaydeep,77,86,85\\n',\n",
       " 'Jaydeep,100,94,100\\n',\n",
       " 'Mohit,77,93,91\\n',\n",
       " 'Koshal,100,89,98\\n']"
      ]
     },
     "execution_count": 86,
     "metadata": {},
     "output_type": "execute_result"
    }
   ],
   "source": [
    "data"
   ]
  },
  {
   "cell_type": "code",
   "execution_count": 87,
   "id": "e7c891a8-3f5b-464f-8994-978ec9f09e06",
   "metadata": {},
   "outputs": [
    {
     "data": {
      "text/plain": [
       "'Name,Physics,Chemistry,Maths\\n'"
      ]
     },
     "execution_count": 87,
     "metadata": {},
     "output_type": "execute_result"
    }
   ],
   "source": [
    "data.pop(0)"
   ]
  },
  {
   "cell_type": "code",
   "execution_count": 88,
   "id": "0b6ea6c9-82f4-41c4-a7c8-3defbbd303ca",
   "metadata": {},
   "outputs": [
    {
     "data": {
      "text/plain": [
       "['Rahul,92,78,99\\n',\n",
       " 'Jaydeep,77,86,85\\n',\n",
       " 'Jaydeep,100,94,100\\n',\n",
       " 'Mohit,77,93,91\\n',\n",
       " 'Koshal,100,89,98\\n']"
      ]
     },
     "execution_count": 88,
     "metadata": {},
     "output_type": "execute_result"
    }
   ],
   "source": [
    "data1=data\n",
    "data"
   ]
  },
  {
   "cell_type": "code",
   "execution_count": 89,
   "id": "dacaa6b7-f3a6-47ae-83df-c0bf4d8a8f04",
   "metadata": {},
   "outputs": [
    {
     "data": {
      "text/plain": [
       "[['92', '78', '99'],\n",
       " ['77', '86', '85'],\n",
       " ['100', '94', '100'],\n",
       " ['77', '93', '91'],\n",
       " ['100', '89', '98']]"
      ]
     },
     "execution_count": 89,
     "metadata": {},
     "output_type": "execute_result"
    }
   ],
   "source": [
    "ls=[]\n",
    "for i in range(len(data)): \n",
    "    a=data[i].strip().split(\",\")\n",
    "    ls.append(a[1:])\n",
    "\n",
    "ls"
   ]
  },
  {
   "cell_type": "code",
   "execution_count": null,
   "id": "cdf9ec8f-11ba-4142-a1a7-80d2910ad292",
   "metadata": {},
   "outputs": [],
   "source": []
  },
  {
   "cell_type": "code",
   "execution_count": 90,
   "id": "50ddc654-6be5-4d7a-97f1-e82854a5a0ff",
   "metadata": {},
   "outputs": [
    {
     "name": "stdout",
     "output_type": "stream",
     "text": [
      "[[92, 78, 99], [77, 86, 85], [100, 94, 100], [77, 93, 91], [100, 89, 98]]\n"
     ]
    }
   ],
   "source": [
    "marks_ls = [list(map(int, row)) for row in ls]\n",
    "print(marks_ls)"
   ]
  },
  {
   "cell_type": "code",
   "execution_count": null,
   "id": "ee2795a0-0803-4547-b60f-df7ceb85b69e",
   "metadata": {},
   "outputs": [],
   "source": []
  },
  {
   "cell_type": "code",
   "execution_count": 91,
   "id": "fa086c9e-de25-4d5f-ac02-f9ee4bba1de7",
   "metadata": {},
   "outputs": [
    {
     "data": {
      "text/plain": [
       "['89.67', '82.67', '98.00', '87.00', '95.67']"
      ]
     },
     "execution_count": 91,
     "metadata": {},
     "output_type": "execute_result"
    }
   ],
   "source": [
    "percentage_ls=[]\n",
    "for i in marks_ls: \n",
    "    a=(sum(i)/300)*100\n",
    "    percentage_ls.append(f\"{a:.2f}\")\n",
    "\n",
    "percentage_ls"
   ]
  },
  {
   "cell_type": "code",
   "execution_count": null,
   "id": "4f7a0a87-1cc6-4dd9-a7d1-6c4643da6cad",
   "metadata": {},
   "outputs": [],
   "source": []
  },
  {
   "cell_type": "code",
   "execution_count": 92,
   "id": "b03a3a2b-02a2-4fd0-aecc-0441da76b7f0",
   "metadata": {},
   "outputs": [
    {
     "data": {
      "text/plain": [
       "['Rahul,92,78,99\\n',\n",
       " 'Jaydeep,77,86,85\\n',\n",
       " 'Jaydeep,100,94,100\\n',\n",
       " 'Mohit,77,93,91\\n',\n",
       " 'Koshal,100,89,98\\n']"
      ]
     },
     "execution_count": 92,
     "metadata": {},
     "output_type": "execute_result"
    }
   ],
   "source": [
    "data1"
   ]
  },
  {
   "cell_type": "code",
   "execution_count": 93,
   "id": "30c0723f-1733-4e27-99ec-0d19671b29c7",
   "metadata": {},
   "outputs": [
    {
     "name": "stdout",
     "output_type": "stream",
     "text": [
      "['Rahul', 'Jaydeep', 'Jaydeep', 'Mohit', 'Koshal']\n"
     ]
    }
   ],
   "source": [
    "students=[]\n",
    "for i in data1: \n",
    "    a=i.strip().split(',')\n",
    "    students.append(a[0])\n",
    "\n",
    "print(students)"
   ]
  },
  {
   "cell_type": "code",
   "execution_count": 94,
   "id": "1c542ea7-ba15-4c6a-bd7a-4b4c2e3de9d7",
   "metadata": {},
   "outputs": [
    {
     "name": "stdout",
     "output_type": "stream",
     "text": [
      "[[92, 78, 99], [77, 86, 85], [100, 94, 100], [77, 93, 91], [100, 89, 98]]\n"
     ]
    }
   ],
   "source": [
    "print(marks_ls)"
   ]
  },
  {
   "cell_type": "code",
   "execution_count": 95,
   "id": "a5928bc0-c34a-4949-a6aa-874cd68941d0",
   "metadata": {},
   "outputs": [
    {
     "name": "stdout",
     "output_type": "stream",
     "text": [
      "['89.67', '82.67', '98.00', '87.00', '95.67']\n"
     ]
    }
   ],
   "source": [
    "print(percentage_ls)"
   ]
  },
  {
   "cell_type": "code",
   "execution_count": 96,
   "id": "53f266d9-ecbf-476c-8748-8346c94be907",
   "metadata": {},
   "outputs": [],
   "source": [
    "header=\"Name,Physics,Chemistry,Maths,Percentage\"\n",
    "\n",
    "with open('marksheet.csv','w') as f: \n",
    "    f.write(f\"{header}\\n\")\n",
    "\n",
    "lines=\"\"\n",
    "for i in range(len(students)): \n",
    "             name=students[i]\n",
    "             physics=marks_ls[i][0]\n",
    "             chemistry=marks_ls[i][1]\n",
    "             maths=marks_ls[i][2]\n",
    "             percentage=percentage_ls[i]\n",
    "\n",
    "             row=f\"{name},{physics},{chemistry},{maths},{percentage}%\"\n",
    "             lines+=f\"{row}\\n\"\n",
    "\n",
    "else:\n",
    "    with open('marksheet.csv','a') as f:\n",
    "        f.write(lines)"
   ]
  },
  {
   "cell_type": "code",
   "execution_count": null,
   "id": "776caac0-6d1a-417c-b0af-98629b5edbd3",
   "metadata": {},
   "outputs": [],
   "source": []
  },
  {
   "cell_type": "code",
   "execution_count": null,
   "id": "f50ee5f5-6a0f-4daa-98d1-82cd0674cbae",
   "metadata": {},
   "outputs": [],
   "source": []
  }
 ],
 "metadata": {
  "kernelspec": {
   "display_name": "Python 3 (ipykernel)",
   "language": "python",
   "name": "python3"
  },
  "language_info": {
   "codemirror_mode": {
    "name": "ipython",
    "version": 3
   },
   "file_extension": ".py",
   "mimetype": "text/x-python",
   "name": "python",
   "nbconvert_exporter": "python",
   "pygments_lexer": "ipython3",
   "version": "3.11.3"
  }
 },
 "nbformat": 4,
 "nbformat_minor": 5
}
