{
 "cells": [
  {
   "cell_type": "markdown",
   "id": "65bfbe39-a885-4946-80c6-ada00800d520",
   "metadata": {},
   "source": [
    "### map function\n",
    "                     Syntax:-  map(function_name, iterables)"
   ]
  },
  {
   "cell_type": "code",
   "execution_count": 2,
   "id": "f5603bbc-c6ca-4070-8863-ad81d2639fd5",
   "metadata": {},
   "outputs": [
    {
     "data": {
      "text/plain": [
       "['23', '45', '56', '67']"
      ]
     },
     "execution_count": 2,
     "metadata": {},
     "output_type": "execute_result"
    }
   ],
   "source": [
    "ls=['23','45','56','67']\n",
    "ls"
   ]
  },
  {
   "cell_type": "code",
   "execution_count": 4,
   "id": "f02e3c79-eadb-4eda-83f9-38c8a7b487f4",
   "metadata": {},
   "outputs": [
    {
     "data": {
      "text/plain": [
       "[23, 45, 56, 67]"
      ]
     },
     "execution_count": 4,
     "metadata": {},
     "output_type": "execute_result"
    }
   ],
   "source": [
    "lst=[]\n",
    "for i in ls:\n",
    "    lst.append(int(i))\n",
    "\n",
    "lst"
   ]
  },
  {
   "cell_type": "code",
   "execution_count": 5,
   "id": "e60420e7-a643-4a35-a719-fb30f9c57264",
   "metadata": {},
   "outputs": [
    {
     "data": {
      "text/plain": [
       "<map at 0x25e15efa440>"
      ]
     },
     "execution_count": 5,
     "metadata": {},
     "output_type": "execute_result"
    }
   ],
   "source": [
    "map(int, ls)"
   ]
  },
  {
   "cell_type": "code",
   "execution_count": 8,
   "id": "f395a143-a8b0-476e-ae46-0e6497366f82",
   "metadata": {},
   "outputs": [
    {
     "data": {
      "text/plain": [
       "[23, 45, 56, 67]"
      ]
     },
     "execution_count": 8,
     "metadata": {},
     "output_type": "execute_result"
    }
   ],
   "source": [
    "list(map(int, ls))                 #type cast the string value to integer value"
   ]
  },
  {
   "cell_type": "code",
   "execution_count": null,
   "id": "1d3a94cb-aaa4-4b99-9192-8601c554cb62",
   "metadata": {},
   "outputs": [],
   "source": []
  },
  {
   "cell_type": "code",
   "execution_count": 10,
   "id": "8372ead7-a3a8-43f5-9186-f51e02bd71d6",
   "metadata": {},
   "outputs": [
    {
     "name": "stdin",
     "output_type": "stream",
     "text": [
      " 10 20 30 40 50\n"
     ]
    },
    {
     "data": {
      "text/plain": [
       "'10 20 30 40 50'"
      ]
     },
     "execution_count": 10,
     "metadata": {},
     "output_type": "execute_result"
    }
   ],
   "source": [
    "input()"
   ]
  },
  {
   "cell_type": "code",
   "execution_count": 11,
   "id": "3aed84e2-2847-4781-9531-5ba09394a2c7",
   "metadata": {},
   "outputs": [
    {
     "data": {
      "text/plain": [
       "['10', '20', '30', '40', '50']"
      ]
     },
     "execution_count": 11,
     "metadata": {},
     "output_type": "execute_result"
    }
   ],
   "source": [
    "'10 20 30 40 50'.split()"
   ]
  },
  {
   "cell_type": "code",
   "execution_count": 15,
   "id": "736e9fb9-5078-47e3-8b15-a70ce4743b28",
   "metadata": {},
   "outputs": [
    {
     "name": "stdin",
     "output_type": "stream",
     "text": [
      " 10 20 30 40\n"
     ]
    },
    {
     "data": {
      "text/plain": [
       "[10, 20, 30, 40]"
      ]
     },
     "execution_count": 15,
     "metadata": {},
     "output_type": "execute_result"
    }
   ],
   "source": [
    "list(map(int, input().split()))                        # used for taking multiple inputs"
   ]
  },
  {
   "cell_type": "code",
   "execution_count": 16,
   "id": "82f44b80-cf2d-42e0-916b-f86007d857a5",
   "metadata": {},
   "outputs": [
    {
     "name": "stdin",
     "output_type": "stream",
     "text": [
      " 10 e 45 python\n"
     ]
    },
    {
     "ename": "ValueError",
     "evalue": "invalid literal for int() with base 10: 'e'",
     "output_type": "error",
     "traceback": [
      "\u001b[1;31m---------------------------------------------------------------------------\u001b[0m",
      "\u001b[1;31mValueError\u001b[0m                                Traceback (most recent call last)",
      "Cell \u001b[1;32mIn[16], line 1\u001b[0m\n\u001b[1;32m----> 1\u001b[0m \u001b[38;5;28;43mlist\u001b[39;49m\u001b[43m(\u001b[49m\u001b[38;5;28;43mmap\u001b[39;49m\u001b[43m(\u001b[49m\u001b[38;5;28;43mint\u001b[39;49m\u001b[43m,\u001b[49m\u001b[43m \u001b[49m\u001b[38;5;28;43minput\u001b[39;49m\u001b[43m(\u001b[49m\u001b[43m)\u001b[49m\u001b[38;5;241;43m.\u001b[39;49m\u001b[43msplit\u001b[49m\u001b[43m(\u001b[49m\u001b[43m)\u001b[49m\u001b[43m)\u001b[49m\u001b[43m)\u001b[49m                        \u001b[38;5;66;03m# used for taking multiple inputs\u001b[39;00m\n",
      "\u001b[1;31mValueError\u001b[0m: invalid literal for int() with base 10: 'e'"
     ]
    }
   ],
   "source": [
    "list(map(int, input().split()))                        # used for taking multiple inputs"
   ]
  },
  {
   "cell_type": "code",
   "execution_count": null,
   "id": "58a71e2b-0cfc-474e-aa7d-767cfb98e5ae",
   "metadata": {},
   "outputs": [],
   "source": []
  },
  {
   "cell_type": "code",
   "execution_count": 17,
   "id": "9dcdfea8-4764-41f1-a23d-2f90ba85afbf",
   "metadata": {},
   "outputs": [
    {
     "name": "stdin",
     "output_type": "stream",
     "text": [
      " 10 de a e 66 \n"
     ]
    },
    {
     "data": {
      "text/plain": [
       "[10, 'de', 'a', 'e', 66]"
      ]
     },
     "execution_count": 17,
     "metadata": {},
     "output_type": "execute_result"
    }
   ],
   "source": [
    "list(map(lambda x: int(x) if x.isdigit() else x,input().split()))                        # used for taking multiple inputs"
   ]
  },
  {
   "cell_type": "code",
   "execution_count": null,
   "id": "7b4dad0b-7237-4700-a9a7-51c2971bb33f",
   "metadata": {},
   "outputs": [],
   "source": []
  },
  {
   "cell_type": "code",
   "execution_count": 19,
   "id": "fc118956-40dd-4b0c-bd76-0d3b767bcede",
   "metadata": {},
   "outputs": [
    {
     "data": {
      "text/plain": [
       "[6, 8, 10, 12, 14]"
      ]
     },
     "execution_count": 19,
     "metadata": {},
     "output_type": "execute_result"
    }
   ],
   "source": [
    "l1=[2,3,4,5,6]\n",
    "l2=[4,5,6,7,8]\n",
    "\n",
    "list(map(lambda x,y: x+y, l1,l2))"
   ]
  },
  {
   "cell_type": "code",
   "execution_count": null,
   "id": "d7da9464-075e-41e2-9ed3-f1534e7350ca",
   "metadata": {},
   "outputs": [],
   "source": []
  },
  {
   "cell_type": "markdown",
   "id": "5ab82baa-9983-472c-a486-257c690590bf",
   "metadata": {},
   "source": [
    "### filter function\n",
    "- works like map function, but takes single iterable and changes done in existing object where the value is true"
   ]
  },
  {
   "cell_type": "code",
   "execution_count": 21,
   "id": "0bea9b1b-2bcb-41ef-aa53-354df03218cf",
   "metadata": {},
   "outputs": [
    {
     "data": {
      "text/plain": [
       "[23, 56, 87, 3, 4, 90, 87, 65, 44]"
      ]
     },
     "execution_count": 21,
     "metadata": {},
     "output_type": "execute_result"
    }
   ],
   "source": [
    "ls=[23,56,87,3,4,90,87,65,44]\n",
    "ls"
   ]
  },
  {
   "cell_type": "code",
   "execution_count": 25,
   "id": "0cff8bf7-183b-4ac5-89ca-40608a931407",
   "metadata": {},
   "outputs": [],
   "source": [
    "even_odd=lambda x: True if x%2==0 else False"
   ]
  },
  {
   "cell_type": "code",
   "execution_count": 26,
   "id": "1f91000e-72ff-405a-9b8b-9fdab74fcf66",
   "metadata": {},
   "outputs": [
    {
     "name": "stdout",
     "output_type": "stream",
     "text": [
      "56\n",
      "4\n",
      "90\n",
      "44\n"
     ]
    }
   ],
   "source": [
    "for i in ls:\n",
    "    if even_odd(i):\n",
    "        print(i)"
   ]
  },
  {
   "cell_type": "code",
   "execution_count": 28,
   "id": "bcb850c4-6c06-4a71-83e1-df2414c4894e",
   "metadata": {},
   "outputs": [
    {
     "data": {
      "text/plain": [
       "[56, 4, 90, 44]"
      ]
     },
     "execution_count": 28,
     "metadata": {},
     "output_type": "execute_result"
    }
   ],
   "source": [
    "list(filter(even_odd,ls))"
   ]
  },
  {
   "cell_type": "code",
   "execution_count": null,
   "id": "85aa3b2e-b448-4286-b557-24ae75ac58d0",
   "metadata": {},
   "outputs": [],
   "source": []
  },
  {
   "cell_type": "code",
   "execution_count": 39,
   "id": "34595587-0fc3-4aa3-9ff8-7f43934f020c",
   "metadata": {},
   "outputs": [],
   "source": [
    "# filter names where length is greater than 5\n",
    "\n",
    "names=['rohan','aman','ram','simran','rajat','sachin']\n",
    "n= lambda x: True if len(x)>5 else False"
   ]
  },
  {
   "cell_type": "code",
   "execution_count": 37,
   "id": "2955e41c-af51-4fc2-878a-761143ea7d66",
   "metadata": {},
   "outputs": [
    {
     "data": {
      "text/plain": [
       "['simran', 'sachin']"
      ]
     },
     "execution_count": 37,
     "metadata": {},
     "output_type": "execute_result"
    }
   ],
   "source": [
    "list(filter(n,names))"
   ]
  },
  {
   "cell_type": "code",
   "execution_count": null,
   "id": "ff2eeb87-118e-4b64-a2ae-5758111d6d3e",
   "metadata": {},
   "outputs": [],
   "source": []
  },
  {
   "cell_type": "markdown",
   "id": "ed16a3e3-9e13-4e27-a380-6d31f1c87c31",
   "metadata": {},
   "source": [
    "### reduce function\n",
    "- works for only two arguments\n",
    "- reduce to single value"
   ]
  },
  {
   "cell_type": "code",
   "execution_count": 40,
   "id": "9d8991e5-7bd9-4c78-96dd-accbc5efc8fc",
   "metadata": {},
   "outputs": [],
   "source": [
    "from functools import reduce"
   ]
  },
  {
   "cell_type": "code",
   "execution_count": 41,
   "id": "1928eabf-a0c9-44b1-9528-3a32995d41cf",
   "metadata": {},
   "outputs": [
    {
     "data": {
      "text/plain": [
       "150"
      ]
     },
     "execution_count": 41,
     "metadata": {},
     "output_type": "execute_result"
    }
   ],
   "source": [
    "reduce(lambda x,y: x+y, [10,20,30,40,50])"
   ]
  },
  {
   "cell_type": "code",
   "execution_count": 43,
   "id": "2c3f94c0-9ab3-43e1-b2b5-84d7c418f558",
   "metadata": {},
   "outputs": [
    {
     "data": {
      "text/plain": [
       "150"
      ]
     },
     "execution_count": 43,
     "metadata": {},
     "output_type": "execute_result"
    }
   ],
   "source": [
    "#reduce function working\n",
    "\n",
    "(((10+20)+30)+40)+50"
   ]
  },
  {
   "cell_type": "code",
   "execution_count": 44,
   "id": "0aa45251-7b03-4aa8-9561-71ecf53bc842",
   "metadata": {},
   "outputs": [
    {
     "data": {
      "text/plain": [
       "120"
      ]
     },
     "execution_count": 44,
     "metadata": {},
     "output_type": "execute_result"
    }
   ],
   "source": [
    "reduce(lambda x,y: x*y, [1,2,3,4,5])"
   ]
  },
  {
   "cell_type": "code",
   "execution_count": null,
   "id": "21517924-4b69-44bc-92a4-63ed29e383df",
   "metadata": {},
   "outputs": [],
   "source": []
  },
  {
   "cell_type": "code",
   "execution_count": 47,
   "id": "238877b1-4ed7-42b8-ab1f-ab107bae2a4d",
   "metadata": {},
   "outputs": [
    {
     "name": "stdin",
     "output_type": "stream",
     "text": [
      "Enter a number to calculate factorial:  6\n"
     ]
    },
    {
     "data": {
      "text/plain": [
       "720"
      ]
     },
     "execution_count": 47,
     "metadata": {},
     "output_type": "execute_result"
    }
   ],
   "source": [
    "# Factorial of a number \n",
    "\n",
    "reduce(lambda x,y: x*y, range(1, int(input(\"Enter a number to calculate factorial: \"))+1))"
   ]
  },
  {
   "cell_type": "code",
   "execution_count": null,
   "id": "9fa4faa2-e03a-4315-9874-db664989f87e",
   "metadata": {},
   "outputs": [],
   "source": []
  },
  {
   "cell_type": "code",
   "execution_count": null,
   "id": "c4a5624c-df9a-46df-90f8-611fb8939172",
   "metadata": {},
   "outputs": [],
   "source": []
  }
 ],
 "metadata": {
  "kernelspec": {
   "display_name": "Python 3 (ipykernel)",
   "language": "python",
   "name": "python3"
  },
  "language_info": {
   "codemirror_mode": {
    "name": "ipython",
    "version": 3
   },
   "file_extension": ".py",
   "mimetype": "text/x-python",
   "name": "python",
   "nbconvert_exporter": "python",
   "pygments_lexer": "ipython3",
   "version": "3.11.3"
  }
 },
 "nbformat": 4,
 "nbformat_minor": 5
}
