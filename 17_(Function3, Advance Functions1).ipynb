{
 "cells": [
  {
   "cell_type": "markdown",
   "id": "6ef0d5c2-76b2-44f9-9c79-62733eaa1df9",
   "metadata": {},
   "source": [
    "# Advance Functions\n",
    "- lambda\n",
    "- map\n",
    "- filter\n",
    "- reduce"
   ]
  },
  {
   "cell_type": "markdown",
   "id": "c9cd5eb9-75ad-4dfb-a4bf-cafb658b2fe1",
   "metadata": {},
   "source": [
    "### Yesterday Example"
   ]
  },
  {
   "cell_type": "code",
   "execution_count": 13,
   "id": "c38a776d-1104-4b59-b320-0aeaa74fe364",
   "metadata": {},
   "outputs": [
    {
     "name": "stdout",
     "output_type": "stream",
     "text": [
      "[10, 20, 30, 40, 40]\n"
     ]
    }
   ],
   "source": [
    "ls=[10,20,30,40,50]\n",
    "\n",
    "for ls[-1] in ls:\n",
    "    pass\n",
    "else:\n",
    "    print(ls)"
   ]
  },
  {
   "cell_type": "code",
   "execution_count": 14,
   "id": "bbc2cbf0-2e71-4c40-b260-f79b4d26fa92",
   "metadata": {},
   "outputs": [
    {
     "name": "stdout",
     "output_type": "stream",
     "text": [
      "[50, 20, 30, 40, 50]\n"
     ]
    }
   ],
   "source": [
    "ls=[10,20,30,40,50]\n",
    "\n",
    "for ls[0] in ls:\n",
    "    pass\n",
    "else:\n",
    "    print(ls)"
   ]
  },
  {
   "cell_type": "code",
   "execution_count": 15,
   "id": "0513cf0f-583e-42ab-a029-9c856d61758f",
   "metadata": {},
   "outputs": [
    {
     "name": "stdout",
     "output_type": "stream",
     "text": [
      "[10, 20, 30, 40, 10]\n",
      "[10, 20, 30, 40, 20]\n",
      "[10, 20, 30, 40, 30]\n",
      "[10, 20, 30, 40, 40]\n",
      "[10, 20, 30, 40, 40]\n",
      "[10, 20, 30, 40, 40]\n"
     ]
    }
   ],
   "source": [
    "ls=[10,20,30,40,50]\n",
    "\n",
    "for ls[-1] in ls:\n",
    "    print(ls)\n",
    "else:\n",
    "    print(ls)"
   ]
  },
  {
   "cell_type": "code",
   "execution_count": 17,
   "id": "8c0e6ffb-b065-4bae-87af-11cdc756b614",
   "metadata": {},
   "outputs": [
    {
     "name": "stdout",
     "output_type": "stream",
     "text": [
      "10\n",
      "20\n",
      "30\n",
      "40\n",
      "40\n"
     ]
    }
   ],
   "source": [
    "for i in ls:\n",
    "    print(i)"
   ]
  },
  {
   "cell_type": "code",
   "execution_count": null,
   "id": "0f67557a-e176-4929-aa30-8375361d14d8",
   "metadata": {},
   "outputs": [],
   "source": []
  },
  {
   "cell_type": "markdown",
   "id": "378abda8-6946-4687-b526-521cc5e857b1",
   "metadata": {},
   "source": [
    "### lambda function/ expression / inline function / anonymous\n",
    "                                                                Syntax:- lambda args: statement\n",
    "                                                                "
   ]
  },
  {
   "cell_type": "code",
   "execution_count": 26,
   "id": "8e998366-597c-4c8c-9ef9-8d5474b6d54c",
   "metadata": {},
   "outputs": [
    {
     "data": {
      "text/plain": [
       "'hello user'"
      ]
     },
     "execution_count": 26,
     "metadata": {},
     "output_type": "execute_result"
    }
   ],
   "source": [
    "def greet():\n",
    "    return 'hello user'\n",
    "\n",
    "greet()"
   ]
  },
  {
   "cell_type": "code",
   "execution_count": 28,
   "id": "6d79f0c1-4c8d-44e6-8ffd-8302a7f45d10",
   "metadata": {},
   "outputs": [
    {
     "data": {
      "text/plain": [
       "'hello user'"
      ]
     },
     "execution_count": 28,
     "metadata": {},
     "output_type": "execute_result"
    }
   ],
   "source": [
    "(lambda : 'hello user')   ()                # define and call in same line, automatically return value\n",
    "\n",
    "# (lambda : 'hello user') ->function define   () ->function call"
   ]
  },
  {
   "cell_type": "code",
   "execution_count": 34,
   "id": "0730d667-d979-4f0e-a083-02a9c50c22bf",
   "metadata": {},
   "outputs": [
    {
     "ename": "TypeError",
     "evalue": "<lambda>() missing 1 required positional argument: 'name'",
     "output_type": "error",
     "traceback": [
      "\u001b[1;31m---------------------------------------------------------------------------\u001b[0m",
      "\u001b[1;31mTypeError\u001b[0m                                 Traceback (most recent call last)",
      "Cell \u001b[1;32mIn[34], line 1\u001b[0m\n\u001b[1;32m----> 1\u001b[0m \u001b[43m(\u001b[49m\u001b[38;5;28;43;01mlambda\u001b[39;49;00m\u001b[43m \u001b[49m\u001b[43mname\u001b[49m\u001b[43m:\u001b[49m\u001b[43m \u001b[49m\u001b[38;5;124;43mf\u001b[39;49m\u001b[38;5;124;43m\"\u001b[39;49m\u001b[38;5;124;43mhello \u001b[39;49m\u001b[38;5;132;43;01m{\u001b[39;49;00m\u001b[43mname\u001b[49m\u001b[38;5;132;43;01m}\u001b[39;49;00m\u001b[38;5;124;43m\"\u001b[39;49m\u001b[43m)\u001b[49m\u001b[43m  \u001b[49m\u001b[43m(\u001b[49m\u001b[43m)\u001b[49m\n",
      "\u001b[1;31mTypeError\u001b[0m: <lambda>() missing 1 required positional argument: 'name'"
     ]
    }
   ],
   "source": [
    "(lambda name: f\"hello {name}\")  ()"
   ]
  },
  {
   "cell_type": "code",
   "execution_count": 33,
   "id": "f23c1631-a305-4b0f-8bcd-cfc80dcf8947",
   "metadata": {},
   "outputs": [
    {
     "data": {
      "text/plain": [
       "'hello rohan'"
      ]
     },
     "execution_count": 33,
     "metadata": {},
     "output_type": "execute_result"
    }
   ],
   "source": [
    "(lambda name: f\"hello {name}\")  ('rohan')"
   ]
  },
  {
   "cell_type": "code",
   "execution_count": 35,
   "id": "30ba929d-8f05-49d2-b25d-ffe590d325dc",
   "metadata": {},
   "outputs": [
    {
     "data": {
      "text/plain": [
       "10"
      ]
     },
     "execution_count": 35,
     "metadata": {},
     "output_type": "execute_result"
    }
   ],
   "source": [
    "(lambda x,y: x+y)  (5,5)"
   ]
  },
  {
   "cell_type": "code",
   "execution_count": null,
   "id": "348568db-fd4e-496b-8bd5-fe0498100f8b",
   "metadata": {},
   "outputs": [],
   "source": []
  },
  {
   "cell_type": "code",
   "execution_count": 36,
   "id": "2a6c158c-3476-44ae-a154-30f6443d8738",
   "metadata": {},
   "outputs": [
    {
     "data": {
      "text/plain": [
       "False"
      ]
     },
     "execution_count": 36,
     "metadata": {},
     "output_type": "execute_result"
    }
   ],
   "source": [
    "(lambda x: True if x%2==0 else False)    (87)"
   ]
  },
  {
   "cell_type": "code",
   "execution_count": 37,
   "id": "eb22b4be-e4e0-4272-92cc-499bd3858bba",
   "metadata": {},
   "outputs": [
    {
     "name": "stdin",
     "output_type": "stream",
     "text": [
      "Enter no.  2\n"
     ]
    },
    {
     "data": {
      "text/plain": [
       "True"
      ]
     },
     "execution_count": 37,
     "metadata": {},
     "output_type": "execute_result"
    }
   ],
   "source": [
    "(lambda x: True if x%2==0 else False)    (int(input(\"Enter no. \")))"
   ]
  },
  {
   "cell_type": "code",
   "execution_count": null,
   "id": "9f2477fd-dea9-4007-859f-859f85e1c8ea",
   "metadata": {},
   "outputs": [],
   "source": []
  },
  {
   "cell_type": "code",
   "execution_count": 39,
   "id": "ff675ed6-ac83-45b0-8440-51cf053c4dd3",
   "metadata": {},
   "outputs": [
    {
     "data": {
      "text/plain": [
       "False"
      ]
     },
     "execution_count": 39,
     "metadata": {},
     "output_type": "execute_result"
    }
   ],
   "source": [
    "v= lambda x: True if x%2==0 else False         # for reusability\n",
    "v(23)"
   ]
  },
  {
   "cell_type": "code",
   "execution_count": null,
   "id": "e797726a-a383-4406-87ed-d06f5038881d",
   "metadata": {},
   "outputs": [],
   "source": []
  },
  {
   "cell_type": "code",
   "execution_count": null,
   "id": "6ec6976b-a059-46df-a3d0-7dcd3cb62ea0",
   "metadata": {},
   "outputs": [],
   "source": []
  }
 ],
 "metadata": {
  "kernelspec": {
   "display_name": "Python 3 (ipykernel)",
   "language": "python",
   "name": "python3"
  },
  "language_info": {
   "codemirror_mode": {
    "name": "ipython",
    "version": 3
   },
   "file_extension": ".py",
   "mimetype": "text/x-python",
   "name": "python",
   "nbconvert_exporter": "python",
   "pygments_lexer": "ipython3",
   "version": "3.12.7"
  }
 },
 "nbformat": 4,
 "nbformat_minor": 5
}
