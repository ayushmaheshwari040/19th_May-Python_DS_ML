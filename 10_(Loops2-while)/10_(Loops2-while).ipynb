{
 "cells": [
  {
   "cell_type": "markdown",
   "id": "6584f111-15a3-4ad7-9693-c6aa41d6dcd7",
   "metadata": {},
   "source": [
    "### Slicing"
   ]
  },
  {
   "cell_type": "code",
   "execution_count": 4,
   "id": "f849bbde-debe-4498-b377-c0e6331e90bd",
   "metadata": {},
   "outputs": [
    {
     "data": {
      "text/plain": [
       "[20, 30, 40]"
      ]
     },
     "execution_count": 4,
     "metadata": {},
     "output_type": "execute_result"
    }
   ],
   "source": [
    "ls=[10,20,30,40,50,60]\n",
    "ls[1:4]"
   ]
  },
  {
   "cell_type": "code",
   "execution_count": 5,
   "id": "2a0f03e5-f461-4908-926b-63da66509bef",
   "metadata": {},
   "outputs": [
    {
     "data": {
      "text/plain": [
       "[10, 20, 30, 40, 50, 60]"
      ]
     },
     "execution_count": 5,
     "metadata": {},
     "output_type": "execute_result"
    }
   ],
   "source": [
    "ls"
   ]
  },
  {
   "cell_type": "code",
   "execution_count": 6,
   "id": "0ca278bb-a51e-4ed9-ba50-45a306573854",
   "metadata": {},
   "outputs": [
    {
     "data": {
      "text/plain": [
       "[20, 30, 40, 50, 60]"
      ]
     },
     "execution_count": 6,
     "metadata": {},
     "output_type": "execute_result"
    }
   ],
   "source": [
    "ls[1:6]"
   ]
  },
  {
   "cell_type": "code",
   "execution_count": 7,
   "id": "47e2c08c-1235-4d09-b203-e4f4e1c4ab93",
   "metadata": {},
   "outputs": [
    {
     "data": {
      "text/plain": [
       "[20, 30, 40, 50, 60]"
      ]
     },
     "execution_count": 7,
     "metadata": {},
     "output_type": "execute_result"
    }
   ],
   "source": [
    "ls[1:20]"
   ]
  },
  {
   "cell_type": "code",
   "execution_count": 8,
   "id": "4002d138-9061-4145-9480-01e0ca632181",
   "metadata": {},
   "outputs": [
    {
     "data": {
      "text/plain": [
       "[20, 40]"
      ]
     },
     "execution_count": 8,
     "metadata": {},
     "output_type": "execute_result"
    }
   ],
   "source": [
    "ls[1:5:2]                #start:end:step"
   ]
  },
  {
   "cell_type": "code",
   "execution_count": 9,
   "id": "fc282380-e879-4bc6-9838-a304f7f6752b",
   "metadata": {},
   "outputs": [
    {
     "data": {
      "text/plain": [
       "[10, 20, 30, 40, 50, 60]"
      ]
     },
     "execution_count": 9,
     "metadata": {},
     "output_type": "execute_result"
    }
   ],
   "source": [
    "ls"
   ]
  },
  {
   "cell_type": "code",
   "execution_count": 10,
   "id": "f140862c-bc90-4316-bd0a-966bc14a7348",
   "metadata": {},
   "outputs": [
    {
     "data": {
      "text/plain": [
       "[20, 30, 40, 50]"
      ]
     },
     "execution_count": 10,
     "metadata": {},
     "output_type": "execute_result"
    }
   ],
   "source": [
    "ls[-5:5]"
   ]
  },
  {
   "cell_type": "code",
   "execution_count": 12,
   "id": "cd2afd33-30bd-41cc-a207-b33c478a76d0",
   "metadata": {},
   "outputs": [
    {
     "data": {
      "text/plain": [
       "[10, 20, 30, 40, 50, 60]"
      ]
     },
     "execution_count": 12,
     "metadata": {},
     "output_type": "execute_result"
    }
   ],
   "source": [
    "ls"
   ]
  },
  {
   "cell_type": "code",
   "execution_count": 14,
   "id": "91cb2c6c-af32-4300-9e35-b87e512030bb",
   "metadata": {},
   "outputs": [
    {
     "data": {
      "text/plain": [
       "[]"
      ]
     },
     "execution_count": 14,
     "metadata": {},
     "output_type": "execute_result"
    }
   ],
   "source": [
    " ls[-1:-5]"
   ]
  },
  {
   "cell_type": "code",
   "execution_count": 15,
   "id": "86e00d62-e29e-4ed2-99fa-a7745fc4b8db",
   "metadata": {},
   "outputs": [
    {
     "data": {
      "text/plain": [
       "[60, 50, 40, 30]"
      ]
     },
     "execution_count": 15,
     "metadata": {},
     "output_type": "execute_result"
    }
   ],
   "source": [
    " ls[-1:-5:-1]"
   ]
  },
  {
   "cell_type": "code",
   "execution_count": 16,
   "id": "08a54b68-f4ca-44c2-9d43-d0f65ff0cf6a",
   "metadata": {},
   "outputs": [
    {
     "data": {
      "text/plain": [
       "[10, 20, 30, 40, 50, 60]"
      ]
     },
     "execution_count": 16,
     "metadata": {},
     "output_type": "execute_result"
    }
   ],
   "source": [
    "ls"
   ]
  },
  {
   "cell_type": "code",
   "execution_count": 17,
   "id": "758d08cd-49d8-4455-a3d9-de79c9bd2324",
   "metadata": {},
   "outputs": [
    {
     "data": {
      "text/plain": [
       "[20, 30, 40, 50, 60]"
      ]
     },
     "execution_count": 17,
     "metadata": {},
     "output_type": "execute_result"
    }
   ],
   "source": [
    "ls[1:]"
   ]
  },
  {
   "cell_type": "code",
   "execution_count": 18,
   "id": "e1268d1f-d089-44cf-aa32-3a3ad2239df2",
   "metadata": {},
   "outputs": [
    {
     "data": {
      "text/plain": [
       "[10, 20, 30, 40, 50, 60]"
      ]
     },
     "execution_count": 18,
     "metadata": {},
     "output_type": "execute_result"
    }
   ],
   "source": [
    "ls[:]"
   ]
  },
  {
   "cell_type": "code",
   "execution_count": 19,
   "id": "0cf8c551-025e-41fe-941d-d992f25a3c7b",
   "metadata": {},
   "outputs": [
    {
     "data": {
      "text/plain": [
       "[10, 30, 50]"
      ]
     },
     "execution_count": 19,
     "metadata": {},
     "output_type": "execute_result"
    }
   ],
   "source": [
    "ls[::2]"
   ]
  },
  {
   "cell_type": "code",
   "execution_count": 20,
   "id": "2d8c7379-13ea-4cf5-8bfd-3d81aa3ebcf1",
   "metadata": {},
   "outputs": [
    {
     "data": {
      "text/plain": [
       "[]"
      ]
     },
     "execution_count": 20,
     "metadata": {},
     "output_type": "execute_result"
    }
   ],
   "source": [
    "ls[-2:1:2]"
   ]
  },
  {
   "cell_type": "code",
   "execution_count": 21,
   "id": "3bcf69d6-157b-459c-bab4-daedc10bbf99",
   "metadata": {},
   "outputs": [
    {
     "data": {
      "text/plain": [
       "[50, 30]"
      ]
     },
     "execution_count": 21,
     "metadata": {},
     "output_type": "execute_result"
    }
   ],
   "source": [
    "ls[-2:1:-2]"
   ]
  },
  {
   "cell_type": "code",
   "execution_count": 23,
   "id": "2ea89ae7-18fb-4214-bdcb-8246ad665510",
   "metadata": {},
   "outputs": [
    {
     "data": {
      "text/plain": [
       "[10, 20, 30, 40, 50, 60]"
      ]
     },
     "execution_count": 23,
     "metadata": {},
     "output_type": "execute_result"
    }
   ],
   "source": [
    "ls[::1]"
   ]
  },
  {
   "cell_type": "code",
   "execution_count": 25,
   "id": "f0a3b8e4-7f68-487c-8f7e-f5be63f9c58e",
   "metadata": {},
   "outputs": [
    {
     "data": {
      "text/plain": [
       "[60, 50, 40, 30, 20, 10]"
      ]
     },
     "execution_count": 25,
     "metadata": {},
     "output_type": "execute_result"
    }
   ],
   "source": [
    "ls[::-1]           #reverse list"
   ]
  },
  {
   "cell_type": "code",
   "execution_count": 28,
   "id": "5dfe55ad-8f63-4411-a728-541b0490230b",
   "metadata": {},
   "outputs": [
    {
     "data": {
      "text/plain": [
       "'lo world'"
      ]
     },
     "execution_count": 28,
     "metadata": {},
     "output_type": "execute_result"
    }
   ],
   "source": [
    "s=\"hello world\"\n",
    "s[1:][1:][1:]"
   ]
  },
  {
   "cell_type": "markdown",
   "id": "5112c1d1-9018-4506-8431-e036cf745156",
   "metadata": {},
   "source": [
    "# 1. While Loop"
   ]
  },
  {
   "cell_type": "code",
   "execution_count": 26,
   "id": "3090c51f-c9bb-4244-b41d-56cff8998746",
   "metadata": {},
   "outputs": [
    {
     "name": "stdout",
     "output_type": "stream",
     "text": [
      "hello world\n",
      "ello world\n",
      "llo world\n",
      "lo world\n",
      "o world\n",
      " world\n",
      "world\n",
      "orld\n",
      "rld\n",
      "ld\n",
      "d\n"
     ]
    }
   ],
   "source": [
    "s=\"hello world\"\n",
    "while s:\n",
    "    print(s)\n",
    "    s=s[1:]"
   ]
  },
  {
   "cell_type": "code",
   "execution_count": 29,
   "id": "60e3a332-0b50-4a9d-8eee-50c22bd95b16",
   "metadata": {},
   "outputs": [
    {
     "data": {
      "text/plain": [
       "['ram', 'simran', 'rohan', 'sachin', 'deep', 'aman', 'rajat']"
      ]
     },
     "execution_count": 29,
     "metadata": {},
     "output_type": "execute_result"
    }
   ],
   "source": [
    "names=['ram','simran','rohan','sachin','deep','aman','rajat']\n",
    "names"
   ]
  },
  {
   "cell_type": "code",
   "execution_count": 34,
   "id": "ad194cc7-3c37-45b8-9cea-e0acb5af0164",
   "metadata": {},
   "outputs": [
    {
     "name": "stdout",
     "output_type": "stream",
     "text": [
      "ram\n",
      "rohan\n",
      "rajat\n"
     ]
    }
   ],
   "source": [
    "# print the list elements where the name starts from r\n",
    "\n",
    "i=0\n",
    "while i<len(names):\n",
    "    if names[i].startswith('r'):\n",
    "        print(names[i])\n",
    "    i+=1    "
   ]
  },
  {
   "cell_type": "code",
   "execution_count": 37,
   "id": "a10be86b-8b2e-42b2-bfbe-a00b2687e55c",
   "metadata": {},
   "outputs": [
    {
     "name": "stdin",
     "output_type": "stream",
     "text": [
      "Enter the number:  2\n"
     ]
    },
    {
     "name": "stdout",
     "output_type": "stream",
     "text": [
      "2*1=2\n",
      "2*2=4\n",
      "2*3=6\n",
      "2*4=8\n",
      "2*5=10\n",
      "2*6=12\n",
      "2*7=14\n",
      "2*8=16\n",
      "2*9=18\n",
      "2*10=20\n"
     ]
    }
   ],
   "source": [
    "num=int(input('Enter the number: '))\n",
    "i=1\n",
    "while i<=10:\n",
    "    print(f\"{num}*{i}={num*i}\")\n",
    "    i+=1"
   ]
  },
  {
   "cell_type": "code",
   "execution_count": 44,
   "id": "1b7d9544-dfc8-46df-aba6-6dc8dc5fb088",
   "metadata": {},
   "outputs": [],
   "source": [
    "lst=[1,2,3,4,5,5]"
   ]
  },
  {
   "cell_type": "code",
   "execution_count": 45,
   "id": "ca13ad57-5660-4c00-8926-fa3d33112257",
   "metadata": {},
   "outputs": [
    {
     "data": {
      "text/plain": [
       "20"
      ]
     },
     "execution_count": 45,
     "metadata": {},
     "output_type": "execute_result"
    }
   ],
   "source": [
    "sum(lst)"
   ]
  },
  {
   "cell_type": "code",
   "execution_count": 46,
   "id": "e30c19d1-0f5d-4831-b7b2-f6fcba393403",
   "metadata": {},
   "outputs": [
    {
     "data": {
      "text/plain": [
       "1"
      ]
     },
     "execution_count": 46,
     "metadata": {},
     "output_type": "execute_result"
    }
   ],
   "source": [
    "min(lst)"
   ]
  },
  {
   "cell_type": "code",
   "execution_count": 47,
   "id": "a1d06eb6-e2ad-4921-bf36-3a3aa7738ece",
   "metadata": {},
   "outputs": [
    {
     "data": {
      "text/plain": [
       "5"
      ]
     },
     "execution_count": 47,
     "metadata": {},
     "output_type": "execute_result"
    }
   ],
   "source": [
    "max(lst)"
   ]
  },
  {
   "cell_type": "code",
   "execution_count": 48,
   "id": "40c664a7-04b7-4806-8a3d-8eba36d3caf2",
   "metadata": {},
   "outputs": [
    {
     "data": {
      "text/plain": [
       "[1, 2, 3, 4, 5, 5]"
      ]
     },
     "execution_count": 48,
     "metadata": {},
     "output_type": "execute_result"
    }
   ],
   "source": [
    "lst"
   ]
  },
  {
   "cell_type": "code",
   "execution_count": 49,
   "id": "b7e7f329-6e32-451b-9523-d037e03b3fda",
   "metadata": {},
   "outputs": [
    {
     "data": {
      "text/plain": [
       "20"
      ]
     },
     "execution_count": 49,
     "metadata": {},
     "output_type": "execute_result"
    }
   ],
   "source": [
    "i=0\n",
    "a=0\n",
    "while i<len(lst):\n",
    "    a+=lst[i]\n",
    "    i+=1\n",
    "    \n",
    "a   "
   ]
  },
  {
   "cell_type": "markdown",
   "id": "84af767a-9d3d-453f-9cb7-65bf12f00ddd",
   "metadata": {},
   "source": [
    "### break, continue & pass"
   ]
  },
  {
   "cell_type": "code",
   "execution_count": 52,
   "id": "649ac11b-ce48-4adc-84c8-8987a8328386",
   "metadata": {},
   "outputs": [
    {
     "name": "stdout",
     "output_type": "stream",
     "text": [
      "1\n",
      "2\n",
      "3\n",
      "4\n",
      "5\n",
      "6\n",
      "7\n",
      "8\n",
      "9\n",
      "10\n",
      "11\n",
      "12\n",
      "13\n",
      "14\n",
      "15\n",
      "16\n",
      "17\n",
      "18\n",
      "19\n",
      "20\n"
     ]
    }
   ],
   "source": [
    "i=1\n",
    "\n",
    "while i<101:\n",
    "    if i==21:\n",
    "        break\n",
    "    print(i)\n",
    "    i+=1"
   ]
  },
  {
   "cell_type": "code",
   "execution_count": 66,
   "id": "d23a13e2-20bc-4420-94f1-4c90b2441ef8",
   "metadata": {},
   "outputs": [
    {
     "data": {
      "text/plain": [
       "[13, 2, 5, 6, 7, 8, 34, 6, 2, 88]"
      ]
     },
     "execution_count": 66,
     "metadata": {},
     "output_type": "execute_result"
    }
   ],
   "source": [
    "lst=[13,2,5,6,7,8,34,6,2,88]\n",
    "lst"
   ]
  },
  {
   "cell_type": "code",
   "execution_count": 68,
   "id": "27cea57a-619f-4062-8c76-eaa33e3d9954",
   "metadata": {},
   "outputs": [
    {
     "name": "stdin",
     "output_type": "stream",
     "text": [
      "Enter the number:  2\n"
     ]
    },
    {
     "name": "stdout",
     "output_type": "stream",
     "text": [
      "2 present at index 1 \n",
      "2 present at index 8 \n"
     ]
    }
   ],
   "source": [
    "num=int(input(\"Enter the number: \"))\n",
    "i=0\n",
    "while i<len(lst):\n",
    "    if num==lst[i]:\n",
    "        print(f\"{lst[i]} present at index {i} \")\n",
    "    i+=1   "
   ]
  },
  {
   "cell_type": "code",
   "execution_count": 71,
   "id": "7fb48182-96fd-412a-8dcc-ca5ee76dc9b1",
   "metadata": {},
   "outputs": [
    {
     "name": "stdin",
     "output_type": "stream",
     "text": [
      "Enter the number:  100\n"
     ]
    },
    {
     "name": "stdout",
     "output_type": "stream",
     "text": [
      "Element not found\n"
     ]
    }
   ],
   "source": [
    "num=int(input(\"Enter the number: \"))\n",
    "i=0\n",
    "while i<len(lst):\n",
    "    if num==lst[i]:\n",
    "        print(f\"{lst[i]} present at index {i}\")\n",
    "        break\n",
    "    i+=1  \n",
    "else:\n",
    "    print(\"Element not found\")"
   ]
  },
  {
   "cell_type": "code",
   "execution_count": null,
   "id": "8f2db1eb-7a04-432f-bbd7-d0aa5cd05860",
   "metadata": {},
   "outputs": [],
   "source": [
    " "
   ]
  },
  {
   "cell_type": "code",
   "execution_count": 85,
   "id": "82e0ddb1-9538-412f-ae44-3b798302396b",
   "metadata": {},
   "outputs": [
    {
     "data": {
      "text/plain": [
       "[34, 67, 34, 78, 89, 34, 78, 87, 34, 87, 56, 23]"
      ]
     },
     "execution_count": 85,
     "metadata": {},
     "output_type": "execute_result"
    }
   ],
   "source": [
    "#continue statement\n",
    "\n",
    "lst=[34,67,34,78,89,34,78,87,34,87,56,23]\n",
    "lst"
   ]
  },
  {
   "cell_type": "code",
   "execution_count": 87,
   "id": "ba09c72a-cf70-425b-b9a7-ee41e7f8d9a1",
   "metadata": {},
   "outputs": [
    {
     "name": "stdout",
     "output_type": "stream",
     "text": [
      "34\n",
      "67\n",
      "34\n",
      "78\n",
      "34\n",
      "78\n",
      "87\n",
      "34\n",
      "87\n",
      "56\n",
      "23\n"
     ]
    }
   ],
   "source": [
    "i=0\n",
    "while i<len(lst):\n",
    "    if lst[i]==89:\n",
    "        i+=1\n",
    "        continue\n",
    "        \n",
    "    print(lst[i])    \n",
    "    i+=1    "
   ]
  },
  {
   "cell_type": "code",
   "execution_count": 88,
   "id": "53cfd85c-499e-47f2-b05f-22091bd778cb",
   "metadata": {},
   "outputs": [],
   "source": [
    "#pass keyword\n",
    "\n",
    "if 3>2:\n",
    "    pass"
   ]
  },
  {
   "cell_type": "code",
   "execution_count": 2,
   "id": "a40f0346-4c73-47fc-9542-efc294dd3d61",
   "metadata": {},
   "outputs": [
    {
     "name": "stdin",
     "output_type": "stream",
     "text": [
      "Enter no. 4\n"
     ]
    },
    {
     "name": "stdout",
     "output_type": "stream",
     "text": [
      "4 is not prime...\n"
     ]
    }
   ],
   "source": [
    "# Prime no. checking-divisible by or itself\n",
    "\n",
    "num=int (input(\"Enter no.\"))\n",
    "\n",
    "i=2\n",
    "while i<num:\n",
    "    if num%i==0:\n",
    "        print(f\"{num} is not prime...\")\n",
    "    i+=1\n",
    "    break\n",
    "else:\n",
    "    print(f\"{num} is prime\")"
   ]
  },
  {
   "cell_type": "code",
   "execution_count": 1,
   "id": "104e5893-8c8e-46ce-aaaa-d92aa499a4d2",
   "metadata": {},
   "outputs": [
    {
     "name": "stdin",
     "output_type": "stream",
     "text": [
      "Enter the number of values:  5\n",
      "Enter a number:  1\n",
      "Enter a number:  7\n",
      "Enter a number:  8\n",
      "Enter a number:  9\n",
      "Enter a number:  7\n"
     ]
    },
    {
     "data": {
      "text/plain": [
       "[1, 7, 8, 9, 7]"
      ]
     },
     "execution_count": 1,
     "metadata": {},
     "output_type": "execute_result"
    }
   ],
   "source": [
    "i=0\n",
    "inputs=[]\n",
    "N=int(input(\"Enter the number of values: \"))\n",
    "while i<N:\n",
    "    v=int(input(\"Enter a number: \"))\n",
    "    inputs.append(v)\n",
    "    i+=1\n",
    "\n",
    "inputs"
   ]
  },
  {
   "cell_type": "code",
   "execution_count": null,
   "id": "210c9179-10eb-41f8-8d8f-35be96b9b5a5",
   "metadata": {},
   "outputs": [],
   "source": []
  }
 ],
 "metadata": {
  "kernelspec": {
   "display_name": "Python 3 (ipykernel)",
   "language": "python",
   "name": "python3"
  },
  "language_info": {
   "codemirror_mode": {
    "name": "ipython",
    "version": 3
   },
   "file_extension": ".py",
   "mimetype": "text/x-python",
   "name": "python",
   "nbconvert_exporter": "python",
   "pygments_lexer": "ipython3",
   "version": "3.11.3"
  }
 },
 "nbformat": 4,
 "nbformat_minor": 5
}
