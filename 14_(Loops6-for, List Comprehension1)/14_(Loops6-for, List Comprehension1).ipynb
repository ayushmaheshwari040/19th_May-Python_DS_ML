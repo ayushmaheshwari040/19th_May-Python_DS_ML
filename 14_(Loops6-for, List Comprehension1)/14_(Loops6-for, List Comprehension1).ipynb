{
 "cells": [
  {
   "cell_type": "markdown",
   "id": "1877ed01-1342-4c47-bb5e-d5f95d447fe3",
   "metadata": {},
   "source": [
    "### Random Password Generator"
   ]
  },
  {
   "cell_type": "code",
   "execution_count": 1,
   "id": "96e59987-6b60-4dd0-9d6d-11bde452a22e",
   "metadata": {},
   "outputs": [
    {
     "name": "stdin",
     "output_type": "stream",
     "text": [
      "Enter the desired password length of atleast 8:  10\n"
     ]
    },
    {
     "name": "stdout",
     "output_type": "stream",
     "text": [
      "Generated Password: -)C.eUA\"Bx\n"
     ]
    }
   ],
   "source": [
    "import random\n",
    "import string\n",
    "\n",
    "# Desired password length\n",
    "length = int(input(\"Enter the desired password length of atleast 8: \"))\n",
    "\n",
    "# Character sets\n",
    "lower = string.ascii_lowercase\n",
    "upper = string.ascii_uppercase\n",
    "digits = string.digits\n",
    "symbols = string.punctuation\n",
    "\n",
    "# Combine all characters\n",
    "all_chars = lower + upper + digits + symbols\n",
    "\n",
    "# Initialize empty password\n",
    "password = \"\"\n",
    "\n",
    "# Generate password\n",
    "i = 0\n",
    "while i < length:\n",
    "    rand_char = random.choice(all_chars)\n",
    "    password += rand_char\n",
    "    i += 1\n",
    "\n",
    "# Display the generated password\n",
    "print(\"Generated Password:\", password)\n"
   ]
  },
  {
   "cell_type": "code",
   "execution_count": null,
   "id": "3f774340-3675-4544-9f8e-6268e3196f41",
   "metadata": {},
   "outputs": [],
   "source": []
  },
  {
   "cell_type": "markdown",
   "id": "b64afe84-061a-452b-99aa-1aee8ac5adf6",
   "metadata": {},
   "source": [
    "## 2. For Loop"
   ]
  },
  {
   "cell_type": "markdown",
   "id": "7728b3d8-d1f8-48da-ab2a-00fa92751b3c",
   "metadata": {},
   "source": [
    "### range function"
   ]
  },
  {
   "cell_type": "code",
   "execution_count": 4,
   "id": "25067fb6-d245-4e1e-b51a-7ea94e561430",
   "metadata": {},
   "outputs": [],
   "source": [
    "for i in range(100,0,10):\n",
    "    print(i)"
   ]
  },
  {
   "cell_type": "code",
   "execution_count": 5,
   "id": "20b7ac31-52b1-440a-8cbc-eb66f3532f02",
   "metadata": {},
   "outputs": [
    {
     "name": "stdout",
     "output_type": "stream",
     "text": [
      "100\n",
      "90\n",
      "80\n",
      "70\n",
      "60\n",
      "50\n",
      "40\n",
      "30\n",
      "20\n",
      "10\n"
     ]
    }
   ],
   "source": [
    "for i in range(100,0,-10):\n",
    "    print(i)"
   ]
  },
  {
   "cell_type": "code",
   "execution_count": 6,
   "id": "36f7d279-7c9b-452f-bc80-cb6042eb8c64",
   "metadata": {},
   "outputs": [
    {
     "data": {
      "text/plain": [
       "[23, 45, 67, 89, 45, 78, 34, 78, 23, 67]"
      ]
     },
     "execution_count": 6,
     "metadata": {},
     "output_type": "execute_result"
    }
   ],
   "source": [
    "ls=[23,45,67,89,45,78,34,78,23,67]\n",
    "ls"
   ]
  },
  {
   "cell_type": "code",
   "execution_count": 7,
   "id": "5bb2c21e-3500-452f-8f1d-10e2b1e7cb0f",
   "metadata": {},
   "outputs": [
    {
     "name": "stdout",
     "output_type": "stream",
     "text": [
      "23\n",
      "45\n",
      "67\n",
      "89\n",
      "45\n",
      "78\n",
      "34\n",
      "78\n",
      "23\n",
      "67\n"
     ]
    }
   ],
   "source": [
    "for i in range(len(ls)):\n",
    "    print(ls[i])"
   ]
  },
  {
   "cell_type": "code",
   "execution_count": 9,
   "id": "ba0af2e8-d4a7-4777-bf97-bcac689ff81e",
   "metadata": {},
   "outputs": [
    {
     "data": {
      "text/plain": [
       "['23', '45', '45', '78']"
      ]
     },
     "execution_count": 9,
     "metadata": {},
     "output_type": "execute_result"
    }
   ],
   "source": [
    "lst=['23','45','45','78']\n",
    "lst"
   ]
  },
  {
   "cell_type": "code",
   "execution_count": 10,
   "id": "a69e1bcd-a6ec-4cf7-b125-5f521b9d091a",
   "metadata": {},
   "outputs": [
    {
     "name": "stdout",
     "output_type": "stream",
     "text": [
      "[23, 45, 45, 78]\n"
     ]
    }
   ],
   "source": [
    "for i in range(len(lst)):\n",
    "    lst[i]=int(lst[i])\n",
    "else:\n",
    "    print(lst)"
   ]
  },
  {
   "cell_type": "code",
   "execution_count": null,
   "id": "07874978-ae91-478e-81a3-b18365f401cc",
   "metadata": {},
   "outputs": [],
   "source": []
  },
  {
   "cell_type": "markdown",
   "id": "16fff00d-1fd9-427f-a5ee-dba96910e5dd",
   "metadata": {},
   "source": [
    "### Prime no. or not"
   ]
  },
  {
   "cell_type": "code",
   "execution_count": 14,
   "id": "25091560-8488-44da-bd0e-e3dcb8eab10b",
   "metadata": {},
   "outputs": [
    {
     "name": "stdin",
     "output_type": "stream",
     "text": [
      "Enter the no. 5\n"
     ]
    },
    {
     "name": "stdout",
     "output_type": "stream",
     "text": [
      "Prime no.\n"
     ]
    }
   ],
   "source": [
    "# M1\n",
    "\n",
    "num=int(input(\"Enter the no.\"))\n",
    "for i in range(2,num):\n",
    "    if num%i==0:\n",
    "        print(\"Not prime no.\")\n",
    "        break\n",
    "else:\n",
    "    print(\"Prime no.\")"
   ]
  },
  {
   "cell_type": "code",
   "execution_count": 15,
   "id": "25474a97-c22e-42f9-a161-098984883f2d",
   "metadata": {},
   "outputs": [
    {
     "name": "stdin",
     "output_type": "stream",
     "text": [
      "Enter the no. 56\n"
     ]
    },
    {
     "name": "stdout",
     "output_type": "stream",
     "text": [
      "Not prime no.\n"
     ]
    }
   ],
   "source": [
    "# M2\n",
    "\n",
    "num=int(input(\"Enter the no.\"))\n",
    "for i in range(2,(num//2)+1):\n",
    "    if num%i==0:\n",
    "        print(\"Not prime no.\")\n",
    "        break\n",
    "else:\n",
    "    print(\"Prime no.\")"
   ]
  },
  {
   "cell_type": "code",
   "execution_count": null,
   "id": "0c9f6686-35de-4b02-8fb1-4ca8a4e03615",
   "metadata": {},
   "outputs": [],
   "source": []
  },
  {
   "cell_type": "markdown",
   "id": "b44d64ac-41b4-417c-b086-e1bfdabe36a2",
   "metadata": {},
   "source": [
    "### Nested for loop\n",
    "                    syntax:-  for var1 in iterable:\n",
    "                                  st\n",
    "                                  for var2 in iterable:\n",
    "                                      st"
   ]
  },
  {
   "cell_type": "code",
   "execution_count": 16,
   "id": "3ea4fe19-af9e-4201-b9a4-8217d0853e58",
   "metadata": {},
   "outputs": [
    {
     "name": "stdout",
     "output_type": "stream",
     "text": [
      "1 + 1 = 2\n",
      "1 + 2 = 3\n",
      "1 + 3 = 4\n",
      "\n",
      "2 + 1 = 3\n",
      "2 + 2 = 4\n",
      "2 + 3 = 5\n",
      "\n",
      "3 + 1 = 4\n",
      "3 + 2 = 5\n",
      "3 + 3 = 6\n",
      "\n",
      "4 + 1 = 5\n",
      "4 + 2 = 6\n",
      "4 + 3 = 7\n",
      "\n",
      "5 + 1 = 6\n",
      "5 + 2 = 7\n",
      "5 + 3 = 8\n",
      "\n"
     ]
    }
   ],
   "source": [
    "for i in range(1,6):\n",
    "    for j in range(1,4):\n",
    "        print(f\"{i} + {j} = {i+j}\")\n",
    "    print()    "
   ]
  },
  {
   "cell_type": "code",
   "execution_count": null,
   "id": "146838dd-d8a3-4583-86f6-4f6486d8b2f3",
   "metadata": {},
   "outputs": [],
   "source": []
  },
  {
   "cell_type": "code",
   "execution_count": 20,
   "id": "73eecd39-3902-4b4f-ac98-fb947ad322aa",
   "metadata": {},
   "outputs": [
    {
     "name": "stdout",
     "output_type": "stream",
     "text": [
      "* \n",
      "* * \n",
      "* * * \n",
      "* * * * \n",
      "* * * * * \n"
     ]
    }
   ],
   "source": [
    "for i in range(5):\n",
    "    for j in range(i+1):\n",
    "        print(\"*\",end=\" \")\n",
    "    print()    "
   ]
  },
  {
   "cell_type": "code",
   "execution_count": 22,
   "id": "1a4c75b8-2045-4b97-a744-c318728055fc",
   "metadata": {},
   "outputs": [
    {
     "name": "stdout",
     "output_type": "stream",
     "text": [
      "* * * * * \n",
      "* * * * \n",
      "* * * \n",
      "* * \n",
      "* \n"
     ]
    }
   ],
   "source": [
    "for i in range(5,0,-1):\n",
    "    for j in range(i):\n",
    "        print(\"*\",end=\" \")\n",
    "    print()    "
   ]
  },
  {
   "cell_type": "code",
   "execution_count": null,
   "id": "495b0a00-c3f1-4428-b733-fed017a6e135",
   "metadata": {},
   "outputs": [],
   "source": []
  },
  {
   "cell_type": "markdown",
   "id": "dd16e748-628c-46c6-bad6-61a3ef7e5ad3",
   "metadata": {},
   "source": [
    "### Que. Printing pattern according to the list, column wise\n",
    "\n",
    "         ls1=[1,0,4,7,3,5]\n",
    "\n",
    "                 *\n",
    "                 *\n",
    "                 *   *\n",
    "               * *   * \n",
    "               * * * * \n",
    "               * * * * \n",
    "            *  * * * * \n",
    "\n",
    "        ls2=[-1,4,-3,2,5]  -->here the pattern goes both up and down side\n",
    "         "
   ]
  },
  {
   "cell_type": "code",
   "execution_count": null,
   "id": "f517ad8c-1de9-4ad0-a36d-aaf4051c1667",
   "metadata": {},
   "outputs": [],
   "source": []
  },
  {
   "cell_type": "markdown",
   "id": "1624d514-c104-416f-954c-e2e7766e603a",
   "metadata": {},
   "source": [
    "### Iteration Techniques Or Looping Techniques\n",
    "###### zip():- mapping and merging with same index, we use in dsa questions\n",
    "###### enumrate()"
   ]
  },
  {
   "cell_type": "markdown",
   "id": "6bd2724a-de61-4d38-8208-2061f68a0373",
   "metadata": {},
   "source": [
    "###### zip()"
   ]
  },
  {
   "cell_type": "code",
   "execution_count": 24,
   "id": "84d9b204-87f9-47c6-a941-891b362e67fe",
   "metadata": {},
   "outputs": [],
   "source": [
    "l1=[10,20,30,40]\n",
    "l2=[100,200,300,400]"
   ]
  },
  {
   "cell_type": "code",
   "execution_count": 25,
   "id": "c54dcd7c-d8ab-4829-8bdb-581c681cc09c",
   "metadata": {},
   "outputs": [
    {
     "data": {
      "text/plain": [
       "<zip at 0x2052c260700>"
      ]
     },
     "execution_count": 25,
     "metadata": {},
     "output_type": "execute_result"
    }
   ],
   "source": [
    "zip(l1,l2)"
   ]
  },
  {
   "cell_type": "code",
   "execution_count": 28,
   "id": "aa87d19b-1157-49aa-a65e-4fcf3a6e6532",
   "metadata": {},
   "outputs": [
    {
     "name": "stdout",
     "output_type": "stream",
     "text": [
      "(10, 100) <class 'tuple'>\n",
      "(20, 200) <class 'tuple'>\n",
      "(30, 300) <class 'tuple'>\n",
      "(40, 400) <class 'tuple'>\n"
     ]
    }
   ],
   "source": [
    "for i in zip(l1,l2):\n",
    "    print(i,type(i))"
   ]
  },
  {
   "cell_type": "code",
   "execution_count": 29,
   "id": "68288c9d-9c11-45cd-9c3a-ec1f32f4fe09",
   "metadata": {},
   "outputs": [
    {
     "data": {
      "text/plain": [
       "{'name': 'deep', 'age': 25, 'address': 'jaipur'}"
      ]
     },
     "execution_count": 29,
     "metadata": {},
     "output_type": "execute_result"
    }
   ],
   "source": [
    "data={'name':'deep', 'age':25, 'address':'jaipur'}\n",
    "data"
   ]
  },
  {
   "cell_type": "code",
   "execution_count": 30,
   "id": "c120430b-98ef-4fa0-9655-f26a3ef971bd",
   "metadata": {},
   "outputs": [
    {
     "data": {
      "text/plain": [
       "[10, 20, 30, 40]"
      ]
     },
     "execution_count": 30,
     "metadata": {},
     "output_type": "execute_result"
    }
   ],
   "source": [
    "l1"
   ]
  },
  {
   "cell_type": "code",
   "execution_count": 31,
   "id": "995b3ea2-68ef-4a06-b86b-70d7ba2ce068",
   "metadata": {},
   "outputs": [
    {
     "name": "stdout",
     "output_type": "stream",
     "text": [
      "('name', 10)\n",
      "('age', 20)\n",
      "('address', 30)\n"
     ]
    }
   ],
   "source": [
    "for i in zip(data,l1):\n",
    "    print(i)"
   ]
  },
  {
   "cell_type": "code",
   "execution_count": null,
   "id": "25faf302-c3a8-4a13-bc0c-2406162dc7bf",
   "metadata": {},
   "outputs": [],
   "source": []
  },
  {
   "cell_type": "code",
   "execution_count": 32,
   "id": "b81cde58-1b49-4f9f-9a13-2ad6a6de94e3",
   "metadata": {},
   "outputs": [
    {
     "data": {
      "text/plain": [
       "[10, 20, 30, 40]"
      ]
     },
     "execution_count": 32,
     "metadata": {},
     "output_type": "execute_result"
    }
   ],
   "source": [
    "l1"
   ]
  },
  {
   "cell_type": "code",
   "execution_count": 36,
   "id": "d602bf3e-a16d-490e-85a8-1463e8327d67",
   "metadata": {},
   "outputs": [
    {
     "name": "stdout",
     "output_type": "stream",
     "text": [
      "('rohan', 23)\n",
      "('harsh', 22)\n",
      "('simran', 21)\n",
      "('rajat', 20)\n"
     ]
    }
   ],
   "source": [
    "names=['rohan','harsh','simran','rajat','deep']\n",
    "ages=[23,22,21,20]\n",
    "\n",
    "for i in zip(names,ages):       #by default strict is false\n",
    "    print(i)"
   ]
  },
  {
   "cell_type": "code",
   "execution_count": 37,
   "id": "3353f997-5a52-4a71-af33-338cdf6ef8d7",
   "metadata": {},
   "outputs": [
    {
     "name": "stdout",
     "output_type": "stream",
     "text": [
      "('rohan', 23)\n",
      "('harsh', 22)\n",
      "('simran', 21)\n",
      "('rajat', 20)\n"
     ]
    },
    {
     "ename": "ValueError",
     "evalue": "zip() argument 2 is shorter than argument 1",
     "output_type": "error",
     "traceback": [
      "\u001b[1;31m---------------------------------------------------------------------------\u001b[0m",
      "\u001b[1;31mValueError\u001b[0m                                Traceback (most recent call last)",
      "Cell \u001b[1;32mIn[37], line 1\u001b[0m\n\u001b[1;32m----> 1\u001b[0m \u001b[38;5;28;43;01mfor\u001b[39;49;00m\u001b[43m \u001b[49m\u001b[43mi\u001b[49m\u001b[43m \u001b[49m\u001b[38;5;129;43;01min\u001b[39;49;00m\u001b[43m \u001b[49m\u001b[38;5;28;43mzip\u001b[39;49m\u001b[43m(\u001b[49m\u001b[43mnames\u001b[49m\u001b[43m,\u001b[49m\u001b[43mages\u001b[49m\u001b[43m,\u001b[49m\u001b[43m \u001b[49m\u001b[43mstrict\u001b[49m\u001b[38;5;241;43m=\u001b[39;49m\u001b[38;5;28;43;01mTrue\u001b[39;49;00m\u001b[43m)\u001b[49m\u001b[43m:\u001b[49m\n\u001b[0;32m      2\u001b[0m \u001b[43m    \u001b[49m\u001b[38;5;28;43mprint\u001b[39;49m\u001b[43m(\u001b[49m\u001b[43mi\u001b[49m\u001b[43m)\u001b[49m\n",
      "\u001b[1;31mValueError\u001b[0m: zip() argument 2 is shorter than argument 1"
     ]
    }
   ],
   "source": [
    "for i in zip(names,ages, strict=True):\n",
    "    print(i)"
   ]
  },
  {
   "cell_type": "code",
   "execution_count": 38,
   "id": "19f27224-6701-4bdc-bc10-80c9f8b512a6",
   "metadata": {},
   "outputs": [
    {
     "data": {
      "text/plain": [
       "[('rohan', 23), ('harsh', 22), ('simran', 21), ('rajat', 20)]"
      ]
     },
     "execution_count": 38,
     "metadata": {},
     "output_type": "execute_result"
    }
   ],
   "source": [
    "list(zip(names, ages))\n",
    "# zip('abcdefg',range(3), range(4))"
   ]
  },
  {
   "cell_type": "code",
   "execution_count": null,
   "id": "d9ad2604-a81c-4bf5-a8dc-362a4d2581a6",
   "metadata": {},
   "outputs": [],
   "source": []
  },
  {
   "cell_type": "code",
   "execution_count": 40,
   "id": "f66877b8-d2ce-4bec-8cff-10b96aababe9",
   "metadata": {},
   "outputs": [
    {
     "data": {
      "text/plain": [
       "[('a', 0, 0), ('b', 1, 1), ('c', 2, 2)]"
      ]
     },
     "execution_count": 40,
     "metadata": {},
     "output_type": "execute_result"
    }
   ],
   "source": [
    "list(zip('abcdefg',range(3), range(4)))"
   ]
  },
  {
   "cell_type": "code",
   "execution_count": null,
   "id": "84bc29d1-c65f-474c-9f10-68a4f5761948",
   "metadata": {},
   "outputs": [],
   "source": []
  },
  {
   "cell_type": "code",
   "execution_count": 41,
   "id": "29d1f1a1-acb9-458e-b78e-b67239a35658",
   "metadata": {},
   "outputs": [
    {
     "data": {
      "text/plain": [
       "['rohan', 'harsh', 'simran', 'rajat', 'deep']"
      ]
     },
     "execution_count": 41,
     "metadata": {},
     "output_type": "execute_result"
    }
   ],
   "source": [
    "names"
   ]
  },
  {
   "cell_type": "code",
   "execution_count": 42,
   "id": "29faa967-15bd-4349-a968-b5603ef4b17c",
   "metadata": {},
   "outputs": [
    {
     "data": {
      "text/plain": [
       "[23, 22, 21, 20]"
      ]
     },
     "execution_count": 42,
     "metadata": {},
     "output_type": "execute_result"
    }
   ],
   "source": [
    "ages"
   ]
  },
  {
   "cell_type": "code",
   "execution_count": 43,
   "id": "705f6d0c-016a-4774-bc65-b09d2f7610ec",
   "metadata": {},
   "outputs": [],
   "source": [
    "addresses=['jaipur','pune', 'alwar','mumbai']"
   ]
  },
  {
   "cell_type": "code",
   "execution_count": 44,
   "id": "758d1dc0-c193-4b34-9364-3fa496ac8b82",
   "metadata": {},
   "outputs": [
    {
     "name": "stdout",
     "output_type": "stream",
     "text": [
      "('rohan', 23, 'jaipur')\n",
      "('harsh', 22, 'pune')\n",
      "('simran', 21, 'alwar')\n",
      "('rajat', 20, 'mumbai')\n"
     ]
    }
   ],
   "source": [
    "for i in zip(names, ages, addresses):\n",
    "    print(i)"
   ]
  },
  {
   "cell_type": "code",
   "execution_count": null,
   "id": "cd36c8c0-7515-4949-87ee-5ba0eff7081e",
   "metadata": {},
   "outputs": [],
   "source": []
  },
  {
   "cell_type": "code",
   "execution_count": null,
   "id": "576c43ef-adc4-4766-82af-bb587fcce159",
   "metadata": {},
   "outputs": [],
   "source": []
  },
  {
   "cell_type": "markdown",
   "id": "f73bacf4-f84d-4d16-9bcd-f01a6bbfc529",
   "metadata": {},
   "source": [
    "### Unpacking"
   ]
  },
  {
   "cell_type": "code",
   "execution_count": 45,
   "id": "d10848fd-945b-4c87-b4ed-9bf0c32eb1e0",
   "metadata": {},
   "outputs": [
    {
     "data": {
      "text/plain": [
       "[10, 20, 30, 40]"
      ]
     },
     "execution_count": 45,
     "metadata": {},
     "output_type": "execute_result"
    }
   ],
   "source": [
    "l1"
   ]
  },
  {
   "cell_type": "code",
   "execution_count": 47,
   "id": "2d3a9298-fc1e-4452-ac23-b35c8b53cbc0",
   "metadata": {},
   "outputs": [
    {
     "name": "stdout",
     "output_type": "stream",
     "text": [
      "10 20 30 40\n"
     ]
    }
   ],
   "source": [
    "a,b,c,d=l1\n",
    "print(a,b,c,d)"
   ]
  },
  {
   "cell_type": "code",
   "execution_count": 48,
   "id": "8c530c24-a38d-4b02-8f19-f1836204e6a8",
   "metadata": {},
   "outputs": [
    {
     "ename": "ValueError",
     "evalue": "too many values to unpack (expected 2)",
     "output_type": "error",
     "traceback": [
      "\u001b[1;31m---------------------------------------------------------------------------\u001b[0m",
      "\u001b[1;31mValueError\u001b[0m                                Traceback (most recent call last)",
      "Cell \u001b[1;32mIn[48], line 1\u001b[0m\n\u001b[1;32m----> 1\u001b[0m a,b\u001b[38;5;241m=\u001b[39ml1\n",
      "\u001b[1;31mValueError\u001b[0m: too many values to unpack (expected 2)"
     ]
    }
   ],
   "source": [
    "a,b=l1"
   ]
  },
  {
   "cell_type": "code",
   "execution_count": 49,
   "id": "e08ea4e3-173b-49db-9db4-e070b090e242",
   "metadata": {},
   "outputs": [
    {
     "ename": "ValueError",
     "evalue": "not enough values to unpack (expected 5, got 4)",
     "output_type": "error",
     "traceback": [
      "\u001b[1;31m---------------------------------------------------------------------------\u001b[0m",
      "\u001b[1;31mValueError\u001b[0m                                Traceback (most recent call last)",
      "Cell \u001b[1;32mIn[49], line 1\u001b[0m\n\u001b[1;32m----> 1\u001b[0m a,b,c,d,a\u001b[38;5;241m=\u001b[39ml1\n",
      "\u001b[1;31mValueError\u001b[0m: not enough values to unpack (expected 5, got 4)"
     ]
    }
   ],
   "source": [
    "a,b,c,d,a=l1"
   ]
  },
  {
   "cell_type": "code",
   "execution_count": 50,
   "id": "57a43d2a-c6e2-4aff-a0a7-f2d3ed54935d",
   "metadata": {},
   "outputs": [
    {
     "data": {
      "text/plain": [
       "['rohan', 'harsh', 'simran', 'rajat', 'deep']"
      ]
     },
     "execution_count": 50,
     "metadata": {},
     "output_type": "execute_result"
    }
   ],
   "source": [
    "names"
   ]
  },
  {
   "cell_type": "code",
   "execution_count": 51,
   "id": "93562fb7-30d2-4e74-9650-8e40e1790d19",
   "metadata": {},
   "outputs": [
    {
     "data": {
      "text/plain": [
       "[23, 22, 21, 20]"
      ]
     },
     "execution_count": 51,
     "metadata": {},
     "output_type": "execute_result"
    }
   ],
   "source": [
    "ages"
   ]
  },
  {
   "cell_type": "code",
   "execution_count": 52,
   "id": "95609b64-8383-4c6a-8203-c4dd716d7b44",
   "metadata": {},
   "outputs": [
    {
     "data": {
      "text/plain": [
       "['jaipur', 'pune', 'alwar', 'mumbai']"
      ]
     },
     "execution_count": 52,
     "metadata": {},
     "output_type": "execute_result"
    }
   ],
   "source": [
    "addresses"
   ]
  },
  {
   "cell_type": "code",
   "execution_count": 53,
   "id": "19b8d73f-6516-47dc-9154-4091c77053a2",
   "metadata": {},
   "outputs": [
    {
     "name": "stdout",
     "output_type": "stream",
     "text": [
      "('rohan', 23, 'jaipur')\n",
      "('harsh', 22, 'pune')\n",
      "('simran', 21, 'alwar')\n",
      "('rajat', 20, 'mumbai')\n"
     ]
    }
   ],
   "source": [
    "for i in zip(names, ages, addresses):\n",
    "    print(i)"
   ]
  },
  {
   "cell_type": "code",
   "execution_count": 57,
   "id": "ae678795-e36b-4ff1-939c-be08804678d5",
   "metadata": {},
   "outputs": [
    {
     "name": "stdout",
     "output_type": "stream",
     "text": [
      "rohan\n",
      "23\n",
      "jaipur\n",
      "\n",
      "harsh\n",
      "22\n",
      "pune\n",
      "\n",
      "simran\n",
      "21\n",
      "alwar\n",
      "\n",
      "rajat\n",
      "20\n",
      "mumbai\n",
      "\n"
     ]
    }
   ],
   "source": [
    "for i in zip(names, ages, addresses):\n",
    "    name,age,address= i \n",
    "    print(name)\n",
    "    print(age)\n",
    "    print(address)\n",
    "    print()"
   ]
  },
  {
   "cell_type": "code",
   "execution_count": 58,
   "id": "ed121c4f-a723-488a-b0d2-95ae1c7cbbce",
   "metadata": {},
   "outputs": [
    {
     "name": "stdout",
     "output_type": "stream",
     "text": [
      "rohan 23 jaipur\n",
      "\n",
      "harsh 22 pune\n",
      "\n",
      "simran 21 alwar\n",
      "\n",
      "rajat 20 mumbai\n",
      "\n"
     ]
    }
   ],
   "source": [
    "for name,age,address in zip(names, ages, addresses): \n",
    "    print(name, age, address)\n",
    "    print()"
   ]
  },
  {
   "cell_type": "code",
   "execution_count": 61,
   "id": "25aae8a2-96bb-4b0d-90e7-67f63f4c332e",
   "metadata": {},
   "outputs": [
    {
     "data": {
      "text/plain": [
       "[10, 20, 30, 40]"
      ]
     },
     "execution_count": 61,
     "metadata": {},
     "output_type": "execute_result"
    }
   ],
   "source": [
    "l1"
   ]
  },
  {
   "cell_type": "code",
   "execution_count": 62,
   "id": "fa6e705e-57bf-4ab6-a687-9d1fc715a7f3",
   "metadata": {},
   "outputs": [
    {
     "data": {
      "text/plain": [
       "[100, 200, 300, 400]"
      ]
     },
     "execution_count": 62,
     "metadata": {},
     "output_type": "execute_result"
    }
   ],
   "source": [
    "l2"
   ]
  },
  {
   "cell_type": "code",
   "execution_count": 64,
   "id": "0d8b6e06-e194-4a15-8d34-30108135c5ef",
   "metadata": {},
   "outputs": [
    {
     "data": {
      "text/plain": [
       "<zip at 0x2052c8e8700>"
      ]
     },
     "execution_count": 64,
     "metadata": {},
     "output_type": "execute_result"
    }
   ],
   "source": [
    "zip(l1,l2)      # lazy evaluation, lazy function/object, memory not allocate"
   ]
  },
  {
   "cell_type": "code",
   "execution_count": null,
   "id": "befa4bba-fdd2-42ad-965c-1a1e8000a7ca",
   "metadata": {},
   "outputs": [],
   "source": []
  },
  {
   "cell_type": "markdown",
   "id": "00e22706-71af-48e3-957e-9b081ec2bffa",
   "metadata": {},
   "source": [
    "### Que:- What is lazy and eager evaluation"
   ]
  },
  {
   "cell_type": "code",
   "execution_count": null,
   "id": "4ff168bc-ff49-4ff0-907c-326f7c41400f",
   "metadata": {},
   "outputs": [],
   "source": []
  },
  {
   "cell_type": "code",
   "execution_count": 65,
   "id": "9e9ce647-8426-4391-a5c0-631e06eabf47",
   "metadata": {},
   "outputs": [
    {
     "data": {
      "text/plain": [
       "<zip at 0x2052cd42680>"
      ]
     },
     "execution_count": 65,
     "metadata": {},
     "output_type": "execute_result"
    }
   ],
   "source": [
    "obj=zip(l1,l2)\n",
    "obj"
   ]
  },
  {
   "cell_type": "code",
   "execution_count": 66,
   "id": "94f5612b-dd5b-44ac-b383-e7bfb59bb98e",
   "metadata": {},
   "outputs": [
    {
     "name": "stdout",
     "output_type": "stream",
     "text": [
      "(10, 100)\n",
      "(20, 200)\n",
      "(30, 300)\n",
      "(40, 400)\n"
     ]
    }
   ],
   "source": [
    "for  i in obj:\n",
    "    print(i)"
   ]
  },
  {
   "cell_type": "code",
   "execution_count": 68,
   "id": "3a63b554-ab00-4b14-aed0-dd31ce140268",
   "metadata": {},
   "outputs": [],
   "source": [
    "for  i in obj:         #obj is empty now\n",
    "    print(i)"
   ]
  },
  {
   "cell_type": "code",
   "execution_count": null,
   "id": "bdda88f8-d601-4f63-a087-58f11ad59bbc",
   "metadata": {},
   "outputs": [],
   "source": []
  },
  {
   "cell_type": "markdown",
   "id": "3b2ad433-7195-4bfe-828f-1f000ba0aa35",
   "metadata": {},
   "source": [
    "###### enumerate()"
   ]
  },
  {
   "cell_type": "code",
   "execution_count": 69,
   "id": "ef61463a-6704-4d9b-9e00-ee419bf5b5b0",
   "metadata": {},
   "outputs": [
    {
     "data": {
      "text/plain": [
       "<enumerate at 0x2052bf1e250>"
      ]
     },
     "execution_count": 69,
     "metadata": {},
     "output_type": "execute_result"
    }
   ],
   "source": [
    "enumerate([100,200,300,400])"
   ]
  },
  {
   "cell_type": "code",
   "execution_count": 70,
   "id": "ec6300dd-bcb8-4dde-8d9a-c8147139698f",
   "metadata": {},
   "outputs": [
    {
     "data": {
      "text/plain": [
       "[(0, 100), (1, 200), (2, 300), (3, 400)]"
      ]
     },
     "execution_count": 70,
     "metadata": {},
     "output_type": "execute_result"
    }
   ],
   "source": [
    "list(enumerate([100,200,300,400]))"
   ]
  },
  {
   "cell_type": "code",
   "execution_count": 71,
   "id": "3f6c10e5-ed7f-4937-b08b-e7fda32de025",
   "metadata": {},
   "outputs": [
    {
     "data": {
      "text/plain": [
       "<enumerate at 0x2052cd64810>"
      ]
     },
     "execution_count": 71,
     "metadata": {},
     "output_type": "execute_result"
    }
   ],
   "source": [
    "enumerate([100,200,300,400], start=10)"
   ]
  },
  {
   "cell_type": "code",
   "execution_count": 72,
   "id": "7a47f41f-0780-40df-b4a7-8c37b64a84e3",
   "metadata": {},
   "outputs": [
    {
     "data": {
      "text/plain": [
       "['rohan', 'harsh', 'simran', 'rajat', 'deep']"
      ]
     },
     "execution_count": 72,
     "metadata": {},
     "output_type": "execute_result"
    }
   ],
   "source": [
    "names"
   ]
  },
  {
   "cell_type": "code",
   "execution_count": 74,
   "id": "9a1b7007-ad34-42c6-898a-e5aca65a3650",
   "metadata": {},
   "outputs": [
    {
     "data": {
      "text/plain": [
       "['deep', 'harsh', 'rajat', 'rohan', 'simran']"
      ]
     },
     "execution_count": 74,
     "metadata": {},
     "output_type": "execute_result"
    }
   ],
   "source": [
    "names.sort()\n",
    "names"
   ]
  },
  {
   "cell_type": "code",
   "execution_count": 75,
   "id": "6e8724cb-2043-4d05-953d-6dbb2c010080",
   "metadata": {},
   "outputs": [
    {
     "name": "stdout",
     "output_type": "stream",
     "text": [
      "1 : deep\n",
      "2 : harsh\n",
      "3 : rajat\n",
      "4 : rohan\n",
      "5 : simran\n"
     ]
    }
   ],
   "source": [
    "for roll_no, name in enumerate(names, start=1):\n",
    "    print(f\"{roll_no} : {name}\")"
   ]
  },
  {
   "cell_type": "code",
   "execution_count": 78,
   "id": "117557b3-6a07-41c6-b7a9-ffae2982a656",
   "metadata": {},
   "outputs": [
    {
     "data": {
      "text/plain": [
       "[10, 20, 30, 40, 50]"
      ]
     },
     "execution_count": 78,
     "metadata": {},
     "output_type": "execute_result"
    }
   ],
   "source": [
    "ls=[10,20,30,40,50]\n",
    "ls"
   ]
  },
  {
   "cell_type": "markdown",
   "id": "6c751ae0-e929-4b23-82f1-addd9aed464a",
   "metadata": {},
   "source": [
    "### Que:-\n",
    "        for ls[-1] in ls:\n",
    "            pass\n",
    "        else:\n",
    "            print(ls)"
   ]
  },
  {
   "cell_type": "code",
   "execution_count": null,
   "id": "f1eade7c-5306-411f-a688-e9d62c473d15",
   "metadata": {},
   "outputs": [],
   "source": []
  },
  {
   "cell_type": "code",
   "execution_count": null,
   "id": "254c4985-3e71-4c3c-b9c8-82ca2b872970",
   "metadata": {},
   "outputs": [],
   "source": []
  },
  {
   "cell_type": "markdown",
   "id": "1435593f-826d-4401-9298-bac27670a6a1",
   "metadata": {},
   "source": [
    "### List Comprehension\n",
    "                        Synatx:- [expression for var in iterable]"
   ]
  },
  {
   "cell_type": "code",
   "execution_count": 80,
   "id": "7677c091-9a6f-4f82-9b31-bf4de6cd71c3",
   "metadata": {},
   "outputs": [
    {
     "name": "stdout",
     "output_type": "stream",
     "text": [
      "['append', 'clear', 'copy', 'count', 'extend', 'index', 'insert', 'pop', 'remove', 'reverse', 'sort']\n"
     ]
    }
   ],
   "source": [
    "print([i for i in dir(list) if not i.startswith('__')])"
   ]
  },
  {
   "cell_type": "code",
   "execution_count": 81,
   "id": "35e765d0-1527-41ab-9a4b-df4ff93509a6",
   "metadata": {},
   "outputs": [
    {
     "data": {
      "text/plain": [
       "[0, 1, 2, 3, 4]"
      ]
     },
     "execution_count": 81,
     "metadata": {},
     "output_type": "execute_result"
    }
   ],
   "source": [
    "[i for i in range(5)]"
   ]
  },
  {
   "cell_type": "code",
   "execution_count": 82,
   "id": "59667e33-ee5e-40a7-b872-dad5f6920e6f",
   "metadata": {},
   "outputs": [
    {
     "data": {
      "text/plain": [
       "['deep', 'harsh', 'rajat', 'rohan', 'simran']"
      ]
     },
     "execution_count": 82,
     "metadata": {},
     "output_type": "execute_result"
    }
   ],
   "source": [
    "names"
   ]
  },
  {
   "cell_type": "code",
   "execution_count": 83,
   "id": "442ac3fc-3ec4-4f1d-be72-bf2cd38f57c4",
   "metadata": {},
   "outputs": [
    {
     "data": {
      "text/plain": [
       "['deep', 'harsh', 'rajat', 'rohan', 'simran']"
      ]
     },
     "execution_count": 83,
     "metadata": {},
     "output_type": "execute_result"
    }
   ],
   "source": [
    "[i for i in names]"
   ]
  },
  {
   "cell_type": "code",
   "execution_count": 84,
   "id": "a350056b-9611-4902-8cbf-7ae46a0a4b55",
   "metadata": {},
   "outputs": [
    {
     "data": {
      "text/plain": [
       "[1, 4, 9, 16, 25]"
      ]
     },
     "execution_count": 84,
     "metadata": {},
     "output_type": "execute_result"
    }
   ],
   "source": [
    "[i**2 for i in range(1,6)]"
   ]
  },
  {
   "cell_type": "code",
   "execution_count": 86,
   "id": "495631b1-9b0d-4971-98b0-aded91583068",
   "metadata": {},
   "outputs": [
    {
     "data": {
      "text/plain": [
       "[1, 2, 3, 4]"
      ]
     },
     "execution_count": 86,
     "metadata": {},
     "output_type": "execute_result"
    }
   ],
   "source": [
    "l=['1','2','3','4']\n",
    "[int(i) for i in l]"
   ]
  },
  {
   "cell_type": "code",
   "execution_count": 87,
   "id": "22e340bc-d1ae-4b2d-adef-a8f8164c9612",
   "metadata": {},
   "outputs": [
    {
     "name": "stdin",
     "output_type": "stream",
     "text": [
      "Enter number:  2\n",
      " Deep\n",
      " jaydeep\n"
     ]
    },
    {
     "data": {
      "text/plain": [
       "['Deep', 'jaydeep']"
      ]
     },
     "execution_count": 87,
     "metadata": {},
     "output_type": "execute_result"
    }
   ],
   "source": [
    "names=[input() for i in range(int(input('Enter number: ')))]\n",
    "names"
   ]
  },
  {
   "cell_type": "code",
   "execution_count": null,
   "id": "4765fe29-b11c-4d31-8cde-9e90c9f09e7b",
   "metadata": {},
   "outputs": [],
   "source": []
  },
  {
   "cell_type": "code",
   "execution_count": 88,
   "id": "dfb0aa28-dbc2-49ed-80c4-5f933d3acb8c",
   "metadata": {},
   "outputs": [
    {
     "data": {
      "text/plain": [
       "[23, 56, 78, 89, 34, 87, 32, 87, 23, 78]"
      ]
     },
     "execution_count": 88,
     "metadata": {},
     "output_type": "execute_result"
    }
   ],
   "source": [
    "lst=[23,56,78,89,34,87,32,87,23,78]\n",
    "lst"
   ]
  },
  {
   "cell_type": "code",
   "execution_count": 89,
   "id": "b2d0cbb5-539c-4ec3-b25e-db71fb1a8771",
   "metadata": {},
   "outputs": [
    {
     "data": {
      "text/plain": [
       "[23, 56, 78, 89, 34, 87, 32, 87, 23, 78]"
      ]
     },
     "execution_count": 89,
     "metadata": {},
     "output_type": "execute_result"
    }
   ],
   "source": [
    "[i for i in lst]"
   ]
  },
  {
   "cell_type": "code",
   "execution_count": 90,
   "id": "9f77cd21-82f8-4229-9232-4ea597d15f68",
   "metadata": {},
   "outputs": [
    {
     "data": {
      "text/plain": [
       "[56, 78, 89, 87, 87, 78]"
      ]
     },
     "execution_count": 90,
     "metadata": {},
     "output_type": "execute_result"
    }
   ],
   "source": [
    "[i for i in lst if i>50]"
   ]
  },
  {
   "cell_type": "code",
   "execution_count": 91,
   "id": "f0090409-f869-4899-b560-61d02a581d0b",
   "metadata": {},
   "outputs": [
    {
     "data": {
      "text/plain": [
       "[56, 78, 34, 32, 78]"
      ]
     },
     "execution_count": 91,
     "metadata": {},
     "output_type": "execute_result"
    }
   ],
   "source": [
    "[i for i in lst if i%2==0]"
   ]
  },
  {
   "cell_type": "code",
   "execution_count": 92,
   "id": "e372eabf-8e61-49b2-8f48-3b7671289ce5",
   "metadata": {},
   "outputs": [
    {
     "name": "stdout",
     "output_type": "stream",
     "text": [
      "['__add__', '__class__', '__class_getitem__', '__contains__', '__delattr__', '__delitem__', '__dir__', '__doc__', '__eq__', '__format__', '__ge__', '__getattribute__', '__getitem__', '__getstate__', '__gt__', '__hash__', '__iadd__', '__imul__', '__init__', '__init_subclass__', '__iter__', '__le__', '__len__', '__lt__', '__mul__', '__ne__', '__new__', '__reduce__', '__reduce_ex__', '__repr__', '__reversed__', '__rmul__', '__setattr__', '__setitem__', '__sizeof__', '__str__', '__subclasshook__', 'append', 'clear', 'copy', 'count', 'extend', 'index', 'insert', 'pop', 'remove', 'reverse', 'sort']\n"
     ]
    }
   ],
   "source": [
    "print(dir(list))"
   ]
  },
  {
   "cell_type": "code",
   "execution_count": 93,
   "id": "3c91fa3b-6a56-4ee0-b7f6-c863063b4634",
   "metadata": {},
   "outputs": [
    {
     "name": "stdout",
     "output_type": "stream",
     "text": [
      "['append', 'clear', 'copy', 'count', 'extend', 'index', 'insert', 'pop', 'remove', 'reverse', 'sort']\n"
     ]
    }
   ],
   "source": [
    "print([i for i in dir(list) if not i.startswith('__')])"
   ]
  },
  {
   "cell_type": "code",
   "execution_count": null,
   "id": "ab28f875-1419-4e55-b96d-0fde467cd320",
   "metadata": {},
   "outputs": [],
   "source": []
  }
 ],
 "metadata": {
  "kernelspec": {
   "display_name": "Python 3 (ipykernel)",
   "language": "python",
   "name": "python3"
  },
  "language_info": {
   "codemirror_mode": {
    "name": "ipython",
    "version": 3
   },
   "file_extension": ".py",
   "mimetype": "text/x-python",
   "name": "python",
   "nbconvert_exporter": "python",
   "pygments_lexer": "ipython3",
   "version": "3.11.3"
  }
 },
 "nbformat": 4,
 "nbformat_minor": 5
}
