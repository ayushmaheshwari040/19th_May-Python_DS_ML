{
 "cells": [
  {
   "cell_type": "markdown",
   "id": "f38c5282-b30c-4d1c-8c4d-7446dc329d23",
   "metadata": {},
   "source": [
    "##### **3. Keyword Argument**"
   ]
  },
  {
   "cell_type": "code",
   "execution_count": null,
   "id": "a7f1cbdc-7f7a-4a30-a426-fec38c80563f",
   "metadata": {},
   "outputs": [],
   "source": []
  },
  {
   "cell_type": "code",
   "execution_count": 1,
   "id": "0d7c2e20-1a14-47d9-ab79-de39d0d3ea22",
   "metadata": {},
   "outputs": [],
   "source": [
    "def user_details(name,age,address):\n",
    "    print(f\"User_name: {name}\")\n",
    "    print(f\"User_age: {age}\")\n",
    "    print(f\"User_address: {address}\")"
   ]
  },
  {
   "cell_type": "code",
   "execution_count": 2,
   "id": "c035fd72-4566-4e45-8890-c4eb1c7d64b4",
   "metadata": {},
   "outputs": [
    {
     "name": "stdout",
     "output_type": "stream",
     "text": [
      "User_name: rohan\n",
      "User_age: 23\n",
      "User_address: jaipur\n"
     ]
    }
   ],
   "source": [
    "user_details('rohan', 23, 'jaipur')"
   ]
  },
  {
   "cell_type": "code",
   "execution_count": 3,
   "id": "d85ead73-ba09-4fbb-9fba-887dad29ea46",
   "metadata": {},
   "outputs": [
    {
     "name": "stdout",
     "output_type": "stream",
     "text": [
      "User_name: jaipur\n",
      "User_age: 23\n",
      "User_address: aman\n"
     ]
    }
   ],
   "source": [
    "user_details('jaipur', 23, 'aman')"
   ]
  },
  {
   "cell_type": "code",
   "execution_count": 4,
   "id": "fecf4c28-3888-4719-9d07-711eb09b24d6",
   "metadata": {},
   "outputs": [
    {
     "name": "stdout",
     "output_type": "stream",
     "text": [
      "User_name: aman\n",
      "User_age: 23\n",
      "User_address: jaipur\n"
     ]
    }
   ],
   "source": [
    "user_details(name='aman', address='jaipur', age=23)"
   ]
  },
  {
   "cell_type": "code",
   "execution_count": 5,
   "id": "0751279c-0900-458a-b07a-cfda1442a383",
   "metadata": {},
   "outputs": [
    {
     "name": "stdout",
     "output_type": "stream",
     "text": [
      "User_name: sachin\n",
      "User_age: 23\n",
      "User_address: jaipur\n"
     ]
    }
   ],
   "source": [
    "user_details('sachin', address='jaipur', age=23)"
   ]
  },
  {
   "cell_type": "code",
   "execution_count": 6,
   "id": "0fd53053-ffbb-4964-a016-192217363230",
   "metadata": {},
   "outputs": [
    {
     "ename": "SyntaxError",
     "evalue": "positional argument follows keyword argument (194344930.py, line 1)",
     "output_type": "error",
     "traceback": [
      "\u001b[1;36m  Cell \u001b[1;32mIn[6], line 1\u001b[1;36m\u001b[0m\n\u001b[1;33m    user_details('sachin', address='jaipur', 23)\u001b[0m\n\u001b[1;37m                                               ^\u001b[0m\n\u001b[1;31mSyntaxError\u001b[0m\u001b[1;31m:\u001b[0m positional argument follows keyword argument\n"
     ]
    }
   ],
   "source": [
    "user_details('sachin', address='jaipur', 23)"
   ]
  },
  {
   "cell_type": "code",
   "execution_count": 7,
   "id": "4cfe9744-0e3c-4937-a844-30e22216a5eb",
   "metadata": {},
   "outputs": [
    {
     "ename": "TypeError",
     "evalue": "user_details() got multiple values for argument 'name'",
     "output_type": "error",
     "traceback": [
      "\u001b[1;31m---------------------------------------------------------------------------\u001b[0m",
      "\u001b[1;31mTypeError\u001b[0m                                 Traceback (most recent call last)",
      "Cell \u001b[1;32mIn[7], line 1\u001b[0m\n\u001b[1;32m----> 1\u001b[0m \u001b[43muser_details\u001b[49m\u001b[43m(\u001b[49m\u001b[38;5;124;43m'\u001b[39;49m\u001b[38;5;124;43msachin\u001b[39;49m\u001b[38;5;124;43m'\u001b[39;49m\u001b[43m,\u001b[49m\u001b[43m \u001b[49m\u001b[43mname\u001b[49m\u001b[38;5;241;43m=\u001b[39;49m\u001b[38;5;124;43m'\u001b[39;49m\u001b[38;5;124;43mrohan\u001b[39;49m\u001b[38;5;124;43m'\u001b[39;49m\u001b[43m,\u001b[49m\u001b[43m \u001b[49m\u001b[43maddress\u001b[49m\u001b[38;5;241;43m=\u001b[39;49m\u001b[38;5;124;43m'\u001b[39;49m\u001b[38;5;124;43mjaipur\u001b[39;49m\u001b[38;5;124;43m'\u001b[39;49m\u001b[43m,\u001b[49m\u001b[43m \u001b[49m\u001b[43mage\u001b[49m\u001b[38;5;241;43m=\u001b[39;49m\u001b[38;5;241;43m23\u001b[39;49m\u001b[43m)\u001b[49m\n",
      "\u001b[1;31mTypeError\u001b[0m: user_details() got multiple values for argument 'name'"
     ]
    }
   ],
   "source": [
    "user_details('sachin', name='rohan', address='jaipur', age=23)"
   ]
  },
  {
   "cell_type": "code",
   "execution_count": null,
   "id": "2ce65546-4f87-4917-a7d0-17fd9fa18337",
   "metadata": {},
   "outputs": [],
   "source": []
  },
  {
   "cell_type": "markdown",
   "id": "7d2c0e10-5f20-474e-96e6-87796d714f47",
   "metadata": {},
   "source": [
    "##### **4. Variable length argument**\n",
    "\n",
    "                    *var"
   ]
  },
  {
   "cell_type": "code",
   "execution_count": null,
   "id": "25905110-0271-4ef6-81e0-88d6276dd45e",
   "metadata": {},
   "outputs": [],
   "source": []
  },
  {
   "cell_type": "code",
   "execution_count": 8,
   "id": "f093d324-b336-40c2-8cd4-a83ef6dc85e0",
   "metadata": {},
   "outputs": [],
   "source": [
    "def addition(a,b):\n",
    "    return a + b"
   ]
  },
  {
   "cell_type": "code",
   "execution_count": 9,
   "id": "bed00257-37d5-4210-94b7-e3dfe239decc",
   "metadata": {},
   "outputs": [
    {
     "data": {
      "text/plain": [
       "7"
      ]
     },
     "execution_count": 9,
     "metadata": {},
     "output_type": "execute_result"
    }
   ],
   "source": [
    "addition(3,4)"
   ]
  },
  {
   "cell_type": "code",
   "execution_count": null,
   "id": "9c7050e5-268a-4156-85bf-43db0b299e33",
   "metadata": {},
   "outputs": [],
   "source": []
  },
  {
   "cell_type": "code",
   "execution_count": 10,
   "id": "b4498ccc-deb3-483c-b4f0-046720de6a80",
   "metadata": {},
   "outputs": [],
   "source": [
    "def addition(*var):\n",
    "    print(sum(var))"
   ]
  },
  {
   "cell_type": "code",
   "execution_count": 11,
   "id": "312199ce-c6ba-4529-958c-7ff8997414ad",
   "metadata": {},
   "outputs": [
    {
     "name": "stdout",
     "output_type": "stream",
     "text": [
      "55\n"
     ]
    }
   ],
   "source": [
    "addition(1,2,3,4,5,6,7,8,9,10)"
   ]
  },
  {
   "cell_type": "code",
   "execution_count": null,
   "id": "d47ef6a1-3563-437a-a1c2-01d42c631cb6",
   "metadata": {},
   "outputs": [],
   "source": []
  },
  {
   "cell_type": "code",
   "execution_count": 12,
   "id": "2aca4135-65ab-4090-998b-35b401f52485",
   "metadata": {},
   "outputs": [
    {
     "name": "stdout",
     "output_type": "stream",
     "text": [
      "1 2 3 4 5 6 7 8 9 10\n"
     ]
    }
   ],
   "source": [
    "print(1,2,3,4,5,6,7,8,9,10)"
   ]
  },
  {
   "cell_type": "code",
   "execution_count": null,
   "id": "1f2374e5-f738-44b6-b88c-1e627531c48a",
   "metadata": {},
   "outputs": [],
   "source": []
  },
  {
   "cell_type": "code",
   "execution_count": 13,
   "id": "c352d8af-e5c7-40c5-a4be-942cd5246465",
   "metadata": {},
   "outputs": [],
   "source": [
    "def fun(a,b,c=34,*var):\n",
    "    print(a)\n",
    "    print(b)\n",
    "    print(c)\n",
    "    print(var)"
   ]
  },
  {
   "cell_type": "code",
   "execution_count": 14,
   "id": "6de7655c-0cba-484a-bb1a-844f12fff5ce",
   "metadata": {},
   "outputs": [
    {
     "name": "stdout",
     "output_type": "stream",
     "text": [
      "10\n",
      "20\n",
      "30\n",
      "(40, 50, 60)\n"
     ]
    }
   ],
   "source": [
    "fun(10,20,30,40,50,60)"
   ]
  },
  {
   "cell_type": "code",
   "execution_count": 15,
   "id": "ab3d09a8-3a7f-465d-89d7-4ff422514bcf",
   "metadata": {},
   "outputs": [
    {
     "ename": "TypeError",
     "evalue": "fun() missing 1 required positional argument: 'b'",
     "output_type": "error",
     "traceback": [
      "\u001b[1;31m---------------------------------------------------------------------------\u001b[0m",
      "\u001b[1;31mTypeError\u001b[0m                                 Traceback (most recent call last)",
      "Cell \u001b[1;32mIn[15], line 1\u001b[0m\n\u001b[1;32m----> 1\u001b[0m \u001b[43mfun\u001b[49m\u001b[43m(\u001b[49m\u001b[38;5;241;43m10\u001b[39;49m\u001b[43m)\u001b[49m\n",
      "\u001b[1;31mTypeError\u001b[0m: fun() missing 1 required positional argument: 'b'"
     ]
    }
   ],
   "source": [
    "fun(10)"
   ]
  },
  {
   "cell_type": "code",
   "execution_count": 16,
   "id": "4bff8e29-2af1-439e-af80-bcf764d26e61",
   "metadata": {},
   "outputs": [
    {
     "name": "stdout",
     "output_type": "stream",
     "text": [
      "10\n",
      "20\n",
      "34\n",
      "()\n"
     ]
    }
   ],
   "source": [
    "fun(10,20)"
   ]
  },
  {
   "cell_type": "code",
   "execution_count": 17,
   "id": "39bf88d2-59dd-48c2-a9dd-11f90a0889d4",
   "metadata": {},
   "outputs": [],
   "source": [
    "def fun(*var):\n",
    "    for i in var:\n",
    "        if i % 2 == 0:\n",
    "            print(i)"
   ]
  },
  {
   "cell_type": "code",
   "execution_count": 18,
   "id": "8a1c2fb6-8000-4822-8029-5bd8e7a6e885",
   "metadata": {},
   "outputs": [
    {
     "name": "stdout",
     "output_type": "stream",
     "text": [
      "2\n",
      "4\n",
      "6\n",
      "8\n",
      "10\n"
     ]
    }
   ],
   "source": [
    "fun(1,2,3,4,5,6,7,8,9,10)"
   ]
  },
  {
   "cell_type": "code",
   "execution_count": null,
   "id": "bbd048e0-e986-47bc-9488-001f23623c11",
   "metadata": {},
   "outputs": [],
   "source": []
  },
  {
   "cell_type": "markdown",
   "id": "1aad9055-40d9-42e4-ad9b-ca2d5a4ed83e",
   "metadata": {},
   "source": [
    "##### **5. Keyword variable length argument**\n",
    "\n",
    "            **var"
   ]
  },
  {
   "cell_type": "code",
   "execution_count": 19,
   "id": "88431531-80b7-4846-bc8e-3f85a1855891",
   "metadata": {},
   "outputs": [],
   "source": [
    "def fun(**kwargs):\n",
    "    print(kwargs)"
   ]
  },
  {
   "cell_type": "code",
   "execution_count": 20,
   "id": "f86f1ed0-05ed-48b5-af54-512bea73809b",
   "metadata": {},
   "outputs": [
    {
     "name": "stdout",
     "output_type": "stream",
     "text": [
      "{'name': 'rajat', 'age': 24, 'address': 'jaipur'}\n"
     ]
    }
   ],
   "source": [
    "fun(name='rajat', age=24, address='jaipur')"
   ]
  },
  {
   "cell_type": "code",
   "execution_count": null,
   "id": "00e3ab93-f30f-4cbc-95fe-9becc719807c",
   "metadata": {},
   "outputs": [],
   "source": []
  },
  {
   "cell_type": "code",
   "execution_count": 21,
   "id": "ba74ec1e-2821-4dc0-9c17-f1fc87ae1925",
   "metadata": {},
   "outputs": [],
   "source": [
    "def final_func(required, default=50, *var, **kwargs):\n",
    "    print(f\"Required/Positional Argument: {required}\")\n",
    "    print(f\"Default Argument: {default}\")\n",
    "    print(f\"Variable length argument: {var}\")\n",
    "    print(f\"Keyword Variable length argument: {kwargs}\")"
   ]
  },
  {
   "cell_type": "code",
   "execution_count": 22,
   "id": "773eaa17-6588-4bed-852b-8eeb243e9988",
   "metadata": {
    "scrolled": true
   },
   "outputs": [
    {
     "name": "stdout",
     "output_type": "stream",
     "text": [
      "Required/Positional Argument: 50\n",
      "Default Argument: [10, 20, 30]\n",
      "Variable length argument: ('aman', 'rohan', 'sachin')\n",
      "Keyword Variable length argument: {'marks': [44, 43, 54]}\n"
     ]
    }
   ],
   "source": [
    "final_func(50,[10,20,30],'aman','rohan','sachin',marks=[44,43,54])"
   ]
  },
  {
   "cell_type": "code",
   "execution_count": null,
   "id": "6c331a17-c60e-48d2-9597-8c6d0921de34",
   "metadata": {},
   "outputs": [],
   "source": []
  },
  {
   "cell_type": "code",
   "execution_count": null,
   "id": "4ddefbde-4e8b-469b-97f7-72b35ae6363d",
   "metadata": {},
   "outputs": [],
   "source": []
  },
  {
   "cell_type": "markdown",
   "id": "412461cb-3bb6-41ca-aa8b-c36a9a9a70c9",
   "metadata": {},
   "source": [
    "# Namespaces"
   ]
  },
  {
   "cell_type": "code",
   "execution_count": null,
   "id": "9d7392b9-0daf-45b2-af35-4cbc6fc59b52",
   "metadata": {},
   "outputs": [],
   "source": []
  },
  {
   "cell_type": "code",
   "execution_count": 23,
   "id": "07ca8654-3139-431d-b898-cbbba2ccef68",
   "metadata": {},
   "outputs": [
    {
     "name": "stdout",
     "output_type": "stream",
     "text": [
      "Before x: 100\n",
      "200\n",
      "After x: 100\n"
     ]
    }
   ],
   "source": [
    "x = 100        # global variable\n",
    "\n",
    "def fun():\n",
    "    x = 200          # local variable\n",
    "    print(x)\n",
    "\n",
    "print(f\"Before x: {x}\")\n",
    "fun()\n",
    "print(f\"After x: {x}\")"
   ]
  },
  {
   "cell_type": "code",
   "execution_count": null,
   "id": "04bcfd02-003f-41bf-b3f9-fca541100c72",
   "metadata": {},
   "outputs": [],
   "source": []
  },
  {
   "cell_type": "code",
   "execution_count": 24,
   "id": "ccf3e6f3-f4c4-4f3a-a530-dc338c797d73",
   "metadata": {},
   "outputs": [],
   "source": [
    "a = 100"
   ]
  },
  {
   "cell_type": "code",
   "execution_count": 25,
   "id": "3a98f350-89db-4768-b132-40f5ef45226b",
   "metadata": {},
   "outputs": [
    {
     "data": {
      "text/plain": [
       "100"
      ]
     },
     "execution_count": 25,
     "metadata": {},
     "output_type": "execute_result"
    }
   ],
   "source": [
    "a"
   ]
  },
  {
   "cell_type": "code",
   "execution_count": 26,
   "id": "61570890-45db-460c-bcb7-61d19ab1d745",
   "metadata": {},
   "outputs": [],
   "source": [
    "a = 200"
   ]
  },
  {
   "cell_type": "code",
   "execution_count": 27,
   "id": "77831052-f49d-4c32-b4f1-dc96dd183491",
   "metadata": {},
   "outputs": [
    {
     "data": {
      "text/plain": [
       "200"
      ]
     },
     "execution_count": 27,
     "metadata": {},
     "output_type": "execute_result"
    }
   ],
   "source": [
    "a"
   ]
  },
  {
   "cell_type": "code",
   "execution_count": null,
   "id": "1f723cd9-adce-4a6f-8f90-75a27119a568",
   "metadata": {},
   "outputs": [],
   "source": []
  },
  {
   "cell_type": "code",
   "execution_count": null,
   "id": "02326a71-6070-4485-aae8-52bcf988121b",
   "metadata": {},
   "outputs": [],
   "source": []
  },
  {
   "cell_type": "markdown",
   "id": "92ff3955-8005-43c8-aa93-64ef8afada5a",
   "metadata": {},
   "source": [
    "### Global variable\n",
    "                        variable declared outside function are called global variables.\n",
    "                        we can access global variable anywhere in the program.\n",
    "### Local variable\n",
    "                    Variable declared inside functions are called local variables.\n",
    "                    local variable can access only inside functions/local space."
   ]
  },
  {
   "cell_type": "code",
   "execution_count": null,
   "id": "45554e1a-0658-4a81-a61e-e08b87107877",
   "metadata": {},
   "outputs": [],
   "source": []
  },
  {
   "cell_type": "code",
   "execution_count": 28,
   "id": "76e6bd06-3de6-4696-81a8-68d40c35003b",
   "metadata": {},
   "outputs": [
    {
     "name": "stdout",
     "output_type": "stream",
     "text": [
      "Before x: 100\n",
      "100\n",
      "After x: 100\n"
     ]
    }
   ],
   "source": [
    "x = 100        # global variable\n",
    "\n",
    "def fun():\n",
    "    print(x)\n",
    "\n",
    "print(f\"Before x: {x}\")\n",
    "fun()\n",
    "print(f\"After x: {x}\")"
   ]
  },
  {
   "cell_type": "code",
   "execution_count": null,
   "id": "2730b7ed-469c-438c-a59f-7dda7adb8040",
   "metadata": {},
   "outputs": [],
   "source": []
  },
  {
   "cell_type": "code",
   "execution_count": 29,
   "id": "26610401-0629-4c73-8968-7cf6d5b083a3",
   "metadata": {},
   "outputs": [
    {
     "name": "stdout",
     "output_type": "stream",
     "text": [
      "Before x: 100\n",
      "300\n",
      "After x: 100\n"
     ]
    }
   ],
   "source": [
    "x = 100        # global variable\n",
    "\n",
    "def fun():\n",
    "    print(x+200)\n",
    "\n",
    "print(f\"Before x: {x}\")\n",
    "fun()\n",
    "print(f\"After x: {x}\")"
   ]
  },
  {
   "cell_type": "code",
   "execution_count": null,
   "id": "7469a460-923a-4e8d-868f-32a1d97d202f",
   "metadata": {},
   "outputs": [],
   "source": []
  },
  {
   "cell_type": "code",
   "execution_count": 30,
   "id": "c93eaf70-c6ac-4775-90f0-2009654b4dae",
   "metadata": {},
   "outputs": [
    {
     "name": "stdout",
     "output_type": "stream",
     "text": [
      "Before x: 100\n"
     ]
    },
    {
     "ename": "UnboundLocalError",
     "evalue": "cannot access local variable 'x' where it is not associated with a value",
     "output_type": "error",
     "traceback": [
      "\u001b[1;31m---------------------------------------------------------------------------\u001b[0m",
      "\u001b[1;31mUnboundLocalError\u001b[0m                         Traceback (most recent call last)",
      "Cell \u001b[1;32mIn[30], line 8\u001b[0m\n\u001b[0;32m      5\u001b[0m     \u001b[38;5;28mprint\u001b[39m(x)\n\u001b[0;32m      7\u001b[0m \u001b[38;5;28mprint\u001b[39m(\u001b[38;5;124mf\u001b[39m\u001b[38;5;124m\"\u001b[39m\u001b[38;5;124mBefore x: \u001b[39m\u001b[38;5;132;01m{\u001b[39;00mx\u001b[38;5;132;01m}\u001b[39;00m\u001b[38;5;124m\"\u001b[39m)\n\u001b[1;32m----> 8\u001b[0m \u001b[43mfun\u001b[49m\u001b[43m(\u001b[49m\u001b[43m)\u001b[49m\n\u001b[0;32m      9\u001b[0m \u001b[38;5;28mprint\u001b[39m(\u001b[38;5;124mf\u001b[39m\u001b[38;5;124m\"\u001b[39m\u001b[38;5;124mAfter x: \u001b[39m\u001b[38;5;132;01m{\u001b[39;00mx\u001b[38;5;132;01m}\u001b[39;00m\u001b[38;5;124m\"\u001b[39m)\n",
      "Cell \u001b[1;32mIn[30], line 4\u001b[0m, in \u001b[0;36mfun\u001b[1;34m()\u001b[0m\n\u001b[0;32m      3\u001b[0m \u001b[38;5;28;01mdef\u001b[39;00m \u001b[38;5;21mfun\u001b[39m():\n\u001b[1;32m----> 4\u001b[0m     x \u001b[38;5;241m=\u001b[39m \u001b[43mx\u001b[49m \u001b[38;5;241m+\u001b[39m \u001b[38;5;241m100\u001b[39m\n\u001b[0;32m      5\u001b[0m     \u001b[38;5;28mprint\u001b[39m(x)\n",
      "\u001b[1;31mUnboundLocalError\u001b[0m: cannot access local variable 'x' where it is not associated with a value"
     ]
    }
   ],
   "source": [
    "x = 100        # global variable\n",
    "\n",
    "def fun():\n",
    "    x = x + 100\n",
    "    print(x)\n",
    "\n",
    "print(f\"Before x: {x}\")\n",
    "fun()\n",
    "print(f\"After x: {x}\")"
   ]
  },
  {
   "cell_type": "code",
   "execution_count": null,
   "id": "64e3defc-49a0-41e7-8f96-049fdd244c91",
   "metadata": {},
   "outputs": [],
   "source": []
  },
  {
   "cell_type": "markdown",
   "id": "c8a7d507-6a5a-4303-9365-b7deaf580a99",
   "metadata": {},
   "source": [
    "### global keyword -> converts the local to global variable"
   ]
  },
  {
   "cell_type": "code",
   "execution_count": null,
   "id": "5df0128b-08d4-48d1-be9b-cacc4f6a64f7",
   "metadata": {},
   "outputs": [],
   "source": []
  },
  {
   "cell_type": "code",
   "execution_count": null,
   "id": "1c23b82c-bcc0-4208-84aa-16be0501dfd3",
   "metadata": {},
   "outputs": [],
   "source": []
  },
  {
   "cell_type": "code",
   "execution_count": 31,
   "id": "a4e89cfd-64e0-4f03-bd5d-db028fdc4240",
   "metadata": {},
   "outputs": [
    {
     "name": "stdout",
     "output_type": "stream",
     "text": [
      "Before x: 100\n",
      "200\n",
      "After x: 200\n"
     ]
    }
   ],
   "source": [
    "x = 100        # global variable\n",
    "\n",
    "def fun():\n",
    "    global x\n",
    "    x = x + 100\n",
    "    print(x)\n",
    "\n",
    "print(f\"Before x: {x}\")\n",
    "fun()\n",
    "print(f\"After x: {x}\")"
   ]
  },
  {
   "cell_type": "code",
   "execution_count": null,
   "id": "92e14cda-2503-4f5a-9565-3ebb24ddaa75",
   "metadata": {},
   "outputs": [],
   "source": []
  },
  {
   "cell_type": "code",
   "execution_count": 32,
   "id": "5c006102-0193-404e-ab01-8db4e60ac808",
   "metadata": {},
   "outputs": [
    {
     "name": "stdout",
     "output_type": "stream",
     "text": [
      "harsh\n"
     ]
    },
    {
     "ename": "UnboundLocalError",
     "evalue": "cannot access local variable 'name' where it is not associated with a value",
     "output_type": "error",
     "traceback": [
      "\u001b[1;31m---------------------------------------------------------------------------\u001b[0m",
      "\u001b[1;31mUnboundLocalError\u001b[0m                         Traceback (most recent call last)",
      "Cell \u001b[1;32mIn[32], line 8\u001b[0m\n\u001b[0;32m      5\u001b[0m     \u001b[38;5;28mprint\u001b[39m(name)\n\u001b[0;32m      7\u001b[0m \u001b[38;5;28mprint\u001b[39m(name)\n\u001b[1;32m----> 8\u001b[0m \u001b[43mfun\u001b[49m\u001b[43m(\u001b[49m\u001b[43m)\u001b[49m\n\u001b[0;32m      9\u001b[0m \u001b[38;5;28mprint\u001b[39m(name)\n",
      "Cell \u001b[1;32mIn[32], line 4\u001b[0m, in \u001b[0;36mfun\u001b[1;34m()\u001b[0m\n\u001b[0;32m      3\u001b[0m \u001b[38;5;28;01mdef\u001b[39;00m \u001b[38;5;21mfun\u001b[39m():\n\u001b[1;32m----> 4\u001b[0m     name \u001b[38;5;241m=\u001b[39m \u001b[43mname\u001b[49m\n\u001b[0;32m      5\u001b[0m     \u001b[38;5;28mprint\u001b[39m(name)\n",
      "\u001b[1;31mUnboundLocalError\u001b[0m: cannot access local variable 'name' where it is not associated with a value"
     ]
    }
   ],
   "source": [
    "name = 'harsh'\n",
    "\n",
    "def fun():\n",
    "    name = name\n",
    "    print(name)\n",
    "\n",
    "print(name)\n",
    "fun()\n",
    "print(name)"
   ]
  },
  {
   "cell_type": "code",
   "execution_count": null,
   "id": "01087449-9dd9-4382-befd-f5a393cb0efb",
   "metadata": {},
   "outputs": [],
   "source": []
  },
  {
   "cell_type": "code",
   "execution_count": 33,
   "id": "8955e921-6769-426e-aea5-cbd22121acdf",
   "metadata": {},
   "outputs": [
    {
     "name": "stdout",
     "output_type": "stream",
     "text": [
      "sachin\n"
     ]
    },
    {
     "ename": "UnboundLocalError",
     "evalue": "cannot access local variable 'name' where it is not associated with a value",
     "output_type": "error",
     "traceback": [
      "\u001b[1;31m---------------------------------------------------------------------------\u001b[0m",
      "\u001b[1;31mUnboundLocalError\u001b[0m                         Traceback (most recent call last)",
      "Cell \u001b[1;32mIn[33], line 8\u001b[0m\n\u001b[0;32m      5\u001b[0m     \u001b[38;5;28mprint\u001b[39m(name)\n\u001b[0;32m      7\u001b[0m \u001b[38;5;28mprint\u001b[39m(name)\n\u001b[1;32m----> 8\u001b[0m \u001b[43mfunc\u001b[49m\u001b[43m(\u001b[49m\u001b[43m)\u001b[49m\n\u001b[0;32m      9\u001b[0m \u001b[38;5;28mprint\u001b[39m(name)\n",
      "Cell \u001b[1;32mIn[33], line 4\u001b[0m, in \u001b[0;36mfunc\u001b[1;34m()\u001b[0m\n\u001b[0;32m      3\u001b[0m \u001b[38;5;28;01mdef\u001b[39;00m \u001b[38;5;21mfunc\u001b[39m():\n\u001b[1;32m----> 4\u001b[0m     name \u001b[38;5;241m=\u001b[39m \u001b[43mname\u001b[49m[::\u001b[38;5;241m-\u001b[39m\u001b[38;5;241m1\u001b[39m]\n\u001b[0;32m      5\u001b[0m     \u001b[38;5;28mprint\u001b[39m(name)\n",
      "\u001b[1;31mUnboundLocalError\u001b[0m: cannot access local variable 'name' where it is not associated with a value"
     ]
    }
   ],
   "source": [
    "name = 'sachin'\n",
    "\n",
    "def func():\n",
    "    name = name[::-1]\n",
    "    print(name)\n",
    "\n",
    "print(name)\n",
    "func()\n",
    "print(name)"
   ]
  },
  {
   "cell_type": "code",
   "execution_count": null,
   "id": "21a1abcb-ba6f-4bc8-b44d-d7deb6eff358",
   "metadata": {},
   "outputs": [],
   "source": []
  },
  {
   "cell_type": "code",
   "execution_count": 34,
   "id": "0a7353b2-ba85-4926-9554-9d6790d3de0c",
   "metadata": {},
   "outputs": [
    {
     "name": "stdout",
     "output_type": "stream",
     "text": [
      "sachin\n",
      "nihcas\n",
      "nihcas\n"
     ]
    }
   ],
   "source": [
    "name = 'sachin'\n",
    "\n",
    "def func():\n",
    "    global name\n",
    "    name = name[::-1]\n",
    "    print(name)\n",
    "\n",
    "print(name)\n",
    "func()\n",
    "print(name)"
   ]
  },
  {
   "cell_type": "code",
   "execution_count": null,
   "id": "4c1d6668-91cf-4602-a28d-e4af3d95d330",
   "metadata": {},
   "outputs": [],
   "source": []
  },
  {
   "cell_type": "code",
   "execution_count": 35,
   "id": "7a889154-337d-4ff5-9945-38006f8f8fea",
   "metadata": {},
   "outputs": [
    {
     "data": {
      "text/plain": [
       "{'__name__': '__main__',\n",
       " '__doc__': 'Automatically created module for IPython interactive environment',\n",
       " '__package__': None,\n",
       " '__loader__': None,\n",
       " '__spec__': None,\n",
       " '__builtin__': <module 'builtins' (built-in)>,\n",
       " '__builtins__': <module 'builtins' (built-in)>,\n",
       " '_ih': ['',\n",
       "  'def user_details(name,age,address):\\n    print(f\"User_name: {name}\")\\n    print(f\"User_age: {age}\")\\n    print(f\"User_address: {address}\")',\n",
       "  \"user_details('rohan', 23, 'jaipur')\",\n",
       "  \"user_details('jaipur', 23, 'aman')\",\n",
       "  \"user_details(name='aman', address='jaipur', age=23)\",\n",
       "  \"user_details('sachin', address='jaipur', age=23)\",\n",
       "  \"user_details('sachin', address='jaipur', 23)\",\n",
       "  \"user_details('sachin', name='rohan', address='jaipur', age=23)\",\n",
       "  'def addition(a,b):\\n    return a + b',\n",
       "  'addition(3,4)',\n",
       "  'def addition(*var):\\n    print(sum(var))',\n",
       "  'addition(1,2,3,4,5,6,7,8,9,10)',\n",
       "  'print(1,2,3,4,5,6,7,8,9,10)',\n",
       "  'def fun(a,b,c=34,*var):\\n    print(a)\\n    print(b)\\n    print(c)\\n    print(var)',\n",
       "  'fun(10,20,30,40,50,60)',\n",
       "  'fun(10)',\n",
       "  'fun(10,20)',\n",
       "  'def fun(*var):\\n    for i in var:\\n        if i % 2 == 0:\\n            print(i)',\n",
       "  'fun(1,2,3,4,5,6,7,8,9,10)',\n",
       "  'def fun(**kwargs):\\n    print(kwargs)',\n",
       "  \"fun(name='rajat', age=24, address='jaipur')\",\n",
       "  'def final_func(required, default=50, *var, **kwargs):\\n    print(f\"Required/Positional Argument: {required}\")\\n    print(f\"Default Argument: {default}\")\\n    print(f\"Variable length argument: {var}\")\\n    print(f\"Keyword Variable length argument: {kwargs}\")',\n",
       "  \"final_func(50,[10,20,30],'aman','rohan','sachin',marks=[44,43,54])\",\n",
       "  'x = 100        # global variable\\n\\ndef fun():\\n    x = 200          # local variable\\n    print(x)\\n\\nprint(f\"Before x: {x}\")\\nfun()\\nprint(f\"After x: {x}\")',\n",
       "  'a = 100',\n",
       "  'a',\n",
       "  'a = 200',\n",
       "  'a',\n",
       "  'x = 100        # global variable\\n\\ndef fun():\\n    print(x)\\n\\nprint(f\"Before x: {x}\")\\nfun()\\nprint(f\"After x: {x}\")',\n",
       "  'x = 100        # global variable\\n\\ndef fun():\\n    print(x+200)\\n\\nprint(f\"Before x: {x}\")\\nfun()\\nprint(f\"After x: {x}\")',\n",
       "  'x = 100        # global variable\\n\\ndef fun():\\n    x = x + 100\\n    print(x)\\n\\nprint(f\"Before x: {x}\")\\nfun()\\nprint(f\"After x: {x}\")',\n",
       "  'x = 100        # global variable\\n\\ndef fun():\\n    global x\\n    x = x + 100\\n    print(x)\\n\\nprint(f\"Before x: {x}\")\\nfun()\\nprint(f\"After x: {x}\")',\n",
       "  \"name = 'harsh'\\n\\ndef fun():\\n    name = name\\n    print(name)\\n\\nprint(name)\\nfun()\\nprint(name)\",\n",
       "  \"name = 'sachin'\\n\\ndef func():\\n    name = name[::-1]\\n    print(name)\\n\\nprint(name)\\nfunc()\\nprint(name)\",\n",
       "  \"name = 'sachin'\\n\\ndef func():\\n    global name\\n    name = name[::-1]\\n    print(name)\\n\\nprint(name)\\nfunc()\\nprint(name)\",\n",
       "  'globals()             # --> symbol table'],\n",
       " '_oh': {9: 7, 25: 100, 27: 200},\n",
       " '_dh': [WindowsPath('C:/Users/DELL/OneDrive/Documents/Desktop/DS_Ml(Grras_3-Y)')],\n",
       " 'In': ['',\n",
       "  'def user_details(name,age,address):\\n    print(f\"User_name: {name}\")\\n    print(f\"User_age: {age}\")\\n    print(f\"User_address: {address}\")',\n",
       "  \"user_details('rohan', 23, 'jaipur')\",\n",
       "  \"user_details('jaipur', 23, 'aman')\",\n",
       "  \"user_details(name='aman', address='jaipur', age=23)\",\n",
       "  \"user_details('sachin', address='jaipur', age=23)\",\n",
       "  \"user_details('sachin', address='jaipur', 23)\",\n",
       "  \"user_details('sachin', name='rohan', address='jaipur', age=23)\",\n",
       "  'def addition(a,b):\\n    return a + b',\n",
       "  'addition(3,4)',\n",
       "  'def addition(*var):\\n    print(sum(var))',\n",
       "  'addition(1,2,3,4,5,6,7,8,9,10)',\n",
       "  'print(1,2,3,4,5,6,7,8,9,10)',\n",
       "  'def fun(a,b,c=34,*var):\\n    print(a)\\n    print(b)\\n    print(c)\\n    print(var)',\n",
       "  'fun(10,20,30,40,50,60)',\n",
       "  'fun(10)',\n",
       "  'fun(10,20)',\n",
       "  'def fun(*var):\\n    for i in var:\\n        if i % 2 == 0:\\n            print(i)',\n",
       "  'fun(1,2,3,4,5,6,7,8,9,10)',\n",
       "  'def fun(**kwargs):\\n    print(kwargs)',\n",
       "  \"fun(name='rajat', age=24, address='jaipur')\",\n",
       "  'def final_func(required, default=50, *var, **kwargs):\\n    print(f\"Required/Positional Argument: {required}\")\\n    print(f\"Default Argument: {default}\")\\n    print(f\"Variable length argument: {var}\")\\n    print(f\"Keyword Variable length argument: {kwargs}\")',\n",
       "  \"final_func(50,[10,20,30],'aman','rohan','sachin',marks=[44,43,54])\",\n",
       "  'x = 100        # global variable\\n\\ndef fun():\\n    x = 200          # local variable\\n    print(x)\\n\\nprint(f\"Before x: {x}\")\\nfun()\\nprint(f\"After x: {x}\")',\n",
       "  'a = 100',\n",
       "  'a',\n",
       "  'a = 200',\n",
       "  'a',\n",
       "  'x = 100        # global variable\\n\\ndef fun():\\n    print(x)\\n\\nprint(f\"Before x: {x}\")\\nfun()\\nprint(f\"After x: {x}\")',\n",
       "  'x = 100        # global variable\\n\\ndef fun():\\n    print(x+200)\\n\\nprint(f\"Before x: {x}\")\\nfun()\\nprint(f\"After x: {x}\")',\n",
       "  'x = 100        # global variable\\n\\ndef fun():\\n    x = x + 100\\n    print(x)\\n\\nprint(f\"Before x: {x}\")\\nfun()\\nprint(f\"After x: {x}\")',\n",
       "  'x = 100        # global variable\\n\\ndef fun():\\n    global x\\n    x = x + 100\\n    print(x)\\n\\nprint(f\"Before x: {x}\")\\nfun()\\nprint(f\"After x: {x}\")',\n",
       "  \"name = 'harsh'\\n\\ndef fun():\\n    name = name\\n    print(name)\\n\\nprint(name)\\nfun()\\nprint(name)\",\n",
       "  \"name = 'sachin'\\n\\ndef func():\\n    name = name[::-1]\\n    print(name)\\n\\nprint(name)\\nfunc()\\nprint(name)\",\n",
       "  \"name = 'sachin'\\n\\ndef func():\\n    global name\\n    name = name[::-1]\\n    print(name)\\n\\nprint(name)\\nfunc()\\nprint(name)\",\n",
       "  'globals()             # --> symbol table'],\n",
       " 'Out': {9: 7, 25: 100, 27: 200},\n",
       " 'get_ipython': <bound method InteractiveShell.get_ipython of <ipykernel.zmqshell.ZMQInteractiveShell object at 0x000002CAFE18FFD0>>,\n",
       " 'exit': <IPython.core.autocall.ZMQExitAutocall at 0x2cafe1a8d50>,\n",
       " 'quit': <IPython.core.autocall.ZMQExitAutocall at 0x2cafe1a8d50>,\n",
       " 'open': <function io.open(file, mode='r', buffering=-1, encoding=None, errors=None, newline=None, closefd=True, opener=None)>,\n",
       " '_': 200,\n",
       " '__': 100,\n",
       " '___': 7,\n",
       " '__session__': 'C:\\\\Users\\\\DELL\\\\OneDrive\\\\Documents\\\\Desktop\\\\DS_Ml(Grras_3-Y)\\\\16_(Function).ipynb',\n",
       " '_i': \"name = 'sachin'\\n\\ndef func():\\n    global name\\n    name = name[::-1]\\n    print(name)\\n\\nprint(name)\\nfunc()\\nprint(name)\",\n",
       " '_ii': \"name = 'sachin'\\n\\ndef func():\\n    name = name[::-1]\\n    print(name)\\n\\nprint(name)\\nfunc()\\nprint(name)\",\n",
       " '_iii': \"name = 'harsh'\\n\\ndef fun():\\n    name = name\\n    print(name)\\n\\nprint(name)\\nfun()\\nprint(name)\",\n",
       " '_i1': 'def user_details(name,age,address):\\n    print(f\"User_name: {name}\")\\n    print(f\"User_age: {age}\")\\n    print(f\"User_address: {address}\")',\n",
       " 'user_details': <function __main__.user_details(name, age, address)>,\n",
       " '_i2': \"user_details('rohan', 23, 'jaipur')\",\n",
       " '_i3': \"user_details('jaipur', 23, 'aman')\",\n",
       " '_i4': \"user_details(name='aman', address='jaipur', age=23)\",\n",
       " '_i5': \"user_details('sachin', address='jaipur', age=23)\",\n",
       " '_i6': \"user_details('sachin', address='jaipur', 23)\",\n",
       " '_i7': \"user_details('sachin', name='rohan', address='jaipur', age=23)\",\n",
       " '_i8': 'def addition(a,b):\\n    return a + b',\n",
       " 'addition': <function __main__.addition(*var)>,\n",
       " '_i9': 'addition(3,4)',\n",
       " '_9': 7,\n",
       " '_i10': 'def addition(*var):\\n    print(sum(var))',\n",
       " '_i11': 'addition(1,2,3,4,5,6,7,8,9,10)',\n",
       " '_i12': 'print(1,2,3,4,5,6,7,8,9,10)',\n",
       " '_i13': 'def fun(a,b,c=34,*var):\\n    print(a)\\n    print(b)\\n    print(c)\\n    print(var)',\n",
       " 'fun': <function __main__.fun()>,\n",
       " '_i14': 'fun(10,20,30,40,50,60)',\n",
       " '_i15': 'fun(10)',\n",
       " '_i16': 'fun(10,20)',\n",
       " '_i17': 'def fun(*var):\\n    for i in var:\\n        if i % 2 == 0:\\n            print(i)',\n",
       " '_i18': 'fun(1,2,3,4,5,6,7,8,9,10)',\n",
       " '_i19': 'def fun(**kwargs):\\n    print(kwargs)',\n",
       " '_i20': \"fun(name='rajat', age=24, address='jaipur')\",\n",
       " '_i21': 'def final_func(required, default=50, *var, **kwargs):\\n    print(f\"Required/Positional Argument: {required}\")\\n    print(f\"Default Argument: {default}\")\\n    print(f\"Variable length argument: {var}\")\\n    print(f\"Keyword Variable length argument: {kwargs}\")',\n",
       " 'final_func': <function __main__.final_func(required, default=50, *var, **kwargs)>,\n",
       " '_i22': \"final_func(50,[10,20,30],'aman','rohan','sachin',marks=[44,43,54])\",\n",
       " '_i23': 'x = 100        # global variable\\n\\ndef fun():\\n    x = 200          # local variable\\n    print(x)\\n\\nprint(f\"Before x: {x}\")\\nfun()\\nprint(f\"After x: {x}\")',\n",
       " 'x': 200,\n",
       " '_i24': 'a = 100',\n",
       " 'a': 200,\n",
       " '_i25': 'a',\n",
       " '_25': 100,\n",
       " '_i26': 'a = 200',\n",
       " '_i27': 'a',\n",
       " '_27': 200,\n",
       " '_i28': 'x = 100        # global variable\\n\\ndef fun():\\n    print(x)\\n\\nprint(f\"Before x: {x}\")\\nfun()\\nprint(f\"After x: {x}\")',\n",
       " '_i29': 'x = 100        # global variable\\n\\ndef fun():\\n    print(x+200)\\n\\nprint(f\"Before x: {x}\")\\nfun()\\nprint(f\"After x: {x}\")',\n",
       " '_i30': 'x = 100        # global variable\\n\\ndef fun():\\n    x = x + 100\\n    print(x)\\n\\nprint(f\"Before x: {x}\")\\nfun()\\nprint(f\"After x: {x}\")',\n",
       " '_i31': 'x = 100        # global variable\\n\\ndef fun():\\n    global x\\n    x = x + 100\\n    print(x)\\n\\nprint(f\"Before x: {x}\")\\nfun()\\nprint(f\"After x: {x}\")',\n",
       " '_i32': \"name = 'harsh'\\n\\ndef fun():\\n    name = name\\n    print(name)\\n\\nprint(name)\\nfun()\\nprint(name)\",\n",
       " 'name': 'nihcas',\n",
       " '_i33': \"name = 'sachin'\\n\\ndef func():\\n    name = name[::-1]\\n    print(name)\\n\\nprint(name)\\nfunc()\\nprint(name)\",\n",
       " 'func': <function __main__.func()>,\n",
       " '_i34': \"name = 'sachin'\\n\\ndef func():\\n    global name\\n    name = name[::-1]\\n    print(name)\\n\\nprint(name)\\nfunc()\\nprint(name)\",\n",
       " '_i35': 'globals()             # --> symbol table'}"
      ]
     },
     "execution_count": 35,
     "metadata": {},
     "output_type": "execute_result"
    }
   ],
   "source": [
    "globals()             # --> symbol table"
   ]
  },
  {
   "cell_type": "code",
   "execution_count": null,
   "id": "5aa2f3c6-26e4-47fb-b51a-b35780d48b1a",
   "metadata": {},
   "outputs": [],
   "source": []
  },
  {
   "cell_type": "code",
   "execution_count": 36,
   "id": "2b06187b-00d6-454e-be89-412492648987",
   "metadata": {},
   "outputs": [
    {
     "data": {
      "text/plain": [
       "{'__name__': '__main__',\n",
       " '__doc__': 'Automatically created module for IPython interactive environment',\n",
       " '__package__': None,\n",
       " '__loader__': None,\n",
       " '__spec__': None,\n",
       " '__builtin__': <module 'builtins' (built-in)>,\n",
       " '__builtins__': <module 'builtins' (built-in)>,\n",
       " '_ih': ['',\n",
       "  'def user_details(name,age,address):\\n    print(f\"User_name: {name}\")\\n    print(f\"User_age: {age}\")\\n    print(f\"User_address: {address}\")',\n",
       "  \"user_details('rohan', 23, 'jaipur')\",\n",
       "  \"user_details('jaipur', 23, 'aman')\",\n",
       "  \"user_details(name='aman', address='jaipur', age=23)\",\n",
       "  \"user_details('sachin', address='jaipur', age=23)\",\n",
       "  \"user_details('sachin', address='jaipur', 23)\",\n",
       "  \"user_details('sachin', name='rohan', address='jaipur', age=23)\",\n",
       "  'def addition(a,b):\\n    return a + b',\n",
       "  'addition(3,4)',\n",
       "  'def addition(*var):\\n    print(sum(var))',\n",
       "  'addition(1,2,3,4,5,6,7,8,9,10)',\n",
       "  'print(1,2,3,4,5,6,7,8,9,10)',\n",
       "  'def fun(a,b,c=34,*var):\\n    print(a)\\n    print(b)\\n    print(c)\\n    print(var)',\n",
       "  'fun(10,20,30,40,50,60)',\n",
       "  'fun(10)',\n",
       "  'fun(10,20)',\n",
       "  'def fun(*var):\\n    for i in var:\\n        if i % 2 == 0:\\n            print(i)',\n",
       "  'fun(1,2,3,4,5,6,7,8,9,10)',\n",
       "  'def fun(**kwargs):\\n    print(kwargs)',\n",
       "  \"fun(name='rajat', age=24, address='jaipur')\",\n",
       "  'def final_func(required, default=50, *var, **kwargs):\\n    print(f\"Required/Positional Argument: {required}\")\\n    print(f\"Default Argument: {default}\")\\n    print(f\"Variable length argument: {var}\")\\n    print(f\"Keyword Variable length argument: {kwargs}\")',\n",
       "  \"final_func(50,[10,20,30],'aman','rohan','sachin',marks=[44,43,54])\",\n",
       "  'x = 100        # global variable\\n\\ndef fun():\\n    x = 200          # local variable\\n    print(x)\\n\\nprint(f\"Before x: {x}\")\\nfun()\\nprint(f\"After x: {x}\")',\n",
       "  'a = 100',\n",
       "  'a',\n",
       "  'a = 200',\n",
       "  'a',\n",
       "  'x = 100        # global variable\\n\\ndef fun():\\n    print(x)\\n\\nprint(f\"Before x: {x}\")\\nfun()\\nprint(f\"After x: {x}\")',\n",
       "  'x = 100        # global variable\\n\\ndef fun():\\n    print(x+200)\\n\\nprint(f\"Before x: {x}\")\\nfun()\\nprint(f\"After x: {x}\")',\n",
       "  'x = 100        # global variable\\n\\ndef fun():\\n    x = x + 100\\n    print(x)\\n\\nprint(f\"Before x: {x}\")\\nfun()\\nprint(f\"After x: {x}\")',\n",
       "  'x = 100        # global variable\\n\\ndef fun():\\n    global x\\n    x = x + 100\\n    print(x)\\n\\nprint(f\"Before x: {x}\")\\nfun()\\nprint(f\"After x: {x}\")',\n",
       "  \"name = 'harsh'\\n\\ndef fun():\\n    name = name\\n    print(name)\\n\\nprint(name)\\nfun()\\nprint(name)\",\n",
       "  \"name = 'sachin'\\n\\ndef func():\\n    name = name[::-1]\\n    print(name)\\n\\nprint(name)\\nfunc()\\nprint(name)\",\n",
       "  \"name = 'sachin'\\n\\ndef func():\\n    global name\\n    name = name[::-1]\\n    print(name)\\n\\nprint(name)\\nfunc()\\nprint(name)\",\n",
       "  'globals()             # --> symbol table',\n",
       "  'locals()'],\n",
       " '_oh': {9: 7, 25: 100, 27: 200, 35: {...}},\n",
       " '_dh': [WindowsPath('C:/Users/DELL/OneDrive/Documents/Desktop/DS_Ml(Grras_3-Y)')],\n",
       " 'In': ['',\n",
       "  'def user_details(name,age,address):\\n    print(f\"User_name: {name}\")\\n    print(f\"User_age: {age}\")\\n    print(f\"User_address: {address}\")',\n",
       "  \"user_details('rohan', 23, 'jaipur')\",\n",
       "  \"user_details('jaipur', 23, 'aman')\",\n",
       "  \"user_details(name='aman', address='jaipur', age=23)\",\n",
       "  \"user_details('sachin', address='jaipur', age=23)\",\n",
       "  \"user_details('sachin', address='jaipur', 23)\",\n",
       "  \"user_details('sachin', name='rohan', address='jaipur', age=23)\",\n",
       "  'def addition(a,b):\\n    return a + b',\n",
       "  'addition(3,4)',\n",
       "  'def addition(*var):\\n    print(sum(var))',\n",
       "  'addition(1,2,3,4,5,6,7,8,9,10)',\n",
       "  'print(1,2,3,4,5,6,7,8,9,10)',\n",
       "  'def fun(a,b,c=34,*var):\\n    print(a)\\n    print(b)\\n    print(c)\\n    print(var)',\n",
       "  'fun(10,20,30,40,50,60)',\n",
       "  'fun(10)',\n",
       "  'fun(10,20)',\n",
       "  'def fun(*var):\\n    for i in var:\\n        if i % 2 == 0:\\n            print(i)',\n",
       "  'fun(1,2,3,4,5,6,7,8,9,10)',\n",
       "  'def fun(**kwargs):\\n    print(kwargs)',\n",
       "  \"fun(name='rajat', age=24, address='jaipur')\",\n",
       "  'def final_func(required, default=50, *var, **kwargs):\\n    print(f\"Required/Positional Argument: {required}\")\\n    print(f\"Default Argument: {default}\")\\n    print(f\"Variable length argument: {var}\")\\n    print(f\"Keyword Variable length argument: {kwargs}\")',\n",
       "  \"final_func(50,[10,20,30],'aman','rohan','sachin',marks=[44,43,54])\",\n",
       "  'x = 100        # global variable\\n\\ndef fun():\\n    x = 200          # local variable\\n    print(x)\\n\\nprint(f\"Before x: {x}\")\\nfun()\\nprint(f\"After x: {x}\")',\n",
       "  'a = 100',\n",
       "  'a',\n",
       "  'a = 200',\n",
       "  'a',\n",
       "  'x = 100        # global variable\\n\\ndef fun():\\n    print(x)\\n\\nprint(f\"Before x: {x}\")\\nfun()\\nprint(f\"After x: {x}\")',\n",
       "  'x = 100        # global variable\\n\\ndef fun():\\n    print(x+200)\\n\\nprint(f\"Before x: {x}\")\\nfun()\\nprint(f\"After x: {x}\")',\n",
       "  'x = 100        # global variable\\n\\ndef fun():\\n    x = x + 100\\n    print(x)\\n\\nprint(f\"Before x: {x}\")\\nfun()\\nprint(f\"After x: {x}\")',\n",
       "  'x = 100        # global variable\\n\\ndef fun():\\n    global x\\n    x = x + 100\\n    print(x)\\n\\nprint(f\"Before x: {x}\")\\nfun()\\nprint(f\"After x: {x}\")',\n",
       "  \"name = 'harsh'\\n\\ndef fun():\\n    name = name\\n    print(name)\\n\\nprint(name)\\nfun()\\nprint(name)\",\n",
       "  \"name = 'sachin'\\n\\ndef func():\\n    name = name[::-1]\\n    print(name)\\n\\nprint(name)\\nfunc()\\nprint(name)\",\n",
       "  \"name = 'sachin'\\n\\ndef func():\\n    global name\\n    name = name[::-1]\\n    print(name)\\n\\nprint(name)\\nfunc()\\nprint(name)\",\n",
       "  'globals()             # --> symbol table',\n",
       "  'locals()'],\n",
       " 'Out': {9: 7, 25: 100, 27: 200, 35: {...}},\n",
       " 'get_ipython': <bound method InteractiveShell.get_ipython of <ipykernel.zmqshell.ZMQInteractiveShell object at 0x000002CAFE18FFD0>>,\n",
       " 'exit': <IPython.core.autocall.ZMQExitAutocall at 0x2cafe1a8d50>,\n",
       " 'quit': <IPython.core.autocall.ZMQExitAutocall at 0x2cafe1a8d50>,\n",
       " 'open': <function io.open(file, mode='r', buffering=-1, encoding=None, errors=None, newline=None, closefd=True, opener=None)>,\n",
       " '_': {...},\n",
       " '__': 200,\n",
       " '___': 100,\n",
       " '__session__': 'C:\\\\Users\\\\DELL\\\\OneDrive\\\\Documents\\\\Desktop\\\\DS_Ml(Grras_3-Y)\\\\16_(Function).ipynb',\n",
       " '_i': 'globals()             # --> symbol table',\n",
       " '_ii': \"name = 'sachin'\\n\\ndef func():\\n    global name\\n    name = name[::-1]\\n    print(name)\\n\\nprint(name)\\nfunc()\\nprint(name)\",\n",
       " '_iii': \"name = 'sachin'\\n\\ndef func():\\n    name = name[::-1]\\n    print(name)\\n\\nprint(name)\\nfunc()\\nprint(name)\",\n",
       " '_i1': 'def user_details(name,age,address):\\n    print(f\"User_name: {name}\")\\n    print(f\"User_age: {age}\")\\n    print(f\"User_address: {address}\")',\n",
       " 'user_details': <function __main__.user_details(name, age, address)>,\n",
       " '_i2': \"user_details('rohan', 23, 'jaipur')\",\n",
       " '_i3': \"user_details('jaipur', 23, 'aman')\",\n",
       " '_i4': \"user_details(name='aman', address='jaipur', age=23)\",\n",
       " '_i5': \"user_details('sachin', address='jaipur', age=23)\",\n",
       " '_i6': \"user_details('sachin', address='jaipur', 23)\",\n",
       " '_i7': \"user_details('sachin', name='rohan', address='jaipur', age=23)\",\n",
       " '_i8': 'def addition(a,b):\\n    return a + b',\n",
       " 'addition': <function __main__.addition(*var)>,\n",
       " '_i9': 'addition(3,4)',\n",
       " '_9': 7,\n",
       " '_i10': 'def addition(*var):\\n    print(sum(var))',\n",
       " '_i11': 'addition(1,2,3,4,5,6,7,8,9,10)',\n",
       " '_i12': 'print(1,2,3,4,5,6,7,8,9,10)',\n",
       " '_i13': 'def fun(a,b,c=34,*var):\\n    print(a)\\n    print(b)\\n    print(c)\\n    print(var)',\n",
       " 'fun': <function __main__.fun()>,\n",
       " '_i14': 'fun(10,20,30,40,50,60)',\n",
       " '_i15': 'fun(10)',\n",
       " '_i16': 'fun(10,20)',\n",
       " '_i17': 'def fun(*var):\\n    for i in var:\\n        if i % 2 == 0:\\n            print(i)',\n",
       " '_i18': 'fun(1,2,3,4,5,6,7,8,9,10)',\n",
       " '_i19': 'def fun(**kwargs):\\n    print(kwargs)',\n",
       " '_i20': \"fun(name='rajat', age=24, address='jaipur')\",\n",
       " '_i21': 'def final_func(required, default=50, *var, **kwargs):\\n    print(f\"Required/Positional Argument: {required}\")\\n    print(f\"Default Argument: {default}\")\\n    print(f\"Variable length argument: {var}\")\\n    print(f\"Keyword Variable length argument: {kwargs}\")',\n",
       " 'final_func': <function __main__.final_func(required, default=50, *var, **kwargs)>,\n",
       " '_i22': \"final_func(50,[10,20,30],'aman','rohan','sachin',marks=[44,43,54])\",\n",
       " '_i23': 'x = 100        # global variable\\n\\ndef fun():\\n    x = 200          # local variable\\n    print(x)\\n\\nprint(f\"Before x: {x}\")\\nfun()\\nprint(f\"After x: {x}\")',\n",
       " 'x': 200,\n",
       " '_i24': 'a = 100',\n",
       " 'a': 200,\n",
       " '_i25': 'a',\n",
       " '_25': 100,\n",
       " '_i26': 'a = 200',\n",
       " '_i27': 'a',\n",
       " '_27': 200,\n",
       " '_i28': 'x = 100        # global variable\\n\\ndef fun():\\n    print(x)\\n\\nprint(f\"Before x: {x}\")\\nfun()\\nprint(f\"After x: {x}\")',\n",
       " '_i29': 'x = 100        # global variable\\n\\ndef fun():\\n    print(x+200)\\n\\nprint(f\"Before x: {x}\")\\nfun()\\nprint(f\"After x: {x}\")',\n",
       " '_i30': 'x = 100        # global variable\\n\\ndef fun():\\n    x = x + 100\\n    print(x)\\n\\nprint(f\"Before x: {x}\")\\nfun()\\nprint(f\"After x: {x}\")',\n",
       " '_i31': 'x = 100        # global variable\\n\\ndef fun():\\n    global x\\n    x = x + 100\\n    print(x)\\n\\nprint(f\"Before x: {x}\")\\nfun()\\nprint(f\"After x: {x}\")',\n",
       " '_i32': \"name = 'harsh'\\n\\ndef fun():\\n    name = name\\n    print(name)\\n\\nprint(name)\\nfun()\\nprint(name)\",\n",
       " 'name': 'nihcas',\n",
       " '_i33': \"name = 'sachin'\\n\\ndef func():\\n    name = name[::-1]\\n    print(name)\\n\\nprint(name)\\nfunc()\\nprint(name)\",\n",
       " 'func': <function __main__.func()>,\n",
       " '_i34': \"name = 'sachin'\\n\\ndef func():\\n    global name\\n    name = name[::-1]\\n    print(name)\\n\\nprint(name)\\nfunc()\\nprint(name)\",\n",
       " '_i35': 'globals()             # --> symbol table',\n",
       " '_35': {...},\n",
       " '_i36': 'locals()'}"
      ]
     },
     "execution_count": 36,
     "metadata": {},
     "output_type": "execute_result"
    }
   ],
   "source": [
    "locals()"
   ]
  },
  {
   "cell_type": "code",
   "execution_count": null,
   "id": "873af2b2-f577-42a3-bc50-ffa4179aa55d",
   "metadata": {},
   "outputs": [],
   "source": []
  },
  {
   "cell_type": "code",
   "execution_count": null,
   "id": "6e362535-c1fb-405d-95a2-e3da403f24a8",
   "metadata": {},
   "outputs": [],
   "source": []
  },
  {
   "cell_type": "code",
   "execution_count": 37,
   "id": "94910655-4f2d-414a-afa7-9b911f81c65f",
   "metadata": {},
   "outputs": [
    {
     "data": {
      "text/plain": [
       "True"
      ]
     },
     "execution_count": 37,
     "metadata": {},
     "output_type": "execute_result"
    }
   ],
   "source": [
    "globals() == locals()"
   ]
  },
  {
   "cell_type": "code",
   "execution_count": 38,
   "id": "a7e4747a-dac3-48d4-a9f9-8bf7f843b213",
   "metadata": {},
   "outputs": [],
   "source": [
    "def fun():\n",
    "    x = 100\n",
    "    y = 200\n",
    "    print(locals())\n",
    "    print(globals())"
   ]
  },
  {
   "cell_type": "code",
   "execution_count": 39,
   "id": "8f1063b6-324e-43fe-a87e-51a9de6a130c",
   "metadata": {},
   "outputs": [
    {
     "name": "stdout",
     "output_type": "stream",
     "text": [
      "{'x': 100, 'y': 200}\n",
      "{'__name__': '__main__', '__doc__': 'Automatically created module for IPython interactive environment', '__package__': None, '__loader__': None, '__spec__': None, '__builtin__': <module 'builtins' (built-in)>, '__builtins__': <module 'builtins' (built-in)>, '_ih': ['', 'def user_details(name,age,address):\\n    print(f\"User_name: {name}\")\\n    print(f\"User_age: {age}\")\\n    print(f\"User_address: {address}\")', \"user_details('rohan', 23, 'jaipur')\", \"user_details('jaipur', 23, 'aman')\", \"user_details(name='aman', address='jaipur', age=23)\", \"user_details('sachin', address='jaipur', age=23)\", \"user_details('sachin', address='jaipur', 23)\", \"user_details('sachin', name='rohan', address='jaipur', age=23)\", 'def addition(a,b):\\n    return a + b', 'addition(3,4)', 'def addition(*var):\\n    print(sum(var))', 'addition(1,2,3,4,5,6,7,8,9,10)', 'print(1,2,3,4,5,6,7,8,9,10)', 'def fun(a,b,c=34,*var):\\n    print(a)\\n    print(b)\\n    print(c)\\n    print(var)', 'fun(10,20,30,40,50,60)', 'fun(10)', 'fun(10,20)', 'def fun(*var):\\n    for i in var:\\n        if i % 2 == 0:\\n            print(i)', 'fun(1,2,3,4,5,6,7,8,9,10)', 'def fun(**kwargs):\\n    print(kwargs)', \"fun(name='rajat', age=24, address='jaipur')\", 'def final_func(required, default=50, *var, **kwargs):\\n    print(f\"Required/Positional Argument: {required}\")\\n    print(f\"Default Argument: {default}\")\\n    print(f\"Variable length argument: {var}\")\\n    print(f\"Keyword Variable length argument: {kwargs}\")', \"final_func(50,[10,20,30],'aman','rohan','sachin',marks=[44,43,54])\", 'x = 100        # global variable\\n\\ndef fun():\\n    x = 200          # local variable\\n    print(x)\\n\\nprint(f\"Before x: {x}\")\\nfun()\\nprint(f\"After x: {x}\")', 'a = 100', 'a', 'a = 200', 'a', 'x = 100        # global variable\\n\\ndef fun():\\n    print(x)\\n\\nprint(f\"Before x: {x}\")\\nfun()\\nprint(f\"After x: {x}\")', 'x = 100        # global variable\\n\\ndef fun():\\n    print(x+200)\\n\\nprint(f\"Before x: {x}\")\\nfun()\\nprint(f\"After x: {x}\")', 'x = 100        # global variable\\n\\ndef fun():\\n    x = x + 100\\n    print(x)\\n\\nprint(f\"Before x: {x}\")\\nfun()\\nprint(f\"After x: {x}\")', 'x = 100        # global variable\\n\\ndef fun():\\n    global x\\n    x = x + 100\\n    print(x)\\n\\nprint(f\"Before x: {x}\")\\nfun()\\nprint(f\"After x: {x}\")', \"name = 'harsh'\\n\\ndef fun():\\n    name = name\\n    print(name)\\n\\nprint(name)\\nfun()\\nprint(name)\", \"name = 'sachin'\\n\\ndef func():\\n    name = name[::-1]\\n    print(name)\\n\\nprint(name)\\nfunc()\\nprint(name)\", \"name = 'sachin'\\n\\ndef func():\\n    global name\\n    name = name[::-1]\\n    print(name)\\n\\nprint(name)\\nfunc()\\nprint(name)\", 'globals()             # --> symbol table', 'locals()', 'globals() == locals()', 'def fun():\\n    x = 100\\n    y = 200\\n    print(locals())\\n    print(globals())', 'fun()'], '_oh': {9: 7, 25: 100, 27: 200, 35: {...}, 36: {...}, 37: True}, '_dh': [WindowsPath('C:/Users/DELL/OneDrive/Documents/Desktop/DS_Ml(Grras_3-Y)')], 'In': ['', 'def user_details(name,age,address):\\n    print(f\"User_name: {name}\")\\n    print(f\"User_age: {age}\")\\n    print(f\"User_address: {address}\")', \"user_details('rohan', 23, 'jaipur')\", \"user_details('jaipur', 23, 'aman')\", \"user_details(name='aman', address='jaipur', age=23)\", \"user_details('sachin', address='jaipur', age=23)\", \"user_details('sachin', address='jaipur', 23)\", \"user_details('sachin', name='rohan', address='jaipur', age=23)\", 'def addition(a,b):\\n    return a + b', 'addition(3,4)', 'def addition(*var):\\n    print(sum(var))', 'addition(1,2,3,4,5,6,7,8,9,10)', 'print(1,2,3,4,5,6,7,8,9,10)', 'def fun(a,b,c=34,*var):\\n    print(a)\\n    print(b)\\n    print(c)\\n    print(var)', 'fun(10,20,30,40,50,60)', 'fun(10)', 'fun(10,20)', 'def fun(*var):\\n    for i in var:\\n        if i % 2 == 0:\\n            print(i)', 'fun(1,2,3,4,5,6,7,8,9,10)', 'def fun(**kwargs):\\n    print(kwargs)', \"fun(name='rajat', age=24, address='jaipur')\", 'def final_func(required, default=50, *var, **kwargs):\\n    print(f\"Required/Positional Argument: {required}\")\\n    print(f\"Default Argument: {default}\")\\n    print(f\"Variable length argument: {var}\")\\n    print(f\"Keyword Variable length argument: {kwargs}\")', \"final_func(50,[10,20,30],'aman','rohan','sachin',marks=[44,43,54])\", 'x = 100        # global variable\\n\\ndef fun():\\n    x = 200          # local variable\\n    print(x)\\n\\nprint(f\"Before x: {x}\")\\nfun()\\nprint(f\"After x: {x}\")', 'a = 100', 'a', 'a = 200', 'a', 'x = 100        # global variable\\n\\ndef fun():\\n    print(x)\\n\\nprint(f\"Before x: {x}\")\\nfun()\\nprint(f\"After x: {x}\")', 'x = 100        # global variable\\n\\ndef fun():\\n    print(x+200)\\n\\nprint(f\"Before x: {x}\")\\nfun()\\nprint(f\"After x: {x}\")', 'x = 100        # global variable\\n\\ndef fun():\\n    x = x + 100\\n    print(x)\\n\\nprint(f\"Before x: {x}\")\\nfun()\\nprint(f\"After x: {x}\")', 'x = 100        # global variable\\n\\ndef fun():\\n    global x\\n    x = x + 100\\n    print(x)\\n\\nprint(f\"Before x: {x}\")\\nfun()\\nprint(f\"After x: {x}\")', \"name = 'harsh'\\n\\ndef fun():\\n    name = name\\n    print(name)\\n\\nprint(name)\\nfun()\\nprint(name)\", \"name = 'sachin'\\n\\ndef func():\\n    name = name[::-1]\\n    print(name)\\n\\nprint(name)\\nfunc()\\nprint(name)\", \"name = 'sachin'\\n\\ndef func():\\n    global name\\n    name = name[::-1]\\n    print(name)\\n\\nprint(name)\\nfunc()\\nprint(name)\", 'globals()             # --> symbol table', 'locals()', 'globals() == locals()', 'def fun():\\n    x = 100\\n    y = 200\\n    print(locals())\\n    print(globals())', 'fun()'], 'Out': {9: 7, 25: 100, 27: 200, 35: {...}, 36: {...}, 37: True}, 'get_ipython': <bound method InteractiveShell.get_ipython of <ipykernel.zmqshell.ZMQInteractiveShell object at 0x000002CAFE18FFD0>>, 'exit': <IPython.core.autocall.ZMQExitAutocall object at 0x000002CAFE1A8D50>, 'quit': <IPython.core.autocall.ZMQExitAutocall object at 0x000002CAFE1A8D50>, 'open': <function open at 0x000002CAFBF5FE20>, '_': True, '__': {...}, '___': {...}, '__session__': 'C:\\\\Users\\\\DELL\\\\OneDrive\\\\Documents\\\\Desktop\\\\DS_Ml(Grras_3-Y)\\\\16_(Function).ipynb', '_i': 'def fun():\\n    x = 100\\n    y = 200\\n    print(locals())\\n    print(globals())', '_ii': 'globals() == locals()', '_iii': 'locals()', '_i1': 'def user_details(name,age,address):\\n    print(f\"User_name: {name}\")\\n    print(f\"User_age: {age}\")\\n    print(f\"User_address: {address}\")', 'user_details': <function user_details at 0x000002CAFE1D1300>, '_i2': \"user_details('rohan', 23, 'jaipur')\", '_i3': \"user_details('jaipur', 23, 'aman')\", '_i4': \"user_details(name='aman', address='jaipur', age=23)\", '_i5': \"user_details('sachin', address='jaipur', age=23)\", '_i6': \"user_details('sachin', address='jaipur', 23)\", '_i7': \"user_details('sachin', name='rohan', address='jaipur', age=23)\", '_i8': 'def addition(a,b):\\n    return a + b', 'addition': <function addition at 0x000002CAFE38CE00>, '_i9': 'addition(3,4)', '_9': 7, '_i10': 'def addition(*var):\\n    print(sum(var))', '_i11': 'addition(1,2,3,4,5,6,7,8,9,10)', '_i12': 'print(1,2,3,4,5,6,7,8,9,10)', '_i13': 'def fun(a,b,c=34,*var):\\n    print(a)\\n    print(b)\\n    print(c)\\n    print(var)', 'fun': <function fun at 0x000002CAFE38FCE0>, '_i14': 'fun(10,20,30,40,50,60)', '_i15': 'fun(10)', '_i16': 'fun(10,20)', '_i17': 'def fun(*var):\\n    for i in var:\\n        if i % 2 == 0:\\n            print(i)', '_i18': 'fun(1,2,3,4,5,6,7,8,9,10)', '_i19': 'def fun(**kwargs):\\n    print(kwargs)', '_i20': \"fun(name='rajat', age=24, address='jaipur')\", '_i21': 'def final_func(required, default=50, *var, **kwargs):\\n    print(f\"Required/Positional Argument: {required}\")\\n    print(f\"Default Argument: {default}\")\\n    print(f\"Variable length argument: {var}\")\\n    print(f\"Keyword Variable length argument: {kwargs}\")', 'final_func': <function final_func at 0x000002CAFC9D5440>, '_i22': \"final_func(50,[10,20,30],'aman','rohan','sachin',marks=[44,43,54])\", '_i23': 'x = 100        # global variable\\n\\ndef fun():\\n    x = 200          # local variable\\n    print(x)\\n\\nprint(f\"Before x: {x}\")\\nfun()\\nprint(f\"After x: {x}\")', 'x': 200, '_i24': 'a = 100', 'a': 200, '_i25': 'a', '_25': 100, '_i26': 'a = 200', '_i27': 'a', '_27': 200, '_i28': 'x = 100        # global variable\\n\\ndef fun():\\n    print(x)\\n\\nprint(f\"Before x: {x}\")\\nfun()\\nprint(f\"After x: {x}\")', '_i29': 'x = 100        # global variable\\n\\ndef fun():\\n    print(x+200)\\n\\nprint(f\"Before x: {x}\")\\nfun()\\nprint(f\"After x: {x}\")', '_i30': 'x = 100        # global variable\\n\\ndef fun():\\n    x = x + 100\\n    print(x)\\n\\nprint(f\"Before x: {x}\")\\nfun()\\nprint(f\"After x: {x}\")', '_i31': 'x = 100        # global variable\\n\\ndef fun():\\n    global x\\n    x = x + 100\\n    print(x)\\n\\nprint(f\"Before x: {x}\")\\nfun()\\nprint(f\"After x: {x}\")', '_i32': \"name = 'harsh'\\n\\ndef fun():\\n    name = name\\n    print(name)\\n\\nprint(name)\\nfun()\\nprint(name)\", 'name': 'nihcas', '_i33': \"name = 'sachin'\\n\\ndef func():\\n    name = name[::-1]\\n    print(name)\\n\\nprint(name)\\nfunc()\\nprint(name)\", 'func': <function func at 0x000002CAFE1D3060>, '_i34': \"name = 'sachin'\\n\\ndef func():\\n    global name\\n    name = name[::-1]\\n    print(name)\\n\\nprint(name)\\nfunc()\\nprint(name)\", '_i35': 'globals()             # --> symbol table', '_35': {...}, '_i36': 'locals()', '_36': {...}, '_i37': 'globals() == locals()', '_37': True, '_i38': 'def fun():\\n    x = 100\\n    y = 200\\n    print(locals())\\n    print(globals())', '_i39': 'fun()'}\n"
     ]
    }
   ],
   "source": [
    "fun()"
   ]
  },
  {
   "cell_type": "code",
   "execution_count": null,
   "id": "87451844-fe37-4301-a1bd-e9ae3a51ec4f",
   "metadata": {},
   "outputs": [],
   "source": []
  },
  {
   "cell_type": "code",
   "execution_count": 40,
   "id": "4b122ebe-425d-4061-8d0d-427dbd7471ea",
   "metadata": {},
   "outputs": [],
   "source": [
    "def fun():\n",
    "    x = 100\n",
    "    y = 200\n",
    "    v = locals()\n",
    "    print(len(v))"
   ]
  },
  {
   "cell_type": "code",
   "execution_count": 41,
   "id": "584dd363-e374-4f38-b1b0-f6db413ba4c9",
   "metadata": {},
   "outputs": [
    {
     "name": "stdout",
     "output_type": "stream",
     "text": [
      "2\n"
     ]
    }
   ],
   "source": [
    "fun()"
   ]
  },
  {
   "cell_type": "code",
   "execution_count": 42,
   "id": "9acbd498-dccc-405f-bddf-127e4a1f0792",
   "metadata": {},
   "outputs": [],
   "source": [
    "def fun():\n",
    "    x = 100\n",
    "    y = 200\n",
    "    print(globals() == locals())"
   ]
  },
  {
   "cell_type": "code",
   "execution_count": 43,
   "id": "ab54e60c-a2d2-4285-a6ef-cba9f87c37ee",
   "metadata": {},
   "outputs": [
    {
     "name": "stdout",
     "output_type": "stream",
     "text": [
      "False\n"
     ]
    }
   ],
   "source": [
    "fun()"
   ]
  },
  {
   "cell_type": "code",
   "execution_count": null,
   "id": "f7efe1f3-34e2-49ec-9e31-cbc03b0e6d9d",
   "metadata": {},
   "outputs": [],
   "source": []
  },
  {
   "cell_type": "markdown",
   "id": "8816cfcc-1a3b-494c-b458-ede436f8f642",
   "metadata": {},
   "source": [
    "### Enclosing scope  / non local"
   ]
  },
  {
   "cell_type": "code",
   "execution_count": null,
   "id": "aaa06f00-e973-4612-a660-7d4e512e3bc8",
   "metadata": {},
   "outputs": [],
   "source": []
  },
  {
   "cell_type": "code",
   "execution_count": 44,
   "id": "397e6c1d-5e85-4b94-b308-cf08893f003e",
   "metadata": {},
   "outputs": [],
   "source": [
    "def fun():\n",
    "    x = 100\n",
    "    def fun1():\n",
    "        x = 200\n",
    "        print(x)\n",
    "    fun1()\n",
    "    "
   ]
  },
  {
   "cell_type": "code",
   "execution_count": 45,
   "id": "93479e46-fc76-4e7c-af59-b12c71898e8d",
   "metadata": {},
   "outputs": [
    {
     "ename": "NameError",
     "evalue": "name 'fun1' is not defined",
     "output_type": "error",
     "traceback": [
      "\u001b[1;31m---------------------------------------------------------------------------\u001b[0m",
      "\u001b[1;31mNameError\u001b[0m                                 Traceback (most recent call last)",
      "Cell \u001b[1;32mIn[45], line 1\u001b[0m\n\u001b[1;32m----> 1\u001b[0m \u001b[43mfun1\u001b[49m()\n",
      "\u001b[1;31mNameError\u001b[0m: name 'fun1' is not defined"
     ]
    }
   ],
   "source": [
    "fun1()"
   ]
  },
  {
   "cell_type": "code",
   "execution_count": 46,
   "id": "32c21ce4-d42e-421a-91bd-4383b83f2176",
   "metadata": {},
   "outputs": [
    {
     "name": "stdout",
     "output_type": "stream",
     "text": [
      "200\n"
     ]
    }
   ],
   "source": [
    "fun()"
   ]
  },
  {
   "cell_type": "code",
   "execution_count": null,
   "id": "faafca8b-acb3-4212-abf8-4bb9c022a9ad",
   "metadata": {},
   "outputs": [],
   "source": []
  },
  {
   "cell_type": "code",
   "execution_count": 47,
   "id": "fed86e7c-5503-4fd2-8027-910be2060ee0",
   "metadata": {},
   "outputs": [],
   "source": [
    "def fun():\n",
    "    x = 100\n",
    "    def fun1():\n",
    "        print(x)\n",
    "    fun1()\n",
    "    "
   ]
  },
  {
   "cell_type": "code",
   "execution_count": 48,
   "id": "a28add82-a18e-470d-a5da-a4d8a69c0a61",
   "metadata": {},
   "outputs": [
    {
     "name": "stdout",
     "output_type": "stream",
     "text": [
      "100\n"
     ]
    }
   ],
   "source": [
    "fun()"
   ]
  },
  {
   "cell_type": "code",
   "execution_count": 49,
   "id": "e90f1c3f-841a-4c91-af23-86dbf700793b",
   "metadata": {},
   "outputs": [],
   "source": [
    "def fun():\n",
    "    x = 100\n",
    "    def fun1():\n",
    "        x = x + 10\n",
    "        print(x)\n",
    "    fun1()\n",
    "    "
   ]
  },
  {
   "cell_type": "code",
   "execution_count": 50,
   "id": "e611ed57-c1ed-43a8-808c-1e9d654f877b",
   "metadata": {},
   "outputs": [
    {
     "ename": "UnboundLocalError",
     "evalue": "cannot access local variable 'x' where it is not associated with a value",
     "output_type": "error",
     "traceback": [
      "\u001b[1;31m---------------------------------------------------------------------------\u001b[0m",
      "\u001b[1;31mUnboundLocalError\u001b[0m                         Traceback (most recent call last)",
      "Cell \u001b[1;32mIn[50], line 1\u001b[0m\n\u001b[1;32m----> 1\u001b[0m \u001b[43mfun\u001b[49m\u001b[43m(\u001b[49m\u001b[43m)\u001b[49m\n",
      "Cell \u001b[1;32mIn[49], line 6\u001b[0m, in \u001b[0;36mfun\u001b[1;34m()\u001b[0m\n\u001b[0;32m      4\u001b[0m     x \u001b[38;5;241m=\u001b[39m x \u001b[38;5;241m+\u001b[39m \u001b[38;5;241m10\u001b[39m\n\u001b[0;32m      5\u001b[0m     \u001b[38;5;28mprint\u001b[39m(x)\n\u001b[1;32m----> 6\u001b[0m \u001b[43mfun1\u001b[49m\u001b[43m(\u001b[49m\u001b[43m)\u001b[49m\n",
      "Cell \u001b[1;32mIn[49], line 4\u001b[0m, in \u001b[0;36mfun.<locals>.fun1\u001b[1;34m()\u001b[0m\n\u001b[0;32m      3\u001b[0m \u001b[38;5;28;01mdef\u001b[39;00m \u001b[38;5;21mfun1\u001b[39m():\n\u001b[1;32m----> 4\u001b[0m     x \u001b[38;5;241m=\u001b[39m \u001b[43mx\u001b[49m \u001b[38;5;241m+\u001b[39m \u001b[38;5;241m10\u001b[39m\n\u001b[0;32m      5\u001b[0m     \u001b[38;5;28mprint\u001b[39m(x)\n",
      "\u001b[1;31mUnboundLocalError\u001b[0m: cannot access local variable 'x' where it is not associated with a value"
     ]
    }
   ],
   "source": [
    "fun()"
   ]
  },
  {
   "cell_type": "code",
   "execution_count": null,
   "id": "7aeeb36d-aa06-432c-8ed6-6ffab8ded37e",
   "metadata": {},
   "outputs": [],
   "source": []
  },
  {
   "cell_type": "code",
   "execution_count": 51,
   "id": "310ca8ab-252a-474c-8f04-ffbc08a384f3",
   "metadata": {},
   "outputs": [],
   "source": [
    "def fun():\n",
    "    x = 100\n",
    "    print(f\"before x: {x}\")\n",
    "    def fun1():\n",
    "        nonlocal x\n",
    "        x = x + 10\n",
    "        print(x)\n",
    "    fun1()\n",
    "    print(f\"after x: {x}\")\n",
    "    "
   ]
  },
  {
   "cell_type": "code",
   "execution_count": 52,
   "id": "7dbebf9b-1df5-49ac-87d8-a5d416c87130",
   "metadata": {},
   "outputs": [
    {
     "name": "stdout",
     "output_type": "stream",
     "text": [
      "before x: 100\n",
      "110\n",
      "after x: 110\n"
     ]
    }
   ],
   "source": [
    "fun()"
   ]
  },
  {
   "cell_type": "code",
   "execution_count": 53,
   "id": "a89a2c06-7b9e-4d15-a8a3-241359cd7b2d",
   "metadata": {},
   "outputs": [
    {
     "ename": "SyntaxError",
     "evalue": "no binding for nonlocal 'x' found (4235462474.py, line 5)",
     "output_type": "error",
     "traceback": [
      "\u001b[1;36m  Cell \u001b[1;32mIn[53], line 5\u001b[1;36m\u001b[0m\n\u001b[1;33m    nonlocal x\u001b[0m\n\u001b[1;37m    ^\u001b[0m\n\u001b[1;31mSyntaxError\u001b[0m\u001b[1;31m:\u001b[0m no binding for nonlocal 'x' found\n"
     ]
    }
   ],
   "source": [
    "\n",
    "def fun():\n",
    "    # x = 100\n",
    "    print(f\"before x: {x}\")\n",
    "    def fun1():\n",
    "        nonlocal x\n",
    "        x = x + 10\n",
    "        print(x)\n",
    "    fun1()\n",
    "    print(f\"after x: {x}\")\n",
    "    "
   ]
  },
  {
   "cell_type": "code",
   "execution_count": null,
   "id": "d0414310-7221-488a-b6ca-f0ca1a7754ca",
   "metadata": {},
   "outputs": [],
   "source": []
  },
  {
   "cell_type": "code",
   "execution_count": 54,
   "id": "5f50a854-9e8a-4665-8ac9-75f113091d6d",
   "metadata": {},
   "outputs": [],
   "source": [
    "x = 500\n",
    "def fun():\n",
    "    # x = 100\n",
    "    # print(f\"before x: {x}\")\n",
    "    def fun1():\n",
    "        print(x)\n",
    "    fun1()\n",
    "    # print(f\"after x: {x}\")\n",
    "    "
   ]
  },
  {
   "cell_type": "code",
   "execution_count": 55,
   "id": "e99ebad9-8963-491a-ac99-9b4eb8b1f48b",
   "metadata": {},
   "outputs": [
    {
     "name": "stdout",
     "output_type": "stream",
     "text": [
      "500\n"
     ]
    }
   ],
   "source": [
    "fun()"
   ]
  },
  {
   "cell_type": "code",
   "execution_count": 56,
   "id": "3bb2393c-ee29-4f5b-9112-3a6d884878c6",
   "metadata": {},
   "outputs": [],
   "source": [
    "x = 500\n",
    "def fun():\n",
    "    x = 100\n",
    "    # print(f\"before x: {x}\")\n",
    "    def fun1():\n",
    "        print(x)\n",
    "    fun1()\n",
    "    # print(f\"after x: {x}\")\n",
    "    "
   ]
  },
  {
   "cell_type": "code",
   "execution_count": 57,
   "id": "3ba6645c-3b6e-4efc-97be-0de86e9a50ec",
   "metadata": {},
   "outputs": [
    {
     "name": "stdout",
     "output_type": "stream",
     "text": [
      "100\n"
     ]
    }
   ],
   "source": [
    "fun()"
   ]
  },
  {
   "cell_type": "code",
   "execution_count": null,
   "id": "810ce7c5-37b5-412f-87e8-e482b4041d72",
   "metadata": {},
   "outputs": [],
   "source": []
  },
  {
   "cell_type": "code",
   "execution_count": 58,
   "id": "4f245569-8f73-4564-a38e-8a7c9a0f9a8c",
   "metadata": {},
   "outputs": [
    {
     "name": "stdout",
     "output_type": "stream",
     "text": [
      "500\n",
      "520\n",
      "520\n"
     ]
    }
   ],
   "source": [
    "x = 500\n",
    "def fun():\n",
    "    x = 100\n",
    "    def fun1():\n",
    "        global x\n",
    "        x = x + 20\n",
    "        print(x)\n",
    "    fun1()\n",
    "print(x)\n",
    "fun()\n",
    "print(x)"
   ]
  },
  {
   "cell_type": "code",
   "execution_count": null,
   "id": "bcb59944-c717-4194-a4af-f713d502fd47",
   "metadata": {},
   "outputs": [],
   "source": []
  },
  {
   "cell_type": "code",
   "execution_count": 59,
   "id": "b5b31ae4-fa64-4011-86fa-2b3925589781",
   "metadata": {},
   "outputs": [
    {
     "data": {
      "text/plain": [
       "100"
      ]
     },
     "execution_count": 59,
     "metadata": {},
     "output_type": "execute_result"
    }
   ],
   "source": [
    "sum([10,20,30,40])"
   ]
  },
  {
   "cell_type": "code",
   "execution_count": null,
   "id": "2fecb561-0a7f-4911-8e8a-67fc478cfacb",
   "metadata": {},
   "outputs": [],
   "source": []
  }
 ],
 "metadata": {
  "kernelspec": {
   "display_name": "Python 3 (ipykernel)",
   "language": "python",
   "name": "python3"
  },
  "language_info": {
   "codemirror_mode": {
    "name": "ipython",
    "version": 3
   },
   "file_extension": ".py",
   "mimetype": "text/x-python",
   "name": "python",
   "nbconvert_exporter": "python",
   "pygments_lexer": "ipython3",
   "version": "3.12.7"
  }
 },
 "nbformat": 4,
 "nbformat_minor": 5
}
