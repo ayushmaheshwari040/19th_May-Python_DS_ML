{
 "cells": [
  {
   "cell_type": "markdown",
   "id": "8a851170-a0cc-4b3d-ad34-742d049981d9",
   "metadata": {},
   "source": [
    "# File Handling"
   ]
  },
  {
   "cell_type": "markdown",
   "id": "fdf4fa7a-9180-4837-8546-acbeddc3528b",
   "metadata": {},
   "source": [
    "### 'x+' mode"
   ]
  },
  {
   "cell_type": "code",
   "execution_count": 4,
   "id": "fcd63942-2d7f-41d3-9135-9c43613491e5",
   "metadata": {},
   "outputs": [
    {
     "data": {
      "text/plain": [
       "<_io.TextIOWrapper name='new1.csv' mode='x+' encoding='cp1252'>"
      ]
     },
     "execution_count": 4,
     "metadata": {},
     "output_type": "execute_result"
    }
   ],
   "source": [
    "file= open(\"new1.csv\",\"x+\")\n",
    "file"
   ]
  },
  {
   "cell_type": "code",
   "execution_count": 5,
   "id": "a1d0b77d-b3d7-470c-9719-69c3ee982913",
   "metadata": {},
   "outputs": [
    {
     "data": {
      "text/plain": [
       "True"
      ]
     },
     "execution_count": 5,
     "metadata": {},
     "output_type": "execute_result"
    }
   ],
   "source": [
    "file.writable()"
   ]
  },
  {
   "cell_type": "code",
   "execution_count": 6,
   "id": "7dd23051-6993-46c9-a985-907011c63a5e",
   "metadata": {},
   "outputs": [
    {
     "data": {
      "text/plain": [
       "True"
      ]
     },
     "execution_count": 6,
     "metadata": {},
     "output_type": "execute_result"
    }
   ],
   "source": [
    "file.readable()"
   ]
  },
  {
   "cell_type": "code",
   "execution_count": 7,
   "id": "51443be2-f8ac-4804-9039-f735b4dcea35",
   "metadata": {},
   "outputs": [],
   "source": [
    "file.close()"
   ]
  },
  {
   "cell_type": "code",
   "execution_count": null,
   "id": "d503aab1-fafa-4358-8dc8-ffd93eac1107",
   "metadata": {},
   "outputs": [],
   "source": []
  },
  {
   "cell_type": "markdown",
   "id": "dc8b6161-abb3-4ebf-a82f-946578e046c3",
   "metadata": {},
   "source": [
    "### 'r+' mode"
   ]
  },
  {
   "cell_type": "code",
   "execution_count": 9,
   "id": "a8242820-c6d8-44ad-a34a-ebdb19578fe5",
   "metadata": {},
   "outputs": [
    {
     "data": {
      "text/plain": [
       "<_io.TextIOWrapper name='new1.csv' mode='r+' encoding='cp1252'>"
      ]
     },
     "execution_count": 9,
     "metadata": {},
     "output_type": "execute_result"
    }
   ],
   "source": [
    "file= open(\"new1.csv\",\"r+\")\n",
    "file"
   ]
  },
  {
   "cell_type": "code",
   "execution_count": 10,
   "id": "91e6ebfc-8a67-44cd-838a-51caff438612",
   "metadata": {},
   "outputs": [
    {
     "data": {
      "text/plain": [
       "True"
      ]
     },
     "execution_count": 10,
     "metadata": {},
     "output_type": "execute_result"
    }
   ],
   "source": [
    "file.readable()"
   ]
  },
  {
   "cell_type": "code",
   "execution_count": 12,
   "id": "65ef5993-be53-43a3-82bc-23bf0d2db5f5",
   "metadata": {},
   "outputs": [
    {
     "data": {
      "text/plain": [
       "True"
      ]
     },
     "execution_count": 12,
     "metadata": {},
     "output_type": "execute_result"
    }
   ],
   "source": [
    "file.writable()"
   ]
  },
  {
   "cell_type": "code",
   "execution_count": 13,
   "id": "5409d1d7-78a2-4fec-a10c-d59082ee0cc6",
   "metadata": {},
   "outputs": [],
   "source": [
    "file.close()"
   ]
  },
  {
   "cell_type": "code",
   "execution_count": null,
   "id": "4b55ab69-ce7d-4a4a-b1f3-e37ad7d9298a",
   "metadata": {},
   "outputs": [],
   "source": []
  },
  {
   "cell_type": "markdown",
   "id": "84fdf6d9-79f8-45dd-a951-8edbc77bf45b",
   "metadata": {},
   "source": [
    "### 'w+' mode"
   ]
  },
  {
   "cell_type": "code",
   "execution_count": 15,
   "id": "40a0f4e2-1081-4465-aaea-faced2f31f55",
   "metadata": {},
   "outputs": [
    {
     "data": {
      "text/plain": [
       "<_io.TextIOWrapper name='new2.csv' mode='w+' encoding='cp1252'>"
      ]
     },
     "execution_count": 15,
     "metadata": {},
     "output_type": "execute_result"
    }
   ],
   "source": [
    "file= open(\"new2.csv\",\"w+\")\n",
    "file"
   ]
  },
  {
   "cell_type": "code",
   "execution_count": 16,
   "id": "2df28f1d-ec54-48ed-9c4d-65fa3d7955cf",
   "metadata": {},
   "outputs": [
    {
     "data": {
      "text/plain": [
       "True"
      ]
     },
     "execution_count": 16,
     "metadata": {},
     "output_type": "execute_result"
    }
   ],
   "source": [
    "file.readable()"
   ]
  },
  {
   "cell_type": "code",
   "execution_count": 17,
   "id": "d75ebf9d-5ec7-4813-85c3-8344f35e512f",
   "metadata": {},
   "outputs": [
    {
     "data": {
      "text/plain": [
       "True"
      ]
     },
     "execution_count": 17,
     "metadata": {},
     "output_type": "execute_result"
    }
   ],
   "source": [
    "file.writable()"
   ]
  },
  {
   "cell_type": "code",
   "execution_count": 18,
   "id": "e5c84400-dc60-4ae5-90fa-08fde54ed090",
   "metadata": {},
   "outputs": [],
   "source": [
    "file.close()"
   ]
  },
  {
   "cell_type": "code",
   "execution_count": null,
   "id": "4edee836-67bf-46df-8c25-fe2ffebe36e0",
   "metadata": {},
   "outputs": [],
   "source": []
  },
  {
   "cell_type": "markdown",
   "id": "b6eda1bc-bd1a-4766-9581-8f246eb1bf9e",
   "metadata": {},
   "source": [
    "### 'a+' mode"
   ]
  },
  {
   "cell_type": "code",
   "execution_count": 19,
   "id": "f2aa8c64-a598-4047-954f-d5f89e888622",
   "metadata": {},
   "outputs": [
    {
     "data": {
      "text/plain": [
       "<_io.TextIOWrapper name='new3.csv' mode='a+' encoding='cp1252'>"
      ]
     },
     "execution_count": 19,
     "metadata": {},
     "output_type": "execute_result"
    }
   ],
   "source": [
    "file= open(\"new3.csv\",\"a+\")\n",
    "file"
   ]
  },
  {
   "cell_type": "code",
   "execution_count": 20,
   "id": "e0962757-4fb2-4668-a1d7-5bbfdcc088f5",
   "metadata": {},
   "outputs": [
    {
     "data": {
      "text/plain": [
       "True"
      ]
     },
     "execution_count": 20,
     "metadata": {},
     "output_type": "execute_result"
    }
   ],
   "source": [
    "file.readable()"
   ]
  },
  {
   "cell_type": "code",
   "execution_count": 21,
   "id": "5b493208-e9ce-48d2-ab33-c353ceda4d5d",
   "metadata": {},
   "outputs": [
    {
     "data": {
      "text/plain": [
       "True"
      ]
     },
     "execution_count": 21,
     "metadata": {},
     "output_type": "execute_result"
    }
   ],
   "source": [
    "file.writable()"
   ]
  },
  {
   "cell_type": "code",
   "execution_count": 22,
   "id": "3e48f9d2-cecb-4ab2-9063-db49d38dca70",
   "metadata": {},
   "outputs": [],
   "source": [
    "file.close()"
   ]
  },
  {
   "cell_type": "code",
   "execution_count": null,
   "id": "271ae00f-ed3e-41b3-997d-d9179c1fcb5f",
   "metadata": {},
   "outputs": [],
   "source": []
  },
  {
   "cell_type": "code",
   "execution_count": null,
   "id": "d2998506-5fb8-41c2-b1cc-dadf8d7c6b9a",
   "metadata": {},
   "outputs": [],
   "source": []
  },
  {
   "cell_type": "markdown",
   "id": "4604e713-777f-45f8-95c4-197451a68e28",
   "metadata": {},
   "source": [
    "### Operations on csv files"
   ]
  },
  {
   "cell_type": "code",
   "execution_count": 42,
   "id": "8dae939c-05a4-403a-9614-2cd71bd3de40",
   "metadata": {},
   "outputs": [],
   "source": [
    "header=\"name,age,address\\n\"      # we add the values with comma separated in the csv file for values in cells"
   ]
  },
  {
   "cell_type": "code",
   "execution_count": 43,
   "id": "a80e8162-eeca-4386-8c45-347a4af3121b",
   "metadata": {},
   "outputs": [],
   "source": [
    "with open('data.csv', 'w') as f:\n",
    "    f.write(header)"
   ]
  },
  {
   "cell_type": "code",
   "execution_count": 44,
   "id": "55f24214-5f51-4fec-8960-28ed8681eedf",
   "metadata": {},
   "outputs": [
    {
     "name": "stdin",
     "output_type": "stream",
     "text": [
      "Enter no. of students:  3\n",
      "1. Enter your name:  Rohan\n",
      "   Enter your age:  13\n",
      "   Enter your address:  Delhi\n",
      "2. Enter your name:  Jaydeep\n",
      "   Enter your age:  14\n",
      "   Enter your address:  Sikar\n",
      "3. Enter your name:  Ram\n",
      "   Enter your age:  18\n",
      "   Enter your address:  Uttar Pradesh\n"
     ]
    }
   ],
   "source": [
    "lines=\"\"\n",
    "\n",
    "for i in range(int(input(\"Enter no. of students: \"))): \n",
    "             name=input(f\"{i+1}. Enter your name: \")\n",
    "             age=input(\"   Enter your age: \")\n",
    "             address=input(\"   Enter your address: \")\n",
    "\n",
    "             row=f\"{name},{age},{address}\\n\"\n",
    "             lines+=row\n",
    "\n",
    "else:\n",
    "    with open('data.csv','a') as f:\n",
    "        f.write(lines)"
   ]
  },
  {
   "cell_type": "code",
   "execution_count": 45,
   "id": "e593b766-2510-4a02-8ebc-4b4c71c2ab5a",
   "metadata": {},
   "outputs": [
    {
     "name": "stdout",
     "output_type": "stream",
     "text": [
      "Rohan,13,Delhi\n",
      "Jaydeep,14,Sikar\n",
      "Ram,18,Uttar Pradesh\n",
      "\n"
     ]
    }
   ],
   "source": [
    "print(lines)"
   ]
  },
  {
   "cell_type": "code",
   "execution_count": 46,
   "id": "3ae1bcd5-786a-4a70-b862-dfb0ab3d6d78",
   "metadata": {},
   "outputs": [
    {
     "name": "stdout",
     "output_type": "stream",
     "text": [
      "name,age,address\n",
      "Rohan,13,Delhi\n",
      "Jaydeep,14,Sikar\n",
      "Ram,18,Uttar Pradesh\n",
      "\n"
     ]
    }
   ],
   "source": [
    "with open('data.csv','r') as f:\n",
    "    print(f.read())"
   ]
  },
  {
   "cell_type": "code",
   "execution_count": null,
   "id": "266a5fd2-6562-463c-82e7-14e234c005e3",
   "metadata": {},
   "outputs": [],
   "source": []
  },
  {
   "cell_type": "code",
   "execution_count": null,
   "id": "18494cc7-90e0-4fbf-a9e5-1d0f47e0f653",
   "metadata": {},
   "outputs": [],
   "source": []
  },
  {
   "cell_type": "markdown",
   "id": "d4a60e7a-18ff-464f-90ff-5700f4149db7",
   "metadata": {},
   "source": [
    "# Attendence System Project Using File Handling"
   ]
  },
  {
   "cell_type": "code",
   "execution_count": 47,
   "id": "00a82c73-9e1c-4501-a02a-8104e21b9900",
   "metadata": {},
   "outputs": [],
   "source": [
    "header=\"Date,Topic\""
   ]
  },
  {
   "cell_type": "code",
   "execution_count": 91,
   "id": "6ad4b261-4274-4ae5-927d-98ecf4461b09",
   "metadata": {},
   "outputs": [
    {
     "name": "stdin",
     "output_type": "stream",
     "text": [
      "Enter no. of names:  5\n",
      "Enter Name-1: deep\n",
      "Enter Name-2: sachin\n",
      "Enter Name-3: gaurab\n",
      "Enter Name-4: rajat\n",
      "Enter Name-5: simran\n"
     ]
    }
   ],
   "source": [
    "for i in range(int(input(\"Enter no. of names: \"))):\n",
    "    name=input(f\"Enter Name-{i+1}:\")\n",
    "    header+=f\",{name}\"    \n",
    "\n",
    "else:\n",
    "    header+=\"\\n\"\n",
    "    with open('attendence.csv','w') as f:\n",
    "        f.write(f\"{header}\")"
   ]
  },
  {
   "cell_type": "code",
   "execution_count": 93,
   "id": "418f4e71-0375-4344-887a-de91a10c2239",
   "metadata": {},
   "outputs": [
    {
     "data": {
      "text/plain": [
       "'Date,Topic,deep,sachin,gaurab,rajat,simran\\n'"
      ]
     },
     "execution_count": 93,
     "metadata": {},
     "output_type": "execute_result"
    }
   ],
   "source": [
    "header"
   ]
  },
  {
   "cell_type": "markdown",
   "id": "ee290f5c-7483-4984-b494-1f9df00bedee",
   "metadata": {},
   "source": [
    "### datetime library"
   ]
  },
  {
   "cell_type": "code",
   "execution_count": 75,
   "id": "588561b2-ca6f-4e23-ae34-ee61ab1773ed",
   "metadata": {},
   "outputs": [],
   "source": [
    "import datetime"
   ]
  },
  {
   "cell_type": "code",
   "execution_count": 76,
   "id": "f09cc897-4abb-4376-ad64-b2301fc03b0a",
   "metadata": {},
   "outputs": [
    {
     "name": "stdout",
     "output_type": "stream",
     "text": [
      "2025-06-12\n"
     ]
    }
   ],
   "source": [
    "print(datetime.date.today())"
   ]
  },
  {
   "cell_type": "code",
   "execution_count": 94,
   "id": "02769d3a-0dc0-4a7c-a839-4e161a5e257d",
   "metadata": {},
   "outputs": [
    {
     "name": "stdin",
     "output_type": "stream",
     "text": [
      "Enter topic:  File Handling\n",
      "deep -> (P/A) p\n",
      "sachin -> (P/A) a\n",
      "gaurab -> (P/A) p\n",
      "rajat -> (P/A) a\n",
      "simran -> (P/A) p\n"
     ]
    }
   ],
   "source": [
    "\n",
    "date=datetime.date.today()\n",
    "topic=input('Enter topic: ')\n",
    "\n",
    "with open('attendence.csv','r') as f:\n",
    "    h= f.readline()\n",
    "\n",
    "names=h.strip().split(\",\")[2:]\n",
    "\n",
    "row=f\"{date},{topic}\"\n",
    "for name in names:\n",
    "    att=input(f\"{name} -> (P/A): \").lower()\n",
    "    row+=f\",{att}\"\n",
    "else:\n",
    "    row+=\"\\n\" \n",
    "    with open('attendence.csv', 'a') as f: \n",
    "        f.write(row)"
   ]
  },
  {
   "cell_type": "code",
   "execution_count": null,
   "id": "c32b9902-aba0-4d1f-97de-9bb2e2dae21b",
   "metadata": {},
   "outputs": [],
   "source": []
  },
  {
   "cell_type": "code",
   "execution_count": null,
   "id": "a85c7d44-a0ee-44ff-bb9e-e3941106a8f9",
   "metadata": {},
   "outputs": [],
   "source": []
  },
  {
   "cell_type": "markdown",
   "id": "3d0d59ee-17e1-4304-8046-7a7e1ab44101",
   "metadata": {},
   "source": [
    "# Student Marksheet Project using File Handling"
   ]
  },
  {
   "cell_type": "markdown",
   "id": "64465284-be73-4a86-9234-b423901d6a46",
   "metadata": {},
   "source": [
    "### Task1"
   ]
  },
  {
   "cell_type": "code",
   "execution_count": 6,
   "id": "b1746220-6a32-4668-80f3-cb063379e149",
   "metadata": {},
   "outputs": [
    {
     "name": "stdin",
     "output_type": "stream",
     "text": [
      "Enter no. of students:  2\n",
      "Enter name of Student1:  Ayus\n",
      "Enter marks in Physics:  23\n",
      "Enter marks in Chemistry:  22\n",
      "Enter marks in Maths:  44\n",
      "Enter name of Student2:  RAj\n",
      "Enter marks in Physics:  33\n",
      "Enter marks in Chemistry:  44\n",
      "Enter marks in Maths:  55\n"
     ]
    }
   ],
   "source": [
    "header=\"Name,Physics,Chemistry,Maths\"\n",
    "\n",
    "with open('marksheet.csv','w') as f: \n",
    "    f.write(f\"{header}\\n\")\n",
    "\n",
    "lines=\"\"\n",
    "for i in range(int(input(\"Enter no. of students: \"))): \n",
    "             name=input(f\"Enter name of Student{i+1}: \")\n",
    "             physics=input(\"Enter marks in Physics: \")\n",
    "             chemistry=input(\"Enter marks in Chemistry: \")\n",
    "             maths=input(\"Enter marks in Maths: \")\n",
    "\n",
    "             row=f\"{name},{physics},{chemistry},{maths}\"\n",
    "             lines+=f\"{row}\\n\"\n",
    "\n",
    "else:\n",
    "    with open('marksheet.csv','a') as f:\n",
    "        f.write(lines)"
   ]
  },
  {
   "cell_type": "markdown",
   "id": "0d7418e7-ba7b-462e-bc66-5c19db5d025b",
   "metadata": {},
   "source": [
    "### Task2"
   ]
  },
  {
   "cell_type": "code",
   "execution_count": 7,
   "id": "45c0db65-a13d-4547-a15e-d12830959fb6",
   "metadata": {},
   "outputs": [],
   "source": [
    "with open(\"marksheet.csv\",\"r\") as f:  \n",
    "    data=f.read()"
   ]
  },
  {
   "cell_type": "code",
   "execution_count": 8,
   "id": "e8490679-2192-46c3-b65d-ff0abf69a9ea",
   "metadata": {},
   "outputs": [
    {
     "data": {
      "text/plain": [
       "'Name,Physics,Chemistry,Maths\\nAyus,23,22,44\\nRAj,33,44,55\\n'"
      ]
     },
     "execution_count": 8,
     "metadata": {},
     "output_type": "execute_result"
    }
   ],
   "source": [
    "data"
   ]
  },
  {
   "cell_type": "code",
   "execution_count": 10,
   "id": "b09d0189-fe8f-4518-ba27-8579b205cb00",
   "metadata": {},
   "outputs": [
    {
     "data": {
      "text/plain": [
       "'Name,Physics,Chemistry,Maths\\nAyus,23,22,44\\nRAj,33,44,55'"
      ]
     },
     "execution_count": 10,
     "metadata": {},
     "output_type": "execute_result"
    }
   ],
   "source": [
    "data.strip()"
   ]
  },
  {
   "cell_type": "code",
   "execution_count": 11,
   "id": "8b149b6a-79ad-40da-818d-56b8b0649e35",
   "metadata": {},
   "outputs": [
    {
     "data": {
      "text/plain": [
       "['Name,Physics,Chemistry,Maths', 'Ayus,23,22,44', 'RAj,33,44,55']"
      ]
     },
     "execution_count": 11,
     "metadata": {},
     "output_type": "execute_result"
    }
   ],
   "source": [
    "data.strip().split()"
   ]
  },
  {
   "cell_type": "code",
   "execution_count": 12,
   "id": "5ff22d2c-5ae5-4859-b005-e381ed8459a5",
   "metadata": {},
   "outputs": [
    {
     "data": {
      "text/plain": [
       "['Ayus,23,22,44', 'RAj,33,44,55']"
      ]
     },
     "execution_count": 12,
     "metadata": {},
     "output_type": "execute_result"
    }
   ],
   "source": [
    "ls=data.strip().split()[1:]\n",
    "ls"
   ]
  },
  {
   "cell_type": "code",
   "execution_count": 13,
   "id": "7988c872-574f-4eac-a414-8c5b18a18e9e",
   "metadata": {},
   "outputs": [
    {
     "data": {
      "text/plain": [
       "'Ayus,23,22,44'"
      ]
     },
     "execution_count": 13,
     "metadata": {},
     "output_type": "execute_result"
    }
   ],
   "source": [
    "ls[0]"
   ]
  },
  {
   "cell_type": "code",
   "execution_count": 16,
   "id": "a2dace30-7fbd-41ff-a4c9-02ce46438aac",
   "metadata": {},
   "outputs": [
    {
     "data": {
      "text/plain": [
       "['Ayus', '23', '22', '44']"
      ]
     },
     "execution_count": 16,
     "metadata": {},
     "output_type": "execute_result"
    }
   ],
   "source": [
    "d=ls[0].split(',')\n",
    "d"
   ]
  },
  {
   "cell_type": "code",
   "execution_count": 15,
   "id": "8fb46fb2-4ee6-451e-8b30-3d62a2b8bacd",
   "metadata": {},
   "outputs": [
    {
     "data": {
      "text/plain": [
       "'Ayus'"
      ]
     },
     "execution_count": 15,
     "metadata": {},
     "output_type": "execute_result"
    }
   ],
   "source": [
    "d[0]"
   ]
  },
  {
   "cell_type": "code",
   "execution_count": 17,
   "id": "4bd40178-b4a2-4363-9150-de9a5e0b4139",
   "metadata": {},
   "outputs": [
    {
     "data": {
      "text/plain": [
       "29.67"
      ]
     },
     "execution_count": 17,
     "metadata": {},
     "output_type": "execute_result"
    }
   ],
   "source": [
    "round(sum(list(map(int, d[1:])))/300*100, 2)"
   ]
  },
  {
   "cell_type": "code",
   "execution_count": 18,
   "id": "0b736ebe-f5c1-4237-ad9c-88b6d6cf6f26",
   "metadata": {},
   "outputs": [
    {
     "data": {
      "text/plain": [
       "'Name,Physics,Chemistry,Maths\\nAyus,23,22,44\\nRAj,33,44,55\\n'"
      ]
     },
     "execution_count": 18,
     "metadata": {},
     "output_type": "execute_result"
    }
   ],
   "source": [
    "data"
   ]
  },
  {
   "cell_type": "code",
   "execution_count": 19,
   "id": "f1365c6b-d323-436e-bcb9-fcae22310ef6",
   "metadata": {},
   "outputs": [
    {
     "data": {
      "text/plain": [
       "['Ayus,23,22,44', 'RAj,33,44,55']"
      ]
     },
     "execution_count": 19,
     "metadata": {},
     "output_type": "execute_result"
    }
   ],
   "source": [
    "ls=data.strip().split()[1:]\n",
    "ls"
   ]
  },
  {
   "cell_type": "code",
   "execution_count": 20,
   "id": "faeefc66-dcde-4108-b6fb-a30b650a7367",
   "metadata": {},
   "outputs": [
    {
     "name": "stdout",
     "output_type": "stream",
     "text": [
      "['23', '22', '44']\n",
      "['33', '44', '55']\n"
     ]
    }
   ],
   "source": [
    "for i in ls:\n",
    "    print(i.split(',')[1:])"
   ]
  },
  {
   "cell_type": "code",
   "execution_count": 21,
   "id": "e1634f09-9f68-482c-b7be-d3d7fd26eeb0",
   "metadata": {},
   "outputs": [
    {
     "name": "stdout",
     "output_type": "stream",
     "text": [
      "['23', '22', '44'] 29.67\n",
      "['33', '44', '55'] 44.0\n"
     ]
    }
   ],
   "source": [
    "for i in ls:  \n",
    "    name= i.split(',')[1:]\n",
    "    percentage=round(sum(list(map(int, i.split(',')[1:])))/300*100, 2)\n",
    "    print(name,percentage)"
   ]
  },
  {
   "cell_type": "code",
   "execution_count": null,
   "id": "73ce9822-ad43-454c-a9c8-f1baa82430b3",
   "metadata": {},
   "outputs": [],
   "source": []
  },
  {
   "cell_type": "code",
   "execution_count": null,
   "id": "28ddb16d-923d-4abb-b368-caf1624b7e77",
   "metadata": {},
   "outputs": [],
   "source": []
  },
  {
   "cell_type": "code",
   "execution_count": null,
   "id": "16c0c366-b18e-4ca1-8e22-a9148fd1c37f",
   "metadata": {},
   "outputs": [],
   "source": []
  },
  {
   "cell_type": "code",
   "execution_count": null,
   "id": "e7c891a8-3f5b-464f-8994-978ec9f09e06",
   "metadata": {},
   "outputs": [],
   "source": []
  },
  {
   "cell_type": "code",
   "execution_count": null,
   "id": "0b6ea6c9-82f4-41c4-a7c8-3defbbd303ca",
   "metadata": {},
   "outputs": [],
   "source": []
  },
  {
   "cell_type": "code",
   "execution_count": null,
   "id": "dacaa6b7-f3a6-47ae-83df-c0bf4d8a8f04",
   "metadata": {},
   "outputs": [],
   "source": []
  }
 ],
 "metadata": {
  "kernelspec": {
   "display_name": "Python 3 (ipykernel)",
   "language": "python",
   "name": "python3"
  },
  "language_info": {
   "codemirror_mode": {
    "name": "ipython",
    "version": 3
   },
   "file_extension": ".py",
   "mimetype": "text/x-python",
   "name": "python",
   "nbconvert_exporter": "python",
   "pygments_lexer": "ipython3",
   "version": "3.11.3"
  }
 },
 "nbformat": 4,
 "nbformat_minor": 5
}
