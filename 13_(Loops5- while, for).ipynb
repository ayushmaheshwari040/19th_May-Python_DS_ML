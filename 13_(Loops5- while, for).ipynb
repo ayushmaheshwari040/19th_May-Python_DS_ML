{
 "cells": [
  {
   "cell_type": "markdown",
   "id": "53e4bbc0-40ce-47bf-96d9-b5672361ae29",
   "metadata": {},
   "source": [
    "### Task:- Random Password generator"
   ]
  },
  {
   "cell_type": "code",
   "execution_count": 2,
   "id": "295471f8-7b97-44a7-a0c1-443882a6bc26",
   "metadata": {},
   "outputs": [
    {
     "data": {
      "text/plain": [
       "'abcdefghijklmnopqrstuvwxyzABCDEFGHIJKLMNOPQRSTUVWXYZ'"
      ]
     },
     "execution_count": 2,
     "metadata": {},
     "output_type": "execute_result"
    }
   ],
   "source": [
    "import string   \n",
    "\n",
    "string.ascii_letters"
   ]
  },
  {
   "cell_type": "code",
   "execution_count": 3,
   "id": "eb5ee919-b9aa-46f2-9423-5d9e9c37b356",
   "metadata": {},
   "outputs": [
    {
     "data": {
      "text/plain": [
       "'abcdefghijklmnopqrstuvwxyz'"
      ]
     },
     "execution_count": 3,
     "metadata": {},
     "output_type": "execute_result"
    }
   ],
   "source": [
    "string.ascii_lowercase"
   ]
  },
  {
   "cell_type": "code",
   "execution_count": 4,
   "id": "31374b0a-056f-4522-8905-94b9f5ab4067",
   "metadata": {},
   "outputs": [
    {
     "data": {
      "text/plain": [
       "'ABCDEFGHIJKLMNOPQRSTUVWXYZ'"
      ]
     },
     "execution_count": 4,
     "metadata": {},
     "output_type": "execute_result"
    }
   ],
   "source": [
    "string.ascii_uppercase"
   ]
  },
  {
   "cell_type": "code",
   "execution_count": 5,
   "id": "d2c6464a-5b48-40c7-8f76-ed329e0a32f7",
   "metadata": {},
   "outputs": [
    {
     "data": {
      "text/plain": [
       "'0123456789'"
      ]
     },
     "execution_count": 5,
     "metadata": {},
     "output_type": "execute_result"
    }
   ],
   "source": [
    "string.digits"
   ]
  },
  {
   "cell_type": "code",
   "execution_count": 8,
   "id": "1227478b-d154-4094-b1c8-ccc7933dc992",
   "metadata": {},
   "outputs": [
    {
     "data": {
      "text/plain": [
       "'!\"#$%&\\'()*+,-./:;<=>?@[\\\\]^_`{|}~'"
      ]
     },
     "execution_count": 8,
     "metadata": {},
     "output_type": "execute_result"
    }
   ],
   "source": [
    "string.punctuation"
   ]
  },
  {
   "cell_type": "code",
   "execution_count": null,
   "id": "5acccd7d-f000-40b4-8ec6-764970a864ba",
   "metadata": {},
   "outputs": [],
   "source": []
  },
  {
   "cell_type": "markdown",
   "id": "a4154319-e1a5-4b79-bccf-219e7d6ec87e",
   "metadata": {},
   "source": [
    "### Pattern Printing"
   ]
  },
  {
   "cell_type": "code",
   "execution_count": 17,
   "id": "88c93e2c-a108-4090-bc2a-ff3c740e17a4",
   "metadata": {},
   "outputs": [
    {
     "name": "stdout",
     "output_type": "stream",
     "text": [
      "* \n",
      "* * \n",
      "* * * \n",
      "* * * * \n",
      "* * * * * \n",
      "* * * * * * \n"
     ]
    }
   ],
   "source": [
    "# P1\n",
    "\n",
    "i=0\n",
    "while i<6:\n",
    "    j=0\n",
    "    while j<i+1:\n",
    "        print(\"*\",end=\" \")\n",
    "        j+=1\n",
    "    print()    \n",
    "    i+=1    "
   ]
  },
  {
   "cell_type": "code",
   "execution_count": 23,
   "id": "99118ae4-5029-4873-81d6-b29b60468c1c",
   "metadata": {},
   "outputs": [
    {
     "name": "stdout",
     "output_type": "stream",
     "text": [
      "A \n",
      "B B \n",
      "C C C \n",
      "D D D D \n",
      "E E E E E \n",
      "F F F F F F \n"
     ]
    }
   ],
   "source": [
    "# P2\n",
    "\n",
    "i=0\n",
    "while i<6:\n",
    "    j=0\n",
    "    while j<i+1:\n",
    "        print(chr(65+i),end=\" \")\n",
    "        j+=1\n",
    "    print()    \n",
    "    i+=1    "
   ]
  },
  {
   "cell_type": "code",
   "execution_count": 24,
   "id": "b10d48a8-cfd3-46c1-99f4-2594b8f9b320",
   "metadata": {},
   "outputs": [
    {
     "name": "stdout",
     "output_type": "stream",
     "text": [
      "1 \n",
      "2 2 \n",
      "3 3 3 \n",
      "4 4 4 4 \n",
      "5 5 5 5 5 \n"
     ]
    }
   ],
   "source": [
    "# P3\n",
    "\n",
    "i=1\n",
    "while i<=5:\n",
    "    j=1\n",
    "    while j<i+1:\n",
    "        print(i,end=\" \")\n",
    "        j+=1\n",
    "    print()    \n",
    "    i+=1    "
   ]
  },
  {
   "cell_type": "code",
   "execution_count": 26,
   "id": "b596e4c1-92a6-48ff-a401-ffd10d094612",
   "metadata": {},
   "outputs": [
    {
     "name": "stdout",
     "output_type": "stream",
     "text": [
      "1 \n",
      "1 2 \n",
      "1 2 3 \n",
      "1 2 3 4 \n",
      "1 2 3 4 5 \n"
     ]
    }
   ],
   "source": [
    "# P4\n",
    "\n",
    "i=1\n",
    "while i<6:\n",
    "    j=1\n",
    "    while j<i+1:\n",
    "        print(j,end=\" \")\n",
    "        j+=1\n",
    "    print()    \n",
    "    i+=1    "
   ]
  },
  {
   "cell_type": "code",
   "execution_count": 32,
   "id": "8d1c7074-9888-4fae-baa6-b1dc7849b0d0",
   "metadata": {},
   "outputs": [
    {
     "name": "stdout",
     "output_type": "stream",
     "text": [
      "* * * * * \n",
      "* * * * \n",
      "* * * \n",
      "* * \n",
      "* \n"
     ]
    }
   ],
   "source": [
    "# P5\n",
    "\n",
    "i=5\n",
    "while i>0:\n",
    "    j=0\n",
    "    while j<i:\n",
    "        print(\"*\",end=\" \")\n",
    "        j+=1\n",
    "    print()    \n",
    "    i-=1    "
   ]
  },
  {
   "cell_type": "code",
   "execution_count": 42,
   "id": "450ffdc4-5cf6-457e-b251-c5c1ae9181d1",
   "metadata": {},
   "outputs": [
    {
     "name": "stdout",
     "output_type": "stream",
     "text": [
      "5 4 3 2 1 \n",
      "4 3 2 1 \n",
      "3 2 1 \n",
      "2 1 \n",
      "1 \n"
     ]
    }
   ],
   "source": [
    "# P5\n",
    "\n",
    "i=5\n",
    "while i>0:\n",
    "    j=i\n",
    "    while j>0:\n",
    "        print(j,end=\" \")\n",
    "        j-=1\n",
    "    print()    \n",
    "    i-=1    "
   ]
  },
  {
   "cell_type": "code",
   "execution_count": 52,
   "id": "2c356eef-d226-4171-bec3-27a556ba6e2a",
   "metadata": {},
   "outputs": [
    {
     "name": "stdout",
     "output_type": "stream",
     "text": [
      "     * \n",
      "    * * \n",
      "   * * * \n",
      "  * * * * \n",
      " * * * * * \n"
     ]
    }
   ],
   "source": [
    "#P6\n",
    "\n",
    "i=0\n",
    "while i<5:\n",
    "    j=5\n",
    "    while j>i:\n",
    "        print(\" \",end=\"\")\n",
    "        j-=1\n",
    "    k=0\n",
    "    while k<i+1:\n",
    "        print(\"*\",end=\" \")\n",
    "        k+=1\n",
    "\n",
    "    print()\n",
    "    i+=1"
   ]
  },
  {
   "cell_type": "code",
   "execution_count": 53,
   "id": "fed47168-0876-4fc2-8099-0436020bf33b",
   "metadata": {},
   "outputs": [
    {
     "name": "stdout",
     "output_type": "stream",
     "text": [
      "     1 \n",
      "    1 2 \n",
      "   1 2 3 \n",
      "  1 2 3 4 \n",
      " 1 2 3 4 5 \n"
     ]
    }
   ],
   "source": [
    "#P7\n",
    "\n",
    "i=0\n",
    "while i<5:\n",
    "    j=5\n",
    "    while j>i:\n",
    "        print(\" \",end=\"\")\n",
    "        j-=1\n",
    "    k=0\n",
    "    while k<i+1:\n",
    "        print(k+1,end=\" \")\n",
    "        k+=1\n",
    "\n",
    "    print()\n",
    "    i+=1"
   ]
  },
  {
   "cell_type": "code",
   "execution_count": 54,
   "id": "41eca2f2-caa2-408c-9b67-c4c437622990",
   "metadata": {},
   "outputs": [
    {
     "name": "stdout",
     "output_type": "stream",
     "text": [
      "     *\n",
      "    **\n",
      "   ***\n",
      "  ****\n",
      " *****\n"
     ]
    }
   ],
   "source": [
    "#P8\n",
    "\n",
    "i=0\n",
    "while i<5:\n",
    "    j=5\n",
    "    while j>i:\n",
    "        print(\" \",end=\"\")\n",
    "        j-=1\n",
    "    k=0\n",
    "    while k<i+1:\n",
    "        print(\"*\",end=\"\")\n",
    "        k+=1\n",
    "\n",
    "    print()\n",
    "    i+=1"
   ]
  },
  {
   "cell_type": "code",
   "execution_count": 55,
   "id": "2e6469d6-f0d1-475a-8796-6628dd9a2128",
   "metadata": {},
   "outputs": [
    {
     "name": "stdout",
     "output_type": "stream",
     "text": [
      "     1\n",
      "    12\n",
      "   123\n",
      "  1234\n",
      " 12345\n"
     ]
    }
   ],
   "source": [
    "#P9\n",
    "\n",
    "i=0\n",
    "while i<5:\n",
    "    j=5\n",
    "    while j>i:\n",
    "        print(\" \",end=\"\")\n",
    "        j-=1\n",
    "    k=0\n",
    "    while k<i+1:\n",
    "        print(k+1,end=\"\")\n",
    "        k+=1\n",
    "\n",
    "    print()\n",
    "    i+=1"
   ]
  },
  {
   "cell_type": "code",
   "execution_count": 60,
   "id": "7ce6e760-7b73-4b02-8b01-b1f7cf11accc",
   "metadata": {},
   "outputs": [
    {
     "name": "stdout",
     "output_type": "stream",
     "text": [
      "     *\n",
      "    ***\n",
      "   *****\n",
      "  *******\n",
      " *********\n"
     ]
    }
   ],
   "source": [
    "#P10\n",
    "\n",
    "\n",
    "i=0\n",
    "while i<5:\n",
    "    j=5\n",
    "    while j>i:\n",
    "        print(\" \",end=\"\")\n",
    "        j-=1\n",
    "    k=0\n",
    "    while k<((2*i)+1):\n",
    "        print(\"*\",end=\"\")\n",
    "        k+=1\n",
    "\n",
    "    print()\n",
    "    i+=1"
   ]
  },
  {
   "cell_type": "code",
   "execution_count": 61,
   "id": "9dab98cd-0dc1-4a81-b03a-7481e50ef2b8",
   "metadata": {},
   "outputs": [
    {
     "name": "stdout",
     "output_type": "stream",
     "text": [
      "     1\n",
      "    222\n",
      "   33333\n",
      "  4444444\n",
      " 555555555\n"
     ]
    }
   ],
   "source": [
    "# P11\n",
    "\n",
    "i=0\n",
    "while i<5:\n",
    "    j=5\n",
    "    while j>i:\n",
    "        print(\" \",end=\"\")\n",
    "        j-=1\n",
    "    k=0\n",
    "    while k<((2*i)+1):\n",
    "        print(i+1,end=\"\")\n",
    "        k+=1\n",
    "\n",
    "    print()\n",
    "    i+=1"
   ]
  },
  {
   "cell_type": "code",
   "execution_count": 62,
   "id": "737510f9-9584-4b73-a989-93f7fa8e625b",
   "metadata": {},
   "outputs": [
    {
     "name": "stdout",
     "output_type": "stream",
     "text": [
      "     1\n",
      "    123\n",
      "   12345\n",
      "  1234567\n",
      " 123456789\n"
     ]
    }
   ],
   "source": [
    "# P12\n",
    "\n",
    "i=0\n",
    "while i<5:\n",
    "    j=5\n",
    "    while j>i:\n",
    "        print(\" \",end=\"\")\n",
    "        j-=1\n",
    "    k=0\n",
    "    while k<((2*i)+1):\n",
    "        print(k+1,end=\"\")\n",
    "        k+=1\n",
    "\n",
    "    print()\n",
    "    i+=1"
   ]
  },
  {
   "cell_type": "code",
   "execution_count": 65,
   "id": "23ddcd13-a4fa-41b4-9237-410e08002f32",
   "metadata": {},
   "outputs": [
    {
     "name": "stdout",
     "output_type": "stream",
     "text": [
      "          * \n",
      "        * * * \n",
      "      * * * * * \n",
      "    * * * * * * * \n",
      "  * * * * * * * * * \n"
     ]
    }
   ],
   "source": [
    "#P13\n",
    "\n",
    "\n",
    "i=0\n",
    "while i<5:\n",
    "    j=5\n",
    "    while j>i:\n",
    "        print(\" \",end=\" \")\n",
    "        j-=1\n",
    "    k=0\n",
    "    while k<2*i+1:\n",
    "        print(\"*\",end=\" \")\n",
    "        k+=1\n",
    "\n",
    "    print()\n",
    "    i+=1"
   ]
  },
  {
   "cell_type": "markdown",
   "id": "7ea7a256-5ac5-4b9b-9bc0-915690d72464",
   "metadata": {},
   "source": [
    "# 2. For Loop\n",
    "        syntax:-    for var in iterable:\n",
    "                            st"
   ]
  },
  {
   "cell_type": "code",
   "execution_count": 66,
   "id": "5dceeab2-e03c-4bf1-a91f-a7b220a14365",
   "metadata": {},
   "outputs": [
    {
     "name": "stdout",
     "output_type": "stream",
     "text": [
      "12\n",
      "345\n",
      "67\n",
      "78\n",
      "9\n",
      "45\n",
      "89\n"
     ]
    }
   ],
   "source": [
    "ls=[12,345,67,78,9,45,89]\n",
    "\n",
    "i=0\n",
    "while i<len(ls):\n",
    "    print(ls[i])\n",
    "    i+=1"
   ]
  },
  {
   "cell_type": "code",
   "execution_count": 69,
   "id": "c557695c-c960-4213-b8db-079ff0af239e",
   "metadata": {},
   "outputs": [
    {
     "name": "stdout",
     "output_type": "stream",
     "text": [
      "12\n",
      "345\n",
      "67\n",
      "78\n",
      "9\n",
      "45\n",
      "89\n"
     ]
    }
   ],
   "source": [
    "for var in ls:                   # no need of manually indexing\n",
    "    print(var)"
   ]
  },
  {
   "cell_type": "code",
   "execution_count": 70,
   "id": "bde9dd5a-57fb-4357-b6a3-d8f8e177bd0f",
   "metadata": {},
   "outputs": [
    {
     "data": {
      "text/plain": [
       "[12, 345, 67, 78, 9, 45, 89]"
      ]
     },
     "execution_count": 70,
     "metadata": {},
     "output_type": "execute_result"
    }
   ],
   "source": [
    "ls"
   ]
  },
  {
   "cell_type": "code",
   "execution_count": 71,
   "id": "b1644ee8-d098-49df-b68e-3119662793b0",
   "metadata": {},
   "outputs": [
    {
     "name": "stdout",
     "output_type": "stream",
     "text": [
      "12\n",
      "78\n"
     ]
    }
   ],
   "source": [
    "for i in ls:\n",
    "    if i%2 == 0:\n",
    "        print(i)"
   ]
  },
  {
   "cell_type": "code",
   "execution_count": 72,
   "id": "565f7dd9-b876-4977-b7bd-dfe5870d5556",
   "metadata": {},
   "outputs": [
    {
     "name": "stdout",
     "output_type": "stream",
     "text": [
      "h\n",
      "e\n",
      "l\n",
      "l\n",
      "o\n",
      " \n",
      "w\n",
      "o\n",
      "r\n",
      "l\n",
      "d\n"
     ]
    }
   ],
   "source": [
    "for i in \"hello world\":\n",
    "    print(i)"
   ]
  },
  {
   "cell_type": "code",
   "execution_count": 73,
   "id": "cb78c219-72c2-4b12-af5a-a3790df84d14",
   "metadata": {},
   "outputs": [
    {
     "data": {
      "text/plain": [
       "{'name': 'deep', 'age': 23, 'address': 'jaipur'}"
      ]
     },
     "execution_count": 73,
     "metadata": {},
     "output_type": "execute_result"
    }
   ],
   "source": [
    "d={'name':'deep','age':23, 'address':'jaipur'}\n",
    "d"
   ]
  },
  {
   "cell_type": "code",
   "execution_count": 74,
   "id": "fa71e3ca-189c-4aa6-b7c0-a826db04d8e1",
   "metadata": {},
   "outputs": [
    {
     "name": "stdout",
     "output_type": "stream",
     "text": [
      "name\n",
      "age\n",
      "address\n"
     ]
    }
   ],
   "source": [
    "for i in d:\n",
    "    print(i)"
   ]
  },
  {
   "cell_type": "code",
   "execution_count": 75,
   "id": "43478354-161a-45d4-ab45-f94ad508c843",
   "metadata": {},
   "outputs": [
    {
     "name": "stdout",
     "output_type": "stream",
     "text": [
      "deep\n",
      "23\n",
      "jaipur\n"
     ]
    }
   ],
   "source": [
    "for i in d:\n",
    "    print(d[i])"
   ]
  },
  {
   "cell_type": "code",
   "execution_count": 76,
   "id": "a289632b-28f6-4eb3-9d25-7cb02151a571",
   "metadata": {},
   "outputs": [
    {
     "name": "stdout",
     "output_type": "stream",
     "text": [
      "name=deep\n",
      "age=23\n",
      "address=jaipur\n"
     ]
    }
   ],
   "source": [
    "for i in d:\n",
    "    print(f\"{i}={d[i]}\")"
   ]
  },
  {
   "cell_type": "code",
   "execution_count": null,
   "id": "aa24d62f-b79e-48c6-9fef-8247260978c1",
   "metadata": {},
   "outputs": [],
   "source": []
  },
  {
   "cell_type": "code",
   "execution_count": 81,
   "id": "b53adbc9-1282-40ab-9789-f57186689dda",
   "metadata": {},
   "outputs": [
    {
     "name": "stdout",
     "output_type": "stream",
     "text": [
      "{32, 2, 34, 4, 6, 234, 78, 23, 789, 87, 56, 7897, 798}\n"
     ]
    }
   ],
   "source": [
    "s={32,56,78,23,4,2,6,87,34,789,23,78,234,7897,34,798}       #set has no indexes\n",
    "print(s)"
   ]
  },
  {
   "cell_type": "code",
   "execution_count": 82,
   "id": "fc3d5591-77db-459e-9611-0ee2d3d2df36",
   "metadata": {},
   "outputs": [
    {
     "name": "stdout",
     "output_type": "stream",
     "text": [
      "32\n",
      "2\n",
      "34\n",
      "4\n",
      "6\n",
      "234\n",
      "78\n",
      "23\n",
      "789\n",
      "87\n",
      "56\n",
      "7897\n",
      "798\n"
     ]
    }
   ],
   "source": [
    "for i in s:\n",
    "    print(i)"
   ]
  },
  {
   "cell_type": "code",
   "execution_count": null,
   "id": "9745e602-5fea-4cae-a356-2a7ae8ee836c",
   "metadata": {},
   "outputs": [],
   "source": []
  },
  {
   "cell_type": "code",
   "execution_count": 83,
   "id": "aeba5aa5-578a-48b3-b382-3da3b8e53c4a",
   "metadata": {},
   "outputs": [
    {
     "data": {
      "text/plain": [
       "[12, 345, 67, 78, 9, 45, 89]"
      ]
     },
     "execution_count": 83,
     "metadata": {},
     "output_type": "execute_result"
    }
   ],
   "source": [
    "ls"
   ]
  },
  {
   "cell_type": "code",
   "execution_count": 85,
   "id": "fb00cc0a-e061-4aba-a361-265d0499b278",
   "metadata": {},
   "outputs": [],
   "source": [
    "for i in ls:\n",
    "    if i%3==0:\n",
    "        break\n",
    "    print(i)    "
   ]
  },
  {
   "cell_type": "code",
   "execution_count": null,
   "id": "db8822b4-9886-47c6-ae1e-5ebd9e9a24ed",
   "metadata": {},
   "outputs": [],
   "source": []
  },
  {
   "cell_type": "code",
   "execution_count": 86,
   "id": "dbae4dbd-36fa-4594-9572-9900ac2972d8",
   "metadata": {},
   "outputs": [
    {
     "name": "stdout",
     "output_type": "stream",
     "text": [
      "{32, 2, 34, 4, 6, 234, 78, 23, 789, 87, 56, 7897, 798}\n"
     ]
    }
   ],
   "source": [
    "print(s)"
   ]
  },
  {
   "cell_type": "code",
   "execution_count": 87,
   "id": "7de1c32b-56e5-4d26-a8c4-494bb36ceaf7",
   "metadata": {},
   "outputs": [
    {
     "name": "stdout",
     "output_type": "stream",
     "text": [
      "32\n",
      "2\n",
      "34\n",
      "4\n",
      "23\n",
      "56\n",
      "7897\n"
     ]
    }
   ],
   "source": [
    "for i in s:\n",
    "    if i%3==0:\n",
    "        continue\n",
    "    else:\n",
    "        print(i)"
   ]
  },
  {
   "cell_type": "code",
   "execution_count": null,
   "id": "4d6fa9f2-ef7f-432d-966d-b9654fece465",
   "metadata": {},
   "outputs": [],
   "source": []
  },
  {
   "cell_type": "code",
   "execution_count": 88,
   "id": "d957a333-2154-4da3-acff-3668792c0fa9",
   "metadata": {},
   "outputs": [
    {
     "data": {
      "text/plain": [
       "['1', '2', '3', '4', '5']"
      ]
     },
     "execution_count": 88,
     "metadata": {},
     "output_type": "execute_result"
    }
   ],
   "source": [
    "lst=['1','2','3','4','5']\n",
    "lst"
   ]
  },
  {
   "cell_type": "code",
   "execution_count": 92,
   "id": "d6cba916-d831-41b9-8fa9-7904d91a0961",
   "metadata": {},
   "outputs": [
    {
     "name": "stdout",
     "output_type": "stream",
     "text": [
      "[1, 2, 3, 4, 5]\n"
     ]
    }
   ],
   "source": [
    "i=0\n",
    "while i<len(lst):\n",
    "    lst[i]=int(lst[i])\n",
    "    i+=1\n",
    "else:\n",
    "    print(lst)"
   ]
  },
  {
   "cell_type": "markdown",
   "id": "496242d4-46ce-43d4-8da9-26cc28a29718",
   "metadata": {},
   "source": [
    "### range function\n",
    "                    syntax:-  range(start,end,step)"
   ]
  },
  {
   "cell_type": "code",
   "execution_count": 93,
   "id": "94281313-64b8-43f8-8e34-9637db1ee7d6",
   "metadata": {},
   "outputs": [
    {
     "data": {
      "text/plain": [
       "range(1, 20)"
      ]
     },
     "execution_count": 93,
     "metadata": {},
     "output_type": "execute_result"
    }
   ],
   "source": [
    "range(1,20)"
   ]
  },
  {
   "cell_type": "code",
   "execution_count": 96,
   "id": "19b12aa6-5e52-4313-a8bc-d6348dafeb92",
   "metadata": {},
   "outputs": [
    {
     "name": "stdout",
     "output_type": "stream",
     "text": [
      "1\n",
      "2\n",
      "3\n",
      "4\n",
      "5\n",
      "6\n",
      "7\n",
      "8\n",
      "9\n",
      "10\n"
     ]
    }
   ],
   "source": [
    "for i in range(1,11): \n",
    "    print(i)"
   ]
  },
  {
   "cell_type": "code",
   "execution_count": 97,
   "id": "a7312d42-ed09-47d7-9326-aebf64e54e06",
   "metadata": {},
   "outputs": [
    {
     "name": "stdout",
     "output_type": "stream",
     "text": [
      "0\n",
      "1\n",
      "2\n",
      "3\n",
      "4\n",
      "5\n",
      "6\n",
      "7\n",
      "8\n",
      "9\n"
     ]
    }
   ],
   "source": [
    "for i in range(10):\n",
    "    print(i)"
   ]
  },
  {
   "cell_type": "code",
   "execution_count": 98,
   "id": "09bd510c-98e6-4e29-aa78-a1689fc06bd3",
   "metadata": {},
   "outputs": [
    {
     "name": "stdout",
     "output_type": "stream",
     "text": [
      "2\n",
      "4\n",
      "6\n",
      "8\n",
      "10\n",
      "12\n",
      "14\n",
      "16\n",
      "18\n",
      "20\n"
     ]
    }
   ],
   "source": [
    "for i in range(2,21,2): \n",
    "    print(i)"
   ]
  },
  {
   "cell_type": "code",
   "execution_count": 99,
   "id": "31784898-4aa4-40f9-a161-8bef8aab8094",
   "metadata": {},
   "outputs": [
    {
     "name": "stdin",
     "output_type": "stream",
     "text": [
      "Enter a number:  5\n"
     ]
    },
    {
     "name": "stdout",
     "output_type": "stream",
     "text": [
      "5\n",
      "10\n",
      "15\n",
      "20\n",
      "25\n",
      "30\n",
      "35\n",
      "40\n",
      "45\n",
      "50\n"
     ]
    }
   ],
   "source": [
    "num=int(input(\"Enter a number: \"))\n",
    "for i in range(num,num*10+1, num):\n",
    "    print(i)"
   ]
  },
  {
   "cell_type": "code",
   "execution_count": 104,
   "id": "31bc881b-c2eb-441e-a297-a943d0402644",
   "metadata": {},
   "outputs": [
    {
     "data": {
      "text/plain": [
       "[1, 2, 3, 4, 5]"
      ]
     },
     "execution_count": 104,
     "metadata": {},
     "output_type": "execute_result"
    }
   ],
   "source": [
    "lst"
   ]
  },
  {
   "cell_type": "code",
   "execution_count": 105,
   "id": "1d619bff-1b10-40d8-aecd-997f95109edb",
   "metadata": {},
   "outputs": [
    {
     "name": "stdout",
     "output_type": "stream",
     "text": [
      "1\n",
      "2\n",
      "3\n",
      "4\n",
      "5\n"
     ]
    }
   ],
   "source": [
    "for i in range(len(lst)):\n",
    "    print(lst[i])"
   ]
  },
  {
   "cell_type": "code",
   "execution_count": null,
   "id": "ace36f17-9342-4789-944b-e06ac3f44ddc",
   "metadata": {},
   "outputs": [],
   "source": []
  }
 ],
 "metadata": {
  "kernelspec": {
   "display_name": "Python 3 (ipykernel)",
   "language": "python",
   "name": "python3"
  },
  "language_info": {
   "codemirror_mode": {
    "name": "ipython",
    "version": 3
   },
   "file_extension": ".py",
   "mimetype": "text/x-python",
   "name": "python",
   "nbconvert_exporter": "python",
   "pygments_lexer": "ipython3",
   "version": "3.11.3"
  }
 },
 "nbformat": 4,
 "nbformat_minor": 5
}
