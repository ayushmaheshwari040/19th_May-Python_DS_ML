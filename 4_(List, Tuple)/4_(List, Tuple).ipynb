{
 "cells": [
  {
   "cell_type": "markdown",
   "id": "88d7a067-61a7-4688-9ce3-c1d96c3ad005",
   "metadata": {},
   "source": [
    "# List"
   ]
  },
  {
   "cell_type": "code",
   "execution_count": null,
   "id": "d23ef8ce-a28f-4358-913a-1c7274fd64c6",
   "metadata": {},
   "outputs": [],
   "source": []
  },
  {
   "cell_type": "code",
   "execution_count": 1,
   "id": "feb893ff-a3dc-463b-80b4-1bda763e0e67",
   "metadata": {},
   "outputs": [
    {
     "name": "stdout",
     "output_type": "stream",
     "text": [
      "['append', 'clear', 'copy', 'count', 'extend', 'index', 'insert', 'pop', 'remove', 'reverse', 'sort']\n"
     ]
    }
   ],
   "source": [
    "print([i for i in dir(list) if not i.startswith('__')])"
   ]
  },
  {
   "cell_type": "code",
   "execution_count": null,
   "id": "4812b9e8-be2d-4c2c-abb2-550a249b7dce",
   "metadata": {},
   "outputs": [],
   "source": []
  },
  {
   "cell_type": "code",
   "execution_count": 4,
   "id": "15c25cbc-fff7-403b-9888-d0596c4666bd",
   "metadata": {},
   "outputs": [],
   "source": [
    "ls = [10,20,30,40,50,60,70]\n",
    "#      0  1  2  3  4  5  6\n",
    "#     -7 -6 -5 -4 -3 -2 -1"
   ]
  },
  {
   "cell_type": "code",
   "execution_count": 5,
   "id": "25d91506-7faf-4669-8d34-c91365bce9ff",
   "metadata": {},
   "outputs": [
    {
     "data": {
      "text/plain": [
       "[10, 20, 30, 40, 50, 60, 70]"
      ]
     },
     "execution_count": 5,
     "metadata": {},
     "output_type": "execute_result"
    }
   ],
   "source": [
    "ls"
   ]
  },
  {
   "cell_type": "code",
   "execution_count": 6,
   "id": "1011f4e7-1be6-47e4-9018-9fbe6ed6f30d",
   "metadata": {},
   "outputs": [
    {
     "data": {
      "text/plain": [
       "10"
      ]
     },
     "execution_count": 6,
     "metadata": {},
     "output_type": "execute_result"
    }
   ],
   "source": [
    "ls[0]"
   ]
  },
  {
   "cell_type": "code",
   "execution_count": 7,
   "id": "f06f8f69-2b3c-4dfa-a48c-ab27e51017d9",
   "metadata": {},
   "outputs": [
    {
     "data": {
      "text/plain": [
       "30"
      ]
     },
     "execution_count": 7,
     "metadata": {},
     "output_type": "execute_result"
    }
   ],
   "source": [
    "ls[2]"
   ]
  },
  {
   "cell_type": "code",
   "execution_count": 8,
   "id": "4ef9a5fc-8518-47db-94a3-09f5367d7c38",
   "metadata": {},
   "outputs": [
    {
     "data": {
      "text/plain": [
       "50"
      ]
     },
     "execution_count": 8,
     "metadata": {},
     "output_type": "execute_result"
    }
   ],
   "source": [
    "ls[4]"
   ]
  },
  {
   "cell_type": "code",
   "execution_count": 9,
   "id": "484363f7-2cc9-40d9-ac0f-f8c4fd688b90",
   "metadata": {},
   "outputs": [
    {
     "data": {
      "text/plain": [
       "60"
      ]
     },
     "execution_count": 9,
     "metadata": {},
     "output_type": "execute_result"
    }
   ],
   "source": [
    "ls[-2]"
   ]
  },
  {
   "cell_type": "code",
   "execution_count": null,
   "id": "95c3a25a-b714-48c8-802c-a5b48f0815db",
   "metadata": {},
   "outputs": [],
   "source": []
  },
  {
   "cell_type": "code",
   "execution_count": 10,
   "id": "6f2c85bd-514d-4705-8819-0ff8648e58c1",
   "metadata": {},
   "outputs": [
    {
     "data": {
      "text/plain": [
       "[10, 20, 30, 40, 50, 60, 70]"
      ]
     },
     "execution_count": 10,
     "metadata": {},
     "output_type": "execute_result"
    }
   ],
   "source": [
    "ls"
   ]
  },
  {
   "cell_type": "code",
   "execution_count": 11,
   "id": "ef1bb74d-7cae-484c-92e6-4fcea4b196b2",
   "metadata": {},
   "outputs": [
    {
     "data": {
      "text/plain": [
       "30"
      ]
     },
     "execution_count": 11,
     "metadata": {},
     "output_type": "execute_result"
    }
   ],
   "source": [
    "ls[2]"
   ]
  },
  {
   "cell_type": "code",
   "execution_count": 12,
   "id": "8c592095-3558-421c-b07d-bc965e952862",
   "metadata": {},
   "outputs": [],
   "source": [
    "ls[2] = 100"
   ]
  },
  {
   "cell_type": "code",
   "execution_count": 13,
   "id": "50bc5477-363d-418d-89c4-96f2afee00d8",
   "metadata": {},
   "outputs": [
    {
     "data": {
      "text/plain": [
       "[10, 20, 100, 40, 50, 60, 70]"
      ]
     },
     "execution_count": 13,
     "metadata": {},
     "output_type": "execute_result"
    }
   ],
   "source": [
    "ls"
   ]
  },
  {
   "cell_type": "code",
   "execution_count": null,
   "id": "68722236-2be6-4ce6-8222-324bbb4039c8",
   "metadata": {},
   "outputs": [],
   "source": []
  },
  {
   "cell_type": "code",
   "execution_count": 14,
   "id": "b2e53986-705e-4e10-ac24-9884fb7affdb",
   "metadata": {},
   "outputs": [],
   "source": [
    "names = ['deep', 'simran', 'sachin', 'gaurav', 'rajat', 'yadvendra']"
   ]
  },
  {
   "cell_type": "code",
   "execution_count": 15,
   "id": "b1193ac9-161d-4b53-97c7-f51c1b467b08",
   "metadata": {},
   "outputs": [
    {
     "data": {
      "text/plain": [
       "['deep', 'simran', 'sachin', 'gaurav', 'rajat', 'yadvendra']"
      ]
     },
     "execution_count": 15,
     "metadata": {},
     "output_type": "execute_result"
    }
   ],
   "source": [
    "names"
   ]
  },
  {
   "cell_type": "code",
   "execution_count": null,
   "id": "6848d044-a0fd-45ae-bfaf-3b5f5fb5ab60",
   "metadata": {},
   "outputs": [],
   "source": []
  },
  {
   "cell_type": "code",
   "execution_count": 16,
   "id": "6d72472f-0f86-4c5c-9657-8140ff7a7b7a",
   "metadata": {},
   "outputs": [],
   "source": [
    "data = ['hello', 23,45, [12,34,56], (23,67,43)]"
   ]
  },
  {
   "cell_type": "code",
   "execution_count": 17,
   "id": "70b6c5af-a7da-48be-b6b2-aa1f33ebf8b4",
   "metadata": {},
   "outputs": [
    {
     "data": {
      "text/plain": [
       "['hello', 23, 45, [12, 34, 56], (23, 67, 43)]"
      ]
     },
     "execution_count": 17,
     "metadata": {},
     "output_type": "execute_result"
    }
   ],
   "source": [
    "data"
   ]
  },
  {
   "cell_type": "code",
   "execution_count": null,
   "id": "0259ab0b-e592-4a70-9fcd-b8a971f0cb51",
   "metadata": {},
   "outputs": [],
   "source": []
  },
  {
   "cell_type": "code",
   "execution_count": 18,
   "id": "e38ac240-336c-4e18-9960-636f0a96f7c5",
   "metadata": {},
   "outputs": [
    {
     "data": {
      "text/plain": [
       "[10, 20, 100, 40, 50, 60, 70]"
      ]
     },
     "execution_count": 18,
     "metadata": {},
     "output_type": "execute_result"
    }
   ],
   "source": [
    "ls"
   ]
  },
  {
   "cell_type": "code",
   "execution_count": 19,
   "id": "25260099-8b5a-40af-8a6d-56419b7c3695",
   "metadata": {},
   "outputs": [],
   "source": [
    "ls.append(295)"
   ]
  },
  {
   "cell_type": "code",
   "execution_count": 20,
   "id": "b1dbaade-dc48-4ce4-a46e-432d77a24430",
   "metadata": {},
   "outputs": [
    {
     "data": {
      "text/plain": [
       "[10, 20, 100, 40, 50, 60, 70, 295]"
      ]
     },
     "execution_count": 20,
     "metadata": {},
     "output_type": "execute_result"
    }
   ],
   "source": [
    "ls"
   ]
  },
  {
   "cell_type": "code",
   "execution_count": 21,
   "id": "998ba563-2d78-4a73-af9f-07a1aff1784b",
   "metadata": {},
   "outputs": [
    {
     "ename": "TypeError",
     "evalue": "list.append() takes exactly one argument (2 given)",
     "output_type": "error",
     "traceback": [
      "\u001b[1;31m---------------------------------------------------------------------------\u001b[0m",
      "\u001b[1;31mTypeError\u001b[0m                                 Traceback (most recent call last)",
      "Cell \u001b[1;32mIn[21], line 1\u001b[0m\n\u001b[1;32m----> 1\u001b[0m ls\u001b[38;5;241m.\u001b[39mappend(\u001b[38;5;241m295\u001b[39m,\u001b[38;5;241m20\u001b[39m)\n",
      "\u001b[1;31mTypeError\u001b[0m: list.append() takes exactly one argument (2 given)"
     ]
    }
   ],
   "source": [
    "ls.append(295,20)\n"
   ]
  },
  {
   "cell_type": "code",
   "execution_count": null,
   "id": "9a724e16-bd11-4368-9c2b-662475fb0a62",
   "metadata": {},
   "outputs": [],
   "source": []
  },
  {
   "cell_type": "code",
   "execution_count": 22,
   "id": "628d730e-1eac-48ab-8bb6-3178c978ce3f",
   "metadata": {},
   "outputs": [
    {
     "data": {
      "text/plain": [
       "[10, 20, 100, 40, 50, 60, 70, 295]"
      ]
     },
     "execution_count": 22,
     "metadata": {},
     "output_type": "execute_result"
    }
   ],
   "source": [
    "ls"
   ]
  },
  {
   "cell_type": "code",
   "execution_count": 23,
   "id": "40e0ff7e-1c64-47e5-9ab1-c25bd5c5d157",
   "metadata": {},
   "outputs": [],
   "source": [
    "ls.extend(['python', 'java', 'c++'])"
   ]
  },
  {
   "cell_type": "code",
   "execution_count": 24,
   "id": "bac774f3-4df0-4554-8fc9-2eebb1025122",
   "metadata": {},
   "outputs": [
    {
     "data": {
      "text/plain": [
       "[10, 20, 100, 40, 50, 60, 70, 295, 'python', 'java', 'c++']"
      ]
     },
     "execution_count": 24,
     "metadata": {},
     "output_type": "execute_result"
    }
   ],
   "source": [
    "ls"
   ]
  },
  {
   "cell_type": "code",
   "execution_count": null,
   "id": "bebc7dcb-d644-4b4e-bbf4-1cd6157bad4c",
   "metadata": {},
   "outputs": [],
   "source": []
  },
  {
   "cell_type": "code",
   "execution_count": 25,
   "id": "3dc1966e-3c1f-491b-8f9e-d92c383f1867",
   "metadata": {},
   "outputs": [
    {
     "data": {
      "text/plain": [
       "['deep', 'simran', 'sachin', 'gaurav', 'rajat', 'yadvendra']"
      ]
     },
     "execution_count": 25,
     "metadata": {},
     "output_type": "execute_result"
    }
   ],
   "source": [
    "names"
   ]
  },
  {
   "cell_type": "code",
   "execution_count": 26,
   "id": "16e34116-3b0c-4418-a91b-0421eb2b7e93",
   "metadata": {},
   "outputs": [],
   "source": [
    "names.extend('sachin')"
   ]
  },
  {
   "cell_type": "code",
   "execution_count": 27,
   "id": "ea3fc89a-e731-4af1-bdcb-cb7b3c0c1f06",
   "metadata": {},
   "outputs": [
    {
     "data": {
      "text/plain": [
       "['deep',\n",
       " 'simran',\n",
       " 'sachin',\n",
       " 'gaurav',\n",
       " 'rajat',\n",
       " 'yadvendra',\n",
       " 's',\n",
       " 'a',\n",
       " 'c',\n",
       " 'h',\n",
       " 'i',\n",
       " 'n']"
      ]
     },
     "execution_count": 27,
     "metadata": {},
     "output_type": "execute_result"
    }
   ],
   "source": [
    "names"
   ]
  },
  {
   "cell_type": "code",
   "execution_count": null,
   "id": "a5f4a864-05f4-42f2-97c6-954cb0a55ac8",
   "metadata": {},
   "outputs": [],
   "source": []
  },
  {
   "cell_type": "code",
   "execution_count": 28,
   "id": "5fd6d0ef-9c26-4c04-a426-8451ce33db27",
   "metadata": {},
   "outputs": [
    {
     "data": {
      "text/plain": [
       "['hello', 23, 45, [12, 34, 56], (23, 67, 43)]"
      ]
     },
     "execution_count": 28,
     "metadata": {},
     "output_type": "execute_result"
    }
   ],
   "source": [
    "data"
   ]
  },
  {
   "cell_type": "code",
   "execution_count": 29,
   "id": "aae46b0e-f191-4b63-98bd-f38525fd4916",
   "metadata": {},
   "outputs": [],
   "source": [
    "data.append([100, 200, 300])"
   ]
  },
  {
   "cell_type": "code",
   "execution_count": 30,
   "id": "54e10bd1-0fae-43e5-bc38-66d86548b780",
   "metadata": {},
   "outputs": [
    {
     "data": {
      "text/plain": [
       "['hello', 23, 45, [12, 34, 56], (23, 67, 43), [100, 200, 300]]"
      ]
     },
     "execution_count": 30,
     "metadata": {},
     "output_type": "execute_result"
    }
   ],
   "source": [
    "data"
   ]
  },
  {
   "cell_type": "code",
   "execution_count": null,
   "id": "ceb88fd1-2ea4-4fb7-a3f3-ea5f794fc284",
   "metadata": {},
   "outputs": [],
   "source": []
  },
  {
   "cell_type": "code",
   "execution_count": 31,
   "id": "5ea34378-4083-4dd7-9b7f-f200534d6344",
   "metadata": {},
   "outputs": [
    {
     "data": {
      "text/plain": [
       "[10, 20, 100, 40, 50, 60, 70, 295, 'python', 'java', 'c++']"
      ]
     },
     "execution_count": 31,
     "metadata": {},
     "output_type": "execute_result"
    }
   ],
   "source": [
    "ls"
   ]
  },
  {
   "cell_type": "code",
   "execution_count": null,
   "id": "66c0bb82-2dc9-462b-a475-e6214f30725c",
   "metadata": {},
   "outputs": [],
   "source": []
  },
  {
   "cell_type": "code",
   "execution_count": 32,
   "id": "3fe7a3f2-2764-4116-b21c-a244881bd418",
   "metadata": {},
   "outputs": [],
   "source": [
    "ls.insert(1, 100)"
   ]
  },
  {
   "cell_type": "code",
   "execution_count": 33,
   "id": "1d81b4bf-20cb-4efa-aff1-370c0a99cead",
   "metadata": {},
   "outputs": [
    {
     "data": {
      "text/plain": [
       "[10, 100, 20, 100, 40, 50, 60, 70, 295, 'python', 'java', 'c++']"
      ]
     },
     "execution_count": 33,
     "metadata": {},
     "output_type": "execute_result"
    }
   ],
   "source": [
    "ls"
   ]
  },
  {
   "cell_type": "code",
   "execution_count": null,
   "id": "2fa81824-c296-4587-8ffa-f600df8b9d0a",
   "metadata": {},
   "outputs": [],
   "source": []
  },
  {
   "cell_type": "code",
   "execution_count": 34,
   "id": "396a45c3-9683-4532-a0b4-854253deac94",
   "metadata": {},
   "outputs": [],
   "source": [
    "ls.insert(5, ['hello', 23, 45, 56])"
   ]
  },
  {
   "cell_type": "code",
   "execution_count": 35,
   "id": "eb3d2049-0df0-422a-aacf-fdac5a47c993",
   "metadata": {},
   "outputs": [
    {
     "data": {
      "text/plain": [
       "[10,\n",
       " 100,\n",
       " 20,\n",
       " 100,\n",
       " 40,\n",
       " ['hello', 23, 45, 56],\n",
       " 50,\n",
       " 60,\n",
       " 70,\n",
       " 295,\n",
       " 'python',\n",
       " 'java',\n",
       " 'c++']"
      ]
     },
     "execution_count": 35,
     "metadata": {},
     "output_type": "execute_result"
    }
   ],
   "source": [
    "ls"
   ]
  },
  {
   "cell_type": "code",
   "execution_count": null,
   "id": "06c16a59-3e6c-4b26-be6f-aacaec1543ee",
   "metadata": {},
   "outputs": [],
   "source": []
  },
  {
   "cell_type": "code",
   "execution_count": 36,
   "id": "7bb29a6d-4e9d-46b4-8ae7-e00e4583334e",
   "metadata": {},
   "outputs": [
    {
     "data": {
      "text/plain": [
       "[10,\n",
       " 100,\n",
       " 20,\n",
       " 100,\n",
       " 40,\n",
       " ['hello', 23, 45, 56],\n",
       " 50,\n",
       " 60,\n",
       " 70,\n",
       " 295,\n",
       " 'python',\n",
       " 'java',\n",
       " 'c++']"
      ]
     },
     "execution_count": 36,
     "metadata": {},
     "output_type": "execute_result"
    }
   ],
   "source": [
    "ls"
   ]
  },
  {
   "cell_type": "code",
   "execution_count": 37,
   "id": "a13fe0c5-b5b8-4553-a1c8-498ba4931320",
   "metadata": {},
   "outputs": [
    {
     "data": {
      "text/plain": [
       "2"
      ]
     },
     "execution_count": 37,
     "metadata": {},
     "output_type": "execute_result"
    }
   ],
   "source": [
    "ls.count(100)"
   ]
  },
  {
   "cell_type": "code",
   "execution_count": null,
   "id": "3b6aac8d-3d4d-41da-8a58-bd0ab2c65ef1",
   "metadata": {},
   "outputs": [],
   "source": []
  },
  {
   "cell_type": "code",
   "execution_count": 38,
   "id": "000a1112-4485-4c52-ac5b-397f159c5872",
   "metadata": {},
   "outputs": [
    {
     "data": {
      "text/plain": [
       "[10,\n",
       " 100,\n",
       " 20,\n",
       " 100,\n",
       " 40,\n",
       " ['hello', 23, 45, 56],\n",
       " 50,\n",
       " 60,\n",
       " 70,\n",
       " 295,\n",
       " 'python',\n",
       " 'java',\n",
       " 'c++']"
      ]
     },
     "execution_count": 38,
     "metadata": {},
     "output_type": "execute_result"
    }
   ],
   "source": [
    "ls"
   ]
  },
  {
   "cell_type": "code",
   "execution_count": 39,
   "id": "e71e0a4e-171e-4b4d-a125-c5ce0b4d1c00",
   "metadata": {},
   "outputs": [
    {
     "data": {
      "text/plain": [
       "0"
      ]
     },
     "execution_count": 39,
     "metadata": {},
     "output_type": "execute_result"
    }
   ],
   "source": [
    "ls.index(10)"
   ]
  },
  {
   "cell_type": "code",
   "execution_count": 40,
   "id": "b4f66263-27fe-4083-b5c9-4242a6c724a6",
   "metadata": {},
   "outputs": [
    {
     "data": {
      "text/plain": [
       "12"
      ]
     },
     "execution_count": 40,
     "metadata": {},
     "output_type": "execute_result"
    }
   ],
   "source": [
    "ls.index('c++')"
   ]
  },
  {
   "cell_type": "code",
   "execution_count": 41,
   "id": "17930efc-e24b-4457-b964-473ebc2d7d7b",
   "metadata": {},
   "outputs": [
    {
     "data": {
      "text/plain": [
       "1"
      ]
     },
     "execution_count": 41,
     "metadata": {},
     "output_type": "execute_result"
    }
   ],
   "source": [
    "ls.index(100)"
   ]
  },
  {
   "cell_type": "code",
   "execution_count": 42,
   "id": "89dbf433-523b-42d0-8c4a-947c0ea027bd",
   "metadata": {},
   "outputs": [
    {
     "name": "stdout",
     "output_type": "stream",
     "text": [
      "[10, 100, 20, 100, 40, ['hello', 23, 45, 56], 50, 60, 70, 295, 'python', 'java', 'c++']\n"
     ]
    }
   ],
   "source": [
    "print(ls)"
   ]
  },
  {
   "cell_type": "code",
   "execution_count": 43,
   "id": "72f0b942-c880-4378-9dfa-9ca065617883",
   "metadata": {},
   "outputs": [
    {
     "data": {
      "text/plain": [
       "3"
      ]
     },
     "execution_count": 43,
     "metadata": {},
     "output_type": "execute_result"
    }
   ],
   "source": [
    "ls.index(100, 2)"
   ]
  },
  {
   "cell_type": "code",
   "execution_count": 44,
   "id": "dfcaa3d4-9ce6-4e96-a438-736c6b7bebbd",
   "metadata": {},
   "outputs": [
    {
     "data": {
      "text/plain": [
       "['hello', 23, 45, 56]"
      ]
     },
     "execution_count": 44,
     "metadata": {},
     "output_type": "execute_result"
    }
   ],
   "source": [
    "ls[5]"
   ]
  },
  {
   "cell_type": "code",
   "execution_count": 45,
   "id": "4c0691b7-2724-4e4a-8da5-081079b81be5",
   "metadata": {},
   "outputs": [
    {
     "data": {
      "text/plain": [
       "'hello'"
      ]
     },
     "execution_count": 45,
     "metadata": {},
     "output_type": "execute_result"
    }
   ],
   "source": [
    "ls[5][0]"
   ]
  },
  {
   "cell_type": "code",
   "execution_count": null,
   "id": "e7b804d8-b9d7-411b-9127-fce6ec7d052f",
   "metadata": {},
   "outputs": [],
   "source": []
  },
  {
   "cell_type": "code",
   "execution_count": 46,
   "id": "b3f5f085-b606-422f-8cdb-571cf71df12f",
   "metadata": {},
   "outputs": [
    {
     "data": {
      "text/plain": [
       "[10,\n",
       " 100,\n",
       " 20,\n",
       " 100,\n",
       " 40,\n",
       " ['hello', 23, 45, 56],\n",
       " 50,\n",
       " 60,\n",
       " 70,\n",
       " 295,\n",
       " 'python',\n",
       " 'java',\n",
       " 'c++']"
      ]
     },
     "execution_count": 46,
     "metadata": {},
     "output_type": "execute_result"
    }
   ],
   "source": [
    "ls"
   ]
  },
  {
   "cell_type": "code",
   "execution_count": 47,
   "id": "55dffd8e-8f91-4b62-9ccd-8ca2bc031aef",
   "metadata": {},
   "outputs": [],
   "source": [
    "ls.remove(10)"
   ]
  },
  {
   "cell_type": "code",
   "execution_count": 48,
   "id": "5e7f67af-a7a6-4f04-98eb-507819fcf2c8",
   "metadata": {},
   "outputs": [
    {
     "data": {
      "text/plain": [
       "[100,\n",
       " 20,\n",
       " 100,\n",
       " 40,\n",
       " ['hello', 23, 45, 56],\n",
       " 50,\n",
       " 60,\n",
       " 70,\n",
       " 295,\n",
       " 'python',\n",
       " 'java',\n",
       " 'c++']"
      ]
     },
     "execution_count": 48,
     "metadata": {},
     "output_type": "execute_result"
    }
   ],
   "source": [
    "ls"
   ]
  },
  {
   "cell_type": "code",
   "execution_count": 49,
   "id": "553148d1-4f6e-4125-90fe-32340853f1d9",
   "metadata": {},
   "outputs": [],
   "source": [
    "ls.remove(100)"
   ]
  },
  {
   "cell_type": "code",
   "execution_count": 50,
   "id": "a8b46b43-cbe8-43f4-a5ec-18ab7a625411",
   "metadata": {},
   "outputs": [
    {
     "data": {
      "text/plain": [
       "[20, 100, 40, ['hello', 23, 45, 56], 50, 60, 70, 295, 'python', 'java', 'c++']"
      ]
     },
     "execution_count": 50,
     "metadata": {},
     "output_type": "execute_result"
    }
   ],
   "source": [
    "ls"
   ]
  },
  {
   "cell_type": "code",
   "execution_count": 51,
   "id": "b65ea5ea-fd15-4b8d-b1c7-9621653e3f2c",
   "metadata": {},
   "outputs": [
    {
     "data": {
      "text/plain": [
       "100"
      ]
     },
     "execution_count": 51,
     "metadata": {},
     "output_type": "execute_result"
    }
   ],
   "source": [
    "ls.pop(1)"
   ]
  },
  {
   "cell_type": "code",
   "execution_count": 52,
   "id": "d1ad8a72-8156-47b8-9fc5-2e77bc384aa3",
   "metadata": {},
   "outputs": [
    {
     "data": {
      "text/plain": [
       "[20, 40, ['hello', 23, 45, 56], 50, 60, 70, 295, 'python', 'java', 'c++']"
      ]
     },
     "execution_count": 52,
     "metadata": {},
     "output_type": "execute_result"
    }
   ],
   "source": [
    "ls"
   ]
  },
  {
   "cell_type": "code",
   "execution_count": null,
   "id": "f824c67d-83f6-4a59-b9c3-159cbf5faaec",
   "metadata": {},
   "outputs": [],
   "source": []
  },
  {
   "cell_type": "code",
   "execution_count": 53,
   "id": "07f35985-291f-46d5-a22a-6b5e1936b882",
   "metadata": {},
   "outputs": [
    {
     "data": {
      "text/plain": [
       "'c++'"
      ]
     },
     "execution_count": 53,
     "metadata": {},
     "output_type": "execute_result"
    }
   ],
   "source": [
    "ls.pop()"
   ]
  },
  {
   "cell_type": "code",
   "execution_count": 54,
   "id": "beb4117c-e615-4554-9cce-bfa4afcdd463",
   "metadata": {},
   "outputs": [
    {
     "data": {
      "text/plain": [
       "[20, 40, ['hello', 23, 45, 56], 50, 60, 70, 295, 'python', 'java']"
      ]
     },
     "execution_count": 54,
     "metadata": {},
     "output_type": "execute_result"
    }
   ],
   "source": [
    "ls"
   ]
  },
  {
   "cell_type": "code",
   "execution_count": 55,
   "id": "29f4911e-ecec-477e-af57-16c3b3a13af2",
   "metadata": {},
   "outputs": [],
   "source": [
    "v = ls.pop(4)"
   ]
  },
  {
   "cell_type": "code",
   "execution_count": 56,
   "id": "f20e9409-d59c-45b7-930b-7627e6ec0554",
   "metadata": {},
   "outputs": [
    {
     "data": {
      "text/plain": [
       "60"
      ]
     },
     "execution_count": 56,
     "metadata": {},
     "output_type": "execute_result"
    }
   ],
   "source": [
    "v"
   ]
  },
  {
   "cell_type": "code",
   "execution_count": 57,
   "id": "22869267-fcd3-4708-a6f0-6a4b945aa349",
   "metadata": {},
   "outputs": [
    {
     "data": {
      "text/plain": [
       "[20, 40, ['hello', 23, 45, 56], 50, 70, 295, 'python', 'java']"
      ]
     },
     "execution_count": 57,
     "metadata": {},
     "output_type": "execute_result"
    }
   ],
   "source": [
    "ls"
   ]
  },
  {
   "cell_type": "code",
   "execution_count": null,
   "id": "c03a716a-69ca-4e4a-b137-d12c059090f3",
   "metadata": {},
   "outputs": [],
   "source": []
  },
  {
   "cell_type": "code",
   "execution_count": 58,
   "id": "60ae3da8-2c7f-4616-9a08-bd7cf32b2034",
   "metadata": {},
   "outputs": [
    {
     "data": {
      "text/plain": [
       "['hello', 23, 45, [12, 34, 56], (23, 67, 43), [100, 200, 300]]"
      ]
     },
     "execution_count": 58,
     "metadata": {},
     "output_type": "execute_result"
    }
   ],
   "source": [
    "data"
   ]
  },
  {
   "cell_type": "code",
   "execution_count": null,
   "id": "2523eca2-69e2-4155-a2ea-3cf581f3aa98",
   "metadata": {},
   "outputs": [],
   "source": []
  },
  {
   "cell_type": "code",
   "execution_count": 59,
   "id": "80a7cc4a-433f-405a-bc5d-f6b35ae79a2b",
   "metadata": {},
   "outputs": [],
   "source": [
    "data.clear()"
   ]
  },
  {
   "cell_type": "code",
   "execution_count": 60,
   "id": "733dbbdd-69c3-406f-bc2b-8a413181f4d4",
   "metadata": {},
   "outputs": [
    {
     "data": {
      "text/plain": [
       "[20, 40, ['hello', 23, 45, 56], 50, 70, 295, 'python', 'java']"
      ]
     },
     "execution_count": 60,
     "metadata": {},
     "output_type": "execute_result"
    }
   ],
   "source": [
    "ls"
   ]
  },
  {
   "cell_type": "code",
   "execution_count": 61,
   "id": "2234345b-7d50-487f-b1cb-772c95f726f9",
   "metadata": {},
   "outputs": [
    {
     "data": {
      "text/plain": [
       "[]"
      ]
     },
     "execution_count": 61,
     "metadata": {},
     "output_type": "execute_result"
    }
   ],
   "source": [
    "data"
   ]
  },
  {
   "cell_type": "code",
   "execution_count": null,
   "id": "8a5437e0-6ab7-4e47-942b-0ec9c76e4084",
   "metadata": {},
   "outputs": [],
   "source": []
  },
  {
   "cell_type": "code",
   "execution_count": 62,
   "id": "625adbb5-7621-4531-aca2-f99ddfae3a9b",
   "metadata": {},
   "outputs": [
    {
     "data": {
      "text/plain": [
       "[20, 40, ['hello', 23, 45, 56], 50, 70, 295, 'python', 'java']"
      ]
     },
     "execution_count": 62,
     "metadata": {},
     "output_type": "execute_result"
    }
   ],
   "source": [
    "ls"
   ]
  },
  {
   "cell_type": "code",
   "execution_count": 63,
   "id": "2840df9f-9a7b-4ec8-87bb-8fb4f2d570ea",
   "metadata": {},
   "outputs": [],
   "source": [
    "v = [23,45,23,67,3,678,89,34,89,34,89,45]"
   ]
  },
  {
   "cell_type": "code",
   "execution_count": 64,
   "id": "8a00c3d6-7537-40bc-85f6-4eaccfd449e2",
   "metadata": {},
   "outputs": [],
   "source": [
    "v.reverse()"
   ]
  },
  {
   "cell_type": "code",
   "execution_count": 65,
   "id": "dc7f6ecc-14da-4b8d-a7af-e5e34cfd0799",
   "metadata": {},
   "outputs": [
    {
     "data": {
      "text/plain": [
       "[45, 89, 34, 89, 34, 89, 678, 3, 67, 23, 45, 23]"
      ]
     },
     "execution_count": 65,
     "metadata": {},
     "output_type": "execute_result"
    }
   ],
   "source": [
    "v"
   ]
  },
  {
   "cell_type": "code",
   "execution_count": 66,
   "id": "c392e213-dca6-4303-bfd4-b852e715654a",
   "metadata": {},
   "outputs": [],
   "source": [
    "v.sort()"
   ]
  },
  {
   "cell_type": "code",
   "execution_count": 67,
   "id": "3748e259-46e2-4898-a707-80fd8f201292",
   "metadata": {},
   "outputs": [
    {
     "data": {
      "text/plain": [
       "[3, 23, 23, 34, 34, 45, 45, 67, 89, 89, 89, 678]"
      ]
     },
     "execution_count": 67,
     "metadata": {},
     "output_type": "execute_result"
    }
   ],
   "source": [
    "v"
   ]
  },
  {
   "cell_type": "code",
   "execution_count": 68,
   "id": "608c1456-87b3-42be-b343-ca7a4793e3d0",
   "metadata": {},
   "outputs": [],
   "source": [
    "l = [45, 89, 34, 89, 34, 89, 6]\n",
    "l.sort(reverse=True)"
   ]
  },
  {
   "cell_type": "code",
   "execution_count": 69,
   "id": "bc15f766-b028-4add-873c-d029e2429c8c",
   "metadata": {
    "scrolled": true
   },
   "outputs": [
    {
     "data": {
      "text/plain": [
       "[89, 89, 89, 45, 34, 34, 6]"
      ]
     },
     "execution_count": 69,
     "metadata": {},
     "output_type": "execute_result"
    }
   ],
   "source": [
    "l"
   ]
  },
  {
   "cell_type": "code",
   "execution_count": null,
   "id": "115b9a97-9e9f-4746-8f98-35928038839f",
   "metadata": {},
   "outputs": [],
   "source": []
  },
  {
   "cell_type": "code",
   "execution_count": 71,
   "id": "9fdf030c-973e-4a70-9898-0f441de3a241",
   "metadata": {},
   "outputs": [
    {
     "data": {
      "text/plain": [
       "[20, 40, ['hello', 23, 45, 56], 50, 70, 295, 'python', 'java']"
      ]
     },
     "execution_count": 71,
     "metadata": {},
     "output_type": "execute_result"
    }
   ],
   "source": [
    "ls"
   ]
  },
  {
   "cell_type": "code",
   "execution_count": 72,
   "id": "ce08ef97-4958-41bd-a6f5-4244f93804de",
   "metadata": {},
   "outputs": [
    {
     "ename": "TypeError",
     "evalue": "'<' not supported between instances of 'list' and 'int'",
     "output_type": "error",
     "traceback": [
      "\u001b[1;31m---------------------------------------------------------------------------\u001b[0m",
      "\u001b[1;31mTypeError\u001b[0m                                 Traceback (most recent call last)",
      "Cell \u001b[1;32mIn[72], line 1\u001b[0m\n\u001b[1;32m----> 1\u001b[0m ls\u001b[38;5;241m.\u001b[39msort()\n",
      "\u001b[1;31mTypeError\u001b[0m: '<' not supported between instances of 'list' and 'int'"
     ]
    }
   ],
   "source": [
    "ls.sort()"
   ]
  },
  {
   "cell_type": "code",
   "execution_count": null,
   "id": "47999487-92ec-4ccb-a2d7-1ace4edaa290",
   "metadata": {},
   "outputs": [],
   "source": []
  },
  {
   "cell_type": "code",
   "execution_count": 73,
   "id": "a67c90ff-be33-4a71-a4ff-a42d9e1d344f",
   "metadata": {},
   "outputs": [
    {
     "ename": "TypeError",
     "evalue": "'<' not supported between instances of 'int' and 'list'",
     "output_type": "error",
     "traceback": [
      "\u001b[1;31m---------------------------------------------------------------------------\u001b[0m",
      "\u001b[1;31mTypeError\u001b[0m                                 Traceback (most recent call last)",
      "Cell \u001b[1;32mIn[73], line 1\u001b[0m\n\u001b[1;32m----> 1\u001b[0m \u001b[38;5;241m200\u001b[39m \u001b[38;5;241m<\u001b[39m [\u001b[38;5;241m12\u001b[39m,\u001b[38;5;241m34\u001b[39m,\u001b[38;5;241m45\u001b[39m]\n",
      "\u001b[1;31mTypeError\u001b[0m: '<' not supported between instances of 'int' and 'list'"
     ]
    }
   ],
   "source": [
    "200 < [12,34,45]"
   ]
  },
  {
   "cell_type": "code",
   "execution_count": null,
   "id": "fee777d0-483a-4df6-be43-d874cb7ee523",
   "metadata": {},
   "outputs": [],
   "source": []
  },
  {
   "cell_type": "code",
   "execution_count": 74,
   "id": "e9be5a91-ccdf-4d40-adf8-ab42900c4d1e",
   "metadata": {},
   "outputs": [
    {
     "data": {
      "text/plain": [
       "[20, 40, ['hello', 23, 45, 56], 50, 70, 295, 'python', 'java']"
      ]
     },
     "execution_count": 74,
     "metadata": {},
     "output_type": "execute_result"
    }
   ],
   "source": [
    "ls"
   ]
  },
  {
   "cell_type": "code",
   "execution_count": 75,
   "id": "44352977-27a9-40bf-86b9-f5ee6a7f90c4",
   "metadata": {},
   "outputs": [
    {
     "data": {
      "text/plain": [
       "[20, 40, ['hello', 23, 45, 56], 50, 70, 295, 'python', 'java']"
      ]
     },
     "execution_count": 75,
     "metadata": {},
     "output_type": "execute_result"
    }
   ],
   "source": [
    "new_ls = ls.copy()\n",
    "new_ls"
   ]
  },
  {
   "cell_type": "code",
   "execution_count": 76,
   "id": "1cd001c9-0111-4e1e-aec2-81173ed0bbd4",
   "metadata": {},
   "outputs": [
    {
     "data": {
      "text/plain": [
       "2272442885632"
      ]
     },
     "execution_count": 76,
     "metadata": {},
     "output_type": "execute_result"
    }
   ],
   "source": [
    "id(ls)"
   ]
  },
  {
   "cell_type": "code",
   "execution_count": 77,
   "id": "138f9c05-2ea6-4785-bebe-6969aaa53be1",
   "metadata": {},
   "outputs": [
    {
     "data": {
      "text/plain": [
       "2272462111552"
      ]
     },
     "execution_count": 77,
     "metadata": {},
     "output_type": "execute_result"
    }
   ],
   "source": [
    "id(new_ls)"
   ]
  },
  {
   "cell_type": "code",
   "execution_count": null,
   "id": "2499f820-7018-44be-bac5-14fb6fb2d02c",
   "metadata": {},
   "outputs": [],
   "source": []
  },
  {
   "cell_type": "markdown",
   "id": "5cf25d86-3077-44f5-9c2a-17ca1cd4808c",
   "metadata": {},
   "source": [
    "### Nested list"
   ]
  },
  {
   "cell_type": "code",
   "execution_count": null,
   "id": "1f66a765-451a-48c6-964a-4a9c20318a81",
   "metadata": {},
   "outputs": [],
   "source": []
  },
  {
   "cell_type": "code",
   "execution_count": 79,
   "id": "27c4abcf-77b7-43e3-ba17-b59b1ff68aed",
   "metadata": {},
   "outputs": [],
   "source": [
    "data = [[10,20,30], [40,50,60], [70,80,90]]"
   ]
  },
  {
   "cell_type": "code",
   "execution_count": 80,
   "id": "5f3517b2-fa57-464b-99d4-1429b797e193",
   "metadata": {},
   "outputs": [
    {
     "data": {
      "text/plain": [
       "[[10, 20, 30], [40, 50, 60], [70, 80, 90]]"
      ]
     },
     "execution_count": 80,
     "metadata": {},
     "output_type": "execute_result"
    }
   ],
   "source": [
    "data"
   ]
  },
  {
   "cell_type": "code",
   "execution_count": 81,
   "id": "36b5b7ae-6461-49e1-bb1d-83b1c9a719d4",
   "metadata": {},
   "outputs": [
    {
     "data": {
      "text/plain": [
       "[20, 40, ['hello', 23, 45, 56], 50, 70, 295, 'python', 'java']"
      ]
     },
     "execution_count": 81,
     "metadata": {},
     "output_type": "execute_result"
    }
   ],
   "source": [
    "ls"
   ]
  },
  {
   "cell_type": "code",
   "execution_count": 82,
   "id": "18e3155b-5aaa-409f-8edb-24f833ff692c",
   "metadata": {},
   "outputs": [
    {
     "data": {
      "text/plain": [
       "8"
      ]
     },
     "execution_count": 82,
     "metadata": {},
     "output_type": "execute_result"
    }
   ],
   "source": [
    "len(ls)"
   ]
  },
  {
   "cell_type": "code",
   "execution_count": 83,
   "id": "d919d6ee-a6c3-44b1-b6e9-14834e334e7f",
   "metadata": {},
   "outputs": [
    {
     "data": {
      "text/plain": [
       "[[10, 20, 30], [40, 50, 60], [70, 80, 90]]"
      ]
     },
     "execution_count": 83,
     "metadata": {},
     "output_type": "execute_result"
    }
   ],
   "source": [
    "data"
   ]
  },
  {
   "cell_type": "code",
   "execution_count": 84,
   "id": "7dfe09e2-169a-4575-9d5f-c37ae9ee2340",
   "metadata": {},
   "outputs": [
    {
     "data": {
      "text/plain": [
       "[10, 20, 30]"
      ]
     },
     "execution_count": 84,
     "metadata": {},
     "output_type": "execute_result"
    }
   ],
   "source": [
    "data[0]"
   ]
  },
  {
   "cell_type": "code",
   "execution_count": 85,
   "id": "bf5c5513-82c8-4d6f-80b7-e5bcb6ada2bf",
   "metadata": {},
   "outputs": [
    {
     "data": {
      "text/plain": [
       "[40, 50, 60]"
      ]
     },
     "execution_count": 85,
     "metadata": {},
     "output_type": "execute_result"
    }
   ],
   "source": [
    "data[1]"
   ]
  },
  {
   "cell_type": "code",
   "execution_count": 86,
   "id": "0853304d-c306-4d00-85fd-11995ad006ae",
   "metadata": {},
   "outputs": [
    {
     "data": {
      "text/plain": [
       "60"
      ]
     },
     "execution_count": 86,
     "metadata": {},
     "output_type": "execute_result"
    }
   ],
   "source": [
    "data[1][2]"
   ]
  },
  {
   "cell_type": "code",
   "execution_count": 87,
   "id": "847f90e7-5a81-414b-b4a2-3de99bcaeab8",
   "metadata": {},
   "outputs": [
    {
     "data": {
      "text/plain": [
       "60"
      ]
     },
     "execution_count": 87,
     "metadata": {},
     "output_type": "execute_result"
    }
   ],
   "source": [
    "data[1][-1]"
   ]
  },
  {
   "cell_type": "code",
   "execution_count": 88,
   "id": "375ef27b-d8c5-4141-8d15-42631299d16b",
   "metadata": {},
   "outputs": [
    {
     "data": {
      "text/plain": [
       "[[10, 20, 30], [40, 50, 60], [70, 80, 90]]"
      ]
     },
     "execution_count": 88,
     "metadata": {},
     "output_type": "execute_result"
    }
   ],
   "source": [
    "data"
   ]
  },
  {
   "cell_type": "code",
   "execution_count": 89,
   "id": "04a10590-b925-4b35-a90f-afc94303a38c",
   "metadata": {},
   "outputs": [
    {
     "data": {
      "text/plain": [
       "[40, 50, 60]"
      ]
     },
     "execution_count": 89,
     "metadata": {},
     "output_type": "execute_result"
    }
   ],
   "source": [
    "data[1]"
   ]
  },
  {
   "cell_type": "code",
   "execution_count": 90,
   "id": "b6c5a4fe-fd44-4bd4-a89e-2f716cdcf133",
   "metadata": {},
   "outputs": [],
   "source": [
    "data[1].append(100)"
   ]
  },
  {
   "cell_type": "code",
   "execution_count": 91,
   "id": "58fa1fef-6d5f-4d72-9071-81ac38a0b774",
   "metadata": {},
   "outputs": [
    {
     "data": {
      "text/plain": [
       "[[10, 20, 30], [40, 50, 60, 100], [70, 80, 90]]"
      ]
     },
     "execution_count": 91,
     "metadata": {},
     "output_type": "execute_result"
    }
   ],
   "source": [
    "data"
   ]
  },
  {
   "cell_type": "code",
   "execution_count": null,
   "id": "bdeec38f-a694-49cf-99b3-ac3a0f16c6c0",
   "metadata": {},
   "outputs": [],
   "source": []
  },
  {
   "cell_type": "code",
   "execution_count": 92,
   "id": "1df41654-1ae3-40e3-9465-ad4b4bb68aef",
   "metadata": {},
   "outputs": [
    {
     "data": {
      "text/plain": [
       "[[10, 20, 30], [40, 50, 60, 100], [70, 80, 90]]"
      ]
     },
     "execution_count": 92,
     "metadata": {},
     "output_type": "execute_result"
    }
   ],
   "source": [
    "data"
   ]
  },
  {
   "cell_type": "code",
   "execution_count": 94,
   "id": "c98a3f21-7565-4c5f-a402-c942dd607d95",
   "metadata": {},
   "outputs": [],
   "source": [
    "data.extend([23,56,23,78, ('python', 'java','c++')])"
   ]
  },
  {
   "cell_type": "code",
   "execution_count": 95,
   "id": "4475549f-d56b-4d51-8d02-49424e82bdbb",
   "metadata": {},
   "outputs": [
    {
     "data": {
      "text/plain": [
       "[[10, 20, 30],\n",
       " [40, 50, 60, 100],\n",
       " [70, 80, 90],\n",
       " 23,\n",
       " 56,\n",
       " 23,\n",
       " 78,\n",
       " ('python', 'java', 'c++')]"
      ]
     },
     "execution_count": 95,
     "metadata": {},
     "output_type": "execute_result"
    }
   ],
   "source": [
    "data"
   ]
  },
  {
   "cell_type": "code",
   "execution_count": 96,
   "id": "35e859b0-d4b9-4309-b603-2d9a96d3e494",
   "metadata": {},
   "outputs": [],
   "source": [
    "data[2].extend('helloworld')"
   ]
  },
  {
   "cell_type": "code",
   "execution_count": 97,
   "id": "5b4b1bcb-8d8d-4034-b897-ec3a6374fef6",
   "metadata": {},
   "outputs": [
    {
     "data": {
      "text/plain": [
       "[[10, 20, 30],\n",
       " [40, 50, 60, 100],\n",
       " [70, 80, 90, 'h', 'e', 'l', 'l', 'o', 'w', 'o', 'r', 'l', 'd'],\n",
       " 23,\n",
       " 56,\n",
       " 23,\n",
       " 78,\n",
       " ('python', 'java', 'c++')]"
      ]
     },
     "execution_count": 97,
     "metadata": {},
     "output_type": "execute_result"
    }
   ],
   "source": [
    "data"
   ]
  },
  {
   "cell_type": "code",
   "execution_count": 98,
   "id": "37400e95-7d2f-4e4b-98c1-fd187037e0c9",
   "metadata": {},
   "outputs": [
    {
     "data": {
      "text/plain": [
       "'l'"
      ]
     },
     "execution_count": 98,
     "metadata": {},
     "output_type": "execute_result"
    }
   ],
   "source": [
    "data[2].pop(6)"
   ]
  },
  {
   "cell_type": "code",
   "execution_count": 99,
   "id": "b44731b7-6d9b-4dda-8224-37c145422e6e",
   "metadata": {},
   "outputs": [
    {
     "data": {
      "text/plain": [
       "[[10, 20, 30],\n",
       " [40, 50, 60, 100],\n",
       " [70, 80, 90, 'h', 'e', 'l', 'o', 'w', 'o', 'r', 'l', 'd'],\n",
       " 23,\n",
       " 56,\n",
       " 23,\n",
       " 78,\n",
       " ('python', 'java', 'c++')]"
      ]
     },
     "execution_count": 99,
     "metadata": {},
     "output_type": "execute_result"
    }
   ],
   "source": [
    "data"
   ]
  },
  {
   "cell_type": "code",
   "execution_count": null,
   "id": "4d3e4b2b-9910-42fc-b80d-735e39e81adc",
   "metadata": {},
   "outputs": [],
   "source": []
  },
  {
   "cell_type": "code",
   "execution_count": 100,
   "id": "f8461d0a-f25b-4cbe-a07e-1a53c9067293",
   "metadata": {},
   "outputs": [],
   "source": [
    "data[1].extend([['hello', 'hii', 'bye']])"
   ]
  },
  {
   "cell_type": "code",
   "execution_count": 101,
   "id": "3938bdc6-2be9-4818-8f0a-00f9855a18bb",
   "metadata": {},
   "outputs": [
    {
     "data": {
      "text/plain": [
       "[[10, 20, 30],\n",
       " [40, 50, 60, 100, ['hello', 'hii', 'bye']],\n",
       " [70, 80, 90, 'h', 'e', 'l', 'o', 'w', 'o', 'r', 'l', 'd'],\n",
       " 23,\n",
       " 56,\n",
       " 23,\n",
       " 78,\n",
       " ('python', 'java', 'c++')]"
      ]
     },
     "execution_count": 101,
     "metadata": {},
     "output_type": "execute_result"
    }
   ],
   "source": [
    "data"
   ]
  },
  {
   "cell_type": "code",
   "execution_count": 102,
   "id": "ed719699-ae06-452a-a342-82181dcd7d7c",
   "metadata": {},
   "outputs": [],
   "source": [
    "data[1][-1][-2] = 'HII'"
   ]
  },
  {
   "cell_type": "code",
   "execution_count": 103,
   "id": "4a1f33ad-ddd1-4e96-95e0-7132f0af754c",
   "metadata": {},
   "outputs": [
    {
     "data": {
      "text/plain": [
       "[[10, 20, 30],\n",
       " [40, 50, 60, 100, ['hello', 'HII', 'bye']],\n",
       " [70, 80, 90, 'h', 'e', 'l', 'o', 'w', 'o', 'r', 'l', 'd'],\n",
       " 23,\n",
       " 56,\n",
       " 23,\n",
       " 78,\n",
       " ('python', 'java', 'c++')]"
      ]
     },
     "execution_count": 103,
     "metadata": {},
     "output_type": "execute_result"
    }
   ],
   "source": [
    "data"
   ]
  },
  {
   "cell_type": "code",
   "execution_count": null,
   "id": "8bfacdbc-08c0-4421-b118-147206f671e3",
   "metadata": {},
   "outputs": [],
   "source": []
  },
  {
   "cell_type": "code",
   "execution_count": 104,
   "id": "467a173c-4e9f-4fdf-9352-ce47a01c0eea",
   "metadata": {},
   "outputs": [],
   "source": [
    "s = \"hello world\""
   ]
  },
  {
   "cell_type": "code",
   "execution_count": 106,
   "id": "11a43865-7c4e-49a4-829f-177f438041ec",
   "metadata": {},
   "outputs": [
    {
     "data": {
      "text/plain": [
       "'l'"
      ]
     },
     "execution_count": 106,
     "metadata": {},
     "output_type": "execute_result"
    }
   ],
   "source": [
    "s[3]"
   ]
  },
  {
   "cell_type": "code",
   "execution_count": 107,
   "id": "d9d852d7-8eb7-4e32-a397-16dd39079a77",
   "metadata": {},
   "outputs": [
    {
     "ename": "TypeError",
     "evalue": "'str' object does not support item assignment",
     "output_type": "error",
     "traceback": [
      "\u001b[1;31m---------------------------------------------------------------------------\u001b[0m",
      "\u001b[1;31mTypeError\u001b[0m                                 Traceback (most recent call last)",
      "Cell \u001b[1;32mIn[107], line 1\u001b[0m\n\u001b[1;32m----> 1\u001b[0m s[\u001b[38;5;241m3\u001b[39m] \u001b[38;5;241m=\u001b[39m \u001b[38;5;124m'\u001b[39m\u001b[38;5;124mL\u001b[39m\u001b[38;5;124m'\u001b[39m\n",
      "\u001b[1;31mTypeError\u001b[0m: 'str' object does not support item assignment"
     ]
    }
   ],
   "source": [
    "s[3] = 'L'"
   ]
  },
  {
   "cell_type": "code",
   "execution_count": null,
   "id": "f6508c33-3a6a-4b3a-bb2c-c1b79ce77faa",
   "metadata": {},
   "outputs": [],
   "source": []
  },
  {
   "cell_type": "code",
   "execution_count": 108,
   "id": "849dfce9-6ea7-4511-aae2-4c99d10d9417",
   "metadata": {},
   "outputs": [
    {
     "data": {
      "text/plain": [
       "'hello world'"
      ]
     },
     "execution_count": 108,
     "metadata": {},
     "output_type": "execute_result"
    }
   ],
   "source": [
    "s"
   ]
  },
  {
   "cell_type": "code",
   "execution_count": 109,
   "id": "9a6c8251-febc-4055-9c74-4026824649db",
   "metadata": {},
   "outputs": [],
   "source": [
    "s1 = 'hello'"
   ]
  },
  {
   "cell_type": "code",
   "execution_count": 110,
   "id": "26b9a61a-3863-48a6-8e0b-92cef55d2668",
   "metadata": {},
   "outputs": [
    {
     "data": {
      "text/plain": [
       "'hellohellohellohellohello'"
      ]
     },
     "execution_count": 110,
     "metadata": {},
     "output_type": "execute_result"
    }
   ],
   "source": [
    "s1 * 5"
   ]
  },
  {
   "cell_type": "code",
   "execution_count": null,
   "id": "65f9e311-e6ee-4b31-9c2b-2e0e5d63e7d4",
   "metadata": {},
   "outputs": [],
   "source": []
  },
  {
   "cell_type": "code",
   "execution_count": 112,
   "id": "df7d15db-c055-4874-b532-1fc98688c75e",
   "metadata": {},
   "outputs": [],
   "source": [
    "lst = [10,20,30]"
   ]
  },
  {
   "cell_type": "code",
   "execution_count": 113,
   "id": "6dfb36b0-48c6-4264-82e8-9e45aa7cb5be",
   "metadata": {},
   "outputs": [
    {
     "data": {
      "text/plain": [
       "[10, 20, 30]"
      ]
     },
     "execution_count": 113,
     "metadata": {},
     "output_type": "execute_result"
    }
   ],
   "source": [
    "lst"
   ]
  },
  {
   "cell_type": "code",
   "execution_count": 114,
   "id": "14a7456c-2e0c-43e7-a16b-0fad6ab27797",
   "metadata": {},
   "outputs": [
    {
     "data": {
      "text/plain": [
       "[10, 20, 30, 10, 20, 30, 10, 20, 30]"
      ]
     },
     "execution_count": 114,
     "metadata": {},
     "output_type": "execute_result"
    }
   ],
   "source": [
    "lst * 3"
   ]
  },
  {
   "cell_type": "code",
   "execution_count": 115,
   "id": "f53c8a8e-1278-48fe-9fdd-bf8e3316b6f0",
   "metadata": {},
   "outputs": [],
   "source": [
    "lst1 = [[10,20], [34,67], [56,78]]"
   ]
  },
  {
   "cell_type": "code",
   "execution_count": 116,
   "id": "20467bd5-4a78-468e-9aa4-95ac879c8120",
   "metadata": {},
   "outputs": [
    {
     "data": {
      "text/plain": [
       "[[10, 20], [34, 67], [56, 78]]"
      ]
     },
     "execution_count": 116,
     "metadata": {},
     "output_type": "execute_result"
    }
   ],
   "source": [
    "lst1"
   ]
  },
  {
   "cell_type": "code",
   "execution_count": 117,
   "id": "9d450f28-f1cf-4bc6-9ff6-6da4f6fd876a",
   "metadata": {},
   "outputs": [],
   "source": [
    "lst1[-1].append(100)"
   ]
  },
  {
   "cell_type": "code",
   "execution_count": 118,
   "id": "922960bb-87fb-4955-8a8f-b5f1ccee2848",
   "metadata": {},
   "outputs": [
    {
     "data": {
      "text/plain": [
       "[[10, 20], [34, 67], [56, 78, 100]]"
      ]
     },
     "execution_count": 118,
     "metadata": {},
     "output_type": "execute_result"
    }
   ],
   "source": [
    "lst1"
   ]
  },
  {
   "cell_type": "code",
   "execution_count": null,
   "id": "7573fda6-eef0-4ed6-9d1a-02740f6fe0ee",
   "metadata": {},
   "outputs": [],
   "source": []
  },
  {
   "cell_type": "code",
   "execution_count": 120,
   "id": "ce2a2a01-ce0d-4294-9878-3816fcedc13f",
   "metadata": {},
   "outputs": [
    {
     "data": {
      "text/plain": [
       "[[], [], [], [], []]"
      ]
     },
     "execution_count": 120,
     "metadata": {},
     "output_type": "execute_result"
    }
   ],
   "source": [
    "l1 = [[]] * 5\n",
    "l1"
   ]
  },
  {
   "cell_type": "code",
   "execution_count": 121,
   "id": "fa1c0364-7c55-44fe-9e49-9c033e5d57a0",
   "metadata": {},
   "outputs": [],
   "source": [
    "l1[-1].append(100)"
   ]
  },
  {
   "cell_type": "code",
   "execution_count": 122,
   "id": "7ef8ef5f-bd3d-4f80-9ddf-57a64e275527",
   "metadata": {},
   "outputs": [
    {
     "data": {
      "text/plain": [
       "[[100], [100], [100], [100], [100]]"
      ]
     },
     "execution_count": 122,
     "metadata": {},
     "output_type": "execute_result"
    }
   ],
   "source": [
    "l1"
   ]
  },
  {
   "cell_type": "code",
   "execution_count": null,
   "id": "ca107e34-55d5-4d73-8269-1f72a41a3084",
   "metadata": {},
   "outputs": [],
   "source": []
  },
  {
   "cell_type": "code",
   "execution_count": 123,
   "id": "f2042175-cc32-4bad-b850-e0f3f3f23088",
   "metadata": {},
   "outputs": [
    {
     "data": {
      "text/plain": [
       "[[], [], [], [], []]"
      ]
     },
     "execution_count": 123,
     "metadata": {},
     "output_type": "execute_result"
    }
   ],
   "source": [
    "l = [[],[],[],[],[]]\n",
    "l"
   ]
  },
  {
   "cell_type": "code",
   "execution_count": 124,
   "id": "0a83aa87-bbc8-4202-bc72-600a27a5d271",
   "metadata": {},
   "outputs": [],
   "source": [
    "l[-1].append(100)"
   ]
  },
  {
   "cell_type": "code",
   "execution_count": 125,
   "id": "a9576ab1-5d8c-44fc-b69d-fb87fa096aff",
   "metadata": {},
   "outputs": [
    {
     "data": {
      "text/plain": [
       "[[], [], [], [], [100]]"
      ]
     },
     "execution_count": 125,
     "metadata": {},
     "output_type": "execute_result"
    }
   ],
   "source": [
    "l"
   ]
  },
  {
   "cell_type": "code",
   "execution_count": null,
   "id": "40f7ae4b-821b-44f9-beb4-b5f312d568ad",
   "metadata": {},
   "outputs": [],
   "source": []
  },
  {
   "cell_type": "code",
   "execution_count": 126,
   "id": "3c3b9368-0a93-4d11-b0d3-8e137bb35a4a",
   "metadata": {},
   "outputs": [],
   "source": [
    "l1 = [12,34,56]\n",
    "l2 = [23,45,56]"
   ]
  },
  {
   "cell_type": "code",
   "execution_count": 127,
   "id": "45591ce7-421c-4aeb-a638-14fed478dcdc",
   "metadata": {},
   "outputs": [
    {
     "data": {
      "text/plain": [
       "[12, 34, 56, 23, 45, 56]"
      ]
     },
     "execution_count": 127,
     "metadata": {},
     "output_type": "execute_result"
    }
   ],
   "source": [
    "l1 + l2"
   ]
  },
  {
   "cell_type": "code",
   "execution_count": null,
   "id": "ce318fda-c3c8-4825-9e4e-da7fc13b1899",
   "metadata": {},
   "outputs": [],
   "source": []
  },
  {
   "cell_type": "markdown",
   "id": "17d099a4-7841-4dde-a614-6267ee0da412",
   "metadata": {},
   "source": [
    "    how to compare list to list  & string to string\n",
    "    "
   ]
  },
  {
   "cell_type": "code",
   "execution_count": null,
   "id": "c35e8c42-a493-4e61-b2a9-6001236c8738",
   "metadata": {},
   "outputs": [],
   "source": []
  },
  {
   "cell_type": "markdown",
   "id": "a3f73e32-6931-4f9e-b1c4-57d81dea7338",
   "metadata": {},
   "source": [
    "    ord()\n",
    "    chr()"
   ]
  },
  {
   "cell_type": "code",
   "execution_count": 128,
   "id": "6072dfed-8922-4ab3-8f50-4ba4bf697953",
   "metadata": {},
   "outputs": [
    {
     "data": {
      "text/plain": [
       "97"
      ]
     },
     "execution_count": 128,
     "metadata": {},
     "output_type": "execute_result"
    }
   ],
   "source": [
    "ord('a')"
   ]
  },
  {
   "cell_type": "code",
   "execution_count": 129,
   "id": "26ddc477-53d9-4bc3-8f77-07c75322f379",
   "metadata": {},
   "outputs": [
    {
     "data": {
      "text/plain": [
       "65"
      ]
     },
     "execution_count": 129,
     "metadata": {},
     "output_type": "execute_result"
    }
   ],
   "source": [
    "ord('A')"
   ]
  },
  {
   "cell_type": "code",
   "execution_count": 130,
   "id": "65b35f1e-5a09-4e17-b27d-520225cf4f27",
   "metadata": {},
   "outputs": [
    {
     "data": {
      "text/plain": [
       "'A'"
      ]
     },
     "execution_count": 130,
     "metadata": {},
     "output_type": "execute_result"
    }
   ],
   "source": [
    "chr(65)"
   ]
  },
  {
   "cell_type": "code",
   "execution_count": null,
   "id": "15c8adc1-7809-4da3-bab4-3e8e8ee124f1",
   "metadata": {},
   "outputs": [],
   "source": []
  },
  {
   "cell_type": "markdown",
   "id": "ba9dd6ca-9bdf-4e40-b2a4-fc050a48268e",
   "metadata": {},
   "source": [
    "### Tuple"
   ]
  },
  {
   "cell_type": "code",
   "execution_count": 132,
   "id": "ac5eff69-9eb6-4de7-aa20-487545f119e5",
   "metadata": {},
   "outputs": [],
   "source": [
    "tp = (23,45,67,89,45,67)"
   ]
  },
  {
   "cell_type": "code",
   "execution_count": 133,
   "id": "aaf53e27-615d-495e-84ab-486e7237100f",
   "metadata": {},
   "outputs": [
    {
     "name": "stdout",
     "output_type": "stream",
     "text": [
      "['count', 'index']\n"
     ]
    }
   ],
   "source": [
    "print([i for i in dir(tuple) if not i.startswith('__')])"
   ]
  },
  {
   "cell_type": "code",
   "execution_count": null,
   "id": "1bafa30e-c794-4766-85e0-8ee05e183d67",
   "metadata": {},
   "outputs": [],
   "source": []
  },
  {
   "cell_type": "code",
   "execution_count": 134,
   "id": "c4f0b6a7-d113-4f51-9003-d8578336f0e2",
   "metadata": {},
   "outputs": [
    {
     "data": {
      "text/plain": [
       "67"
      ]
     },
     "execution_count": 134,
     "metadata": {},
     "output_type": "execute_result"
    }
   ],
   "source": [
    "tp[2]"
   ]
  },
  {
   "cell_type": "code",
   "execution_count": 135,
   "id": "4e0e9897-6465-4424-8038-8cfe646ef822",
   "metadata": {},
   "outputs": [
    {
     "data": {
      "text/plain": [
       "67"
      ]
     },
     "execution_count": 135,
     "metadata": {},
     "output_type": "execute_result"
    }
   ],
   "source": [
    "tp[-4]"
   ]
  },
  {
   "cell_type": "code",
   "execution_count": 136,
   "id": "4a24f365-e8d9-473d-b590-253132edd3ac",
   "metadata": {},
   "outputs": [
    {
     "ename": "TypeError",
     "evalue": "'tuple' object does not support item assignment",
     "output_type": "error",
     "traceback": [
      "\u001b[1;31m---------------------------------------------------------------------------\u001b[0m",
      "\u001b[1;31mTypeError\u001b[0m                                 Traceback (most recent call last)",
      "Cell \u001b[1;32mIn[136], line 1\u001b[0m\n\u001b[1;32m----> 1\u001b[0m tp[\u001b[38;5;241m0\u001b[39m] \u001b[38;5;241m=\u001b[39m \u001b[38;5;241m100\u001b[39m\n",
      "\u001b[1;31mTypeError\u001b[0m: 'tuple' object does not support item assignment"
     ]
    }
   ],
   "source": [
    "tp[0] = 100"
   ]
  },
  {
   "cell_type": "code",
   "execution_count": null,
   "id": "d98a98e2-ef00-48f1-a883-9b6f78f25c1c",
   "metadata": {},
   "outputs": [],
   "source": []
  },
  {
   "cell_type": "markdown",
   "id": "a8190cbe-9d9e-4fa6-8c7e-46c3413b7599",
   "metadata": {},
   "source": [
    "    diff btw list & tuple"
   ]
  },
  {
   "cell_type": "code",
   "execution_count": null,
   "id": "ff5794a3-ce5c-431c-8b41-548bcdf72456",
   "metadata": {},
   "outputs": [],
   "source": []
  },
  {
   "cell_type": "code",
   "execution_count": 139,
   "id": "a437e4c6-03c5-4b90-bda5-b58c17ae2e1c",
   "metadata": {},
   "outputs": [],
   "source": [
    "v = [23,45,56,67,78]"
   ]
  },
  {
   "cell_type": "code",
   "execution_count": 140,
   "id": "697b8b00-6a71-4eda-bcaf-cecad4486a12",
   "metadata": {},
   "outputs": [
    {
     "name": "stdout",
     "output_type": "stream",
     "text": [
      "<class 'list'>\n"
     ]
    }
   ],
   "source": [
    "print(type(v))"
   ]
  },
  {
   "cell_type": "code",
   "execution_count": 141,
   "id": "924c4ac2-bebd-438a-af76-2a9394673de2",
   "metadata": {},
   "outputs": [],
   "source": [
    "a = 1"
   ]
  },
  {
   "cell_type": "code",
   "execution_count": 143,
   "id": "05d905c7-2118-4f84-a48d-bdfd130d674e",
   "metadata": {},
   "outputs": [
    {
     "data": {
      "text/plain": [
       "int"
      ]
     },
     "execution_count": 143,
     "metadata": {},
     "output_type": "execute_result"
    }
   ],
   "source": [
    "type(a)"
   ]
  },
  {
   "cell_type": "code",
   "execution_count": 144,
   "id": "6f3c33b1-9f57-492c-9f04-7bf158afb94c",
   "metadata": {},
   "outputs": [],
   "source": [
    "a = 1,2,3,4,5"
   ]
  },
  {
   "cell_type": "code",
   "execution_count": 145,
   "id": "4f046591-bd5a-418d-8370-c152c49f9382",
   "metadata": {},
   "outputs": [
    {
     "data": {
      "text/plain": [
       "(1, 2, 3, 4, 5)"
      ]
     },
     "execution_count": 145,
     "metadata": {},
     "output_type": "execute_result"
    }
   ],
   "source": [
    "a"
   ]
  },
  {
   "cell_type": "code",
   "execution_count": 146,
   "id": "0975e57a-308b-4330-875c-e9236314cd90",
   "metadata": {},
   "outputs": [
    {
     "name": "stdout",
     "output_type": "stream",
     "text": [
      "<class 'tuple'>\n"
     ]
    }
   ],
   "source": [
    "print(type(a))"
   ]
  },
  {
   "cell_type": "code",
   "execution_count": 147,
   "id": "dcb0b598-aede-4595-9dee-222cc7473780",
   "metadata": {},
   "outputs": [],
   "source": [
    "v = [23,45,56,67,78],[3434,34,56],[34,56,78]\n"
   ]
  },
  {
   "cell_type": "code",
   "execution_count": 148,
   "id": "7108bae2-8925-4afc-8dba-4ed531c3495d",
   "metadata": {},
   "outputs": [
    {
     "data": {
      "text/plain": [
       "([23, 45, 56, 67, 78], [3434, 34, 56], [34, 56, 78])"
      ]
     },
     "execution_count": 148,
     "metadata": {},
     "output_type": "execute_result"
    }
   ],
   "source": [
    "v"
   ]
  },
  {
   "cell_type": "code",
   "execution_count": 149,
   "id": "f8ede2b4-e391-46e5-99e7-fc89f1b124da",
   "metadata": {},
   "outputs": [],
   "source": [
    "v = [23,45,56,67,78],\n"
   ]
  },
  {
   "cell_type": "code",
   "execution_count": 150,
   "id": "ef3d1bb4-1525-44d4-8943-226872c3d2e2",
   "metadata": {},
   "outputs": [
    {
     "data": {
      "text/plain": [
       "([23, 45, 56, 67, 78],)"
      ]
     },
     "execution_count": 150,
     "metadata": {},
     "output_type": "execute_result"
    }
   ],
   "source": [
    "v"
   ]
  },
  {
   "cell_type": "code",
   "execution_count": null,
   "id": "77908b01-f64d-4f13-a63a-88dd320344fc",
   "metadata": {},
   "outputs": [],
   "source": []
  },
  {
   "cell_type": "code",
   "execution_count": 151,
   "id": "cbb59150-e0e0-4095-aa98-c7542f590007",
   "metadata": {},
   "outputs": [],
   "source": [
    "b = (23)"
   ]
  },
  {
   "cell_type": "code",
   "execution_count": 153,
   "id": "43588962-4ce4-4efc-b0a8-bedacddef27e",
   "metadata": {},
   "outputs": [
    {
     "name": "stdout",
     "output_type": "stream",
     "text": [
      "<class 'int'>\n"
     ]
    }
   ],
   "source": [
    "print(type(b))"
   ]
  },
  {
   "cell_type": "code",
   "execution_count": 154,
   "id": "56c2ffee-d4e8-4e4a-b2ca-f2cbc83634e8",
   "metadata": {},
   "outputs": [],
   "source": [
    "b = (23,)"
   ]
  },
  {
   "cell_type": "code",
   "execution_count": 155,
   "id": "cf247af6-bc8c-4930-8553-1975a77712a8",
   "metadata": {},
   "outputs": [
    {
     "name": "stdout",
     "output_type": "stream",
     "text": [
      "<class 'tuple'>\n"
     ]
    }
   ],
   "source": [
    "print(type(b))"
   ]
  },
  {
   "cell_type": "code",
   "execution_count": null,
   "id": "317e0ee5-5ccd-4fab-a0dc-31dd68ac3342",
   "metadata": {},
   "outputs": [],
   "source": [
    "1,2,3,4"
   ]
  },
  {
   "cell_type": "code",
   "execution_count": null,
   "id": "6fba031c-67ec-45e3-a0ac-1730a4992f42",
   "metadata": {},
   "outputs": [],
   "source": []
  },
  {
   "cell_type": "code",
   "execution_count": null,
   "id": "86a1ad0a-9cbf-40c7-b51b-850684e2988d",
   "metadata": {},
   "outputs": [],
   "source": []
  }
 ],
 "metadata": {
  "kernelspec": {
   "display_name": "Python 3 (ipykernel)",
   "language": "python",
   "name": "python3"
  },
  "language_info": {
   "codemirror_mode": {
    "name": "ipython",
    "version": 3
   },
   "file_extension": ".py",
   "mimetype": "text/x-python",
   "name": "python",
   "nbconvert_exporter": "python",
   "pygments_lexer": "ipython3",
   "version": "3.11.3"
  }
 },
 "nbformat": 4,
 "nbformat_minor": 5
}
