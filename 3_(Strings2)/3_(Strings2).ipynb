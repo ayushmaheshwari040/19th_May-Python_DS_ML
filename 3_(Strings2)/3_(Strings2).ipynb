{
 "cells": [
  {
   "cell_type": "markdown",
   "id": "8dc72854-1424-4b1b-be9f-d28d9c36aa31",
   "metadata": {},
   "source": [
    "# String & Its Operations"
   ]
  },
  {
   "cell_type": "code",
   "execution_count": 1,
   "id": "ced0886f-fab9-4cd8-97fd-d27b3cd8206d",
   "metadata": {},
   "outputs": [
    {
     "data": {
      "text/plain": [
       "'---------------------------------------hello world'"
      ]
     },
     "execution_count": 1,
     "metadata": {},
     "output_type": "execute_result"
    }
   ],
   "source": [
    "s='hello world'\n",
    "s.rjust(50,'-')"
   ]
  },
  {
   "cell_type": "code",
   "execution_count": 3,
   "id": "394c927d-555b-4023-b349-e043debaf7fe",
   "metadata": {},
   "outputs": [
    {
     "data": {
      "text/plain": [
       "'000000000000000000000000000000000000000hello world'"
      ]
     },
     "execution_count": 3,
     "metadata": {},
     "output_type": "execute_result"
    }
   ],
   "source": [
    "s.zfill(50)"
   ]
  },
  {
   "cell_type": "code",
   "execution_count": 4,
   "id": "a9453535-0388-4a18-8743-c9ffdaf8acfc",
   "metadata": {},
   "outputs": [
    {
     "ename": "TypeError",
     "evalue": "str.zfill() takes exactly one argument (2 given)",
     "output_type": "error",
     "traceback": [
      "\u001b[1;31m---------------------------------------------------------------------------\u001b[0m",
      "\u001b[1;31mTypeError\u001b[0m                                 Traceback (most recent call last)",
      "Cell \u001b[1;32mIn[4], line 1\u001b[0m\n\u001b[1;32m----> 1\u001b[0m \u001b[43ms\u001b[49m\u001b[38;5;241;43m.\u001b[39;49m\u001b[43mzfill\u001b[49m\u001b[43m(\u001b[49m\u001b[38;5;241;43m50\u001b[39;49m\u001b[43m,\u001b[49m\u001b[38;5;124;43m'\u001b[39;49m\u001b[38;5;124;43m-\u001b[39;49m\u001b[38;5;124;43m'\u001b[39;49m\u001b[43m)\u001b[49m\n",
      "\u001b[1;31mTypeError\u001b[0m: str.zfill() takes exactly one argument (2 given)"
     ]
    }
   ],
   "source": [
    "s.zfill(50,'-')"
   ]
  },
  {
   "cell_type": "code",
   "execution_count": null,
   "id": "39beaf3d-e4dd-4bd0-9ced-149752cceee7",
   "metadata": {},
   "outputs": [],
   "source": []
  },
  {
   "cell_type": "code",
   "execution_count": 5,
   "id": "61aa82dc-6d7f-4bcc-976f-272f1f3f1922",
   "metadata": {},
   "outputs": [
    {
     "data": {
      "text/plain": [
       "'hello world'"
      ]
     },
     "execution_count": 5,
     "metadata": {},
     "output_type": "execute_result"
    }
   ],
   "source": [
    "s='hello world'\n",
    "s.casefold()"
   ]
  },
  {
   "cell_type": "code",
   "execution_count": 6,
   "id": "53cc2226-cd1f-43f5-92dc-e659d973bd03",
   "metadata": {},
   "outputs": [
    {
     "data": {
      "text/plain": [
       "'hello world'"
      ]
     },
     "execution_count": 6,
     "metadata": {},
     "output_type": "execute_result"
    }
   ],
   "source": [
    "s=\"HELLO WORLD\"\n",
    "s.casefold()"
   ]
  },
  {
   "cell_type": "code",
   "execution_count": null,
   "id": "22b7b91d-27a4-4d92-9751-3cc53215f251",
   "metadata": {},
   "outputs": [],
   "source": []
  },
  {
   "cell_type": "code",
   "execution_count": 8,
   "id": "fbc214dc-d6c9-486e-a8c9-cd66962d81d2",
   "metadata": {},
   "outputs": [
    {
     "data": {
      "text/plain": [
       "65"
      ]
     },
     "execution_count": 8,
     "metadata": {},
     "output_type": "execute_result"
    }
   ],
   "source": [
    "ord('A')       #returns ascii value"
   ]
  },
  {
   "cell_type": "code",
   "execution_count": 9,
   "id": "cad14c46-46c2-43b8-aeea-b9f7f2ebb639",
   "metadata": {},
   "outputs": [
    {
     "data": {
      "text/plain": [
       "97"
      ]
     },
     "execution_count": 9,
     "metadata": {},
     "output_type": "execute_result"
    }
   ],
   "source": [
    "ord('a')"
   ]
  },
  {
   "cell_type": "code",
   "execution_count": null,
   "id": "1da5e818-b2c3-4f88-8ba3-f57c006f59d0",
   "metadata": {},
   "outputs": [],
   "source": []
  },
  {
   "cell_type": "code",
   "execution_count": 10,
   "id": "21b4042e-ac3a-4263-9e8e-ffb72b08634d",
   "metadata": {},
   "outputs": [
    {
     "data": {
      "text/plain": [
       "False"
      ]
     },
     "execution_count": 10,
     "metadata": {},
     "output_type": "execute_result"
    }
   ],
   "source": [
    "\"A\">\"a\""
   ]
  },
  {
   "cell_type": "code",
   "execution_count": 12,
   "id": "46a7d8bd-ea5b-489c-9c9f-91cd9526f623",
   "metadata": {},
   "outputs": [
    {
     "data": {
      "text/plain": [
       "False"
      ]
     },
     "execution_count": 12,
     "metadata": {},
     "output_type": "execute_result"
    }
   ],
   "source": [
    "\"Aaaaaa\">\"aA\"             #compare the first index of string"
   ]
  },
  {
   "cell_type": "code",
   "execution_count": null,
   "id": "a9d59247-5f2f-4ce1-bd9b-6f5a6385b360",
   "metadata": {},
   "outputs": [],
   "source": []
  },
  {
   "cell_type": "code",
   "execution_count": 14,
   "id": "ac4e48ae-3e7b-4175-b137-ff991d09d156",
   "metadata": {},
   "outputs": [
    {
     "data": {
      "text/plain": [
       "3"
      ]
     },
     "execution_count": 14,
     "metadata": {},
     "output_type": "execute_result"
    }
   ],
   "source": [
    "s='hello world'\n",
    "s.count('l')"
   ]
  },
  {
   "cell_type": "code",
   "execution_count": 15,
   "id": "5aec5b43-f8ec-4c41-adcb-c6841aaa3588",
   "metadata": {},
   "outputs": [
    {
     "data": {
      "text/plain": [
       "1"
      ]
     },
     "execution_count": 15,
     "metadata": {},
     "output_type": "execute_result"
    }
   ],
   "source": [
    "s.count(\"ll\")"
   ]
  },
  {
   "cell_type": "code",
   "execution_count": 16,
   "id": "dc5172c9-e362-4eb6-822e-191cbff0120f",
   "metadata": {},
   "outputs": [
    {
     "data": {
      "text/plain": [
       "0"
      ]
     },
     "execution_count": 16,
     "metadata": {},
     "output_type": "execute_result"
    }
   ],
   "source": [
    "s.count('ooa')"
   ]
  },
  {
   "cell_type": "code",
   "execution_count": null,
   "id": "08fae4c1-4c17-41a9-84ae-598fd68eae3d",
   "metadata": {},
   "outputs": [],
   "source": []
  },
  {
   "cell_type": "code",
   "execution_count": 17,
   "id": "2e1a8602-0402-47e5-b27e-a475917fdcd1",
   "metadata": {},
   "outputs": [
    {
     "data": {
      "text/plain": [
       "'hella warld'"
      ]
     },
     "execution_count": 17,
     "metadata": {},
     "output_type": "execute_result"
    }
   ],
   "source": [
    "s='hello world'\n",
    "s.replace('o','a')"
   ]
  },
  {
   "cell_type": "code",
   "execution_count": 19,
   "id": "2cefd45c-d07d-4eb0-8886-232f935b71f9",
   "metadata": {},
   "outputs": [
    {
     "name": "stdout",
     "output_type": "stream",
     "text": [
      "hello world\n"
     ]
    }
   ],
   "source": [
    "print(s)"
   ]
  },
  {
   "cell_type": "code",
   "execution_count": null,
   "id": "0eb6b975-ccf6-45b7-8c2c-29e6698e1ea4",
   "metadata": {},
   "outputs": [],
   "source": []
  },
  {
   "cell_type": "code",
   "execution_count": 20,
   "id": "09dcf6c6-d079-47ab-9346-f47f8d005445",
   "metadata": {},
   "outputs": [
    {
     "data": {
      "text/plain": [
       "0"
      ]
     },
     "execution_count": 20,
     "metadata": {},
     "output_type": "execute_result"
    }
   ],
   "source": [
    "s='hello world hii this is gaurav'\n",
    "s.index('h')"
   ]
  },
  {
   "cell_type": "code",
   "execution_count": 22,
   "id": "6dff40ed-fd15-4978-9e5f-5b1a34670db8",
   "metadata": {},
   "outputs": [
    {
     "data": {
      "text/plain": [
       "12"
      ]
     },
     "execution_count": 22,
     "metadata": {},
     "output_type": "execute_result"
    }
   ],
   "source": [
    "s.index('h',1)"
   ]
  },
  {
   "cell_type": "code",
   "execution_count": 23,
   "id": "8e783e6e-2227-4435-9315-00420d76ca1a",
   "metadata": {},
   "outputs": [
    {
     "data": {
      "text/plain": [
       "12"
      ]
     },
     "execution_count": 23,
     "metadata": {},
     "output_type": "execute_result"
    }
   ],
   "source": [
    "s.index('h',1,20)"
   ]
  },
  {
   "cell_type": "code",
   "execution_count": 24,
   "id": "2be59bde-4fb9-40b8-aa38-49204a767c49",
   "metadata": {},
   "outputs": [
    {
     "data": {
      "text/plain": [
       "12"
      ]
     },
     "execution_count": 24,
     "metadata": {},
     "output_type": "execute_result"
    }
   ],
   "source": [
    "s.index('hi')"
   ]
  },
  {
   "cell_type": "code",
   "execution_count": 25,
   "id": "0d56499b-d07b-4d24-81c9-3b02302c1352",
   "metadata": {},
   "outputs": [
    {
     "data": {
      "text/plain": [
       "'i'"
      ]
     },
     "execution_count": 25,
     "metadata": {},
     "output_type": "execute_result"
    }
   ],
   "source": [
    "s[13]"
   ]
  },
  {
   "cell_type": "code",
   "execution_count": null,
   "id": "00d7a116-86a6-4c5c-8ff5-d6592dab6fe8",
   "metadata": {},
   "outputs": [],
   "source": []
  },
  {
   "cell_type": "code",
   "execution_count": 26,
   "id": "e28460ec-71d8-4441-a72d-7cabc56252ea",
   "metadata": {},
   "outputs": [
    {
     "data": {
      "text/plain": [
       "17"
      ]
     },
     "execution_count": 26,
     "metadata": {},
     "output_type": "execute_result"
    }
   ],
   "source": [
    "s.rindex('h')"
   ]
  },
  {
   "cell_type": "code",
   "execution_count": 27,
   "id": "3a4061ec-88fa-4dc4-ad83-94dce5ed2b64",
   "metadata": {},
   "outputs": [
    {
     "ename": "ValueError",
     "evalue": "substring not found",
     "output_type": "error",
     "traceback": [
      "\u001b[1;31m---------------------------------------------------------------------------\u001b[0m",
      "\u001b[1;31mValueError\u001b[0m                                Traceback (most recent call last)",
      "Cell \u001b[1;32mIn[27], line 1\u001b[0m\n\u001b[1;32m----> 1\u001b[0m \u001b[43ms\u001b[49m\u001b[38;5;241;43m.\u001b[39;49m\u001b[43mindex\u001b[49m\u001b[43m(\u001b[49m\u001b[38;5;124;43m'\u001b[39;49m\u001b[38;5;124;43mx\u001b[39;49m\u001b[38;5;124;43m'\u001b[39;49m\u001b[43m)\u001b[49m\n",
      "\u001b[1;31mValueError\u001b[0m: substring not found"
     ]
    }
   ],
   "source": [
    "s.index('x')"
   ]
  },
  {
   "cell_type": "code",
   "execution_count": 28,
   "id": "ab5936c6-27f7-4426-b20b-ecd1c23c19bb",
   "metadata": {},
   "outputs": [
    {
     "ename": "ValueError",
     "evalue": "substring not found",
     "output_type": "error",
     "traceback": [
      "\u001b[1;31m---------------------------------------------------------------------------\u001b[0m",
      "\u001b[1;31mValueError\u001b[0m                                Traceback (most recent call last)",
      "Cell \u001b[1;32mIn[28], line 1\u001b[0m\n\u001b[1;32m----> 1\u001b[0m \u001b[43ms\u001b[49m\u001b[38;5;241;43m.\u001b[39;49m\u001b[43mrindex\u001b[49m\u001b[43m(\u001b[49m\u001b[38;5;124;43m'\u001b[39;49m\u001b[38;5;124;43mx\u001b[39;49m\u001b[38;5;124;43m'\u001b[39;49m\u001b[43m)\u001b[49m\n",
      "\u001b[1;31mValueError\u001b[0m: substring not found"
     ]
    }
   ],
   "source": [
    "s.rindex('x')"
   ]
  },
  {
   "cell_type": "code",
   "execution_count": null,
   "id": "df4d7139-fe7f-4c3a-806c-9b3f73325711",
   "metadata": {},
   "outputs": [],
   "source": []
  },
  {
   "cell_type": "code",
   "execution_count": 29,
   "id": "955cb82b-76cc-41f4-a0d4-b262bebbc9a8",
   "metadata": {},
   "outputs": [
    {
     "data": {
      "text/plain": [
       "0"
      ]
     },
     "execution_count": 29,
     "metadata": {},
     "output_type": "execute_result"
    }
   ],
   "source": [
    "s.find('h')"
   ]
  },
  {
   "cell_type": "code",
   "execution_count": 30,
   "id": "a0acf95c-0f4e-4086-acf4-a3b8354b5626",
   "metadata": {},
   "outputs": [
    {
     "data": {
      "text/plain": [
       "12"
      ]
     },
     "execution_count": 30,
     "metadata": {},
     "output_type": "execute_result"
    }
   ],
   "source": [
    "s.find('h',1)"
   ]
  },
  {
   "cell_type": "code",
   "execution_count": 31,
   "id": "e9cae45a-cd65-41d1-9b4c-0dcf47396328",
   "metadata": {},
   "outputs": [
    {
     "data": {
      "text/plain": [
       "12"
      ]
     },
     "execution_count": 31,
     "metadata": {},
     "output_type": "execute_result"
    }
   ],
   "source": [
    "s.find('hii')"
   ]
  },
  {
   "cell_type": "code",
   "execution_count": 34,
   "id": "9a9bdc23-8c5f-4589-be69-bd978b0bda38",
   "metadata": {},
   "outputs": [
    {
     "data": {
      "text/plain": [
       "-1"
      ]
     },
     "execution_count": 34,
     "metadata": {},
     "output_type": "execute_result"
    }
   ],
   "source": [
    "s.find('x')"
   ]
  },
  {
   "cell_type": "code",
   "execution_count": null,
   "id": "1a29de6a-16e2-4035-839b-58f2be81fd5c",
   "metadata": {},
   "outputs": [],
   "source": []
  },
  {
   "cell_type": "code",
   "execution_count": 32,
   "id": "3abdcd1b-b05d-4cbf-81a2-a9d87868eb5e",
   "metadata": {},
   "outputs": [
    {
     "data": {
      "text/plain": [
       "17"
      ]
     },
     "execution_count": 32,
     "metadata": {},
     "output_type": "execute_result"
    }
   ],
   "source": [
    "s.rfind('h')"
   ]
  },
  {
   "cell_type": "code",
   "execution_count": 33,
   "id": "622aba17-233f-407f-8d96-0300f02b82f7",
   "metadata": {},
   "outputs": [
    {
     "data": {
      "text/plain": [
       "-1"
      ]
     },
     "execution_count": 33,
     "metadata": {},
     "output_type": "execute_result"
    }
   ],
   "source": [
    "s.rfind('z')"
   ]
  },
  {
   "cell_type": "code",
   "execution_count": null,
   "id": "12560585-eb37-405d-9f82-50b6435315ab",
   "metadata": {},
   "outputs": [],
   "source": []
  },
  {
   "cell_type": "code",
   "execution_count": 35,
   "id": "a6678d9b-8870-42f9-8f9f-f5a8aada66a5",
   "metadata": {},
   "outputs": [
    {
     "data": {
      "text/plain": [
       "False"
      ]
     },
     "execution_count": 35,
     "metadata": {},
     "output_type": "execute_result"
    }
   ],
   "source": [
    "s=\"12.4\"\n",
    "s.isdigit()"
   ]
  },
  {
   "cell_type": "code",
   "execution_count": 36,
   "id": "5917372e-1566-452c-8cf3-5c1fe98d0a51",
   "metadata": {},
   "outputs": [
    {
     "data": {
      "text/plain": [
       "False"
      ]
     },
     "execution_count": 36,
     "metadata": {},
     "output_type": "execute_result"
    }
   ],
   "source": [
    "s=\"12 4234as ass\" \n",
    "s.isdigit()"
   ]
  },
  {
   "cell_type": "code",
   "execution_count": 37,
   "id": "296a002d-0fa3-47b7-9f48-40a9c8666227",
   "metadata": {},
   "outputs": [
    {
     "data": {
      "text/plain": [
       "False"
      ]
     },
     "execution_count": 37,
     "metadata": {},
     "output_type": "execute_result"
    }
   ],
   "source": [
    "s=\"12,31,24\"\n",
    "s.isdigit()"
   ]
  },
  {
   "cell_type": "code",
   "execution_count": 38,
   "id": "cb6ae847-9923-41f2-8c80-1189ff6886c4",
   "metadata": {},
   "outputs": [
    {
     "data": {
      "text/plain": [
       "True"
      ]
     },
     "execution_count": 38,
     "metadata": {},
     "output_type": "execute_result"
    }
   ],
   "source": [
    "s=\"1234\"\n",
    "s.isdigit()"
   ]
  },
  {
   "cell_type": "code",
   "execution_count": null,
   "id": "86cb0665-4400-4904-97a6-e33fcf335e4f",
   "metadata": {},
   "outputs": [],
   "source": []
  },
  {
   "cell_type": "code",
   "execution_count": 39,
   "id": "56f1c078-ddb8-4d50-b107-9f219abe5250",
   "metadata": {},
   "outputs": [
    {
     "data": {
      "text/plain": [
       "False"
      ]
     },
     "execution_count": 39,
     "metadata": {},
     "output_type": "execute_result"
    }
   ],
   "source": [
    "s=\"12,4245,4267,458,5696,97,80,789,678,67,989\"\n",
    "s.isnumeric()"
   ]
  },
  {
   "cell_type": "code",
   "execution_count": 40,
   "id": "ecc9ed77-1e9b-4d9f-8d00-6345aa00f600",
   "metadata": {},
   "outputs": [
    {
     "data": {
      "text/plain": [
       "True"
      ]
     },
     "execution_count": 40,
     "metadata": {},
     "output_type": "execute_result"
    }
   ],
   "source": [
    "s=\"1314453463462\"\n",
    "s.isnumeric()"
   ]
  },
  {
   "cell_type": "code",
   "execution_count": 42,
   "id": "4e01279b-fb3c-4d75-ac49-657501006234",
   "metadata": {},
   "outputs": [
    {
     "data": {
      "text/plain": [
       "False"
      ]
     },
     "execution_count": 42,
     "metadata": {},
     "output_type": "execute_result"
    }
   ],
   "source": [
    "s=\"12 34 66 32 44\"\n",
    "s.isnumeric()"
   ]
  },
  {
   "cell_type": "code",
   "execution_count": 43,
   "id": "7516a6d6-b5f7-44a4-8a56-161e6135c6cd",
   "metadata": {},
   "outputs": [
    {
     "data": {
      "text/plain": [
       "False"
      ]
     },
     "execution_count": 43,
     "metadata": {},
     "output_type": "execute_result"
    }
   ],
   "source": [
    "s=\"1.2\"\n",
    "s.isnumeric()"
   ]
  },
  {
   "cell_type": "code",
   "execution_count": 44,
   "id": "00ae324f-0260-4f04-9fce-ba5e2baadec0",
   "metadata": {},
   "outputs": [
    {
     "data": {
      "text/plain": [
       "False"
      ]
     },
     "execution_count": 44,
     "metadata": {},
     "output_type": "execute_result"
    }
   ],
   "source": [
    "\"1/2\".isnumeric()"
   ]
  },
  {
   "cell_type": "code",
   "execution_count": 46,
   "id": "8988feb7-9be4-4ba5-8e68-d5a07867fc52",
   "metadata": {},
   "outputs": [
    {
     "data": {
      "text/plain": [
       "False"
      ]
     },
     "execution_count": 46,
     "metadata": {},
     "output_type": "execute_result"
    }
   ],
   "source": [
    "'xii'.isnumeric()"
   ]
  },
  {
   "cell_type": "code",
   "execution_count": null,
   "id": "13b849c0-da03-4ca5-8e9c-af7dda0e4134",
   "metadata": {},
   "outputs": [],
   "source": []
  },
  {
   "cell_type": "code",
   "execution_count": 47,
   "id": "ebb92b88-cbce-4f9f-af46-4f490e2637f6",
   "metadata": {},
   "outputs": [
    {
     "data": {
      "text/plain": [
       "True"
      ]
     },
     "execution_count": 47,
     "metadata": {},
     "output_type": "execute_result"
    }
   ],
   "source": [
    "s=\"12124\"\n",
    "s.isascii()"
   ]
  },
  {
   "cell_type": "code",
   "execution_count": 50,
   "id": "a911e21b-d186-4498-a535-09d2f7150cd2",
   "metadata": {},
   "outputs": [
    {
     "data": {
      "text/plain": [
       "(49, 50)"
      ]
     },
     "execution_count": 50,
     "metadata": {},
     "output_type": "execute_result"
    }
   ],
   "source": [
    "ord('1'),ord('2')"
   ]
  },
  {
   "cell_type": "code",
   "execution_count": 51,
   "id": "317b6939-aeb0-4b88-b645-591fcd386f6c",
   "metadata": {},
   "outputs": [
    {
     "data": {
      "text/plain": [
       "True"
      ]
     },
     "execution_count": 51,
     "metadata": {},
     "output_type": "execute_result"
    }
   ],
   "source": [
    "\"gaurav\".isascii()"
   ]
  },
  {
   "cell_type": "code",
   "execution_count": 52,
   "id": "660bc492-816e-4441-b466-29b1ed021116",
   "metadata": {},
   "outputs": [
    {
     "data": {
      "text/plain": [
       "True"
      ]
     },
     "execution_count": 52,
     "metadata": {},
     "output_type": "execute_result"
    }
   ],
   "source": [
    "\"\\n\".isascii()"
   ]
  },
  {
   "cell_type": "code",
   "execution_count": 54,
   "id": "a21269ef-b91d-48c0-9ac4-f8bd322a2a44",
   "metadata": {},
   "outputs": [
    {
     "data": {
      "text/plain": [
       "True"
      ]
     },
     "execution_count": 54,
     "metadata": {},
     "output_type": "execute_result"
    }
   ],
   "source": [
    "\" \".isascii()"
   ]
  },
  {
   "cell_type": "code",
   "execution_count": 55,
   "id": "31b43ac3-77d1-47d8-99b1-4c73f3d15764",
   "metadata": {},
   "outputs": [
    {
     "data": {
      "text/plain": [
       "'अ'"
      ]
     },
     "execution_count": 55,
     "metadata": {},
     "output_type": "execute_result"
    }
   ],
   "source": [
    "chr(2309)"
   ]
  },
  {
   "cell_type": "code",
   "execution_count": 57,
   "id": "630e0ea0-509d-4bac-8d5d-eb8bf4974e05",
   "metadata": {},
   "outputs": [
    {
     "data": {
      "text/plain": [
       "False"
      ]
     },
     "execution_count": 57,
     "metadata": {},
     "output_type": "execute_result"
    }
   ],
   "source": [
    "'अ'.isascii()       #it is checking upto 127"
   ]
  },
  {
   "cell_type": "code",
   "execution_count": 60,
   "id": "cc2bfb2a-7d44-402b-81c5-7d87ace40eb7",
   "metadata": {},
   "outputs": [
    {
     "data": {
      "text/plain": [
       "('\\x7f', True)"
      ]
     },
     "execution_count": 60,
     "metadata": {},
     "output_type": "execute_result"
    }
   ],
   "source": [
    "chr(127),  '\\x7f'.isascii()"
   ]
  },
  {
   "cell_type": "code",
   "execution_count": null,
   "id": "7a9506c7-4c1e-4cf1-977b-957026a4d2fa",
   "metadata": {},
   "outputs": [],
   "source": []
  },
  {
   "cell_type": "code",
   "execution_count": 61,
   "id": "7d4c0f36-4491-488b-9316-0c29d4c48869",
   "metadata": {},
   "outputs": [
    {
     "data": {
      "text/plain": [
       "True"
      ]
     },
     "execution_count": 61,
     "metadata": {},
     "output_type": "execute_result"
    }
   ],
   "source": [
    "'name'.isidentifier()"
   ]
  },
  {
   "cell_type": "code",
   "execution_count": 62,
   "id": "24bb9cbb-ab68-47b4-b4c0-b10240adc49a",
   "metadata": {},
   "outputs": [
    {
     "data": {
      "text/plain": [
       "True"
      ]
     },
     "execution_count": 62,
     "metadata": {},
     "output_type": "execute_result"
    }
   ],
   "source": [
    "'nam1'.isidentifier()"
   ]
  },
  {
   "cell_type": "code",
   "execution_count": 63,
   "id": "094b686e-0e71-4b0e-8007-c9ebb019096d",
   "metadata": {},
   "outputs": [
    {
     "data": {
      "text/plain": [
       "False"
      ]
     },
     "execution_count": 63,
     "metadata": {},
     "output_type": "execute_result"
    }
   ],
   "source": [
    "\"1naame\".isidentifier()"
   ]
  },
  {
   "cell_type": "code",
   "execution_count": 64,
   "id": "f40edfed-bf96-461d-83ce-46c4eafd2011",
   "metadata": {},
   "outputs": [
    {
     "data": {
      "text/plain": [
       "True"
      ]
     },
     "execution_count": 64,
     "metadata": {},
     "output_type": "execute_result"
    }
   ],
   "source": [
    "\"_\".isidentifier()"
   ]
  },
  {
   "cell_type": "code",
   "execution_count": 65,
   "id": "5a078c2f-9ee6-462d-a2ac-af748154ecae",
   "metadata": {},
   "outputs": [
    {
     "data": {
      "text/plain": [
       "False"
      ]
     },
     "execution_count": 65,
     "metadata": {},
     "output_type": "execute_result"
    }
   ],
   "source": [
    "\"@id\".isidentifier()"
   ]
  },
  {
   "cell_type": "code",
   "execution_count": 66,
   "id": "c3d08cea-3b4f-4e58-a32c-cd2640c6e6b5",
   "metadata": {},
   "outputs": [
    {
     "data": {
      "text/plain": [
       "False"
      ]
     },
     "execution_count": 66,
     "metadata": {},
     "output_type": "execute_result"
    }
   ],
   "source": [
    "\"my name\".isidentifier()"
   ]
  },
  {
   "cell_type": "code",
   "execution_count": null,
   "id": "3b6446db-22cf-4d1c-b936-f6174bfda266",
   "metadata": {},
   "outputs": [],
   "source": []
  },
  {
   "cell_type": "code",
   "execution_count": 67,
   "id": "ba9a73d7-d5c8-4855-846a-04270a73072f",
   "metadata": {},
   "outputs": [
    {
     "data": {
      "text/plain": [
       "True"
      ]
     },
     "execution_count": 67,
     "metadata": {},
     "output_type": "execute_result"
    }
   ],
   "source": [
    "s=\"hello\"\n",
    "s.isprintable()"
   ]
  },
  {
   "cell_type": "code",
   "execution_count": 68,
   "id": "6730d477-e20f-421f-ac39-f7ba21259dac",
   "metadata": {},
   "outputs": [
    {
     "data": {
      "text/plain": [
       "True"
      ]
     },
     "execution_count": 68,
     "metadata": {},
     "output_type": "execute_result"
    }
   ],
   "source": [
    "\" \".isprintable()"
   ]
  },
  {
   "cell_type": "code",
   "execution_count": 69,
   "id": "cf4ea0b5-2065-42f0-963d-c5d93280737e",
   "metadata": {},
   "outputs": [
    {
     "data": {
      "text/plain": [
       "False"
      ]
     },
     "execution_count": 69,
     "metadata": {},
     "output_type": "execute_result"
    }
   ],
   "source": [
    "\"\\n\".isprintable()"
   ]
  },
  {
   "cell_type": "code",
   "execution_count": 72,
   "id": "d3047000-73f5-45d0-8645-2a59da7e90db",
   "metadata": {},
   "outputs": [
    {
     "data": {
      "text/plain": [
       "(False, False, False)"
      ]
     },
     "execution_count": 72,
     "metadata": {},
     "output_type": "execute_result"
    }
   ],
   "source": [
    "\"\\t\".isprintable(), \"\\a\".isprintable(), \"\\b\".isprintable()"
   ]
  },
  {
   "cell_type": "code",
   "execution_count": 74,
   "id": "366df5e5-46a5-4670-9b5c-46ae1ac9f286",
   "metadata": {},
   "outputs": [
    {
     "data": {
      "text/plain": [
       "True"
      ]
     },
     "execution_count": 74,
     "metadata": {},
     "output_type": "execute_result"
    }
   ],
   "source": [
    "\"\\m\".isprintable()"
   ]
  },
  {
   "cell_type": "code",
   "execution_count": null,
   "id": "82f12c04-552b-4b77-aaa9-a3bac3eeff8f",
   "metadata": {},
   "outputs": [],
   "source": []
  },
  {
   "cell_type": "code",
   "execution_count": 82,
   "id": "6c86845d-d34f-412e-a72f-83414d3d07d7",
   "metadata": {},
   "outputs": [
    {
     "name": "stdout",
     "output_type": "stream",
     "text": [
      "\n",
      "None\n"
     ]
    }
   ],
   "source": [
    "print(print())"
   ]
  },
  {
   "cell_type": "code",
   "execution_count": 80,
   "id": "3e19dd43-baf2-4686-a722-cbe0edc802a2",
   "metadata": {},
   "outputs": [
    {
     "name": "stdout",
     "output_type": "stream",
     "text": [
      "hello world\n",
      "None\n",
      "None\n",
      "None\n",
      "None\n",
      "None\n"
     ]
    }
   ],
   "source": [
    "print(print(print(print(print(print(\"hello world\"))))))"
   ]
  },
  {
   "cell_type": "code",
   "execution_count": 83,
   "id": "d8c05a7c-aff4-4b24-96a2-22610a1605c9",
   "metadata": {},
   "outputs": [
    {
     "data": {
      "text/plain": [
       "True"
      ]
     },
     "execution_count": 83,
     "metadata": {},
     "output_type": "execute_result"
    }
   ],
   "source": [
    "\"None\".isprintable()"
   ]
  },
  {
   "cell_type": "code",
   "execution_count": null,
   "id": "c0c125ae-9e99-4e44-9031-64a00d62b0ec",
   "metadata": {},
   "outputs": [],
   "source": []
  },
  {
   "cell_type": "code",
   "execution_count": 84,
   "id": "e951baf7-2859-4cf9-896d-01f862e3802c",
   "metadata": {},
   "outputs": [
    {
     "data": {
      "text/plain": [
       "False"
      ]
     },
     "execution_count": 84,
     "metadata": {},
     "output_type": "execute_result"
    }
   ],
   "source": [
    "s=\"hello world\"\n",
    "s.isspace()"
   ]
  },
  {
   "cell_type": "code",
   "execution_count": 92,
   "id": "93b356bc-6e86-4b84-91ca-bba12f0035c9",
   "metadata": {},
   "outputs": [
    {
     "data": {
      "text/plain": [
       "True"
      ]
     },
     "execution_count": 92,
     "metadata": {},
     "output_type": "execute_result"
    }
   ],
   "source": [
    "s=\"                 \"\n",
    "s.isspace()"
   ]
  },
  {
   "cell_type": "code",
   "execution_count": null,
   "id": "2c38b1f8-6eae-4165-b23e-2fd990d992d5",
   "metadata": {},
   "outputs": [],
   "source": []
  },
  {
   "cell_type": "code",
   "execution_count": 93,
   "id": "fa2ef201-1a97-424d-b5b0-2e5259a6e2ba",
   "metadata": {},
   "outputs": [
    {
     "data": {
      "text/plain": [
       "'hello  world'"
      ]
     },
     "execution_count": 93,
     "metadata": {},
     "output_type": "execute_result"
    }
   ],
   "source": [
    "s=\"hello  world\"\n",
    "s.strip()"
   ]
  },
  {
   "cell_type": "code",
   "execution_count": 95,
   "id": "7d419546-a6dc-4184-b71e-d2201d94a3a8",
   "metadata": {},
   "outputs": [
    {
     "data": {
      "text/plain": [
       "'hello world'"
      ]
     },
     "execution_count": 95,
     "metadata": {},
     "output_type": "execute_result"
    }
   ],
   "source": [
    "s=\"    hello world      \"       #removes starting and ending white space\n",
    "s.strip()"
   ]
  },
  {
   "cell_type": "code",
   "execution_count": 96,
   "id": "ef7fd61e-0246-473e-89cc-96ed3ebd5293",
   "metadata": {},
   "outputs": [
    {
     "name": "stdin",
     "output_type": "stream",
     "text": [
      "Enter the password:    python@1234\n"
     ]
    },
    {
     "data": {
      "text/plain": [
       "False"
      ]
     },
     "execution_count": 96,
     "metadata": {},
     "output_type": "execute_result"
    }
   ],
   "source": [
    "# uscase of strip()\n",
    "\n",
    "password='python@1234'\n",
    "p=input(\"Enter the password: \")\n",
    "p==password"
   ]
  },
  {
   "cell_type": "code",
   "execution_count": 97,
   "id": "0f261772-ac39-489e-ab59-22d34dc11d91",
   "metadata": {},
   "outputs": [
    {
     "name": "stdin",
     "output_type": "stream",
     "text": [
      "Enter the password:   python@1234\n"
     ]
    },
    {
     "data": {
      "text/plain": [
       "True"
      ]
     },
     "execution_count": 97,
     "metadata": {},
     "output_type": "execute_result"
    }
   ],
   "source": [
    "# uscase of strip()\n",
    "\n",
    "password='python@1234'\n",
    "p=input(\"Enter the password: \").strip()\n",
    "p==password"
   ]
  },
  {
   "cell_type": "code",
   "execution_count": null,
   "id": "56fee2c8-9567-4644-8240-553364f5d656",
   "metadata": {},
   "outputs": [],
   "source": []
  },
  {
   "cell_type": "code",
   "execution_count": 98,
   "id": "13efbba3-22ad-42d7-99e5-136df5edeb0f",
   "metadata": {},
   "outputs": [
    {
     "data": {
      "text/plain": [
       "'    hello world      '"
      ]
     },
     "execution_count": 98,
     "metadata": {},
     "output_type": "execute_result"
    }
   ],
   "source": [
    "s"
   ]
  },
  {
   "cell_type": "code",
   "execution_count": 99,
   "id": "8bbe8cbc-8820-49db-9479-c325d7f53cb8",
   "metadata": {},
   "outputs": [
    {
     "data": {
      "text/plain": [
       "'    hello world'"
      ]
     },
     "execution_count": 99,
     "metadata": {},
     "output_type": "execute_result"
    }
   ],
   "source": [
    "s.rstrip()"
   ]
  },
  {
   "cell_type": "code",
   "execution_count": 100,
   "id": "3168b9c6-09e1-4a68-b677-a930a97a6c29",
   "metadata": {},
   "outputs": [
    {
     "data": {
      "text/plain": [
       "'hello world      '"
      ]
     },
     "execution_count": 100,
     "metadata": {},
     "output_type": "execute_result"
    }
   ],
   "source": [
    "s.lstrip()"
   ]
  },
  {
   "cell_type": "code",
   "execution_count": null,
   "id": "512a76a9-d5b8-435f-8779-dbf90cc402e0",
   "metadata": {},
   "outputs": [],
   "source": []
  },
  {
   "cell_type": "code",
   "execution_count": 103,
   "id": "f42a46e7-b5fe-4272-9001-3f7f5eed02ce",
   "metadata": {},
   "outputs": [
    {
     "data": {
      "text/plain": [
       "('hello ', 'this', ' id python internship')"
      ]
     },
     "execution_count": 103,
     "metadata": {},
     "output_type": "execute_result"
    }
   ],
   "source": [
    "s=\"hello this id python internship\"\n",
    "\n",
    "s.partition(\"this\")"
   ]
  },
  {
   "cell_type": "code",
   "execution_count": 104,
   "id": "93ba9805-348d-4eb7-9acb-507cb3eb5803",
   "metadata": {},
   "outputs": [
    {
     "data": {
      "text/plain": [
       "('hello th', 'i', 's id python internship')"
      ]
     },
     "execution_count": 104,
     "metadata": {},
     "output_type": "execute_result"
    }
   ],
   "source": [
    "s.partition('i')"
   ]
  },
  {
   "cell_type": "code",
   "execution_count": 105,
   "id": "978be3b5-7748-4e1e-939b-96f4df6fdc07",
   "metadata": {},
   "outputs": [
    {
     "data": {
      "text/plain": [
       "('hello ', 'this', ' id python internship')"
      ]
     },
     "execution_count": 105,
     "metadata": {},
     "output_type": "execute_result"
    }
   ],
   "source": [
    "s.rpartition(\"this\")"
   ]
  },
  {
   "cell_type": "code",
   "execution_count": 106,
   "id": "94db6cdb-ffef-47e3-8b81-dc5cd81ae65d",
   "metadata": {},
   "outputs": [
    {
     "data": {
      "text/plain": [
       "('hello this id python internsh', 'i', 'p')"
      ]
     },
     "execution_count": 106,
     "metadata": {},
     "output_type": "execute_result"
    }
   ],
   "source": [
    "s.rpartition('i')"
   ]
  },
  {
   "cell_type": "code",
   "execution_count": 107,
   "id": "87d17c2e-b332-4012-ae95-38998a7e615c",
   "metadata": {},
   "outputs": [
    {
     "data": {
      "text/plain": [
       "('hello this id python internship', '', '')"
      ]
     },
     "execution_count": 107,
     "metadata": {},
     "output_type": "execute_result"
    }
   ],
   "source": [
    "s.partition('z')"
   ]
  },
  {
   "cell_type": "code",
   "execution_count": 108,
   "id": "a9125ade-1d4c-42cd-9fd4-a75f08a62109",
   "metadata": {},
   "outputs": [
    {
     "data": {
      "text/plain": [
       "('', '', 'hello this id python internship')"
      ]
     },
     "execution_count": 108,
     "metadata": {},
     "output_type": "execute_result"
    }
   ],
   "source": [
    "s.rpartition('z')"
   ]
  },
  {
   "cell_type": "code",
   "execution_count": null,
   "id": "c9311aa8-b584-4591-9ace-2ca14f58ef07",
   "metadata": {},
   "outputs": [],
   "source": []
  },
  {
   "cell_type": "code",
   "execution_count": 109,
   "id": "f47b63de-636f-46f8-89de-ded0376620dc",
   "metadata": {},
   "outputs": [
    {
     "data": {
      "text/plain": [
       "['hello', 'world', 'this', 'id', 'magic', 'of', 'python']"
      ]
     },
     "execution_count": 109,
     "metadata": {},
     "output_type": "execute_result"
    }
   ],
   "source": [
    "s=\"hello world this id magic of python\"\n",
    "s.split()\n"
   ]
  },
  {
   "cell_type": "code",
   "execution_count": 110,
   "id": "1f636804-9664-4d36-9249-82c5b7b80f22",
   "metadata": {},
   "outputs": [
    {
     "data": {
      "text/plain": [
       "['hello worl', ' this i', ' magic of python']"
      ]
     },
     "execution_count": 110,
     "metadata": {},
     "output_type": "execute_result"
    }
   ],
   "source": [
    "s.split('d')"
   ]
  },
  {
   "cell_type": "code",
   "execution_count": 111,
   "id": "d6c5ef0c-c9d4-4d87-b7b1-f98e1ba85e5b",
   "metadata": {},
   "outputs": [
    {
     "data": {
      "text/plain": [
       "['hello', ' this is', ' magic of python']"
      ]
     },
     "execution_count": 111,
     "metadata": {},
     "output_type": "execute_result"
    }
   ],
   "source": [
    "s=\"hello/ this is/ magic of python\" \n",
    "s.split('/')"
   ]
  },
  {
   "cell_type": "code",
   "execution_count": 113,
   "id": "d5c3839d-323a-4da7-818a-2ad5b3ab6d7d",
   "metadata": {},
   "outputs": [
    {
     "data": {
      "text/plain": [
       "['hello/', 'this', 'is/', 'magic', 'of', 'python']"
      ]
     },
     "execution_count": 113,
     "metadata": {},
     "output_type": "execute_result"
    }
   ],
   "source": [
    "s.rsplit()"
   ]
  },
  {
   "cell_type": "code",
   "execution_count": 114,
   "id": "8180869c-1b11-49be-8601-b44ec5901fd4",
   "metadata": {},
   "outputs": [
    {
     "data": {
      "text/plain": [
       "['hello/', 'this', 'is/', 'magic', 'of', 'python']"
      ]
     },
     "execution_count": 114,
     "metadata": {},
     "output_type": "execute_result"
    }
   ],
   "source": [
    "s.split()"
   ]
  },
  {
   "cell_type": "code",
   "execution_count": 125,
   "id": "bc9f6e86-4198-4e75-8873-44036aff7eb1",
   "metadata": {},
   "outputs": [
    {
     "data": {
      "text/plain": [
       "['hell', '/ this is/ magic ', 'f pyth', 'n']"
      ]
     },
     "execution_count": 125,
     "metadata": {},
     "output_type": "execute_result"
    }
   ],
   "source": [
    "s.split('o') "
   ]
  },
  {
   "cell_type": "code",
   "execution_count": 126,
   "id": "67efa5dc-de83-4fef-9f5d-c86002015e32",
   "metadata": {},
   "outputs": [
    {
     "data": {
      "text/plain": [
       "['hell', '/ this is/ magic ', 'f pyth', 'n']"
      ]
     },
     "execution_count": 126,
     "metadata": {},
     "output_type": "execute_result"
    }
   ],
   "source": [
    "s.rsplit('o')"
   ]
  },
  {
   "cell_type": "code",
   "execution_count": 122,
   "id": "99fee775-04da-4b8e-930d-700396fb0121",
   "metadata": {},
   "outputs": [
    {
     "data": {
      "text/plain": [
       "['hello/ this is/ magic of python']"
      ]
     },
     "execution_count": 122,
     "metadata": {},
     "output_type": "execute_result"
    }
   ],
   "source": [
    "s.rsplit('o',2) "
   ]
  },
  {
   "cell_type": "code",
   "execution_count": 124,
   "id": "6d51226c-9be0-4c80-b07c-d71e1b717399",
   "metadata": {},
   "outputs": [
    {
     "data": {
      "text/plain": [
       "['hell', '/ this is/ magic ', 'f python']"
      ]
     },
     "execution_count": 124,
     "metadata": {},
     "output_type": "execute_result"
    }
   ],
   "source": [
    "s.split('o',2) "
   ]
  },
  {
   "cell_type": "code",
   "execution_count": null,
   "id": "723e6781-9571-40f1-ab8f-f9322b16c687",
   "metadata": {},
   "outputs": [],
   "source": []
  },
  {
   "cell_type": "code",
   "execution_count": 127,
   "id": "ec0b1d71-e381-45dc-a436-6fae6980b2ce",
   "metadata": {},
   "outputs": [
    {
     "data": {
      "text/plain": [
       "'h e l l o   w o r l d'"
      ]
     },
     "execution_count": 127,
     "metadata": {},
     "output_type": "execute_result"
    }
   ],
   "source": [
    "\" \".join(\"hello world\")"
   ]
  },
  {
   "cell_type": "code",
   "execution_count": 128,
   "id": "41fb1b13-cf86-40e8-8cc8-06d06d8da110",
   "metadata": {},
   "outputs": [
    {
     "data": {
      "text/plain": [
       "'h-e-l-l-o- -w-o-r-l-d'"
      ]
     },
     "execution_count": 128,
     "metadata": {},
     "output_type": "execute_result"
    }
   ],
   "source": [
    "\"-\".join(\"hello world\")"
   ]
  },
  {
   "cell_type": "code",
   "execution_count": 130,
   "id": "e708f0dc-417f-4b36-854e-e5372dab62d2",
   "metadata": {},
   "outputs": [
    {
     "data": {
      "text/plain": [
       "['hello', 'world', 'this', 'is', 'python']"
      ]
     },
     "execution_count": 130,
     "metadata": {},
     "output_type": "execute_result"
    }
   ],
   "source": [
    "lis=[\"hello\",\"world\",\"this\",\"is\",\"python\"]\n",
    "lis"
   ]
  },
  {
   "cell_type": "code",
   "execution_count": 131,
   "id": "41a012b1-0322-408f-884f-b82d24d3116d",
   "metadata": {},
   "outputs": [
    {
     "data": {
      "text/plain": [
       "'hello**world**this**is**python'"
      ]
     },
     "execution_count": 131,
     "metadata": {},
     "output_type": "execute_result"
    }
   ],
   "source": [
    "\"**\".join(lis)"
   ]
  },
  {
   "cell_type": "code",
   "execution_count": 132,
   "id": "6cb28152-abee-4470-88bc-b72134d6a086",
   "metadata": {},
   "outputs": [
    {
     "ename": "NameError",
     "evalue": "name 'l1234567' is not defined",
     "output_type": "error",
     "traceback": [
      "\u001b[1;31m---------------------------------------------------------------------------\u001b[0m",
      "\u001b[1;31mNameError\u001b[0m                                 Traceback (most recent call last)",
      "Cell \u001b[1;32mIn[132], line 1\u001b[0m\n\u001b[1;32m----> 1\u001b[0m \u001b[38;5;124m\"\u001b[39m\u001b[38;5;124m**\u001b[39m\u001b[38;5;124m\"\u001b[39m\u001b[38;5;241m.\u001b[39mjoin(\u001b[43ml1234567\u001b[49m)\n",
      "\u001b[1;31mNameError\u001b[0m: name 'l1234567' is not defined"
     ]
    }
   ],
   "source": [
    "\"**\".join(l1234567)"
   ]
  },
  {
   "cell_type": "code",
   "execution_count": 133,
   "id": "ad516d09-5e0a-4a50-9fee-3c2714d44f86",
   "metadata": {},
   "outputs": [
    {
     "ename": "TypeError",
     "evalue": "sequence item 0: expected str instance, int found",
     "output_type": "error",
     "traceback": [
      "\u001b[1;31m---------------------------------------------------------------------------\u001b[0m",
      "\u001b[1;31mTypeError\u001b[0m                                 Traceback (most recent call last)",
      "Cell \u001b[1;32mIn[133], line 1\u001b[0m\n\u001b[1;32m----> 1\u001b[0m \u001b[38;5;124;43m\"\u001b[39;49m\u001b[38;5;124;43m**\u001b[39;49m\u001b[38;5;124;43m\"\u001b[39;49m\u001b[38;5;241;43m.\u001b[39;49m\u001b[43mjoin\u001b[49m\u001b[43m(\u001b[49m\u001b[43m[\u001b[49m\u001b[38;5;241;43m1\u001b[39;49m\u001b[43m,\u001b[49m\u001b[38;5;241;43m2\u001b[39;49m\u001b[43m,\u001b[49m\u001b[38;5;241;43m3\u001b[39;49m\u001b[43m,\u001b[49m\u001b[38;5;241;43m4\u001b[39;49m\u001b[43m,\u001b[49m\u001b[38;5;241;43m5\u001b[39;49m\u001b[43m,\u001b[49m\u001b[38;5;241;43m7\u001b[39;49m\u001b[43m]\u001b[49m\u001b[43m)\u001b[49m\n",
      "\u001b[1;31mTypeError\u001b[0m: sequence item 0: expected str instance, int found"
     ]
    }
   ],
   "source": [
    "\"**\".join([1,2,3,4,5,7])"
   ]
  },
  {
   "cell_type": "code",
   "execution_count": null,
   "id": "4b669497-fba4-4dbf-b087-23dc6703d6d6",
   "metadata": {},
   "outputs": [],
   "source": []
  }
 ],
 "metadata": {
  "kernelspec": {
   "display_name": "Python 3 (ipykernel)",
   "language": "python",
   "name": "python3"
  },
  "language_info": {
   "codemirror_mode": {
    "name": "ipython",
    "version": 3
   },
   "file_extension": ".py",
   "mimetype": "text/x-python",
   "name": "python",
   "nbconvert_exporter": "python",
   "pygments_lexer": "ipython3",
   "version": "3.11.3"
  }
 },
 "nbformat": 4,
 "nbformat_minor": 5
}
