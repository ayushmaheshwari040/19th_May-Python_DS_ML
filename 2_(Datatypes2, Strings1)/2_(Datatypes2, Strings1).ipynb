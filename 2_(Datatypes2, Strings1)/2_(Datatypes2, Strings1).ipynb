{
 "cells": [
  {
   "cell_type": "code",
   "execution_count": 1,
   "id": "605c133f-a4eb-4aa2-bbc9-1b9052e87e66",
   "metadata": {},
   "outputs": [],
   "source": [
    "from keyword import kwlist"
   ]
  },
  {
   "cell_type": "code",
   "execution_count": 2,
   "id": "d3a3598d-b649-4b58-854e-ed52a452fcfa",
   "metadata": {},
   "outputs": [
    {
     "name": "stdout",
     "output_type": "stream",
     "text": [
      "['False', 'None', 'True', 'and', 'as', 'assert', 'async', 'await', 'break', 'class', 'continue', 'def', 'del', 'elif', 'else', 'except', 'finally', 'for', 'from', 'global', 'if', 'import', 'in', 'is', 'lambda', 'nonlocal', 'not', 'or', 'pass', 'raise', 'return', 'try', 'while', 'with', 'yield']\n"
     ]
    }
   ],
   "source": [
    "print(kwlist)"
   ]
  },
  {
   "cell_type": "code",
   "execution_count": null,
   "id": "f8e8fc88-802a-455a-9ec7-a49a8fd9d797",
   "metadata": {},
   "outputs": [],
   "source": []
  },
  {
   "cell_type": "code",
   "execution_count": 3,
   "id": "3a2a1993-b2ec-4d60-a5c3-0fea87c3c31e",
   "metadata": {},
   "outputs": [],
   "source": [
    "name = 'rohan'"
   ]
  },
  {
   "cell_type": "code",
   "execution_count": 4,
   "id": "b286492f-af07-40d5-a19c-f4e1d17b2519",
   "metadata": {},
   "outputs": [
    {
     "ename": "SyntaxError",
     "evalue": "invalid syntax (2974327018.py, line 1)",
     "output_type": "error",
     "traceback": [
      "\u001b[1;36m  Cell \u001b[1;32mIn[4], line 1\u001b[1;36m\u001b[0m\n\u001b[1;33m    if = 100\u001b[0m\n\u001b[1;37m       ^\u001b[0m\n\u001b[1;31mSyntaxError\u001b[0m\u001b[1;31m:\u001b[0m invalid syntax\n"
     ]
    }
   ],
   "source": [
    "if = 100"
   ]
  },
  {
   "cell_type": "code",
   "execution_count": null,
   "id": "5a220b92-1612-412f-bce8-638a21e2bde5",
   "metadata": {},
   "outputs": [],
   "source": []
  },
  {
   "cell_type": "code",
   "execution_count": 5,
   "id": "22d25857-ea42-4375-912c-c76e831e9e07",
   "metadata": {},
   "outputs": [
    {
     "name": "stdout",
     "output_type": "stream",
     "text": [
      "100\n"
     ]
    }
   ],
   "source": [
    "print(100)"
   ]
  },
  {
   "cell_type": "code",
   "execution_count": 6,
   "id": "533795c9-158d-4f55-8d9c-0bacfc7302e0",
   "metadata": {},
   "outputs": [],
   "source": [
    "print = 'hello world'"
   ]
  },
  {
   "cell_type": "code",
   "execution_count": 8,
   "id": "035d2a82-0ad3-4d53-abb4-ca945869b37f",
   "metadata": {},
   "outputs": [
    {
     "ename": "TypeError",
     "evalue": "'str' object is not callable",
     "output_type": "error",
     "traceback": [
      "\u001b[1;31m---------------------------------------------------------------------------\u001b[0m",
      "\u001b[1;31mTypeError\u001b[0m                                 Traceback (most recent call last)",
      "Cell \u001b[1;32mIn[8], line 1\u001b[0m\n\u001b[1;32m----> 1\u001b[0m \u001b[38;5;28mprint\u001b[39m(\u001b[38;5;241m100\u001b[39m)\n",
      "\u001b[1;31mTypeError\u001b[0m: 'str' object is not callable"
     ]
    }
   ],
   "source": [
    "print(100)"
   ]
  },
  {
   "cell_type": "code",
   "execution_count": null,
   "id": "17eabdda-0023-4f4c-8174-eb05659cf651",
   "metadata": {},
   "outputs": [],
   "source": []
  },
  {
   "cell_type": "markdown",
   "id": "5e35ce70-417f-42ae-9e02-2213481ebc26",
   "metadata": {},
   "source": [
    "## 2. String\n",
    "\n",
    "            Collection of characters\n",
    "\n",
    "            ' '\n",
    "            \" \"\n",
    "            \"\"\" \"\"\"\n",
    "            Ordered\n",
    "            Immutable\n",
    "            "
   ]
  },
  {
   "cell_type": "code",
   "execution_count": 9,
   "id": "b39eb24d-e251-4d5b-8880-4bba1193e3a5",
   "metadata": {},
   "outputs": [],
   "source": [
    "name = 'harsh'"
   ]
  },
  {
   "cell_type": "code",
   "execution_count": 10,
   "id": "fb93b00b-e416-4dd3-bc22-8c82a7d87c71",
   "metadata": {},
   "outputs": [],
   "source": [
    "name = \"harsh\""
   ]
  },
  {
   "cell_type": "code",
   "execution_count": 11,
   "id": "813d007b-c598-45c5-a05c-eece7f8505fa",
   "metadata": {},
   "outputs": [
    {
     "ename": "SyntaxError",
     "evalue": "invalid decimal literal (3621001530.py, line 1)",
     "output_type": "error",
     "traceback": [
      "\u001b[1;36m  Cell \u001b[1;32mIn[11], line 1\u001b[1;36m\u001b[0m\n\u001b[1;33m    1name = 'simran'\u001b[0m\n\u001b[1;37m    ^\u001b[0m\n\u001b[1;31mSyntaxError\u001b[0m\u001b[1;31m:\u001b[0m invalid decimal literal\n"
     ]
    }
   ],
   "source": [
    "1name = 'simran'\n",
    "2name = 'deep'"
   ]
  },
  {
   "cell_type": "code",
   "execution_count": 12,
   "id": "e97ae9b5-5a52-4090-bbef-1076d3e43f52",
   "metadata": {},
   "outputs": [],
   "source": [
    "name1 = 'sachin'\n",
    "name2 = 'deep'"
   ]
  },
  {
   "cell_type": "code",
   "execution_count": null,
   "id": "96491f86-b0c7-465d-882c-c5cbb273b685",
   "metadata": {},
   "outputs": [],
   "source": []
  },
  {
   "cell_type": "code",
   "execution_count": 13,
   "id": "26d9f6e9-d853-4bbd-938e-cadb704a240e",
   "metadata": {},
   "outputs": [
    {
     "ename": "SyntaxError",
     "evalue": "unterminated string literal (detected at line 1) (2833723619.py, line 1)",
     "output_type": "error",
     "traceback": [
      "\u001b[1;36m  Cell \u001b[1;32mIn[13], line 1\u001b[1;36m\u001b[0m\n\u001b[1;33m    s = 'rohan's house'\u001b[0m\n\u001b[1;37m                      ^\u001b[0m\n\u001b[1;31mSyntaxError\u001b[0m\u001b[1;31m:\u001b[0m unterminated string literal (detected at line 1)\n"
     ]
    }
   ],
   "source": [
    "s = 'rohan's house'"
   ]
  },
  {
   "cell_type": "code",
   "execution_count": 1,
   "id": "51c6873f-fc25-4203-b065-470c32e345a1",
   "metadata": {},
   "outputs": [],
   "source": [
    "s = \"rohan's house\""
   ]
  },
  {
   "cell_type": "code",
   "execution_count": 2,
   "id": "86eb6d82-5893-40e8-a1ba-902edf357c93",
   "metadata": {},
   "outputs": [
    {
     "data": {
      "text/plain": [
       "\"rohan's house\""
      ]
     },
     "execution_count": 2,
     "metadata": {},
     "output_type": "execute_result"
    }
   ],
   "source": [
    "s"
   ]
  },
  {
   "cell_type": "code",
   "execution_count": 3,
   "id": "e6a0a135-4875-40c6-8e7a-350c28c3b38b",
   "metadata": {},
   "outputs": [
    {
     "name": "stdout",
     "output_type": "stream",
     "text": [
      "rohan's house\n"
     ]
    }
   ],
   "source": [
    "print(s)"
   ]
  },
  {
   "cell_type": "code",
   "execution_count": 4,
   "id": "ca4ce181-b871-49ed-9a06-06b88ce287c9",
   "metadata": {},
   "outputs": [
    {
     "data": {
      "text/plain": [
       "\"rohan's house\""
      ]
     },
     "execution_count": 4,
     "metadata": {},
     "output_type": "execute_result"
    }
   ],
   "source": [
    "s"
   ]
  },
  {
   "cell_type": "code",
   "execution_count": 11,
   "id": "5150c476-d794-4bc5-8dfb-390acfb34436",
   "metadata": {},
   "outputs": [
    {
     "name": "stdout",
     "output_type": "stream",
     "text": [
      "<class 'str'>\n"
     ]
    }
   ],
   "source": [
    "print(type(s))"
   ]
  },
  {
   "cell_type": "markdown",
   "id": "74cfb631-2226-4eda-8598-cd561eabe801",
   "metadata": {},
   "source": [
    "## 3. List\n",
    "            Collection of objects / values\n",
    "\n",
    "            [ ]\n",
    "\n",
    "            ordered\n",
    "            mutable"
   ]
  },
  {
   "cell_type": "code",
   "execution_count": null,
   "id": "3e8de748-5cac-456f-b7b5-46c039ec436b",
   "metadata": {},
   "outputs": [],
   "source": []
  },
  {
   "cell_type": "code",
   "execution_count": 5,
   "id": "fa0f239a-337c-4055-9e51-d52ed6b2ed6e",
   "metadata": {},
   "outputs": [],
   "source": [
    "lst = [10,20,30,40,50,60,70]"
   ]
  },
  {
   "cell_type": "code",
   "execution_count": 6,
   "id": "90e3440b-6f88-44b8-800b-971ed22be611",
   "metadata": {},
   "outputs": [
    {
     "name": "stdout",
     "output_type": "stream",
     "text": [
      "[10, 20, 30, 40, 50, 60, 70]\n"
     ]
    }
   ],
   "source": [
    "print(lst)"
   ]
  },
  {
   "cell_type": "code",
   "execution_count": 12,
   "id": "fee4d1f6-0d2c-4f90-a8be-bbf53f578cb1",
   "metadata": {},
   "outputs": [
    {
     "name": "stdout",
     "output_type": "stream",
     "text": [
      "<class 'list'>\n"
     ]
    }
   ],
   "source": [
    "print(type(lst))"
   ]
  },
  {
   "cell_type": "code",
   "execution_count": 7,
   "id": "5aab2725-6f79-4f3a-ae1e-f40c9177e87d",
   "metadata": {},
   "outputs": [],
   "source": [
    "ls = ['hello', 'hii', 23,45, 4.5, 2+3j]"
   ]
  },
  {
   "cell_type": "code",
   "execution_count": 8,
   "id": "94ade7b5-4408-4c10-b73c-4f08121cfb13",
   "metadata": {},
   "outputs": [
    {
     "data": {
      "text/plain": [
       "['hello', 'hii', 23, 45, 4.5, (2+3j)]"
      ]
     },
     "execution_count": 8,
     "metadata": {},
     "output_type": "execute_result"
    }
   ],
   "source": [
    "ls"
   ]
  },
  {
   "cell_type": "code",
   "execution_count": null,
   "id": "0daa2758-1e69-49c7-b6e6-2aaa590b4d35",
   "metadata": {},
   "outputs": [],
   "source": []
  },
  {
   "cell_type": "markdown",
   "id": "d5f0db07-4f31-458c-8b49-0896cd90f8e5",
   "metadata": {},
   "source": [
    "## 4. Tuple\n",
    "            Collection of elements\n",
    "\n",
    "            ( )\n",
    "\n",
    "            ordered\n",
    "            Immutable"
   ]
  },
  {
   "cell_type": "code",
   "execution_count": null,
   "id": "03b5bd14-8e5e-4550-8556-fd293fdc8847",
   "metadata": {},
   "outputs": [],
   "source": []
  },
  {
   "cell_type": "code",
   "execution_count": 9,
   "id": "b4c30c68-6741-4b33-89d6-39327f87cbb2",
   "metadata": {},
   "outputs": [],
   "source": [
    "data = (23,45,67,67,89,34)"
   ]
  },
  {
   "cell_type": "code",
   "execution_count": 10,
   "id": "982efaf7-42c5-4c30-89db-6e16d12fd15b",
   "metadata": {},
   "outputs": [
    {
     "data": {
      "text/plain": [
       "(23, 45, 67, 67, 89, 34)"
      ]
     },
     "execution_count": 10,
     "metadata": {},
     "output_type": "execute_result"
    }
   ],
   "source": [
    "data"
   ]
  },
  {
   "cell_type": "code",
   "execution_count": 13,
   "id": "9749a0f5-8d24-473a-958a-95dd88434250",
   "metadata": {},
   "outputs": [
    {
     "name": "stdout",
     "output_type": "stream",
     "text": [
      "<class 'tuple'>\n"
     ]
    }
   ],
   "source": [
    "print(type(data))"
   ]
  },
  {
   "cell_type": "code",
   "execution_count": null,
   "id": "dc3f73f7-4fcf-47bf-84d7-834d8bceb1ac",
   "metadata": {},
   "outputs": [],
   "source": []
  },
  {
   "cell_type": "markdown",
   "id": "fb81ee1d-fe76-4ecc-b02a-b41c852786ae",
   "metadata": {},
   "source": [
    "## 5. Dictionary\n",
    "\n",
    "                Collection of key & values pairs\n",
    "\n",
    "                { }\n",
    "\n",
    "                unordered --> before python 3.6\n",
    "\n",
    "                ordered   --> after python 3.6\n",
    "\n",
    "                mutable\n",
    "\n",
    "                Keys must be unique & immutable."
   ]
  },
  {
   "cell_type": "code",
   "execution_count": 14,
   "id": "00b1e032-8ae5-4059-82e8-6f2ce5fb8173",
   "metadata": {},
   "outputs": [],
   "source": [
    "d = {'name':'harsh', 'age':23, 'address':'jaipur'}"
   ]
  },
  {
   "cell_type": "code",
   "execution_count": 15,
   "id": "7f2461df-98df-482c-ab27-fa0c895bfa62",
   "metadata": {},
   "outputs": [
    {
     "data": {
      "text/plain": [
       "{'name': 'harsh', 'age': 23, 'address': 'jaipur'}"
      ]
     },
     "execution_count": 15,
     "metadata": {},
     "output_type": "execute_result"
    }
   ],
   "source": [
    "d"
   ]
  },
  {
   "cell_type": "code",
   "execution_count": null,
   "id": "91052929-c88d-45ea-a980-671a03faad87",
   "metadata": {},
   "outputs": [],
   "source": []
  },
  {
   "cell_type": "code",
   "execution_count": 16,
   "id": "b97e03d9-cfe6-47e0-855c-071b35d84d70",
   "metadata": {},
   "outputs": [
    {
     "name": "stdout",
     "output_type": "stream",
     "text": [
      "<class 'dict'>\n"
     ]
    }
   ],
   "source": [
    "print(type(d))"
   ]
  },
  {
   "cell_type": "code",
   "execution_count": null,
   "id": "fded3b45-100f-4af7-9d8a-2044348f633e",
   "metadata": {},
   "outputs": [],
   "source": []
  },
  {
   "cell_type": "markdown",
   "id": "1342fbf3-1b1a-4f41-98b7-f053fe68f2f7",
   "metadata": {},
   "source": [
    "## 6. Set\n",
    "        Collection of unique elements\n",
    "\n",
    "        { }\n",
    "\n",
    "        Unordered\n",
    "\n",
    "        mutable"
   ]
  },
  {
   "cell_type": "code",
   "execution_count": null,
   "id": "1f2021c3-ac9b-4927-ac5f-961328f74f35",
   "metadata": {},
   "outputs": [],
   "source": []
  },
  {
   "cell_type": "code",
   "execution_count": 17,
   "id": "db057f7b-2657-4106-9aa7-cd96c93251dc",
   "metadata": {},
   "outputs": [],
   "source": [
    "s1 = {23,45,67,23,56,23,765,23,678,23,68,89,45}"
   ]
  },
  {
   "cell_type": "code",
   "execution_count": 18,
   "id": "a37af630-6d29-406a-b7cc-53ae72f6bfdb",
   "metadata": {},
   "outputs": [
    {
     "name": "stdout",
     "output_type": "stream",
     "text": [
      "{67, 68, 678, 45, 23, 56, 89, 765}\n"
     ]
    }
   ],
   "source": [
    "print(s1)"
   ]
  },
  {
   "cell_type": "code",
   "execution_count": 19,
   "id": "9e3525c6-33cb-4227-9094-27fa589af594",
   "metadata": {},
   "outputs": [
    {
     "name": "stdout",
     "output_type": "stream",
     "text": [
      "{67, 68, 678, 45, 23, 56, 89, 765}\n"
     ]
    }
   ],
   "source": [
    "print(s1)"
   ]
  },
  {
   "cell_type": "code",
   "execution_count": null,
   "id": "20ef93ff-4258-4a98-9201-152d86a3b9ea",
   "metadata": {},
   "outputs": [],
   "source": []
  },
  {
   "cell_type": "code",
   "execution_count": 20,
   "id": "1fddc553-4348-45c7-8426-35548f0f2fc1",
   "metadata": {},
   "outputs": [],
   "source": [
    "s1 = {'hello', 23, (23,45,67), 23,567,23,67, 'bye'}"
   ]
  },
  {
   "cell_type": "code",
   "execution_count": 21,
   "id": "fb95b7e8-a2ce-46fb-a575-cad4dbd9f738",
   "metadata": {},
   "outputs": [
    {
     "name": "stdout",
     "output_type": "stream",
     "text": [
      "{67, 23, 567, 'bye', 'hello', (23, 45, 67)}\n"
     ]
    }
   ],
   "source": [
    "print(s1)"
   ]
  },
  {
   "cell_type": "code",
   "execution_count": null,
   "id": "6f1e4e6f-7ba4-4e5a-97d1-bbea4d6da6f9",
   "metadata": {},
   "outputs": [],
   "source": []
  },
  {
   "cell_type": "markdown",
   "id": "d243af5d-f61b-463d-985f-7d79ebe0bc8b",
   "metadata": {},
   "source": [
    "## 7. Bool"
   ]
  },
  {
   "cell_type": "code",
   "execution_count": 22,
   "id": "02ad0012-c072-4ff3-8eae-67975343caf4",
   "metadata": {},
   "outputs": [
    {
     "data": {
      "text/plain": [
       "True"
      ]
     },
     "execution_count": 22,
     "metadata": {},
     "output_type": "execute_result"
    }
   ],
   "source": [
    "True"
   ]
  },
  {
   "cell_type": "code",
   "execution_count": 23,
   "id": "3ed61857-33a0-446b-aad4-ebd84d5c1357",
   "metadata": {},
   "outputs": [
    {
     "data": {
      "text/plain": [
       "False"
      ]
     },
     "execution_count": 23,
     "metadata": {},
     "output_type": "execute_result"
    }
   ],
   "source": [
    "False"
   ]
  },
  {
   "cell_type": "code",
   "execution_count": 24,
   "id": "fa023605-cdab-4d1c-9bb2-66a8d18d897c",
   "metadata": {},
   "outputs": [],
   "source": [
    "a = True"
   ]
  },
  {
   "cell_type": "code",
   "execution_count": 25,
   "id": "ae798352-241a-4f41-b3f5-58ed46e33b02",
   "metadata": {},
   "outputs": [
    {
     "name": "stdout",
     "output_type": "stream",
     "text": [
      "<class 'bool'>\n"
     ]
    }
   ],
   "source": [
    "print(type(a))"
   ]
  },
  {
   "cell_type": "code",
   "execution_count": 26,
   "id": "1340399f-3a71-42f3-a4b6-b5de01c1605b",
   "metadata": {},
   "outputs": [
    {
     "name": "stdout",
     "output_type": "stream",
     "text": [
      "<class 'bool'>\n"
     ]
    }
   ],
   "source": [
    "print(type(False))"
   ]
  },
  {
   "cell_type": "code",
   "execution_count": null,
   "id": "7a72bed3-229e-4553-9a22-ecc29ba2e611",
   "metadata": {},
   "outputs": [],
   "source": []
  },
  {
   "cell_type": "code",
   "execution_count": 27,
   "id": "c41035f5-cdd4-45b8-a9d5-f8f7c22f7558",
   "metadata": {},
   "outputs": [],
   "source": [
    "a = None\n",
    "a"
   ]
  },
  {
   "cell_type": "code",
   "execution_count": 28,
   "id": "dd335015-00a3-4bc2-bbca-9c9d5ca53b73",
   "metadata": {},
   "outputs": [
    {
     "name": "stdout",
     "output_type": "stream",
     "text": [
      "None\n"
     ]
    }
   ],
   "source": [
    "print(a)"
   ]
  },
  {
   "cell_type": "code",
   "execution_count": 29,
   "id": "50158cf5-981d-4bc6-b0d0-a2e54223a164",
   "metadata": {},
   "outputs": [
    {
     "name": "stdout",
     "output_type": "stream",
     "text": [
      "<class 'NoneType'>\n"
     ]
    }
   ],
   "source": [
    "print(type(a))"
   ]
  },
  {
   "cell_type": "code",
   "execution_count": null,
   "id": "f088354d-f502-45e8-b834-705c04ed3a19",
   "metadata": {},
   "outputs": [],
   "source": []
  },
  {
   "cell_type": "code",
   "execution_count": null,
   "id": "ab8121ec-d558-4909-820b-b421c939051f",
   "metadata": {},
   "outputs": [],
   "source": []
  },
  {
   "cell_type": "code",
   "execution_count": 4,
   "id": "e86560c6-f0b4-4d9a-93d3-de49b410e08d",
   "metadata": {},
   "outputs": [
    {
     "name": "stdout",
     "output_type": "stream",
     "text": [
      "Requirement already satisfied: nbmerge in c:\\users\\dell\\appdata\\local\\programs\\python\\python311\\lib\\site-packages (0.0.4)\n"
     ]
    },
    {
     "name": "stderr",
     "output_type": "stream",
     "text": [
      "\n",
      "[notice] A new release of pip is available: 25.0.1 -> 25.1.1\n",
      "[notice] To update, run: python.exe -m pip install --upgrade pip\n"
     ]
    }
   ],
   "source": [
    "# !pip install nbmerge                  # used for merging multiple ipynb files"
   ]
  },
  {
   "cell_type": "code",
   "execution_count": null,
   "id": "bb1b3e2e-5e28-4482-bb98-82114b4431a6",
   "metadata": {},
   "outputs": [],
   "source": []
  },
  {
   "cell_type": "code",
   "execution_count": null,
   "id": "d549c02d-1443-4730-9468-ab47dcfa9250",
   "metadata": {},
   "outputs": [],
   "source": []
  },
  {
   "cell_type": "markdown",
   "id": "3d5a96e3-1322-4311-8039-b186c12a1745",
   "metadata": {},
   "source": [
    "# Strings And Its Operations"
   ]
  },
  {
   "cell_type": "code",
   "execution_count": 1,
   "id": "387818a2-3a5e-493d-86f1-d8be1b20e93d",
   "metadata": {},
   "outputs": [],
   "source": [
    "s = 'python is awesome'"
   ]
  },
  {
   "cell_type": "code",
   "execution_count": 2,
   "id": "213e9852-4d23-4f2d-b8d1-a83618b95ac3",
   "metadata": {},
   "outputs": [
    {
     "name": "stdout",
     "output_type": "stream",
     "text": [
      "python is awesome\n"
     ]
    }
   ],
   "source": [
    "print(s)"
   ]
  },
  {
   "cell_type": "code",
   "execution_count": null,
   "id": "83798a95-d97b-49a3-8688-5690dfa73bd4",
   "metadata": {},
   "outputs": [],
   "source": []
  },
  {
   "cell_type": "code",
   "execution_count": 4,
   "id": "5ce8db9e-15a6-4a18-a958-63741898957d",
   "metadata": {},
   "outputs": [
    {
     "name": "stdout",
     "output_type": "stream",
     "text": [
      "['capitalize', 'casefold', 'center', 'count', 'encode', 'endswith', 'expandtabs', 'find', 'format', 'format_map', 'index', 'isalnum', 'isalpha', 'isascii', 'isdecimal', 'isdigit', 'isidentifier', 'islower', 'isnumeric', 'isprintable', 'isspace', 'istitle', 'isupper', 'join', 'ljust', 'lower', 'lstrip', 'maketrans', 'partition', 'removeprefix', 'removesuffix', 'replace', 'rfind', 'rindex', 'rjust', 'rpartition', 'rsplit', 'rstrip', 'split', 'splitlines', 'startswith', 'strip', 'swapcase', 'title', 'translate', 'upper', 'zfill']\n"
     ]
    }
   ],
   "source": [
    "print([i for i in dir(str) if not i.startswith('__')])"
   ]
  },
  {
   "cell_type": "code",
   "execution_count": 5,
   "id": "e59614e9-9fcf-4cdf-821b-b999be237b0f",
   "metadata": {},
   "outputs": [
    {
     "data": {
      "text/plain": [
       "'python is awesome'"
      ]
     },
     "execution_count": 5,
     "metadata": {},
     "output_type": "execute_result"
    }
   ],
   "source": [
    "s"
   ]
  },
  {
   "cell_type": "code",
   "execution_count": 6,
   "id": "0d7c1994-2798-40db-be6f-c5a84eb8c4ae",
   "metadata": {},
   "outputs": [
    {
     "data": {
      "text/plain": [
       "'python is awesome'"
      ]
     },
     "execution_count": 6,
     "metadata": {},
     "output_type": "execute_result"
    }
   ],
   "source": [
    "s"
   ]
  },
  {
   "cell_type": "code",
   "execution_count": 7,
   "id": "5b443083-4968-4ccf-90c5-8f56b2e37a60",
   "metadata": {},
   "outputs": [
    {
     "data": {
      "text/plain": [
       "'PYTHON IS AWESOME'"
      ]
     },
     "execution_count": 7,
     "metadata": {},
     "output_type": "execute_result"
    }
   ],
   "source": [
    "s.upper()"
   ]
  },
  {
   "cell_type": "code",
   "execution_count": 8,
   "id": "adfa104a-0aae-4327-936a-2de3bd5455da",
   "metadata": {},
   "outputs": [
    {
     "name": "stdout",
     "output_type": "stream",
     "text": [
      "python is awesome\n"
     ]
    }
   ],
   "source": [
    "print(s)"
   ]
  },
  {
   "cell_type": "code",
   "execution_count": null,
   "id": "61ed006e-7f37-4933-9b0c-4d96401c9786",
   "metadata": {},
   "outputs": [],
   "source": []
  },
  {
   "cell_type": "code",
   "execution_count": 9,
   "id": "a0fb5f02-e5fa-4adc-b056-3bbf6511cdd2",
   "metadata": {},
   "outputs": [
    {
     "name": "stdout",
     "output_type": "stream",
     "text": [
      "1933212719408\n"
     ]
    }
   ],
   "source": [
    "print(id(s))"
   ]
  },
  {
   "cell_type": "code",
   "execution_count": 11,
   "id": "5242cbb5-b5f1-40ef-b65c-33dd1eb1e61f",
   "metadata": {},
   "outputs": [
    {
     "data": {
      "text/plain": [
       "'PYTHON IS AWESOME'"
      ]
     },
     "execution_count": 11,
     "metadata": {},
     "output_type": "execute_result"
    }
   ],
   "source": [
    "s1 = s.upper()\n",
    "s1"
   ]
  },
  {
   "cell_type": "code",
   "execution_count": 12,
   "id": "bc08ec40-b67c-4e67-9efc-3596d1744652",
   "metadata": {},
   "outputs": [
    {
     "name": "stdout",
     "output_type": "stream",
     "text": [
      "1933212891968\n"
     ]
    }
   ],
   "source": [
    "print(id(s1))"
   ]
  },
  {
   "cell_type": "code",
   "execution_count": null,
   "id": "023c77a8-6ed6-48dc-95a6-18ab74eec817",
   "metadata": {},
   "outputs": [],
   "source": []
  },
  {
   "cell_type": "code",
   "execution_count": 13,
   "id": "61db4d97-e384-4236-ab93-d6b9684b21ca",
   "metadata": {},
   "outputs": [
    {
     "data": {
      "text/plain": [
       "'PYTHON IS AWESOME'"
      ]
     },
     "execution_count": 13,
     "metadata": {},
     "output_type": "execute_result"
    }
   ],
   "source": [
    "s1"
   ]
  },
  {
   "cell_type": "code",
   "execution_count": 14,
   "id": "66bd5c13-fc52-48e5-bab0-39028c7753fd",
   "metadata": {},
   "outputs": [
    {
     "data": {
      "text/plain": [
       "'python is awesome'"
      ]
     },
     "execution_count": 14,
     "metadata": {},
     "output_type": "execute_result"
    }
   ],
   "source": [
    "s1.lower()"
   ]
  },
  {
   "cell_type": "code",
   "execution_count": null,
   "id": "f4b6c44d-3140-414b-b10e-20ac98c9dbb0",
   "metadata": {},
   "outputs": [],
   "source": []
  },
  {
   "cell_type": "code",
   "execution_count": 15,
   "id": "afd48325-d134-460e-903f-288bbf6c5f2b",
   "metadata": {},
   "outputs": [
    {
     "name": "stdout",
     "output_type": "stream",
     "text": [
      "['capitalize', 'casefold', 'center', 'count', 'encode', 'endswith', 'expandtabs', 'find', 'format', 'format_map', 'index', 'isalnum', 'isalpha', 'isascii', 'isdecimal', 'isdigit', 'isidentifier', 'islower', 'isnumeric', 'isprintable', 'isspace', 'istitle', 'isupper', 'join', 'ljust', 'lower', 'lstrip', 'maketrans', 'partition', 'removeprefix', 'removesuffix', 'replace', 'rfind', 'rindex', 'rjust', 'rpartition', 'rsplit', 'rstrip', 'split', 'splitlines', 'startswith', 'strip', 'swapcase', 'title', 'translate', 'upper', 'zfill']\n"
     ]
    }
   ],
   "source": [
    "print([i for i in dir(str) if not i.startswith('__')])"
   ]
  },
  {
   "cell_type": "code",
   "execution_count": null,
   "id": "13abb8c9-1cda-4eae-9ddf-88d1cbcb9265",
   "metadata": {},
   "outputs": [],
   "source": []
  },
  {
   "cell_type": "code",
   "execution_count": 16,
   "id": "77080c6b-feba-4823-9cec-156856f6960b",
   "metadata": {},
   "outputs": [],
   "source": [
    "s = 'PyThOn'"
   ]
  },
  {
   "cell_type": "code",
   "execution_count": 17,
   "id": "af4a8315-856a-4752-b9d6-bc2368615cc4",
   "metadata": {},
   "outputs": [
    {
     "data": {
      "text/plain": [
       "'PyThOn'"
      ]
     },
     "execution_count": 17,
     "metadata": {},
     "output_type": "execute_result"
    }
   ],
   "source": [
    "s"
   ]
  },
  {
   "cell_type": "code",
   "execution_count": 18,
   "id": "035f2719-769b-4705-a95c-69d32fb938bb",
   "metadata": {},
   "outputs": [
    {
     "data": {
      "text/plain": [
       "'pYtHoN'"
      ]
     },
     "execution_count": 18,
     "metadata": {},
     "output_type": "execute_result"
    }
   ],
   "source": [
    "s.swapcase()"
   ]
  },
  {
   "cell_type": "code",
   "execution_count": null,
   "id": "3ca7ca83-86a0-4b1b-8aba-a9574589b7c6",
   "metadata": {},
   "outputs": [],
   "source": []
  },
  {
   "cell_type": "markdown",
   "id": "15a85982-985d-4434-83d7-7cb259e3e7aa",
   "metadata": {},
   "source": [
    "##### Index\n",
    "\n",
    "                there are 2 types of indexes:\n",
    "                    1. +ve     0 to len(obj) - 1   (L -> R)\n",
    "                    2. - ve    -1 to len(obj)      (R -> L) "
   ]
  },
  {
   "cell_type": "code",
   "execution_count": null,
   "id": "9f36b05b-0def-48a4-a9f8-3cf667a8784f",
   "metadata": {},
   "outputs": [],
   "source": []
  },
  {
   "cell_type": "code",
   "execution_count": 21,
   "id": "0aeeb262-c0d1-4e89-bda9-d5b1c541c4af",
   "metadata": {},
   "outputs": [],
   "source": [
    "s = 'hello world'"
   ]
  },
  {
   "cell_type": "code",
   "execution_count": 22,
   "id": "4289d2ba-c3a5-4ceb-b7a8-209bf6a61d5a",
   "metadata": {},
   "outputs": [
    {
     "data": {
      "text/plain": [
       "11"
      ]
     },
     "execution_count": 22,
     "metadata": {},
     "output_type": "execute_result"
    }
   ],
   "source": [
    "len(s)"
   ]
  },
  {
   "cell_type": "markdown",
   "id": "c590ca38-bbd5-4320-b551-aa034a327b82",
   "metadata": {},
   "source": [
    "    object[index]"
   ]
  },
  {
   "cell_type": "code",
   "execution_count": 23,
   "id": "b467e8e7-07d6-4764-b83f-98ba8200c52b",
   "metadata": {},
   "outputs": [
    {
     "data": {
      "text/plain": [
       "'h'"
      ]
     },
     "execution_count": 23,
     "metadata": {},
     "output_type": "execute_result"
    }
   ],
   "source": [
    "s[0]"
   ]
  },
  {
   "cell_type": "code",
   "execution_count": 24,
   "id": "c99e8a0b-11c8-4873-8e44-b1dfbf4d825e",
   "metadata": {},
   "outputs": [
    {
     "data": {
      "text/plain": [
       "'l'"
      ]
     },
     "execution_count": 24,
     "metadata": {},
     "output_type": "execute_result"
    }
   ],
   "source": [
    "s[3]"
   ]
  },
  {
   "cell_type": "code",
   "execution_count": 25,
   "id": "8ef8d954-f08f-4b8b-ab5b-7a547957ecf7",
   "metadata": {},
   "outputs": [
    {
     "data": {
      "text/plain": [
       "' '"
      ]
     },
     "execution_count": 25,
     "metadata": {},
     "output_type": "execute_result"
    }
   ],
   "source": [
    "s[5]"
   ]
  },
  {
   "cell_type": "code",
   "execution_count": 26,
   "id": "b5dffc51-e2c5-4a44-8985-3a4c452c2e7e",
   "metadata": {},
   "outputs": [
    {
     "data": {
      "text/plain": [
       "'hello world'"
      ]
     },
     "execution_count": 26,
     "metadata": {},
     "output_type": "execute_result"
    }
   ],
   "source": [
    "s"
   ]
  },
  {
   "cell_type": "code",
   "execution_count": 27,
   "id": "ef49e7cd-6a11-4ca8-9dac-ea98e9f57e43",
   "metadata": {},
   "outputs": [
    {
     "data": {
      "text/plain": [
       "'d'"
      ]
     },
     "execution_count": 27,
     "metadata": {},
     "output_type": "execute_result"
    }
   ],
   "source": [
    "s[-1]"
   ]
  },
  {
   "cell_type": "code",
   "execution_count": 28,
   "id": "1b77320a-31bd-4887-879d-046fb2a718a3",
   "metadata": {},
   "outputs": [
    {
     "data": {
      "text/plain": [
       "'w'"
      ]
     },
     "execution_count": 28,
     "metadata": {},
     "output_type": "execute_result"
    }
   ],
   "source": [
    "s[-5]"
   ]
  },
  {
   "cell_type": "code",
   "execution_count": null,
   "id": "17c3be42-80c9-49e3-a9fc-b26c74dc40e8",
   "metadata": {},
   "outputs": [],
   "source": []
  },
  {
   "cell_type": "code",
   "execution_count": 29,
   "id": "da577026-24aa-486b-be05-9cf5fe116ddb",
   "metadata": {},
   "outputs": [
    {
     "data": {
      "text/plain": [
       "'PYTHON IS AWESOME'"
      ]
     },
     "execution_count": 29,
     "metadata": {},
     "output_type": "execute_result"
    }
   ],
   "source": [
    "s1"
   ]
  },
  {
   "cell_type": "code",
   "execution_count": 30,
   "id": "ea3d4cd0-2b57-4edd-aa0c-46bacbb66f4d",
   "metadata": {},
   "outputs": [
    {
     "data": {
      "text/plain": [
       "'hello world'"
      ]
     },
     "execution_count": 30,
     "metadata": {},
     "output_type": "execute_result"
    }
   ],
   "source": [
    "s"
   ]
  },
  {
   "cell_type": "code",
   "execution_count": 31,
   "id": "5def35b0-9b16-4e5f-afea-6e73aa49ec8e",
   "metadata": {},
   "outputs": [
    {
     "data": {
      "text/plain": [
       "'hello world'"
      ]
     },
     "execution_count": 31,
     "metadata": {},
     "output_type": "execute_result"
    }
   ],
   "source": [
    "s"
   ]
  },
  {
   "cell_type": "code",
   "execution_count": 32,
   "id": "52ba631b-81f0-41f0-a2a6-3614ffa14ba2",
   "metadata": {},
   "outputs": [
    {
     "data": {
      "text/plain": [
       "'Hello world'"
      ]
     },
     "execution_count": 32,
     "metadata": {},
     "output_type": "execute_result"
    }
   ],
   "source": [
    "s.capitalize()"
   ]
  },
  {
   "cell_type": "code",
   "execution_count": 33,
   "id": "66065b1b-6cb7-4af6-b63f-326f6ced7751",
   "metadata": {},
   "outputs": [
    {
     "data": {
      "text/plain": [
       "'hello world'"
      ]
     },
     "execution_count": 33,
     "metadata": {},
     "output_type": "execute_result"
    }
   ],
   "source": [
    "s"
   ]
  },
  {
   "cell_type": "code",
   "execution_count": 34,
   "id": "492b6173-6e7c-4a4d-bc71-94e24d200cd6",
   "metadata": {},
   "outputs": [
    {
     "data": {
      "text/plain": [
       "'Hello World'"
      ]
     },
     "execution_count": 34,
     "metadata": {},
     "output_type": "execute_result"
    }
   ],
   "source": [
    "s.title()"
   ]
  },
  {
   "cell_type": "code",
   "execution_count": null,
   "id": "965dbc80-f7b2-44fd-a2fe-a35c966f5b45",
   "metadata": {},
   "outputs": [],
   "source": []
  },
  {
   "cell_type": "code",
   "execution_count": 37,
   "id": "b0052408-12f6-42f9-a104-7068e495e10d",
   "metadata": {},
   "outputs": [
    {
     "data": {
      "text/plain": [
       "'hello world'"
      ]
     },
     "execution_count": 37,
     "metadata": {},
     "output_type": "execute_result"
    }
   ],
   "source": [
    "s"
   ]
  },
  {
   "cell_type": "code",
   "execution_count": 38,
   "id": "4dcfaa05-595b-414d-83d9-97bead0dd587",
   "metadata": {},
   "outputs": [
    {
     "data": {
      "text/plain": [
       "0"
      ]
     },
     "execution_count": 38,
     "metadata": {},
     "output_type": "execute_result"
    }
   ],
   "source": [
    "s.index('h')"
   ]
  },
  {
   "cell_type": "code",
   "execution_count": 39,
   "id": "5baf9800-b5c3-482b-9191-bca3fc1e4214",
   "metadata": {},
   "outputs": [
    {
     "data": {
      "text/plain": [
       "4"
      ]
     },
     "execution_count": 39,
     "metadata": {},
     "output_type": "execute_result"
    }
   ],
   "source": [
    "s.index('o')"
   ]
  },
  {
   "cell_type": "code",
   "execution_count": 40,
   "id": "efed9b7b-eacb-4250-9136-010eb3a12bc9",
   "metadata": {},
   "outputs": [
    {
     "data": {
      "text/plain": [
       "7"
      ]
     },
     "execution_count": 40,
     "metadata": {},
     "output_type": "execute_result"
    }
   ],
   "source": [
    "s.rindex('o')"
   ]
  },
  {
   "cell_type": "code",
   "execution_count": 41,
   "id": "30bac5b2-2bb1-49d6-b4e8-250254fc638c",
   "metadata": {},
   "outputs": [
    {
     "data": {
      "text/plain": [
       "47"
      ]
     },
     "execution_count": 41,
     "metadata": {},
     "output_type": "execute_result"
    }
   ],
   "source": [
    "len(['capitalize', 'casefold', 'center', 'count', 'encode', 'endswith', 'expandtabs', 'find', 'format', 'format_map', 'index', 'isalnum', 'isalpha', 'isascii', 'isdecimal', 'isdigit', 'isidentifier', 'islower', 'isnumeric', 'isprintable', 'isspace', 'istitle', 'isupper', 'join', 'ljust', 'lower', 'lstrip', 'maketrans', 'partition', 'removeprefix', 'removesuffix', 'replace', 'rfind', 'rindex', 'rjust', 'rpartition', 'rsplit', 'rstrip', 'split', 'splitlines', 'startswith', 'strip', 'swapcase', 'title', 'translate', 'upper', 'zfill'])\n"
   ]
  },
  {
   "cell_type": "code",
   "execution_count": null,
   "id": "4c76ad7a-c943-4106-b6fa-d7d716681e31",
   "metadata": {},
   "outputs": [],
   "source": []
  },
  {
   "cell_type": "code",
   "execution_count": 42,
   "id": "42242201-873b-40fb-8c88-15844f2b6315",
   "metadata": {},
   "outputs": [
    {
     "data": {
      "text/plain": [
       "'PYTHON IS AWESOME'"
      ]
     },
     "execution_count": 42,
     "metadata": {},
     "output_type": "execute_result"
    }
   ],
   "source": [
    "s1"
   ]
  },
  {
   "cell_type": "code",
   "execution_count": 46,
   "id": "791664d7-172e-4099-a263-1cb9bf29b295",
   "metadata": {},
   "outputs": [
    {
     "data": {
      "text/plain": [
       "True"
      ]
     },
     "execution_count": 46,
     "metadata": {},
     "output_type": "execute_result"
    }
   ],
   "source": [
    "s1.startswith('PY')"
   ]
  },
  {
   "cell_type": "code",
   "execution_count": 47,
   "id": "604312a4-af3a-41bf-afcb-a29716fc0fdb",
   "metadata": {},
   "outputs": [
    {
     "data": {
      "text/plain": [
       "True"
      ]
     },
     "execution_count": 47,
     "metadata": {},
     "output_type": "execute_result"
    }
   ],
   "source": [
    "s1.endswith('ME')"
   ]
  },
  {
   "cell_type": "code",
   "execution_count": 48,
   "id": "41de0393-3328-493d-a160-2ea3d3b2e662",
   "metadata": {},
   "outputs": [
    {
     "ename": "NameError",
     "evalue": "name 'PY' is not defined",
     "output_type": "error",
     "traceback": [
      "\u001b[1;31m---------------------------------------------------------------------------\u001b[0m",
      "\u001b[1;31mNameError\u001b[0m                                 Traceback (most recent call last)",
      "Cell \u001b[1;32mIn[48], line 1\u001b[0m\n\u001b[1;32m----> 1\u001b[0m s1\u001b[38;5;241m.\u001b[39mstartswith(PY)\n",
      "\u001b[1;31mNameError\u001b[0m: name 'PY' is not defined"
     ]
    }
   ],
   "source": [
    "s1.startswith(PY)"
   ]
  },
  {
   "cell_type": "code",
   "execution_count": null,
   "id": "b2acc74a-27b8-4596-8aa4-0b365817122e",
   "metadata": {},
   "outputs": [],
   "source": []
  },
  {
   "cell_type": "code",
   "execution_count": 49,
   "id": "f50d505f-7108-49bc-af39-fcb98f879338",
   "metadata": {},
   "outputs": [
    {
     "data": {
      "text/plain": [
       "'PYTHON IS AWESOME'"
      ]
     },
     "execution_count": 49,
     "metadata": {},
     "output_type": "execute_result"
    }
   ],
   "source": [
    "s1"
   ]
  },
  {
   "cell_type": "code",
   "execution_count": 50,
   "id": "265b979a-d8e9-4615-b425-de1dc23490c3",
   "metadata": {},
   "outputs": [],
   "source": [
    "a = 'PY'"
   ]
  },
  {
   "cell_type": "code",
   "execution_count": 51,
   "id": "232c1c65-dfde-4b1d-9f2a-dc1e079cf2f0",
   "metadata": {},
   "outputs": [
    {
     "data": {
      "text/plain": [
       "True"
      ]
     },
     "execution_count": 51,
     "metadata": {},
     "output_type": "execute_result"
    }
   ],
   "source": [
    "s1.startswith(a)"
   ]
  },
  {
   "cell_type": "code",
   "execution_count": null,
   "id": "c6df1740-e8d4-411f-823b-12c53590ad72",
   "metadata": {},
   "outputs": [],
   "source": []
  },
  {
   "cell_type": "code",
   "execution_count": 54,
   "id": "507f80f8-0412-4c7c-9580-1e76496e63c8",
   "metadata": {},
   "outputs": [],
   "source": [
    "s = 'hello everyone we are learning python'"
   ]
  },
  {
   "cell_type": "code",
   "execution_count": 55,
   "id": "0eb0570b-4a55-4b40-9d2d-343f974808ca",
   "metadata": {},
   "outputs": [
    {
     "data": {
      "text/plain": [
       "'hello everyone we are learning python'"
      ]
     },
     "execution_count": 55,
     "metadata": {},
     "output_type": "execute_result"
    }
   ],
   "source": [
    "s"
   ]
  },
  {
   "cell_type": "code",
   "execution_count": 59,
   "id": "61f89a52-4ba7-4601-9675-9ba65b89b631",
   "metadata": {},
   "outputs": [
    {
     "data": {
      "text/plain": [
       "['hello', 'everyone', 'we', 'are', 'learning', 'python']"
      ]
     },
     "execution_count": 59,
     "metadata": {},
     "output_type": "execute_result"
    }
   ],
   "source": [
    "s.split()"
   ]
  },
  {
   "cell_type": "code",
   "execution_count": 60,
   "id": "7a4818ca-504a-4f06-a0a7-388ad4e1bc34",
   "metadata": {},
   "outputs": [
    {
     "data": {
      "text/plain": [
       "'hello everyone we are learning python'"
      ]
     },
     "execution_count": 60,
     "metadata": {},
     "output_type": "execute_result"
    }
   ],
   "source": [
    "s"
   ]
  },
  {
   "cell_type": "code",
   "execution_count": 61,
   "id": "39ad0764-9bcf-4fef-a02a-55dab55c9300",
   "metadata": {},
   "outputs": [],
   "source": [
    "s1 = 'pythonisawesome'"
   ]
  },
  {
   "cell_type": "code",
   "execution_count": 62,
   "id": "7a05e35b-5962-4756-9e46-c168ec3b4f18",
   "metadata": {},
   "outputs": [
    {
     "data": {
      "text/plain": [
       "['pythonisawesome']"
      ]
     },
     "execution_count": 62,
     "metadata": {},
     "output_type": "execute_result"
    }
   ],
   "source": [
    "s1.split()"
   ]
  },
  {
   "cell_type": "code",
   "execution_count": null,
   "id": "1b6d25c7-986d-4afb-878f-739bdfa4e573",
   "metadata": {},
   "outputs": [],
   "source": []
  },
  {
   "cell_type": "code",
   "execution_count": 63,
   "id": "db1625ac-2472-4995-826f-716147261011",
   "metadata": {},
   "outputs": [],
   "source": [
    "s2 = 'python:is:awesome'"
   ]
  },
  {
   "cell_type": "code",
   "execution_count": 64,
   "id": "92e7e928-cf13-4c02-a1c8-bd35e40bc9d4",
   "metadata": {},
   "outputs": [
    {
     "data": {
      "text/plain": [
       "'python:is:awesome'"
      ]
     },
     "execution_count": 64,
     "metadata": {},
     "output_type": "execute_result"
    }
   ],
   "source": [
    "s2"
   ]
  },
  {
   "cell_type": "code",
   "execution_count": 66,
   "id": "a86930e8-8ee0-4f54-8b42-671003dee75d",
   "metadata": {},
   "outputs": [
    {
     "data": {
      "text/plain": [
       "['python', 'is', 'awesome']"
      ]
     },
     "execution_count": 66,
     "metadata": {},
     "output_type": "execute_result"
    }
   ],
   "source": [
    "s2.split(':')"
   ]
  },
  {
   "cell_type": "code",
   "execution_count": 67,
   "id": "c12b59b0-85cc-45ad-a3cb-609c43a2fcd8",
   "metadata": {},
   "outputs": [
    {
     "data": {
      "text/plain": [
       "'hello everyone we are learning python'"
      ]
     },
     "execution_count": 67,
     "metadata": {},
     "output_type": "execute_result"
    }
   ],
   "source": [
    "s"
   ]
  },
  {
   "cell_type": "code",
   "execution_count": 68,
   "id": "f625982a-ddaf-4583-b705-600496344348",
   "metadata": {},
   "outputs": [
    {
     "data": {
      "text/plain": [
       "['hello everyone we are learning python']"
      ]
     },
     "execution_count": 68,
     "metadata": {},
     "output_type": "execute_result"
    }
   ],
   "source": [
    "s.split('\\\\s')"
   ]
  },
  {
   "cell_type": "code",
   "execution_count": 69,
   "id": "54877123-c85f-402b-bce7-f0b3b015a53e",
   "metadata": {},
   "outputs": [
    {
     "data": {
      "text/plain": [
       "'hello everyone we are learning python'"
      ]
     },
     "execution_count": 69,
     "metadata": {},
     "output_type": "execute_result"
    }
   ],
   "source": [
    "s"
   ]
  },
  {
   "cell_type": "code",
   "execution_count": 70,
   "id": "df8edd93-1948-4d87-9abf-11c5a54c829c",
   "metadata": {},
   "outputs": [
    {
     "data": {
      "text/plain": [
       "['hell', ' every', 'ne we are learning pyth', 'n']"
      ]
     },
     "execution_count": 70,
     "metadata": {},
     "output_type": "execute_result"
    }
   ],
   "source": [
    "s.split('o')"
   ]
  },
  {
   "cell_type": "code",
   "execution_count": null,
   "id": "782684df-1f99-4f40-888c-3b120899e490",
   "metadata": {},
   "outputs": [],
   "source": []
  },
  {
   "cell_type": "markdown",
   "id": "3fb40c45-5b4d-4e7f-9f79-2c59b331111f",
   "metadata": {},
   "source": [
    "    islower()\n",
    "    isupper()\n",
    "    isdigit()\n",
    "    isalnum()\n",
    "    isalpha()\n",
    "    etc"
   ]
  },
  {
   "cell_type": "code",
   "execution_count": null,
   "id": "193e82dd-d0c8-4a63-afd7-45e8b98ca692",
   "metadata": {},
   "outputs": [],
   "source": []
  },
  {
   "cell_type": "code",
   "execution_count": 71,
   "id": "232d9e02-0f5b-495d-ba0c-aa4754112054",
   "metadata": {},
   "outputs": [],
   "source": [
    "s1 = \"hello\""
   ]
  },
  {
   "cell_type": "code",
   "execution_count": 72,
   "id": "1473cda8-6100-4c51-bd3d-b9be7f87b0d3",
   "metadata": {},
   "outputs": [
    {
     "data": {
      "text/plain": [
       "True"
      ]
     },
     "execution_count": 72,
     "metadata": {},
     "output_type": "execute_result"
    }
   ],
   "source": [
    "s1.islower()"
   ]
  },
  {
   "cell_type": "code",
   "execution_count": 73,
   "id": "d76a894b-a555-445b-9a7e-7bf7e1730ee8",
   "metadata": {},
   "outputs": [
    {
     "data": {
      "text/plain": [
       "False"
      ]
     },
     "execution_count": 73,
     "metadata": {},
     "output_type": "execute_result"
    }
   ],
   "source": [
    "s1.isupper()"
   ]
  },
  {
   "cell_type": "code",
   "execution_count": 74,
   "id": "a043f0b6-07fb-422f-a086-ac2eb15a6d7c",
   "metadata": {},
   "outputs": [
    {
     "data": {
      "text/plain": [
       "False"
      ]
     },
     "execution_count": 74,
     "metadata": {},
     "output_type": "execute_result"
    }
   ],
   "source": [
    "s1.isdigit()"
   ]
  },
  {
   "cell_type": "code",
   "execution_count": 75,
   "id": "7b149042-b332-44fe-91c6-e35865611c5c",
   "metadata": {},
   "outputs": [
    {
     "data": {
      "text/plain": [
       "'hello'"
      ]
     },
     "execution_count": 75,
     "metadata": {},
     "output_type": "execute_result"
    }
   ],
   "source": [
    "s1"
   ]
  },
  {
   "cell_type": "code",
   "execution_count": 76,
   "id": "4fb5e7bc-ca5f-48b8-95f2-697bd70c6bce",
   "metadata": {},
   "outputs": [
    {
     "data": {
      "text/plain": [
       "True"
      ]
     },
     "execution_count": 76,
     "metadata": {},
     "output_type": "execute_result"
    }
   ],
   "source": [
    "s1.isalpha()"
   ]
  },
  {
   "cell_type": "code",
   "execution_count": 77,
   "id": "18aa4068-b4d2-4261-8ebb-5e49b2254421",
   "metadata": {},
   "outputs": [],
   "source": [
    "s2 = \"hello hii 12345\""
   ]
  },
  {
   "cell_type": "code",
   "execution_count": 78,
   "id": "3fb0affa-33b6-423e-a916-c06f0d862458",
   "metadata": {},
   "outputs": [
    {
     "data": {
      "text/plain": [
       "False"
      ]
     },
     "execution_count": 78,
     "metadata": {},
     "output_type": "execute_result"
    }
   ],
   "source": [
    "s2.isdigit()"
   ]
  },
  {
   "cell_type": "code",
   "execution_count": 79,
   "id": "4dc14c5b-3de7-4cc5-8f8b-bbc9a4761fb6",
   "metadata": {},
   "outputs": [
    {
     "data": {
      "text/plain": [
       "True"
      ]
     },
     "execution_count": 79,
     "metadata": {},
     "output_type": "execute_result"
    }
   ],
   "source": [
    "\"2344567\".isdigit()"
   ]
  },
  {
   "cell_type": "code",
   "execution_count": 80,
   "id": "f18f47a2-e325-4d2d-8557-eaed603a1def",
   "metadata": {},
   "outputs": [
    {
     "data": {
      "text/plain": [
       "False"
      ]
     },
     "execution_count": 80,
     "metadata": {},
     "output_type": "execute_result"
    }
   ],
   "source": [
    "\"2344 567\".isdigit()"
   ]
  },
  {
   "cell_type": "code",
   "execution_count": null,
   "id": "cc4c001d-73cc-44db-8277-42f4248c10de",
   "metadata": {},
   "outputs": [],
   "source": []
  },
  {
   "cell_type": "code",
   "execution_count": 81,
   "id": "657d765f-159c-44d7-9c06-cffa350f7f03",
   "metadata": {},
   "outputs": [
    {
     "data": {
      "text/plain": [
       "'hello hii 12345'"
      ]
     },
     "execution_count": 81,
     "metadata": {},
     "output_type": "execute_result"
    }
   ],
   "source": [
    "s2"
   ]
  },
  {
   "cell_type": "code",
   "execution_count": 82,
   "id": "ad883fb9-1596-406a-a5ef-dcea744b7851",
   "metadata": {},
   "outputs": [
    {
     "data": {
      "text/plain": [
       "False"
      ]
     },
     "execution_count": 82,
     "metadata": {},
     "output_type": "execute_result"
    }
   ],
   "source": [
    "s2.isalnum()"
   ]
  },
  {
   "cell_type": "code",
   "execution_count": 84,
   "id": "9c0b3539-70af-4c93-9edd-546283657356",
   "metadata": {},
   "outputs": [
    {
     "data": {
      "text/plain": [
       "True"
      ]
     },
     "execution_count": 84,
     "metadata": {},
     "output_type": "execute_result"
    }
   ],
   "source": [
    "\"python12345\".isalnum()"
   ]
  },
  {
   "cell_type": "code",
   "execution_count": null,
   "id": "fa01b37d-c9b7-44db-b476-1747748edc17",
   "metadata": {},
   "outputs": [],
   "source": []
  },
  {
   "cell_type": "markdown",
   "id": "d9855681-b94e-4e70-8c27-0c893dba267b",
   "metadata": {},
   "source": [
    "    isdigit()\n",
    "    isnumeric()"
   ]
  },
  {
   "cell_type": "code",
   "execution_count": 85,
   "id": "401a1b38-88da-49d9-b1fb-0e359f035b06",
   "metadata": {},
   "outputs": [
    {
     "data": {
      "text/plain": [
       "'hello'"
      ]
     },
     "execution_count": 85,
     "metadata": {},
     "output_type": "execute_result"
    }
   ],
   "source": [
    "s1"
   ]
  },
  {
   "cell_type": "code",
   "execution_count": 86,
   "id": "37a341c3-6ec8-4bce-8154-ff7f27c42f0b",
   "metadata": {},
   "outputs": [
    {
     "data": {
      "text/plain": [
       "'hello hii 12345'"
      ]
     },
     "execution_count": 86,
     "metadata": {},
     "output_type": "execute_result"
    }
   ],
   "source": [
    "s2"
   ]
  },
  {
   "cell_type": "code",
   "execution_count": 87,
   "id": "aaefc7ed-f79b-4d71-aa82-c4ece1365302",
   "metadata": {},
   "outputs": [],
   "source": [
    "s3 = \"232345\""
   ]
  },
  {
   "cell_type": "code",
   "execution_count": 88,
   "id": "1753efd9-ba00-4edb-bebf-e5fb08b6b6fa",
   "metadata": {},
   "outputs": [
    {
     "data": {
      "text/plain": [
       "True"
      ]
     },
     "execution_count": 88,
     "metadata": {},
     "output_type": "execute_result"
    }
   ],
   "source": [
    "s3.isdigit()"
   ]
  },
  {
   "cell_type": "code",
   "execution_count": 89,
   "id": "89667d3e-3ab4-489a-8e2d-90feb3714050",
   "metadata": {},
   "outputs": [
    {
     "data": {
      "text/plain": [
       "True"
      ]
     },
     "execution_count": 89,
     "metadata": {},
     "output_type": "execute_result"
    }
   ],
   "source": [
    "s3.isnumeric()"
   ]
  },
  {
   "cell_type": "code",
   "execution_count": null,
   "id": "58248ebc-8c19-41e9-86b7-11c949281568",
   "metadata": {},
   "outputs": [],
   "source": []
  },
  {
   "cell_type": "code",
   "execution_count": null,
   "id": "1908fb9d-9288-4998-9ed8-fd733c89efe9",
   "metadata": {},
   "outputs": [],
   "source": []
  },
  {
   "cell_type": "code",
   "execution_count": 90,
   "id": "8b5e7980-7fb7-404a-8e71-e27024949f8a",
   "metadata": {},
   "outputs": [],
   "source": [
    "name = 'rohan'"
   ]
  },
  {
   "cell_type": "code",
   "execution_count": null,
   "id": "d72439e0-2917-46df-a6ec-69db071c6781",
   "metadata": {},
   "outputs": [],
   "source": []
  },
  {
   "cell_type": "code",
   "execution_count": 91,
   "id": "b52b2c6a-8773-4773-b0ba-37d7ac9677ee",
   "metadata": {},
   "outputs": [
    {
     "name": "stdin",
     "output_type": "stream",
     "text": [
      " sachin\n"
     ]
    },
    {
     "data": {
      "text/plain": [
       "'sachin'"
      ]
     },
     "execution_count": 91,
     "metadata": {},
     "output_type": "execute_result"
    }
   ],
   "source": [
    "input()"
   ]
  },
  {
   "cell_type": "code",
   "execution_count": 92,
   "id": "753979ab-f955-4633-8020-58df30c2171d",
   "metadata": {},
   "outputs": [
    {
     "name": "stdin",
     "output_type": "stream",
     "text": [
      " sachin\n"
     ]
    }
   ],
   "source": [
    "name = input()"
   ]
  },
  {
   "cell_type": "code",
   "execution_count": 94,
   "id": "1c346fa0-c647-4f7f-af64-bff7976290a8",
   "metadata": {},
   "outputs": [
    {
     "data": {
      "text/plain": [
       "'sachin'"
      ]
     },
     "execution_count": 94,
     "metadata": {},
     "output_type": "execute_result"
    }
   ],
   "source": [
    "name"
   ]
  },
  {
   "cell_type": "code",
   "execution_count": null,
   "id": "a14b0ceb-6c7b-4499-a105-3996dcdb9162",
   "metadata": {},
   "outputs": [],
   "source": []
  },
  {
   "cell_type": "code",
   "execution_count": 96,
   "id": "f9ddeccf-3e0d-435b-a71a-ff0a6af6cfc7",
   "metadata": {},
   "outputs": [
    {
     "name": "stdin",
     "output_type": "stream",
     "text": [
      "Enter your name:  deep\n"
     ]
    }
   ],
   "source": [
    "name = input(\"Enter your name: \")"
   ]
  },
  {
   "cell_type": "code",
   "execution_count": 97,
   "id": "4b7c723b-a83a-4ace-ac10-403946d7b74b",
   "metadata": {},
   "outputs": [
    {
     "name": "stdin",
     "output_type": "stream",
     "text": [
      "Enter your age:  25\n"
     ]
    }
   ],
   "source": [
    "age = input('Enter your age: ')"
   ]
  },
  {
   "cell_type": "code",
   "execution_count": 99,
   "id": "fac9b635-c1a7-435b-b325-4ae3ebe8be9f",
   "metadata": {},
   "outputs": [
    {
     "data": {
      "text/plain": [
       "'25'"
      ]
     },
     "execution_count": 99,
     "metadata": {},
     "output_type": "execute_result"
    }
   ],
   "source": [
    "age"
   ]
  },
  {
   "cell_type": "code",
   "execution_count": 100,
   "id": "4ddb567b-2621-49f5-9d35-06d6c1513e9a",
   "metadata": {},
   "outputs": [
    {
     "ename": "TypeError",
     "evalue": "can only concatenate str (not \"int\") to str",
     "output_type": "error",
     "traceback": [
      "\u001b[1;31m---------------------------------------------------------------------------\u001b[0m",
      "\u001b[1;31mTypeError\u001b[0m                                 Traceback (most recent call last)",
      "Cell \u001b[1;32mIn[100], line 1\u001b[0m\n\u001b[1;32m----> 1\u001b[0m age \u001b[38;5;241m+\u001b[39m \u001b[38;5;241m5\u001b[39m\n",
      "\u001b[1;31mTypeError\u001b[0m: can only concatenate str (not \"int\") to str"
     ]
    }
   ],
   "source": [
    "age + 5"
   ]
  },
  {
   "cell_type": "code",
   "execution_count": null,
   "id": "bf98cb74-0acd-49ec-be7d-7e11eda27f56",
   "metadata": {},
   "outputs": [],
   "source": []
  },
  {
   "cell_type": "code",
   "execution_count": 101,
   "id": "a45a06e7-4d66-4a16-aecd-7f6703080b1a",
   "metadata": {},
   "outputs": [
    {
     "data": {
      "text/plain": [
       "'25'"
      ]
     },
     "execution_count": 101,
     "metadata": {},
     "output_type": "execute_result"
    }
   ],
   "source": [
    "age"
   ]
  },
  {
   "cell_type": "code",
   "execution_count": 103,
   "id": "3d35a050-39fc-4e81-966c-5773701cd19d",
   "metadata": {},
   "outputs": [
    {
     "data": {
      "text/plain": [
       "'255'"
      ]
     },
     "execution_count": 103,
     "metadata": {},
     "output_type": "execute_result"
    }
   ],
   "source": [
    "age + '5'      # concatenate"
   ]
  },
  {
   "cell_type": "code",
   "execution_count": 104,
   "id": "11810c86-3e24-4216-8a79-87701f367085",
   "metadata": {},
   "outputs": [
    {
     "data": {
      "text/plain": [
       "'25'"
      ]
     },
     "execution_count": 104,
     "metadata": {},
     "output_type": "execute_result"
    }
   ],
   "source": [
    "age"
   ]
  },
  {
   "cell_type": "code",
   "execution_count": 105,
   "id": "c061e4a1-a616-4721-9bcf-35e57acaea52",
   "metadata": {},
   "outputs": [
    {
     "name": "stdout",
     "output_type": "stream",
     "text": [
      "<class 'str'>\n"
     ]
    }
   ],
   "source": [
    "print(type(age))"
   ]
  },
  {
   "cell_type": "code",
   "execution_count": 106,
   "id": "4f19db72-b69f-4620-bd57-d55084270228",
   "metadata": {},
   "outputs": [
    {
     "data": {
      "text/plain": [
       "25"
      ]
     },
     "execution_count": 106,
     "metadata": {},
     "output_type": "execute_result"
    }
   ],
   "source": [
    "int(age)"
   ]
  },
  {
   "cell_type": "code",
   "execution_count": null,
   "id": "c331dcf0-3604-4505-b0b9-55fe40a4b230",
   "metadata": {},
   "outputs": [],
   "source": []
  },
  {
   "cell_type": "code",
   "execution_count": null,
   "id": "a937c6e6-3f38-40d1-82a5-dad5a90f40f2",
   "metadata": {},
   "outputs": [],
   "source": []
  },
  {
   "cell_type": "code",
   "execution_count": 107,
   "id": "fd43535b-1a5d-4799-9f87-16e74439852e",
   "metadata": {},
   "outputs": [
    {
     "name": "stdin",
     "output_type": "stream",
     "text": [
      "Enter your name:  sachin\n",
      "Enter your age:  23\n"
     ]
    }
   ],
   "source": [
    "name = input('Enter your name: ')\n",
    "age = int(input('Enter your age: '))"
   ]
  },
  {
   "cell_type": "code",
   "execution_count": null,
   "id": "ed86e720-1219-44ef-a00d-2346fed1d822",
   "metadata": {},
   "outputs": [],
   "source": []
  },
  {
   "cell_type": "code",
   "execution_count": 108,
   "id": "8daad6dd-ff35-4b77-84c5-f6a6fd501cb1",
   "metadata": {},
   "outputs": [
    {
     "data": {
      "text/plain": [
       "23"
      ]
     },
     "execution_count": 108,
     "metadata": {},
     "output_type": "execute_result"
    }
   ],
   "source": [
    "age"
   ]
  },
  {
   "cell_type": "code",
   "execution_count": 109,
   "id": "7cd8e756-0786-4119-b4d0-bfadd8bd592e",
   "metadata": {},
   "outputs": [
    {
     "name": "stdout",
     "output_type": "stream",
     "text": [
      "<class 'int'>\n"
     ]
    }
   ],
   "source": [
    "print(type(age))"
   ]
  },
  {
   "cell_type": "code",
   "execution_count": 110,
   "id": "5fbde806-2288-42e6-bcce-3362db7233bc",
   "metadata": {},
   "outputs": [
    {
     "data": {
      "text/plain": [
       "28"
      ]
     },
     "execution_count": 110,
     "metadata": {},
     "output_type": "execute_result"
    }
   ],
   "source": [
    "age + 5"
   ]
  },
  {
   "cell_type": "code",
   "execution_count": 113,
   "id": "606fb74e-8a32-4dc0-8900-08c13329447b",
   "metadata": {},
   "outputs": [
    {
     "name": "stdin",
     "output_type": "stream",
     "text": [
      "Enter your percentage:  87.6\n"
     ]
    },
    {
     "ename": "ValueError",
     "evalue": "invalid literal for int() with base 10: '87.6'",
     "output_type": "error",
     "traceback": [
      "\u001b[1;31m---------------------------------------------------------------------------\u001b[0m",
      "\u001b[1;31mValueError\u001b[0m                                Traceback (most recent call last)",
      "Cell \u001b[1;32mIn[113], line 1\u001b[0m\n\u001b[1;32m----> 1\u001b[0m percentage \u001b[38;5;241m=\u001b[39m \u001b[38;5;28mint\u001b[39m(\u001b[38;5;28minput\u001b[39m(\u001b[38;5;124m'\u001b[39m\u001b[38;5;124mEnter your percentage: \u001b[39m\u001b[38;5;124m'\u001b[39m))\n",
      "\u001b[1;31mValueError\u001b[0m: invalid literal for int() with base 10: '87.6'"
     ]
    }
   ],
   "source": [
    "percentage = int(input('Enter your percentage: '))\n"
   ]
  },
  {
   "cell_type": "code",
   "execution_count": null,
   "id": "0c0c9cc5-b81e-4419-9cda-37c1359ce678",
   "metadata": {},
   "outputs": [],
   "source": []
  },
  {
   "cell_type": "code",
   "execution_count": 114,
   "id": "3566cbea-f116-4081-a5c7-41185016aa43",
   "metadata": {},
   "outputs": [
    {
     "ename": "ValueError",
     "evalue": "invalid literal for int() with base 10: '87.6'",
     "output_type": "error",
     "traceback": [
      "\u001b[1;31m---------------------------------------------------------------------------\u001b[0m",
      "\u001b[1;31mValueError\u001b[0m                                Traceback (most recent call last)",
      "Cell \u001b[1;32mIn[114], line 1\u001b[0m\n\u001b[1;32m----> 1\u001b[0m \u001b[38;5;28mint\u001b[39m(\u001b[38;5;124m'\u001b[39m\u001b[38;5;124m87.6\u001b[39m\u001b[38;5;124m'\u001b[39m)\n",
      "\u001b[1;31mValueError\u001b[0m: invalid literal for int() with base 10: '87.6'"
     ]
    }
   ],
   "source": [
    "int('87.6')"
   ]
  },
  {
   "cell_type": "code",
   "execution_count": null,
   "id": "2e0f2f14-6013-43cd-b363-a6b2ab9c542a",
   "metadata": {},
   "outputs": [],
   "source": []
  },
  {
   "cell_type": "code",
   "execution_count": 115,
   "id": "09c0736e-11f9-47d5-b99e-7197b66564a5",
   "metadata": {},
   "outputs": [
    {
     "name": "stdin",
     "output_type": "stream",
     "text": [
      "Enter your percentage:  87.5\n"
     ]
    }
   ],
   "source": [
    "percentage = float(input('Enter your percentage: '))\n"
   ]
  },
  {
   "cell_type": "code",
   "execution_count": 116,
   "id": "76869d4e-325a-49b5-8dea-039891da8aa5",
   "metadata": {},
   "outputs": [
    {
     "data": {
      "text/plain": [
       "87.5"
      ]
     },
     "execution_count": 116,
     "metadata": {},
     "output_type": "execute_result"
    }
   ],
   "source": [
    "percentage"
   ]
  },
  {
   "cell_type": "code",
   "execution_count": null,
   "id": "d10d8819-d1dc-42bd-a0c8-88805923698d",
   "metadata": {},
   "outputs": [],
   "source": []
  },
  {
   "cell_type": "code",
   "execution_count": null,
   "id": "af393be8-c829-47fe-be38-d09bb95c5932",
   "metadata": {},
   "outputs": [],
   "source": []
  },
  {
   "cell_type": "markdown",
   "id": "3b0ddbe0-e7eb-42f6-add3-9f6c91b4149f",
   "metadata": {},
   "source": [
    "### String formatting"
   ]
  },
  {
   "cell_type": "code",
   "execution_count": 117,
   "id": "f30d3688-6a0c-48ca-a0ed-0bc19be44d90",
   "metadata": {},
   "outputs": [
    {
     "data": {
      "text/plain": [
       "'hello'"
      ]
     },
     "execution_count": 117,
     "metadata": {},
     "output_type": "execute_result"
    }
   ],
   "source": [
    "s1"
   ]
  },
  {
   "cell_type": "code",
   "execution_count": 118,
   "id": "32523cc1-2ba2-4c31-a9c9-995c84d7edf8",
   "metadata": {},
   "outputs": [
    {
     "data": {
      "text/plain": [
       "'                      hello                       '"
      ]
     },
     "execution_count": 118,
     "metadata": {},
     "output_type": "execute_result"
    }
   ],
   "source": [
    "s1.center(50)"
   ]
  },
  {
   "cell_type": "code",
   "execution_count": 119,
   "id": "f846b620-8ec9-473b-8f5d-d55aaf8baf5e",
   "metadata": {},
   "outputs": [
    {
     "data": {
      "text/plain": [
       "'----------------------hello-----------------------'"
      ]
     },
     "execution_count": 119,
     "metadata": {},
     "output_type": "execute_result"
    }
   ],
   "source": [
    "s1.center(50, '-')\n"
   ]
  },
  {
   "cell_type": "code",
   "execution_count": null,
   "id": "67bbe4b1-82c4-42fb-831d-267bf0ae5570",
   "metadata": {},
   "outputs": [],
   "source": []
  },
  {
   "cell_type": "code",
   "execution_count": 121,
   "id": "cd19c9f5-4632-4e62-9bf9-4091dd3e573e",
   "metadata": {},
   "outputs": [
    {
     "data": {
      "text/plain": [
       "'*****************************************Python Is Awesome******************************************'"
      ]
     },
     "execution_count": 121,
     "metadata": {},
     "output_type": "execute_result"
    }
   ],
   "source": [
    "\"Python Is Awesome\".center(100, '*')"
   ]
  },
  {
   "cell_type": "code",
   "execution_count": null,
   "id": "947172e5-94ce-4af8-a5e3-963e3788b7df",
   "metadata": {},
   "outputs": [],
   "source": []
  },
  {
   "cell_type": "code",
   "execution_count": 122,
   "id": "2d7972dd-c237-4176-b5f9-1d87fe5a04a8",
   "metadata": {},
   "outputs": [
    {
     "data": {
      "text/plain": [
       "'hello'"
      ]
     },
     "execution_count": 122,
     "metadata": {},
     "output_type": "execute_result"
    }
   ],
   "source": [
    "s1"
   ]
  },
  {
   "cell_type": "code",
   "execution_count": 123,
   "id": "1e47081c-b67b-4d9d-bf1a-3dff96a12192",
   "metadata": {},
   "outputs": [
    {
     "data": {
      "text/plain": [
       "'hello*********************************************'"
      ]
     },
     "execution_count": 123,
     "metadata": {},
     "output_type": "execute_result"
    }
   ],
   "source": [
    "s1.ljust(50, '*')"
   ]
  },
  {
   "cell_type": "code",
   "execution_count": 124,
   "id": "8148450d-ef6d-433d-a5d5-6630a6b5348d",
   "metadata": {},
   "outputs": [
    {
     "data": {
      "text/plain": [
       "'*********************************************hello'"
      ]
     },
     "execution_count": 124,
     "metadata": {},
     "output_type": "execute_result"
    }
   ],
   "source": [
    "s1.rjust(50, '*')\n"
   ]
  },
  {
   "cell_type": "code",
   "execution_count": null,
   "id": "6739033c-5ec3-4df9-a310-098b1d032cad",
   "metadata": {},
   "outputs": [],
   "source": []
  },
  {
   "cell_type": "code",
   "execution_count": null,
   "id": "7e4542ec-3425-4dde-a8a3-57b7864db61a",
   "metadata": {},
   "outputs": [],
   "source": [
    "name = input('Enter your name: ')\n",
    "age = int(input('Enter your age: '))"
   ]
  },
  {
   "cell_type": "markdown",
   "id": "f12ab5ea-e411-4588-8132-2e8b336515a9",
   "metadata": {},
   "source": [
    "    Hello {name}. You are {age} years old."
   ]
  },
  {
   "cell_type": "code",
   "execution_count": 125,
   "id": "de012d36-fa38-4f46-b82d-91c2906ff4e9",
   "metadata": {},
   "outputs": [
    {
     "name": "stdin",
     "output_type": "stream",
     "text": [
      "Enter your name:  sachin\n",
      "Enter your age:  34\n"
     ]
    },
    {
     "name": "stdout",
     "output_type": "stream",
     "text": [
      "Hello sachin . You are  34 years old.\n"
     ]
    }
   ],
   "source": [
    "name = input('Enter your name: ')\n",
    "age = int(input('Enter your age: '))\n",
    "print(\"Hello\", name, '. You are ',age, \"years old.\")"
   ]
  },
  {
   "cell_type": "code",
   "execution_count": null,
   "id": "267ea11d-49db-4112-85a7-6ef07387017b",
   "metadata": {},
   "outputs": [],
   "source": []
  },
  {
   "cell_type": "code",
   "execution_count": 126,
   "id": "e803e228-7f4e-4ab5-922e-39ddee37ada4",
   "metadata": {},
   "outputs": [
    {
     "name": "stdin",
     "output_type": "stream",
     "text": [
      "Enter your name:  sachin\n",
      "Enter your age:  34\n"
     ]
    },
    {
     "name": "stdout",
     "output_type": "stream",
     "text": [
      "Hello sachin. You are 34 years old\n"
     ]
    }
   ],
   "source": [
    "name = input('Enter your name: ')\n",
    "age = int(input('Enter your age: '))\n",
    "print(\"Hello {}. You are {} years old\".format(name, age))"
   ]
  },
  {
   "cell_type": "code",
   "execution_count": null,
   "id": "e1eaa85f-468c-4f10-ab3b-4cfd38d1d4d0",
   "metadata": {},
   "outputs": [],
   "source": []
  },
  {
   "cell_type": "code",
   "execution_count": 127,
   "id": "518bee86-1736-49d5-9195-baebf16aed0e",
   "metadata": {},
   "outputs": [
    {
     "name": "stdin",
     "output_type": "stream",
     "text": [
      "Enter your name:  rohan\n",
      "Enter your age:  23\n"
     ]
    },
    {
     "name": "stdout",
     "output_type": "stream",
     "text": [
      "Hello rohan. You are 23 years old\n"
     ]
    }
   ],
   "source": [
    "name = input('Enter your name: ')\n",
    "age = int(input('Enter your age: '))\n",
    "print(f\"Hello {name}. You are {age} years old\")"
   ]
  },
  {
   "cell_type": "code",
   "execution_count": null,
   "id": "a939f197-50a5-48cb-9404-2f4d9a0348fb",
   "metadata": {},
   "outputs": [],
   "source": []
  },
  {
   "cell_type": "code",
   "execution_count": 131,
   "id": "bd88a46f-dd1c-4b64-b5a1-177489e3b1ae",
   "metadata": {},
   "outputs": [
    {
     "data": {
      "text/plain": [
       "7.666666666666667"
      ]
     },
     "execution_count": 131,
     "metadata": {},
     "output_type": "execute_result"
    }
   ],
   "source": [
    "a = 23 / 3\n",
    "a"
   ]
  },
  {
   "cell_type": "code",
   "execution_count": 135,
   "id": "6aecb4fc-d2ff-492d-9738-3dedca9bdd15",
   "metadata": {},
   "outputs": [
    {
     "name": "stdout",
     "output_type": "stream",
     "text": [
      "7.6667\n"
     ]
    }
   ],
   "source": [
    "print(f\"{a:.4f}\")"
   ]
  },
  {
   "cell_type": "code",
   "execution_count": null,
   "id": "84f6a8e5-3f24-4120-ab10-423899866269",
   "metadata": {},
   "outputs": [],
   "source": []
  },
  {
   "cell_type": "code",
   "execution_count": null,
   "id": "53944321-a3ff-45d1-91b2-2639ed3b991f",
   "metadata": {},
   "outputs": [],
   "source": []
  }
 ],
 "metadata": {
  "kernelspec": {
   "display_name": "Python 3 (ipykernel)",
   "language": "python",
   "name": "python3"
  },
  "language_info": {
   "codemirror_mode": {
    "name": "ipython",
    "version": 3
   },
   "file_extension": ".py",
   "mimetype": "text/x-python",
   "name": "python",
   "nbconvert_exporter": "python",
   "pygments_lexer": "ipython3",
   "version": "3.11.3"
  }
 },
 "nbformat": 4,
 "nbformat_minor": 5
}
