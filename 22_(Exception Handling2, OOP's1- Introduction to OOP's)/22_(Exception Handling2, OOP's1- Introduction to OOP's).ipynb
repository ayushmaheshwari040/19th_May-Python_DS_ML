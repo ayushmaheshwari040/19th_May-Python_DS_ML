{
 "cells": [
  {
   "cell_type": "markdown",
   "id": "2814c6cc-77c1-431d-90a9-22601847709b",
   "metadata": {},
   "source": [
    "# **Exception Handling**"
   ]
  },
  {
   "cell_type": "markdown",
   "id": "8c47e378-7b4b-47bf-85db-142d787bfd39",
   "metadata": {},
   "source": [
    "### else block\n",
    "                else block exectues when there is no error in the try block"
   ]
  },
  {
   "cell_type": "code",
   "execution_count": 2,
   "id": "85e49d18-a2d1-4dc1-9445-1fb90aa37974",
   "metadata": {},
   "outputs": [
    {
     "name": "stdin",
     "output_type": "stream",
     "text": [
      "Enter a:  4\n",
      "Enter b:  2\n"
     ]
    },
    {
     "name": "stdout",
     "output_type": "stream",
     "text": [
      "2.0\n",
      "else block executes when there is no error in try block\n",
      "Bye\n"
     ]
    }
   ],
   "source": [
    "try: \n",
    "    a=int(input(\"Enter a: \"))\n",
    "    b=int(input(\"Enter b: \"))\n",
    "    print(a/b)\n",
    "except ZeroDivisionError as e: \n",
    "    print(\"Can not divide a number by zero...\")\n",
    "except ValueError as e: \n",
    "    print(\"Please enter number not characters...\")\n",
    "except Exception as e: \n",
    "    print(e)\n",
    "else: \n",
    "    print(\"else block executes when there is no error in try block\")\n",
    "print(\"Bye\")"
   ]
  },
  {
   "cell_type": "code",
   "execution_count": 3,
   "id": "10078967-6ffe-4bb6-9236-622a462574e5",
   "metadata": {},
   "outputs": [
    {
     "name": "stdin",
     "output_type": "stream",
     "text": [
      "Enter a:  gfg\n"
     ]
    },
    {
     "name": "stdout",
     "output_type": "stream",
     "text": [
      "Please enter number not characters...\n",
      "Bye\n"
     ]
    }
   ],
   "source": [
    "try: \n",
    "    a=int(input(\"Enter a: \"))\n",
    "    b=int(input(\"Enter b: \"))\n",
    "    print(a/b)\n",
    "except ZeroDivisionError as e: \n",
    "    print(\"Can not divide a number by zero...\")\n",
    "except ValueError as e: \n",
    "    print(\"Please enter number not characters...\")\n",
    "except Exception as e: \n",
    "    print(e)\n",
    "else: \n",
    "    print(\"else block executes when there is no error in try block\")\n",
    "print(\"Bye\")"
   ]
  },
  {
   "cell_type": "code",
   "execution_count": null,
   "id": "fa662030-84a3-4c35-b78b-3d4d7b560711",
   "metadata": {},
   "outputs": [],
   "source": []
  },
  {
   "cell_type": "code",
   "execution_count": null,
   "id": "1e215c10-f58a-47f2-9d57-54069e77844f",
   "metadata": {},
   "outputs": [],
   "source": []
  },
  {
   "cell_type": "markdown",
   "id": "1e787576-20f5-45fd-8cf2-a30b5f796755",
   "metadata": {},
   "source": [
    " ### finally block\n",
    "                    finally block always executes if there is any error or not"
   ]
  },
  {
   "cell_type": "code",
   "execution_count": 4,
   "id": "18f2e62c-e4c1-4ff8-ab3a-38302e9c1b3c",
   "metadata": {},
   "outputs": [
    {
     "name": "stdin",
     "output_type": "stream",
     "text": [
      "Enter a:  23\n",
      "Enter b:  0\n"
     ]
    },
    {
     "name": "stdout",
     "output_type": "stream",
     "text": [
      "Can not divide a number by zero...\n",
      "finally block will executes no matters what...\n",
      "Bye\n"
     ]
    }
   ],
   "source": [
    "try: \n",
    "    a=int(input(\"Enter a: \"))\n",
    "    b=int(input(\"Enter b: \"))\n",
    "    print(a/b)\n",
    "except ZeroDivisionError as e: \n",
    "    print(\"Can not divide a number by zero...\")\n",
    "except ValueError as e: \n",
    "    print(\"Please enter number not characters...\")\n",
    "except Exception as e: \n",
    "    print(e)\n",
    "else: \n",
    "    print(\"else block executes when there is no error in try block\")\n",
    "finally: \n",
    "    print(\"finally block will executes no matters what...\")\n",
    "print(\"Bye\")\n"
   ]
  },
  {
   "cell_type": "code",
   "execution_count": 5,
   "id": "75908aa9-5ea9-4230-bb0e-a975f3d651d7",
   "metadata": {},
   "outputs": [
    {
     "name": "stdin",
     "output_type": "stream",
     "text": [
      "Enter a:  24\n",
      "Enter b:  8\n"
     ]
    },
    {
     "name": "stdout",
     "output_type": "stream",
     "text": [
      "3.0\n",
      "else block executes when there is no error in try block\n",
      "finally block will executes no matters what...\n",
      "Bye\n"
     ]
    }
   ],
   "source": [
    "try: \n",
    "    a=int(input(\"Enter a: \"))\n",
    "    b=int(input(\"Enter b: \"))\n",
    "    print(a/b)\n",
    "except ZeroDivisionError as e: \n",
    "    print(\"Can not divide a number by zero...\")\n",
    "except ValueError as e: \n",
    "    print(\"Please enter number not characters...\")\n",
    "except Exception as e: \n",
    "    print(e)\n",
    "else: \n",
    "    print(\"else block executes when there is no error in try block\")\n",
    "finally: \n",
    "    print(\"finally block will executes no matters what...\")\n",
    "print(\"Bye\")\n"
   ]
  },
  {
   "cell_type": "code",
   "execution_count": null,
   "id": "06ddd7a9-acfe-4c90-8957-2ad19986c0f8",
   "metadata": {},
   "outputs": [],
   "source": []
  },
  {
   "cell_type": "code",
   "execution_count": null,
   "id": "19326e51-d0bf-4292-bed3-b582394a7fc1",
   "metadata": {},
   "outputs": [],
   "source": []
  },
  {
   "cell_type": "markdown",
   "id": "22261ba5-ed6b-4575-86e9-700f14178fae",
   "metadata": {},
   "source": [
    "# **OOP's- Introduction**"
   ]
  },
  {
   "cell_type": "markdown",
   "id": "95d53389-0be9-4436-89d7-674f6f06ef35",
   "metadata": {},
   "source": [
    "- loops-> seqential programming\n",
    "- functions-> modular/functional programming\n",
    "- oops-> object oriented programming(for large scale development)"
   ]
  },
  {
   "cell_type": "markdown",
   "id": "e813f2c2-1721-4c72-9e73-7ddcd169fb39",
   "metadata": {},
   "source": [
    "## Terminologies in OOP's\n",
    "1. class\n",
    "2. object\n",
    "3. Inheritance\n",
    "4. Ploymorphism\n",
    "5. Encapsulation\n",
    "6. Abstraction"
   ]
  },
  {
   "cell_type": "code",
   "execution_count": null,
   "id": "4748c660-0a0e-4559-94ef-bace91a9ecb0",
   "metadata": {},
   "outputs": [],
   "source": []
  },
  {
   "cell_type": "markdown",
   "id": "a724751b-2606-41b7-9b5d-79f709bf3714",
   "metadata": {},
   "source": [
    "## 1. class\n",
    "- class is a blueprint or structure or design.\n",
    "- it's a blueprint or template for creating objects.\n",
    "- A class defines the structure and behavior of objects. It specifies what attributes (data) and methods (functions) an object will have. Think of it as a recipe or a blueprint for building something.\n",
    "- Two types of classes:-\n",
    "   - predefined-> list, tuple, dict\n",
    "   - userdefined-> student, person\n",
    "- Class contains attributes(details/properties) and methods(behaviour) of object."
   ]
  },
  {
   "cell_type": "code",
   "execution_count": null,
   "id": "30b75ed9-282f-4014-8934-d31c9e0bd75a",
   "metadata": {},
   "outputs": [],
   "source": []
  },
  {
   "cell_type": "markdown",
   "id": "29c0c3fe-4688-4d83-b616-eb3668d92ac0",
   "metadata": {},
   "source": [
    "## 2. object\n",
    "- An object is an instance of a class, meaning it's a specific realization of that class.\n",
    "- object is a real world entity which contains various attributes and functions.\n",
    "- everything in python is object"
   ]
  },
  {
   "cell_type": "code",
   "execution_count": 7,
   "id": "562074a8-c017-4bee-9187-6dd14e01f327",
   "metadata": {},
   "outputs": [
    {
     "name": "stdout",
     "output_type": "stream",
     "text": [
      "<class 'list'>\n"
     ]
    }
   ],
   "source": [
    "ls=[23,33,5,35,6,7,35,65]\n",
    "print(type(ls))                   # ls is the object of class list"
   ]
  },
  {
   "cell_type": "code",
   "execution_count": 10,
   "id": "3984fc8c-1065-477d-aca1-95b1330c0897",
   "metadata": {},
   "outputs": [
    {
     "name": "stdout",
     "output_type": "stream",
     "text": [
      "<class 'tuple'>\n"
     ]
    }
   ],
   "source": [
    "tp=(23,44,5,6,77)\n",
    "print(type(tp))                  # tp is the object of class tuple so we can say that the datatypes comes from OOP's"
   ]
  },
  {
   "cell_type": "code",
   "execution_count": null,
   "id": "f05d3d16-a97d-4c0d-92ab-be1b9f88e130",
   "metadata": {},
   "outputs": [],
   "source": []
  }
 ],
 "metadata": {
  "kernelspec": {
   "display_name": "Python 3 (ipykernel)",
   "language": "python",
   "name": "python3"
  },
  "language_info": {
   "codemirror_mode": {
    "name": "ipython",
    "version": 3
   },
   "file_extension": ".py",
   "mimetype": "text/x-python",
   "name": "python",
   "nbconvert_exporter": "python",
   "pygments_lexer": "ipython3",
   "version": "3.11.3"
  }
 },
 "nbformat": 4,
 "nbformat_minor": 5
}
