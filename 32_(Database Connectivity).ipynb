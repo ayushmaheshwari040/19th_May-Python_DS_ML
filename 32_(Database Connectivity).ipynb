{
 "cells": [
  {
   "cell_type": "markdown",
   "id": "f9e71740-7fd9-47e0-af53-da8f94a04160",
   "metadata": {},
   "source": [
    "# Database Connectivity"
   ]
  },
  {
   "cell_type": "code",
   "execution_count": 1,
   "id": "ebbc0e8c-b511-4e8b-ac61-ef34506bcc12",
   "metadata": {},
   "outputs": [],
   "source": [
    "import pymysql as sql"
   ]
  },
  {
   "cell_type": "code",
   "execution_count": 2,
   "id": "1e396959-4243-43c9-adae-5777b4879eed",
   "metadata": {},
   "outputs": [],
   "source": [
    "def db_connect(): \n",
    "        conn=sql.connect(user='root', password='', host='localhost', port=3306, database='dsml12pm')\n",
    "        cur=conn.cursor()\n",
    "        return conn, cur"
   ]
  },
  {
   "cell_type": "code",
   "execution_count": 4,
   "id": "2793642e-c0a1-448b-a257-181511735a7c",
   "metadata": {},
   "outputs": [],
   "source": [
    "conn, cur=db_connect()"
   ]
  },
  {
   "cell_type": "code",
   "execution_count": 5,
   "id": "383e9aaf-b67e-402e-ab7c-2abfb0e0cf55",
   "metadata": {},
   "outputs": [
    {
     "data": {
      "text/plain": [
       "<pymysql.connections.Connection at 0x17f5f9a39d0>"
      ]
     },
     "execution_count": 5,
     "metadata": {},
     "output_type": "execute_result"
    }
   ],
   "source": [
    "conn"
   ]
  },
  {
   "cell_type": "code",
   "execution_count": 6,
   "id": "b964b41a-1153-4165-9a86-01e1224e0c06",
   "metadata": {},
   "outputs": [
    {
     "data": {
      "text/plain": [
       "<pymysql.cursors.Cursor at 0x17f5f9a5390>"
      ]
     },
     "execution_count": 6,
     "metadata": {},
     "output_type": "execute_result"
    }
   ],
   "source": [
    "cur"
   ]
  },
  {
   "cell_type": "code",
   "execution_count": null,
   "id": "6debbdb8-459b-446d-8013-70d80f76136d",
   "metadata": {},
   "outputs": [],
   "source": []
  },
  {
   "cell_type": "code",
   "execution_count": 7,
   "id": "95bfd3a7-82b7-46ca-bb54-c4604222b50d",
   "metadata": {},
   "outputs": [
    {
     "data": {
      "text/plain": [
       "1"
      ]
     },
     "execution_count": 7,
     "metadata": {},
     "output_type": "execute_result"
    }
   ],
   "source": [
    "cur.execute(\"insert into student values(110, 'himanshu', 22)\")"
   ]
  },
  {
   "cell_type": "code",
   "execution_count": 9,
   "id": "bbfd28a2-f995-46bf-886d-6fb224b9e0c0",
   "metadata": {},
   "outputs": [],
   "source": [
    "conn.commit()                # commit is necessary to store data in database. In command prompt the data inserted is auto committed."
   ]
  },
  {
   "cell_type": "code",
   "execution_count": null,
   "id": "ae2d36ce-7d43-4172-88bd-0b3dab3223ab",
   "metadata": {},
   "outputs": [],
   "source": []
  },
  {
   "cell_type": "code",
   "execution_count": 10,
   "id": "6bf2b994-f275-478a-9008-8c1bb891028f",
   "metadata": {},
   "outputs": [
    {
     "name": "stdin",
     "output_type": "stream",
     "text": [
      "Enter no. of rows:  2\n",
      "Enter sid:  111\n",
      "Enter name:  dimple\n",
      "Enter age:  21\n",
      "Enter sid:  112\n",
      "Enter name:  rajat\n",
      "Enter age:  29\n"
     ]
    }
   ],
   "source": [
    "for i in range(int(input(\"Enter no. of rows: \"))): \n",
    "    sid=int(input(\"Enter sid: \"))\n",
    "    name=input(\"Enter name: \")\n",
    "    age=int(input(\"Enter age: \"))\n",
    "    cmd=f\"insert into student values({sid},'{name}',{age})\"      # name should be in single cots to match the datatype of mysql as varchar\n",
    "    cur.execute(cmd)\n",
    "    conn.commit()"
   ]
  },
  {
   "cell_type": "code",
   "execution_count": null,
   "id": "f1da712f-429a-431b-b6a0-12bc3743e4aa",
   "metadata": {},
   "outputs": [],
   "source": []
  },
  {
   "cell_type": "code",
   "execution_count": null,
   "id": "68d2322e-2230-418b-bee4-54459c116119",
   "metadata": {},
   "outputs": [],
   "source": []
  }
 ],
 "metadata": {
  "kernelspec": {
   "display_name": "Python 3 (ipykernel)",
   "language": "python",
   "name": "python3"
  },
  "language_info": {
   "codemirror_mode": {
    "name": "ipython",
    "version": 3
   },
   "file_extension": ".py",
   "mimetype": "text/x-python",
   "name": "python",
   "nbconvert_exporter": "python",
   "pygments_lexer": "ipython3",
   "version": "3.11.3"
  }
 },
 "nbformat": 4,
 "nbformat_minor": 5
}
