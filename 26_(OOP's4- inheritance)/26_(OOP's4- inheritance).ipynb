{
 "cells": [
  {
   "cell_type": "markdown",
   "id": "f87d7148-8fc8-4e5c-9699-3452c76b75ae",
   "metadata": {},
   "source": [
    "# **OOP's**"
   ]
  },
  {
   "cell_type": "markdown",
   "id": "65619a8f-5f3c-48c4-b5e1-9def2e4ec078",
   "metadata": {},
   "source": [
    "# **3. Inheritance**"
   ]
  },
  {
   "cell_type": "code",
   "execution_count": 57,
   "id": "fbf17ca9-ebd6-4517-b2a5-82ff50998b2c",
   "metadata": {},
   "outputs": [],
   "source": [
    "class A: \n",
    "    def Method1(self): \n",
    "        print(\"Method1 is working for class A\")\n",
    "\n",
    "    def Method2(self): \n",
    "        print(\"Method2 is working for class A\")\n",
    "\n",
    "class B: \n",
    "    def Method3(self): \n",
    "        print(\"Method3 is working for class B\")\n",
    "\n",
    "    def Method4(self): \n",
    "        print(\"Method4 is working for class B\")    \n",
    "\n",
    "b=B()"
   ]
  },
  {
   "cell_type": "code",
   "execution_count": 58,
   "id": "bdb7fc1d-042d-42eb-981c-cc81803e938e",
   "metadata": {},
   "outputs": [
    {
     "name": "stdout",
     "output_type": "stream",
     "text": [
      "Method3 is working for class B\n"
     ]
    }
   ],
   "source": [
    "b.Method3()"
   ]
  },
  {
   "cell_type": "code",
   "execution_count": 59,
   "id": "9f4fb854-3dec-4c5a-8ced-4c055954220d",
   "metadata": {},
   "outputs": [
    {
     "name": "stdout",
     "output_type": "stream",
     "text": [
      "Method4 is working for class B\n"
     ]
    }
   ],
   "source": [
    "b.Method4()"
   ]
  },
  {
   "cell_type": "code",
   "execution_count": 60,
   "id": "34b4fcf8-4522-40a1-8e26-179f9e9fd79a",
   "metadata": {},
   "outputs": [
    {
     "ename": "AttributeError",
     "evalue": "'B' object has no attribute 'Method2'",
     "output_type": "error",
     "traceback": [
      "\u001b[1;31m---------------------------------------------------------------------------\u001b[0m",
      "\u001b[1;31mAttributeError\u001b[0m                            Traceback (most recent call last)",
      "Cell \u001b[1;32mIn[60], line 1\u001b[0m\n\u001b[1;32m----> 1\u001b[0m \u001b[43mb\u001b[49m\u001b[38;5;241;43m.\u001b[39;49m\u001b[43mMethod2\u001b[49m()\n",
      "\u001b[1;31mAttributeError\u001b[0m: 'B' object has no attribute 'Method2'"
     ]
    }
   ],
   "source": [
    "b.Method2()"
   ]
  },
  {
   "cell_type": "code",
   "execution_count": null,
   "id": "749bd869-2b1f-4e6d-820c-7893781aaacf",
   "metadata": {},
   "outputs": [],
   "source": []
  },
  {
   "cell_type": "markdown",
   "id": "0b01bc00-335a-44ef-9077-8c2e527c023f",
   "metadata": {},
   "source": [
    "## 1. Single Level Inheritance"
   ]
  },
  {
   "cell_type": "code",
   "execution_count": 61,
   "id": "4faaf120-d826-44ee-a1a7-be06d56ad2ca",
   "metadata": {},
   "outputs": [],
   "source": [
    "class A:          # parent class\n",
    "    def Method1(self): \n",
    "        print(\"Method1 is working for class A\")\n",
    "\n",
    "    def Method2(self): \n",
    "        print(\"Method2 is working for class A\")\n",
    "\n",
    "class B(A):          # child class\n",
    "    def Method3(self): \n",
    "        print(\"Method3 is working for class B\")\n",
    "\n",
    "    def Method4(self): \n",
    "        print(\"Method4 is working for class B\")    \n",
    "\n",
    "b=B()"
   ]
  },
  {
   "cell_type": "code",
   "execution_count": 62,
   "id": "3ad9a002-37a8-4073-b039-d76cac6c6caa",
   "metadata": {},
   "outputs": [
    {
     "name": "stdout",
     "output_type": "stream",
     "text": [
      "Method1 is working for class A\n"
     ]
    }
   ],
   "source": [
    "b.Method1()"
   ]
  },
  {
   "cell_type": "code",
   "execution_count": 63,
   "id": "5f277f0c-d7f9-4a91-8d90-945a34923cfb",
   "metadata": {},
   "outputs": [
    {
     "name": "stdout",
     "output_type": "stream",
     "text": [
      "Method2 is working for class A\n"
     ]
    }
   ],
   "source": [
    "b.Method2()"
   ]
  },
  {
   "cell_type": "code",
   "execution_count": 64,
   "id": "66793760-7457-4c04-aece-742e4d1fc578",
   "metadata": {},
   "outputs": [
    {
     "name": "stdout",
     "output_type": "stream",
     "text": [
      "Method3 is working for class B\n"
     ]
    }
   ],
   "source": [
    "b.Method3()"
   ]
  },
  {
   "cell_type": "code",
   "execution_count": 65,
   "id": "2a1d0086-9670-4d94-8662-fe67ef0e1269",
   "metadata": {},
   "outputs": [
    {
     "name": "stdout",
     "output_type": "stream",
     "text": [
      "Method4 is working for class B\n"
     ]
    }
   ],
   "source": [
    "b.Method4()"
   ]
  },
  {
   "cell_type": "code",
   "execution_count": null,
   "id": "2a575b72-7018-4f28-8fbe-7f11da558400",
   "metadata": {},
   "outputs": [],
   "source": []
  },
  {
   "cell_type": "markdown",
   "id": "18eb5a9f-6022-4ccf-9345-5f09ab289847",
   "metadata": {},
   "source": [
    "## 2. Multi Level Inheritance"
   ]
  },
  {
   "cell_type": "code",
   "execution_count": 66,
   "id": "2f5e9d17-1cc9-448d-80d8-75322b7b020c",
   "metadata": {},
   "outputs": [],
   "source": [
    "class A:           # parent for B \n",
    "    def Method1(self): \n",
    "        print(\"Method1 is working for class A\")\n",
    "\n",
    "    def Method2(self): \n",
    "        print(\"Method2 is working for class A\")\n",
    "\n",
    "class B(A):          # child for A but parent for C\n",
    "    def Method3(self): \n",
    "        print(\"Method3 is working for class B\")\n",
    "\n",
    "    def Method4(self): \n",
    "        print(\"Method4 is working for class B\")    \n",
    "\n",
    "class C(B):          # child for B\n",
    "    def Method5(self):  \n",
    "        print(\"Method5 is working for class C\")\n",
    "\n",
    "c=C()"
   ]
  },
  {
   "cell_type": "code",
   "execution_count": 67,
   "id": "2d280526-2ae9-458c-9347-83c5b51716a6",
   "metadata": {},
   "outputs": [
    {
     "name": "stdout",
     "output_type": "stream",
     "text": [
      "Method5 is working for class C\n"
     ]
    }
   ],
   "source": [
    "c.Method5()"
   ]
  },
  {
   "cell_type": "code",
   "execution_count": 68,
   "id": "ee80d3d3-42a2-43fb-b2cc-82165b7d1484",
   "metadata": {},
   "outputs": [
    {
     "name": "stdout",
     "output_type": "stream",
     "text": [
      "Method1 is working for class A\n"
     ]
    }
   ],
   "source": [
    "c.Method1()"
   ]
  },
  {
   "cell_type": "code",
   "execution_count": 69,
   "id": "a98216c9-24f6-4480-89e5-c0041b84e2f8",
   "metadata": {},
   "outputs": [
    {
     "name": "stdout",
     "output_type": "stream",
     "text": [
      "Method3 is working for class B\n"
     ]
    }
   ],
   "source": [
    "c.Method3()"
   ]
  },
  {
   "cell_type": "code",
   "execution_count": null,
   "id": "3f81c525-2f30-4948-8f05-c1fc36f6e183",
   "metadata": {},
   "outputs": [],
   "source": []
  },
  {
   "cell_type": "markdown",
   "id": "3b059cf6-a6d6-422d-afd7-3b8040ddc108",
   "metadata": {},
   "source": [
    "## 3. Multiple Inheritance "
   ]
  },
  {
   "cell_type": "code",
   "execution_count": 70,
   "id": "22674b7e-06f0-4cb2-8ec0-5e7b812422b6",
   "metadata": {},
   "outputs": [],
   "source": [
    "class A:            \n",
    "    def Method1(self): \n",
    "        print(\"Method1 is working for class A\")\n",
    "\n",
    "    def Method2(self): \n",
    "        print(\"Method2 is working for class A\")\n",
    "\n",
    "class B():     \n",
    "    def Method1(self): \n",
    "        print(\"Method1 is working for class B\")\n",
    "        \n",
    "    def Method3(self): \n",
    "        print(\"Method3 is working for class B\")\n",
    "\n",
    "    def Method4(self): \n",
    "        print(\"Method4 is working for class B\")    \n",
    "\n",
    "class C(A,B):          # child for A and B    \n",
    "    def Method5(self):  \n",
    "        print(\"Method5 is working for class C\")\n",
    "\n",
    "c=C()"
   ]
  },
  {
   "cell_type": "code",
   "execution_count": 71,
   "id": "0691854e-8034-47d6-8f21-47377efb4ebd",
   "metadata": {},
   "outputs": [
    {
     "name": "stdout",
     "output_type": "stream",
     "text": [
      "Method1 is working for class A\n"
     ]
    }
   ],
   "source": [
    "c.Method1()"
   ]
  },
  {
   "cell_type": "code",
   "execution_count": 73,
   "id": "66f5e4b4-8db1-4645-a016-1eba96a8dff2",
   "metadata": {},
   "outputs": [],
   "source": [
    "class A:            \n",
    "    def Method1(self): \n",
    "        print(\"Method1 is working for class A\")\n",
    "\n",
    "    def Method2(self): \n",
    "        print(\"Method2 is working for class A\")\n",
    "\n",
    "class B():     \n",
    "    def Method1(self): \n",
    "        print(\"Method1 is working for class B\")\n",
    "        \n",
    "    def Method3(self): \n",
    "        print(\"Method3 is working for class B\")\n",
    "\n",
    "    def Method4(self): \n",
    "        print(\"Method4 is working for class B\")    \n",
    "\n",
    "class C(B,A):          # child for A and B    \n",
    "    def Method5(self):  \n",
    "        print(\"Method5 is working for class C\")\n",
    "\n",
    "c=C()"
   ]
  },
  {
   "cell_type": "code",
   "execution_count": 74,
   "id": "8219640c-9340-4f7b-8a0f-ddf1e43851b9",
   "metadata": {},
   "outputs": [
    {
     "name": "stdout",
     "output_type": "stream",
     "text": [
      "Method1 is working for class B\n"
     ]
    }
   ],
   "source": [
    "c.Method1()"
   ]
  },
  {
   "cell_type": "code",
   "execution_count": null,
   "id": "9e33046a-f241-4612-8eda-1aa2c62d7178",
   "metadata": {},
   "outputs": [],
   "source": []
  },
  {
   "cell_type": "markdown",
   "id": "56c88748-c2d9-4c44-8889-3672ba23b054",
   "metadata": {},
   "source": [
    "## 4. Herirachial Inheritance & 5. Hybrid Inheritance \n",
    "- Used rarely due to complex structure"
   ]
  },
  {
   "cell_type": "code",
   "execution_count": null,
   "id": "56d267c3-4bea-4eab-a7d9-a2e9293a1b1a",
   "metadata": {},
   "outputs": [],
   "source": []
  },
  {
   "cell_type": "code",
   "execution_count": null,
   "id": "ffa6d0e9-d4d9-4ac1-9bd6-1988a54593a0",
   "metadata": {},
   "outputs": [],
   "source": []
  },
  {
   "cell_type": "markdown",
   "id": "26fe0766-c795-4006-87c7-2f51b2753ae8",
   "metadata": {},
   "source": [
    "# **Constructor in Inheritance** "
   ]
  },
  {
   "cell_type": "code",
   "execution_count": 75,
   "id": "3d6976bb-cb07-4e2e-9ba3-90e72a7dcada",
   "metadata": {},
   "outputs": [
    {
     "name": "stdout",
     "output_type": "stream",
     "text": [
      "init of Class C\n"
     ]
    }
   ],
   "source": [
    "class A:  \n",
    "    def __init__(self): \n",
    "        print(\"init of Class A\")\n",
    "        \n",
    "    def Method1(self): \n",
    "        print(\"Method1 is working for class A\")\n",
    "\n",
    "    def Method2(self): \n",
    "        print(\"Method2 is working for class A\")\n",
    "\n",
    "class B():   \n",
    "    def __init__(self): \n",
    "        print(\"init of Class B\")    \n",
    "        \n",
    "    def Method1(self): \n",
    "        print(\"Method1 is working for class B\")\n",
    "        \n",
    "    def Method3(self): \n",
    "        print(\"Method3 is working for class B\")\n",
    "\n",
    "    def Method4(self): \n",
    "        print(\"Method4 is working for class B\")    \n",
    "\n",
    "class C(A,B):          # child for A and B \n",
    "    def __init__(self): \n",
    "        print(\"init of Class C\")\n",
    "        \n",
    "    def Method5(self):  \n",
    "        print(\"Method5 is working for class C\")\n",
    "\n",
    "c=C()"
   ]
  },
  {
   "cell_type": "code",
   "execution_count": 79,
   "id": "3162eeb5-b7c1-4159-97fd-d27b88476bc7",
   "metadata": {},
   "outputs": [
    {
     "name": "stdout",
     "output_type": "stream",
     "text": [
      "init of Class A\n"
     ]
    }
   ],
   "source": [
    "class A:  \n",
    "    def __init__(self): \n",
    "        print(\"init of Class A\")\n",
    "        \n",
    "    def Method1(self): \n",
    "        print(\"Method1 is working for class A\")\n",
    "\n",
    "    def Method2(self): \n",
    "        print(\"Method2 is working for class A\")\n",
    "\n",
    "class B():   \n",
    "    def __init__(self): \n",
    "        print(\"init of Class B\")    \n",
    "        \n",
    "    def Method1(self): \n",
    "        print(\"Method1 is working for class B\")\n",
    "        \n",
    "    def Method3(self): \n",
    "        print(\"Method3 is working for class B\")\n",
    "\n",
    "    def Method4(self): \n",
    "        print(\"Method4 is working for class B\")    \n",
    "\n",
    "class C(A,B):          # child for A and B \n",
    "    # def __init__(self): \n",
    "    #     print(\"init of Class C\")\n",
    "        \n",
    "    def Method5(self):  \n",
    "        print(\"Method5 is working for class C\")\n",
    "\n",
    "c=C()"
   ]
  },
  {
   "cell_type": "code",
   "execution_count": null,
   "id": "d61579ef-c36e-41f8-88ed-b35ef0f376c8",
   "metadata": {},
   "outputs": [],
   "source": []
  },
  {
   "cell_type": "code",
   "execution_count": 89,
   "id": "3c761491-af99-4db2-9748-f8d1d1837d93",
   "metadata": {},
   "outputs": [
    {
     "name": "stdout",
     "output_type": "stream",
     "text": [
      "init of Class A\n",
      "init of Class C\n"
     ]
    }
   ],
   "source": [
    "class A:  \n",
    "    def __init__(self): \n",
    "        print(\"init of Class A\")\n",
    "        \n",
    "    def Method1(self): \n",
    "        print(\"Method1 is working for class A\")\n",
    "\n",
    "    def Method2(self): \n",
    "        print(\"Method2 is working for class A\")\n",
    "\n",
    "class B():   \n",
    "    def __init__(self): \n",
    "        print(\"init of Class B\")    \n",
    "        \n",
    "    def Method1(self): \n",
    "        print(\"Method1 is working for class B\")\n",
    "        \n",
    "    def Method3(self): \n",
    "        print(\"Method3 is working for class B\")\n",
    "\n",
    "    def Method4(self): \n",
    "        print(\"Method4 is working for class B\")    \n",
    "\n",
    "class C(A,B):          # child for A and B \n",
    "    def __init__(self): \n",
    "        super().__init__()         # used for accessing the constructor of class A\n",
    "        print(\"init of Class C\")\n",
    "        \n",
    "    def Method5(self):  \n",
    "        print(\"Method5 is working for class C\")\n",
    "\n",
    "c=C()"
   ]
  },
  {
   "cell_type": "code",
   "execution_count": 91,
   "id": "c7f71720-3627-4221-ad09-e9b437999086",
   "metadata": {},
   "outputs": [
    {
     "name": "stdout",
     "output_type": "stream",
     "text": [
      "init of Class A\n",
      "init of Class B\n",
      "init of Class C\n"
     ]
    }
   ],
   "source": [
    "class A:  \n",
    "    def __init__(self): \n",
    "        print(\"init of Class A\")\n",
    "        \n",
    "    def Method1(self): \n",
    "        print(\"Method1 is working for class A\")\n",
    "\n",
    "    def Method2(self): \n",
    "        print(\"Method2 is working for class A\")\n",
    "\n",
    "class B():   \n",
    "    def __init__(self): \n",
    "        print(\"init of Class B\")    \n",
    "        \n",
    "    def Method1(self): \n",
    "        print(\"Method1 is working for class B\")\n",
    "        \n",
    "    def Method3(self): \n",
    "        print(\"Method3 is working for class B\")\n",
    "\n",
    "    def Method4(self): \n",
    "        print(\"Method4 is working for class B\")    \n",
    "\n",
    "class C(A,B):          # child for A and B \n",
    "    def __init__(self): \n",
    "        super().__init__()         # used for calling multiple constructor of classes\n",
    "        B.__init__(self)\n",
    "        print(\"init of Class C\")\n",
    "        \n",
    "    def Method5(self):  \n",
    "        print(\"Method5 is working for class C\")\n",
    "\n",
    "c=C()"
   ]
  },
  {
   "cell_type": "code",
   "execution_count": null,
   "id": "0515f628-daa8-4d8e-b170-e8f3d1663bd7",
   "metadata": {},
   "outputs": [],
   "source": []
  },
  {
   "cell_type": "code",
   "execution_count": 96,
   "id": "0f885ec9-ec8e-424a-8b31-bd5be7e6155b",
   "metadata": {},
   "outputs": [
    {
     "name": "stdout",
     "output_type": "stream",
     "text": [
      "init of Class A\n",
      "init of Class B\n",
      "init of Class C\n"
     ]
    }
   ],
   "source": [
    "class A:  \n",
    "    def __init__(self): \n",
    "        print(\"init of Class A\")\n",
    "        \n",
    "    def Method1(self): \n",
    "        print(\"Method1 is working for class A\")\n",
    "\n",
    "    def Method2(self): \n",
    "        print(\"Method2 is working for class A\")\n",
    "\n",
    "class B():   \n",
    "    def __init__(self): \n",
    "        print(\"init of Class B\")    \n",
    "        \n",
    "    def Method1(self): \n",
    "        print(\"Method1 is working for class B\")\n",
    "        \n",
    "    def Method3(self): \n",
    "        print(\"Method3 is working for class B\")\n",
    "\n",
    "    def Method4(self): \n",
    "        print(\"Method4 is working for class B\")    \n",
    "\n",
    "class C(A,B):          # child for A and B \n",
    "    def __init__(self): \n",
    "        super().__init__()         # used for calling multiple constructor of classes\n",
    "        B.__init__(self)\n",
    "        print(\"init of Class C\")\n",
    "        \n",
    "    def Method5(self):  \n",
    "        super().Method1()\n",
    "        print(\"Method5 is working for class C\")\n",
    "\n",
    "c=C()"
   ]
  },
  {
   "cell_type": "code",
   "execution_count": 97,
   "id": "2c71360b-5656-47bc-bc74-b5341beb249f",
   "metadata": {},
   "outputs": [
    {
     "name": "stdout",
     "output_type": "stream",
     "text": [
      "Method1 is working for class A\n",
      "Method5 is working for class C\n"
     ]
    }
   ],
   "source": [
    "c.Method5()"
   ]
  },
  {
   "cell_type": "code",
   "execution_count": null,
   "id": "cc1b5ed9-f13e-4eb5-8320-6a17166986ce",
   "metadata": {},
   "outputs": [],
   "source": []
  },
  {
   "cell_type": "markdown",
   "id": "296b17b2-e5e2-4da8-ab91-e9be3691effb",
   "metadata": {},
   "source": [
    "### Task- 25.OOP's"
   ]
  },
  {
   "cell_type": "code",
   "execution_count": 9,
   "id": "7be49b2e-13f8-4300-b983-621e52503497",
   "metadata": {},
   "outputs": [],
   "source": [
    "class Person:\n",
    "    def __init__(self, lname, fname, phone, email):  \n",
    "        self.lname=lname \n",
    "        self.fname=fname\n",
    "        self.phone=phone\n",
    "        self.email=email\n",
    "\n",
    "    def __str__(self): \n",
    "        if type(self.email)==list:  \n",
    "            v=','.join(self.email)\n",
    "            return f\"{self.lname}, {self.fname} -- Phone Number: {self.phone} -- Email Address(es): {v}\"\n",
    "        else: \n",
    "            return f\"{self.lname}, {self.fname} -- Phone Number: {self.phone} -- Email Address(es): {self.email}\"\n",
    "\n",
    "\n",
    "Emily=Person(\"Zhang\",\"Emily\",\"5559358150\",\"emzhang@mit.edu\")\n",
    "Wesley=Person(\"Graybill\",\"Wesley\",\"5554885265\",[\"wgray497@mit.edu\",\"wdgraybill@gmail.com\"])"
   ]
  },
  {
   "cell_type": "code",
   "execution_count": 10,
   "id": "fb92443b-4495-46dd-af48-626862925261",
   "metadata": {},
   "outputs": [
    {
     "name": "stdout",
     "output_type": "stream",
     "text": [
      "Zhang, Emily -- Phone Number: 5559358150 -- Email Address(es): emzhang@mit.edu\n",
      "Graybill, Wesley -- Phone Number: 5554885265 -- Email Address(es): wgray497@mit.edu,wdgraybill@gmail.com\n"
     ]
    }
   ],
   "source": [
    "print(Emily)\n",
    "print(Wesley)"
   ]
  },
  {
   "cell_type": "code",
   "execution_count": null,
   "id": "982c1373-0107-491e-9143-9ed1834cc0f5",
   "metadata": {},
   "outputs": [],
   "source": []
  }
 ],
 "metadata": {
  "kernelspec": {
   "display_name": "Python 3 (ipykernel)",
   "language": "python",
   "name": "python3"
  },
  "language_info": {
   "codemirror_mode": {
    "name": "ipython",
    "version": 3
   },
   "file_extension": ".py",
   "mimetype": "text/x-python",
   "name": "python",
   "nbconvert_exporter": "python",
   "pygments_lexer": "ipython3",
   "version": "3.12.7"
  }
 },
 "nbformat": 4,
 "nbformat_minor": 5
}
